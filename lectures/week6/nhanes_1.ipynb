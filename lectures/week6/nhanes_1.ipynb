{
 "cells": [
  {
   "cell_type": "code",
   "execution_count": 2,
   "id": "838dbc46",
   "metadata": {
    "slideshow": {
     "slide_type": "notes"
    }
   },
   "outputs": [
    {
     "name": "stderr",
     "output_type": "stream",
     "text": [
      "── \u001b[1mAttaching core tidyverse packages\u001b[22m ──────────────────────────────────────────────────────────────────────────────────────────────────────────────────────────── tidyverse 2.0.0 ──\n",
      "\u001b[32m✔\u001b[39m \u001b[34mdplyr    \u001b[39m 1.1.4     \u001b[32m✔\u001b[39m \u001b[34mreadr    \u001b[39m 2.1.5\n",
      "\u001b[32m✔\u001b[39m \u001b[34mforcats  \u001b[39m 1.0.0     \u001b[32m✔\u001b[39m \u001b[34mstringr  \u001b[39m 1.5.1\n",
      "\u001b[32m✔\u001b[39m \u001b[34mggplot2  \u001b[39m 3.4.0     \u001b[32m✔\u001b[39m \u001b[34mtibble   \u001b[39m 3.2.1\n",
      "\u001b[32m✔\u001b[39m \u001b[34mlubridate\u001b[39m 1.9.3     \u001b[32m✔\u001b[39m \u001b[34mtidyr    \u001b[39m 1.3.1\n",
      "\u001b[32m✔\u001b[39m \u001b[34mpurrr    \u001b[39m 1.0.2     \n",
      "── \u001b[1mConflicts\u001b[22m ────────────────────────────────────────────────────────────────────────────────────────────────────────────────────────────────────────────── tidyverse_conflicts() ──\n",
      "\u001b[31m✖\u001b[39m \u001b[34mdplyr\u001b[39m::\u001b[32mfilter()\u001b[39m  masks \u001b[34mstats\u001b[39m::filter()\n",
      "\u001b[31m✖\u001b[39m \u001b[34mpurrr\u001b[39m::\u001b[32mflatten()\u001b[39m masks \u001b[34mjsonlite\u001b[39m::flatten()\n",
      "\u001b[31m✖\u001b[39m \u001b[34mdplyr\u001b[39m::\u001b[32mlag()\u001b[39m     masks \u001b[34mstats\u001b[39m::lag()\n",
      "\u001b[36mℹ\u001b[39m Use the conflicted package (\u001b[3m\u001b[34m<http://conflicted.r-lib.org/>\u001b[39m\u001b[23m) to force all conflicts to become errors\n"
     ]
    }
   ],
   "source": [
    "library(tidyverse)\n",
    "theme_set(theme_classic())\n",
    "options(repr.plot.width=10, repr.plot.height=5)"
   ]
  },
  {
   "cell_type": "markdown",
   "id": "8c16043a",
   "metadata": {
    "slideshow": {
     "slide_type": "slide"
    }
   },
   "source": [
    "# STATS 504\n",
    "## Week 6: NHANES data"
   ]
  },
  {
   "cell_type": "markdown",
   "id": "ab23f5ba",
   "metadata": {
    "slideshow": {
     "slide_type": "slide"
    }
   },
   "source": [
    "## Questions we will study today\n",
    "1. Is height associated with income? (Does height *cause* you to have higher income?)\n",
    "2. Is smoking associated with high blood pressure (hypertension)?\n",
    "3. How does TV watching affect body weight?"
   ]
  },
  {
   "cell_type": "markdown",
   "id": "2e5fa63a",
   "metadata": {
    "slideshow": {
     "slide_type": "slide"
    }
   },
   "source": [
    "## The data\n",
    "\n",
    "- [**NHANES**](https://www.cdc.gov/nchs/nhanes/index.htm) stands for the National Health and Nutrition Examination Survey.\n",
    "- Series of studies designed to assess the health and nutritional status of adults and children in the United States.\n",
    "- Conducted by the National Center for Health Statistics (NCHS), part of the Centers for Disease Control and Prevention (CDC)."
   ]
  },
  {
   "cell_type": "markdown",
   "id": "897e1536",
   "metadata": {
    "slideshow": {
     "slide_type": "slide"
    }
   },
   "source": [
    "## Purpose of NHANES\n",
    "\n",
    "- To determine the prevalence of major diseases and risk factors for diseases.\n",
    "- To assess nutritional status and its association with health promotion and disease prevention.\n",
    "- To guide public health policy and priorities.\n"
   ]
  },
  {
   "cell_type": "markdown",
   "id": "769279a8",
   "metadata": {
    "slideshow": {
     "slide_type": "slide"
    }
   },
   "source": [
    "\n",
    "## How NHANES Works\n",
    "\n",
    "- NHANES combines interviews and physical examinations.\n",
    "- The interview includes demographic, socioeconomic, dietary, and health-related questions.\n",
    "- The examination part includes medical, dental, and physiological measurements, as well as laboratory tests administered by medical personnel.\n",
    "- NHANES data is collected in 2-year cycles and released in public-use data files."
   ]
  },
  {
   "cell_type": "markdown",
   "id": "0a96dab4",
   "metadata": {
    "slideshow": {
     "slide_type": "notes"
    }
   },
   "source": [
    "For today's lecture we will use the following \"pre-packaged\" NHANES extracted dataset:"
   ]
  },
  {
   "cell_type": "code",
   "execution_count": 3,
   "id": "356d2934",
   "metadata": {
    "slideshow": {
     "slide_type": "slide"
    }
   },
   "outputs": [
    {
     "data": {
      "text/html": [
       "<table class=\"dataframe\">\n",
       "<caption>A tibble: 6 × 76</caption>\n",
       "<thead>\n",
       "\t<tr><th scope=col>ID</th><th scope=col>SurveyYr</th><th scope=col>Gender</th><th scope=col>Age</th><th scope=col>AgeDecade</th><th scope=col>AgeMonths</th><th scope=col>Race1</th><th scope=col>Race3</th><th scope=col>Education</th><th scope=col>MaritalStatus</th><th scope=col>⋯</th><th scope=col>RegularMarij</th><th scope=col>AgeRegMarij</th><th scope=col>HardDrugs</th><th scope=col>SexEver</th><th scope=col>SexAge</th><th scope=col>SexNumPartnLife</th><th scope=col>SexNumPartYear</th><th scope=col>SameSex</th><th scope=col>SexOrientation</th><th scope=col>PregnantNow</th></tr>\n",
       "\t<tr><th scope=col>&lt;int&gt;</th><th scope=col>&lt;fct&gt;</th><th scope=col>&lt;fct&gt;</th><th scope=col>&lt;int&gt;</th><th scope=col>&lt;fct&gt;</th><th scope=col>&lt;int&gt;</th><th scope=col>&lt;fct&gt;</th><th scope=col>&lt;fct&gt;</th><th scope=col>&lt;fct&gt;</th><th scope=col>&lt;fct&gt;</th><th scope=col>⋯</th><th scope=col>&lt;fct&gt;</th><th scope=col>&lt;int&gt;</th><th scope=col>&lt;fct&gt;</th><th scope=col>&lt;fct&gt;</th><th scope=col>&lt;int&gt;</th><th scope=col>&lt;int&gt;</th><th scope=col>&lt;int&gt;</th><th scope=col>&lt;fct&gt;</th><th scope=col>&lt;fct&gt;</th><th scope=col>&lt;fct&gt;</th></tr>\n",
       "</thead>\n",
       "<tbody>\n",
       "\t<tr><td>51624</td><td>2009_10</td><td>male  </td><td>34</td><td> 30-39</td><td>409</td><td>White</td><td>NA</td><td>High School </td><td>Married    </td><td>⋯</td><td>No</td><td>NA</td><td>Yes</td><td>Yes</td><td>16</td><td> 8</td><td> 1</td><td>No </td><td>Heterosexual</td><td>NA</td></tr>\n",
       "\t<tr><td>51624</td><td>2009_10</td><td>male  </td><td>34</td><td> 30-39</td><td>409</td><td>White</td><td>NA</td><td>High School </td><td>Married    </td><td>⋯</td><td>No</td><td>NA</td><td>Yes</td><td>Yes</td><td>16</td><td> 8</td><td> 1</td><td>No </td><td>Heterosexual</td><td>NA</td></tr>\n",
       "\t<tr><td>51624</td><td>2009_10</td><td>male  </td><td>34</td><td> 30-39</td><td>409</td><td>White</td><td>NA</td><td>High School </td><td>Married    </td><td>⋯</td><td>No</td><td>NA</td><td>Yes</td><td>Yes</td><td>16</td><td> 8</td><td> 1</td><td>No </td><td>Heterosexual</td><td>NA</td></tr>\n",
       "\t<tr><td>51625</td><td>2009_10</td><td>male  </td><td> 4</td><td> 0-9  </td><td> 49</td><td>Other</td><td>NA</td><td>NA          </td><td>NA         </td><td>⋯</td><td>NA</td><td>NA</td><td>NA </td><td>NA </td><td>NA</td><td>NA</td><td>NA</td><td>NA </td><td>NA          </td><td>NA</td></tr>\n",
       "\t<tr><td>51630</td><td>2009_10</td><td>female</td><td>49</td><td> 40-49</td><td>596</td><td>White</td><td>NA</td><td>Some College</td><td>LivePartner</td><td>⋯</td><td>No</td><td>NA</td><td>Yes</td><td>Yes</td><td>12</td><td>10</td><td> 1</td><td>Yes</td><td>Heterosexual</td><td>NA</td></tr>\n",
       "\t<tr><td>51638</td><td>2009_10</td><td>male  </td><td> 9</td><td> 0-9  </td><td>115</td><td>White</td><td>NA</td><td>NA          </td><td>NA         </td><td>⋯</td><td>NA</td><td>NA</td><td>NA </td><td>NA </td><td>NA</td><td>NA</td><td>NA</td><td>NA </td><td>NA          </td><td>NA</td></tr>\n",
       "</tbody>\n",
       "</table>\n"
      ],
      "text/latex": [
       "A tibble: 6 × 76\n",
       "\\begin{tabular}{lllllllllllllllllllll}\n",
       " ID & SurveyYr & Gender & Age & AgeDecade & AgeMonths & Race1 & Race3 & Education & MaritalStatus & ⋯ & RegularMarij & AgeRegMarij & HardDrugs & SexEver & SexAge & SexNumPartnLife & SexNumPartYear & SameSex & SexOrientation & PregnantNow\\\\\n",
       " <int> & <fct> & <fct> & <int> & <fct> & <int> & <fct> & <fct> & <fct> & <fct> & ⋯ & <fct> & <int> & <fct> & <fct> & <int> & <int> & <int> & <fct> & <fct> & <fct>\\\\\n",
       "\\hline\n",
       "\t 51624 & 2009\\_10 & male   & 34 &  30-39 & 409 & White & NA & High School  & Married     & ⋯ & No & NA & Yes & Yes & 16 &  8 &  1 & No  & Heterosexual & NA\\\\\n",
       "\t 51624 & 2009\\_10 & male   & 34 &  30-39 & 409 & White & NA & High School  & Married     & ⋯ & No & NA & Yes & Yes & 16 &  8 &  1 & No  & Heterosexual & NA\\\\\n",
       "\t 51624 & 2009\\_10 & male   & 34 &  30-39 & 409 & White & NA & High School  & Married     & ⋯ & No & NA & Yes & Yes & 16 &  8 &  1 & No  & Heterosexual & NA\\\\\n",
       "\t 51625 & 2009\\_10 & male   &  4 &  0-9   &  49 & Other & NA & NA           & NA          & ⋯ & NA & NA & NA  & NA  & NA & NA & NA & NA  & NA           & NA\\\\\n",
       "\t 51630 & 2009\\_10 & female & 49 &  40-49 & 596 & White & NA & Some College & LivePartner & ⋯ & No & NA & Yes & Yes & 12 & 10 &  1 & Yes & Heterosexual & NA\\\\\n",
       "\t 51638 & 2009\\_10 & male   &  9 &  0-9   & 115 & White & NA & NA           & NA          & ⋯ & NA & NA & NA  & NA  & NA & NA & NA & NA  & NA           & NA\\\\\n",
       "\\end{tabular}\n"
      ],
      "text/markdown": [
       "\n",
       "A tibble: 6 × 76\n",
       "\n",
       "| ID &lt;int&gt; | SurveyYr &lt;fct&gt; | Gender &lt;fct&gt; | Age &lt;int&gt; | AgeDecade &lt;fct&gt; | AgeMonths &lt;int&gt; | Race1 &lt;fct&gt; | Race3 &lt;fct&gt; | Education &lt;fct&gt; | MaritalStatus &lt;fct&gt; | ⋯ ⋯ | RegularMarij &lt;fct&gt; | AgeRegMarij &lt;int&gt; | HardDrugs &lt;fct&gt; | SexEver &lt;fct&gt; | SexAge &lt;int&gt; | SexNumPartnLife &lt;int&gt; | SexNumPartYear &lt;int&gt; | SameSex &lt;fct&gt; | SexOrientation &lt;fct&gt; | PregnantNow &lt;fct&gt; |\n",
       "|---|---|---|---|---|---|---|---|---|---|---|---|---|---|---|---|---|---|---|---|---|\n",
       "| 51624 | 2009_10 | male   | 34 |  30-39 | 409 | White | NA | High School  | Married     | ⋯ | No | NA | Yes | Yes | 16 |  8 |  1 | No  | Heterosexual | NA |\n",
       "| 51624 | 2009_10 | male   | 34 |  30-39 | 409 | White | NA | High School  | Married     | ⋯ | No | NA | Yes | Yes | 16 |  8 |  1 | No  | Heterosexual | NA |\n",
       "| 51624 | 2009_10 | male   | 34 |  30-39 | 409 | White | NA | High School  | Married     | ⋯ | No | NA | Yes | Yes | 16 |  8 |  1 | No  | Heterosexual | NA |\n",
       "| 51625 | 2009_10 | male   |  4 |  0-9   |  49 | Other | NA | NA           | NA          | ⋯ | NA | NA | NA  | NA  | NA | NA | NA | NA  | NA           | NA |\n",
       "| 51630 | 2009_10 | female | 49 |  40-49 | 596 | White | NA | Some College | LivePartner | ⋯ | No | NA | Yes | Yes | 12 | 10 |  1 | Yes | Heterosexual | NA |\n",
       "| 51638 | 2009_10 | male   |  9 |  0-9   | 115 | White | NA | NA           | NA          | ⋯ | NA | NA | NA  | NA  | NA | NA | NA | NA  | NA           | NA |\n",
       "\n"
      ],
      "text/plain": [
       "  ID    SurveyYr Gender Age AgeDecade AgeMonths Race1 Race3 Education   \n",
       "1 51624 2009_10  male   34   30-39    409       White NA    High School \n",
       "2 51624 2009_10  male   34   30-39    409       White NA    High School \n",
       "3 51624 2009_10  male   34   30-39    409       White NA    High School \n",
       "4 51625 2009_10  male    4   0-9       49       Other NA    NA          \n",
       "5 51630 2009_10  female 49   40-49    596       White NA    Some College\n",
       "6 51638 2009_10  male    9   0-9      115       White NA    NA          \n",
       "  MaritalStatus ⋯ RegularMarij AgeRegMarij HardDrugs SexEver SexAge\n",
       "1 Married       ⋯ No           NA          Yes       Yes     16    \n",
       "2 Married       ⋯ No           NA          Yes       Yes     16    \n",
       "3 Married       ⋯ No           NA          Yes       Yes     16    \n",
       "4 NA            ⋯ NA           NA          NA        NA      NA    \n",
       "5 LivePartner   ⋯ No           NA          Yes       Yes     12    \n",
       "6 NA            ⋯ NA           NA          NA        NA      NA    \n",
       "  SexNumPartnLife SexNumPartYear SameSex SexOrientation PregnantNow\n",
       "1  8               1             No      Heterosexual   NA         \n",
       "2  8               1             No      Heterosexual   NA         \n",
       "3  8               1             No      Heterosexual   NA         \n",
       "4 NA              NA             NA      NA             NA         \n",
       "5 10               1             Yes     Heterosexual   NA         \n",
       "6 NA              NA             NA      NA             NA         "
      ]
     },
     "metadata": {},
     "output_type": "display_data"
    }
   ],
   "source": [
    "# install.packages('NHANES')\n",
    "library(NHANES)\n",
    "data(NHANES)\n",
    "\n",
    "NHANES %>% head"
   ]
  },
  {
   "cell_type": "markdown",
   "id": "2b41b921",
   "metadata": {
    "slideshow": {
     "slide_type": "notes"
    }
   },
   "source": [
    "(Next lecture, we will see how to import the raw data directly off their website.)"
   ]
  },
  {
   "cell_type": "code",
   "execution_count": 7,
   "id": "3a2c0ffa",
   "metadata": {
    "slideshow": {
     "slide_type": "slide"
    }
   },
   "outputs": [],
   "source": [
    "?NHANES"
   ]
  },
  {
   "cell_type": "markdown",
   "id": "9f1bfbd1",
   "metadata": {
    "slideshow": {
     "slide_type": "slide"
    }
   },
   "source": [
    "## Height vs. income\n",
    "It is often claimed that taller people earn more money. Do we see this in the data?"
   ]
  },
  {
   "cell_type": "code",
   "execution_count": 4,
   "id": "737fa84c",
   "metadata": {
    "slideshow": {
     "slide_type": "slide"
    }
   },
   "outputs": [],
   "source": [
    "# plot the joint distribution of HHIncome and Height"
   ]
  },
  {
   "cell_type": "code",
   "execution_count": 5,
   "id": "d35a3f02",
   "metadata": {
    "slideshow": {
     "slide_type": "slide"
    }
   },
   "outputs": [],
   "source": [
    "# regression of HHIncome on Height"
   ]
  },
  {
   "cell_type": "markdown",
   "id": "d641b987",
   "metadata": {
    "slideshow": {
     "slide_type": "slide"
    }
   },
   "source": [
    "Let's try stratifying income into quartiles:"
   ]
  },
  {
   "cell_type": "code",
   "execution_count": 12,
   "id": "b237b081",
   "metadata": {
    "slideshow": {
     "slide_type": "slide"
    }
   },
   "outputs": [
    {
     "data": {
      "text/html": [
       "<table class=\"dataframe\">\n",
       "<caption>A tibble: 6 × 3</caption>\n",
       "<thead>\n",
       "\t<tr><th scope=col>HHIncome</th><th scope=col>HHIncomeMid</th><th scope=col>inc_qtile</th></tr>\n",
       "\t<tr><th scope=col>&lt;fct&gt;</th><th scope=col>&lt;int&gt;</th><th scope=col>&lt;fct&gt;</th></tr>\n",
       "</thead>\n",
       "<tbody>\n",
       "\t<tr><td>25000-34999</td><td>30000</td><td>1</td></tr>\n",
       "\t<tr><td>25000-34999</td><td>30000</td><td>1</td></tr>\n",
       "\t<tr><td>25000-34999</td><td>30000</td><td>1</td></tr>\n",
       "\t<tr><td>20000-24999</td><td>22500</td><td>1</td></tr>\n",
       "\t<tr><td>35000-44999</td><td>40000</td><td>2</td></tr>\n",
       "\t<tr><td>75000-99999</td><td>87500</td><td>3</td></tr>\n",
       "</tbody>\n",
       "</table>\n"
      ],
      "text/latex": [
       "A tibble: 6 × 3\n",
       "\\begin{tabular}{lll}\n",
       " HHIncome & HHIncomeMid & inc\\_qtile\\\\\n",
       " <fct> & <int> & <fct>\\\\\n",
       "\\hline\n",
       "\t 25000-34999 & 30000 & 1\\\\\n",
       "\t 25000-34999 & 30000 & 1\\\\\n",
       "\t 25000-34999 & 30000 & 1\\\\\n",
       "\t 20000-24999 & 22500 & 1\\\\\n",
       "\t 35000-44999 & 40000 & 2\\\\\n",
       "\t 75000-99999 & 87500 & 3\\\\\n",
       "\\end{tabular}\n"
      ],
      "text/markdown": [
       "\n",
       "A tibble: 6 × 3\n",
       "\n",
       "| HHIncome &lt;fct&gt; | HHIncomeMid &lt;int&gt; | inc_qtile &lt;fct&gt; |\n",
       "|---|---|---|\n",
       "| 25000-34999 | 30000 | 1 |\n",
       "| 25000-34999 | 30000 | 1 |\n",
       "| 25000-34999 | 30000 | 1 |\n",
       "| 20000-24999 | 22500 | 1 |\n",
       "| 35000-44999 | 40000 | 2 |\n",
       "| 75000-99999 | 87500 | 3 |\n",
       "\n"
      ],
      "text/plain": [
       "  HHIncome    HHIncomeMid inc_qtile\n",
       "1 25000-34999 30000       1        \n",
       "2 25000-34999 30000       1        \n",
       "3 25000-34999 30000       1        \n",
       "4 20000-24999 22500       1        \n",
       "5 35000-44999 40000       2        \n",
       "6 75000-99999 87500       3        "
      ]
     },
     "metadata": {},
     "output_type": "display_data"
    }
   ],
   "source": [
    "NHANES %>% drop_na(Height, HHIncomeMid) %>% \n",
    "    mutate(inc_qtile = factor(ntile(HHIncomeMid, 4))) ->\n",
    "    inc_q\n",
    "\n",
    "inc_q %>% select(HHIncome, HHIncomeMid, inc_qtile) %>% head"
   ]
  },
  {
   "cell_type": "code",
   "execution_count": 18,
   "id": "9cda0427",
   "metadata": {
    "slideshow": {
     "slide_type": "slide"
    }
   },
   "outputs": [
    {
     "data": {
      "text/html": [
       "<table class=\"dataframe\">\n",
       "<caption>A tibble: 4 × 3</caption>\n",
       "<thead>\n",
       "\t<tr><th scope=col>inc_qtile</th><th scope=col>m</th><th scope=col>sem</th></tr>\n",
       "\t<tr><th scope=col>&lt;fct&gt;</th><th scope=col>&lt;dbl&gt;</th><th scope=col>&lt;dbl&gt;</th></tr>\n",
       "</thead>\n",
       "<tbody>\n",
       "\t<tr><td>1</td><td>158.7277</td><td>0.4452194</td></tr>\n",
       "\t<tr><td>2</td><td>160.5639</td><td>0.4459935</td></tr>\n",
       "\t<tr><td>3</td><td>164.0453</td><td>0.4085916</td></tr>\n",
       "\t<tr><td>4</td><td>164.5214</td><td>0.4172568</td></tr>\n",
       "</tbody>\n",
       "</table>\n"
      ],
      "text/latex": [
       "A tibble: 4 × 3\n",
       "\\begin{tabular}{lll}\n",
       " inc\\_qtile & m & sem\\\\\n",
       " <fct> & <dbl> & <dbl>\\\\\n",
       "\\hline\n",
       "\t 1 & 158.7277 & 0.4452194\\\\\n",
       "\t 2 & 160.5639 & 0.4459935\\\\\n",
       "\t 3 & 164.0453 & 0.4085916\\\\\n",
       "\t 4 & 164.5214 & 0.4172568\\\\\n",
       "\\end{tabular}\n"
      ],
      "text/markdown": [
       "\n",
       "A tibble: 4 × 3\n",
       "\n",
       "| inc_qtile &lt;fct&gt; | m &lt;dbl&gt; | sem &lt;dbl&gt; |\n",
       "|---|---|---|\n",
       "| 1 | 158.7277 | 0.4452194 |\n",
       "| 2 | 160.5639 | 0.4459935 |\n",
       "| 3 | 164.0453 | 0.4085916 |\n",
       "| 4 | 164.5214 | 0.4172568 |\n",
       "\n"
      ],
      "text/plain": [
       "  inc_qtile m        sem      \n",
       "1 1         158.7277 0.4452194\n",
       "2 2         160.5639 0.4459935\n",
       "3 3         164.0453 0.4085916\n",
       "4 4         164.5214 0.4172568"
      ]
     },
     "metadata": {},
     "output_type": "display_data"
    }
   ],
   "source": [
    "inc_q %>%\n",
    "    group_by(inc_qtile) %>% \n",
    "    summarize(m = mean(Height), sem = sd(Height) / sqrt(n()))"
   ]
  },
  {
   "cell_type": "code",
   "execution_count": 21,
   "id": "10b563ae",
   "metadata": {
    "slideshow": {
     "slide_type": "slide"
    }
   },
   "outputs": [
    {
     "data": {
      "text/plain": [
       "              Df  Sum Sq Mean Sq F value Pr(>F)    \n",
       "inc_qtile      3   51636   17212    42.1 <2e-16 ***\n",
       "Residuals   8858 3621806     409                   \n",
       "---\n",
       "Signif. codes:  0 ‘***’ 0.001 ‘**’ 0.01 ‘*’ 0.05 ‘.’ 0.1 ‘ ’ 1"
      ]
     },
     "metadata": {},
     "output_type": "display_data"
    }
   ],
   "source": [
    "inc_q %>% \n",
    "    aov(Height ~ inc_qtile, data = .) %>% summary"
   ]
  },
  {
   "cell_type": "markdown",
   "id": "a0b577e0",
   "metadata": {
    "slideshow": {
     "slide_type": "slide"
    }
   },
   "source": [
    "## Digression: association vs. causation\n",
    "- The preceding analyses reveal that there is strong *association* between income and height.\n",
    "- Does that mean that being taller *causes you* to have higher income? (Why or why not?)\n",
    "- (We will return to these points in a future lecture.)"
   ]
  },
  {
   "cell_type": "markdown",
   "id": "1c62f1fd",
   "metadata": {
    "slideshow": {
     "slide_type": "slide"
    }
   },
   "source": [
    "## Is blood pressure elevated in smokers?\n",
    "\n",
    "- Smoking tobacco increases heart rate and blood pressure. Long-term smoking can lead to the development of hypertension and other cardiovascular diseases.\n",
    "- Nicotine from cigarettes stimulates the body to produce adrenaline, which accelerates the heart rate and raises blood pressure. Other chemicals in tobacco can damage the arterial walls, contributing to heart conditions.\n",
    "- Some studies have shown a correlation between smoking and increased risk of developing hypertension. This relationship is dose-dependent, with heavier smoking leading to greater risks.\n",
    "- Do we see such a relationship in the NHANES data?"
   ]
  },
  {
   "cell_type": "code",
   "execution_count": 25,
   "id": "3ae78c0d",
   "metadata": {
    "slideshow": {
     "slide_type": "slide"
    }
   },
   "outputs": [
    {
     "data": {
      "image/png": "[encoded data removed]",
      "text/plain": [
       "plot without title"
      ]
     },
     "metadata": {
      "image/png": {
       "height": 300,
       "width": 600
      }
     },
     "output_type": "display_data"
    }
   ],
   "source": [
    "NHANES %>% drop_na(BPSysAve, SmokeNow) %>% ggplot +\n",
    "    geom_histogram(aes(BPSysAve, after_stat(density)), binwidth = 5) +\n",
    "    facet_grid(~ SmokeNow)"
   ]
  },
  {
   "cell_type": "markdown",
   "id": "682b74c9",
   "metadata": {
    "slideshow": {
     "slide_type": "notes"
    }
   },
   "source": [
    "It's visually hard for me to distinguish these two distributions. "
   ]
  },
  {
   "cell_type": "code",
   "execution_count": 32,
   "id": "d405df96",
   "metadata": {
    "slideshow": {
     "slide_type": "slide"
    }
   },
   "outputs": [
    {
     "data": {
      "text/plain": [
       "\n",
       "Call:\n",
       "lm(formula = BPSysAve ~ Age + Gender + SmokeNow, data = .)\n",
       "\n",
       "Residuals:\n",
       "    Min      1Q  Median      3Q     Max \n",
       "-56.031  -9.385  -1.338   8.421  95.588 \n",
       "\n",
       "Coefficients:\n",
       "            Estimate Std. Error t value Pr(>|t|)    \n",
       "(Intercept) 98.10757    1.12941  86.866   <2e-16 ***\n",
       "Age          0.43342    0.01849  23.444   <2e-16 ***\n",
       "Gendermale   4.98358    0.58963   8.452   <2e-16 ***\n",
       "SmokeNowYes  0.64940    0.62423   1.040    0.298    \n",
       "---\n",
       "Signif. codes:  0 ‘***’ 0.001 ‘**’ 0.01 ‘*’ 0.05 ‘.’ 0.1 ‘ ’ 1\n",
       "\n",
       "Residual standard error: 16.29 on 3104 degrees of freedom\n",
       "  (6892 observations deleted due to missingness)\n",
       "Multiple R-squared:  0.1774,\tAdjusted R-squared:  0.1766 \n",
       "F-statistic: 223.2 on 3 and 3104 DF,  p-value: < 2.2e-16\n"
      ]
     },
     "metadata": {},
     "output_type": "display_data"
    }
   ],
   "source": [
    "NHANES %>%\n",
    "    lm(BPSysAve ~ Age + Gender + SmokeNow, data = .) %>% \n",
    "    summary"
   ]
  },
  {
   "cell_type": "markdown",
   "id": "bdf3309d",
   "metadata": {
    "slideshow": {
     "slide_type": "notes"
    }
   },
   "source": [
    "- We get the (possibly) counter-intuitive result that blood pressure is lower in smokers. \n",
    "- What are possible explanations for this?"
   ]
  },
  {
   "cell_type": "code",
   "execution_count": 33,
   "id": "6a8e8f61",
   "metadata": {
    "slideshow": {
     "slide_type": "slide"
    }
   },
   "outputs": [
    {
     "data": {
      "text/plain": [
       "\n",
       "Call:\n",
       "lm(formula = BPSysAve ~ SmokeNow + AgeMonths + Gender + BMI + \n",
       "    AlcoholYear, data = .)\n",
       "\n",
       "Residuals:\n",
       "    Min      1Q  Median      3Q     Max \n",
       "-53.610  -9.253  -1.926   7.837  79.608 \n",
       "\n",
       "Coefficients:\n",
       "             Estimate Std. Error t value Pr(>|t|)    \n",
       "(Intercept) 93.755921   2.629492  35.656  < 2e-16 ***\n",
       "SmokeNowYes  1.143666   0.939801   1.217   0.2238    \n",
       "AgeMonths    0.032592   0.002520  12.934  < 2e-16 ***\n",
       "Gendermale   5.160460   0.879322   5.869 5.53e-09 ***\n",
       "BMI          0.153822   0.066941   2.298   0.0217 *  \n",
       "AlcoholYear  0.007889   0.004012   1.967   0.0494 *  \n",
       "---\n",
       "Signif. codes:  0 ‘***’ 0.001 ‘**’ 0.01 ‘*’ 0.05 ‘.’ 0.1 ‘ ’ 1\n",
       "\n",
       "Residual standard error: 15.93 on 1338 degrees of freedom\n",
       "  (8656 observations deleted due to missingness)\n",
       "Multiple R-squared:  0.1493,\tAdjusted R-squared:  0.1461 \n",
       "F-statistic: 46.96 on 5 and 1338 DF,  p-value: < 2.2e-16\n"
      ]
     },
     "metadata": {},
     "output_type": "display_data"
    }
   ],
   "source": [
    "NHANES %>%\n",
    "    lm(BPSysAve ~ SmokeNow + AgeMonths + Gender + BMI + AlcoholYear, data = .) %>% \n",
    "    summary"
   ]
  },
  {
   "cell_type": "markdown",
   "id": "2222c2c4",
   "metadata": {
    "slideshow": {
     "slide_type": "slide"
    }
   },
   "source": [
    "Let's try looking at this through a different lens. The American Heart Association defines hypertension as systolic blood pressure > 130 mm Hg or diastolic bp > 80 mm Hg. Let's try logistic regression on hypertensive status."
   ]
  },
  {
   "cell_type": "code",
   "execution_count": 35,
   "id": "37f96801",
   "metadata": {
    "slideshow": {
     "slide_type": "slide"
    }
   },
   "outputs": [
    {
     "data": {
      "text/html": [
       "<table class=\"dataframe\">\n",
       "<caption>A tibble: 1 × 2</caption>\n",
       "<thead>\n",
       "\t<tr><th scope=col>mean(hypt)</th><th scope=col>n()</th></tr>\n",
       "\t<tr><th scope=col>&lt;dbl&gt;</th><th scope=col>&lt;int&gt;</th></tr>\n",
       "</thead>\n",
       "<tbody>\n",
       "\t<tr><td>0.2668694</td><td>8551</td></tr>\n",
       "</tbody>\n",
       "</table>\n"
      ],
      "text/latex": [
       "A tibble: 1 × 2\n",
       "\\begin{tabular}{ll}\n",
       " mean(hypt) & n()\\\\\n",
       " <dbl> & <int>\\\\\n",
       "\\hline\n",
       "\t 0.2668694 & 8551\\\\\n",
       "\\end{tabular}\n"
      ],
      "text/markdown": [
       "\n",
       "A tibble: 1 × 2\n",
       "\n",
       "| mean(hypt) &lt;dbl&gt; | n() &lt;int&gt; |\n",
       "|---|---|\n",
       "| 0.2668694 | 8551 |\n",
       "\n"
      ],
      "text/plain": [
       "  mean(hypt) n() \n",
       "1 0.2668694  8551"
      ]
     },
     "metadata": {},
     "output_type": "display_data"
    }
   ],
   "source": [
    "hypt_df <- NHANES %>% mutate(hypt = (BPSysAve > 130) | (BPDiaAve > 80)) %>% drop_na(hypt)\n",
    "summarize(hypt_df, mean(hypt), n())"
   ]
  },
  {
   "cell_type": "code",
   "execution_count": 54,
   "id": "1974eb82",
   "metadata": {
    "slideshow": {
     "slide_type": "slide"
    }
   },
   "outputs": [
    {
     "data": {
      "text/html": [
       "<table class=\"dataframe\">\n",
       "<caption>A tibble: 6 × 2</caption>\n",
       "<thead>\n",
       "\t<tr><th scope=col>SmokeNow</th><th scope=col>pred</th></tr>\n",
       "\t<tr><th scope=col>&lt;fct&gt;</th><th scope=col>&lt;dbl&gt;</th></tr>\n",
       "</thead>\n",
       "<tbody>\n",
       "\t<tr><td>No </td><td>0.4055164</td></tr>\n",
       "\t<tr><td>No </td><td>0.4055164</td></tr>\n",
       "\t<tr><td>No </td><td>0.4055164</td></tr>\n",
       "\t<tr><td>Yes</td><td>0.2799145</td></tr>\n",
       "\t<tr><td>NA </td><td>       NA</td></tr>\n",
       "\t<tr><td>NA </td><td>       NA</td></tr>\n",
       "</tbody>\n",
       "</table>\n"
      ],
      "text/latex": [
       "A tibble: 6 × 2\n",
       "\\begin{tabular}{ll}\n",
       " SmokeNow & pred\\\\\n",
       " <fct> & <dbl>\\\\\n",
       "\\hline\n",
       "\t No  & 0.4055164\\\\\n",
       "\t No  & 0.4055164\\\\\n",
       "\t No  & 0.4055164\\\\\n",
       "\t Yes & 0.2799145\\\\\n",
       "\t NA  &        NA\\\\\n",
       "\t NA  &        NA\\\\\n",
       "\\end{tabular}\n"
      ],
      "text/markdown": [
       "\n",
       "A tibble: 6 × 2\n",
       "\n",
       "| SmokeNow &lt;fct&gt; | pred &lt;dbl&gt; |\n",
       "|---|---|\n",
       "| No  | 0.4055164 |\n",
       "| No  | 0.4055164 |\n",
       "| No  | 0.4055164 |\n",
       "| Yes | 0.2799145 |\n",
       "| NA  |        NA |\n",
       "| NA  |        NA |\n",
       "\n"
      ],
      "text/plain": [
       "  SmokeNow pred     \n",
       "1 No       0.4055164\n",
       "2 No       0.4055164\n",
       "3 No       0.4055164\n",
       "4 Yes      0.2799145\n",
       "5 NA              NA\n",
       "6 NA              NA"
      ]
     },
     "metadata": {},
     "output_type": "display_data"
    }
   ],
   "source": [
    "library(modelr)\n",
    "\n",
    "mdl <- glm(hypt ~ SmokeNow, data = hypt_df, family = \"binomial\")\n",
    "\n",
    "hypt_df %>% add_predictions(mdl, type=\"response\") %>% head %>% select(SmokeNow, pred)"
   ]
  },
  {
   "cell_type": "markdown",
   "id": "7c0e40b9",
   "metadata": {
    "slideshow": {
     "slide_type": "slide"
    }
   },
   "source": [
    "In fact there are four stages of hypertension:\n",
    "- **Normal Blood Pressure**\n",
    "  - Systolic: Less than 120 mm Hg\n",
    "  - Diastolic: Less than 80 mm Hg\n",
    "- **Elevated Blood Pressure**\n",
    "  - Systolic: 120-129 mm Hg\n",
    "  - Diastolic: Less than 80 mm Hg\n",
    "- **Hypertension Stage 1**\n",
    "  - Systolic: 130-139 mm Hg\n",
    "  - Diastolic: 80-89 mm Hg\n",
    "- **Hypertension Stage 2**\n",
    "  - Systolic: At least 140 mm Hg\n",
    "  - Diastolic: At least 90 mm Hg\n",
    "- **Hypertensive Crisis (Emergency situation)**\n",
    "  - Systolic: Over 180 mm Hg and/or\n",
    "  - Diastolic: Over 120 mm Hg"
   ]
  },
  {
   "cell_type": "code",
   "execution_count": 15,
   "id": "a5a9572c",
   "metadata": {
    "slideshow": {
     "slide_type": "slide"
    }
   },
   "outputs": [
    {
     "data": {
      "text/plain": [
       "\n",
       "            Elevated Hypertension Stage 1 Hypertension Stage 2 \n",
       "                1248                 1720                  789 \n",
       "              Normal \n",
       "                4794 "
      ]
     },
     "metadata": {},
     "output_type": "display_data"
    }
   ],
   "source": [
    "bp_df <- NHANES %>%\n",
    "  mutate(BPStage = case_when(\n",
    "    BPSysAve < 120 & BPDiaAve < 80 ~ \"Normal\",\n",
    "    BPSysAve >= 120 & BPSysAve < 130 & BPDiaAve < 80 ~ \"Elevated\",\n",
    "    BPSysAve >= 130 & BPSysAve < 140 | BPDiaAve >= 80 & BPDiaAve < 90 ~ \"Hypertension Stage 1\",\n",
    "    BPSysAve >= 140 | BPDiaAve >= 90 ~ \"Hypertension Stage 2\",\n",
    "    BPSysAve > 180 | BPDiaAve > 120 ~ \"Hypertensive Crisis\",\n",
    "    TRUE ~ NA_character_ # for cases that don't fit any criteria or missing data\n",
    "  )) \n",
    "\n",
    "# View the distribution of blood pressure stages\n",
    "table(bp_df$BPStage)"
   ]
  },
  {
   "cell_type": "markdown",
   "id": "cd855a78",
   "metadata": {
    "slideshow": {
     "slide_type": "slide"
    }
   },
   "source": [
    "## Effects at the tails\n",
    "Let's consider whether there is a measurable effect for stage 2 hypertension:"
   ]
  },
  {
   "cell_type": "code",
   "execution_count": 120,
   "id": "566d3f27",
   "metadata": {},
   "outputs": [
    {
     "data": {
      "text/plain": [
       "\n",
       "Call:\n",
       "lm(formula = BPStage == \"Hypertension Stage 2\" ~ SmokeNow + Gender + \n",
       "    Age, data = bp_df)\n",
       "\n",
       "Residuals:\n",
       "     Min       1Q   Median       3Q      Max \n",
       "-0.32962 -0.17495 -0.09017 -0.00094  1.03476 \n",
       "\n",
       "Coefficients:\n",
       "              Estimate Std. Error t value Pr(>|t|)    \n",
       "(Intercept) -0.1899786  0.0219012  -8.674  < 2e-16 ***\n",
       "SmokeNowYes  0.0064938  0.0121049   0.536  0.59168    \n",
       "Gendermale   0.0371872  0.0114340   3.252  0.00116 ** \n",
       "Age          0.0059490  0.0003585  16.594  < 2e-16 ***\n",
       "---\n",
       "Signif. codes:  0 ‘***’ 0.001 ‘**’ 0.01 ‘*’ 0.05 ‘.’ 0.1 ‘ ’ 1\n",
       "\n",
       "Residual standard error: 0.3159 on 3104 degrees of freedom\n",
       "  (6892 observations deleted due to missingness)\n",
       "Multiple R-squared:  0.0918,\tAdjusted R-squared:  0.09093 \n",
       "F-statistic: 104.6 on 3 and 3104 DF,  p-value: < 2.2e-16\n"
      ]
     },
     "metadata": {},
     "output_type": "display_data"
    }
   ],
   "source": [
    "lm(BPStage == \"Hypertension Stage 2\" ~ SmokeNow + Gender + Age, data=bp_df) %>% summary"
   ]
  },
  {
   "cell_type": "markdown",
   "id": "332b4080",
   "metadata": {
    "slideshow": {
     "slide_type": "slide"
    }
   },
   "source": [
    "## Ordinal logistic regression\n",
    "\n",
    "Ordinal Logistic Regression, also known as Ordered Logit Regression, is a statistical technique used for modeling the relationship between an ordinal dependent variable and one or more independent variables.\n",
    "\n",
    "- Ordinal dependent variable: A categorical variable with a clear ordering of the categories, but not necessarily a constant difference between categories.\n",
    "- Independent variables: Can be continuous, dichotomous, or categorical, and are used to predict the ordinal outcome.\n"
   ]
  },
  {
   "cell_type": "markdown",
   "id": "0a64056c",
   "metadata": {
    "slideshow": {
     "slide_type": "slide"
    }
   },
   "source": [
    "### OLR model\n",
    "$$\n",
    "\\log\\left(\\frac{P(Y \\leq j)}{P(Y > j)}\\right) = \\alpha_j - \\beta X, \\quad j = 1, 2, \\ldots, J-1\n",
    "$$\n",
    "\n",
    "where:\n",
    "\n",
    "- $Y$ is the ordinal dependent variable with $J$ ordered categories.\n",
    "- $P(Y \\leq j)$ is the cumulative probability of $Y$ being in category $j$ or lower.\n",
    "- $X$ represents the vector of independent variables (predictors).\n",
    "- $\\beta$ is the vector of coefficients associated with the predictors.\n",
    "- $\\alpha_j$ are the threshold parameters (cutpoints) for each $j$th category, with $j = 1, 2, \\ldots, J-1$."
   ]
  },
  {
   "cell_type": "markdown",
   "id": "90a41241",
   "metadata": {
    "slideshow": {
     "slide_type": "slide"
    }
   },
   "source": [
    "### Proportional odds assumption\n",
    "The model implies the following key assumption:\n",
    "$$\n",
    "\\frac{\\partial}{\\partial X}\\log\\left(\\frac{P(Y \\leq j)}{P(Y > j)}\\right) = -\\beta, \\quad \\text{for all } j\n",
    "$$\n",
    "\n",
    "This says that the odds ratios comparing any two outcome categories are assumed to be the same across all levels of the predictors."
   ]
  },
  {
   "cell_type": "code",
   "execution_count": null,
   "id": "19a20021",
   "metadata": {
    "slideshow": {
     "slide_type": "slide"
    }
   },
   "outputs": [],
   "source": [
    "bp_df$BPStage <- factor(\n",
    "    bp_df$BPStage, ordered = TRUE, \n",
    "     levels = c(\"Normal\", \"Elevated\", \"Hypertension Stage 1\", \n",
    "                \"Hypertension Stage 2\", \"Hypertensive Crisis\")\n",
    "    )"
   ]
  },
  {
   "cell_type": "code",
   "execution_count": 106,
   "id": "b97799cf",
   "metadata": {
    "slideshow": {
     "slide_type": "slide"
    }
   },
   "outputs": [
    {
     "data": {
      "text/plain": [
       "Call:\n",
       "polr(formula = BPStage ~ Age + Gender + SmokeNow, data = bp_df, \n",
       "    Hess = TRUE)\n",
       "\n",
       "Coefficients:\n",
       "               Value Std. Error t value\n",
       "Age          0.04387   0.002293 19.1302\n",
       "Gendermale   0.56211   0.070051  8.0243\n",
       "SmokeNowYes -0.03782   0.073323 -0.5157\n",
       "\n",
       "Intercepts:\n",
       "                                          Value   Std. Error t value\n",
       "Normal|Elevated                            2.2568  0.1408    16.0271\n",
       "Elevated|Hypertension Stage 1              3.0016  0.1448    20.7237\n",
       "Hypertension Stage 1|Hypertension Stage 2  4.5871  0.1578    29.0753\n",
       "Hypertension Stage 2|Hypertensive Crisis  16.1372 15.1684     1.0639\n",
       "\n",
       "Residual Deviance: 7332.728 \n",
       "AIC: 7346.728 \n",
       "(6892 observations deleted due to missingness)"
      ]
     },
     "metadata": {},
     "output_type": "display_data"
    }
   ],
   "source": [
    "library(MASS)\n",
    "mdl <- polr(BPStage ~ Age + Gender + SmokeNow, data = bp_df, Hess=TRUE)\n",
    "summary(mdl)"
   ]
  },
  {
   "cell_type": "markdown",
   "id": "7348eae6",
   "metadata": {
    "slideshow": {
     "slide_type": "slide"
    }
   },
   "source": [
    "### Interpretation\n",
    "\n",
    "Important to distinguish between the coefficients and the odds ratios:\n",
    "\n",
    "- **Coefficients**: Represent the log odds of being in a higher category of the outcome variable for a one-unit increase in the predictor.\n",
    "- **Odds Ratios**: Exponentiated coefficients, indicating how the odds of being in a higher category change with a one-unit increase in the predictor.\n",
    "\n",
    "Hence:\n",
    "\n",
    "- **Positive Coefficient (Odds Ratio > 1)**: Indicates an increase in the predictor is associated with higher odds of being in a higher category.\n",
    "- **Negative Coefficient (Odds Ratio < 1)**: Suggests an increase in the predictor is associated with lower odds of being in a higher category."
   ]
  },
  {
   "cell_type": "code",
   "execution_count": 109,
   "id": "4892cc34",
   "metadata": {},
   "outputs": [
    {
     "data": {
      "text/html": [
       "<style>\n",
       ".dl-inline {width: auto; margin:0; padding: 0}\n",
       ".dl-inline>dt, .dl-inline>dd {float: none; width: auto; display: inline-block}\n",
       ".dl-inline>dt::after {content: \":\\0020\"; padding-right: .5ex}\n",
       ".dl-inline>dt:not(:first-of-type) {padding-left: .5ex}\n",
       "</style><dl class=dl-inline><dt>Age</dt><dd>1.04484605857126</dd><dt>Gendermale</dt><dd>1.75437114569722</dd><dt>SmokeNowYes</dt><dd>0.962889639816633</dd></dl>\n"
      ],
      "text/latex": [
       "\\begin{description*}\n",
       "\\item[Age] 1.04484605857126\n",
       "\\item[Gendermale] 1.75437114569722\n",
       "\\item[SmokeNowYes] 0.962889639816633\n",
       "\\end{description*}\n"
      ],
      "text/markdown": [
       "Age\n",
       ":   1.04484605857126Gendermale\n",
       ":   1.75437114569722SmokeNowYes\n",
       ":   0.962889639816633\n",
       "\n"
      ],
      "text/plain": [
       "        Age  Gendermale SmokeNowYes \n",
       "  1.0448461   1.7543711   0.9628896 "
      ]
     },
     "metadata": {},
     "output_type": "display_data"
    }
   ],
   "source": [
    "exp(coef(mdl))"
   ]
  },
  {
   "cell_type": "markdown",
   "id": "7c0d4dda",
   "metadata": {
    "slideshow": {
     "slide_type": "slide"
    }
   },
   "source": [
    "## TV watching and and body mass\n",
    "How does watching TV associate with body weight among individuals in the NHANES dataset? We'll study this in several ways:\n",
    "\n",
    "- **Descriptive Analysis**: Understand the distribution of TV and BMI.\n",
    "- **Correlation Analysis**: Examine the linear relationship between TV and BMI.\n",
    "- **Linear Regression**: Assess the impact of TV on BMI, controlling for confounders.\n",
    "- **Logistic Regression**: Evaluate the odds of being overweight or obese with increased TV watching.\n",
    "- **Mixed Models/GEE**: Account for clustering within the data.\n",
    "- **Non-Linear Models**: Explore potential non-linear relationships between TV and BMI."
   ]
  },
  {
   "cell_type": "markdown",
   "id": "650c4932",
   "metadata": {
    "slideshow": {
     "slide_type": "slide"
    }
   },
   "source": [
    "### Descriptive analysis\n",
    "We start by considering the distribution of BMI. The WHO defines BMI according to the following levels:\n",
    "- Underweight: BMI less than 18.5+\n",
    "- Normal weight: BMI 18.5 to 24.9\n",
    "- Overweight: BMI 25 to 29.9\n",
    "- Obesity: BMI 30 and above"
   ]
  },
  {
   "cell_type": "code",
   "execution_count": 55,
   "id": "3a6e22b5",
   "metadata": {
    "slideshow": {
     "slide_type": "slide"
    }
   },
   "outputs": [
    {
     "name": "stderr",
     "output_type": "stream",
     "text": [
      "Warning message:\n",
      "“\u001b[1m\u001b[22mRemoved 366 rows containing non-finite values (`stat_bin()`).”\n"
     ]
    },
    {
     "data": {
      "image/png": "[encoded data removed]",
      "text/plain": [
       "plot without title"
      ]
     },
     "metadata": {
      "image/png": {
       "height": 300,
       "width": 600
      }
     },
     "output_type": "display_data"
    }
   ],
   "source": [
    "# Histogram of BMI\n",
    "NHANES %>% mutate(BMIcat = cut(BMI, c(0, 18.5, 24.9, 29.9, Inf), \n",
    "                               labels=c(\"Underweight\", \"Normal\", \"Overweight\", \"Obese\"))) %>% \n",
    "  ggplot(aes(x = BMI, fill = BMIcat)) +\n",
    "  geom_histogram(binwidth = 1, color = \"black\") +\n",
    "  labs(title = \"Distribution of BMI\", x = \"BMI\", y = \"Frequency\")"
   ]
  },
  {
   "cell_type": "code",
   "execution_count": 56,
   "id": "cd5e538e",
   "metadata": {
    "slideshow": {
     "slide_type": "slide"
    }
   },
   "outputs": [
    {
     "name": "stderr",
     "output_type": "stream",
     "text": [
      "Warning message:\n",
      "“\u001b[1m\u001b[22mRemoved 366 rows containing non-finite values (`stat_bin()`).”\n"
     ]
    },
    {
     "data": {
      "image/png": "[encoded data removed]",
      "text/plain": [
       "plot without title"
      ]
     },
     "metadata": {
      "image/png": {
       "height": 300,
       "width": 600
      }
     },
     "output_type": "display_data"
    }
   ],
   "source": [
    "# Histogram of BMI\n",
    "NHANES %>% mutate(BMIcat = cut(BMI, c(0, 18.5, 24.9, 29.9, Inf))) %>% \n",
    "  ggplot(aes(x = BMI, fill = BMIcat)) +\n",
    "  geom_histogram(aes(y = after_stat(density)), binwidth = 2.5) +\n",
    "  facet_wrap(~ TVHrsDay)"
   ]
  },
  {
   "cell_type": "code",
   "execution_count": 59,
   "id": "e106f8aa",
   "metadata": {
    "slideshow": {
     "slide_type": "slide"
    }
   },
   "outputs": [
    {
     "data": {
      "image/png": "[encoded data removed]",
      "text/plain": [
       "plot without title"
      ]
     },
     "metadata": {
      "image/png": {
       "height": 300,
       "width": 600
      }
     },
     "output_type": "display_data"
    }
   ],
   "source": [
    "NHANES %>% ggplot(aes(x = TVHrsDay, y = Age)) +\n",
    "    geom_boxplot()"
   ]
  },
  {
   "cell_type": "code",
   "execution_count": 39,
   "id": "3c5cb87a",
   "metadata": {
    "slideshow": {
     "slide_type": "slide"
    }
   },
   "outputs": [
    {
     "name": "stderr",
     "output_type": "stream",
     "text": [
      "Warning message:\n",
      "“\u001b[1m\u001b[22mRemoved 366 rows containing non-finite values (`stat_boxplot()`).”\n"
     ]
    },
    {
     "data": {
      "image/png": "[encoded data removed]",
      "text/plain": [
       "plot without title"
      ]
     },
     "metadata": {
      "image/png": {
       "height": 300,
       "width": 600
      }
     },
     "output_type": "display_data"
    }
   ],
   "source": [
    "# Boxplot of BMI by TV category\n",
    "NHANES %>% ggplot(aes(x = TVHrsDay, y = BMI)) + geom_boxplot()"
   ]
  },
  {
   "cell_type": "markdown",
   "id": "397ffc3b",
   "metadata": {
    "slideshow": {
     "slide_type": "slide"
    }
   },
   "source": [
    "## Regression analysis\n",
    "Next, let's model the effect of TV watching on BMI. We'll try two different ways:"
   ]
  },
  {
   "cell_type": "code",
   "execution_count": 60,
   "id": "a8cd2d48",
   "metadata": {
    "scrolled": false,
    "slideshow": {
     "slide_type": "slide"
    }
   },
   "outputs": [
    {
     "data": {
      "text/plain": [
       "\n",
       "Call:\n",
       "lm(formula = BMI ~ TVHrsDay, data = NHANES)\n",
       "\n",
       "Residuals:\n",
       "    Min      1Q  Median      3Q     Max \n",
       "-15.560  -5.059  -0.515   4.104  55.735 \n",
       "\n",
       "Coefficients:\n",
       "                  Estimate Std. Error t value Pr(>|t|)    \n",
       "(Intercept)        25.4376     0.7092  35.869  < 2e-16 ***\n",
       "TVHrsDay0_to_1_hr  -0.5728     0.7636  -0.750  0.45321    \n",
       "TVHrsDay1_hr       -0.8196     0.7488  -1.095  0.27378    \n",
       "TVHrsDay2_hr        0.5774     0.7369   0.784  0.43330    \n",
       "TVHrsDay3_hr        2.3583     0.7513   3.139  0.00171 ** \n",
       "TVHrsDay4_hr        2.5211     0.7773   3.244  0.00119 ** \n",
       "TVHrsDayMore_4_hr   3.3223     0.7662   4.336 1.48e-05 ***\n",
       "---\n",
       "Signif. codes:  0 ‘***’ 0.001 ‘**’ 0.01 ‘*’ 0.05 ‘.’ 0.1 ‘ ’ 1\n",
       "\n",
       "Residual standard error: 7.127 on 4809 degrees of freedom\n",
       "  (5184 observations deleted due to missingness)\n",
       "Multiple R-squared:  0.04216,\tAdjusted R-squared:  0.04096 \n",
       "F-statistic: 35.28 on 6 and 4809 DF,  p-value: < 2.2e-16\n"
      ]
     },
     "metadata": {},
     "output_type": "display_data"
    }
   ],
   "source": [
    "lm(BMI ~ TVHrsDay, data = NHANES) %>% summary"
   ]
  },
  {
   "cell_type": "markdown",
   "id": "492ea764",
   "metadata": {
    "slideshow": {
     "slide_type": "notes"
    }
   },
   "source": [
    "Next, let's try with the categorized `TVHrsDay` replaced by a continuous estimate:"
   ]
  },
  {
   "cell_type": "code",
   "execution_count": 67,
   "id": "615e49ba",
   "metadata": {
    "slideshow": {
     "slide_type": "slide"
    }
   },
   "outputs": [
    {
     "data": {
      "text/plain": [
       "\n",
       "Call:\n",
       "lm(formula = BMI ~ TVHrsDayNum + Age + Gender + PhysActiveDays, \n",
       "    data = NHANES)\n",
       "\n",
       "Residuals:\n",
       "    Min      1Q  Median      3Q     Max \n",
       "-14.575  -4.590  -1.259   3.461  36.695 \n",
       "\n",
       "Coefficients:\n",
       "                Estimate Std. Error t value Pr(>|t|)    \n",
       "(Intercept)    20.081613   0.442356  45.397  < 2e-16 ***\n",
       "TVHrsDayNum     0.496073   0.100702   4.926 8.99e-07 ***\n",
       "Age             0.133191   0.006221  21.409  < 2e-16 ***\n",
       "Gendermale      0.181333   0.266328   0.681    0.496    \n",
       "PhysActiveDays -0.018829   0.072515  -0.260    0.795    \n",
       "---\n",
       "Signif. codes:  0 ‘***’ 0.001 ‘**’ 0.01 ‘*’ 0.05 ‘.’ 0.1 ‘ ’ 1\n",
       "\n",
       "Residual standard error: 6.362 on 2284 degrees of freedom\n",
       "  (7711 observations deleted due to missingness)\n",
       "Multiple R-squared:  0.1982,\tAdjusted R-squared:  0.1968 \n",
       "F-statistic: 141.2 on 4 and 2284 DF,  p-value: < 2.2e-16\n"
      ]
     },
     "metadata": {},
     "output_type": "display_data"
    }
   ],
   "source": [
    "NHANES <- NHANES %>%\n",
    "  mutate(TVHrsDayNum = case_when(\n",
    "    TVHrsDay == \"0_hrs\" ~ 0,\n",
    "    TVHrsDay == \"0_to_1_hr\" ~ 0.5, # Assuming the midpoint of 0 to 1 hour is 0.5 hours\n",
    "    TVHrsDay == \"1_hr\" ~ 1,        # Exact value for 1 hour\n",
    "    TVHrsDay == \"2_hr\" ~ 2,        # Exact value for 2 hours\n",
    "    TVHrsDay == \"3_hr\" ~ 3,        # Exact value for 3 hours\n",
    "    TVHrsDay == \"4_hr\" ~ 4,        # Exact value for 4 hours\n",
    "    TVHrsDay == \"More_4_hr\" ~ 4.5  # Assuming the midpoint for \"More than 4 hours\" as 4.5 hours\n",
    "  )) \n",
    "lm(BMI ~ TVHrsDayNum + Age + Gender + PhysActiveDays, data = NHANES) %>% summary"
   ]
  },
  {
   "cell_type": "markdown",
   "id": "cee8a087",
   "metadata": {
    "slideshow": {
     "slide_type": "slide"
    }
   },
   "source": [
    "### Effect on obesity\n",
    "Let's consider the effect on obesity (which is defined above as BMI > 30)."
   ]
  },
  {
   "cell_type": "code",
   "execution_count": 72,
   "id": "d2898319",
   "metadata": {
    "slideshow": {
     "slide_type": "slide"
    }
   },
   "outputs": [
    {
     "data": {
      "text/plain": [
       "\n",
       "Call:\n",
       "glm(formula = BMI > 30 ~ TVHrsDayNum + Age + Gender * Race1 + \n",
       "    PhysActiveDays, family = \"binomial\", data = NHANES)\n",
       "\n",
       "Deviance Residuals: \n",
       "    Min       1Q   Median       3Q      Max  \n",
       "-1.6332  -0.7987  -0.6018   1.1577   2.3378  \n",
       "\n",
       "Coefficients:\n",
       "                          Estimate Std. Error z value Pr(>|z|)    \n",
       "(Intercept)              -1.464492   0.244078  -6.000 1.97e-09 ***\n",
       "TVHrsDayNum               0.155798   0.037173   4.191 2.78e-05 ***\n",
       "Age                       0.023049   0.002427   9.497  < 2e-16 ***\n",
       "Gendermale               -0.866055   0.272700  -3.176 0.001494 ** \n",
       "Race1Hispanic            -1.134031   0.357554  -3.172 0.001516 ** \n",
       "Race1Mexican             -0.392740   0.286275  -1.372 0.170095    \n",
       "Race1White               -0.961837   0.207582  -4.634 3.60e-06 ***\n",
       "Race1Other               -1.716926   0.356314  -4.819 1.45e-06 ***\n",
       "PhysActiveDays           -0.010533   0.027168  -0.388 0.698238    \n",
       "Gendermale:Race1Hispanic  1.442967   0.494694   2.917 0.003535 ** \n",
       "Gendermale:Race1Mexican   0.879409   0.405693   2.168 0.030184 *  \n",
       "Gendermale:Race1White     1.010225   0.299675   3.371 0.000749 ***\n",
       "Gendermale:Race1Other     1.385155   0.487340   2.842 0.004479 ** \n",
       "---\n",
       "Signif. codes:  0 ‘***’ 0.001 ‘**’ 0.01 ‘*’ 0.05 ‘.’ 0.1 ‘ ’ 1\n",
       "\n",
       "(Dispersion parameter for binomial family taken to be 1)\n",
       "\n",
       "    Null deviance: 2641.8  on 2288  degrees of freedom\n",
       "Residual deviance: 2458.7  on 2276  degrees of freedom\n",
       "  (7711 observations deleted due to missingness)\n",
       "AIC: 2484.7\n",
       "\n",
       "Number of Fisher Scoring iterations: 4\n"
      ]
     },
     "metadata": {},
     "output_type": "display_data"
    }
   ],
   "source": [
    "glm(BMI > 30 ~ TVHrsDayNum + Age + Gender*Race1 + PhysActiveDays, \n",
    "    data = NHANES, family = \"binomial\") %>% summary"
   ]
  },
  {
   "cell_type": "markdown",
   "id": "a1f2f3dd",
   "metadata": {
    "slideshow": {
     "slide_type": "slide"
    }
   },
   "source": [
    "How can we use the logistic regression model to give a \"predicted probability of obesity\"?"
   ]
  },
  {
   "cell_type": "code",
   "execution_count": null,
   "id": "6d9f15df",
   "metadata": {},
   "outputs": [],
   "source": [
    "# pred prob"
   ]
  },
  {
   "cell_type": "markdown",
   "id": "f7b68f0c",
   "metadata": {
    "slideshow": {
     "slide_type": "slide"
    }
   },
   "source": [
    "### Non-linear model\n",
    "\n",
    "Generalized Additive Models (GAMs) extend linear models by allowing non-linear relationships between the independent variables and the dependent variable through the use of smooth functions.\n",
    "- A GAM can be expressed as $y = \\beta_0 + f_1(x_1) + f_2(x_2) + \\cdots + f_n(x_n) + \\epsilon$, where $y$ is the dependent variable, $\\beta_0$ is the intercept, $f_i$ are smooth functions for each predictor $x_i$, and $\\epsilon$ is the error term.\n",
    "- In our example, we'll suppose that \n",
    "\n",
    "$$\\text{BMI} = s(\\text{Age}) + \\text{other predictors},$$\n",
    "\n",
    "where $s()$ denotes a smoothing function applied to age."
   ]
  },
  {
   "cell_type": "code",
   "execution_count": 73,
   "id": "85abc583",
   "metadata": {
    "slideshow": {
     "slide_type": "slide"
    }
   },
   "outputs": [
    {
     "name": "stderr",
     "output_type": "stream",
     "text": [
      "Loading required package: nlme\n",
      "\n",
      "\n",
      "Attaching package: ‘nlme’\n",
      "\n",
      "\n",
      "The following object is masked from ‘package:dplyr’:\n",
      "\n",
      "    collapse\n",
      "\n",
      "\n",
      "This is mgcv 1.8-40. For overview type 'help(\"mgcv-package\")'.\n",
      "\n"
     ]
    },
    {
     "data": {
      "text/plain": [
       "\n",
       "Family: gaussian \n",
       "Link function: identity \n",
       "\n",
       "Formula:\n",
       "BMI ~ TVHrsDayNum + s(Age) + Gender + PhysActiveDays\n",
       "\n",
       "Parametric coefficients:\n",
       "               Estimate Std. Error t value Pr(>|t|)    \n",
       "(Intercept)    24.61417    0.36545  67.354  < 2e-16 ***\n",
       "TVHrsDayNum     0.70171    0.09206   7.622 3.63e-14 ***\n",
       "Gendermale      0.14947    0.24080   0.621    0.535    \n",
       "PhysActiveDays -0.01242    0.06551  -0.190    0.850    \n",
       "---\n",
       "Signif. codes:  0 ‘***’ 0.001 ‘**’ 0.01 ‘*’ 0.05 ‘.’ 0.1 ‘ ’ 1\n",
       "\n",
       "Approximate significance of smooth terms:\n",
       "         edf Ref.df     F p-value    \n",
       "s(Age) 7.948  8.704 124.7  <2e-16 ***\n",
       "---\n",
       "Signif. codes:  0 ‘***’ 0.001 ‘**’ 0.01 ‘*’ 0.05 ‘.’ 0.1 ‘ ’ 1\n",
       "\n",
       "R-sq.(adj) =  0.346   Deviance explained = 34.9%\n",
       "GCV = 33.128  Scale est. = 32.955    n = 2289"
      ]
     },
     "metadata": {},
     "output_type": "display_data"
    }
   ],
   "source": [
    "library(mgcv)\n",
    "gam_model <- gam(BMI ~ TVHrsDayNum + s(Age) + Gender + PhysActiveDays, data = NHANES)\n",
    "summary(gam_model)"
   ]
  },
  {
   "cell_type": "code",
   "execution_count": 74,
   "id": "f2e4410b",
   "metadata": {
    "slideshow": {
     "slide_type": "slide"
    }
   },
   "outputs": [
    {
     "data": {
      "image/png": "[encoded data removed]",
      "text/plain": [
       "plot without title"
      ]
     },
     "metadata": {
      "image/png": {
       "height": 300,
       "width": 600
      }
     },
     "output_type": "display_data"
    }
   ],
   "source": [
    "plot(gam_model)\n"
   ]
  }
 ],
 "metadata": {
  "celltoolbar": "Slideshow",
  "kernelspec": {
   "display_name": "R",
   "language": "R",
   "name": "ir"
  },
  "language_info": {
   "codemirror_mode": "r",
   "file_extension": ".r",
   "mimetype": "text/x-r-source",
   "name": "R",
   "pygments_lexer": "r",
   "version": "4.2.1"
  }
 },
 "nbformat": 4,
 "nbformat_minor": 5
}
