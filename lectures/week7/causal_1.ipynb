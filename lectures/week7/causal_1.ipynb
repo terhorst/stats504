{
 "cells": [
  {
   "cell_type": "code",
   "execution_count": 3,
   "id": "6302783c",
   "metadata": {
    "slideshow": {
     "slide_type": "notes"
    }
   },
   "outputs": [],
   "source": [
    "library(tidyverse)\n",
    "library(nhanesA)\n",
    "options(repr.plot.width=10, repr.plot.height=6)\n",
    "theme_set(theme_classic())"
   ]
  },
  {
   "cell_type": "markdown",
   "id": "9d348d0d",
   "metadata": {
    "slideshow": {
     "slide_type": "slide"
    }
   },
   "source": [
    "# STATS 504\n",
    "## Week 7: Causal inference"
   ]
  },
  {
   "cell_type": "markdown",
   "id": "59ebce2c",
   "metadata": {
    "slideshow": {
     "slide_type": "slide"
    }
   },
   "source": [
    "### Smoking and lung cancer: observational data"
   ]
  },
  {
   "cell_type": "code",
   "execution_count": 38,
   "id": "b55f7bc7",
   "metadata": {
    "slideshow": {
     "slide_type": "-"
    }
   },
   "outputs": [
    {
     "data": {
      "text/html": [
       "<table class=\"dataframe\">\n",
       "<caption>A data.frame: 8897 × 76</caption>\n",
       "<thead>\n",
       "\t<tr><th scope=col>SEQN</th><th scope=col>MCQ010</th><th scope=col>MCQ025</th><th scope=col>MCQ035</th><th scope=col>MCQ040</th><th scope=col>MCQ050</th><th scope=col>AGQ030</th><th scope=col>MCQ053</th><th scope=col>MCQ080</th><th scope=col>MCQ092</th><th scope=col>⋯</th><th scope=col>MCQ300A</th><th scope=col>MCQ366A</th><th scope=col>MCQ366B</th><th scope=col>MCQ366C</th><th scope=col>MCQ366D</th><th scope=col>MCQ371A</th><th scope=col>MCQ371B</th><th scope=col>MCQ371C</th><th scope=col>MCQ371D</th><th scope=col>OSQ230</th></tr>\n",
       "\t<tr><th scope=col>&lt;dbl&gt;</th><th scope=col>&lt;fct&gt;</th><th scope=col>&lt;dbl&gt;</th><th scope=col>&lt;fct&gt;</th><th scope=col>&lt;fct&gt;</th><th scope=col>&lt;fct&gt;</th><th scope=col>&lt;fct&gt;</th><th scope=col>&lt;fct&gt;</th><th scope=col>&lt;fct&gt;</th><th scope=col>&lt;fct&gt;</th><th scope=col>⋯</th><th scope=col>&lt;fct&gt;</th><th scope=col>&lt;fct&gt;</th><th scope=col>&lt;fct&gt;</th><th scope=col>&lt;fct&gt;</th><th scope=col>&lt;fct&gt;</th><th scope=col>&lt;fct&gt;</th><th scope=col>&lt;fct&gt;</th><th scope=col>&lt;fct&gt;</th><th scope=col>&lt;fct&gt;</th><th scope=col>&lt;fct&gt;</th></tr>\n",
       "</thead>\n",
       "<tbody>\n",
       "\t<tr><td>93703</td><td>No </td><td>NA</td><td>NA </td><td>NA </td><td>NA</td><td>NA</td><td>No</td><td>NA </td><td>NA </td><td>⋯</td><td>NA </td><td>NA </td><td>NA </td><td>NA </td><td>NA </td><td>NA </td><td>NA </td><td>NA </td><td>NA </td><td>NA </td></tr>\n",
       "\t<tr><td>93704</td><td>No </td><td>NA</td><td>NA </td><td>NA </td><td>NA</td><td>NA</td><td>No</td><td>NA </td><td>NA </td><td>⋯</td><td>NA </td><td>NA </td><td>NA </td><td>NA </td><td>NA </td><td>NA </td><td>NA </td><td>NA </td><td>NA </td><td>NA </td></tr>\n",
       "\t<tr><td>93705</td><td>Yes</td><td>10</td><td>No </td><td>NA </td><td>NA</td><td>NA</td><td>No</td><td>No </td><td>No </td><td>⋯</td><td>No </td><td>No </td><td>No </td><td>No </td><td>No </td><td>Yes</td><td>Yes</td><td>Yes</td><td>Yes</td><td>No </td></tr>\n",
       "\t<tr><td>93706</td><td>No </td><td>NA</td><td>NA </td><td>NA </td><td>NA</td><td>NA</td><td>No</td><td>No </td><td>No </td><td>⋯</td><td>NA </td><td>No </td><td>No </td><td>No </td><td>No </td><td>No </td><td>No </td><td>No </td><td>No </td><td>NA </td></tr>\n",
       "\t<tr><td>93707</td><td>No </td><td>NA</td><td>NA </td><td>NA </td><td>NA</td><td>NA</td><td>No</td><td>NA </td><td>No </td><td>⋯</td><td>NA </td><td>NA </td><td>NA </td><td>NA </td><td>NA </td><td>NA </td><td>NA </td><td>NA </td><td>NA </td><td>NA </td></tr>\n",
       "\t<tr><td>93708</td><td>No </td><td>NA</td><td>NA </td><td>NA </td><td>NA</td><td>NA</td><td>No</td><td>No </td><td>No </td><td>⋯</td><td>No </td><td>No </td><td>No </td><td>Yes</td><td>No </td><td>Yes</td><td>No </td><td>Yes</td><td>No </td><td>Yes</td></tr>\n",
       "\t<tr><td>93709</td><td>No </td><td>NA</td><td>NA </td><td>NA </td><td>NA</td><td>NA</td><td>No</td><td>Yes</td><td>No </td><td>⋯</td><td>No </td><td>No </td><td>Yes</td><td>No </td><td>No </td><td>Yes</td><td>Yes</td><td>Yes</td><td>Yes</td><td>No </td></tr>\n",
       "\t<tr><td>93711</td><td>No </td><td>NA</td><td>NA </td><td>NA </td><td>NA</td><td>NA</td><td>No</td><td>No </td><td>No </td><td>⋯</td><td>Yes</td><td>No </td><td>No </td><td>No </td><td>No </td><td>Yes</td><td>No </td><td>Yes</td><td>Yes</td><td>No </td></tr>\n",
       "\t<tr><td>93712</td><td>Yes</td><td> 5</td><td>No </td><td>NA </td><td>NA</td><td>NA</td><td>No</td><td>No </td><td>No </td><td>⋯</td><td>NA </td><td>No </td><td>Yes</td><td>Yes</td><td>No </td><td>No </td><td>Yes</td><td>Yes</td><td>Yes</td><td>NA </td></tr>\n",
       "\t<tr><td>93713</td><td>No </td><td>NA</td><td>NA </td><td>NA </td><td>NA</td><td>NA</td><td>No</td><td>No </td><td>No </td><td>⋯</td><td>No </td><td>No </td><td>No </td><td>No </td><td>Yes</td><td>No </td><td>No </td><td>No </td><td>No </td><td>Yes</td></tr>\n",
       "\t<tr><td>93714</td><td>No </td><td>NA</td><td>NA </td><td>NA </td><td>NA</td><td>NA</td><td>No</td><td>Yes</td><td>No </td><td>⋯</td><td>No </td><td>Yes</td><td>Yes</td><td>Yes</td><td>Yes</td><td>No </td><td>No </td><td>No </td><td>No </td><td>No </td></tr>\n",
       "\t<tr><td>93715</td><td>No </td><td>NA</td><td>NA </td><td>NA </td><td>NA</td><td>NA</td><td>No</td><td>No </td><td>No </td><td>⋯</td><td>Yes</td><td>No </td><td>Yes</td><td>Yes</td><td>Yes</td><td>Yes</td><td>Yes</td><td>No </td><td>Yes</td><td>No </td></tr>\n",
       "\t<tr><td>93716</td><td>Yes</td><td> 5</td><td>No </td><td>NA </td><td>NA</td><td>NA</td><td>No</td><td>Yes</td><td>No </td><td>⋯</td><td>No </td><td>Yes</td><td>No </td><td>No </td><td>Yes</td><td>Yes</td><td>Yes</td><td>No </td><td>Yes</td><td>No </td></tr>\n",
       "\t<tr><td>93717</td><td>No </td><td>NA</td><td>NA </td><td>NA </td><td>NA</td><td>NA</td><td>No</td><td>No </td><td>No </td><td>⋯</td><td>Yes</td><td>No </td><td>No </td><td>No </td><td>No </td><td>Yes</td><td>No </td><td>No </td><td>No </td><td>NA </td></tr>\n",
       "\t<tr><td>93718</td><td>No </td><td>NA</td><td>NA </td><td>NA </td><td>NA</td><td>NA</td><td>No</td><td>No </td><td>No </td><td>⋯</td><td>Yes</td><td>No </td><td>No </td><td>No </td><td>No </td><td>No </td><td>Yes</td><td>Yes</td><td>Yes</td><td>No </td></tr>\n",
       "\t<tr><td>93719</td><td>Yes</td><td> 7</td><td>Yes</td><td>Yes</td><td>No</td><td>No</td><td>No</td><td>NA </td><td>No </td><td>⋯</td><td>NA </td><td>NA </td><td>NA </td><td>NA </td><td>NA </td><td>NA </td><td>NA </td><td>NA </td><td>NA </td><td>NA </td></tr>\n",
       "\t<tr><td>93720</td><td>No </td><td>NA</td><td>NA </td><td>NA </td><td>NA</td><td>NA</td><td>No</td><td>NA </td><td>NA </td><td>⋯</td><td>NA </td><td>NA </td><td>NA </td><td>NA </td><td>NA </td><td>NA </td><td>NA </td><td>NA </td><td>NA </td><td>NA </td></tr>\n",
       "\t<tr><td>93721</td><td>No </td><td>NA</td><td>NA </td><td>NA </td><td>NA</td><td>NA</td><td>No</td><td>No </td><td>No </td><td>⋯</td><td>No </td><td>No </td><td>Yes</td><td>No </td><td>No </td><td>Yes</td><td>No </td><td>No </td><td>No </td><td>No </td></tr>\n",
       "\t<tr><td>93722</td><td>Yes</td><td>20</td><td>Yes</td><td>Yes</td><td>No</td><td>No</td><td>No</td><td>Yes</td><td>No </td><td>⋯</td><td>No </td><td>No </td><td>No </td><td>No </td><td>No </td><td>No </td><td>No </td><td>No </td><td>No </td><td>No </td></tr>\n",
       "\t<tr><td>93723</td><td>No </td><td>NA</td><td>NA </td><td>NA </td><td>NA</td><td>NA</td><td>No</td><td>No </td><td>No </td><td>⋯</td><td>No </td><td>No </td><td>No </td><td>No </td><td>Yes</td><td>Yes</td><td>Yes</td><td>Yes</td><td>Yes</td><td>No </td></tr>\n",
       "\t<tr><td>93724</td><td>No </td><td>NA</td><td>NA </td><td>NA </td><td>NA</td><td>NA</td><td>No</td><td>NA </td><td>NA </td><td>⋯</td><td>NA </td><td>NA </td><td>NA </td><td>NA </td><td>NA </td><td>NA </td><td>NA </td><td>NA </td><td>NA </td><td>NA </td></tr>\n",
       "\t<tr><td>93725</td><td>No </td><td>NA</td><td>NA </td><td>NA </td><td>NA</td><td>NA</td><td>No</td><td>NA </td><td>No </td><td>⋯</td><td>NA </td><td>NA </td><td>NA </td><td>NA </td><td>NA </td><td>NA </td><td>NA </td><td>NA </td><td>NA </td><td>NA </td></tr>\n",
       "\t<tr><td>93726</td><td>No </td><td>NA</td><td>NA </td><td>NA </td><td>NA</td><td>NA</td><td>No</td><td>Yes</td><td>No </td><td>⋯</td><td>No </td><td>Yes</td><td>Yes</td><td>Yes</td><td>Yes</td><td>Yes</td><td>Yes</td><td>Yes</td><td>Yes</td><td>No </td></tr>\n",
       "\t<tr><td>93727</td><td>No </td><td>NA</td><td>NA </td><td>NA </td><td>NA</td><td>NA</td><td>No</td><td>No </td><td>No </td><td>⋯</td><td>No </td><td>No </td><td>Yes</td><td>No </td><td>No </td><td>Yes</td><td>Yes</td><td>Yes</td><td>Yes</td><td>Yes</td></tr>\n",
       "\t<tr><td>93728</td><td>No </td><td>NA</td><td>NA </td><td>NA </td><td>NA</td><td>NA</td><td>No</td><td>No </td><td>No </td><td>⋯</td><td>No </td><td>No </td><td>No </td><td>Yes</td><td>Yes</td><td>No </td><td>No </td><td>Yes</td><td>Yes</td><td>No </td></tr>\n",
       "\t<tr><td>93729</td><td>No </td><td>NA</td><td>NA </td><td>NA </td><td>NA</td><td>NA</td><td>No</td><td>No </td><td>Yes</td><td>⋯</td><td>No </td><td>No </td><td>No </td><td>No </td><td>No </td><td>Yes</td><td>No </td><td>Yes</td><td>No </td><td>No </td></tr>\n",
       "\t<tr><td>93730</td><td>No </td><td>NA</td><td>NA </td><td>NA </td><td>NA</td><td>NA</td><td>No</td><td>No </td><td>No </td><td>⋯</td><td>No </td><td>No </td><td>Yes</td><td>Yes</td><td>Yes</td><td>Yes</td><td>Yes</td><td>Yes</td><td>Yes</td><td>No </td></tr>\n",
       "\t<tr><td>93731</td><td>No </td><td>NA</td><td>NA </td><td>NA </td><td>NA</td><td>NA</td><td>No</td><td>No </td><td>No </td><td>⋯</td><td>No </td><td>No </td><td>No </td><td>No </td><td>No </td><td>No </td><td>No </td><td>No </td><td>Yes</td><td>NA </td></tr>\n",
       "\t<tr><td>93732</td><td>No </td><td>NA</td><td>NA </td><td>NA </td><td>NA</td><td>NA</td><td>No</td><td>No </td><td>No </td><td>⋯</td><td>No </td><td>No </td><td>No </td><td>Yes</td><td>Yes</td><td>No </td><td>Yes</td><td>Yes</td><td>Yes</td><td>Yes</td></tr>\n",
       "\t<tr><td>93733</td><td>No </td><td>NA</td><td>NA </td><td>NA </td><td>NA</td><td>NA</td><td>No</td><td>NA </td><td>No </td><td>⋯</td><td>NA </td><td>NA </td><td>NA </td><td>NA </td><td>NA </td><td>NA </td><td>NA </td><td>NA </td><td>NA </td><td>NA </td></tr>\n",
       "\t<tr><td>⋮</td><td>⋮</td><td>⋮</td><td>⋮</td><td>⋮</td><td>⋮</td><td>⋮</td><td>⋮</td><td>⋮</td><td>⋮</td><td>⋱</td><td>⋮</td><td>⋮</td><td>⋮</td><td>⋮</td><td>⋮</td><td>⋮</td><td>⋮</td><td>⋮</td><td>⋮</td><td>⋮</td></tr>\n",
       "\t<tr><td>102924</td><td>No </td><td>NA</td><td>NA </td><td>NA </td><td>NA</td><td>NA </td><td>No </td><td>Yes</td><td>No </td><td>⋯</td><td>Yes</td><td>Yes</td><td>Yes</td><td>No </td><td>Yes</td><td>Yes</td><td>No </td><td>Yes</td><td>Yes</td><td>No </td></tr>\n",
       "\t<tr><td>102925</td><td>No </td><td>NA</td><td>NA </td><td>NA </td><td>NA</td><td>NA </td><td>No </td><td>NA </td><td>NA </td><td>⋯</td><td>NA </td><td>NA </td><td>NA </td><td>NA </td><td>NA </td><td>NA </td><td>NA </td><td>NA </td><td>NA </td><td>NA </td></tr>\n",
       "\t<tr><td>102926</td><td>No </td><td>NA</td><td>NA </td><td>NA </td><td>NA</td><td>NA </td><td>No </td><td>NA </td><td>No </td><td>⋯</td><td>NA </td><td>NA </td><td>NA </td><td>NA </td><td>NA </td><td>NA </td><td>NA </td><td>NA </td><td>NA </td><td>NA </td></tr>\n",
       "\t<tr><td>102929</td><td>No </td><td>NA</td><td>NA </td><td>NA </td><td>NA</td><td>NA </td><td>No </td><td>Yes</td><td>No </td><td>⋯</td><td>No </td><td>Yes</td><td>Yes</td><td>Yes</td><td>Yes</td><td>No </td><td>Yes</td><td>Yes</td><td>No </td><td>No </td></tr>\n",
       "\t<tr><td>102930</td><td>No </td><td>NA</td><td>NA </td><td>NA </td><td>NA</td><td>NA </td><td>No </td><td>NA </td><td>NA </td><td>⋯</td><td>NA </td><td>NA </td><td>NA </td><td>NA </td><td>NA </td><td>NA </td><td>NA </td><td>NA </td><td>NA </td><td>NA </td></tr>\n",
       "\t<tr><td>102931</td><td>No </td><td>NA</td><td>NA </td><td>NA </td><td>NA</td><td>NA </td><td>No </td><td>NA </td><td>No </td><td>⋯</td><td>NA </td><td>NA </td><td>NA </td><td>NA </td><td>NA </td><td>NA </td><td>NA </td><td>NA </td><td>NA </td><td>NA </td></tr>\n",
       "\t<tr><td>102932</td><td>No </td><td>NA</td><td>NA </td><td>NA </td><td>NA</td><td>NA </td><td>No </td><td>NA </td><td>NA </td><td>⋯</td><td>NA </td><td>NA </td><td>NA </td><td>NA </td><td>NA </td><td>NA </td><td>NA </td><td>NA </td><td>NA </td><td>NA </td></tr>\n",
       "\t<tr><td>102933</td><td>No </td><td>NA</td><td>NA </td><td>NA </td><td>NA</td><td>NA </td><td>No </td><td>No </td><td>No </td><td>⋯</td><td>No </td><td>No </td><td>No </td><td>No </td><td>No </td><td>Yes</td><td>Yes</td><td>Yes</td><td>Yes</td><td>NA </td></tr>\n",
       "\t<tr><td>102934</td><td>No </td><td>NA</td><td>NA </td><td>NA </td><td>NA</td><td>NA </td><td>No </td><td>Yes</td><td>No </td><td>⋯</td><td>No </td><td>No </td><td>No </td><td>No </td><td>No </td><td>No </td><td>Yes</td><td>No </td><td>No </td><td>No </td></tr>\n",
       "\t<tr><td>102935</td><td>Yes</td><td>15</td><td>No </td><td>NA </td><td>NA</td><td>NA </td><td>No </td><td>Yes</td><td>No </td><td>⋯</td><td>No </td><td>No </td><td>No </td><td>No </td><td>No </td><td>Yes</td><td>Yes</td><td>No </td><td>Yes</td><td>NA </td></tr>\n",
       "\t<tr><td>102936</td><td>No </td><td>NA</td><td>NA </td><td>NA </td><td>NA</td><td>NA </td><td>Yes</td><td>NA </td><td>NA </td><td>⋯</td><td>NA </td><td>NA </td><td>NA </td><td>NA </td><td>NA </td><td>NA </td><td>NA </td><td>NA </td><td>NA </td><td>NA </td></tr>\n",
       "\t<tr><td>102937</td><td>No </td><td>NA</td><td>NA </td><td>NA </td><td>NA</td><td>NA </td><td>No </td><td>NA </td><td>NA </td><td>⋯</td><td>NA </td><td>NA </td><td>NA </td><td>NA </td><td>NA </td><td>NA </td><td>NA </td><td>NA </td><td>NA </td><td>NA </td></tr>\n",
       "\t<tr><td>102938</td><td>No </td><td>NA</td><td>NA </td><td>NA </td><td>NA</td><td>NA </td><td>No </td><td>NA </td><td>NA </td><td>⋯</td><td>NA </td><td>NA </td><td>NA </td><td>NA </td><td>NA </td><td>NA </td><td>NA </td><td>NA </td><td>NA </td><td>NA </td></tr>\n",
       "\t<tr><td>102939</td><td>No </td><td>NA</td><td>NA </td><td>NA </td><td>NA</td><td>NA </td><td>No </td><td>NA </td><td>NA </td><td>⋯</td><td>NA </td><td>NA </td><td>NA </td><td>NA </td><td>NA </td><td>NA </td><td>NA </td><td>NA </td><td>NA </td><td>NA </td></tr>\n",
       "\t<tr><td>102940</td><td>No </td><td>NA</td><td>NA </td><td>NA </td><td>NA</td><td>NA </td><td>No </td><td>Yes</td><td>Yes</td><td>⋯</td><td>No </td><td>No </td><td>No </td><td>No </td><td>No </td><td>Yes</td><td>No </td><td>No </td><td>No </td><td>Yes</td></tr>\n",
       "\t<tr><td>102941</td><td>Yes</td><td> 4</td><td>No </td><td>NA </td><td>NA</td><td>NA </td><td>No </td><td>NA </td><td>No </td><td>⋯</td><td>NA </td><td>NA </td><td>NA </td><td>NA </td><td>NA </td><td>NA </td><td>NA </td><td>NA </td><td>NA </td><td>NA </td></tr>\n",
       "\t<tr><td>102943</td><td>Yes</td><td>41</td><td>No </td><td>NA </td><td>NA</td><td>NA </td><td>No </td><td>Yes</td><td>No </td><td>⋯</td><td>No </td><td>Yes</td><td>Yes</td><td>Yes</td><td>Yes</td><td>No </td><td>No </td><td>No </td><td>No </td><td>No </td></tr>\n",
       "\t<tr><td>102944</td><td>Yes</td><td>42</td><td>Yes</td><td>No </td><td>No</td><td>No </td><td>No </td><td>Yes</td><td>No </td><td>⋯</td><td>No </td><td>No </td><td>Yes</td><td>Yes</td><td>Yes</td><td>Yes</td><td>Yes</td><td>Yes</td><td>Yes</td><td>No </td></tr>\n",
       "\t<tr><td>102945</td><td>No </td><td>NA</td><td>NA </td><td>NA </td><td>NA</td><td>NA </td><td>No </td><td>NA </td><td>No </td><td>⋯</td><td>NA </td><td>NA </td><td>NA </td><td>NA </td><td>NA </td><td>NA </td><td>NA </td><td>NA </td><td>NA </td><td>NA </td></tr>\n",
       "\t<tr><td>102946</td><td>No </td><td>NA</td><td>NA </td><td>NA </td><td>NA</td><td>NA </td><td>No </td><td>Yes</td><td>Yes</td><td>⋯</td><td>No </td><td>Yes</td><td>Yes</td><td>Yes</td><td>Yes</td><td>Yes</td><td>Yes</td><td>No </td><td>No </td><td>No </td></tr>\n",
       "\t<tr><td>102947</td><td>No </td><td>NA</td><td>NA </td><td>NA </td><td>NA</td><td>NA </td><td>No </td><td>Yes</td><td>Yes</td><td>⋯</td><td>No </td><td>Yes</td><td>Yes</td><td>No </td><td>Yes</td><td>Yes</td><td>Yes</td><td>Yes</td><td>Yes</td><td>No </td></tr>\n",
       "\t<tr><td>102948</td><td>No </td><td>NA</td><td>NA </td><td>NA </td><td>NA</td><td>NA </td><td>No </td><td>No </td><td>No </td><td>⋯</td><td>No </td><td>No </td><td>No </td><td>No </td><td>No </td><td>Yes</td><td>Yes</td><td>No </td><td>Yes</td><td>NA </td></tr>\n",
       "\t<tr><td>102949</td><td>No </td><td>NA</td><td>NA </td><td>NA </td><td>NA</td><td>NA </td><td>No </td><td>No </td><td>No </td><td>⋯</td><td>No </td><td>No </td><td>No </td><td>No </td><td>No </td><td>No </td><td>No </td><td>No </td><td>No </td><td>NA </td></tr>\n",
       "\t<tr><td>102950</td><td>No </td><td>NA</td><td>NA </td><td>NA </td><td>NA</td><td>NA </td><td>No </td><td>Yes</td><td>No </td><td>⋯</td><td>No </td><td>Yes</td><td>Yes</td><td>Yes</td><td>Yes</td><td>Yes</td><td>No </td><td>Yes</td><td>Yes</td><td>Yes</td></tr>\n",
       "\t<tr><td>102951</td><td>No </td><td>NA</td><td>NA </td><td>NA </td><td>NA</td><td>NA </td><td>No </td><td>NA </td><td>NA </td><td>⋯</td><td>NA </td><td>NA </td><td>NA </td><td>NA </td><td>NA </td><td>NA </td><td>NA </td><td>NA </td><td>NA </td><td>NA </td></tr>\n",
       "\t<tr><td>102952</td><td>No </td><td>NA</td><td>NA </td><td>NA </td><td>NA</td><td>NA </td><td>No </td><td>No </td><td>No </td><td>⋯</td><td>No </td><td>No </td><td>No </td><td>No </td><td>No </td><td>Yes</td><td>Yes</td><td>Yes</td><td>Yes</td><td>No </td></tr>\n",
       "\t<tr><td>102953</td><td>Yes</td><td>42</td><td>Yes</td><td>Yes</td><td>No</td><td>Yes</td><td>No </td><td>Yes</td><td>No </td><td>⋯</td><td>No </td><td>Yes</td><td>Yes</td><td>Yes</td><td>Yes</td><td>No </td><td>No </td><td>No </td><td>No </td><td>No </td></tr>\n",
       "\t<tr><td>102954</td><td>No </td><td>NA</td><td>NA </td><td>NA </td><td>NA</td><td>NA </td><td>No </td><td>Yes</td><td>No </td><td>⋯</td><td>No </td><td>Yes</td><td>No </td><td>No </td><td>No </td><td>Yes</td><td>Yes</td><td>Yes</td><td>Yes</td><td>No </td></tr>\n",
       "\t<tr><td>102955</td><td>No </td><td>NA</td><td>NA </td><td>NA </td><td>NA</td><td>NA </td><td>No </td><td>NA </td><td>No </td><td>⋯</td><td>NA </td><td>NA </td><td>NA </td><td>NA </td><td>NA </td><td>NA </td><td>NA </td><td>NA </td><td>NA </td><td>NA </td></tr>\n",
       "\t<tr><td>102956</td><td>No </td><td>NA</td><td>NA </td><td>NA </td><td>NA</td><td>NA </td><td>No </td><td>Yes</td><td>No </td><td>⋯</td><td>No </td><td>No </td><td>No </td><td>No </td><td>No </td><td>No </td><td>No </td><td>No </td><td>No </td><td>NA </td></tr>\n",
       "</tbody>\n",
       "</table>\n"
      ],
      "text/latex": [
       "A data.frame: 8897 × 76\n",
       "\\begin{tabular}{lllllllllllllllllllll}\n",
       " SEQN & MCQ010 & MCQ025 & MCQ035 & MCQ040 & MCQ050 & AGQ030 & MCQ053 & MCQ080 & MCQ092 & ⋯ & MCQ300A & MCQ366A & MCQ366B & MCQ366C & MCQ366D & MCQ371A & MCQ371B & MCQ371C & MCQ371D & OSQ230\\\\\n",
       " <dbl> & <fct> & <dbl> & <fct> & <fct> & <fct> & <fct> & <fct> & <fct> & <fct> & ⋯ & <fct> & <fct> & <fct> & <fct> & <fct> & <fct> & <fct> & <fct> & <fct> & <fct>\\\\\n",
       "\\hline\n",
       "\t 93703 & No  & NA & NA  & NA  & NA & NA & No & NA  & NA  & ⋯ & NA  & NA  & NA  & NA  & NA  & NA  & NA  & NA  & NA  & NA \\\\\n",
       "\t 93704 & No  & NA & NA  & NA  & NA & NA & No & NA  & NA  & ⋯ & NA  & NA  & NA  & NA  & NA  & NA  & NA  & NA  & NA  & NA \\\\\n",
       "\t 93705 & Yes & 10 & No  & NA  & NA & NA & No & No  & No  & ⋯ & No  & No  & No  & No  & No  & Yes & Yes & Yes & Yes & No \\\\\n",
       "\t 93706 & No  & NA & NA  & NA  & NA & NA & No & No  & No  & ⋯ & NA  & No  & No  & No  & No  & No  & No  & No  & No  & NA \\\\\n",
       "\t 93707 & No  & NA & NA  & NA  & NA & NA & No & NA  & No  & ⋯ & NA  & NA  & NA  & NA  & NA  & NA  & NA  & NA  & NA  & NA \\\\\n",
       "\t 93708 & No  & NA & NA  & NA  & NA & NA & No & No  & No  & ⋯ & No  & No  & No  & Yes & No  & Yes & No  & Yes & No  & Yes\\\\\n",
       "\t 93709 & No  & NA & NA  & NA  & NA & NA & No & Yes & No  & ⋯ & No  & No  & Yes & No  & No  & Yes & Yes & Yes & Yes & No \\\\\n",
       "\t 93711 & No  & NA & NA  & NA  & NA & NA & No & No  & No  & ⋯ & Yes & No  & No  & No  & No  & Yes & No  & Yes & Yes & No \\\\\n",
       "\t 93712 & Yes &  5 & No  & NA  & NA & NA & No & No  & No  & ⋯ & NA  & No  & Yes & Yes & No  & No  & Yes & Yes & Yes & NA \\\\\n",
       "\t 93713 & No  & NA & NA  & NA  & NA & NA & No & No  & No  & ⋯ & No  & No  & No  & No  & Yes & No  & No  & No  & No  & Yes\\\\\n",
       "\t 93714 & No  & NA & NA  & NA  & NA & NA & No & Yes & No  & ⋯ & No  & Yes & Yes & Yes & Yes & No  & No  & No  & No  & No \\\\\n",
       "\t 93715 & No  & NA & NA  & NA  & NA & NA & No & No  & No  & ⋯ & Yes & No  & Yes & Yes & Yes & Yes & Yes & No  & Yes & No \\\\\n",
       "\t 93716 & Yes &  5 & No  & NA  & NA & NA & No & Yes & No  & ⋯ & No  & Yes & No  & No  & Yes & Yes & Yes & No  & Yes & No \\\\\n",
       "\t 93717 & No  & NA & NA  & NA  & NA & NA & No & No  & No  & ⋯ & Yes & No  & No  & No  & No  & Yes & No  & No  & No  & NA \\\\\n",
       "\t 93718 & No  & NA & NA  & NA  & NA & NA & No & No  & No  & ⋯ & Yes & No  & No  & No  & No  & No  & Yes & Yes & Yes & No \\\\\n",
       "\t 93719 & Yes &  7 & Yes & Yes & No & No & No & NA  & No  & ⋯ & NA  & NA  & NA  & NA  & NA  & NA  & NA  & NA  & NA  & NA \\\\\n",
       "\t 93720 & No  & NA & NA  & NA  & NA & NA & No & NA  & NA  & ⋯ & NA  & NA  & NA  & NA  & NA  & NA  & NA  & NA  & NA  & NA \\\\\n",
       "\t 93721 & No  & NA & NA  & NA  & NA & NA & No & No  & No  & ⋯ & No  & No  & Yes & No  & No  & Yes & No  & No  & No  & No \\\\\n",
       "\t 93722 & Yes & 20 & Yes & Yes & No & No & No & Yes & No  & ⋯ & No  & No  & No  & No  & No  & No  & No  & No  & No  & No \\\\\n",
       "\t 93723 & No  & NA & NA  & NA  & NA & NA & No & No  & No  & ⋯ & No  & No  & No  & No  & Yes & Yes & Yes & Yes & Yes & No \\\\\n",
       "\t 93724 & No  & NA & NA  & NA  & NA & NA & No & NA  & NA  & ⋯ & NA  & NA  & NA  & NA  & NA  & NA  & NA  & NA  & NA  & NA \\\\\n",
       "\t 93725 & No  & NA & NA  & NA  & NA & NA & No & NA  & No  & ⋯ & NA  & NA  & NA  & NA  & NA  & NA  & NA  & NA  & NA  & NA \\\\\n",
       "\t 93726 & No  & NA & NA  & NA  & NA & NA & No & Yes & No  & ⋯ & No  & Yes & Yes & Yes & Yes & Yes & Yes & Yes & Yes & No \\\\\n",
       "\t 93727 & No  & NA & NA  & NA  & NA & NA & No & No  & No  & ⋯ & No  & No  & Yes & No  & No  & Yes & Yes & Yes & Yes & Yes\\\\\n",
       "\t 93728 & No  & NA & NA  & NA  & NA & NA & No & No  & No  & ⋯ & No  & No  & No  & Yes & Yes & No  & No  & Yes & Yes & No \\\\\n",
       "\t 93729 & No  & NA & NA  & NA  & NA & NA & No & No  & Yes & ⋯ & No  & No  & No  & No  & No  & Yes & No  & Yes & No  & No \\\\\n",
       "\t 93730 & No  & NA & NA  & NA  & NA & NA & No & No  & No  & ⋯ & No  & No  & Yes & Yes & Yes & Yes & Yes & Yes & Yes & No \\\\\n",
       "\t 93731 & No  & NA & NA  & NA  & NA & NA & No & No  & No  & ⋯ & No  & No  & No  & No  & No  & No  & No  & No  & Yes & NA \\\\\n",
       "\t 93732 & No  & NA & NA  & NA  & NA & NA & No & No  & No  & ⋯ & No  & No  & No  & Yes & Yes & No  & Yes & Yes & Yes & Yes\\\\\n",
       "\t 93733 & No  & NA & NA  & NA  & NA & NA & No & NA  & No  & ⋯ & NA  & NA  & NA  & NA  & NA  & NA  & NA  & NA  & NA  & NA \\\\\n",
       "\t ⋮ & ⋮ & ⋮ & ⋮ & ⋮ & ⋮ & ⋮ & ⋮ & ⋮ & ⋮ & ⋱ & ⋮ & ⋮ & ⋮ & ⋮ & ⋮ & ⋮ & ⋮ & ⋮ & ⋮ & ⋮\\\\\n",
       "\t 102924 & No  & NA & NA  & NA  & NA & NA  & No  & Yes & No  & ⋯ & Yes & Yes & Yes & No  & Yes & Yes & No  & Yes & Yes & No \\\\\n",
       "\t 102925 & No  & NA & NA  & NA  & NA & NA  & No  & NA  & NA  & ⋯ & NA  & NA  & NA  & NA  & NA  & NA  & NA  & NA  & NA  & NA \\\\\n",
       "\t 102926 & No  & NA & NA  & NA  & NA & NA  & No  & NA  & No  & ⋯ & NA  & NA  & NA  & NA  & NA  & NA  & NA  & NA  & NA  & NA \\\\\n",
       "\t 102929 & No  & NA & NA  & NA  & NA & NA  & No  & Yes & No  & ⋯ & No  & Yes & Yes & Yes & Yes & No  & Yes & Yes & No  & No \\\\\n",
       "\t 102930 & No  & NA & NA  & NA  & NA & NA  & No  & NA  & NA  & ⋯ & NA  & NA  & NA  & NA  & NA  & NA  & NA  & NA  & NA  & NA \\\\\n",
       "\t 102931 & No  & NA & NA  & NA  & NA & NA  & No  & NA  & No  & ⋯ & NA  & NA  & NA  & NA  & NA  & NA  & NA  & NA  & NA  & NA \\\\\n",
       "\t 102932 & No  & NA & NA  & NA  & NA & NA  & No  & NA  & NA  & ⋯ & NA  & NA  & NA  & NA  & NA  & NA  & NA  & NA  & NA  & NA \\\\\n",
       "\t 102933 & No  & NA & NA  & NA  & NA & NA  & No  & No  & No  & ⋯ & No  & No  & No  & No  & No  & Yes & Yes & Yes & Yes & NA \\\\\n",
       "\t 102934 & No  & NA & NA  & NA  & NA & NA  & No  & Yes & No  & ⋯ & No  & No  & No  & No  & No  & No  & Yes & No  & No  & No \\\\\n",
       "\t 102935 & Yes & 15 & No  & NA  & NA & NA  & No  & Yes & No  & ⋯ & No  & No  & No  & No  & No  & Yes & Yes & No  & Yes & NA \\\\\n",
       "\t 102936 & No  & NA & NA  & NA  & NA & NA  & Yes & NA  & NA  & ⋯ & NA  & NA  & NA  & NA  & NA  & NA  & NA  & NA  & NA  & NA \\\\\n",
       "\t 102937 & No  & NA & NA  & NA  & NA & NA  & No  & NA  & NA  & ⋯ & NA  & NA  & NA  & NA  & NA  & NA  & NA  & NA  & NA  & NA \\\\\n",
       "\t 102938 & No  & NA & NA  & NA  & NA & NA  & No  & NA  & NA  & ⋯ & NA  & NA  & NA  & NA  & NA  & NA  & NA  & NA  & NA  & NA \\\\\n",
       "\t 102939 & No  & NA & NA  & NA  & NA & NA  & No  & NA  & NA  & ⋯ & NA  & NA  & NA  & NA  & NA  & NA  & NA  & NA  & NA  & NA \\\\\n",
       "\t 102940 & No  & NA & NA  & NA  & NA & NA  & No  & Yes & Yes & ⋯ & No  & No  & No  & No  & No  & Yes & No  & No  & No  & Yes\\\\\n",
       "\t 102941 & Yes &  4 & No  & NA  & NA & NA  & No  & NA  & No  & ⋯ & NA  & NA  & NA  & NA  & NA  & NA  & NA  & NA  & NA  & NA \\\\\n",
       "\t 102943 & Yes & 41 & No  & NA  & NA & NA  & No  & Yes & No  & ⋯ & No  & Yes & Yes & Yes & Yes & No  & No  & No  & No  & No \\\\\n",
       "\t 102944 & Yes & 42 & Yes & No  & No & No  & No  & Yes & No  & ⋯ & No  & No  & Yes & Yes & Yes & Yes & Yes & Yes & Yes & No \\\\\n",
       "\t 102945 & No  & NA & NA  & NA  & NA & NA  & No  & NA  & No  & ⋯ & NA  & NA  & NA  & NA  & NA  & NA  & NA  & NA  & NA  & NA \\\\\n",
       "\t 102946 & No  & NA & NA  & NA  & NA & NA  & No  & Yes & Yes & ⋯ & No  & Yes & Yes & Yes & Yes & Yes & Yes & No  & No  & No \\\\\n",
       "\t 102947 & No  & NA & NA  & NA  & NA & NA  & No  & Yes & Yes & ⋯ & No  & Yes & Yes & No  & Yes & Yes & Yes & Yes & Yes & No \\\\\n",
       "\t 102948 & No  & NA & NA  & NA  & NA & NA  & No  & No  & No  & ⋯ & No  & No  & No  & No  & No  & Yes & Yes & No  & Yes & NA \\\\\n",
       "\t 102949 & No  & NA & NA  & NA  & NA & NA  & No  & No  & No  & ⋯ & No  & No  & No  & No  & No  & No  & No  & No  & No  & NA \\\\\n",
       "\t 102950 & No  & NA & NA  & NA  & NA & NA  & No  & Yes & No  & ⋯ & No  & Yes & Yes & Yes & Yes & Yes & No  & Yes & Yes & Yes\\\\\n",
       "\t 102951 & No  & NA & NA  & NA  & NA & NA  & No  & NA  & NA  & ⋯ & NA  & NA  & NA  & NA  & NA  & NA  & NA  & NA  & NA  & NA \\\\\n",
       "\t 102952 & No  & NA & NA  & NA  & NA & NA  & No  & No  & No  & ⋯ & No  & No  & No  & No  & No  & Yes & Yes & Yes & Yes & No \\\\\n",
       "\t 102953 & Yes & 42 & Yes & Yes & No & Yes & No  & Yes & No  & ⋯ & No  & Yes & Yes & Yes & Yes & No  & No  & No  & No  & No \\\\\n",
       "\t 102954 & No  & NA & NA  & NA  & NA & NA  & No  & Yes & No  & ⋯ & No  & Yes & No  & No  & No  & Yes & Yes & Yes & Yes & No \\\\\n",
       "\t 102955 & No  & NA & NA  & NA  & NA & NA  & No  & NA  & No  & ⋯ & NA  & NA  & NA  & NA  & NA  & NA  & NA  & NA  & NA  & NA \\\\\n",
       "\t 102956 & No  & NA & NA  & NA  & NA & NA  & No  & Yes & No  & ⋯ & No  & No  & No  & No  & No  & No  & No  & No  & No  & NA \\\\\n",
       "\\end{tabular}\n"
      ],
      "text/markdown": [
       "\n",
       "A data.frame: 8897 × 76\n",
       "\n",
       "| SEQN &lt;dbl&gt; | MCQ010 &lt;fct&gt; | MCQ025 &lt;dbl&gt; | MCQ035 &lt;fct&gt; | MCQ040 &lt;fct&gt; | MCQ050 &lt;fct&gt; | AGQ030 &lt;fct&gt; | MCQ053 &lt;fct&gt; | MCQ080 &lt;fct&gt; | MCQ092 &lt;fct&gt; | ⋯ ⋯ | MCQ300A &lt;fct&gt; | MCQ366A &lt;fct&gt; | MCQ366B &lt;fct&gt; | MCQ366C &lt;fct&gt; | MCQ366D &lt;fct&gt; | MCQ371A &lt;fct&gt; | MCQ371B &lt;fct&gt; | MCQ371C &lt;fct&gt; | MCQ371D &lt;fct&gt; | OSQ230 &lt;fct&gt; |\n",
       "|---|---|---|---|---|---|---|---|---|---|---|---|---|---|---|---|---|---|---|---|---|\n",
       "| 93703 | No  | NA | NA  | NA  | NA | NA | No | NA  | NA  | ⋯ | NA  | NA  | NA  | NA  | NA  | NA  | NA  | NA  | NA  | NA  |\n",
       "| 93704 | No  | NA | NA  | NA  | NA | NA | No | NA  | NA  | ⋯ | NA  | NA  | NA  | NA  | NA  | NA  | NA  | NA  | NA  | NA  |\n",
       "| 93705 | Yes | 10 | No  | NA  | NA | NA | No | No  | No  | ⋯ | No  | No  | No  | No  | No  | Yes | Yes | Yes | Yes | No  |\n",
       "| 93706 | No  | NA | NA  | NA  | NA | NA | No | No  | No  | ⋯ | NA  | No  | No  | No  | No  | No  | No  | No  | No  | NA  |\n",
       "| 93707 | No  | NA | NA  | NA  | NA | NA | No | NA  | No  | ⋯ | NA  | NA  | NA  | NA  | NA  | NA  | NA  | NA  | NA  | NA  |\n",
       "| 93708 | No  | NA | NA  | NA  | NA | NA | No | No  | No  | ⋯ | No  | No  | No  | Yes | No  | Yes | No  | Yes | No  | Yes |\n",
       "| 93709 | No  | NA | NA  | NA  | NA | NA | No | Yes | No  | ⋯ | No  | No  | Yes | No  | No  | Yes | Yes | Yes | Yes | No  |\n",
       "| 93711 | No  | NA | NA  | NA  | NA | NA | No | No  | No  | ⋯ | Yes | No  | No  | No  | No  | Yes | No  | Yes | Yes | No  |\n",
       "| 93712 | Yes |  5 | No  | NA  | NA | NA | No | No  | No  | ⋯ | NA  | No  | Yes | Yes | No  | No  | Yes | Yes | Yes | NA  |\n",
       "| 93713 | No  | NA | NA  | NA  | NA | NA | No | No  | No  | ⋯ | No  | No  | No  | No  | Yes | No  | No  | No  | No  | Yes |\n",
       "| 93714 | No  | NA | NA  | NA  | NA | NA | No | Yes | No  | ⋯ | No  | Yes | Yes | Yes | Yes | No  | No  | No  | No  | No  |\n",
       "| 93715 | No  | NA | NA  | NA  | NA | NA | No | No  | No  | ⋯ | Yes | No  | Yes | Yes | Yes | Yes | Yes | No  | Yes | No  |\n",
       "| 93716 | Yes |  5 | No  | NA  | NA | NA | No | Yes | No  | ⋯ | No  | Yes | No  | No  | Yes | Yes | Yes | No  | Yes | No  |\n",
       "| 93717 | No  | NA | NA  | NA  | NA | NA | No | No  | No  | ⋯ | Yes | No  | No  | No  | No  | Yes | No  | No  | No  | NA  |\n",
       "| 93718 | No  | NA | NA  | NA  | NA | NA | No | No  | No  | ⋯ | Yes | No  | No  | No  | No  | No  | Yes | Yes | Yes | No  |\n",
       "| 93719 | Yes |  7 | Yes | Yes | No | No | No | NA  | No  | ⋯ | NA  | NA  | NA  | NA  | NA  | NA  | NA  | NA  | NA  | NA  |\n",
       "| 93720 | No  | NA | NA  | NA  | NA | NA | No | NA  | NA  | ⋯ | NA  | NA  | NA  | NA  | NA  | NA  | NA  | NA  | NA  | NA  |\n",
       "| 93721 | No  | NA | NA  | NA  | NA | NA | No | No  | No  | ⋯ | No  | No  | Yes | No  | No  | Yes | No  | No  | No  | No  |\n",
       "| 93722 | Yes | 20 | Yes | Yes | No | No | No | Yes | No  | ⋯ | No  | No  | No  | No  | No  | No  | No  | No  | No  | No  |\n",
       "| 93723 | No  | NA | NA  | NA  | NA | NA | No | No  | No  | ⋯ | No  | No  | No  | No  | Yes | Yes | Yes | Yes | Yes | No  |\n",
       "| 93724 | No  | NA | NA  | NA  | NA | NA | No | NA  | NA  | ⋯ | NA  | NA  | NA  | NA  | NA  | NA  | NA  | NA  | NA  | NA  |\n",
       "| 93725 | No  | NA | NA  | NA  | NA | NA | No | NA  | No  | ⋯ | NA  | NA  | NA  | NA  | NA  | NA  | NA  | NA  | NA  | NA  |\n",
       "| 93726 | No  | NA | NA  | NA  | NA | NA | No | Yes | No  | ⋯ | No  | Yes | Yes | Yes | Yes | Yes | Yes | Yes | Yes | No  |\n",
       "| 93727 | No  | NA | NA  | NA  | NA | NA | No | No  | No  | ⋯ | No  | No  | Yes | No  | No  | Yes | Yes | Yes | Yes | Yes |\n",
       "| 93728 | No  | NA | NA  | NA  | NA | NA | No | No  | No  | ⋯ | No  | No  | No  | Yes | Yes | No  | No  | Yes | Yes | No  |\n",
       "| 93729 | No  | NA | NA  | NA  | NA | NA | No | No  | Yes | ⋯ | No  | No  | No  | No  | No  | Yes | No  | Yes | No  | No  |\n",
       "| 93730 | No  | NA | NA  | NA  | NA | NA | No | No  | No  | ⋯ | No  | No  | Yes | Yes | Yes | Yes | Yes | Yes | Yes | No  |\n",
       "| 93731 | No  | NA | NA  | NA  | NA | NA | No | No  | No  | ⋯ | No  | No  | No  | No  | No  | No  | No  | No  | Yes | NA  |\n",
       "| 93732 | No  | NA | NA  | NA  | NA | NA | No | No  | No  | ⋯ | No  | No  | No  | Yes | Yes | No  | Yes | Yes | Yes | Yes |\n",
       "| 93733 | No  | NA | NA  | NA  | NA | NA | No | NA  | No  | ⋯ | NA  | NA  | NA  | NA  | NA  | NA  | NA  | NA  | NA  | NA  |\n",
       "| ⋮ | ⋮ | ⋮ | ⋮ | ⋮ | ⋮ | ⋮ | ⋮ | ⋮ | ⋮ | ⋱ | ⋮ | ⋮ | ⋮ | ⋮ | ⋮ | ⋮ | ⋮ | ⋮ | ⋮ | ⋮ |\n",
       "| 102924 | No  | NA | NA  | NA  | NA | NA  | No  | Yes | No  | ⋯ | Yes | Yes | Yes | No  | Yes | Yes | No  | Yes | Yes | No  |\n",
       "| 102925 | No  | NA | NA  | NA  | NA | NA  | No  | NA  | NA  | ⋯ | NA  | NA  | NA  | NA  | NA  | NA  | NA  | NA  | NA  | NA  |\n",
       "| 102926 | No  | NA | NA  | NA  | NA | NA  | No  | NA  | No  | ⋯ | NA  | NA  | NA  | NA  | NA  | NA  | NA  | NA  | NA  | NA  |\n",
       "| 102929 | No  | NA | NA  | NA  | NA | NA  | No  | Yes | No  | ⋯ | No  | Yes | Yes | Yes | Yes | No  | Yes | Yes | No  | No  |\n",
       "| 102930 | No  | NA | NA  | NA  | NA | NA  | No  | NA  | NA  | ⋯ | NA  | NA  | NA  | NA  | NA  | NA  | NA  | NA  | NA  | NA  |\n",
       "| 102931 | No  | NA | NA  | NA  | NA | NA  | No  | NA  | No  | ⋯ | NA  | NA  | NA  | NA  | NA  | NA  | NA  | NA  | NA  | NA  |\n",
       "| 102932 | No  | NA | NA  | NA  | NA | NA  | No  | NA  | NA  | ⋯ | NA  | NA  | NA  | NA  | NA  | NA  | NA  | NA  | NA  | NA  |\n",
       "| 102933 | No  | NA | NA  | NA  | NA | NA  | No  | No  | No  | ⋯ | No  | No  | No  | No  | No  | Yes | Yes | Yes | Yes | NA  |\n",
       "| 102934 | No  | NA | NA  | NA  | NA | NA  | No  | Yes | No  | ⋯ | No  | No  | No  | No  | No  | No  | Yes | No  | No  | No  |\n",
       "| 102935 | Yes | 15 | No  | NA  | NA | NA  | No  | Yes | No  | ⋯ | No  | No  | No  | No  | No  | Yes | Yes | No  | Yes | NA  |\n",
       "| 102936 | No  | NA | NA  | NA  | NA | NA  | Yes | NA  | NA  | ⋯ | NA  | NA  | NA  | NA  | NA  | NA  | NA  | NA  | NA  | NA  |\n",
       "| 102937 | No  | NA | NA  | NA  | NA | NA  | No  | NA  | NA  | ⋯ | NA  | NA  | NA  | NA  | NA  | NA  | NA  | NA  | NA  | NA  |\n",
       "| 102938 | No  | NA | NA  | NA  | NA | NA  | No  | NA  | NA  | ⋯ | NA  | NA  | NA  | NA  | NA  | NA  | NA  | NA  | NA  | NA  |\n",
       "| 102939 | No  | NA | NA  | NA  | NA | NA  | No  | NA  | NA  | ⋯ | NA  | NA  | NA  | NA  | NA  | NA  | NA  | NA  | NA  | NA  |\n",
       "| 102940 | No  | NA | NA  | NA  | NA | NA  | No  | Yes | Yes | ⋯ | No  | No  | No  | No  | No  | Yes | No  | No  | No  | Yes |\n",
       "| 102941 | Yes |  4 | No  | NA  | NA | NA  | No  | NA  | No  | ⋯ | NA  | NA  | NA  | NA  | NA  | NA  | NA  | NA  | NA  | NA  |\n",
       "| 102943 | Yes | 41 | No  | NA  | NA | NA  | No  | Yes | No  | ⋯ | No  | Yes | Yes | Yes | Yes | No  | No  | No  | No  | No  |\n",
       "| 102944 | Yes | 42 | Yes | No  | No | No  | No  | Yes | No  | ⋯ | No  | No  | Yes | Yes | Yes | Yes | Yes | Yes | Yes | No  |\n",
       "| 102945 | No  | NA | NA  | NA  | NA | NA  | No  | NA  | No  | ⋯ | NA  | NA  | NA  | NA  | NA  | NA  | NA  | NA  | NA  | NA  |\n",
       "| 102946 | No  | NA | NA  | NA  | NA | NA  | No  | Yes | Yes | ⋯ | No  | Yes | Yes | Yes | Yes | Yes | Yes | No  | No  | No  |\n",
       "| 102947 | No  | NA | NA  | NA  | NA | NA  | No  | Yes | Yes | ⋯ | No  | Yes | Yes | No  | Yes | Yes | Yes | Yes | Yes | No  |\n",
       "| 102948 | No  | NA | NA  | NA  | NA | NA  | No  | No  | No  | ⋯ | No  | No  | No  | No  | No  | Yes | Yes | No  | Yes | NA  |\n",
       "| 102949 | No  | NA | NA  | NA  | NA | NA  | No  | No  | No  | ⋯ | No  | No  | No  | No  | No  | No  | No  | No  | No  | NA  |\n",
       "| 102950 | No  | NA | NA  | NA  | NA | NA  | No  | Yes | No  | ⋯ | No  | Yes | Yes | Yes | Yes | Yes | No  | Yes | Yes | Yes |\n",
       "| 102951 | No  | NA | NA  | NA  | NA | NA  | No  | NA  | NA  | ⋯ | NA  | NA  | NA  | NA  | NA  | NA  | NA  | NA  | NA  | NA  |\n",
       "| 102952 | No  | NA | NA  | NA  | NA | NA  | No  | No  | No  | ⋯ | No  | No  | No  | No  | No  | Yes | Yes | Yes | Yes | No  |\n",
       "| 102953 | Yes | 42 | Yes | Yes | No | Yes | No  | Yes | No  | ⋯ | No  | Yes | Yes | Yes | Yes | No  | No  | No  | No  | No  |\n",
       "| 102954 | No  | NA | NA  | NA  | NA | NA  | No  | Yes | No  | ⋯ | No  | Yes | No  | No  | No  | Yes | Yes | Yes | Yes | No  |\n",
       "| 102955 | No  | NA | NA  | NA  | NA | NA  | No  | NA  | No  | ⋯ | NA  | NA  | NA  | NA  | NA  | NA  | NA  | NA  | NA  | NA  |\n",
       "| 102956 | No  | NA | NA  | NA  | NA | NA  | No  | Yes | No  | ⋯ | No  | No  | No  | No  | No  | No  | No  | No  | No  | NA  |\n",
       "\n"
      ],
      "text/plain": [
       "     SEQN   MCQ010 MCQ025 MCQ035 MCQ040 MCQ050 AGQ030 MCQ053 MCQ080 MCQ092 ⋯\n",
       "1    93703  No     NA     NA     NA     NA     NA     No     NA     NA     ⋯\n",
       "2    93704  No     NA     NA     NA     NA     NA     No     NA     NA     ⋯\n",
       "3    93705  Yes    10     No     NA     NA     NA     No     No     No     ⋯\n",
       "4    93706  No     NA     NA     NA     NA     NA     No     No     No     ⋯\n",
       "5    93707  No     NA     NA     NA     NA     NA     No     NA     No     ⋯\n",
       "6    93708  No     NA     NA     NA     NA     NA     No     No     No     ⋯\n",
       "7    93709  No     NA     NA     NA     NA     NA     No     Yes    No     ⋯\n",
       "8    93711  No     NA     NA     NA     NA     NA     No     No     No     ⋯\n",
       "9    93712  Yes     5     No     NA     NA     NA     No     No     No     ⋯\n",
       "10   93713  No     NA     NA     NA     NA     NA     No     No     No     ⋯\n",
       "11   93714  No     NA     NA     NA     NA     NA     No     Yes    No     ⋯\n",
       "12   93715  No     NA     NA     NA     NA     NA     No     No     No     ⋯\n",
       "13   93716  Yes     5     No     NA     NA     NA     No     Yes    No     ⋯\n",
       "14   93717  No     NA     NA     NA     NA     NA     No     No     No     ⋯\n",
       "15   93718  No     NA     NA     NA     NA     NA     No     No     No     ⋯\n",
       "16   93719  Yes     7     Yes    Yes    No     No     No     NA     No     ⋯\n",
       "17   93720  No     NA     NA     NA     NA     NA     No     NA     NA     ⋯\n",
       "18   93721  No     NA     NA     NA     NA     NA     No     No     No     ⋯\n",
       "19   93722  Yes    20     Yes    Yes    No     No     No     Yes    No     ⋯\n",
       "20   93723  No     NA     NA     NA     NA     NA     No     No     No     ⋯\n",
       "21   93724  No     NA     NA     NA     NA     NA     No     NA     NA     ⋯\n",
       "22   93725  No     NA     NA     NA     NA     NA     No     NA     No     ⋯\n",
       "23   93726  No     NA     NA     NA     NA     NA     No     Yes    No     ⋯\n",
       "24   93727  No     NA     NA     NA     NA     NA     No     No     No     ⋯\n",
       "25   93728  No     NA     NA     NA     NA     NA     No     No     No     ⋯\n",
       "26   93729  No     NA     NA     NA     NA     NA     No     No     Yes    ⋯\n",
       "27   93730  No     NA     NA     NA     NA     NA     No     No     No     ⋯\n",
       "28   93731  No     NA     NA     NA     NA     NA     No     No     No     ⋯\n",
       "29   93732  No     NA     NA     NA     NA     NA     No     No     No     ⋯\n",
       "30   93733  No     NA     NA     NA     NA     NA     No     NA     No     ⋯\n",
       "⋮    ⋮      ⋮      ⋮      ⋮      ⋮      ⋮      ⋮      ⋮      ⋮      ⋮      ⋱\n",
       "8868 102924 No     NA     NA     NA     NA     NA     No     Yes    No     ⋯\n",
       "8869 102925 No     NA     NA     NA     NA     NA     No     NA     NA     ⋯\n",
       "8870 102926 No     NA     NA     NA     NA     NA     No     NA     No     ⋯\n",
       "8871 102929 No     NA     NA     NA     NA     NA     No     Yes    No     ⋯\n",
       "8872 102930 No     NA     NA     NA     NA     NA     No     NA     NA     ⋯\n",
       "8873 102931 No     NA     NA     NA     NA     NA     No     NA     No     ⋯\n",
       "8874 102932 No     NA     NA     NA     NA     NA     No     NA     NA     ⋯\n",
       "8875 102933 No     NA     NA     NA     NA     NA     No     No     No     ⋯\n",
       "8876 102934 No     NA     NA     NA     NA     NA     No     Yes    No     ⋯\n",
       "8877 102935 Yes    15     No     NA     NA     NA     No     Yes    No     ⋯\n",
       "8878 102936 No     NA     NA     NA     NA     NA     Yes    NA     NA     ⋯\n",
       "8879 102937 No     NA     NA     NA     NA     NA     No     NA     NA     ⋯\n",
       "8880 102938 No     NA     NA     NA     NA     NA     No     NA     NA     ⋯\n",
       "8881 102939 No     NA     NA     NA     NA     NA     No     NA     NA     ⋯\n",
       "8882 102940 No     NA     NA     NA     NA     NA     No     Yes    Yes    ⋯\n",
       "8883 102941 Yes     4     No     NA     NA     NA     No     NA     No     ⋯\n",
       "8884 102943 Yes    41     No     NA     NA     NA     No     Yes    No     ⋯\n",
       "8885 102944 Yes    42     Yes    No     No     No     No     Yes    No     ⋯\n",
       "8886 102945 No     NA     NA     NA     NA     NA     No     NA     No     ⋯\n",
       "8887 102946 No     NA     NA     NA     NA     NA     No     Yes    Yes    ⋯\n",
       "8888 102947 No     NA     NA     NA     NA     NA     No     Yes    Yes    ⋯\n",
       "8889 102948 No     NA     NA     NA     NA     NA     No     No     No     ⋯\n",
       "8890 102949 No     NA     NA     NA     NA     NA     No     No     No     ⋯\n",
       "8891 102950 No     NA     NA     NA     NA     NA     No     Yes    No     ⋯\n",
       "8892 102951 No     NA     NA     NA     NA     NA     No     NA     NA     ⋯\n",
       "8893 102952 No     NA     NA     NA     NA     NA     No     No     No     ⋯\n",
       "8894 102953 Yes    42     Yes    Yes    No     Yes    No     Yes    No     ⋯\n",
       "8895 102954 No     NA     NA     NA     NA     NA     No     Yes    No     ⋯\n",
       "8896 102955 No     NA     NA     NA     NA     NA     No     NA     No     ⋯\n",
       "8897 102956 No     NA     NA     NA     NA     NA     No     Yes    No     ⋯\n",
       "     MCQ300A MCQ366A MCQ366B MCQ366C MCQ366D MCQ371A MCQ371B MCQ371C MCQ371D\n",
       "1    NA      NA      NA      NA      NA      NA      NA      NA      NA     \n",
       "2    NA      NA      NA      NA      NA      NA      NA      NA      NA     \n",
       "3    No      No      No      No      No      Yes     Yes     Yes     Yes    \n",
       "4    NA      No      No      No      No      No      No      No      No     \n",
       "5    NA      NA      NA      NA      NA      NA      NA      NA      NA     \n",
       "6    No      No      No      Yes     No      Yes     No      Yes     No     \n",
       "7    No      No      Yes     No      No      Yes     Yes     Yes     Yes    \n",
       "8    Yes     No      No      No      No      Yes     No      Yes     Yes    \n",
       "9    NA      No      Yes     Yes     No      No      Yes     Yes     Yes    \n",
       "10   No      No      No      No      Yes     No      No      No      No     \n",
       "11   No      Yes     Yes     Yes     Yes     No      No      No      No     \n",
       "12   Yes     No      Yes     Yes     Yes     Yes     Yes     No      Yes    \n",
       "13   No      Yes     No      No      Yes     Yes     Yes     No      Yes    \n",
       "14   Yes     No      No      No      No      Yes     No      No      No     \n",
       "15   Yes     No      No      No      No      No      Yes     Yes     Yes    \n",
       "16   NA      NA      NA      NA      NA      NA      NA      NA      NA     \n",
       "17   NA      NA      NA      NA      NA      NA      NA      NA      NA     \n",
       "18   No      No      Yes     No      No      Yes     No      No      No     \n",
       "19   No      No      No      No      No      No      No      No      No     \n",
       "20   No      No      No      No      Yes     Yes     Yes     Yes     Yes    \n",
       "21   NA      NA      NA      NA      NA      NA      NA      NA      NA     \n",
       "22   NA      NA      NA      NA      NA      NA      NA      NA      NA     \n",
       "23   No      Yes     Yes     Yes     Yes     Yes     Yes     Yes     Yes    \n",
       "24   No      No      Yes     No      No      Yes     Yes     Yes     Yes    \n",
       "25   No      No      No      Yes     Yes     No      No      Yes     Yes    \n",
       "26   No      No      No      No      No      Yes     No      Yes     No     \n",
       "27   No      No      Yes     Yes     Yes     Yes     Yes     Yes     Yes    \n",
       "28   No      No      No      No      No      No      No      No      Yes    \n",
       "29   No      No      No      Yes     Yes     No      Yes     Yes     Yes    \n",
       "30   NA      NA      NA      NA      NA      NA      NA      NA      NA     \n",
       "⋮    ⋮       ⋮       ⋮       ⋮       ⋮       ⋮       ⋮       ⋮       ⋮      \n",
       "8868 Yes     Yes     Yes     No      Yes     Yes     No      Yes     Yes    \n",
       "8869 NA      NA      NA      NA      NA      NA      NA      NA      NA     \n",
       "8870 NA      NA      NA      NA      NA      NA      NA      NA      NA     \n",
       "8871 No      Yes     Yes     Yes     Yes     No      Yes     Yes     No     \n",
       "8872 NA      NA      NA      NA      NA      NA      NA      NA      NA     \n",
       "8873 NA      NA      NA      NA      NA      NA      NA      NA      NA     \n",
       "8874 NA      NA      NA      NA      NA      NA      NA      NA      NA     \n",
       "8875 No      No      No      No      No      Yes     Yes     Yes     Yes    \n",
       "8876 No      No      No      No      No      No      Yes     No      No     \n",
       "8877 No      No      No      No      No      Yes     Yes     No      Yes    \n",
       "8878 NA      NA      NA      NA      NA      NA      NA      NA      NA     \n",
       "8879 NA      NA      NA      NA      NA      NA      NA      NA      NA     \n",
       "8880 NA      NA      NA      NA      NA      NA      NA      NA      NA     \n",
       "8881 NA      NA      NA      NA      NA      NA      NA      NA      NA     \n",
       "8882 No      No      No      No      No      Yes     No      No      No     \n",
       "8883 NA      NA      NA      NA      NA      NA      NA      NA      NA     \n",
       "8884 No      Yes     Yes     Yes     Yes     No      No      No      No     \n",
       "8885 No      No      Yes     Yes     Yes     Yes     Yes     Yes     Yes    \n",
       "8886 NA      NA      NA      NA      NA      NA      NA      NA      NA     \n",
       "8887 No      Yes     Yes     Yes     Yes     Yes     Yes     No      No     \n",
       "8888 No      Yes     Yes     No      Yes     Yes     Yes     Yes     Yes    \n",
       "8889 No      No      No      No      No      Yes     Yes     No      Yes    \n",
       "8890 No      No      No      No      No      No      No      No      No     \n",
       "8891 No      Yes     Yes     Yes     Yes     Yes     No      Yes     Yes    \n",
       "8892 NA      NA      NA      NA      NA      NA      NA      NA      NA     \n",
       "8893 No      No      No      No      No      Yes     Yes     Yes     Yes    \n",
       "8894 No      Yes     Yes     Yes     Yes     No      No      No      No     \n",
       "8895 No      Yes     No      No      No      Yes     Yes     Yes     Yes    \n",
       "8896 NA      NA      NA      NA      NA      NA      NA      NA      NA     \n",
       "8897 No      No      No      No      No      No      No      No      No     \n",
       "     OSQ230\n",
       "1    NA    \n",
       "2    NA    \n",
       "3    No    \n",
       "4    NA    \n",
       "5    NA    \n",
       "6    Yes   \n",
       "7    No    \n",
       "8    No    \n",
       "9    NA    \n",
       "10   Yes   \n",
       "11   No    \n",
       "12   No    \n",
       "13   No    \n",
       "14   NA    \n",
       "15   No    \n",
       "16   NA    \n",
       "17   NA    \n",
       "18   No    \n",
       "19   No    \n",
       "20   No    \n",
       "21   NA    \n",
       "22   NA    \n",
       "23   No    \n",
       "24   Yes   \n",
       "25   No    \n",
       "26   No    \n",
       "27   No    \n",
       "28   NA    \n",
       "29   Yes   \n",
       "30   NA    \n",
       "⋮    ⋮     \n",
       "8868 No    \n",
       "8869 NA    \n",
       "8870 NA    \n",
       "8871 No    \n",
       "8872 NA    \n",
       "8873 NA    \n",
       "8874 NA    \n",
       "8875 NA    \n",
       "8876 No    \n",
       "8877 NA    \n",
       "8878 NA    \n",
       "8879 NA    \n",
       "8880 NA    \n",
       "8881 NA    \n",
       "8882 Yes   \n",
       "8883 NA    \n",
       "8884 No    \n",
       "8885 No    \n",
       "8886 NA    \n",
       "8887 No    \n",
       "8888 No    \n",
       "8889 NA    \n",
       "8890 NA    \n",
       "8891 Yes   \n",
       "8892 NA    \n",
       "8893 No    \n",
       "8894 No    \n",
       "8895 No    \n",
       "8896 NA    \n",
       "8897 NA    "
      ]
     },
     "metadata": {},
     "output_type": "display_data"
    }
   ],
   "source": [
    "# demo <- nhanes(\"DEMO_J\")\n",
    "# mcq <- nhanes(\"MCQ_J\")\n",
    "# smq <- nhanes(\"SMQ_J\")"
   ]
  },
  {
   "cell_type": "code",
   "execution_count": 39,
   "id": "b1382d66",
   "metadata": {
    "slideshow": {
     "slide_type": "slide"
    }
   },
   "outputs": [
    {
     "data": {
      "text/html": [
       "<dl>\n",
       "\t<dt>$`Variable Name:`</dt>\n",
       "\t\t<dd>'MCQ230A'</dd>\n",
       "\t<dt>$`SAS Label:`</dt>\n",
       "\t\t<dd>'What kind of cancer'</dd>\n",
       "\t<dt>$`English Text:`</dt>\n",
       "\t\t<dd>'What kind of cancer was it?'</dd>\n",
       "\t<dt>$`English Instructions:`</dt>\n",
       "\t\t<dd>'ENTER UP TO 3 KINDS. IF RESPONDENT OFFERS MORE THAN 3, ENTER 66 AS THE 4TH RESPONSE. CAPI INSTRUCTIONS: ALLOW UP TO 3 ENTRIES. ALLOW \\'MORE THAN 3 KINDS\\' (CODE 66) ONLY AS 4TH ENTRY.'</dd>\n",
       "\t<dt>$`Target:`</dt>\n",
       "\t\t<dd>'Both males and females 20 YEARS -\\r 120 YEARS'</dd>\n",
       "\t<dt>$MCQ230A</dt>\n",
       "\t\t<dd><table class=\"dataframe\">\n",
       "<caption>A tibble: 34 × 5</caption>\n",
       "<thead>\n",
       "\t<tr><th scope=col>Code or Value</th><th scope=col>Value Description</th><th scope=col>Count</th><th scope=col>Cumulative</th><th scope=col>Skip to Item</th></tr>\n",
       "\t<tr><th scope=col>&lt;chr&gt;</th><th scope=col>&lt;chr&gt;</th><th scope=col>&lt;int&gt;</th><th scope=col>&lt;int&gt;</th><th scope=col>&lt;lgl&gt;</th></tr>\n",
       "</thead>\n",
       "<tbody>\n",
       "\t<tr><td>10</td><td>Bladder                    </td><td>  10</td><td>  10</td><td>NA</td></tr>\n",
       "\t<tr><td>11</td><td>Blood                      </td><td>   1</td><td>  11</td><td>NA</td></tr>\n",
       "\t<tr><td>12</td><td>Bone                       </td><td>   5</td><td>  16</td><td>NA</td></tr>\n",
       "\t<tr><td>13</td><td>Brain                      </td><td>   0</td><td>  16</td><td>NA</td></tr>\n",
       "\t<tr><td>14</td><td>Breast                     </td><td>  63</td><td>  79</td><td>NA</td></tr>\n",
       "\t<tr><td>15</td><td>Cervix (cervical)          </td><td>  20</td><td>  99</td><td>NA</td></tr>\n",
       "\t<tr><td>16</td><td>Colon                      </td><td>  28</td><td> 127</td><td>NA</td></tr>\n",
       "\t<tr><td>17</td><td>Esophagus (esophageal)     </td><td>   2</td><td> 129</td><td>NA</td></tr>\n",
       "\t<tr><td>18</td><td>Gallbladder                </td><td>   0</td><td> 129</td><td>NA</td></tr>\n",
       "\t<tr><td>19</td><td>Kidney                     </td><td>   6</td><td> 135</td><td>NA</td></tr>\n",
       "\t<tr><td>20</td><td>Larynx/ windpipe           </td><td>   3</td><td> 138</td><td>NA</td></tr>\n",
       "\t<tr><td>21</td><td>Leukemia                   </td><td>   4</td><td> 142</td><td>NA</td></tr>\n",
       "\t<tr><td>22</td><td>Liver                      </td><td>   1</td><td> 143</td><td>NA</td></tr>\n",
       "\t<tr><td>23</td><td>Lung                       </td><td>  10</td><td> 153</td><td>NA</td></tr>\n",
       "\t<tr><td>24</td><td>Lymphoma/Hodgkin's disease </td><td>   4</td><td> 157</td><td>NA</td></tr>\n",
       "\t<tr><td>25</td><td>Melanoma                   </td><td>  25</td><td> 182</td><td>NA</td></tr>\n",
       "\t<tr><td>26</td><td>Mouth/tongue/lip           </td><td>   5</td><td> 187</td><td>NA</td></tr>\n",
       "\t<tr><td>27</td><td>Nervous system             </td><td>   0</td><td> 187</td><td>NA</td></tr>\n",
       "\t<tr><td>28</td><td>Ovary (ovarian)            </td><td>  18</td><td> 205</td><td>NA</td></tr>\n",
       "\t<tr><td>29</td><td>Pancreas (pancreatic)      </td><td>   0</td><td> 205</td><td>NA</td></tr>\n",
       "\t<tr><td>30</td><td>Prostate                   </td><td>  73</td><td> 278</td><td>NA</td></tr>\n",
       "\t<tr><td>31</td><td>Rectum (rectal)            </td><td>   3</td><td> 281</td><td>NA</td></tr>\n",
       "\t<tr><td>32</td><td>Skin (non-melanoma)        </td><td>  35</td><td> 316</td><td>NA</td></tr>\n",
       "\t<tr><td>33</td><td>Skin (don't know what kind)</td><td>  25</td><td> 341</td><td>NA</td></tr>\n",
       "\t<tr><td>34</td><td>Soft tissue (muscle or fat)</td><td>   2</td><td> 343</td><td>NA</td></tr>\n",
       "\t<tr><td>35</td><td>Stomach                    </td><td>   5</td><td> 348</td><td>NA</td></tr>\n",
       "\t<tr><td>36</td><td>Testis (testicular)        </td><td>   2</td><td> 350</td><td>NA</td></tr>\n",
       "\t<tr><td>37</td><td>Thyroid                    </td><td>   3</td><td> 353</td><td>NA</td></tr>\n",
       "\t<tr><td>38</td><td>Uterus (uterine)           </td><td>  17</td><td> 370</td><td>NA</td></tr>\n",
       "\t<tr><td>39</td><td>Other                      </td><td>  13</td><td> 383</td><td>NA</td></tr>\n",
       "\t<tr><td>66</td><td>More than 3 kinds          </td><td>   0</td><td> 383</td><td>NA</td></tr>\n",
       "\t<tr><td>77</td><td>Refused                    </td><td>   0</td><td> 383</td><td>NA</td></tr>\n",
       "\t<tr><td>99</td><td>Don't know                 </td><td>   3</td><td> 386</td><td>NA</td></tr>\n",
       "\t<tr><td>. </td><td>Missing                    </td><td>9107</td><td>9493</td><td>NA</td></tr>\n",
       "</tbody>\n",
       "</table>\n",
       "</dd>\n",
       "</dl>\n"
      ],
      "text/latex": [
       "\\begin{description}\n",
       "\\item[\\$`Variable Name:`] 'MCQ230A'\n",
       "\\item[\\$`SAS Label:`] 'What kind of cancer'\n",
       "\\item[\\$`English Text:`] 'What kind of cancer was it?'\n",
       "\\item[\\$`English Instructions:`] 'ENTER UP TO 3 KINDS. IF RESPONDENT OFFERS MORE THAN 3, ENTER 66 AS THE 4TH RESPONSE. CAPI INSTRUCTIONS: ALLOW UP TO 3 ENTRIES. ALLOW \\textbackslash{}'MORE THAN 3 KINDS\\textbackslash{}' (CODE 66) ONLY AS 4TH ENTRY.'\n",
       "\\item[\\$`Target:`] 'Both males and females 20 YEARS -\\textbackslash{}r 120 YEARS'\n",
       "\\item[\\$MCQ230A] A tibble: 34 × 5\n",
       "\\begin{tabular}{lllll}\n",
       " Code or Value & Value Description & Count & Cumulative & Skip to Item\\\\\n",
       " <chr> & <chr> & <int> & <int> & <lgl>\\\\\n",
       "\\hline\n",
       "\t 10 & Bladder                     &   10 &   10 & NA\\\\\n",
       "\t 11 & Blood                       &    1 &   11 & NA\\\\\n",
       "\t 12 & Bone                        &    5 &   16 & NA\\\\\n",
       "\t 13 & Brain                       &    0 &   16 & NA\\\\\n",
       "\t 14 & Breast                      &   63 &   79 & NA\\\\\n",
       "\t 15 & Cervix (cervical)           &   20 &   99 & NA\\\\\n",
       "\t 16 & Colon                       &   28 &  127 & NA\\\\\n",
       "\t 17 & Esophagus (esophageal)      &    2 &  129 & NA\\\\\n",
       "\t 18 & Gallbladder                 &    0 &  129 & NA\\\\\n",
       "\t 19 & Kidney                      &    6 &  135 & NA\\\\\n",
       "\t 20 & Larynx/ windpipe            &    3 &  138 & NA\\\\\n",
       "\t 21 & Leukemia                    &    4 &  142 & NA\\\\\n",
       "\t 22 & Liver                       &    1 &  143 & NA\\\\\n",
       "\t 23 & Lung                        &   10 &  153 & NA\\\\\n",
       "\t 24 & Lymphoma/Hodgkin's disease  &    4 &  157 & NA\\\\\n",
       "\t 25 & Melanoma                    &   25 &  182 & NA\\\\\n",
       "\t 26 & Mouth/tongue/lip            &    5 &  187 & NA\\\\\n",
       "\t 27 & Nervous system              &    0 &  187 & NA\\\\\n",
       "\t 28 & Ovary (ovarian)             &   18 &  205 & NA\\\\\n",
       "\t 29 & Pancreas (pancreatic)       &    0 &  205 & NA\\\\\n",
       "\t 30 & Prostate                    &   73 &  278 & NA\\\\\n",
       "\t 31 & Rectum (rectal)             &    3 &  281 & NA\\\\\n",
       "\t 32 & Skin (non-melanoma)         &   35 &  316 & NA\\\\\n",
       "\t 33 & Skin (don't know what kind) &   25 &  341 & NA\\\\\n",
       "\t 34 & Soft tissue (muscle or fat) &    2 &  343 & NA\\\\\n",
       "\t 35 & Stomach                     &    5 &  348 & NA\\\\\n",
       "\t 36 & Testis (testicular)         &    2 &  350 & NA\\\\\n",
       "\t 37 & Thyroid                     &    3 &  353 & NA\\\\\n",
       "\t 38 & Uterus (uterine)            &   17 &  370 & NA\\\\\n",
       "\t 39 & Other                       &   13 &  383 & NA\\\\\n",
       "\t 66 & More than 3 kinds           &    0 &  383 & NA\\\\\n",
       "\t 77 & Refused                     &    0 &  383 & NA\\\\\n",
       "\t 99 & Don't know                  &    3 &  386 & NA\\\\\n",
       "\t .  & Missing                     & 9107 & 9493 & NA\\\\\n",
       "\\end{tabular}\n",
       "\n",
       "\\end{description}\n"
      ],
      "text/markdown": [
       "$`Variable Name:`\n",
       ":   'MCQ230A'\n",
       "$`SAS Label:`\n",
       ":   'What kind of cancer'\n",
       "$`English Text:`\n",
       ":   'What kind of cancer was it?'\n",
       "$`English Instructions:`\n",
       ":   'ENTER UP TO 3 KINDS. IF RESPONDENT OFFERS MORE THAN 3, ENTER 66 AS THE 4TH RESPONSE. CAPI INSTRUCTIONS: ALLOW UP TO 3 ENTRIES. ALLOW \\'MORE THAN 3 KINDS\\' (CODE 66) ONLY AS 4TH ENTRY.'\n",
       "$`Target:`\n",
       ":   'Both males and females 20 YEARS -\\r 120 YEARS'\n",
       "$MCQ230A\n",
       ":   \n",
       "A tibble: 34 × 5\n",
       "\n",
       "| Code or Value &lt;chr&gt; | Value Description &lt;chr&gt; | Count &lt;int&gt; | Cumulative &lt;int&gt; | Skip to Item &lt;lgl&gt; |\n",
       "|---|---|---|---|---|\n",
       "| 10 | Bladder                     |   10 |   10 | NA |\n",
       "| 11 | Blood                       |    1 |   11 | NA |\n",
       "| 12 | Bone                        |    5 |   16 | NA |\n",
       "| 13 | Brain                       |    0 |   16 | NA |\n",
       "| 14 | Breast                      |   63 |   79 | NA |\n",
       "| 15 | Cervix (cervical)           |   20 |   99 | NA |\n",
       "| 16 | Colon                       |   28 |  127 | NA |\n",
       "| 17 | Esophagus (esophageal)      |    2 |  129 | NA |\n",
       "| 18 | Gallbladder                 |    0 |  129 | NA |\n",
       "| 19 | Kidney                      |    6 |  135 | NA |\n",
       "| 20 | Larynx/ windpipe            |    3 |  138 | NA |\n",
       "| 21 | Leukemia                    |    4 |  142 | NA |\n",
       "| 22 | Liver                       |    1 |  143 | NA |\n",
       "| 23 | Lung                        |   10 |  153 | NA |\n",
       "| 24 | Lymphoma/Hodgkin's disease  |    4 |  157 | NA |\n",
       "| 25 | Melanoma                    |   25 |  182 | NA |\n",
       "| 26 | Mouth/tongue/lip            |    5 |  187 | NA |\n",
       "| 27 | Nervous system              |    0 |  187 | NA |\n",
       "| 28 | Ovary (ovarian)             |   18 |  205 | NA |\n",
       "| 29 | Pancreas (pancreatic)       |    0 |  205 | NA |\n",
       "| 30 | Prostate                    |   73 |  278 | NA |\n",
       "| 31 | Rectum (rectal)             |    3 |  281 | NA |\n",
       "| 32 | Skin (non-melanoma)         |   35 |  316 | NA |\n",
       "| 33 | Skin (don't know what kind) |   25 |  341 | NA |\n",
       "| 34 | Soft tissue (muscle or fat) |    2 |  343 | NA |\n",
       "| 35 | Stomach                     |    5 |  348 | NA |\n",
       "| 36 | Testis (testicular)         |    2 |  350 | NA |\n",
       "| 37 | Thyroid                     |    3 |  353 | NA |\n",
       "| 38 | Uterus (uterine)            |   17 |  370 | NA |\n",
       "| 39 | Other                       |   13 |  383 | NA |\n",
       "| 66 | More than 3 kinds           |    0 |  383 | NA |\n",
       "| 77 | Refused                     |    0 |  383 | NA |\n",
       "| 99 | Don't know                  |    3 |  386 | NA |\n",
       "| .  | Missing                     | 9107 | 9493 | NA |\n",
       "\n",
       "\n",
       "\n",
       "\n"
      ],
      "text/plain": [
       "$`Variable Name:`\n",
       "[1] \"MCQ230A\"\n",
       "\n",
       "$`SAS Label:`\n",
       "[1] \"What kind of cancer\"\n",
       "\n",
       "$`English Text:`\n",
       "[1] \"What kind of cancer was it?\"\n",
       "\n",
       "$`English Instructions:`\n",
       "[1] \"ENTER UP TO 3 KINDS. IF RESPONDENT OFFERS MORE THAN 3, ENTER 66 AS THE 4TH RESPONSE. CAPI INSTRUCTIONS: ALLOW UP TO 3 ENTRIES. ALLOW 'MORE THAN 3 KINDS' (CODE 66) ONLY AS 4TH ENTRY.\"\n",
       "\n",
       "$`Target:`\n",
       "[1] \"Both males and females 20 YEARS -\\r 120 YEARS\"\n",
       "\n",
       "$MCQ230A\n",
       "\u001b[90m# A tibble: 34 × 5\u001b[39m\n",
       "   `Code or Value` `Value Description`    Count Cumulative `Skip to Item`\n",
       "   \u001b[3m\u001b[90m<chr>\u001b[39m\u001b[23m           \u001b[3m\u001b[90m<chr>\u001b[39m\u001b[23m                  \u001b[3m\u001b[90m<int>\u001b[39m\u001b[23m      \u001b[3m\u001b[90m<int>\u001b[39m\u001b[23m \u001b[3m\u001b[90m<lgl>\u001b[39m\u001b[23m         \n",
       "\u001b[90m 1\u001b[39m 10              Bladder                   10         10 \u001b[31mNA\u001b[39m            \n",
       "\u001b[90m 2\u001b[39m 11              Blood                      1         11 \u001b[31mNA\u001b[39m            \n",
       "\u001b[90m 3\u001b[39m 12              Bone                       5         16 \u001b[31mNA\u001b[39m            \n",
       "\u001b[90m 4\u001b[39m 13              Brain                      0         16 \u001b[31mNA\u001b[39m            \n",
       "\u001b[90m 5\u001b[39m 14              Breast                    63         79 \u001b[31mNA\u001b[39m            \n",
       "\u001b[90m 6\u001b[39m 15              Cervix (cervical)         20         99 \u001b[31mNA\u001b[39m            \n",
       "\u001b[90m 7\u001b[39m 16              Colon                     28        127 \u001b[31mNA\u001b[39m            \n",
       "\u001b[90m 8\u001b[39m 17              Esophagus (esophageal)     2        129 \u001b[31mNA\u001b[39m            \n",
       "\u001b[90m 9\u001b[39m 18              Gallbladder                0        129 \u001b[31mNA\u001b[39m            \n",
       "\u001b[90m10\u001b[39m 19              Kidney                     6        135 \u001b[31mNA\u001b[39m            \n",
       "\u001b[90m# ℹ 24 more rows\u001b[39m\n"
      ]
     },
     "metadata": {},
     "output_type": "display_data"
    }
   ],
   "source": [
    "nhanesCodebook(\"MCQ\", \"MCQ230A\")\n",
    "# table(mcq$MCQ230A)"
   ]
  },
  {
   "cell_type": "code",
   "execution_count": 40,
   "id": "c79123dc",
   "metadata": {
    "slideshow": {
     "slide_type": "slide"
    }
   },
   "outputs": [
    {
     "data": {
      "text/html": [
       "<dl>\n",
       "\t<dt>$`Variable Name:`</dt>\n",
       "\t\t<dd>'SMQ020'</dd>\n",
       "\t<dt>$`SAS Label:`</dt>\n",
       "\t\t<dd>'Smoked at least 100 cigarettes in life'</dd>\n",
       "\t<dt>$`English Text:`</dt>\n",
       "\t\t<dd>'These next questions are about cigarette smoking and other tobacco use. {Have you/Has SP} smoked at least 100 cigarettes in {your/his/her} entire life?'</dd>\n",
       "\t<dt>$`Target:`</dt>\n",
       "\t\t<dd>'Both males and females 20 YEARS -\\r 150 YEARS'</dd>\n",
       "\t<dt>$SMQ020</dt>\n",
       "\t\t<dd><table class=\"dataframe\">\n",
       "<caption>A tibble: 5 × 5</caption>\n",
       "<thead>\n",
       "\t<tr><th scope=col>Code or Value</th><th scope=col>Value Description</th><th scope=col>Count</th><th scope=col>Cumulative</th><th scope=col>Skip to Item</th></tr>\n",
       "\t<tr><th scope=col>&lt;chr&gt;</th><th scope=col>&lt;chr&gt;</th><th scope=col>&lt;int&gt;</th><th scope=col>&lt;int&gt;</th><th scope=col>&lt;chr&gt;</th></tr>\n",
       "</thead>\n",
       "<tbody>\n",
       "\t<tr><td>1</td><td>Yes       </td><td>2299</td><td>2299</td><td>      </td></tr>\n",
       "\t<tr><td>2</td><td>No        </td><td>2566</td><td>4865</td><td>SMQ120</td></tr>\n",
       "\t<tr><td>7</td><td>Refused   </td><td>   4</td><td>4869</td><td>SMQ120</td></tr>\n",
       "\t<tr><td>9</td><td>Don't know</td><td>   8</td><td>4877</td><td>SMQ120</td></tr>\n",
       "\t<tr><td>.</td><td>Missing   </td><td>   3</td><td>4880</td><td>      </td></tr>\n",
       "</tbody>\n",
       "</table>\n",
       "</dd>\n",
       "</dl>\n"
      ],
      "text/latex": [
       "\\begin{description}\n",
       "\\item[\\$`Variable Name:`] 'SMQ020'\n",
       "\\item[\\$`SAS Label:`] 'Smoked at least 100 cigarettes in life'\n",
       "\\item[\\$`English Text:`] 'These next questions are about cigarette smoking and other tobacco use. \\{Have you/Has SP\\} smoked at least 100 cigarettes in \\{your/his/her\\} entire life?'\n",
       "\\item[\\$`Target:`] 'Both males and females 20 YEARS -\\textbackslash{}r 150 YEARS'\n",
       "\\item[\\$SMQ020] A tibble: 5 × 5\n",
       "\\begin{tabular}{lllll}\n",
       " Code or Value & Value Description & Count & Cumulative & Skip to Item\\\\\n",
       " <chr> & <chr> & <int> & <int> & <chr>\\\\\n",
       "\\hline\n",
       "\t 1 & Yes        & 2299 & 2299 &       \\\\\n",
       "\t 2 & No         & 2566 & 4865 & SMQ120\\\\\n",
       "\t 7 & Refused    &    4 & 4869 & SMQ120\\\\\n",
       "\t 9 & Don't know &    8 & 4877 & SMQ120\\\\\n",
       "\t . & Missing    &    3 & 4880 &       \\\\\n",
       "\\end{tabular}\n",
       "\n",
       "\\end{description}\n"
      ],
      "text/markdown": [
       "$`Variable Name:`\n",
       ":   'SMQ020'\n",
       "$`SAS Label:`\n",
       ":   'Smoked at least 100 cigarettes in life'\n",
       "$`English Text:`\n",
       ":   'These next questions are about cigarette smoking and other tobacco use. {Have you/Has SP} smoked at least 100 cigarettes in {your/his/her} entire life?'\n",
       "$`Target:`\n",
       ":   'Both males and females 20 YEARS -\\r 150 YEARS'\n",
       "$SMQ020\n",
       ":   \n",
       "A tibble: 5 × 5\n",
       "\n",
       "| Code or Value &lt;chr&gt; | Value Description &lt;chr&gt; | Count &lt;int&gt; | Cumulative &lt;int&gt; | Skip to Item &lt;chr&gt; |\n",
       "|---|---|---|---|---|\n",
       "| 1 | Yes        | 2299 | 2299 | <!----> |\n",
       "| 2 | No         | 2566 | 4865 | SMQ120 |\n",
       "| 7 | Refused    |    4 | 4869 | SMQ120 |\n",
       "| 9 | Don't know |    8 | 4877 | SMQ120 |\n",
       "| . | Missing    |    3 | 4880 | <!----> |\n",
       "\n",
       "\n",
       "\n",
       "\n"
      ],
      "text/plain": [
       "$`Variable Name:`\n",
       "[1] \"SMQ020\"\n",
       "\n",
       "$`SAS Label:`\n",
       "[1] \"Smoked at least 100 cigarettes in life\"\n",
       "\n",
       "$`English Text:`\n",
       "[1] \"These next questions are about cigarette smoking and other tobacco use. {Have you/Has SP} smoked at least 100 cigarettes in {your/his/her} entire life?\"\n",
       "\n",
       "$`Target:`\n",
       "[1] \"Both males and females 20 YEARS -\\r 150 YEARS\"\n",
       "\n",
       "$SMQ020\n",
       "\u001b[90m# A tibble: 5 × 5\u001b[39m\n",
       "  `Code or Value` `Value Description` Count Cumulative `Skip to Item`\n",
       "  \u001b[3m\u001b[90m<chr>\u001b[39m\u001b[23m           \u001b[3m\u001b[90m<chr>\u001b[39m\u001b[23m               \u001b[3m\u001b[90m<int>\u001b[39m\u001b[23m      \u001b[3m\u001b[90m<int>\u001b[39m\u001b[23m \u001b[3m\u001b[90m<chr>\u001b[39m\u001b[23m         \n",
       "\u001b[90m1\u001b[39m 1               Yes                  \u001b[4m2\u001b[24m299       \u001b[4m2\u001b[24m299 \u001b[90m\"\u001b[39m\u001b[90m\"\u001b[39m            \n",
       "\u001b[90m2\u001b[39m 2               No                   \u001b[4m2\u001b[24m566       \u001b[4m4\u001b[24m865 \u001b[90m\"\u001b[39mSMQ120\u001b[90m\"\u001b[39m      \n",
       "\u001b[90m3\u001b[39m 7               Refused                 4       \u001b[4m4\u001b[24m869 \u001b[90m\"\u001b[39mSMQ120\u001b[90m\"\u001b[39m      \n",
       "\u001b[90m4\u001b[39m 9               Don't know              8       \u001b[4m4\u001b[24m877 \u001b[90m\"\u001b[39mSMQ120\u001b[90m\"\u001b[39m      \n",
       "\u001b[90m5\u001b[39m .               Missing                 3       \u001b[4m4\u001b[24m880 \u001b[90m\"\u001b[39m\u001b[90m\"\u001b[39m            \n"
      ]
     },
     "metadata": {},
     "output_type": "display_data"
    }
   ],
   "source": [
    "nhanesCodebook(\"SMQ\", \"SMQ020\")"
   ]
  },
  {
   "cell_type": "code",
   "execution_count": 49,
   "id": "378d7d15",
   "metadata": {
    "slideshow": {
     "slide_type": "slide"
    }
   },
   "outputs": [
    {
     "name": "stderr",
     "output_type": "stream",
     "text": [
      "\u001b[1m\u001b[22mJoining with `by = join_by(SEQN)`\n"
     ]
    },
    {
     "data": {
      "text/plain": [
       "                             SMQ020\n",
       "MCQ230A                       Yes No\n",
       "  Bladder                       9  3\n",
       "  Blood                         0  1\n",
       "  Bone                          1  0\n",
       "  Brain                         2  2\n",
       "  Breast                       29 60\n",
       "  Cervix (cervical)            17  9\n",
       "  Colon                        22 24\n",
       "  Esophagus (esophageal)        6  0\n",
       "  Gallbladder                   1  0\n",
       "  Kidney                       11  8\n",
       "  Larynx/ windpipe              1  0\n",
       "  Leukemia                      1  5\n",
       "  Liver                         0  3\n",
       "  Lung                         17  1\n",
       "  Lymphoma/ Hodgkin's disease   8  7\n",
       "  Melanoma                     16 19\n",
       "  Mouth/tongue/lip              3  1\n",
       "  Ovary (ovarian)               3  8\n",
       "  Pancreas (pancreatic)         1  0\n",
       "  Prostate                     54 40\n",
       "  Rectum (rectal)               1  1\n",
       "  Skin (non-melanoma)          31 36\n",
       "  Skin (don't know what kind)  15 18\n",
       "  Soft tissue (muscle or fat)   1  0\n",
       "  Stomach                       4  1\n",
       "  Testis (testicular)           2  0\n",
       "  Thyroid                       7  8\n",
       "  Uterus (uterine)             10 10\n",
       "  Other                        20 17\n",
       "  Don't know                    8  5"
      ]
     },
     "metadata": {},
     "output_type": "display_data"
    }
   ],
   "source": [
    "# lung = mcq$MCQ230A == \"Lung\" #  %>% filter(MCQ230A == \"Lung\") %>% left_join(smq) %>% xtabs(~ SMQ020, data = .)\n",
    "# smoke = smq$SMQ020\n",
    "\n",
    "mcq %>% left_join(smq) %>% xtabs(~ MCQ230A + SMQ020, data = .)"
   ]
  },
  {
   "cell_type": "code",
   "execution_count": 50,
   "id": "6e86047b",
   "metadata": {
    "slideshow": {
     "slide_type": "slide"
    }
   },
   "outputs": [
    {
     "name": "stderr",
     "output_type": "stream",
     "text": [
      "\u001b[1m\u001b[22mJoining with `by = join_by(SEQN)`\n"
     ]
    },
    {
     "data": {
      "text/plain": [
       "                    lung_cancer\n",
       "INDHHIN2             FALSE TRUE\n",
       "  $ 0 to $ 4,999      0.03 0.00\n",
       "  $ 5,000 to $ 9,999  0.03 0.00\n",
       "  $10,000 to $14,999  0.05 0.12\n",
       "  $15,000 to $19,999  0.06 0.12\n",
       "  $20,000 to $24,999  0.06 0.06\n",
       "  $25,000 to $34,999  0.11 0.29\n",
       "  $35,000 to $44,999  0.10 0.12\n",
       "  $45,000 to $54,999  0.07 0.06\n",
       "  $55,000 to $64,999  0.07 0.00\n",
       "  $65,000 to $74,999  0.05 0.06\n",
       "  $20,000 and Over    0.04 0.00\n",
       "  Under $20,000       0.01 0.12\n",
       "  $75,000 to $99,999  0.09 0.00\n",
       "  $100,000 and Over   0.19 0.06\n",
       "  Refused             0.02 0.00\n",
       "  Don't know          0.03 0.00"
      ]
     },
     "metadata": {},
     "output_type": "display_data"
    }
   ],
   "source": [
    "demo %>% left_join(mcq) %>% mutate(lung_cancer = MCQ230A == \"Lung\") %>% \n",
    "    replace_na(list(lung_cancer = F)) %>% \n",
    "    xtabs(~ INDHHIN2 + lung_cancer, data = .) %>% \n",
    "    prop.table(2) %>% \n",
    "    round(2)"
   ]
  },
  {
   "cell_type": "markdown",
   "id": "b34018b9",
   "metadata": {
    "slideshow": {
     "slide_type": "slide"
    }
   },
   "source": [
    "## Causal inference\n",
    "- $T_i$ is the \"treatment\" for person $i$, e.g. \"smokes\".\n",
    "- $Y_i$ is the \"outcome\" for person $i$, e.g. \"gets lung cancer\".\n",
    "- $X_i$ other covariates.\n",
    "- Potential outcomes:\n",
    "    - $Y_i(1)$ is the outcome for person $i$ if they were given the treatment.\n",
    "    - $Y_i(0)$ is the outcome for person $i$ if they were not given the treatment.\n",
    "- $Y_i = T_i Y_i(1) + (1 - T_i) Y_i(0).$"
   ]
  },
  {
   "cell_type": "markdown",
   "id": "49994026",
   "metadata": {
    "slideshow": {
     "slide_type": "slide"
    }
   },
   "source": [
    "## Average treatment effect\n",
    "- We'd like to be able to estimate the average treatment effect:\n",
    "\n",
    "$$\\text{ATE} = \\mathbb{E}[Y_i(1) - Y_i(0)]$$\n",
    "\n",
    "- \"How much on average does switching from smoker to nonsmoker raise your risk of getting lung cancer?\""
   ]
  },
  {
   "cell_type": "markdown",
   "id": "f33bd04d",
   "metadata": {
    "slideshow": {
     "slide_type": "slide"
    }
   },
   "source": [
    "## Fundamental problem of causal inference\n",
    "\n",
    "\n",
    "- **We only observe $Y_i(1)$ for people who got the treatment. We only observe $Y_i(0)$ for people who did not get the treatment.**\n",
    "\n",
    "- Thus, \n",
    "\n",
    "    $$\\frac{1}{n_\\text{smokers}} \\sum_{i \\in \\text{smokers}} Y_i$$ is in general *not* a consistent estimator of \n",
    "    $\\mathbb{E}Y_i(1)$.\n",
    "    \n",
    "- And similarly for $Y_i(0)$."
   ]
  },
  {
   "cell_type": "markdown",
   "id": "a7fcc293",
   "metadata": {
    "slideshow": {
     "slide_type": "slide"
    }
   },
   "source": [
    "## Cholera in 19th century England\n",
    "- Cholera first arrived to England in 1831."
   ]
  },
  {
   "cell_type": "markdown",
   "id": "d620fdc2",
   "metadata": {
    "slideshow": {
     "slide_type": "fragment"
    }
   },
   "source": [
    "- 31,000 people died of cholera between 1831-1832."
   ]
  },
  {
   "cell_type": "markdown",
   "id": "6261eb15",
   "metadata": {
    "slideshow": {
     "slide_type": "fragment"
    }
   },
   "source": [
    "- A second outbreak in 1848 killed 62,000."
   ]
  },
  {
   "cell_type": "markdown",
   "id": "1f653466",
   "metadata": {
    "slideshow": {
     "slide_type": "slide"
    }
   },
   "source": [
    "![father thames](https://scpoecon.github.io/ScPoEconometrics/images/father-thames.jpg)\n",
    "\n",
    "Source: Punch (1858), cited in https://scpoecon.github.io/ScPoEconometrics/IV.html."
   ]
  },
  {
   "cell_type": "markdown",
   "id": "43896986",
   "metadata": {
    "slideshow": {
     "slide_type": "slide"
    }
   },
   "source": [
    "![cholera charicature](https://www.sciencemuseum.org.uk/sites/default/files/styles/smg_carousel_zoom/public/2065329612.jpg)\n",
    "\n",
    "Source: https://www.sciencemuseum.org.uk/objects-and-stories/medicine/cholera-victorian-london"
   ]
  },
  {
   "cell_type": "markdown",
   "id": "1ec71ade",
   "metadata": {
    "slideshow": {
     "slide_type": "slide"
    }
   },
   "source": [
    "## What causes Cholera?\n",
    "\n",
    "- Germs had not yet been discovered, and were only one (unpopular) theory."
   ]
  },
  {
   "cell_type": "markdown",
   "id": "2ac1a7ad",
   "metadata": {
    "slideshow": {
     "slide_type": "fragment"
    }
   },
   "source": [
    "* Miasmas (poisonous particles floating in the air):\n",
    "    - Rapid industrialisation created filthy, unsanitary neighborhoods that tended to be the focal points of disease and epidemics.\n",
    "    - By improving sanitation and cleanliness, levels of disease were seen to fall, which seemed to support the miasma theory."
   ]
  },
  {
   "cell_type": "markdown",
   "id": "9c91c412",
   "metadata": {
    "slideshow": {
     "slide_type": "fragment"
    }
   },
   "source": [
    "- Other theories\n",
    "    * Imbalances in the humors of the body (black bile, yellow bile, blood, phlegm)\n",
    "    * Poison in the ground"
   ]
  },
  {
   "cell_type": "markdown",
   "id": "d1e20e81",
   "metadata": {
    "slideshow": {
     "slide_type": "slide"
    }
   },
   "source": [
    "<img src=\"images/advice.jpg\" width=\"80%\">"
   ]
  },
  {
   "cell_type": "markdown",
   "id": "8a16110f",
   "metadata": {
    "cell_style": "split",
    "slideshow": {
     "slide_type": "slide"
    }
   },
   "source": [
    "## John Snow\n",
    "\n",
    "* John Snow was a physician in London who, by watching the course of the disease, came to believe believe that Cholera was caused by a living organism that is ingested (with water or food), multiplies within the body, and is expelled back into the environment.</li>\n",
    "\n",
    "* Snow developed arguments to support his theory, for example:\n",
    "  * Cholera spreads along trading routes\n",
    "  * When sailors went somewhere with Cholera, they wouldn't get sick if no one left the boat.\n",
    "\n",
    "* Nonetheless, there remained considerable skepticism."
   ]
  },
  {
   "cell_type": "markdown",
   "id": "64aa0f0e",
   "metadata": {
    "cell_style": "split",
    "slideshow": {
     "slide_type": "-"
    }
   },
   "source": [
    "<img src=\"https://upload.wikimedia.org/wikipedia/en/3/30/Jon_Snow_Season_8.png\" style=\"float: right\" width=300/>"
   ]
  },
  {
   "cell_type": "markdown",
   "id": "7a9ebfbc",
   "metadata": {
    "cell_style": "split",
    "slideshow": {
     "slide_type": "slide"
    }
   },
   "source": [
    "## John Snow\n",
    "\n",
    "* John Snow was a physician in London who, by watching the course of the disease, came to believe believe that Cholera was caused by a living organism that is ingested (with water or food), multiplies within the body, and is expelled back into the environment.</li>\n",
    "\n",
    "* Snow developed arguments to support his theory, for example:\n",
    "  * Cholera spreads along trading routes\n",
    "  * When sailors went somewhere with Cholera, they wouldn't get sick if no one left the boat.\n",
    "\n",
    "* Nonetheless, there remained considerable skepticism."
   ]
  },
  {
   "cell_type": "markdown",
   "id": "bd3b340a",
   "metadata": {
    "cell_style": "split",
    "slideshow": {
     "slide_type": "-"
    }
   },
   "source": [
    "<img src=\"https://upload.wikimedia.org/wikipedia/commons/thumb/c/cc/John_Snow.jpg/1200px-John_Snow.jpg\" style=\"float: right\" width=300/>"
   ]
  },
  {
   "cell_type": "markdown",
   "id": "12d4bb7f",
   "metadata": {
    "slideshow": {
     "slide_type": "slide"
    }
   },
   "source": [
    "## Epidemic of 1854"
   ]
  },
  {
   "cell_type": "markdown",
   "id": "5fa4530a",
   "metadata": {
    "slideshow": {
     "slide_type": "fragment"
    }
   },
   "source": [
    "<img src=\"images/map.jpg\" width=\"80%\">"
   ]
  },
  {
   "cell_type": "markdown",
   "id": "d7a81d64",
   "metadata": {
    "slideshow": {
     "slide_type": "slide"
    }
   },
   "source": [
    "## Snow's methodology\n",
    "\n",
    "* Snow identified the first case in London: a man named John Harnold"
   ]
  },
  {
   "cell_type": "markdown",
   "id": "de6d371b",
   "metadata": {
    "slideshow": {
     "slide_type": "fragment"
    }
   },
   "source": [
    "* Snow also identified the second case: the man who took Harnold's room after Harnold died."
   ]
  },
  {
   "cell_type": "markdown",
   "id": "159914a5",
   "metadata": {
    "slideshow": {
     "slide_type": "fragment"
    }
   },
   "source": [
    "* John Harnold had newly arrived by the *Elbe* steamer from Hamburg, where there was an outbreak."
   ]
  },
  {
   "cell_type": "markdown",
   "id": "d1530665",
   "metadata": {
    "slideshow": {
     "slide_type": "fragment"
    }
   },
   "source": [
    "* Snow also found several adjacent apartment buildings, with one hit by cholera, one not.  He showed that in each case, the affected building had water contaminated by sewage, but the other building had relatively pure water."
   ]
  },
  {
   "cell_type": "markdown",
   "id": "3112ad7e",
   "metadata": {
    "slideshow": {
     "slide_type": "slide"
    }
   },
   "source": [
    "### Exceptions\n",
    "\n",
    "* There was a brewery near the pump, but none of the workers got sick -- it turned out the brewery had its own private pump on-site."
   ]
  },
  {
   "cell_type": "markdown",
   "id": "24d8a9f1",
   "metadata": {
    "slideshow": {
     "slide_type": "fragment"
    }
   },
   "source": [
    "* A woman in Hampstead got Cholera -- Snow discovered that she had water from the Broad Street pump delivered to her, because she liked the taste."
   ]
  },
  {
   "cell_type": "markdown",
   "id": "9b5b765e",
   "metadata": {
    "slideshow": {
     "slide_type": "slide"
    }
   },
   "source": [
    "According to legend, Snow lobbied the local council to remove the pump handle, at which time the epidemic receded."
   ]
  },
  {
   "cell_type": "markdown",
   "id": "0548ebbb",
   "metadata": {
    "slideshow": {
     "slide_type": "-"
    }
   },
   "source": [
    "![Removal of the Broad Street pump handle](https://scpoecon.github.io/ScPoEconometrics/ScPoEconometrics_files/figure-html/snow-TS-1.png)\n",
    "\n",
    "(Cited in: https://scpoecon.github.io/ScPoEconometrics/IV.html)"
   ]
  },
  {
   "cell_type": "markdown",
   "id": "0a2aa62f",
   "metadata": {
    "slideshow": {
     "slide_type": "slide"
    }
   },
   "source": [
    "![broad street pump](https://i0.wp.com/livinglondonhistory.com/wp-content/uploads/2022/07/Optimized-IMG_2622.jpg?w=800&ssl=1)\n",
    "\n",
    "(Source: https://livinglondonhistory.com/the-story-of-the-john-snow-pump-in-soho/)"
   ]
  },
  {
   "cell_type": "markdown",
   "id": "3342017c",
   "metadata": {
    "slideshow": {
     "slide_type": "slide"
    }
   },
   "source": [
    "## A natural experiment\n",
    "\n",
    "> Although the facts shown in the above table afford very strong evidence of the powerful influence which the drinking of water containing the sewage of a town exerts over the spread of cholera, when that disease is present, **yet the question does not end here**; for the intermixing of the water supply of the Southwark and Vauxhall Company with that of the Lambeth Company, over an extensive part of London, admitted of the subject being sifted in such a way as to yield the most incontrovertible proof on one side or the other.  In the subdistricts enumerated in the above table as being supplied by both Companies, the mixing of the supply is of the most intimate kind.  The pipes of each Company go down all the streets, and into nearly all the courts and alleys.  **A few houses are supplied by one Company and a few by the other**, according to the decision of the owner or occupier at that time when the Water Companies were in active competition.  In many cases a single house has a supply different from that on either side.  **Each company supplies both rich and poor, both large houses and small**; there is no difference either in the condition or occupation of the persons receiving the water of the different Companies."
   ]
  },
  {
   "cell_type": "markdown",
   "id": "72bd1ea5",
   "metadata": {
    "slideshow": {
     "slide_type": "slide"
    }
   },
   "source": [
    "![sno's map of water supply](https://scpoecon.github.io/ScPoEconometrics/images/snow-supply.jpg)\n",
    "\n",
    "\n",
    "(Cited in: https://scpoecon.github.io/ScPoEconometrics/IV.html)"
   ]
  },
  {
   "cell_type": "markdown",
   "id": "779d89d4",
   "metadata": {
    "slideshow": {
     "slide_type": "slide"
    }
   },
   "source": [
    "## Snow's reasoning"
   ]
  },
  {
   "cell_type": "markdown",
   "id": "8574fb26",
   "metadata": {
    "slideshow": {
     "slide_type": "fragment"
    }
   },
   "source": [
    "* There were several water companies in London, and their service areas overlapped."
   ]
  },
  {
   "cell_type": "markdown",
   "id": "3d6cb683",
   "metadata": {
    "slideshow": {
     "slide_type": "fragment"
    }
   },
   "source": [
    "* On a single street, some people would have one company, others another company."
   ]
  },
  {
   "cell_type": "markdown",
   "id": "38a0d692",
   "metadata": {
    "slideshow": {
     "slide_type": "fragment"
    }
   },
   "source": [
    "* The pipes had been laid many years before, when the water companies were still in active competition."
   ]
  },
  {
   "cell_type": "markdown",
   "id": "85ef3b20",
   "metadata": {
    "slideshow": {
     "slide_type": "fragment"
    }
   },
   "source": [
    "* In 1852, one of the companies (Lambeth) moved its intake pipe upstream to get purer water"
   ]
  },
  {
   "cell_type": "markdown",
   "id": "de2e5042",
   "metadata": {
    "slideshow": {
     "slide_type": "fragment"
    }
   },
   "source": [
    "* Snow compared the death rates between those who got water from Lambeth, and those who got water from Southwark and Vauxhall"
   ]
  },
  {
   "cell_type": "markdown",
   "id": "a75d1091",
   "metadata": {
    "slideshow": {
     "slide_type": "slide"
    }
   },
   "source": [
    "## Snow's data\n",
    "<div class=\"xtable\"><table frame=\"hsides\" rules=\"groups\" class=\"rendered small default_table\"><thead><tr><th rowspan=\"1\" colspan=\"1\">Water Supply Company</th><th rowspan=\"1\" colspan=\"1\">Number of Houses</th><th rowspan=\"1\" colspan=\"1\">Deaths From Cholera</th><th rowspan=\"1\" colspan=\"1\">Cholera Deaths per 10,000 Houses</th></tr></thead><tbody><tr><td rowspan=\"1\" colspan=\"1\">Southwark and Vauxhall</td><td rowspan=\"1\" colspan=\"1\">40,046</td><td rowspan=\"1\" colspan=\"1\">1,263</td><td rowspan=\"1\" colspan=\"1\">315</td></tr><tr><td rowspan=\"1\" colspan=\"1\">Lambeth</td><td rowspan=\"1\" colspan=\"1\">26,107</td><td rowspan=\"1\" colspan=\"1\">98</td><td rowspan=\"1\" colspan=\"1\">37</td></tr><tr><td rowspan=\"1\" colspan=\"1\">Rest of London</td><td rowspan=\"1\" colspan=\"1\">256,423</td><td rowspan=\"1\" colspan=\"1\">1,422</td><td rowspan=\"1\" colspan=\"1\">59</td></tr></tbody></table></div>"
   ]
  },
  {
   "cell_type": "code",
   "execution_count": 51,
   "id": "17ce1735",
   "metadata": {
    "slideshow": {
     "slide_type": "-"
    }
   },
   "outputs": [
    {
     "data": {
      "text/html": [
       "<table class=\"dataframe\">\n",
       "<caption>A tibble: 4 × 4</caption>\n",
       "<thead>\n",
       "\t<tr><th scope=col>year</th><th scope=col>supplier</th><th scope=col>treatment</th><th scope=col>deathrate</th></tr>\n",
       "\t<tr><th scope=col>&lt;dbl&gt;</th><th scope=col>&lt;chr&gt;</th><th scope=col>&lt;chr&gt;</th><th scope=col>&lt;dbl&gt;</th></tr>\n",
       "</thead>\n",
       "<tbody>\n",
       "\t<tr><td>1849</td><td>Non-Lambeth Only</td><td>Dirty              </td><td>134.9</td></tr>\n",
       "\t<tr><td>1849</td><td>Lambeth + Others</td><td>Mix Dirty and Clean</td><td>130.1</td></tr>\n",
       "\t<tr><td>1854</td><td>Non-Lambeth Only</td><td>Dirty              </td><td>146.6</td></tr>\n",
       "\t<tr><td>1854</td><td>Lambeth + Others</td><td>Mix Dirty and Clean</td><td> 84.9</td></tr>\n",
       "</tbody>\n",
       "</table>\n"
      ],
      "text/latex": [
       "A tibble: 4 × 4\n",
       "\\begin{tabular}{llll}\n",
       " year & supplier & treatment & deathrate\\\\\n",
       " <dbl> & <chr> & <chr> & <dbl>\\\\\n",
       "\\hline\n",
       "\t 1849 & Non-Lambeth Only & Dirty               & 134.9\\\\\n",
       "\t 1849 & Lambeth + Others & Mix Dirty and Clean & 130.1\\\\\n",
       "\t 1854 & Non-Lambeth Only & Dirty               & 146.6\\\\\n",
       "\t 1854 & Lambeth + Others & Mix Dirty and Clean &  84.9\\\\\n",
       "\\end{tabular}\n"
      ],
      "text/markdown": [
       "\n",
       "A tibble: 4 × 4\n",
       "\n",
       "| year &lt;dbl&gt; | supplier &lt;chr&gt; | treatment &lt;chr&gt; | deathrate &lt;dbl&gt; |\n",
       "|---|---|---|---|\n",
       "| 1849 | Non-Lambeth Only | Dirty               | 134.9 |\n",
       "| 1849 | Lambeth + Others | Mix Dirty and Clean | 130.1 |\n",
       "| 1854 | Non-Lambeth Only | Dirty               | 146.6 |\n",
       "| 1854 | Lambeth + Others | Mix Dirty and Clean |  84.9 |\n",
       "\n"
      ],
      "text/plain": [
       "  year supplier         treatment           deathrate\n",
       "1 1849 Non-Lambeth Only Dirty               134.9    \n",
       "2 1849 Lambeth + Others Mix Dirty and Clean 130.1    \n",
       "3 1854 Non-Lambeth Only Dirty               146.6    \n",
       "4 1854 Lambeth + Others Mix Dirty and Clean  84.9    "
      ]
     },
     "metadata": {},
     "output_type": "display_data"
    }
   ],
   "source": [
    "# test of significance\n",
    "library(causaldata)\n",
    "data(snow)\n",
    "snow\n",
    "# xtabs(~ supplier + treatment, data = snow, weights = deathrate)"
   ]
  },
  {
   "cell_type": "markdown",
   "id": "6fd9b3ee",
   "metadata": {
    "slideshow": {
     "slide_type": "slide"
    }
   },
   "source": [
    "## Snow's analysis in modern terms\n",
    "\n",
    "- $y_i=1$ if individual $i$ dies of cholera, 0 otherwise."
   ]
  },
  {
   "cell_type": "markdown",
   "id": "6d4199a1",
   "metadata": {
    "slideshow": {
     "slide_type": "fragment"
    }
   },
   "source": [
    "- $w_i=1$ if $i$'s water supply is impure, 0 otherewise."
   ]
  },
  {
   "cell_type": "markdown",
   "id": "a2b6f02a",
   "metadata": {
    "slideshow": {
     "slide_type": "fragment"
    }
   },
   "source": [
    "- Just compute $\\operatorname{cor}(y, w)$?"
   ]
  },
  {
   "cell_type": "markdown",
   "id": "acc53637",
   "metadata": {
    "slideshow": {
     "slide_type": "slide"
    }
   },
   "source": [
    "### As regression\n",
    "- Equivalently, fit the model: $y_i = \\alpha + \\beta w_i + u_i$\n",
    "    - $u_i$ are all the other unobservable factors that influence death (poverty, lifestyle, competing hypotheses like miasma, etc.)\n",
    "    - $\\beta$ is the increase in mortality if $w_i:0\\to 1$.\n",
    "- What could go wrong?"
   ]
  },
  {
   "cell_type": "markdown",
   "id": "7d500a0d",
   "metadata": {
    "slideshow": {
     "slide_type": "slide"
    }
   },
   "source": [
    "$$\\mathbb{E}(y_i \\mid w_i=1) - \\mathbb{E}(y_i \\mid w_i=0) = ?$$"
   ]
  },
  {
   "cell_type": "markdown",
   "id": "9c06de1d",
   "metadata": {
    "slideshow": {
     "slide_type": "slide"
    }
   },
   "source": [
    "### Second attempt\n",
    "\n",
    "- Let $z_i=1$ if the person drank water from Southwark/Vauxhall and $z_i=0$ if they drank water from Lambeth.\n",
    "- Now take expectation with respect to $z_i=1/0$.\n",
    "\n",
    "$$\\mathbb{E}(y_i \\mid z_i=1) - \\mathbb{E}(y_i \\mid z_i=0) = ?$$"
   ]
  },
  {
   "cell_type": "markdown",
   "id": "c2d88ce0",
   "metadata": {
    "slideshow": {
     "slide_type": "slide"
    }
   },
   "source": [
    "### Assumptions\n",
    "\n",
    "What assumptions did we make (implicitily or explicitly) when deriving this estimator? \n",
    "\n",
    "- $\\mathbb{E}(w_i \\mid z_i=1) \\neq \\mathbb{E}(w_i \\mid z_i=0)$\n",
    "- $\\mathbb{E}(u_i \\mid z_i=1) = \\mathbb{E}(u_i \\mid z_i=0)$\n",
    "- Water company only affects mortality through water purity.\n",
    "\n",
    "Concretely, what do these assumptions mean for the data that Snow analyzed?"
   ]
  },
  {
   "cell_type": "markdown",
   "id": "d729daea",
   "metadata": {
    "slideshow": {
     "slide_type": "slide"
    }
   },
   "source": [
    "## Yule on pauperism\n",
    "\n",
    "- Poverty rates in England increased dramatically during the Victorian era."
   ]
  },
  {
   "cell_type": "markdown",
   "id": "249181f2",
   "metadata": {
    "slideshow": {
     "slide_type": "fragment"
    }
   },
   "source": [
    "- Emerging industrial economy lowered wages, increased population growth, and decreased the prospects for stable employment."
   ]
  },
  {
   "cell_type": "markdown",
   "id": "a0cf748a",
   "metadata": {
    "slideshow": {
     "slide_type": "slide"
    }
   },
   "source": [
    "### Victorian poor houses\n",
    "\n",
    "- Poor people/\"paupers\" in England were supported either:\n",
    "    - Inside “poor-houses”;\n",
    "    - Outside poor-houses, according to local policy."
   ]
  },
  {
   "cell_type": "markdown",
   "id": "e8b54d13",
   "metadata": {
    "slideshow": {
     "slide_type": "fragment"
    }
   },
   "source": [
    "- There was a debate about whether poor houses increased or decreased pauperism."
   ]
  },
  {
   "cell_type": "markdown",
   "id": "805aa76a",
   "metadata": {
    "slideshow": {
     "slide_type": "fragment"
    }
   },
   "source": [
    "- Yule studied how these policies affected rates of pauperism."
   ]
  },
  {
   "cell_type": "code",
   "execution_count": 47,
   "id": "849f9f46",
   "metadata": {
    "slideshow": {
     "slide_type": "slide"
    }
   },
   "outputs": [
    {
     "data": {
      "text/plain": [
       "\n",
       "Call:\n",
       "lm(formula = paup ~ outrelief + old + pop, data = yule)\n",
       "\n",
       "Residuals:\n",
       "    Min      1Q  Median      3Q     Max \n",
       "-17.475  -5.311  -1.829   3.132  25.335 \n",
       "\n",
       "Coefficients:\n",
       "            Estimate Std. Error t value Pr(>|t|)    \n",
       "(Intercept) 63.18774   27.14388   2.328   0.0274 *  \n",
       "outrelief    0.75209    0.13499   5.572 5.83e-06 ***\n",
       "old          0.05560    0.22336   0.249   0.8052    \n",
       "pop         -0.31074    0.06685  -4.648 7.25e-05 ***\n",
       "---\n",
       "Signif. codes:  0 ‘***’ 0.001 ‘**’ 0.01 ‘*’ 0.05 ‘.’ 0.1 ‘ ’ 1\n",
       "\n",
       "Residual standard error: 9.547 on 28 degrees of freedom\n",
       "Multiple R-squared:  0.6972,\tAdjusted R-squared:  0.6647 \n",
       "F-statistic: 21.49 on 3 and 28 DF,  p-value: 2.001e-07\n"
      ]
     },
     "metadata": {},
     "output_type": "display_data"
    }
   ],
   "source": [
    "# yule's regression"
   ]
  },
  {
   "cell_type": "markdown",
   "id": "8e9c055c",
   "metadata": {
    "slideshow": {
     "slide_type": "slide"
    }
   },
   "source": [
    "## Discussion 🙋‍♀️\n",
    "- Does Yule establish causation or association?\n",
    "- What sort of factors could confound the causal interpretation?\n",
    "- Can you think of a way to measure the *causal* effect?"
   ]
  },
  {
   "cell_type": "markdown",
   "id": "02ec964e",
   "metadata": {
    "slideshow": {
     "slide_type": "notes"
    }
   },
   "source": [
    "These next example follows Chapter 2 of the book \"[Causal Inference in R](https://www.r-causal.org/chapters/02-whole-game)\"."
   ]
  },
  {
   "cell_type": "markdown",
   "id": "0ba0a19a",
   "metadata": {
    "slideshow": {
     "slide_type": "slide"
    }
   },
   "source": [
    "## Example: effect of mosquito nets on preventing malaria\n",
    "\n",
    "- Malaria is a life-threatening disease caused by parasites transmitted to people through the bites of infected female Anopheles gambiae mosquitoes.\n",
    "- [WHO stats](https://www.who.int/news-room/fact-sheets/detail/malaria): annually,\n",
    "    - 200-300 million infections worldwide.\n",
    "    - ~600,000 deaths, with children <5 and pregnant women most vulnerable.\n",
    "- Predominantly found in sub-Saharan Africa, also south Asia, Middle East, parts of South America.\n",
    "- Nearly half of all malaria deaths occurred in just six countries: Nigeria (27%), the Democratic Republic of the Congo (12%), Uganda (5%), Mozambique (4%), Angola (3%), and Burkina Faso (3%)."
   ]
  },
  {
   "cell_type": "markdown",
   "id": "8aa6dbdc",
   "metadata": {
    "slideshow": {
     "slide_type": "slide"
    }
   },
   "source": [
    "## Insecticide-Treated Mosquito Nets (ITNs)\n",
    "- Cheap and highly effective prevention method.\n",
    "- ITNs have been shown to significantly reduce child mortality from all causes by 17% compared to no nets\n",
    "- Cut the incidence of uncomplicated episodes of Plasmodium falciparum malaria by nearly 50%.\n",
    "- [Source](https://www.cochrane.org/CD000363/INFECTN_insecticide-treated-nets-preventing-malaria)"
   ]
  },
  {
   "cell_type": "markdown",
   "id": "d941aeb5",
   "metadata": {
    "slideshow": {
     "slide_type": "slide"
    }
   },
   "source": [
    "## Causal question\n",
    "- \"Does using a bed net reduce the risk of malaria?\""
   ]
  },
  {
   "cell_type": "markdown",
   "id": "36b1dca7",
   "metadata": {
    "slideshow": {
     "slide_type": "notes"
    }
   },
   "source": [
    "- What do we mean by bed net?\n",
    "- How do we define risk?\n",
    "   - Baseline risk level?\n",
    "   - Death, or just sickness?\n",
    "   - Risk to whom?"
   ]
  },
  {
   "cell_type": "markdown",
   "id": "59b5aaa5",
   "metadata": {
    "slideshow": {
     "slide_type": "slide"
    }
   },
   "source": [
    "> Does using an ITN compared to no net decrease the risk of contracting malaria after one year?"
   ]
  },
  {
   "cell_type": "code",
   "execution_count": 52,
   "id": "2024f88f",
   "metadata": {},
   "outputs": [],
   "source": [
    "# library(causalworkshop)\n",
    "# save(net_data, file=\"net_data.RData\")\n",
    "load(url(\"https://github.com/terhorst/stats504/raw/main/lectures/week7/net_data.RData\"))"
   ]
  },
  {
   "cell_type": "code",
   "execution_count": 53,
   "id": "ca2cc00b",
   "metadata": {
    "slideshow": {
     "slide_type": "slide"
    }
   },
   "outputs": [
    {
     "data": {
      "text/html": [
       "<table class=\"dataframe\">\n",
       "<caption>A tibble: 6 × 10</caption>\n",
       "<thead>\n",
       "\t<tr><th scope=col>id</th><th scope=col>net</th><th scope=col>net_num</th><th scope=col>malaria_risk</th><th scope=col>income</th><th scope=col>health</th><th scope=col>household</th><th scope=col>eligible</th><th scope=col>temperature</th><th scope=col>insecticide_resistance</th></tr>\n",
       "\t<tr><th scope=col>&lt;int&gt;</th><th scope=col>&lt;lgl&gt;</th><th scope=col>&lt;int&gt;</th><th scope=col>&lt;dbl&gt;</th><th scope=col>&lt;dbl&gt;</th><th scope=col>&lt;dbl&gt;</th><th scope=col>&lt;dbl&gt;</th><th scope=col>&lt;lgl&gt;</th><th scope=col>&lt;dbl&gt;</th><th scope=col>&lt;dbl&gt;</th></tr>\n",
       "</thead>\n",
       "<tbody>\n",
       "\t<tr><td>1</td><td>FALSE</td><td>0</td><td>38</td><td> 779</td><td>35</td><td>1</td><td>FALSE</td><td>18.3</td><td>38</td></tr>\n",
       "\t<tr><td>2</td><td>FALSE</td><td>0</td><td>48</td><td> 700</td><td>35</td><td>3</td><td>FALSE</td><td>18.6</td><td>40</td></tr>\n",
       "\t<tr><td>3</td><td>FALSE</td><td>0</td><td>32</td><td>1083</td><td>58</td><td>3</td><td>FALSE</td><td>24.2</td><td>70</td></tr>\n",
       "\t<tr><td>4</td><td>FALSE</td><td>0</td><td>55</td><td> 753</td><td>68</td><td>3</td><td>FALSE</td><td>19.1</td><td>57</td></tr>\n",
       "\t<tr><td>5</td><td>FALSE</td><td>0</td><td>36</td><td> 919</td><td>46</td><td>5</td><td>FALSE</td><td>21.2</td><td>59</td></tr>\n",
       "\t<tr><td>6</td><td>FALSE</td><td>0</td><td>30</td><td> 969</td><td>37</td><td>3</td><td>FALSE</td><td>20.2</td><td>49</td></tr>\n",
       "</tbody>\n",
       "</table>\n"
      ],
      "text/latex": [
       "A tibble: 6 × 10\n",
       "\\begin{tabular}{llllllllll}\n",
       " id & net & net\\_num & malaria\\_risk & income & health & household & eligible & temperature & insecticide\\_resistance\\\\\n",
       " <int> & <lgl> & <int> & <dbl> & <dbl> & <dbl> & <dbl> & <lgl> & <dbl> & <dbl>\\\\\n",
       "\\hline\n",
       "\t 1 & FALSE & 0 & 38 &  779 & 35 & 1 & FALSE & 18.3 & 38\\\\\n",
       "\t 2 & FALSE & 0 & 48 &  700 & 35 & 3 & FALSE & 18.6 & 40\\\\\n",
       "\t 3 & FALSE & 0 & 32 & 1083 & 58 & 3 & FALSE & 24.2 & 70\\\\\n",
       "\t 4 & FALSE & 0 & 55 &  753 & 68 & 3 & FALSE & 19.1 & 57\\\\\n",
       "\t 5 & FALSE & 0 & 36 &  919 & 46 & 5 & FALSE & 21.2 & 59\\\\\n",
       "\t 6 & FALSE & 0 & 30 &  969 & 37 & 3 & FALSE & 20.2 & 49\\\\\n",
       "\\end{tabular}\n"
      ],
      "text/markdown": [
       "\n",
       "A tibble: 6 × 10\n",
       "\n",
       "| id &lt;int&gt; | net &lt;lgl&gt; | net_num &lt;int&gt; | malaria_risk &lt;dbl&gt; | income &lt;dbl&gt; | health &lt;dbl&gt; | household &lt;dbl&gt; | eligible &lt;lgl&gt; | temperature &lt;dbl&gt; | insecticide_resistance &lt;dbl&gt; |\n",
       "|---|---|---|---|---|---|---|---|---|---|\n",
       "| 1 | FALSE | 0 | 38 |  779 | 35 | 1 | FALSE | 18.3 | 38 |\n",
       "| 2 | FALSE | 0 | 48 |  700 | 35 | 3 | FALSE | 18.6 | 40 |\n",
       "| 3 | FALSE | 0 | 32 | 1083 | 58 | 3 | FALSE | 24.2 | 70 |\n",
       "| 4 | FALSE | 0 | 55 |  753 | 68 | 3 | FALSE | 19.1 | 57 |\n",
       "| 5 | FALSE | 0 | 36 |  919 | 46 | 5 | FALSE | 21.2 | 59 |\n",
       "| 6 | FALSE | 0 | 30 |  969 | 37 | 3 | FALSE | 20.2 | 49 |\n",
       "\n"
      ],
      "text/plain": [
       "  id net   net_num malaria_risk income health household eligible temperature\n",
       "1 1  FALSE 0       38            779   35     1         FALSE    18.3       \n",
       "2 2  FALSE 0       48            700   35     3         FALSE    18.6       \n",
       "3 3  FALSE 0       32           1083   58     3         FALSE    24.2       \n",
       "4 4  FALSE 0       55            753   68     3         FALSE    19.1       \n",
       "5 5  FALSE 0       36            919   46     5         FALSE    21.2       \n",
       "6 6  FALSE 0       30            969   37     3         FALSE    20.2       \n",
       "  insecticide_resistance\n",
       "1 38                    \n",
       "2 40                    \n",
       "3 70                    \n",
       "4 57                    \n",
       "5 59                    \n",
       "6 49                    "
      ]
     },
     "metadata": {},
     "output_type": "display_data"
    }
   ],
   "source": [
    "net_data %>% head"
   ]
  },
  {
   "cell_type": "markdown",
   "id": "2c49d065",
   "metadata": {
    "slideshow": {
     "slide_type": "slide"
    }
   },
   "source": [
    "## About the data\n",
    "- net: participant used a net (1) or didn’t use a net (0)\n",
    "- malaria_risk: risk of malaria scale, 0-100\n",
    "- income: weekly income, USD\n",
    "- health: health score, 0–100\n",
    "- household: number of people living in the household\n",
    "- eligible: 1 if eligible for the free net program.\n",
    "- temperature: the average temperature at night, in Celsius\n",
    "- resistance: Insecticide resistance of local mosquitoes, scale 0-100, higher=more resistance."
   ]
  },
  {
   "cell_type": "code",
   "execution_count": 7,
   "id": "5c2913a1",
   "metadata": {
    "slideshow": {
     "slide_type": "slide"
    }
   },
   "outputs": [
    {
     "data": {
      "image/png": "[encoded data removed]",
      "text/plain": [
       "plot without title"
      ]
     },
     "metadata": {
      "image/png": {
       "height": 360,
       "width": 600
      }
     },
     "output_type": "display_data"
    }
   ],
   "source": [
    "net_data %>% \n",
    "  ggplot(aes(malaria_risk, fill = net)) +\n",
    "  geom_density(color = NA, alpha = .8)"
   ]
  },
  {
   "cell_type": "code",
   "execution_count": 8,
   "id": "684a9334",
   "metadata": {
    "slideshow": {
     "slide_type": "slide"
    }
   },
   "outputs": [
    {
     "data": {
      "text/html": [
       "<table class=\"dataframe\">\n",
       "<caption>A tibble: 2 × 2</caption>\n",
       "<thead>\n",
       "\t<tr><th scope=col>net</th><th scope=col>malaria_risk</th></tr>\n",
       "\t<tr><th scope=col>&lt;lgl&gt;</th><th scope=col>&lt;dbl&gt;</th></tr>\n",
       "</thead>\n",
       "<tbody>\n",
       "\t<tr><td>FALSE</td><td>43.91371</td></tr>\n",
       "\t<tr><td> TRUE</td><td>27.52863</td></tr>\n",
       "</tbody>\n",
       "</table>\n"
      ],
      "text/latex": [
       "A tibble: 2 × 2\n",
       "\\begin{tabular}{ll}\n",
       " net & malaria\\_risk\\\\\n",
       " <lgl> & <dbl>\\\\\n",
       "\\hline\n",
       "\t FALSE & 43.91371\\\\\n",
       "\t  TRUE & 27.52863\\\\\n",
       "\\end{tabular}\n"
      ],
      "text/markdown": [
       "\n",
       "A tibble: 2 × 2\n",
       "\n",
       "| net &lt;lgl&gt; | malaria_risk &lt;dbl&gt; |\n",
       "|---|---|\n",
       "| FALSE | 43.91371 |\n",
       "|  TRUE | 27.52863 |\n",
       "\n"
      ],
      "text/plain": [
       "  net   malaria_risk\n",
       "1 FALSE 43.91371    \n",
       "2  TRUE 27.52863    "
      ]
     },
     "metadata": {},
     "output_type": "display_data"
    }
   ],
   "source": [
    "net_data %>% \n",
    "  group_by(net) |>\n",
    "  summarize(malaria_risk = mean(malaria_risk))"
   ]
  },
  {
   "cell_type": "code",
   "execution_count": 9,
   "id": "566cd286",
   "metadata": {
    "slideshow": {
     "slide_type": "slide"
    }
   },
   "outputs": [
    {
     "data": {
      "text/plain": [
       "\n",
       "Call:\n",
       "lm(formula = malaria_risk ~ net, data = net_data)\n",
       "\n",
       "Residuals:\n",
       "    Min      1Q  Median      3Q     Max \n",
       "-26.914 -10.529  -1.914   8.471  46.086 \n",
       "\n",
       "Coefficients:\n",
       "            Estimate Std. Error t value Pr(>|t|)    \n",
       "(Intercept)  43.9137     0.3773   116.4   <2e-16 ***\n",
       "netTRUE     -16.3851     0.7413   -22.1   <2e-16 ***\n",
       "---\n",
       "Signif. codes:  0 ‘***’ 0.001 ‘**’ 0.01 ‘*’ 0.05 ‘.’ 0.1 ‘ ’ 1\n",
       "\n",
       "Residual standard error: 13.59 on 1750 degrees of freedom\n",
       "Multiple R-squared:  0.2183,\tAdjusted R-squared:  0.2178 \n",
       "F-statistic: 488.6 on 1 and 1750 DF,  p-value: < 2.2e-16\n"
      ]
     },
     "metadata": {},
     "output_type": "display_data"
    }
   ],
   "source": [
    "# Naive regression\n",
    "lm(malaria_risk ~ net, data = net_data) %>% summary"
   ]
  },
  {
   "cell_type": "markdown",
   "id": "4b0d15c5",
   "metadata": {
    "slideshow": {
     "slide_type": "slide"
    }
   },
   "source": [
    "## Causal diagram\n",
    "Next, we're going to draw a \"causal diagram\" depicting the relationships between the variables in our data.\n",
    "- Nodes represent variables\n",
    "- An edge from node $A$ to node $B$ means that $A$ affects $B$."
   ]
  },
  {
   "cell_type": "markdown",
   "id": "3311f6be",
   "metadata": {
    "slideshow": {
     "slide_type": "slide"
    }
   },
   "source": [
    "![causal diagram](https://www.r-causal.org/chapters/02-whole-game_files/figure-html/fig-net-data-dag-1.png)"
   ]
  },
  {
   "cell_type": "markdown",
   "id": "df6b3e85",
   "metadata": {
    "slideshow": {
     "slide_type": "slide"
    }
   },
   "source": [
    "What is this graph telling us?\n",
    "- Risk of malaria is affective by: health, income, using a net, temperature, and resistance to insecticide.\n",
    "- Net usage is affected by: income, health, eligibility, temperature, and househould size.\n",
    "- Health is impacted by: income \n",
    "- Eligibility is affected by: income and number of people in household."
   ]
  },
  {
   "cell_type": "markdown",
   "id": "b27ccea6",
   "metadata": {
    "slideshow": {
     "slide_type": "slide"
    }
   },
   "source": [
    "## Confounding in the graph\n",
    "- We want to measure the causal impact of mosquito net usage on risk of malaria.\n",
    "- The trouble is that there are several pathways between these two nodes.\n",
    "- For example: \n",
    "\n",
    "        Net usage <- Eligibility <- Income -> Risk\n",
    "        Net usage <- Health -> Risk\n",
    "- So, naively estimating the effect of net usage on risk will pick up a mixture of all of these effects."
   ]
  },
  {
   "cell_type": "markdown",
   "id": "340586b4",
   "metadata": {
    "slideshow": {
     "slide_type": "slide"
    }
   },
   "source": [
    "Recall the average treatement effect:\n",
    "\n",
    "$$\\text{ATE} = \\mathbb{E}_x[Y_1(x) - Y_0(x)]$$\n",
    "\n",
    "- $Y_0(x)$, $Y_1(x)$ are the potential outcomes for person $x$\n",
    "- The average is over randomly sample people from the population.\n",
    "- The regression above suggested $\\text{ATE} \\approx -16.4$, is this correct?"
   ]
  },
  {
   "cell_type": "markdown",
   "id": "efc7b19d",
   "metadata": {
    "slideshow": {
     "slide_type": "slide"
    }
   },
   "source": [
    "## Propensity score matching\n",
    "\n",
    "- Idea is to reweight my observations so that e.g.\n",
    "\n",
    "$$\\mathbb{E}_{x \\sim p(x)} Y_1(x) \\approx \\mathbb{E}_{x \\sim p(x \\mid T=1)} [w(x) Y(x)] $$\n",
    "\n",
    "- How should we do this? Use $$w(x) = \\frac{\\mathbb{P}(T=1)}{\\mathbb{P}(T=1 \\mid x)}.$$\n",
    "\n",
    "- Do we know $\\mathbb{P}(T=1)$?\n",
    "- Do we know $\\mathbb{P}(T=1 \\mid x)$?"
   ]
  },
  {
   "cell_type": "code",
   "execution_count": 60,
   "id": "8868ded3",
   "metadata": {
    "slideshow": {
     "slide_type": "slide"
    }
   },
   "outputs": [],
   "source": [
    "propensity_model <- glm(\n",
    "    net ~ income + health + temperature + household,\n",
    "    data = net_data,\n",
    "    family = \"binomial\"\n",
    ")"
   ]
  },
  {
   "cell_type": "code",
   "execution_count": 67,
   "id": "a3460a6c",
   "metadata": {
    "slideshow": {
     "slide_type": "slide"
    }
   },
   "outputs": [
    {
     "data": {
      "text/html": [
       "<table class=\"dataframe\">\n",
       "<caption>A tibble: 73 × 12</caption>\n",
       "<thead>\n",
       "\t<tr><th scope=col>id</th><th scope=col>net</th><th scope=col>net_num</th><th scope=col>malaria_risk</th><th scope=col>income</th><th scope=col>health</th><th scope=col>household</th><th scope=col>eligible</th><th scope=col>temperature</th><th scope=col>insecticide_resistance</th><th scope=col>pred</th><th scope=col>wt</th></tr>\n",
       "\t<tr><th scope=col>&lt;int&gt;</th><th scope=col>&lt;lgl&gt;</th><th scope=col>&lt;int&gt;</th><th scope=col>&lt;dbl&gt;</th><th scope=col>&lt;dbl&gt;</th><th scope=col>&lt;dbl&gt;</th><th scope=col>&lt;dbl&gt;</th><th scope=col>&lt;lgl&gt;</th><th scope=col>&lt;dbl&gt;</th><th scope=col>&lt;dbl&gt;</th><th scope=col>&lt;dbl&gt;</th><th scope=col>&lt;dbl&gt;</th></tr>\n",
       "</thead>\n",
       "<tbody>\n",
       "\t<tr><td> 30</td><td>TRUE</td><td>1</td><td>34</td><td>798</td><td>36</td><td>1</td><td>FALSE</td><td>23.6</td><td>56</td><td>0.1948600</td><td>5.131890</td></tr>\n",
       "\t<tr><td> 59</td><td>TRUE</td><td>1</td><td>35</td><td>676</td><td> 8</td><td>2</td><td>FALSE</td><td>23.2</td><td>41</td><td>0.1764922</td><td>5.665974</td></tr>\n",
       "\t<tr><td> 72</td><td>TRUE</td><td>1</td><td>51</td><td>693</td><td>43</td><td>5</td><td> TRUE</td><td>26.8</td><td>58</td><td>0.1974707</td><td>5.064044</td></tr>\n",
       "\t<tr><td>123</td><td>TRUE</td><td>1</td><td>38</td><td>463</td><td>11</td><td>7</td><td> TRUE</td><td>19.9</td><td>44</td><td>0.1925607</td><td>5.193166</td></tr>\n",
       "\t<tr><td>127</td><td>TRUE</td><td>1</td><td>52</td><td>633</td><td>15</td><td>2</td><td>FALSE</td><td>26.3</td><td>62</td><td>0.1506360</td><td>6.638520</td></tr>\n",
       "\t<tr><td>139</td><td>TRUE</td><td>1</td><td>36</td><td>818</td><td>57</td><td>3</td><td>FALSE</td><td>29.4</td><td>31</td><td>0.1946319</td><td>5.137903</td></tr>\n",
       "\t<tr><td>222</td><td>TRUE</td><td>1</td><td>28</td><td>879</td><td>48</td><td>1</td><td>FALSE</td><td>31.5</td><td>55</td><td>0.1779763</td><td>5.618727</td></tr>\n",
       "\t<tr><td>227</td><td>TRUE</td><td>1</td><td>55</td><td>585</td><td>25</td><td>4</td><td>FALSE</td><td>24.9</td><td>51</td><td>0.1654397</td><td>6.044500</td></tr>\n",
       "\t<tr><td>257</td><td>TRUE</td><td>1</td><td>36</td><td>715</td><td>47</td><td>2</td><td>FALSE</td><td>21.2</td><td>43</td><td>0.1939087</td><td>5.157065</td></tr>\n",
       "\t<tr><td>292</td><td>TRUE</td><td>1</td><td>31</td><td>652</td><td>21</td><td>3</td><td>FALSE</td><td>22.6</td><td>58</td><td>0.1834517</td><td>5.451026</td></tr>\n",
       "\t<tr><td>294</td><td>TRUE</td><td>1</td><td>28</td><td>838</td><td>54</td><td>2</td><td>FALSE</td><td>30.9</td><td>34</td><td>0.1807672</td><td>5.531977</td></tr>\n",
       "\t<tr><td>314</td><td>TRUE</td><td>1</td><td>30</td><td>669</td><td>36</td><td>3</td><td>FALSE</td><td>22.3</td><td>46</td><td>0.1884237</td><td>5.307188</td></tr>\n",
       "\t<tr><td>331</td><td>TRUE</td><td>1</td><td>43</td><td>703</td><td>31</td><td>4</td><td>FALSE</td><td>26.9</td><td>43</td><td>0.1883850</td><td>5.308277</td></tr>\n",
       "\t<tr><td>357</td><td>TRUE</td><td>1</td><td>29</td><td>755</td><td>41</td><td>3</td><td>FALSE</td><td>25.4</td><td>52</td><td>0.1978638</td><td>5.053982</td></tr>\n",
       "\t<tr><td>376</td><td>TRUE</td><td>1</td><td>40</td><td>762</td><td>32</td><td>2</td><td>FALSE</td><td>31.6</td><td>28</td><td>0.1589183</td><td>6.292540</td></tr>\n",
       "\t<tr><td>404</td><td>TRUE</td><td>1</td><td>44</td><td>684</td><td>33</td><td>4</td><td>FALSE</td><td>28.8</td><td>28</td><td>0.1735162</td><td>5.763152</td></tr>\n",
       "\t<tr><td>406</td><td>TRUE</td><td>1</td><td>44</td><td>892</td><td>70</td><td>2</td><td>FALSE</td><td>31.6</td><td>65</td><td>0.1914643</td><td>5.222907</td></tr>\n",
       "\t<tr><td>421</td><td>TRUE</td><td>1</td><td>58</td><td>502</td><td>21</td><td>3</td><td>FALSE</td><td>22.7</td><td>47</td><td>0.1436253</td><td>6.962561</td></tr>\n",
       "\t<tr><td>439</td><td>TRUE</td><td>1</td><td>36</td><td>793</td><td>52</td><td>4</td><td>FALSE</td><td>30.1</td><td>80</td><td>0.1968727</td><td>5.079425</td></tr>\n",
       "\t<tr><td>450</td><td>TRUE</td><td>1</td><td>35</td><td>765</td><td>28</td><td>1</td><td>FALSE</td><td>23.3</td><td>57</td><td>0.1873596</td><td>5.337329</td></tr>\n",
       "\t<tr><td>457</td><td>TRUE</td><td>1</td><td>39</td><td>762</td><td>31</td><td>2</td><td>FALSE</td><td>28.4</td><td>42</td><td>0.1735799</td><td>5.761035</td></tr>\n",
       "\t<tr><td>496</td><td>TRUE</td><td>1</td><td>53</td><td>696</td><td>32</td><td>2</td><td>FALSE</td><td>31.2</td><td>49</td><td>0.1442605</td><td>6.931904</td></tr>\n",
       "\t<tr><td>499</td><td>TRUE</td><td>1</td><td>51</td><td>526</td><td>14</td><td>3</td><td>FALSE</td><td>16.5</td><td>68</td><td>0.1778625</td><td>5.622320</td></tr>\n",
       "\t<tr><td>528</td><td>TRUE</td><td>1</td><td>31</td><td>711</td><td>38</td><td>1</td><td>FALSE</td><td>26.4</td><td>43</td><td>0.1571302</td><td>6.364149</td></tr>\n",
       "\t<tr><td>540</td><td>TRUE</td><td>1</td><td>33</td><td>835</td><td>47</td><td>3</td><td>FALSE</td><td>32.0</td><td>69</td><td>0.1874948</td><td>5.333482</td></tr>\n",
       "\t<tr><td>554</td><td>TRUE</td><td>1</td><td>27</td><td>695</td><td>10</td><td>2</td><td>FALSE</td><td>21.3</td><td>55</td><td>0.1911537</td><td>5.231394</td></tr>\n",
       "\t<tr><td>570</td><td>TRUE</td><td>1</td><td>40</td><td>744</td><td>40</td><td>1</td><td>FALSE</td><td>24.8</td><td>52</td><td>0.1729514</td><td>5.781971</td></tr>\n",
       "\t<tr><td>580</td><td>TRUE</td><td>1</td><td>37</td><td>547</td><td>18</td><td>4</td><td>FALSE</td><td>24.7</td><td>42</td><td>0.1570429</td><td>6.367685</td></tr>\n",
       "\t<tr><td>637</td><td>TRUE</td><td>1</td><td>30</td><td>767</td><td>44</td><td>2</td><td>FALSE</td><td>26.9</td><td>56</td><td>0.1809394</td><td>5.526711</td></tr>\n",
       "\t<tr><td>680</td><td>TRUE</td><td>1</td><td>67</td><td>501</td><td>10</td><td>6</td><td> TRUE</td><td>29.9</td><td>48</td><td>0.1454891</td><td>6.873367</td></tr>\n",
       "\t<tr><td>⋮</td><td>⋮</td><td>⋮</td><td>⋮</td><td>⋮</td><td>⋮</td><td>⋮</td><td>⋮</td><td>⋮</td><td>⋮</td><td>⋮</td><td>⋮</td></tr>\n",
       "\t<tr><td> 904</td><td>TRUE</td><td>1</td><td>59</td><td>685</td><td>53</td><td>3</td><td>FALSE</td><td>29.6</td><td>61</td><td>0.1570328</td><td>6.368095</td></tr>\n",
       "\t<tr><td> 928</td><td>TRUE</td><td>1</td><td>47</td><td>666</td><td>38</td><td>3</td><td>FALSE</td><td>26.7</td><td>37</td><td>0.1663118</td><td>6.012802</td></tr>\n",
       "\t<tr><td>1093</td><td>TRUE</td><td>1</td><td>36</td><td>622</td><td>29</td><td>1</td><td>FALSE</td><td>18.7</td><td>32</td><td>0.1690606</td><td>5.915040</td></tr>\n",
       "\t<tr><td>1099</td><td>TRUE</td><td>1</td><td>63</td><td>633</td><td>35</td><td>4</td><td>FALSE</td><td>29.7</td><td>65</td><td>0.1557651</td><td>6.419924</td></tr>\n",
       "\t<tr><td>1113</td><td>TRUE</td><td>1</td><td>39</td><td>737</td><td>43</td><td>2</td><td>FALSE</td><td>27.8</td><td>30</td><td>0.1684374</td><td>5.936923</td></tr>\n",
       "\t<tr><td>1217</td><td>TRUE</td><td>1</td><td>57</td><td>659</td><td>44</td><td>1</td><td>FALSE</td><td>27.9</td><td>59</td><td>0.1378616</td><td>7.253649</td></tr>\n",
       "\t<tr><td>1245</td><td>TRUE</td><td>1</td><td>28</td><td>779</td><td>62</td><td>2</td><td>FALSE</td><td>27.4</td><td>28</td><td>0.1801942</td><td>5.549569</td></tr>\n",
       "\t<tr><td>1274</td><td>TRUE</td><td>1</td><td>33</td><td>693</td><td>43</td><td>3</td><td>FALSE</td><td>23.7</td><td>66</td><td>0.1877631</td><td>5.325859</td></tr>\n",
       "\t<tr><td>1309</td><td>TRUE</td><td>1</td><td>41</td><td>806</td><td>33</td><td>3</td><td>FALSE</td><td>29.6</td><td>60</td><td>0.1924371</td><td>5.196502</td></tr>\n",
       "\t<tr><td>1313</td><td>TRUE</td><td>1</td><td>41</td><td>721</td><td>19</td><td>4</td><td>FALSE</td><td>26.8</td><td>52</td><td>0.1954871</td><td>5.115427</td></tr>\n",
       "\t<tr><td>1321</td><td>TRUE</td><td>1</td><td>53</td><td>617</td><td>23</td><td>1</td><td>FALSE</td><td>25.0</td><td>57</td><td>0.1412310</td><td>7.080597</td></tr>\n",
       "\t<tr><td>1330</td><td>TRUE</td><td>1</td><td>71</td><td>613</td><td>43</td><td>2</td><td>FALSE</td><td>30.4</td><td>78</td><td>0.1277307</td><td>7.828971</td></tr>\n",
       "\t<tr><td>1333</td><td>TRUE</td><td>1</td><td>45</td><td>619</td><td>18</td><td>1</td><td>FALSE</td><td>20.4</td><td>60</td><td>0.1615430</td><td>6.190302</td></tr>\n",
       "\t<tr><td>1352</td><td>TRUE</td><td>1</td><td>53</td><td>532</td><td>26</td><td>5</td><td> TRUE</td><td>24.6</td><td>28</td><td>0.1639582</td><td>6.099114</td></tr>\n",
       "\t<tr><td>1357</td><td>TRUE</td><td>1</td><td>45</td><td>736</td><td>40</td><td>2</td><td>FALSE</td><td>26.4</td><td>57</td><td>0.1749855</td><td>5.714758</td></tr>\n",
       "\t<tr><td>1385</td><td>TRUE</td><td>1</td><td>28</td><td>801</td><td>32</td><td>4</td><td>FALSE</td><td>30.6</td><td>36</td><td>0.1987793</td><td>5.030705</td></tr>\n",
       "\t<tr><td>1418</td><td>TRUE</td><td>1</td><td>45</td><td>588</td><td>37</td><td>1</td><td>FALSE</td><td>19.1</td><td>45</td><td>0.1576013</td><td>6.345124</td></tr>\n",
       "\t<tr><td>1421</td><td>TRUE</td><td>1</td><td>58</td><td>544</td><td>10</td><td>6</td><td> TRUE</td><td>29.7</td><td>33</td><td>0.1569651</td><td>6.370844</td></tr>\n",
       "\t<tr><td>1462</td><td>TRUE</td><td>1</td><td>62</td><td>644</td><td>33</td><td>4</td><td>FALSE</td><td>31.9</td><td>56</td><td>0.1493266</td><td>6.696728</td></tr>\n",
       "\t<tr><td>1476</td><td>TRUE</td><td>1</td><td>39</td><td>789</td><td>59</td><td>2</td><td>FALSE</td><td>26.2</td><td>46</td><td>0.1893310</td><td>5.281754</td></tr>\n",
       "\t<tr><td>1537</td><td>TRUE</td><td>1</td><td>48</td><td>644</td><td>40</td><td>3</td><td>FALSE</td><td>19.9</td><td>66</td><td>0.1927585</td><td>5.187840</td></tr>\n",
       "\t<tr><td>1562</td><td>TRUE</td><td>1</td><td>39</td><td>736</td><td>43</td><td>1</td><td>FALSE</td><td>22.2</td><td>58</td><td>0.1829085</td><td>5.467214</td></tr>\n",
       "\t<tr><td>1578</td><td>TRUE</td><td>1</td><td>35</td><td>923</td><td>68</td><td>1</td><td>FALSE</td><td>31.3</td><td>49</td><td>0.1897277</td><td>5.270712</td></tr>\n",
       "\t<tr><td>1599</td><td>TRUE</td><td>1</td><td>61</td><td>661</td><td>27</td><td>1</td><td>FALSE</td><td>28.2</td><td>83</td><td>0.1384654</td><td>7.222020</td></tr>\n",
       "\t<tr><td>1635</td><td>TRUE</td><td>1</td><td>39</td><td>834</td><td>58</td><td>3</td><td>FALSE</td><td>29.7</td><td>43</td><td>0.1978373</td><td>5.054659</td></tr>\n",
       "\t<tr><td>1639</td><td>TRUE</td><td>1</td><td>34</td><td>727</td><td>55</td><td>2</td><td>FALSE</td><td>22.4</td><td>26</td><td>0.1905657</td><td>5.247535</td></tr>\n",
       "\t<tr><td>1678</td><td>TRUE</td><td>1</td><td>68</td><td>424</td><td>13</td><td>2</td><td>FALSE</td><td>20.2</td><td>70</td><td>0.1266843</td><td>7.893635</td></tr>\n",
       "\t<tr><td>1705</td><td>TRUE</td><td>1</td><td>35</td><td>638</td><td>24</td><td>1</td><td>FALSE</td><td>18.9</td><td>37</td><td>0.1729617</td><td>5.781626</td></tr>\n",
       "\t<tr><td>1728</td><td>TRUE</td><td>1</td><td>43</td><td>699</td><td>46</td><td>3</td><td>FALSE</td><td>22.1</td><td>56</td><td>0.1974337</td><td>5.064991</td></tr>\n",
       "\t<tr><td>1739</td><td>TRUE</td><td>1</td><td>58</td><td>631</td><td>34</td><td>5</td><td> TRUE</td><td>23.2</td><td>82</td><td>0.1982178</td><td>5.044955</td></tr>\n",
       "</tbody>\n",
       "</table>\n"
      ],
      "text/latex": [
       "A tibble: 73 × 12\n",
       "\\begin{tabular}{llllllllllll}\n",
       " id & net & net\\_num & malaria\\_risk & income & health & household & eligible & temperature & insecticide\\_resistance & pred & wt\\\\\n",
       " <int> & <lgl> & <int> & <dbl> & <dbl> & <dbl> & <dbl> & <lgl> & <dbl> & <dbl> & <dbl> & <dbl>\\\\\n",
       "\\hline\n",
       "\t  30 & TRUE & 1 & 34 & 798 & 36 & 1 & FALSE & 23.6 & 56 & 0.1948600 & 5.131890\\\\\n",
       "\t  59 & TRUE & 1 & 35 & 676 &  8 & 2 & FALSE & 23.2 & 41 & 0.1764922 & 5.665974\\\\\n",
       "\t  72 & TRUE & 1 & 51 & 693 & 43 & 5 &  TRUE & 26.8 & 58 & 0.1974707 & 5.064044\\\\\n",
       "\t 123 & TRUE & 1 & 38 & 463 & 11 & 7 &  TRUE & 19.9 & 44 & 0.1925607 & 5.193166\\\\\n",
       "\t 127 & TRUE & 1 & 52 & 633 & 15 & 2 & FALSE & 26.3 & 62 & 0.1506360 & 6.638520\\\\\n",
       "\t 139 & TRUE & 1 & 36 & 818 & 57 & 3 & FALSE & 29.4 & 31 & 0.1946319 & 5.137903\\\\\n",
       "\t 222 & TRUE & 1 & 28 & 879 & 48 & 1 & FALSE & 31.5 & 55 & 0.1779763 & 5.618727\\\\\n",
       "\t 227 & TRUE & 1 & 55 & 585 & 25 & 4 & FALSE & 24.9 & 51 & 0.1654397 & 6.044500\\\\\n",
       "\t 257 & TRUE & 1 & 36 & 715 & 47 & 2 & FALSE & 21.2 & 43 & 0.1939087 & 5.157065\\\\\n",
       "\t 292 & TRUE & 1 & 31 & 652 & 21 & 3 & FALSE & 22.6 & 58 & 0.1834517 & 5.451026\\\\\n",
       "\t 294 & TRUE & 1 & 28 & 838 & 54 & 2 & FALSE & 30.9 & 34 & 0.1807672 & 5.531977\\\\\n",
       "\t 314 & TRUE & 1 & 30 & 669 & 36 & 3 & FALSE & 22.3 & 46 & 0.1884237 & 5.307188\\\\\n",
       "\t 331 & TRUE & 1 & 43 & 703 & 31 & 4 & FALSE & 26.9 & 43 & 0.1883850 & 5.308277\\\\\n",
       "\t 357 & TRUE & 1 & 29 & 755 & 41 & 3 & FALSE & 25.4 & 52 & 0.1978638 & 5.053982\\\\\n",
       "\t 376 & TRUE & 1 & 40 & 762 & 32 & 2 & FALSE & 31.6 & 28 & 0.1589183 & 6.292540\\\\\n",
       "\t 404 & TRUE & 1 & 44 & 684 & 33 & 4 & FALSE & 28.8 & 28 & 0.1735162 & 5.763152\\\\\n",
       "\t 406 & TRUE & 1 & 44 & 892 & 70 & 2 & FALSE & 31.6 & 65 & 0.1914643 & 5.222907\\\\\n",
       "\t 421 & TRUE & 1 & 58 & 502 & 21 & 3 & FALSE & 22.7 & 47 & 0.1436253 & 6.962561\\\\\n",
       "\t 439 & TRUE & 1 & 36 & 793 & 52 & 4 & FALSE & 30.1 & 80 & 0.1968727 & 5.079425\\\\\n",
       "\t 450 & TRUE & 1 & 35 & 765 & 28 & 1 & FALSE & 23.3 & 57 & 0.1873596 & 5.337329\\\\\n",
       "\t 457 & TRUE & 1 & 39 & 762 & 31 & 2 & FALSE & 28.4 & 42 & 0.1735799 & 5.761035\\\\\n",
       "\t 496 & TRUE & 1 & 53 & 696 & 32 & 2 & FALSE & 31.2 & 49 & 0.1442605 & 6.931904\\\\\n",
       "\t 499 & TRUE & 1 & 51 & 526 & 14 & 3 & FALSE & 16.5 & 68 & 0.1778625 & 5.622320\\\\\n",
       "\t 528 & TRUE & 1 & 31 & 711 & 38 & 1 & FALSE & 26.4 & 43 & 0.1571302 & 6.364149\\\\\n",
       "\t 540 & TRUE & 1 & 33 & 835 & 47 & 3 & FALSE & 32.0 & 69 & 0.1874948 & 5.333482\\\\\n",
       "\t 554 & TRUE & 1 & 27 & 695 & 10 & 2 & FALSE & 21.3 & 55 & 0.1911537 & 5.231394\\\\\n",
       "\t 570 & TRUE & 1 & 40 & 744 & 40 & 1 & FALSE & 24.8 & 52 & 0.1729514 & 5.781971\\\\\n",
       "\t 580 & TRUE & 1 & 37 & 547 & 18 & 4 & FALSE & 24.7 & 42 & 0.1570429 & 6.367685\\\\\n",
       "\t 637 & TRUE & 1 & 30 & 767 & 44 & 2 & FALSE & 26.9 & 56 & 0.1809394 & 5.526711\\\\\n",
       "\t 680 & TRUE & 1 & 67 & 501 & 10 & 6 &  TRUE & 29.9 & 48 & 0.1454891 & 6.873367\\\\\n",
       "\t ⋮ & ⋮ & ⋮ & ⋮ & ⋮ & ⋮ & ⋮ & ⋮ & ⋮ & ⋮ & ⋮ & ⋮\\\\\n",
       "\t  904 & TRUE & 1 & 59 & 685 & 53 & 3 & FALSE & 29.6 & 61 & 0.1570328 & 6.368095\\\\\n",
       "\t  928 & TRUE & 1 & 47 & 666 & 38 & 3 & FALSE & 26.7 & 37 & 0.1663118 & 6.012802\\\\\n",
       "\t 1093 & TRUE & 1 & 36 & 622 & 29 & 1 & FALSE & 18.7 & 32 & 0.1690606 & 5.915040\\\\\n",
       "\t 1099 & TRUE & 1 & 63 & 633 & 35 & 4 & FALSE & 29.7 & 65 & 0.1557651 & 6.419924\\\\\n",
       "\t 1113 & TRUE & 1 & 39 & 737 & 43 & 2 & FALSE & 27.8 & 30 & 0.1684374 & 5.936923\\\\\n",
       "\t 1217 & TRUE & 1 & 57 & 659 & 44 & 1 & FALSE & 27.9 & 59 & 0.1378616 & 7.253649\\\\\n",
       "\t 1245 & TRUE & 1 & 28 & 779 & 62 & 2 & FALSE & 27.4 & 28 & 0.1801942 & 5.549569\\\\\n",
       "\t 1274 & TRUE & 1 & 33 & 693 & 43 & 3 & FALSE & 23.7 & 66 & 0.1877631 & 5.325859\\\\\n",
       "\t 1309 & TRUE & 1 & 41 & 806 & 33 & 3 & FALSE & 29.6 & 60 & 0.1924371 & 5.196502\\\\\n",
       "\t 1313 & TRUE & 1 & 41 & 721 & 19 & 4 & FALSE & 26.8 & 52 & 0.1954871 & 5.115427\\\\\n",
       "\t 1321 & TRUE & 1 & 53 & 617 & 23 & 1 & FALSE & 25.0 & 57 & 0.1412310 & 7.080597\\\\\n",
       "\t 1330 & TRUE & 1 & 71 & 613 & 43 & 2 & FALSE & 30.4 & 78 & 0.1277307 & 7.828971\\\\\n",
       "\t 1333 & TRUE & 1 & 45 & 619 & 18 & 1 & FALSE & 20.4 & 60 & 0.1615430 & 6.190302\\\\\n",
       "\t 1352 & TRUE & 1 & 53 & 532 & 26 & 5 &  TRUE & 24.6 & 28 & 0.1639582 & 6.099114\\\\\n",
       "\t 1357 & TRUE & 1 & 45 & 736 & 40 & 2 & FALSE & 26.4 & 57 & 0.1749855 & 5.714758\\\\\n",
       "\t 1385 & TRUE & 1 & 28 & 801 & 32 & 4 & FALSE & 30.6 & 36 & 0.1987793 & 5.030705\\\\\n",
       "\t 1418 & TRUE & 1 & 45 & 588 & 37 & 1 & FALSE & 19.1 & 45 & 0.1576013 & 6.345124\\\\\n",
       "\t 1421 & TRUE & 1 & 58 & 544 & 10 & 6 &  TRUE & 29.7 & 33 & 0.1569651 & 6.370844\\\\\n",
       "\t 1462 & TRUE & 1 & 62 & 644 & 33 & 4 & FALSE & 31.9 & 56 & 0.1493266 & 6.696728\\\\\n",
       "\t 1476 & TRUE & 1 & 39 & 789 & 59 & 2 & FALSE & 26.2 & 46 & 0.1893310 & 5.281754\\\\\n",
       "\t 1537 & TRUE & 1 & 48 & 644 & 40 & 3 & FALSE & 19.9 & 66 & 0.1927585 & 5.187840\\\\\n",
       "\t 1562 & TRUE & 1 & 39 & 736 & 43 & 1 & FALSE & 22.2 & 58 & 0.1829085 & 5.467214\\\\\n",
       "\t 1578 & TRUE & 1 & 35 & 923 & 68 & 1 & FALSE & 31.3 & 49 & 0.1897277 & 5.270712\\\\\n",
       "\t 1599 & TRUE & 1 & 61 & 661 & 27 & 1 & FALSE & 28.2 & 83 & 0.1384654 & 7.222020\\\\\n",
       "\t 1635 & TRUE & 1 & 39 & 834 & 58 & 3 & FALSE & 29.7 & 43 & 0.1978373 & 5.054659\\\\\n",
       "\t 1639 & TRUE & 1 & 34 & 727 & 55 & 2 & FALSE & 22.4 & 26 & 0.1905657 & 5.247535\\\\\n",
       "\t 1678 & TRUE & 1 & 68 & 424 & 13 & 2 & FALSE & 20.2 & 70 & 0.1266843 & 7.893635\\\\\n",
       "\t 1705 & TRUE & 1 & 35 & 638 & 24 & 1 & FALSE & 18.9 & 37 & 0.1729617 & 5.781626\\\\\n",
       "\t 1728 & TRUE & 1 & 43 & 699 & 46 & 3 & FALSE & 22.1 & 56 & 0.1974337 & 5.064991\\\\\n",
       "\t 1739 & TRUE & 1 & 58 & 631 & 34 & 5 &  TRUE & 23.2 & 82 & 0.1982178 & 5.044955\\\\\n",
       "\\end{tabular}\n"
      ],
      "text/markdown": [
       "\n",
       "A tibble: 73 × 12\n",
       "\n",
       "| id &lt;int&gt; | net &lt;lgl&gt; | net_num &lt;int&gt; | malaria_risk &lt;dbl&gt; | income &lt;dbl&gt; | health &lt;dbl&gt; | household &lt;dbl&gt; | eligible &lt;lgl&gt; | temperature &lt;dbl&gt; | insecticide_resistance &lt;dbl&gt; | pred &lt;dbl&gt; | wt &lt;dbl&gt; |\n",
       "|---|---|---|---|---|---|---|---|---|---|---|---|\n",
       "|  30 | TRUE | 1 | 34 | 798 | 36 | 1 | FALSE | 23.6 | 56 | 0.1948600 | 5.131890 |\n",
       "|  59 | TRUE | 1 | 35 | 676 |  8 | 2 | FALSE | 23.2 | 41 | 0.1764922 | 5.665974 |\n",
       "|  72 | TRUE | 1 | 51 | 693 | 43 | 5 |  TRUE | 26.8 | 58 | 0.1974707 | 5.064044 |\n",
       "| 123 | TRUE | 1 | 38 | 463 | 11 | 7 |  TRUE | 19.9 | 44 | 0.1925607 | 5.193166 |\n",
       "| 127 | TRUE | 1 | 52 | 633 | 15 | 2 | FALSE | 26.3 | 62 | 0.1506360 | 6.638520 |\n",
       "| 139 | TRUE | 1 | 36 | 818 | 57 | 3 | FALSE | 29.4 | 31 | 0.1946319 | 5.137903 |\n",
       "| 222 | TRUE | 1 | 28 | 879 | 48 | 1 | FALSE | 31.5 | 55 | 0.1779763 | 5.618727 |\n",
       "| 227 | TRUE | 1 | 55 | 585 | 25 | 4 | FALSE | 24.9 | 51 | 0.1654397 | 6.044500 |\n",
       "| 257 | TRUE | 1 | 36 | 715 | 47 | 2 | FALSE | 21.2 | 43 | 0.1939087 | 5.157065 |\n",
       "| 292 | TRUE | 1 | 31 | 652 | 21 | 3 | FALSE | 22.6 | 58 | 0.1834517 | 5.451026 |\n",
       "| 294 | TRUE | 1 | 28 | 838 | 54 | 2 | FALSE | 30.9 | 34 | 0.1807672 | 5.531977 |\n",
       "| 314 | TRUE | 1 | 30 | 669 | 36 | 3 | FALSE | 22.3 | 46 | 0.1884237 | 5.307188 |\n",
       "| 331 | TRUE | 1 | 43 | 703 | 31 | 4 | FALSE | 26.9 | 43 | 0.1883850 | 5.308277 |\n",
       "| 357 | TRUE | 1 | 29 | 755 | 41 | 3 | FALSE | 25.4 | 52 | 0.1978638 | 5.053982 |\n",
       "| 376 | TRUE | 1 | 40 | 762 | 32 | 2 | FALSE | 31.6 | 28 | 0.1589183 | 6.292540 |\n",
       "| 404 | TRUE | 1 | 44 | 684 | 33 | 4 | FALSE | 28.8 | 28 | 0.1735162 | 5.763152 |\n",
       "| 406 | TRUE | 1 | 44 | 892 | 70 | 2 | FALSE | 31.6 | 65 | 0.1914643 | 5.222907 |\n",
       "| 421 | TRUE | 1 | 58 | 502 | 21 | 3 | FALSE | 22.7 | 47 | 0.1436253 | 6.962561 |\n",
       "| 439 | TRUE | 1 | 36 | 793 | 52 | 4 | FALSE | 30.1 | 80 | 0.1968727 | 5.079425 |\n",
       "| 450 | TRUE | 1 | 35 | 765 | 28 | 1 | FALSE | 23.3 | 57 | 0.1873596 | 5.337329 |\n",
       "| 457 | TRUE | 1 | 39 | 762 | 31 | 2 | FALSE | 28.4 | 42 | 0.1735799 | 5.761035 |\n",
       "| 496 | TRUE | 1 | 53 | 696 | 32 | 2 | FALSE | 31.2 | 49 | 0.1442605 | 6.931904 |\n",
       "| 499 | TRUE | 1 | 51 | 526 | 14 | 3 | FALSE | 16.5 | 68 | 0.1778625 | 5.622320 |\n",
       "| 528 | TRUE | 1 | 31 | 711 | 38 | 1 | FALSE | 26.4 | 43 | 0.1571302 | 6.364149 |\n",
       "| 540 | TRUE | 1 | 33 | 835 | 47 | 3 | FALSE | 32.0 | 69 | 0.1874948 | 5.333482 |\n",
       "| 554 | TRUE | 1 | 27 | 695 | 10 | 2 | FALSE | 21.3 | 55 | 0.1911537 | 5.231394 |\n",
       "| 570 | TRUE | 1 | 40 | 744 | 40 | 1 | FALSE | 24.8 | 52 | 0.1729514 | 5.781971 |\n",
       "| 580 | TRUE | 1 | 37 | 547 | 18 | 4 | FALSE | 24.7 | 42 | 0.1570429 | 6.367685 |\n",
       "| 637 | TRUE | 1 | 30 | 767 | 44 | 2 | FALSE | 26.9 | 56 | 0.1809394 | 5.526711 |\n",
       "| 680 | TRUE | 1 | 67 | 501 | 10 | 6 |  TRUE | 29.9 | 48 | 0.1454891 | 6.873367 |\n",
       "| ⋮ | ⋮ | ⋮ | ⋮ | ⋮ | ⋮ | ⋮ | ⋮ | ⋮ | ⋮ | ⋮ | ⋮ |\n",
       "|  904 | TRUE | 1 | 59 | 685 | 53 | 3 | FALSE | 29.6 | 61 | 0.1570328 | 6.368095 |\n",
       "|  928 | TRUE | 1 | 47 | 666 | 38 | 3 | FALSE | 26.7 | 37 | 0.1663118 | 6.012802 |\n",
       "| 1093 | TRUE | 1 | 36 | 622 | 29 | 1 | FALSE | 18.7 | 32 | 0.1690606 | 5.915040 |\n",
       "| 1099 | TRUE | 1 | 63 | 633 | 35 | 4 | FALSE | 29.7 | 65 | 0.1557651 | 6.419924 |\n",
       "| 1113 | TRUE | 1 | 39 | 737 | 43 | 2 | FALSE | 27.8 | 30 | 0.1684374 | 5.936923 |\n",
       "| 1217 | TRUE | 1 | 57 | 659 | 44 | 1 | FALSE | 27.9 | 59 | 0.1378616 | 7.253649 |\n",
       "| 1245 | TRUE | 1 | 28 | 779 | 62 | 2 | FALSE | 27.4 | 28 | 0.1801942 | 5.549569 |\n",
       "| 1274 | TRUE | 1 | 33 | 693 | 43 | 3 | FALSE | 23.7 | 66 | 0.1877631 | 5.325859 |\n",
       "| 1309 | TRUE | 1 | 41 | 806 | 33 | 3 | FALSE | 29.6 | 60 | 0.1924371 | 5.196502 |\n",
       "| 1313 | TRUE | 1 | 41 | 721 | 19 | 4 | FALSE | 26.8 | 52 | 0.1954871 | 5.115427 |\n",
       "| 1321 | TRUE | 1 | 53 | 617 | 23 | 1 | FALSE | 25.0 | 57 | 0.1412310 | 7.080597 |\n",
       "| 1330 | TRUE | 1 | 71 | 613 | 43 | 2 | FALSE | 30.4 | 78 | 0.1277307 | 7.828971 |\n",
       "| 1333 | TRUE | 1 | 45 | 619 | 18 | 1 | FALSE | 20.4 | 60 | 0.1615430 | 6.190302 |\n",
       "| 1352 | TRUE | 1 | 53 | 532 | 26 | 5 |  TRUE | 24.6 | 28 | 0.1639582 | 6.099114 |\n",
       "| 1357 | TRUE | 1 | 45 | 736 | 40 | 2 | FALSE | 26.4 | 57 | 0.1749855 | 5.714758 |\n",
       "| 1385 | TRUE | 1 | 28 | 801 | 32 | 4 | FALSE | 30.6 | 36 | 0.1987793 | 5.030705 |\n",
       "| 1418 | TRUE | 1 | 45 | 588 | 37 | 1 | FALSE | 19.1 | 45 | 0.1576013 | 6.345124 |\n",
       "| 1421 | TRUE | 1 | 58 | 544 | 10 | 6 |  TRUE | 29.7 | 33 | 0.1569651 | 6.370844 |\n",
       "| 1462 | TRUE | 1 | 62 | 644 | 33 | 4 | FALSE | 31.9 | 56 | 0.1493266 | 6.696728 |\n",
       "| 1476 | TRUE | 1 | 39 | 789 | 59 | 2 | FALSE | 26.2 | 46 | 0.1893310 | 5.281754 |\n",
       "| 1537 | TRUE | 1 | 48 | 644 | 40 | 3 | FALSE | 19.9 | 66 | 0.1927585 | 5.187840 |\n",
       "| 1562 | TRUE | 1 | 39 | 736 | 43 | 1 | FALSE | 22.2 | 58 | 0.1829085 | 5.467214 |\n",
       "| 1578 | TRUE | 1 | 35 | 923 | 68 | 1 | FALSE | 31.3 | 49 | 0.1897277 | 5.270712 |\n",
       "| 1599 | TRUE | 1 | 61 | 661 | 27 | 1 | FALSE | 28.2 | 83 | 0.1384654 | 7.222020 |\n",
       "| 1635 | TRUE | 1 | 39 | 834 | 58 | 3 | FALSE | 29.7 | 43 | 0.1978373 | 5.054659 |\n",
       "| 1639 | TRUE | 1 | 34 | 727 | 55 | 2 | FALSE | 22.4 | 26 | 0.1905657 | 5.247535 |\n",
       "| 1678 | TRUE | 1 | 68 | 424 | 13 | 2 | FALSE | 20.2 | 70 | 0.1266843 | 7.893635 |\n",
       "| 1705 | TRUE | 1 | 35 | 638 | 24 | 1 | FALSE | 18.9 | 37 | 0.1729617 | 5.781626 |\n",
       "| 1728 | TRUE | 1 | 43 | 699 | 46 | 3 | FALSE | 22.1 | 56 | 0.1974337 | 5.064991 |\n",
       "| 1739 | TRUE | 1 | 58 | 631 | 34 | 5 |  TRUE | 23.2 | 82 | 0.1982178 | 5.044955 |\n",
       "\n"
      ],
      "text/plain": [
       "   id   net  net_num malaria_risk income health household eligible temperature\n",
       "1   30  TRUE 1       34           798    36     1         FALSE    23.6       \n",
       "2   59  TRUE 1       35           676     8     2         FALSE    23.2       \n",
       "3   72  TRUE 1       51           693    43     5          TRUE    26.8       \n",
       "4  123  TRUE 1       38           463    11     7          TRUE    19.9       \n",
       "5  127  TRUE 1       52           633    15     2         FALSE    26.3       \n",
       "6  139  TRUE 1       36           818    57     3         FALSE    29.4       \n",
       "7  222  TRUE 1       28           879    48     1         FALSE    31.5       \n",
       "8  227  TRUE 1       55           585    25     4         FALSE    24.9       \n",
       "9  257  TRUE 1       36           715    47     2         FALSE    21.2       \n",
       "10 292  TRUE 1       31           652    21     3         FALSE    22.6       \n",
       "11 294  TRUE 1       28           838    54     2         FALSE    30.9       \n",
       "12 314  TRUE 1       30           669    36     3         FALSE    22.3       \n",
       "13 331  TRUE 1       43           703    31     4         FALSE    26.9       \n",
       "14 357  TRUE 1       29           755    41     3         FALSE    25.4       \n",
       "15 376  TRUE 1       40           762    32     2         FALSE    31.6       \n",
       "16 404  TRUE 1       44           684    33     4         FALSE    28.8       \n",
       "17 406  TRUE 1       44           892    70     2         FALSE    31.6       \n",
       "18 421  TRUE 1       58           502    21     3         FALSE    22.7       \n",
       "19 439  TRUE 1       36           793    52     4         FALSE    30.1       \n",
       "20 450  TRUE 1       35           765    28     1         FALSE    23.3       \n",
       "21 457  TRUE 1       39           762    31     2         FALSE    28.4       \n",
       "22 496  TRUE 1       53           696    32     2         FALSE    31.2       \n",
       "23 499  TRUE 1       51           526    14     3         FALSE    16.5       \n",
       "24 528  TRUE 1       31           711    38     1         FALSE    26.4       \n",
       "25 540  TRUE 1       33           835    47     3         FALSE    32.0       \n",
       "26 554  TRUE 1       27           695    10     2         FALSE    21.3       \n",
       "27 570  TRUE 1       40           744    40     1         FALSE    24.8       \n",
       "28 580  TRUE 1       37           547    18     4         FALSE    24.7       \n",
       "29 637  TRUE 1       30           767    44     2         FALSE    26.9       \n",
       "30 680  TRUE 1       67           501    10     6          TRUE    29.9       \n",
       "⋮  ⋮    ⋮    ⋮       ⋮            ⋮      ⋮      ⋮         ⋮        ⋮          \n",
       "44  904 TRUE 1       59           685    53     3         FALSE    29.6       \n",
       "45  928 TRUE 1       47           666    38     3         FALSE    26.7       \n",
       "46 1093 TRUE 1       36           622    29     1         FALSE    18.7       \n",
       "47 1099 TRUE 1       63           633    35     4         FALSE    29.7       \n",
       "48 1113 TRUE 1       39           737    43     2         FALSE    27.8       \n",
       "49 1217 TRUE 1       57           659    44     1         FALSE    27.9       \n",
       "50 1245 TRUE 1       28           779    62     2         FALSE    27.4       \n",
       "51 1274 TRUE 1       33           693    43     3         FALSE    23.7       \n",
       "52 1309 TRUE 1       41           806    33     3         FALSE    29.6       \n",
       "53 1313 TRUE 1       41           721    19     4         FALSE    26.8       \n",
       "54 1321 TRUE 1       53           617    23     1         FALSE    25.0       \n",
       "55 1330 TRUE 1       71           613    43     2         FALSE    30.4       \n",
       "56 1333 TRUE 1       45           619    18     1         FALSE    20.4       \n",
       "57 1352 TRUE 1       53           532    26     5          TRUE    24.6       \n",
       "58 1357 TRUE 1       45           736    40     2         FALSE    26.4       \n",
       "59 1385 TRUE 1       28           801    32     4         FALSE    30.6       \n",
       "60 1418 TRUE 1       45           588    37     1         FALSE    19.1       \n",
       "61 1421 TRUE 1       58           544    10     6          TRUE    29.7       \n",
       "62 1462 TRUE 1       62           644    33     4         FALSE    31.9       \n",
       "63 1476 TRUE 1       39           789    59     2         FALSE    26.2       \n",
       "64 1537 TRUE 1       48           644    40     3         FALSE    19.9       \n",
       "65 1562 TRUE 1       39           736    43     1         FALSE    22.2       \n",
       "66 1578 TRUE 1       35           923    68     1         FALSE    31.3       \n",
       "67 1599 TRUE 1       61           661    27     1         FALSE    28.2       \n",
       "68 1635 TRUE 1       39           834    58     3         FALSE    29.7       \n",
       "69 1639 TRUE 1       34           727    55     2         FALSE    22.4       \n",
       "70 1678 TRUE 1       68           424    13     2         FALSE    20.2       \n",
       "71 1705 TRUE 1       35           638    24     1         FALSE    18.9       \n",
       "72 1728 TRUE 1       43           699    46     3         FALSE    22.1       \n",
       "73 1739 TRUE 1       58           631    34     5          TRUE    23.2       \n",
       "   insecticide_resistance pred      wt      \n",
       "1  56                     0.1948600 5.131890\n",
       "2  41                     0.1764922 5.665974\n",
       "3  58                     0.1974707 5.064044\n",
       "4  44                     0.1925607 5.193166\n",
       "5  62                     0.1506360 6.638520\n",
       "6  31                     0.1946319 5.137903\n",
       "7  55                     0.1779763 5.618727\n",
       "8  51                     0.1654397 6.044500\n",
       "9  43                     0.1939087 5.157065\n",
       "10 58                     0.1834517 5.451026\n",
       "11 34                     0.1807672 5.531977\n",
       "12 46                     0.1884237 5.307188\n",
       "13 43                     0.1883850 5.308277\n",
       "14 52                     0.1978638 5.053982\n",
       "15 28                     0.1589183 6.292540\n",
       "16 28                     0.1735162 5.763152\n",
       "17 65                     0.1914643 5.222907\n",
       "18 47                     0.1436253 6.962561\n",
       "19 80                     0.1968727 5.079425\n",
       "20 57                     0.1873596 5.337329\n",
       "21 42                     0.1735799 5.761035\n",
       "22 49                     0.1442605 6.931904\n",
       "23 68                     0.1778625 5.622320\n",
       "24 43                     0.1571302 6.364149\n",
       "25 69                     0.1874948 5.333482\n",
       "26 55                     0.1911537 5.231394\n",
       "27 52                     0.1729514 5.781971\n",
       "28 42                     0.1570429 6.367685\n",
       "29 56                     0.1809394 5.526711\n",
       "30 48                     0.1454891 6.873367\n",
       "⋮  ⋮                      ⋮         ⋮       \n",
       "44 61                     0.1570328 6.368095\n",
       "45 37                     0.1663118 6.012802\n",
       "46 32                     0.1690606 5.915040\n",
       "47 65                     0.1557651 6.419924\n",
       "48 30                     0.1684374 5.936923\n",
       "49 59                     0.1378616 7.253649\n",
       "50 28                     0.1801942 5.549569\n",
       "51 66                     0.1877631 5.325859\n",
       "52 60                     0.1924371 5.196502\n",
       "53 52                     0.1954871 5.115427\n",
       "54 57                     0.1412310 7.080597\n",
       "55 78                     0.1277307 7.828971\n",
       "56 60                     0.1615430 6.190302\n",
       "57 28                     0.1639582 6.099114\n",
       "58 57                     0.1749855 5.714758\n",
       "59 36                     0.1987793 5.030705\n",
       "60 45                     0.1576013 6.345124\n",
       "61 33                     0.1569651 6.370844\n",
       "62 56                     0.1493266 6.696728\n",
       "63 46                     0.1893310 5.281754\n",
       "64 66                     0.1927585 5.187840\n",
       "65 58                     0.1829085 5.467214\n",
       "66 49                     0.1897277 5.270712\n",
       "67 83                     0.1384654 7.222020\n",
       "68 43                     0.1978373 5.054659\n",
       "69 26                     0.1905657 5.247535\n",
       "70 70                     0.1266843 7.893635\n",
       "71 37                     0.1729617 5.781626\n",
       "72 56                     0.1974337 5.064991\n",
       "73 82                     0.1982178 5.044955"
      ]
     },
     "metadata": {},
     "output_type": "display_data"
    }
   ],
   "source": [
    "library(modelr)\n",
    "\n",
    "net_data %>% add_predictions(propensity_model, type=\"response\") %>% \n",
    "    mutate(wt = 1 / (net * pred + (1 - net) * (1 - pred))) ->\n",
    "    net_data_wts\n",
    "\n",
    "net_data_wts %>% filter(wt > 5)"
   ]
  },
  {
   "cell_type": "markdown",
   "id": "54632901",
   "metadata": {
    "slideshow": {
     "slide_type": "slide"
    }
   },
   "source": [
    "## Diagnostics\n",
    "- The idea of propensity scoring is to weight the observations such that the distribution of confounders is equal between the two groups.\n",
    "- We can (sort of) check this by visualizing the weighted and unweighted covariates."
   ]
  },
  {
   "cell_type": "code",
   "execution_count": 75,
   "id": "f1663d01",
   "metadata": {
    "slideshow": {
     "slide_type": "slide"
    }
   },
   "outputs": [
    {
     "data": {
      "image/png": "[encoded data removed]",
      "text/plain": [
       "plot without title"
      ]
     },
     "metadata": {
      "image/png": {
       "height": 360,
       "width": 600
      }
     },
     "output_type": "display_data"
    }
   ],
   "source": [
    "net_data_wts %>% ggplot + geom_histogram(aes(x = temperature, y = ..density.., weight=wt), bins=50) +\n",
    "    facet_grid(~ net)"
   ]
  },
  {
   "cell_type": "code",
   "execution_count": 76,
   "id": "d5b4d7b0",
   "metadata": {
    "slideshow": {
     "slide_type": "slide"
    }
   },
   "outputs": [
    {
     "name": "stderr",
     "output_type": "stream",
     "text": [
      "\u001b[1m\u001b[22m`stat_mirror_count()` using `bins = 30`. Pick better value with `binwidth`.\n"
     ]
    },
    {
     "data": {
      "image/png": "[encoded data removed]",
      "text/plain": [
       "plot without title"
      ]
     },
     "metadata": {
      "image/png": {
       "height": 360,
       "width": 600
      }
     },
     "output_type": "display_data"
    }
   ],
   "source": [
    "library(halfmoon)\n",
    "net_data_wts %>% ggplot + geom_mirror_histogram(aes(x = pred, fill = net, weight = wt))"
   ]
  },
  {
   "cell_type": "markdown",
   "id": "f2ce25b3",
   "metadata": {
    "slideshow": {
     "slide_type": "slide"
    }
   },
   "source": [
    "## Covariate balance\n",
    "\n",
    "- The standardized (mean) difference measures distance between two group means:\n",
    "\n",
    "$$ \\text{SMD} = \\frac{\\bar{X}_1 - \\bar{X}_2}{\\sigma_\\text{pooled}} $$\n",
    "- Can be used to measure of covariate balance before and after propensity score matching.\n",
    "- (After matching, you need to use weighted means and variances of course.)"
   ]
  },
  {
   "cell_type": "code",
   "execution_count": 28,
   "id": "9a0447ea",
   "metadata": {
    "slideshow": {
     "slide_type": "slide"
    }
   },
   "outputs": [],
   "source": [
    "smd <- function(x1, x2, w1 = NULL, w2 = NULL) {\n",
    "    n1 <- length(x1)\n",
    "    n2 <- length(x2)\n",
    "    mu1 <- Hmisc::wtd.mean(x1, w1)\n",
    "    mu2 <- Hmisc::wtd.mean(x2, w2)\n",
    "    v1 <- Hmisc::wtd.var(x1, w1)\n",
    "    v2 <- Hmisc::wtd.var(x2, w2)\n",
    "    sd_pooled <- sqrt(((n1 - 1) * v1 + (n2 - 1) * v2) / (n1 + n2 - 2))\n",
    "    abs(mu1 - mu2) / sd_pooled\n",
    "}"
   ]
  },
  {
   "cell_type": "code",
   "execution_count": 29,
   "id": "714f9567",
   "metadata": {
    "scrolled": true,
    "slideshow": {
     "slide_type": "slide"
    }
   },
   "outputs": [
    {
     "data": {
      "text/html": [
       "0.0141339773434336"
      ],
      "text/latex": [
       "0.0141339773434336"
      ],
      "text/markdown": [
       "0.0141339773434336"
      ],
      "text/plain": [
       "[1] 0.01413398"
      ]
     },
     "metadata": {},
     "output_type": "display_data"
    }
   ],
   "source": [
    "e <- net_data_wts$net\n",
    "w <- net_data_wts$wt\n",
    "\n",
    "smd(net_data_wts$health[e], net_data_wts$health[!e], w[e], w[!e])"
   ]
  },
  {
   "cell_type": "code",
   "execution_count": 30,
   "id": "85ea802e",
   "metadata": {
    "slideshow": {
     "slide_type": "notes"
    }
   },
   "outputs": [],
   "source": [
    "plot_df <- tidy_smd(\n",
    "  net_data_wts,\n",
    "  c(income, health, temperature),\n",
    "  .group = net,\n",
    "  .wts = wt\n",
    ")"
   ]
  },
  {
   "cell_type": "code",
   "execution_count": 31,
   "id": "9253382c",
   "metadata": {
    "slideshow": {
     "slide_type": "slide"
    }
   },
   "outputs": [
    {
     "data": {
      "image/png": "[encoded data removed]",
      "text/plain": [
       "plot without title"
      ]
     },
     "metadata": {
      "image/png": {
       "height": 360,
       "width": 600
      }
     },
     "output_type": "display_data"
    }
   ],
   "source": [
    "ggplot(plot_df, aes(x=abs(smd), y=variable, group=method, color=method)) + geom_love()"
   ]
  },
  {
   "cell_type": "markdown",
   "id": "5dd21834",
   "metadata": {
    "slideshow": {
     "slide_type": "slide"
    }
   },
   "source": [
    "## Estimating the causal effect\n",
    "\n",
    "Now we can use weighted least squares to estimate the average treatment effect:"
   ]
  },
  {
   "cell_type": "code",
   "execution_count": 79,
   "id": "1e6c4f32",
   "metadata": {
    "slideshow": {
     "slide_type": "-"
    }
   },
   "outputs": [
    {
     "data": {
      "text/html": [
       "<table class=\"dataframe\">\n",
       "<caption>A tibble: 2 × 7</caption>\n",
       "<thead>\n",
       "\t<tr><th scope=col>term</th><th scope=col>estimate</th><th scope=col>std.error</th><th scope=col>statistic</th><th scope=col>p.value</th><th scope=col>conf.low</th><th scope=col>conf.high</th></tr>\n",
       "\t<tr><th scope=col>&lt;chr&gt;</th><th scope=col>&lt;dbl&gt;</th><th scope=col>&lt;dbl&gt;</th><th scope=col>&lt;dbl&gt;</th><th scope=col>&lt;dbl&gt;</th><th scope=col>&lt;dbl&gt;</th><th scope=col>&lt;dbl&gt;</th></tr>\n",
       "</thead>\n",
       "<tbody>\n",
       "\t<tr><td>(Intercept)</td><td> 42.73695</td><td>0.440660</td><td> 96.98397</td><td>0.000000e+00</td><td> 41.87268</td><td> 43.60123</td></tr>\n",
       "\t<tr><td>netTRUE    </td><td>-12.66113</td><td>0.622791</td><td>-20.32966</td><td>1.176965e-82</td><td>-13.88262</td><td>-11.43963</td></tr>\n",
       "</tbody>\n",
       "</table>\n"
      ],
      "text/latex": [
       "A tibble: 2 × 7\n",
       "\\begin{tabular}{lllllll}\n",
       " term & estimate & std.error & statistic & p.value & conf.low & conf.high\\\\\n",
       " <chr> & <dbl> & <dbl> & <dbl> & <dbl> & <dbl> & <dbl>\\\\\n",
       "\\hline\n",
       "\t (Intercept) &  42.73695 & 0.440660 &  96.98397 & 0.000000e+00 &  41.87268 &  43.60123\\\\\n",
       "\t netTRUE     & -12.66113 & 0.622791 & -20.32966 & 1.176965e-82 & -13.88262 & -11.43963\\\\\n",
       "\\end{tabular}\n"
      ],
      "text/markdown": [
       "\n",
       "A tibble: 2 × 7\n",
       "\n",
       "| term &lt;chr&gt; | estimate &lt;dbl&gt; | std.error &lt;dbl&gt; | statistic &lt;dbl&gt; | p.value &lt;dbl&gt; | conf.low &lt;dbl&gt; | conf.high &lt;dbl&gt; |\n",
       "|---|---|---|---|---|---|---|\n",
       "| (Intercept) |  42.73695 | 0.440660 |  96.98397 | 0.000000e+00 |  41.87268 |  43.60123 |\n",
       "| netTRUE     | -12.66113 | 0.622791 | -20.32966 | 1.176965e-82 | -13.88262 | -11.43963 |\n",
       "\n"
      ],
      "text/plain": [
       "  term        estimate  std.error statistic p.value      conf.low  conf.high\n",
       "1 (Intercept)  42.73695 0.440660   96.98397 0.000000e+00  41.87268  43.60123\n",
       "2 netTRUE     -12.66113 0.622791  -20.32966 1.176965e-82 -13.88262 -11.43963"
      ]
     },
     "metadata": {},
     "output_type": "display_data"
    }
   ],
   "source": [
    "library(broom)\n",
    "net_data_wts %>% \n",
    "  lm(malaria_risk ~ net, data = ., weights = wt) %>% \n",
    "  tidy(conf.int = T)"
   ]
  },
  {
   "cell_type": "markdown",
   "id": "909f9670",
   "metadata": {
    "slideshow": {
     "slide_type": "notes"
    }
   },
   "source": [
    "Are there any potential issues with this regression?\n",
    "- We've used the data twice (how?).\n",
    "- The weights themselves are random variables and they are not independent.\n",
    "- The confidence intervals will therefore be to narrow (overconfident)."
   ]
  },
  {
   "cell_type": "markdown",
   "id": "a939c4ae",
   "metadata": {
    "slideshow": {
     "slide_type": "slide"
    }
   },
   "source": [
    "## Bootstrapping standard errors\n",
    "- Getting a formula for the correct confidence intervals is difficult (though possible in this case).\n",
    "- A better solution is to use the bootstrap."
   ]
  },
  {
   "cell_type": "code",
   "execution_count": 33,
   "id": "1619bb66",
   "metadata": {
    "slideshow": {
     "slide_type": "slide"
    }
   },
   "outputs": [],
   "source": [
    "library(rsample)\n",
    "\n",
    "fit_ipw_1 <- function(split, ...) {\n",
    "  # get bootstrapped data sample with `rsample::analysis()`\n",
    "  .df <- analysis(split)\n",
    "\n",
    "  # fit ipw model\n",
    "  lm(malaria_risk ~ net, data = .df, weights = wt) %>% \n",
    "    tidy()\n",
    "}"
   ]
  },
  {
   "cell_type": "code",
   "execution_count": 34,
   "id": "c44d6342",
   "metadata": {
    "slideshow": {
     "slide_type": "slide"
    }
   },
   "outputs": [],
   "source": [
    "bootstrapped_net_data <- bootstraps(\n",
    "  net_data_wts,\n",
    "  times = 1000,\n",
    "  # required to calculate CIs later\n",
    "  apparent=T,\n",
    ")"
   ]
  },
  {
   "cell_type": "code",
   "execution_count": 23,
   "id": "d775ab5a",
   "metadata": {
    "slideshow": {
     "slide_type": "slide"
    }
   },
   "outputs": [],
   "source": [
    "ipw_results <- bootstrapped_net_data %>% mutate(boot_fits = map(splits, fit_ipw_1))"
   ]
  },
  {
   "cell_type": "code",
   "execution_count": null,
   "id": "35fbfb96",
   "metadata": {},
   "outputs": [],
   "source": [
    "ipw_results %>% mutate(estimate = map_dbl(\n",
    "    boot_fits,\n",
    "    \\(fit) fit %>% filter(term == 'netTRUE') %>% \n",
    "    pull(estimate))) %>% \n",
    "    ggplot + geom_histogram(aes(x=estimate))"
   ]
  },
  {
   "cell_type": "code",
   "execution_count": 22,
   "id": "23deadd6",
   "metadata": {
    "scrolled": true,
    "slideshow": {
     "slide_type": "slide"
    }
   },
   "outputs": [
    {
     "ename": "ERROR",
     "evalue": "Error in int_pctl(., boot_fits): object 'ipw_results' not found\n",
     "output_type": "error",
     "traceback": [
      "Error in int_pctl(., boot_fits): object 'ipw_results' not found\nTraceback:\n",
      "1. ipw_results %>% int_pctl(boot_fits) %>% filter(term == \"netTRUE\")",
      "2. filter(., term == \"netTRUE\")",
      "3. int_pctl(., boot_fits)"
     ]
    }
   ],
   "source": [
    "boot_estimates <- ipw_results %>% int_pctl(boot_fits) %>% filter(term == \"netTRUE\")\n",
    "boot_estimates"
   ]
  },
  {
   "cell_type": "code",
   "execution_count": 30,
   "id": "dda9089c",
   "metadata": {
    "slideshow": {
     "slide_type": "slide"
    }
   },
   "outputs": [],
   "source": [
    "fit_ipw_2 <- function(split, ...) {\n",
    "  # get bootstrapped data sample with `rsample::analysis()`\n",
    "  .df <- analysis(split)\n",
    "    \n",
    "  # fit propensity model\n",
    "  propensity_model <- glm(\n",
    "    net ~ income + health + temperature,\n",
    "    data = net_data,\n",
    "    family = binomial()\n",
    "  )\n",
    "\n",
    "  .df <- add_predictions(.df, propensity_model, type = \"response\") %>% \n",
    "         mutate(wt = 1 / (net * pred + (1 - net) * (1 - pred)))\n",
    "    \n",
    "  # fit ipw model\n",
    "   lm(malaria_risk ~ net, data = .df, weights = wt) %>% \n",
    "    tidy()\n",
    "}"
   ]
  },
  {
   "cell_type": "code",
   "execution_count": null,
   "id": "76c1833b",
   "metadata": {},
   "outputs": [],
   "source": []
  },
  {
   "cell_type": "markdown",
   "id": "58ad03de",
   "metadata": {
    "slideshow": {
     "slide_type": "slide"
    }
   },
   "source": [
    "## Sensitivity analysis\n",
    "- The above analysis is correct as far is the assumptions we made going in hold.\n",
    "- What were those assumptions?"
   ]
  },
  {
   "cell_type": "markdown",
   "id": "867e898c",
   "metadata": {
    "slideshow": {
     "slide_type": "slide"
    }
   },
   "source": [
    "Let's suppose we indeed have an unmeasured confounder. We will ask the question:\n",
    "    \n",
    "> How much would the confounder have to affect malaria risk before we fail to reject the null?"
   ]
  },
  {
   "cell_type": "code",
   "execution_count": 44,
   "id": "d348e55d",
   "metadata": {},
   "outputs": [
    {
     "name": "stderr",
     "output_type": "stream",
     "text": [
      "\u001b[1m\u001b[22m\u001b[36mℹ\u001b[39m The observed effect (-11.09, -11.09, -11.09, -11.09, and -11.09) WOULD be tipped by 1, 1, 1, 1, and 1 unmeasured confounder,\n",
      "  , , , and with the following specifications:\n",
      "\u001b[36m•\u001b[39m estimated difference in scaled means between the unmeasured confounder in the exposed population and unexposed population: 1,\n",
      "  2, 3, 4, and 5\n",
      "\u001b[36m•\u001b[39m estimated relationship between the unmeasured confounder and the outcome: -11.09, -5.55, -3.7, -2.77, and -2.22\n"
     ]
    },
    {
     "data": {
      "text/html": [
       "<table class=\"dataframe\">\n",
       "<caption>A tibble: 5 × 4</caption>\n",
       "<thead>\n",
       "\t<tr><th scope=col>effect_observed</th><th scope=col>exposure_confounder_effect</th><th scope=col>confounder_outcome_effect</th><th scope=col>n_unmeasured_confounders</th></tr>\n",
       "\t<tr><th scope=col>&lt;dbl&gt;</th><th scope=col>&lt;int&gt;</th><th scope=col>&lt;dbl&gt;</th><th scope=col>&lt;dbl&gt;</th></tr>\n",
       "</thead>\n",
       "<tbody>\n",
       "\t<tr><td>-11.09166</td><td>1</td><td>-11.091663</td><td>1</td></tr>\n",
       "\t<tr><td>-11.09166</td><td>2</td><td> -5.545832</td><td>1</td></tr>\n",
       "\t<tr><td>-11.09166</td><td>3</td><td> -3.697221</td><td>1</td></tr>\n",
       "\t<tr><td>-11.09166</td><td>4</td><td> -2.772916</td><td>1</td></tr>\n",
       "\t<tr><td>-11.09166</td><td>5</td><td> -2.218333</td><td>1</td></tr>\n",
       "</tbody>\n",
       "</table>\n"
      ],
      "text/latex": [
       "A tibble: 5 × 4\n",
       "\\begin{tabular}{llll}\n",
       " effect\\_observed & exposure\\_confounder\\_effect & confounder\\_outcome\\_effect & n\\_unmeasured\\_confounders\\\\\n",
       " <dbl> & <int> & <dbl> & <dbl>\\\\\n",
       "\\hline\n",
       "\t -11.09166 & 1 & -11.091663 & 1\\\\\n",
       "\t -11.09166 & 2 &  -5.545832 & 1\\\\\n",
       "\t -11.09166 & 3 &  -3.697221 & 1\\\\\n",
       "\t -11.09166 & 4 &  -2.772916 & 1\\\\\n",
       "\t -11.09166 & 5 &  -2.218333 & 1\\\\\n",
       "\\end{tabular}\n"
      ],
      "text/markdown": [
       "\n",
       "A tibble: 5 × 4\n",
       "\n",
       "| effect_observed &lt;dbl&gt; | exposure_confounder_effect &lt;int&gt; | confounder_outcome_effect &lt;dbl&gt; | n_unmeasured_confounders &lt;dbl&gt; |\n",
       "|---|---|---|---|\n",
       "| -11.09166 | 1 | -11.091663 | 1 |\n",
       "| -11.09166 | 2 |  -5.545832 | 1 |\n",
       "| -11.09166 | 3 |  -3.697221 | 1 |\n",
       "| -11.09166 | 4 |  -2.772916 | 1 |\n",
       "| -11.09166 | 5 |  -2.218333 | 1 |\n",
       "\n"
      ],
      "text/plain": [
       "  effect_observed exposure_confounder_effect confounder_outcome_effect\n",
       "1 -11.09166       1                          -11.091663               \n",
       "2 -11.09166       2                           -5.545832               \n",
       "3 -11.09166       3                           -3.697221               \n",
       "4 -11.09166       4                           -2.772916               \n",
       "5 -11.09166       5                           -2.218333               \n",
       "  n_unmeasured_confounders\n",
       "1 1                       \n",
       "2 1                       \n",
       "3 1                       \n",
       "4 1                       \n",
       "5 1                       "
      ]
     },
     "metadata": {},
     "output_type": "display_data"
    }
   ],
   "source": [
    "library(tipr)\n",
    "tipping_points <- tip_coef(boot_estimates$.upper, exposure_confounder_effect = 1:5)\n",
    "tipping_points"
   ]
  },
  {
   "cell_type": "code",
   "execution_count": 47,
   "id": "41259d5a",
   "metadata": {
    "slideshow": {
     "slide_type": "slide"
    }
   },
   "outputs": [
    {
     "data": {
      "image/png": "[encoded data removed]",
      "text/plain": [
       "plot without title"
      ]
     },
     "metadata": {
      "image/png": {
       "height": 360,
       "width": 600
      }
     },
     "output_type": "display_data"
    }
   ],
   "source": [
    "tipping_points %>% \n",
    "  ggplot(aes(confounder_outcome_effect, exposure_confounder_effect)) +\n",
    "  geom_line(color = \"#009E73\", linewidth = 1.1) +\n",
    "  geom_point(fill = \"#009E73\", color = \"white\", size = 2.5, shape = 21) +\n",
    "  labs(\n",
    "    x = \"Confounder-Outcome Effect\",\n",
    "    y = \"Scaled mean differences in\\n confounder between exposure groups\"\n",
    "  )"
   ]
  },
  {
   "cell_type": "markdown",
   "id": "07059fca",
   "metadata": {
    "slideshow": {
     "slide_type": "slide"
    }
   },
   "source": [
    "## Malaria resistance\n",
    "- Some ethnic group have a genetic resistance to malaria.\n",
    "- Let’s say that in our simulated data,\n",
    "  - People with this genetic resistance have, on average, a lower malaria risk by about 10 points.\n",
    "  - About 26% of people who use nets in our study have this genetic resistance.\n",
    "  - About 5% of people who don’t use nets have this genetic resistance."
   ]
  },
  {
   "cell_type": "code",
   "execution_count": 48,
   "id": "bdb43bd8",
   "metadata": {
    "slideshow": {
     "slide_type": "slide"
    }
   },
   "outputs": [
    {
     "name": "stderr",
     "output_type": "stream",
     "text": [
      "\u001b[1m\u001b[22m\u001b[36mℹ\u001b[39m The observed effect (-12.54, -14.02, and -11.09) is updated to -10.44, -11.92, and -8.99 by a confounder with the following\n",
      "  specifications:\n",
      "\u001b[36m•\u001b[39m estimated prevalence of the unmeasured confounder in the exposed population: 0.26\n",
      "\u001b[36m•\u001b[39m estimated prevalence of the unmeasured confounder in the unexposed population: 0.05\n",
      "\u001b[36m•\u001b[39m estimated relationship between the unmeasured confounder and the outcome: -10\n"
     ]
    },
    {
     "data": {
      "text/html": [
       "<table class=\"dataframe\">\n",
       "<caption>A tibble: 3 × 4</caption>\n",
       "<thead>\n",
       "\t<tr><th scope=col>effect_adjusted</th><th scope=col>effect_observed</th><th scope=col>exposure_confounder_effect</th><th scope=col>confounder_outcome_effect</th></tr>\n",
       "\t<tr><th scope=col>&lt;dbl&gt;</th><th scope=col>&lt;dbl&gt;</th><th scope=col>&lt;dbl&gt;</th><th scope=col>&lt;dbl&gt;</th></tr>\n",
       "</thead>\n",
       "<tbody>\n",
       "\t<tr><td>-10.438454</td><td>-12.53845</td><td>0.21</td><td>-10</td></tr>\n",
       "\t<tr><td>-11.920533</td><td>-14.02053</td><td>0.21</td><td>-10</td></tr>\n",
       "\t<tr><td> -8.991663</td><td>-11.09166</td><td>0.21</td><td>-10</td></tr>\n",
       "</tbody>\n",
       "</table>\n"
      ],
      "text/latex": [
       "A tibble: 3 × 4\n",
       "\\begin{tabular}{llll}\n",
       " effect\\_adjusted & effect\\_observed & exposure\\_confounder\\_effect & confounder\\_outcome\\_effect\\\\\n",
       " <dbl> & <dbl> & <dbl> & <dbl>\\\\\n",
       "\\hline\n",
       "\t -10.438454 & -12.53845 & 0.21 & -10\\\\\n",
       "\t -11.920533 & -14.02053 & 0.21 & -10\\\\\n",
       "\t  -8.991663 & -11.09166 & 0.21 & -10\\\\\n",
       "\\end{tabular}\n"
      ],
      "text/markdown": [
       "\n",
       "A tibble: 3 × 4\n",
       "\n",
       "| effect_adjusted &lt;dbl&gt; | effect_observed &lt;dbl&gt; | exposure_confounder_effect &lt;dbl&gt; | confounder_outcome_effect &lt;dbl&gt; |\n",
       "|---|---|---|---|\n",
       "| -10.438454 | -12.53845 | 0.21 | -10 |\n",
       "| -11.920533 | -14.02053 | 0.21 | -10 |\n",
       "|  -8.991663 | -11.09166 | 0.21 | -10 |\n",
       "\n"
      ],
      "text/plain": [
       "  effect_adjusted effect_observed exposure_confounder_effect\n",
       "1 -10.438454      -12.53845       0.21                      \n",
       "2 -11.920533      -14.02053       0.21                      \n",
       "3  -8.991663      -11.09166       0.21                      \n",
       "  confounder_outcome_effect\n",
       "1 -10                      \n",
       "2 -10                      \n",
       "3 -10                      "
      ]
     },
     "metadata": {},
     "output_type": "display_data"
    }
   ],
   "source": [
    "adjusted_estimates <- boot_estimates |>\n",
    "  select(.estimate, .lower, .upper) |>\n",
    "  unlist() |>\n",
    "  adjust_coef_with_binary(\n",
    "    exposed_confounder_prev = 0.26,\n",
    "    unexposed_confounder_prev = 0.05,\n",
    "    confounder_outcome_effect = -10\n",
    "  )\n",
    "\n",
    "adjusted_estimates"
   ]
  },
  {
   "cell_type": "markdown",
   "id": "6cf054a8",
   "metadata": {
    "slideshow": {
     "slide_type": "slide"
    }
   },
   "source": [
    "![true causal](https://www.r-causal.org/chapters/02-whole-game_files/figure-html/fig-net-data-true-dag-1.png)"
   ]
  }
 ],
 "metadata": {
  "celltoolbar": "Slideshow",
  "jupytext": {
   "formats": "ipynb,md:myst",
   "notebook_metadata_filter": "all"
  },
  "kernelspec": {
   "display_name": "R",
   "language": "R",
   "name": "ir"
  },
  "language_info": {
   "codemirror_mode": "r",
   "file_extension": ".r",
   "mimetype": "text/x-r-source",
   "name": "R",
   "pygments_lexer": "r",
   "version": "4.2.1"
  },
  "rise": {
   "auto_select": "none",
   "autolaunch": true,
   "center": false,
   "controls": false,
   "enable_chalkboard": true,
   "progress": false,
   "scroll": true,
   "slideNumber": false,
   "theme": "simple",
   "transition": "none"
  },
  "toc-showtags": true
 },
 "nbformat": 4,
 "nbformat_minor": 5
}
