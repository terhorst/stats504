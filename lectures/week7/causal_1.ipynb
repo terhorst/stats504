{
 "cells": [
  {
   "cell_type": "code",
   "execution_count": 3,
   "id": "6302783c",
   "metadata": {
    "slideshow": {
     "slide_type": "notes"
    }
   },
   "outputs": [],
   "source": [
    "library(tidyverse)\n",
    "library(nhanesA)\n",
    "options(repr.plot.width=10, repr.plot.height=6)\n",
    "theme_set(theme_classic())"
   ]
  },
  {
   "cell_type": "markdown",
   "id": "9d348d0d",
   "metadata": {
    "slideshow": {
     "slide_type": "slide"
    }
   },
   "source": [
    "# STATS 504\n",
    "## Week 9: Causal inference"
   ]
  },
  {
   "cell_type": "markdown",
   "id": "59ebce2c",
   "metadata": {
    "slideshow": {
     "slide_type": "slide"
    }
   },
   "source": [
    "### Smoking and lung cancer: observational data"
   ]
  },
  {
   "cell_type": "code",
   "execution_count": 4,
   "id": "b55f7bc7",
   "metadata": {
    "slideshow": {
     "slide_type": "-"
    }
   },
   "outputs": [],
   "source": [
    "demo <- nhanes(\"DEMO_J\")\n",
    "mcq <- nhanes(\"MCQ_J\")\n",
    "smq <- nhanes(\"SMQ_J\")"
   ]
  },
  {
   "cell_type": "code",
   "execution_count": 51,
   "id": "b1382d66",
   "metadata": {
    "slideshow": {
     "slide_type": "slide"
    }
   },
   "outputs": [
    {
     "data": {
      "text/plain": [
       "\n",
       "                    Bladder                       Blood \n",
       "                         12                           1 \n",
       "                       Bone                       Brain \n",
       "                          1                           4 \n",
       "                     Breast           Cervix (cervical) \n",
       "                         89                          26 \n",
       "                      Colon      Esophagus (esophageal) \n",
       "                         46                           6 \n",
       "                Gallbladder                      Kidney \n",
       "                          1                          19 \n",
       "           Larynx/ windpipe                    Leukemia \n",
       "                          1                           6 \n",
       "                      Liver                        Lung \n",
       "                          3                          18 \n",
       "Lymphoma/ Hodgkin's disease                    Melanoma \n",
       "                         15                          35 \n",
       "           Mouth/tongue/lip             Ovary (ovarian) \n",
       "                          4                          11 \n",
       "      Pancreas (pancreatic)                    Prostate \n",
       "                          1                          94 \n",
       "            Rectum (rectal)         Skin (non-melanoma) \n",
       "                          2                          67 \n",
       "Skin (don't know what kind) Soft tissue (muscle or fat) \n",
       "                         33                           1 \n",
       "                    Stomach         Testis (testicular) \n",
       "                          5                           2 \n",
       "                    Thyroid            Uterus (uterine) \n",
       "                         15                          20 \n",
       "                      Other                  Don't know \n",
       "                         37                          13 "
      ]
     },
     "metadata": {},
     "output_type": "display_data"
    }
   ],
   "source": [
    "# nhanesCodebook(\"MCQ\", \"MCQ230A\")\n",
    "table(mcq$MCQ230A)"
   ]
  },
  {
   "cell_type": "code",
   "execution_count": 20,
   "id": "c79123dc",
   "metadata": {
    "slideshow": {
     "slide_type": "slide"
    }
   },
   "outputs": [
    {
     "data": {
      "text/html": [
       "<dl>\n",
       "\t<dt>$`Variable Name:`</dt>\n",
       "\t\t<dd>'SMQ020'</dd>\n",
       "\t<dt>$`SAS Label:`</dt>\n",
       "\t\t<dd>'Smoked at least 100 cigarettes in life'</dd>\n",
       "\t<dt>$`English Text:`</dt>\n",
       "\t\t<dd>'These next questions are about cigarette smoking and other tobacco use. {Have you/Has SP} smoked at least 100 cigarettes in {your/his/her} entire life?'</dd>\n",
       "\t<dt>$`Target:`</dt>\n",
       "\t\t<dd>'Both males and females 20 YEARS -\\r 150 YEARS'</dd>\n",
       "\t<dt>$SMQ020</dt>\n",
       "\t\t<dd><table class=\"dataframe\">\n",
       "<caption>A tibble: 5 × 5</caption>\n",
       "<thead>\n",
       "\t<tr><th scope=col>Code or Value</th><th scope=col>Value Description</th><th scope=col>Count</th><th scope=col>Cumulative</th><th scope=col>Skip to Item</th></tr>\n",
       "\t<tr><th scope=col>&lt;chr&gt;</th><th scope=col>&lt;chr&gt;</th><th scope=col>&lt;int&gt;</th><th scope=col>&lt;int&gt;</th><th scope=col>&lt;chr&gt;</th></tr>\n",
       "</thead>\n",
       "<tbody>\n",
       "\t<tr><td>1</td><td>Yes       </td><td>2299</td><td>2299</td><td>      </td></tr>\n",
       "\t<tr><td>2</td><td>No        </td><td>2566</td><td>4865</td><td>SMQ120</td></tr>\n",
       "\t<tr><td>7</td><td>Refused   </td><td>   4</td><td>4869</td><td>SMQ120</td></tr>\n",
       "\t<tr><td>9</td><td>Don't know</td><td>   8</td><td>4877</td><td>SMQ120</td></tr>\n",
       "\t<tr><td>.</td><td>Missing   </td><td>   3</td><td>4880</td><td>      </td></tr>\n",
       "</tbody>\n",
       "</table>\n",
       "</dd>\n",
       "</dl>\n"
      ],
      "text/latex": [
       "\\begin{description}\n",
       "\\item[\\$`Variable Name:`] 'SMQ020'\n",
       "\\item[\\$`SAS Label:`] 'Smoked at least 100 cigarettes in life'\n",
       "\\item[\\$`English Text:`] 'These next questions are about cigarette smoking and other tobacco use. \\{Have you/Has SP\\} smoked at least 100 cigarettes in \\{your/his/her\\} entire life?'\n",
       "\\item[\\$`Target:`] 'Both males and females 20 YEARS -\\textbackslash{}r 150 YEARS'\n",
       "\\item[\\$SMQ020] A tibble: 5 × 5\n",
       "\\begin{tabular}{lllll}\n",
       " Code or Value & Value Description & Count & Cumulative & Skip to Item\\\\\n",
       " <chr> & <chr> & <int> & <int> & <chr>\\\\\n",
       "\\hline\n",
       "\t 1 & Yes        & 2299 & 2299 &       \\\\\n",
       "\t 2 & No         & 2566 & 4865 & SMQ120\\\\\n",
       "\t 7 & Refused    &    4 & 4869 & SMQ120\\\\\n",
       "\t 9 & Don't know &    8 & 4877 & SMQ120\\\\\n",
       "\t . & Missing    &    3 & 4880 &       \\\\\n",
       "\\end{tabular}\n",
       "\n",
       "\\end{description}\n"
      ],
      "text/markdown": [
       "$`Variable Name:`\n",
       ":   'SMQ020'\n",
       "$`SAS Label:`\n",
       ":   'Smoked at least 100 cigarettes in life'\n",
       "$`English Text:`\n",
       ":   'These next questions are about cigarette smoking and other tobacco use. {Have you/Has SP} smoked at least 100 cigarettes in {your/his/her} entire life?'\n",
       "$`Target:`\n",
       ":   'Both males and females 20 YEARS -\\r 150 YEARS'\n",
       "$SMQ020\n",
       ":   \n",
       "A tibble: 5 × 5\n",
       "\n",
       "| Code or Value &lt;chr&gt; | Value Description &lt;chr&gt; | Count &lt;int&gt; | Cumulative &lt;int&gt; | Skip to Item &lt;chr&gt; |\n",
       "|---|---|---|---|---|\n",
       "| 1 | Yes        | 2299 | 2299 | <!----> |\n",
       "| 2 | No         | 2566 | 4865 | SMQ120 |\n",
       "| 7 | Refused    |    4 | 4869 | SMQ120 |\n",
       "| 9 | Don't know |    8 | 4877 | SMQ120 |\n",
       "| . | Missing    |    3 | 4880 | <!----> |\n",
       "\n",
       "\n",
       "\n",
       "\n"
      ],
      "text/plain": [
       "$`Variable Name:`\n",
       "[1] \"SMQ020\"\n",
       "\n",
       "$`SAS Label:`\n",
       "[1] \"Smoked at least 100 cigarettes in life\"\n",
       "\n",
       "$`English Text:`\n",
       "[1] \"These next questions are about cigarette smoking and other tobacco use. {Have you/Has SP} smoked at least 100 cigarettes in {your/his/her} entire life?\"\n",
       "\n",
       "$`Target:`\n",
       "[1] \"Both males and females 20 YEARS -\\r 150 YEARS\"\n",
       "\n",
       "$SMQ020\n",
       "\u001b[90m# A tibble: 5 × 5\u001b[39m\n",
       "  `Code or Value` `Value Description` Count Cumulative `Skip to Item`\n",
       "  \u001b[3m\u001b[90m<chr>\u001b[39m\u001b[23m           \u001b[3m\u001b[90m<chr>\u001b[39m\u001b[23m               \u001b[3m\u001b[90m<int>\u001b[39m\u001b[23m      \u001b[3m\u001b[90m<int>\u001b[39m\u001b[23m \u001b[3m\u001b[90m<chr>\u001b[39m\u001b[23m         \n",
       "\u001b[90m1\u001b[39m 1               Yes                  \u001b[4m2\u001b[24m299       \u001b[4m2\u001b[24m299 \u001b[90m\"\u001b[39m\u001b[90m\"\u001b[39m            \n",
       "\u001b[90m2\u001b[39m 2               No                   \u001b[4m2\u001b[24m566       \u001b[4m4\u001b[24m865 \u001b[90m\"\u001b[39mSMQ120\u001b[90m\"\u001b[39m      \n",
       "\u001b[90m3\u001b[39m 7               Refused                 4       \u001b[4m4\u001b[24m869 \u001b[90m\"\u001b[39mSMQ120\u001b[90m\"\u001b[39m      \n",
       "\u001b[90m4\u001b[39m 9               Don't know              8       \u001b[4m4\u001b[24m877 \u001b[90m\"\u001b[39mSMQ120\u001b[90m\"\u001b[39m      \n",
       "\u001b[90m5\u001b[39m .               Missing                 3       \u001b[4m4\u001b[24m880 \u001b[90m\"\u001b[39m\u001b[90m\"\u001b[39m            \n"
      ]
     },
     "metadata": {},
     "output_type": "display_data"
    }
   ],
   "source": [
    "nhanesCodebook(\"SMQ\", \"SMQ020\")"
   ]
  },
  {
   "cell_type": "code",
   "execution_count": 53,
   "id": "378d7d15",
   "metadata": {
    "slideshow": {
     "slide_type": "slide"
    }
   },
   "outputs": [
    {
     "name": "stderr",
     "output_type": "stream",
     "text": [
      "\u001b[1m\u001b[22mJoining with `by = join_by(SEQN)`\n"
     ]
    },
    {
     "data": {
      "text/plain": [
       "SMQ020\n",
       "Yes  No \n",
       " 17   1 "
      ]
     },
     "metadata": {},
     "output_type": "display_data"
    }
   ],
   "source": [
    "mcq %>% filter(MCQ230A == \"Lung\") %>% left_join(smq) %>% xtabs(~ SMQ020, data = .)"
   ]
  },
  {
   "cell_type": "code",
   "execution_count": 35,
   "id": "6e86047b",
   "metadata": {
    "slideshow": {
     "slide_type": "slide"
    }
   },
   "outputs": [
    {
     "name": "stderr",
     "output_type": "stream",
     "text": [
      "\u001b[1m\u001b[22mJoining with `by = join_by(SEQN)`\n"
     ]
    },
    {
     "data": {
      "text/plain": [
       "                    lung_cancer\n",
       "INDHHIN2             FALSE TRUE\n",
       "  $ 0 to $ 4,999      0.03 0.00\n",
       "  $ 5,000 to $ 9,999  0.03 0.00\n",
       "  $10,000 to $14,999  0.05 0.12\n",
       "  $15,000 to $19,999  0.06 0.12\n",
       "  $20,000 to $24,999  0.06 0.06\n",
       "  $25,000 to $34,999  0.11 0.29\n",
       "  $35,000 to $44,999  0.10 0.12\n",
       "  $45,000 to $54,999  0.07 0.06\n",
       "  $55,000 to $64,999  0.07 0.00\n",
       "  $65,000 to $74,999  0.05 0.06\n",
       "  $20,000 and Over    0.04 0.00\n",
       "  Under $20,000       0.01 0.12\n",
       "  $75,000 to $99,999  0.09 0.00\n",
       "  $100,000 and Over   0.19 0.06\n",
       "  Refused             0.02 0.00\n",
       "  Don't know          0.03 0.00"
      ]
     },
     "metadata": {},
     "output_type": "display_data"
    }
   ],
   "source": [
    "demo %>% left_join(mcq) %>% mutate(lung_cancer = MCQ230A == \"Lung\") %>% \n",
    "    replace_na(list(lung_cancer = F)) %>% \n",
    "    xtabs(~ INDHHIN2 + lung_cancer, data = .) %>% \n",
    "    prop.table(2) %>% \n",
    "    round(2)"
   ]
  },
  {
   "cell_type": "markdown",
   "id": "2f81bce3",
   "metadata": {
    "slideshow": {
     "slide_type": "slide"
    }
   },
   "source": [
    "## Causal inference\n",
    "- $T_i$ is the \"treatment\" for person $i$, e.g. \"smokes\".\n",
    "- $Y_i$ is the \"outcome\" for person $i$, e.g. \"gets lung cancer\".\n",
    "- Potential outcomes:\n",
    "    - $Y_i(1)$ is the outcome for person $i$ if they were given the treatment.\n",
    "    - $Y_i(0)$ is the outcome for person $i$ if they were not given the treatment.\n",
    "- $Y_i = T_i Y_i(1) + (1 - T_i) Y_i(0).$"
   ]
  },
  {
   "cell_type": "markdown",
   "id": "37048dd4",
   "metadata": {
    "slideshow": {
     "slide_type": "slide"
    }
   },
   "source": [
    "## Average treatment effect\n",
    "- We'd like to be able to estimate the average treatment effect:\n",
    "\n",
    "$$\\text{ATE} = \\mathbb{E}[Y_i(1) - Y_i(0)]$$\n",
    "\n",
    "- \"How much on average does switching from smoker to nonsmoker raise your risk of getting lung cancer?\"\n"
   ]
  },
  {
   "cell_type": "markdown",
   "id": "e30895db",
   "metadata": {
    "slideshow": {
     "slide_type": "slide"
    }
   },
   "source": [
    "## Fundamental problem of causal inference\n",
    "\n",
    "\n",
    "- **We only observe $Y_i(1)$ for people who got the treatment. We only observe $Y_i(0)$ for people who did not get the treatment.**\n",
    "\n",
    "- Thus, \n",
    "\n",
    "    $$\\frac{1}{n_\\text{smokers}} \\sum_{i \\in \\text{smokers}} Y_i$$ is in general *not* a consistent estimator of \n",
    "    $\\mathbb{E}Y_i(1)$.\n",
    "    \n",
    "- And similarly for $Y_i(0)$."
   ]
  },
  {
   "cell_type": "markdown",
   "id": "cb685357",
   "metadata": {
    "slideshow": {
     "slide_type": "slide"
    }
   },
   "source": [
    "## Cholera in 19th century England\n",
    "- Cholera first arrived to England in 1831."
   ]
  },
  {
   "cell_type": "markdown",
   "id": "d620fdc2",
   "metadata": {
    "slideshow": {
     "slide_type": "fragment"
    }
   },
   "source": [
    "- 31,000 people died of cholera between 1831-1832."
   ]
  },
  {
   "cell_type": "markdown",
   "id": "6261eb15",
   "metadata": {
    "slideshow": {
     "slide_type": "fragment"
    }
   },
   "source": [
    "- A second outbreak in 1848 killed 62,000."
   ]
  },
  {
   "cell_type": "markdown",
   "id": "1f653466",
   "metadata": {
    "slideshow": {
     "slide_type": "slide"
    }
   },
   "source": [
    "![father thames](https://scpoecon.github.io/ScPoEconometrics/images/father-thames.jpg)\n",
    "\n",
    "Source: Punch (1858), cited in https://scpoecon.github.io/ScPoEconometrics/IV.html."
   ]
  },
  {
   "cell_type": "markdown",
   "id": "43896986",
   "metadata": {
    "slideshow": {
     "slide_type": "slide"
    }
   },
   "source": [
    "![cholera charicature](https://www.sciencemuseum.org.uk/sites/default/files/styles/smg_carousel_zoom/public/2065329612.jpg)\n",
    "\n",
    "Source: https://www.sciencemuseum.org.uk/objects-and-stories/medicine/cholera-victorian-london"
   ]
  },
  {
   "cell_type": "markdown",
   "id": "1ec71ade",
   "metadata": {
    "slideshow": {
     "slide_type": "slide"
    }
   },
   "source": [
    "## What causes Cholera?\n",
    "\n",
    "- Germs had not yet been discovered, and were only one (unpopular) theory."
   ]
  },
  {
   "cell_type": "markdown",
   "id": "2ac1a7ad",
   "metadata": {
    "slideshow": {
     "slide_type": "fragment"
    }
   },
   "source": [
    "* Miasmas (poisonous particles floating in the air):\n",
    "    - Rapid industrialisation created filthy, unsanitary neighborhoods that tended to be the focal points of disease and epidemics.\n",
    "    - By improving sanitation and cleanliness, levels of disease were seen to fall, which seemed to support the miasma theory."
   ]
  },
  {
   "cell_type": "markdown",
   "id": "9c91c412",
   "metadata": {
    "slideshow": {
     "slide_type": "fragment"
    }
   },
   "source": [
    "- Other theories\n",
    "    * Imbalances in the humors of the body (black bile, yellow bile, blood, phlegm)\n",
    "    * Poison in the ground"
   ]
  },
  {
   "cell_type": "markdown",
   "id": "d1e20e81",
   "metadata": {
    "slideshow": {
     "slide_type": "slide"
    }
   },
   "source": [
    "<img src=\"images/advice.jpg\" width=\"80%\">"
   ]
  },
  {
   "cell_type": "markdown",
   "id": "8a16110f",
   "metadata": {
    "cell_style": "split",
    "slideshow": {
     "slide_type": "slide"
    }
   },
   "source": [
    "## John Snow\n",
    "\n",
    "* John Snow was a physician in London who, by watching the course of the disease, came to believe believe that Cholera was caused by a living organism that is ingested (with water or food), multiplies within the body, and is expelled back into the environment.</li>\n",
    "\n",
    "* Snow developed arguments to support his theory, for example:\n",
    "  * Cholera spreads along trading routes\n",
    "  * When sailors went somewhere with Cholera, they wouldn't get sick if no one left the boat.\n",
    "\n",
    "* Nonetheless, there remained considerable skepticism."
   ]
  },
  {
   "cell_type": "markdown",
   "id": "64aa0f0e",
   "metadata": {
    "cell_style": "split",
    "slideshow": {
     "slide_type": "-"
    }
   },
   "source": [
    "<img src=\"https://upload.wikimedia.org/wikipedia/en/3/30/Jon_Snow_Season_8.png\" style=\"float: right\" width=300/>"
   ]
  },
  {
   "cell_type": "markdown",
   "id": "7a9ebfbc",
   "metadata": {
    "cell_style": "split",
    "slideshow": {
     "slide_type": "slide"
    }
   },
   "source": [
    "## John Snow\n",
    "\n",
    "* John Snow was a physician in London who, by watching the course of the disease, came to believe believe that Cholera was caused by a living organism that is ingested (with water or food), multiplies within the body, and is expelled back into the environment.</li>\n",
    "\n",
    "* Snow developed arguments to support his theory, for example:\n",
    "  * Cholera spreads along trading routes\n",
    "  * When sailors went somewhere with Cholera, they wouldn't get sick if no one left the boat.\n",
    "\n",
    "* Nonetheless, there remained considerable skepticism."
   ]
  },
  {
   "cell_type": "markdown",
   "id": "bd3b340a",
   "metadata": {
    "cell_style": "split",
    "slideshow": {
     "slide_type": "-"
    }
   },
   "source": [
    "<img src=\"https://upload.wikimedia.org/wikipedia/commons/thumb/c/cc/John_Snow.jpg/1200px-John_Snow.jpg\" style=\"float: right\" width=300/>"
   ]
  },
  {
   "cell_type": "markdown",
   "id": "12d4bb7f",
   "metadata": {
    "slideshow": {
     "slide_type": "slide"
    }
   },
   "source": [
    "## Epidemic of 1854"
   ]
  },
  {
   "cell_type": "markdown",
   "id": "5fa4530a",
   "metadata": {
    "slideshow": {
     "slide_type": "fragment"
    }
   },
   "source": [
    "<img src=\"images/map.jpg\" width=\"80%\">"
   ]
  },
  {
   "cell_type": "markdown",
   "id": "d7a81d64",
   "metadata": {
    "slideshow": {
     "slide_type": "slide"
    }
   },
   "source": [
    "## Snow's methodology\n",
    "\n",
    "* Snow identified the first case in London: a man named John Harnold"
   ]
  },
  {
   "cell_type": "markdown",
   "id": "de6d371b",
   "metadata": {
    "slideshow": {
     "slide_type": "fragment"
    }
   },
   "source": [
    "* Snow also identified the second case: the man who took Harnold's room after Harnold died."
   ]
  },
  {
   "cell_type": "markdown",
   "id": "159914a5",
   "metadata": {
    "slideshow": {
     "slide_type": "fragment"
    }
   },
   "source": [
    "* John Harnold had newly arrived by the *Elbe* steamer from Hamburg, where there was an outbreak."
   ]
  },
  {
   "cell_type": "markdown",
   "id": "d1530665",
   "metadata": {
    "slideshow": {
     "slide_type": "fragment"
    }
   },
   "source": [
    "* Snow also found several adjacent apartment buildings, with one hit by cholera, one not.  He showed that in each case, the affected building had water contaminated by sewage, but the other building had relatively pure water."
   ]
  },
  {
   "cell_type": "markdown",
   "id": "3112ad7e",
   "metadata": {
    "slideshow": {
     "slide_type": "slide"
    }
   },
   "source": [
    "### Exceptions\n",
    "\n",
    "* There was a brewery near the pump, but none of the workers got sick -- it turned out the brewery had its own private pump on-site."
   ]
  },
  {
   "cell_type": "markdown",
   "id": "24d8a9f1",
   "metadata": {
    "slideshow": {
     "slide_type": "fragment"
    }
   },
   "source": [
    "* A woman in Hampstead got Cholera -- Snow discovered that she had water from the Broad Street pump delivered to her, because she liked the taste."
   ]
  },
  {
   "cell_type": "markdown",
   "id": "9b5b765e",
   "metadata": {
    "slideshow": {
     "slide_type": "slide"
    }
   },
   "source": [
    "According to legend, Snow lobbied the local council to remove the pump handle, at which time the epidemic receded."
   ]
  },
  {
   "cell_type": "markdown",
   "id": "0548ebbb",
   "metadata": {
    "slideshow": {
     "slide_type": "-"
    }
   },
   "source": [
    "![Removal of the Broad Street pump handle](https://scpoecon.github.io/ScPoEconometrics/ScPoEconometrics_files/figure-html/snow-TS-1.png)\n",
    "\n",
    "(Cited in: https://scpoecon.github.io/ScPoEconometrics/IV.html)"
   ]
  },
  {
   "cell_type": "markdown",
   "id": "0a2aa62f",
   "metadata": {
    "slideshow": {
     "slide_type": "slide"
    }
   },
   "source": [
    "![broad street pump](https://i0.wp.com/livinglondonhistory.com/wp-content/uploads/2022/07/Optimized-IMG_2622.jpg?w=800&ssl=1)\n",
    "\n",
    "(Source: https://livinglondonhistory.com/the-story-of-the-john-snow-pump-in-soho/)"
   ]
  },
  {
   "cell_type": "markdown",
   "id": "3342017c",
   "metadata": {
    "slideshow": {
     "slide_type": "slide"
    }
   },
   "source": [
    "## A natural experiment\n",
    "\n",
    "> Although the facts shown in the above table afford very strong evidence of the powerful influence which the drinking of water containing the sewage of a town exerts over the spread of cholera, when that disease is present, **yet the question does not end here**; for the intermixing of the water supply of the Southwark and Vauxhall Company with that of the Lambeth Company, over an extensive part of London, admitted of the subject being sifted in such a way as to yield the most incontrovertible proof on one side or the other.  In the subdistricts enumerated in the above table as being supplied by both Companies, the mixing of the supply is of the most intimate kind.  The pipes of each Company go down all the streets, and into nearly all the courts and alleys.  **A few houses are supplied by one Company and a few by the other**, according to the decision of the owner or occupier at that time when the Water Companies were in active competition.  In many cases a single house has a supply different from that on either side.  **Each company supplies both rich and poor, both large houses and small**; there is no difference either in the condition or occupation of the persons receiving the water of the different Companies."
   ]
  },
  {
   "cell_type": "markdown",
   "id": "72bd1ea5",
   "metadata": {
    "slideshow": {
     "slide_type": "slide"
    }
   },
   "source": [
    "![sno's map of water supply](https://scpoecon.github.io/ScPoEconometrics/images/snow-supply.jpg)\n",
    "\n",
    "\n",
    "(Cited in: https://scpoecon.github.io/ScPoEconometrics/IV.html)"
   ]
  },
  {
   "cell_type": "markdown",
   "id": "779d89d4",
   "metadata": {
    "slideshow": {
     "slide_type": "slide"
    }
   },
   "source": [
    "## Snow's reasoning"
   ]
  },
  {
   "cell_type": "markdown",
   "id": "8574fb26",
   "metadata": {
    "slideshow": {
     "slide_type": "fragment"
    }
   },
   "source": [
    "* There were several water companies in London, and their service areas overlapped."
   ]
  },
  {
   "cell_type": "markdown",
   "id": "3d6cb683",
   "metadata": {
    "slideshow": {
     "slide_type": "fragment"
    }
   },
   "source": [
    "* On a single street, some people would have one company, others another company."
   ]
  },
  {
   "cell_type": "markdown",
   "id": "38a0d692",
   "metadata": {
    "slideshow": {
     "slide_type": "fragment"
    }
   },
   "source": [
    "* The pipes had been laid many years before, when the water companies were still in active competition."
   ]
  },
  {
   "cell_type": "markdown",
   "id": "85ef3b20",
   "metadata": {
    "slideshow": {
     "slide_type": "fragment"
    }
   },
   "source": [
    "* In 1852, one of the companies (Lambeth) moved its intake pipe upstream to get purer water"
   ]
  },
  {
   "cell_type": "markdown",
   "id": "de2e5042",
   "metadata": {
    "slideshow": {
     "slide_type": "fragment"
    }
   },
   "source": [
    "* Snow compared the death rates between those who got water from Lambeth, and those who got water from Southwark and Vauxhall"
   ]
  },
  {
   "cell_type": "markdown",
   "id": "a75d1091",
   "metadata": {
    "slideshow": {
     "slide_type": "slide"
    }
   },
   "source": [
    "## Snow's data\n",
    "<div class=\"xtable\"><table frame=\"hsides\" rules=\"groups\" class=\"rendered small default_table\"><thead><tr><th rowspan=\"1\" colspan=\"1\">Water Supply Company</th><th rowspan=\"1\" colspan=\"1\">Number of Houses</th><th rowspan=\"1\" colspan=\"1\">Deaths From Cholera</th><th rowspan=\"1\" colspan=\"1\">Cholera Deaths per 10,000 Houses</th></tr></thead><tbody><tr><td rowspan=\"1\" colspan=\"1\">Southwark and Vauxhall</td><td rowspan=\"1\" colspan=\"1\">40,046</td><td rowspan=\"1\" colspan=\"1\">1,263</td><td rowspan=\"1\" colspan=\"1\">315</td></tr><tr><td rowspan=\"1\" colspan=\"1\">Lambeth</td><td rowspan=\"1\" colspan=\"1\">26,107</td><td rowspan=\"1\" colspan=\"1\">98</td><td rowspan=\"1\" colspan=\"1\">37</td></tr><tr><td rowspan=\"1\" colspan=\"1\">Rest of London</td><td rowspan=\"1\" colspan=\"1\">256,423</td><td rowspan=\"1\" colspan=\"1\">1,422</td><td rowspan=\"1\" colspan=\"1\">59</td></tr></tbody></table></div>"
   ]
  },
  {
   "cell_type": "code",
   "execution_count": 60,
   "id": "17ce1735",
   "metadata": {
    "slideshow": {
     "slide_type": "-"
    }
   },
   "outputs": [
    {
     "data": {
      "text/html": [
       "<table class=\"dataframe\">\n",
       "<caption>A tibble: 4 × 4</caption>\n",
       "<thead>\n",
       "\t<tr><th scope=col>year</th><th scope=col>supplier</th><th scope=col>treatment</th><th scope=col>deathrate</th></tr>\n",
       "\t<tr><th scope=col>&lt;dbl&gt;</th><th scope=col>&lt;chr&gt;</th><th scope=col>&lt;chr&gt;</th><th scope=col>&lt;dbl&gt;</th></tr>\n",
       "</thead>\n",
       "<tbody>\n",
       "\t<tr><td>1849</td><td>Non-Lambeth Only</td><td>Dirty              </td><td>134.9</td></tr>\n",
       "\t<tr><td>1849</td><td>Lambeth + Others</td><td>Mix Dirty and Clean</td><td>130.1</td></tr>\n",
       "\t<tr><td>1854</td><td>Non-Lambeth Only</td><td>Dirty              </td><td>146.6</td></tr>\n",
       "\t<tr><td>1854</td><td>Lambeth + Others</td><td>Mix Dirty and Clean</td><td> 84.9</td></tr>\n",
       "</tbody>\n",
       "</table>\n"
      ],
      "text/latex": [
       "A tibble: 4 × 4\n",
       "\\begin{tabular}{llll}\n",
       " year & supplier & treatment & deathrate\\\\\n",
       " <dbl> & <chr> & <chr> & <dbl>\\\\\n",
       "\\hline\n",
       "\t 1849 & Non-Lambeth Only & Dirty               & 134.9\\\\\n",
       "\t 1849 & Lambeth + Others & Mix Dirty and Clean & 130.1\\\\\n",
       "\t 1854 & Non-Lambeth Only & Dirty               & 146.6\\\\\n",
       "\t 1854 & Lambeth + Others & Mix Dirty and Clean &  84.9\\\\\n",
       "\\end{tabular}\n"
      ],
      "text/markdown": [
       "\n",
       "A tibble: 4 × 4\n",
       "\n",
       "| year &lt;dbl&gt; | supplier &lt;chr&gt; | treatment &lt;chr&gt; | deathrate &lt;dbl&gt; |\n",
       "|---|---|---|---|\n",
       "| 1849 | Non-Lambeth Only | Dirty               | 134.9 |\n",
       "| 1849 | Lambeth + Others | Mix Dirty and Clean | 130.1 |\n",
       "| 1854 | Non-Lambeth Only | Dirty               | 146.6 |\n",
       "| 1854 | Lambeth + Others | Mix Dirty and Clean |  84.9 |\n",
       "\n"
      ],
      "text/plain": [
       "  year supplier         treatment           deathrate\n",
       "1 1849 Non-Lambeth Only Dirty               134.9    \n",
       "2 1849 Lambeth + Others Mix Dirty and Clean 130.1    \n",
       "3 1854 Non-Lambeth Only Dirty               146.6    \n",
       "4 1854 Lambeth + Others Mix Dirty and Clean  84.9    "
      ]
     },
     "metadata": {},
     "output_type": "display_data"
    },
    {
     "ename": "ERROR",
     "evalue": "Error in xtabs(~supplier + treatment, data = snow, weights = deathrate): unused argument (weights = deathrate)\n",
     "output_type": "error",
     "traceback": [
      "Error in xtabs(~supplier + treatment, data = snow, weights = deathrate): unused argument (weights = deathrate)\nTraceback:\n"
     ]
    }
   ],
   "source": [
    "# test of significance\n",
    "library(causaldata)\n",
    "data(snow)\n",
    "snow\n",
    "# xtabs(~ supplier + treatment, data = snow, weights = deathrate)"
   ]
  },
  {
   "cell_type": "markdown",
   "id": "6fd9b3ee",
   "metadata": {
    "slideshow": {
     "slide_type": "slide"
    }
   },
   "source": [
    "## Snow's analysis in modern terms\n",
    "\n",
    "- $y_i=1$ if individual $i$ dies of cholera, 0 otherwise."
   ]
  },
  {
   "cell_type": "markdown",
   "id": "6d4199a1",
   "metadata": {
    "slideshow": {
     "slide_type": "fragment"
    }
   },
   "source": [
    "- $w_i=1$ if $i$'s water supply is impure, 0 otherewise."
   ]
  },
  {
   "cell_type": "markdown",
   "id": "a2b6f02a",
   "metadata": {
    "slideshow": {
     "slide_type": "fragment"
    }
   },
   "source": [
    "- Just compute $\\operatorname{cor}(y, w)$?"
   ]
  },
  {
   "cell_type": "markdown",
   "id": "acc53637",
   "metadata": {
    "slideshow": {
     "slide_type": "slide"
    }
   },
   "source": [
    "### As regression\n",
    "- Equivalently, fit the model: $y_i = \\alpha + \\beta w_i + u_i$\n",
    "    - $u_i$ are all the other unobservable factors that influence death (poverty, lifestyle, competing hypotheses like miasma, etc.)\n",
    "    - $\\beta$ is the increase in mortality if $w_i:0\\to 1$.\n",
    "- What could go wrong?"
   ]
  },
  {
   "cell_type": "markdown",
   "id": "7d500a0d",
   "metadata": {
    "slideshow": {
     "slide_type": "slide"
    }
   },
   "source": [
    "$$\\mathbb{E}(y_i \\mid w_i=1) - \\mathbb{E}(y_i \\mid w_i=0) = ?$$"
   ]
  },
  {
   "cell_type": "markdown",
   "id": "9c06de1d",
   "metadata": {
    "slideshow": {
     "slide_type": "slide"
    }
   },
   "source": [
    "### Second attempt\n",
    "\n",
    "- Let $z_i=1$ if the person drank water from Southwark/Vauxhall and $z_i=0$ if they drank water from Lambeth.\n",
    "- Now take expectation with respect to $z_i=1/0$.\n",
    "\n",
    "$$\\mathbb{E}(y_i \\mid z_i=1) - \\mathbb{E}(y_i \\mid z_i=0) = ?$$"
   ]
  },
  {
   "cell_type": "markdown",
   "id": "c2d88ce0",
   "metadata": {
    "slideshow": {
     "slide_type": "slide"
    }
   },
   "source": [
    "### Assumptions\n",
    "\n",
    "What assumptions did we make (implicitily or explicitly) when deriving this estimator? \n",
    "\n",
    "- $\\mathbb{E}(w_i \\mid z_i=1) \\neq \\mathbb{E}(w_i \\mid z_i=0)$\n",
    "- $\\mathbb{E}(u_i \\mid z_i=1) = \\mathbb{E}(u_i \\mid z_i=0)$\n",
    "- Water company only affects mortality through water purity.\n",
    "\n",
    "Concretely, what do these assumptions mean for the data that Snow analyzed?"
   ]
  },
  {
   "cell_type": "markdown",
   "id": "d729daea",
   "metadata": {
    "slideshow": {
     "slide_type": "slide"
    }
   },
   "source": [
    "## Yule on pauperism\n",
    "\n",
    "- Poverty rates in England increased dramatically during the Victorian era."
   ]
  },
  {
   "cell_type": "markdown",
   "id": "249181f2",
   "metadata": {
    "slideshow": {
     "slide_type": "fragment"
    }
   },
   "source": [
    "- Emerging industrial economy lowered wages, increased population growth, and decreased the prospects for stable employment."
   ]
  },
  {
   "cell_type": "markdown",
   "id": "a0cf748a",
   "metadata": {
    "slideshow": {
     "slide_type": "slide"
    }
   },
   "source": [
    "### Victorian poor houses\n",
    "\n",
    "- Poor people/\"paupers\" in England were supported either:\n",
    "    - Inside “poor-houses”;\n",
    "    - Outside poor-houses, according to local policy."
   ]
  },
  {
   "cell_type": "markdown",
   "id": "e8b54d13",
   "metadata": {
    "slideshow": {
     "slide_type": "fragment"
    }
   },
   "source": [
    "- There was a debate about whether poor houses increased or decreased pauperism."
   ]
  },
  {
   "cell_type": "markdown",
   "id": "805aa76a",
   "metadata": {
    "slideshow": {
     "slide_type": "fragment"
    }
   },
   "source": [
    "- Yule studied how these policies affected rates of pauperism."
   ]
  },
  {
   "cell_type": "code",
   "execution_count": 47,
   "id": "849f9f46",
   "metadata": {
    "slideshow": {
     "slide_type": "slide"
    }
   },
   "outputs": [
    {
     "data": {
      "text/plain": [
       "\n",
       "Call:\n",
       "lm(formula = paup ~ outrelief + old + pop, data = yule)\n",
       "\n",
       "Residuals:\n",
       "    Min      1Q  Median      3Q     Max \n",
       "-17.475  -5.311  -1.829   3.132  25.335 \n",
       "\n",
       "Coefficients:\n",
       "            Estimate Std. Error t value Pr(>|t|)    \n",
       "(Intercept) 63.18774   27.14388   2.328   0.0274 *  \n",
       "outrelief    0.75209    0.13499   5.572 5.83e-06 ***\n",
       "old          0.05560    0.22336   0.249   0.8052    \n",
       "pop         -0.31074    0.06685  -4.648 7.25e-05 ***\n",
       "---\n",
       "Signif. codes:  0 ‘***’ 0.001 ‘**’ 0.01 ‘*’ 0.05 ‘.’ 0.1 ‘ ’ 1\n",
       "\n",
       "Residual standard error: 9.547 on 28 degrees of freedom\n",
       "Multiple R-squared:  0.6972,\tAdjusted R-squared:  0.6647 \n",
       "F-statistic: 21.49 on 3 and 28 DF,  p-value: 2.001e-07\n"
      ]
     },
     "metadata": {},
     "output_type": "display_data"
    }
   ],
   "source": [
    "# yule's regression"
   ]
  },
  {
   "cell_type": "markdown",
   "id": "8e9c055c",
   "metadata": {
    "slideshow": {
     "slide_type": "slide"
    }
   },
   "source": [
    "## Discussion 🙋‍♀️\n",
    "- Does Yule establish causation or association?\n",
    "- What sort of factors could confound the causal interpretation?\n",
    "- Can you think of a way to measure the *causal* effect?"
   ]
  },
  {
   "cell_type": "markdown",
   "id": "02ec964e",
   "metadata": {
    "slideshow": {
     "slide_type": "notes"
    }
   },
   "source": [
    "These next example follows Chapter 2 of the book \"[Causal Inference in R](https://www.r-causal.org/chapters/02-whole-game)\"."
   ]
  },
  {
   "cell_type": "markdown",
   "id": "0ba0a19a",
   "metadata": {
    "slideshow": {
     "slide_type": "slide"
    }
   },
   "source": [
    "## Example: effect of mosquito nets on preventing malaria\n",
    "\n",
    "- Malaria is a life-threatening disease caused by parasites transmitted to people through the bites of infected female Anopheles gambiae mosquitoes.\n",
    "- [WHO stats](https://www.who.int/news-room/fact-sheets/detail/malaria): annually,\n",
    "    - 200-300 million infections worldwide.\n",
    "    - ~600,000 deaths, with children <5 and pregnant women most vulnerable.\n",
    "- Predominantly found in sub-Saharan Africa, also south Asia, Middle East, parts of South America.\n",
    "- Nearly half of all malaria deaths occurred in just six countries: Nigeria (27%), the Democratic Republic of the Congo (12%), Uganda (5%), Mozambique (4%), Angola (3%), and Burkina Faso (3%)."
   ]
  },
  {
   "cell_type": "markdown",
   "id": "8aa6dbdc",
   "metadata": {
    "slideshow": {
     "slide_type": "slide"
    }
   },
   "source": [
    "## Insecticide-Treated Mosquito Nets (ITNs)\n",
    "- Cheap and highly effective prevention method.\n",
    "- ITNs have been shown to significantly reduce child mortality from all causes by 17% compared to no nets\n",
    "- Cut the incidence of uncomplicated episodes of Plasmodium falciparum malaria by nearly 50%.\n",
    "- [Source](https://www.cochrane.org/CD000363/INFECTN_insecticide-treated-nets-preventing-malaria)"
   ]
  },
  {
   "cell_type": "markdown",
   "id": "d941aeb5",
   "metadata": {
    "slideshow": {
     "slide_type": "slide"
    }
   },
   "source": [
    "## Causal question\n",
    "- \"Does using a bed net reduce the risk of malaria?\""
   ]
  },
  {
   "cell_type": "markdown",
   "id": "36b1dca7",
   "metadata": {
    "slideshow": {
     "slide_type": "notes"
    }
   },
   "source": [
    "- What do we mean by bed net?\n",
    "- How do we define risk?\n",
    "   - Baseline risk level?\n",
    "   - Death, or just sickness?\n",
    "   - Risk to whom?"
   ]
  },
  {
   "cell_type": "markdown",
   "id": "59b5aaa5",
   "metadata": {
    "slideshow": {
     "slide_type": "slide"
    }
   },
   "source": [
    "> Does using an ITN compared to no net decrese the risk of contracting malaria after one year?"
   ]
  },
  {
   "cell_type": "code",
   "execution_count": 5,
   "id": "2024f88f",
   "metadata": {},
   "outputs": [],
   "source": [
    "# library(causalworkshop)\n",
    "# save(net_data, file=\"net_data.RData\")\n",
    "load(url(\"https://github.com/terhorst/stats504/raw/main/lectures/week7/net_data.RData\"))"
   ]
  },
  {
   "cell_type": "code",
   "execution_count": 6,
   "id": "ca2cc00b",
   "metadata": {
    "slideshow": {
     "slide_type": "slide"
    }
   },
   "outputs": [
    {
     "data": {
      "text/html": [
       "<table class=\"dataframe\">\n",
       "<caption>A tibble: 6 × 10</caption>\n",
       "<thead>\n",
       "\t<tr><th scope=col>id</th><th scope=col>net</th><th scope=col>net_num</th><th scope=col>malaria_risk</th><th scope=col>income</th><th scope=col>health</th><th scope=col>household</th><th scope=col>eligible</th><th scope=col>temperature</th><th scope=col>insecticide_resistance</th></tr>\n",
       "\t<tr><th scope=col>&lt;int&gt;</th><th scope=col>&lt;lgl&gt;</th><th scope=col>&lt;int&gt;</th><th scope=col>&lt;dbl&gt;</th><th scope=col>&lt;dbl&gt;</th><th scope=col>&lt;dbl&gt;</th><th scope=col>&lt;dbl&gt;</th><th scope=col>&lt;lgl&gt;</th><th scope=col>&lt;dbl&gt;</th><th scope=col>&lt;dbl&gt;</th></tr>\n",
       "</thead>\n",
       "<tbody>\n",
       "\t<tr><td>1</td><td>FALSE</td><td>0</td><td>38</td><td> 779</td><td>35</td><td>1</td><td>FALSE</td><td>18.3</td><td>38</td></tr>\n",
       "\t<tr><td>2</td><td>FALSE</td><td>0</td><td>48</td><td> 700</td><td>35</td><td>3</td><td>FALSE</td><td>18.6</td><td>40</td></tr>\n",
       "\t<tr><td>3</td><td>FALSE</td><td>0</td><td>32</td><td>1083</td><td>58</td><td>3</td><td>FALSE</td><td>24.2</td><td>70</td></tr>\n",
       "\t<tr><td>4</td><td>FALSE</td><td>0</td><td>55</td><td> 753</td><td>68</td><td>3</td><td>FALSE</td><td>19.1</td><td>57</td></tr>\n",
       "\t<tr><td>5</td><td>FALSE</td><td>0</td><td>36</td><td> 919</td><td>46</td><td>5</td><td>FALSE</td><td>21.2</td><td>59</td></tr>\n",
       "\t<tr><td>6</td><td>FALSE</td><td>0</td><td>30</td><td> 969</td><td>37</td><td>3</td><td>FALSE</td><td>20.2</td><td>49</td></tr>\n",
       "</tbody>\n",
       "</table>\n"
      ],
      "text/latex": [
       "A tibble: 6 × 10\n",
       "\\begin{tabular}{llllllllll}\n",
       " id & net & net\\_num & malaria\\_risk & income & health & household & eligible & temperature & insecticide\\_resistance\\\\\n",
       " <int> & <lgl> & <int> & <dbl> & <dbl> & <dbl> & <dbl> & <lgl> & <dbl> & <dbl>\\\\\n",
       "\\hline\n",
       "\t 1 & FALSE & 0 & 38 &  779 & 35 & 1 & FALSE & 18.3 & 38\\\\\n",
       "\t 2 & FALSE & 0 & 48 &  700 & 35 & 3 & FALSE & 18.6 & 40\\\\\n",
       "\t 3 & FALSE & 0 & 32 & 1083 & 58 & 3 & FALSE & 24.2 & 70\\\\\n",
       "\t 4 & FALSE & 0 & 55 &  753 & 68 & 3 & FALSE & 19.1 & 57\\\\\n",
       "\t 5 & FALSE & 0 & 36 &  919 & 46 & 5 & FALSE & 21.2 & 59\\\\\n",
       "\t 6 & FALSE & 0 & 30 &  969 & 37 & 3 & FALSE & 20.2 & 49\\\\\n",
       "\\end{tabular}\n"
      ],
      "text/markdown": [
       "\n",
       "A tibble: 6 × 10\n",
       "\n",
       "| id &lt;int&gt; | net &lt;lgl&gt; | net_num &lt;int&gt; | malaria_risk &lt;dbl&gt; | income &lt;dbl&gt; | health &lt;dbl&gt; | household &lt;dbl&gt; | eligible &lt;lgl&gt; | temperature &lt;dbl&gt; | insecticide_resistance &lt;dbl&gt; |\n",
       "|---|---|---|---|---|---|---|---|---|---|\n",
       "| 1 | FALSE | 0 | 38 |  779 | 35 | 1 | FALSE | 18.3 | 38 |\n",
       "| 2 | FALSE | 0 | 48 |  700 | 35 | 3 | FALSE | 18.6 | 40 |\n",
       "| 3 | FALSE | 0 | 32 | 1083 | 58 | 3 | FALSE | 24.2 | 70 |\n",
       "| 4 | FALSE | 0 | 55 |  753 | 68 | 3 | FALSE | 19.1 | 57 |\n",
       "| 5 | FALSE | 0 | 36 |  919 | 46 | 5 | FALSE | 21.2 | 59 |\n",
       "| 6 | FALSE | 0 | 30 |  969 | 37 | 3 | FALSE | 20.2 | 49 |\n",
       "\n"
      ],
      "text/plain": [
       "  id net   net_num malaria_risk income health household eligible temperature\n",
       "1 1  FALSE 0       38            779   35     1         FALSE    18.3       \n",
       "2 2  FALSE 0       48            700   35     3         FALSE    18.6       \n",
       "3 3  FALSE 0       32           1083   58     3         FALSE    24.2       \n",
       "4 4  FALSE 0       55            753   68     3         FALSE    19.1       \n",
       "5 5  FALSE 0       36            919   46     5         FALSE    21.2       \n",
       "6 6  FALSE 0       30            969   37     3         FALSE    20.2       \n",
       "  insecticide_resistance\n",
       "1 38                    \n",
       "2 40                    \n",
       "3 70                    \n",
       "4 57                    \n",
       "5 59                    \n",
       "6 49                    "
      ]
     },
     "metadata": {},
     "output_type": "display_data"
    }
   ],
   "source": [
    "net_data %>% head"
   ]
  },
  {
   "cell_type": "markdown",
   "id": "2c49d065",
   "metadata": {
    "slideshow": {
     "slide_type": "slide"
    }
   },
   "source": [
    "## About the data\n",
    "- net: participant used a net (1) or didn’t use a net (0)\n",
    "- malaria_risk: risk of malaria scale, 0-100\n",
    "- income: weekly income, USD\n",
    "- health: health score, 0–100\n",
    "- household: number of people living in the household\n",
    "- eligible: 1 if eligible for the free net program.\n",
    "- temperature: the average temperature at night, in Celsius\n",
    "- resistance: Insecticide resistance of local mosquitoes, scale 0-100, higher=more resistance."
   ]
  },
  {
   "cell_type": "code",
   "execution_count": 7,
   "id": "5c2913a1",
   "metadata": {
    "slideshow": {
     "slide_type": "slide"
    }
   },
   "outputs": [
    {
     "data": {
      "image/png": "[encoded data removed]",
      "text/plain": [
       "plot without title"
      ]
     },
     "metadata": {
      "image/png": {
       "height": 360,
       "width": 600
      }
     },
     "output_type": "display_data"
    }
   ],
   "source": [
    "net_data %>% \n",
    "  ggplot(aes(malaria_risk, fill = net)) +\n",
    "  geom_density(color = NA, alpha = .8)"
   ]
  },
  {
   "cell_type": "code",
   "execution_count": 8,
   "id": "684a9334",
   "metadata": {
    "slideshow": {
     "slide_type": "slide"
    }
   },
   "outputs": [
    {
     "data": {
      "text/html": [
       "<table class=\"dataframe\">\n",
       "<caption>A tibble: 2 × 2</caption>\n",
       "<thead>\n",
       "\t<tr><th scope=col>net</th><th scope=col>malaria_risk</th></tr>\n",
       "\t<tr><th scope=col>&lt;lgl&gt;</th><th scope=col>&lt;dbl&gt;</th></tr>\n",
       "</thead>\n",
       "<tbody>\n",
       "\t<tr><td>FALSE</td><td>43.91371</td></tr>\n",
       "\t<tr><td> TRUE</td><td>27.52863</td></tr>\n",
       "</tbody>\n",
       "</table>\n"
      ],
      "text/latex": [
       "A tibble: 2 × 2\n",
       "\\begin{tabular}{ll}\n",
       " net & malaria\\_risk\\\\\n",
       " <lgl> & <dbl>\\\\\n",
       "\\hline\n",
       "\t FALSE & 43.91371\\\\\n",
       "\t  TRUE & 27.52863\\\\\n",
       "\\end{tabular}\n"
      ],
      "text/markdown": [
       "\n",
       "A tibble: 2 × 2\n",
       "\n",
       "| net &lt;lgl&gt; | malaria_risk &lt;dbl&gt; |\n",
       "|---|---|\n",
       "| FALSE | 43.91371 |\n",
       "|  TRUE | 27.52863 |\n",
       "\n"
      ],
      "text/plain": [
       "  net   malaria_risk\n",
       "1 FALSE 43.91371    \n",
       "2  TRUE 27.52863    "
      ]
     },
     "metadata": {},
     "output_type": "display_data"
    }
   ],
   "source": [
    "net_data %>% \n",
    "  group_by(net) |>\n",
    "  summarize(malaria_risk = mean(malaria_risk))"
   ]
  },
  {
   "cell_type": "code",
   "execution_count": 9,
   "id": "566cd286",
   "metadata": {
    "slideshow": {
     "slide_type": "slide"
    }
   },
   "outputs": [
    {
     "data": {
      "text/plain": [
       "\n",
       "Call:\n",
       "lm(formula = malaria_risk ~ net, data = net_data)\n",
       "\n",
       "Residuals:\n",
       "    Min      1Q  Median      3Q     Max \n",
       "-26.914 -10.529  -1.914   8.471  46.086 \n",
       "\n",
       "Coefficients:\n",
       "            Estimate Std. Error t value Pr(>|t|)    \n",
       "(Intercept)  43.9137     0.3773   116.4   <2e-16 ***\n",
       "netTRUE     -16.3851     0.7413   -22.1   <2e-16 ***\n",
       "---\n",
       "Signif. codes:  0 ‘***’ 0.001 ‘**’ 0.01 ‘*’ 0.05 ‘.’ 0.1 ‘ ’ 1\n",
       "\n",
       "Residual standard error: 13.59 on 1750 degrees of freedom\n",
       "Multiple R-squared:  0.2183,\tAdjusted R-squared:  0.2178 \n",
       "F-statistic: 488.6 on 1 and 1750 DF,  p-value: < 2.2e-16\n"
      ]
     },
     "metadata": {},
     "output_type": "display_data"
    }
   ],
   "source": [
    "# Naive regression\n",
    "lm(malaria_risk ~ net, data = net_data) %>% summary"
   ]
  },
  {
   "cell_type": "markdown",
   "id": "4b0d15c5",
   "metadata": {
    "slideshow": {
     "slide_type": "slide"
    }
   },
   "source": [
    "## Causal diagram\n",
    "Next, we're going to draw a \"causal diagram\" depicting the relationships between the variables in our data.\n",
    "- Nodes represent variables\n",
    "- An edge from node $A$ to node $B$ means that $A$ affects $B$."
   ]
  },
  {
   "cell_type": "markdown",
   "id": "3311f6be",
   "metadata": {
    "slideshow": {
     "slide_type": "slide"
    }
   },
   "source": [
    "![causal diagram](https://www.r-causal.org/chapters/02-whole-game_files/figure-html/fig-net-data-dag-1.png)"
   ]
  },
  {
   "cell_type": "markdown",
   "id": "df6b3e85",
   "metadata": {
    "slideshow": {
     "slide_type": "slide"
    }
   },
   "source": [
    "What is this graph telling us?\n",
    "- Risk of malaria is affective by: health, income, using a net, temperature, and resistance to insecticide.\n",
    "- Net usage is affected by: income, health, eligibility, temperature, and househould size.\n",
    "- Health is impacted by: income \n",
    "- Eligibility is affected by: income and number of people in household."
   ]
  },
  {
   "cell_type": "markdown",
   "id": "b27ccea6",
   "metadata": {
    "slideshow": {
     "slide_type": "slide"
    }
   },
   "source": [
    "## Confounding in the graph\n",
    "- We want to measure the causal impact of mosquito net usage on risk of malaria.\n",
    "- The trouble is that there are several pathways between these two nodes.\n",
    "- For example: \n",
    "\n",
    "        Net usage <- Eligibility <- Income -> Risk\n",
    "        Net usage <- Health -> Risk\n",
    "- So, naively estimating the effect of net usage on risk will pick up a mixture of all of these effects."
   ]
  },
  {
   "cell_type": "markdown",
   "id": "340586b4",
   "metadata": {
    "slideshow": {
     "slide_type": "slide"
    }
   },
   "source": [
    "Recall the average treatement effect:\n",
    "\n",
    "$$\\text{ATE} = \\mathbb{E}_x[Y_1(x) - Y_0(x)]$$\n",
    "\n",
    "- $Y_0(x)$, $Y_1(x)$ are the potential outcomes for person $x$\n",
    "- The average is over randomly sample people from the population.\n",
    "- The regression above suggested $\\text{ATE} \\approx -16.4$, is this correct?"
   ]
  },
  {
   "cell_type": "markdown",
   "id": "efc7b19d",
   "metadata": {
    "slideshow": {
     "slide_type": "slide"
    }
   },
   "source": [
    "## Propensity score matching\n",
    "\n",
    "- Idea is to reweight my observations so that e.g.\n",
    "\n",
    "$$\\mathbb{E}_{x \\sim p(x)} Y_1(x) \\approx \\mathbb{E}_{x \\sim p(x \\mid T=1)} [w(x) Y(x)] $$\n",
    "\n",
    "- How should we do this? Use $$w(x) = \\frac{\\mathbb{P}(T=1)}{\\mathbb{P}(T=1 \\mid x)}.$$\n",
    "\n",
    "- Do we know $\\mathbb{P}(T=1)$?\n",
    "- Do we know $\\mathbb{P}(T=1 \\mid x)$?"
   ]
  },
  {
   "cell_type": "code",
   "execution_count": 24,
   "id": "8868ded3",
   "metadata": {
    "slideshow": {
     "slide_type": "slide"
    }
   },
   "outputs": [
    {
     "data": {
      "text/plain": [
       "\n",
       "Call:\n",
       "glm(formula = net ~ income + health + temperature, family = binomial(), \n",
       "    data = net_data)\n",
       "\n",
       "Deviance Residuals: \n",
       "    Min       1Q   Median       3Q      Max  \n",
       "-1.1345  -0.8010  -0.6994   1.3284   2.0720  \n",
       "\n",
       "Coefficients:\n",
       "              Estimate Std. Error z value Pr(>|z|)    \n",
       "(Intercept) -1.9884783  0.4126520  -4.819 1.44e-06 ***\n",
       "income       0.0019071  0.0004808   3.966 7.29e-05 ***\n",
       "health      -0.0003234  0.0047099  -0.069   0.9453    \n",
       "temperature -0.0329793  0.0137158  -2.404   0.0162 *  \n",
       "---\n",
       "Signif. codes:  0 ‘***’ 0.001 ‘**’ 0.01 ‘*’ 0.05 ‘.’ 0.1 ‘ ’ 1\n",
       "\n",
       "(Dispersion parameter for binomial family taken to be 1)\n",
       "\n",
       "    Null deviance: 2004.8  on 1751  degrees of freedom\n",
       "Residual deviance: 1962.0  on 1748  degrees of freedom\n",
       "AIC: 1970\n",
       "\n",
       "Number of Fisher Scoring iterations: 4\n"
      ]
     },
     "metadata": {},
     "output_type": "display_data"
    }
   ],
   "source": [
    "propensity_model <- glm(\n",
    "  net ~ income + health + temperature,\n",
    "  data = net_data,\n",
    "  family = binomial()\n",
    ")\n",
    "\n",
    "summary(propensity_model)"
   ]
  },
  {
   "cell_type": "code",
   "execution_count": 25,
   "id": "a3460a6c",
   "metadata": {
    "slideshow": {
     "slide_type": "slide"
    }
   },
   "outputs": [
    {
     "data": {
      "text/html": [
       "<table class=\"dataframe\">\n",
       "<caption>A tibble: 1752 × 12</caption>\n",
       "<thead>\n",
       "\t<tr><th scope=col>id</th><th scope=col>net</th><th scope=col>net_num</th><th scope=col>malaria_risk</th><th scope=col>income</th><th scope=col>health</th><th scope=col>household</th><th scope=col>eligible</th><th scope=col>temperature</th><th scope=col>insecticide_resistance</th><th scope=col>pred</th><th scope=col>wt</th></tr>\n",
       "\t<tr><th scope=col>&lt;int&gt;</th><th scope=col>&lt;lgl&gt;</th><th scope=col>&lt;int&gt;</th><th scope=col>&lt;dbl&gt;</th><th scope=col>&lt;dbl&gt;</th><th scope=col>&lt;dbl&gt;</th><th scope=col>&lt;dbl&gt;</th><th scope=col>&lt;lgl&gt;</th><th scope=col>&lt;dbl&gt;</th><th scope=col>&lt;dbl&gt;</th><th scope=col>&lt;dbl&gt;</th><th scope=col>&lt;dbl&gt;</th></tr>\n",
       "</thead>\n",
       "<tbody>\n",
       "\t<tr><td> 1</td><td>FALSE</td><td>0</td><td>38</td><td> 779</td><td>35</td><td>1</td><td>FALSE</td><td>18.3</td><td>38</td><td>0.2464385</td><td>1.327032</td></tr>\n",
       "\t<tr><td> 2</td><td>FALSE</td><td>0</td><td>48</td><td> 700</td><td>35</td><td>3</td><td>FALSE</td><td>18.6</td><td>40</td><td>0.2178480</td><td>1.278524</td></tr>\n",
       "\t<tr><td> 3</td><td>FALSE</td><td>0</td><td>32</td><td>1083</td><td>58</td><td>3</td><td>FALSE</td><td>24.2</td><td>70</td><td>0.3230129</td><td>1.477133</td></tr>\n",
       "\t<tr><td> 4</td><td>FALSE</td><td>0</td><td>55</td><td> 753</td><td>68</td><td>3</td><td>FALSE</td><td>19.1</td><td>57</td><td>0.2307043</td><td>1.299890</td></tr>\n",
       "\t<tr><td> 5</td><td>FALSE</td><td>0</td><td>36</td><td> 919</td><td>46</td><td>5</td><td>FALSE</td><td>21.2</td><td>59</td><td>0.2789042</td><td>1.386778</td></tr>\n",
       "\t<tr><td> 6</td><td>FALSE</td><td>0</td><td>30</td><td> 969</td><td>37</td><td>3</td><td>FALSE</td><td>20.2</td><td>49</td><td>0.3060484</td><td>1.441023</td></tr>\n",
       "\t<tr><td> 7</td><td>FALSE</td><td>0</td><td>29</td><td>1012</td><td>58</td><td>1</td><td>FALSE</td><td>18.9</td><td>52</td><td>0.3316852</td><td>1.496301</td></tr>\n",
       "\t<tr><td> 8</td><td>FALSE</td><td>0</td><td>45</td><td> 708</td><td>30</td><td>2</td><td>FALSE</td><td>28.8</td><td>42</td><td>0.1682939</td><td>1.202348</td></tr>\n",
       "\t<tr><td> 9</td><td>FALSE</td><td>0</td><td>51</td><td> 733</td><td>18</td><td>3</td><td>FALSE</td><td>19.9</td><td>66</td><td>0.2222343</td><td>1.285734</td></tr>\n",
       "\t<tr><td>10</td><td>FALSE</td><td>0</td><td>42</td><td> 862</td><td>64</td><td>3</td><td>FALSE</td><td>21.4</td><td>45</td><td>0.2552082</td><td>1.342657</td></tr>\n",
       "\t<tr><td>11</td><td>FALSE</td><td>0</td><td>60</td><td> 681</td><td>30</td><td>4</td><td>FALSE</td><td>18.1</td><td>78</td><td>0.2147749</td><td>1.273520</td></tr>\n",
       "\t<tr><td>12</td><td>FALSE</td><td>0</td><td>50</td><td> 683</td><td>20</td><td>3</td><td>FALSE</td><td>17.3</td><td>58</td><td>0.2204668</td><td>1.282819</td></tr>\n",
       "\t<tr><td>13</td><td>FALSE</td><td>0</td><td>61</td><td> 642</td><td>24</td><td>2</td><td>FALSE</td><td>19.6</td><td>64</td><td>0.1949306</td><td>1.242129</td></tr>\n",
       "\t<tr><td>14</td><td>FALSE</td><td>0</td><td>71</td><td> 522</td><td> 8</td><td>5</td><td> TRUE</td><td>18.5</td><td>71</td><td>0.1671888</td><td>1.200752</td></tr>\n",
       "\t<tr><td>15</td><td>FALSE</td><td>0</td><td>57</td><td> 706</td><td>42</td><td>2</td><td>FALSE</td><td>22.1</td><td>49</td><td>0.2002871</td><td>1.250449</td></tr>\n",
       "\t<tr><td>16</td><td> TRUE</td><td>1</td><td>15</td><td>1251</td><td>96</td><td>4</td><td>FALSE</td><td>21.8</td><td>24</td><td>0.4127257</td><td>2.422917</td></tr>\n",
       "\t<tr><td>17</td><td>FALSE</td><td>0</td><td>49</td><td> 709</td><td>66</td><td>2</td><td>FALSE</td><td>27.0</td><td>41</td><td>0.1753550</td><td>1.212643</td></tr>\n",
       "\t<tr><td>18</td><td> TRUE</td><td>1</td><td>28</td><td> 892</td><td>49</td><td>2</td><td>FALSE</td><td>20.2</td><td>58</td><td>0.2750030</td><td>3.636325</td></tr>\n",
       "\t<tr><td>19</td><td> TRUE</td><td>1</td><td>18</td><td>1273</td><td>94</td><td>2</td><td>FALSE</td><td>19.9</td><td>67</td><td>0.4384524</td><td>2.280749</td></tr>\n",
       "\t<tr><td>20</td><td>FALSE</td><td>0</td><td>29</td><td>1166</td><td>70</td><td>2</td><td>FALSE</td><td>27.1</td><td>52</td><td>0.3359951</td><td>1.506013</td></tr>\n",
       "\t<tr><td>21</td><td>FALSE</td><td>0</td><td>50</td><td> 818</td><td>51</td><td>2</td><td>FALSE</td><td>21.6</td><td>62</td><td>0.2391531</td><td>1.314325</td></tr>\n",
       "\t<tr><td>22</td><td> TRUE</td><td>1</td><td>17</td><td>1292</td><td>63</td><td>2</td><td>FALSE</td><td>24.8</td><td>63</td><td>0.4102860</td><td>2.437324</td></tr>\n",
       "\t<tr><td>23</td><td>FALSE</td><td>0</td><td>59</td><td> 751</td><td>35</td><td>2</td><td>FALSE</td><td>24.4</td><td>64</td><td>0.2022533</td><td>1.253531</td></tr>\n",
       "\t<tr><td>24</td><td>FALSE</td><td>0</td><td>43</td><td> 844</td><td>29</td><td>1</td><td>FALSE</td><td>22.4</td><td>60</td><td>0.2447129</td><td>1.324000</td></tr>\n",
       "\t<tr><td>25</td><td>FALSE</td><td>0</td><td>50</td><td> 877</td><td>57</td><td>2</td><td>FALSE</td><td>28.6</td><td>47</td><td>0.2179581</td><td>1.278704</td></tr>\n",
       "\t<tr><td>26</td><td>FALSE</td><td>0</td><td>33</td><td>1006</td><td>56</td><td>4</td><td>FALSE</td><td>22.2</td><td>64</td><td>0.3057211</td><td>1.440343</td></tr>\n",
       "\t<tr><td>27</td><td>FALSE</td><td>0</td><td>59</td><td> 666</td><td>35</td><td>3</td><td>FALSE</td><td>22.4</td><td>42</td><td>0.1871838</td><td>1.230290</td></tr>\n",
       "\t<tr><td>28</td><td> TRUE</td><td>1</td><td>22</td><td>1235</td><td>70</td><td>5</td><td>FALSE</td><td>31.0</td><td>54</td><td>0.3366580</td><td>2.970373</td></tr>\n",
       "\t<tr><td>29</td><td>FALSE</td><td>0</td><td>30</td><td> 982</td><td>66</td><td>4</td><td>FALSE</td><td>18.3</td><td>42</td><td>0.3228762</td><td>1.476835</td></tr>\n",
       "\t<tr><td>30</td><td> TRUE</td><td>1</td><td>34</td><td> 798</td><td>36</td><td>1</td><td>FALSE</td><td>23.6</td><td>56</td><td>0.2215637</td><td>4.513375</td></tr>\n",
       "\t<tr><td>⋮</td><td>⋮</td><td>⋮</td><td>⋮</td><td>⋮</td><td>⋮</td><td>⋮</td><td>⋮</td><td>⋮</td><td>⋮</td><td>⋮</td><td>⋮</td></tr>\n",
       "\t<tr><td>1723</td><td>FALSE</td><td>0</td><td>28</td><td> 855</td><td>57</td><td>4</td><td>FALSE</td><td>20.8</td><td>31</td><td>0.2568658</td><td>1.345652</td></tr>\n",
       "\t<tr><td>1724</td><td>FALSE</td><td>0</td><td>42</td><td> 908</td><td>44</td><td>3</td><td>FALSE</td><td>27.3</td><td>44</td><td>0.2366005</td><td>1.309930</td></tr>\n",
       "\t<tr><td>1725</td><td>FALSE</td><td>0</td><td>76</td><td> 565</td><td>14</td><td>2</td><td>FALSE</td><td>27.1</td><td>62</td><td>0.1407299</td><td>1.163778</td></tr>\n",
       "\t<tr><td>1726</td><td> TRUE</td><td>1</td><td>16</td><td>1104</td><td>50</td><td>2</td><td>FALSE</td><td>26.3</td><td>45</td><td>0.3172193</td><td>3.152393</td></tr>\n",
       "\t<tr><td>1727</td><td>FALSE</td><td>0</td><td>34</td><td> 900</td><td>44</td><td>2</td><td>FALSE</td><td>21.2</td><td>45</td><td>0.2718036</td><td>1.373256</td></tr>\n",
       "\t<tr><td>1728</td><td> TRUE</td><td>1</td><td>43</td><td> 699</td><td>46</td><td>3</td><td>FALSE</td><td>22.1</td><td>56</td><td>0.1979520</td><td>5.051731</td></tr>\n",
       "\t<tr><td>1729</td><td> TRUE</td><td>1</td><td>20</td><td> 875</td><td>44</td><td>3</td><td>FALSE</td><td>18.8</td><td>50</td><td>0.2780775</td><td>3.596120</td></tr>\n",
       "\t<tr><td>1730</td><td> TRUE</td><td>1</td><td>24</td><td> 799</td><td>27</td><td>3</td><td>FALSE</td><td>22.8</td><td>50</td><td>0.2269918</td><td>4.405446</td></tr>\n",
       "\t<tr><td>1731</td><td> TRUE</td><td>1</td><td>27</td><td> 909</td><td>63</td><td>4</td><td>FALSE</td><td>18.9</td><td>46</td><td>0.2893342</td><td>3.456211</td></tr>\n",
       "\t<tr><td>1732</td><td>FALSE</td><td>0</td><td>42</td><td> 843</td><td>27</td><td>3</td><td>FALSE</td><td>21.0</td><td>65</td><td>0.2531086</td><td>1.338883</td></tr>\n",
       "\t<tr><td>1733</td><td>FALSE</td><td>0</td><td>27</td><td>1205</td><td>76</td><td>3</td><td>FALSE</td><td>27.1</td><td>48</td><td>0.3523428</td><td>1.544027</td></tr>\n",
       "\t<tr><td>1734</td><td>FALSE</td><td>0</td><td>50</td><td> 768</td><td>30</td><td>5</td><td>FALSE</td><td>22.6</td><td>54</td><td>0.2177426</td><td>1.278352</td></tr>\n",
       "\t<tr><td>1735</td><td>FALSE</td><td>0</td><td>32</td><td>1106</td><td>80</td><td>3</td><td>FALSE</td><td>26.3</td><td>57</td><td>0.3159453</td><td>1.461871</td></tr>\n",
       "\t<tr><td>1736</td><td>FALSE</td><td>0</td><td>33</td><td>1024</td><td>40</td><td>3</td><td>FALSE</td><td>26.7</td><td>54</td><td>0.2831063</td><td>1.394907</td></tr>\n",
       "\t<tr><td>1737</td><td> TRUE</td><td>1</td><td>20</td><td>1117</td><td>67</td><td>1</td><td>FALSE</td><td>19.7</td><td>54</td><td>0.3706048</td><td>2.698292</td></tr>\n",
       "\t<tr><td>1738</td><td>FALSE</td><td>0</td><td>43</td><td> 792</td><td>24</td><td>4</td><td>FALSE</td><td>24.6</td><td>34</td><td>0.2146505</td><td>1.273318</td></tr>\n",
       "\t<tr><td>1739</td><td> TRUE</td><td>1</td><td>58</td><td> 631</td><td>34</td><td>5</td><td> TRUE</td><td>23.2</td><td>82</td><td>0.1734713</td><td>5.764641</td></tr>\n",
       "\t<tr><td>1740</td><td>FALSE</td><td>0</td><td>29</td><td>1254</td><td>93</td><td>4</td><td>FALSE</td><td>30.6</td><td>57</td><td>0.3460981</td><td>1.529281</td></tr>\n",
       "\t<tr><td>1741</td><td> TRUE</td><td>1</td><td>13</td><td>1094</td><td>86</td><td>3</td><td>FALSE</td><td>15.9</td><td>32</td><td>0.3883366</td><td>2.575085</td></tr>\n",
       "\t<tr><td>1742</td><td>FALSE</td><td>0</td><td>48</td><td> 778</td><td>45</td><td>2</td><td>FALSE</td><td>16.4</td><td>73</td><td>0.2572753</td><td>1.346394</td></tr>\n",
       "\t<tr><td>1743</td><td>FALSE</td><td>0</td><td>31</td><td> 795</td><td>36</td><td>2</td><td>FALSE</td><td>21.1</td><td>46</td><td>0.2350791</td><td>1.307325</td></tr>\n",
       "\t<tr><td>1744</td><td> TRUE</td><td>1</td><td>25</td><td> 913</td><td>40</td><td>2</td><td>FALSE</td><td>26.9</td><td>71</td><td>0.2409666</td><td>4.149953</td></tr>\n",
       "\t<tr><td>1745</td><td>FALSE</td><td>0</td><td>77</td><td> 611</td><td>12</td><td>3</td><td>FALSE</td><td>31.1</td><td>63</td><td>0.1355462</td><td>1.156800</td></tr>\n",
       "\t<tr><td>1746</td><td>FALSE</td><td>0</td><td>22</td><td>1282</td><td>82</td><td>5</td><td>FALSE</td><td>23.2</td><td>45</td><td>0.4169681</td><td>1.715172</td></tr>\n",
       "\t<tr><td>1747</td><td>FALSE</td><td>0</td><td>33</td><td> 859</td><td>49</td><td>3</td><td>FALSE</td><td>26.2</td><td>50</td><td>0.2261472</td><td>1.292235</td></tr>\n",
       "\t<tr><td>1748</td><td>FALSE</td><td>0</td><td>58</td><td> 677</td><td>29</td><td>2</td><td>FALSE</td><td>24.4</td><td>38</td><td>0.1807234</td><td>1.220589</td></tr>\n",
       "\t<tr><td>1749</td><td> TRUE</td><td>1</td><td>16</td><td>1010</td><td>59</td><td>1</td><td>FALSE</td><td>21.4</td><td>22</td><td>0.3127791</td><td>3.197145</td></tr>\n",
       "\t<tr><td>1750</td><td>FALSE</td><td>0</td><td>20</td><td>1304</td><td>72</td><td>4</td><td>FALSE</td><td>23.7</td><td>37</td><td>0.4239615</td><td>1.735995</td></tr>\n",
       "\t<tr><td>1751</td><td>FALSE</td><td>0</td><td>35</td><td> 924</td><td>41</td><td>4</td><td>FALSE</td><td>23.1</td><td>50</td><td>0.2686640</td><td>1.367361</td></tr>\n",
       "\t<tr><td>1752</td><td>FALSE</td><td>0</td><td>65</td><td> 784</td><td>57</td><td>3</td><td>FALSE</td><td>31.7</td><td>44</td><td>0.1740487</td><td>1.210725</td></tr>\n",
       "</tbody>\n",
       "</table>\n"
      ],
      "text/latex": [
       "A tibble: 1752 × 12\n",
       "\\begin{tabular}{llllllllllll}\n",
       " id & net & net\\_num & malaria\\_risk & income & health & household & eligible & temperature & insecticide\\_resistance & pred & wt\\\\\n",
       " <int> & <lgl> & <int> & <dbl> & <dbl> & <dbl> & <dbl> & <lgl> & <dbl> & <dbl> & <dbl> & <dbl>\\\\\n",
       "\\hline\n",
       "\t  1 & FALSE & 0 & 38 &  779 & 35 & 1 & FALSE & 18.3 & 38 & 0.2464385 & 1.327032\\\\\n",
       "\t  2 & FALSE & 0 & 48 &  700 & 35 & 3 & FALSE & 18.6 & 40 & 0.2178480 & 1.278524\\\\\n",
       "\t  3 & FALSE & 0 & 32 & 1083 & 58 & 3 & FALSE & 24.2 & 70 & 0.3230129 & 1.477133\\\\\n",
       "\t  4 & FALSE & 0 & 55 &  753 & 68 & 3 & FALSE & 19.1 & 57 & 0.2307043 & 1.299890\\\\\n",
       "\t  5 & FALSE & 0 & 36 &  919 & 46 & 5 & FALSE & 21.2 & 59 & 0.2789042 & 1.386778\\\\\n",
       "\t  6 & FALSE & 0 & 30 &  969 & 37 & 3 & FALSE & 20.2 & 49 & 0.3060484 & 1.441023\\\\\n",
       "\t  7 & FALSE & 0 & 29 & 1012 & 58 & 1 & FALSE & 18.9 & 52 & 0.3316852 & 1.496301\\\\\n",
       "\t  8 & FALSE & 0 & 45 &  708 & 30 & 2 & FALSE & 28.8 & 42 & 0.1682939 & 1.202348\\\\\n",
       "\t  9 & FALSE & 0 & 51 &  733 & 18 & 3 & FALSE & 19.9 & 66 & 0.2222343 & 1.285734\\\\\n",
       "\t 10 & FALSE & 0 & 42 &  862 & 64 & 3 & FALSE & 21.4 & 45 & 0.2552082 & 1.342657\\\\\n",
       "\t 11 & FALSE & 0 & 60 &  681 & 30 & 4 & FALSE & 18.1 & 78 & 0.2147749 & 1.273520\\\\\n",
       "\t 12 & FALSE & 0 & 50 &  683 & 20 & 3 & FALSE & 17.3 & 58 & 0.2204668 & 1.282819\\\\\n",
       "\t 13 & FALSE & 0 & 61 &  642 & 24 & 2 & FALSE & 19.6 & 64 & 0.1949306 & 1.242129\\\\\n",
       "\t 14 & FALSE & 0 & 71 &  522 &  8 & 5 &  TRUE & 18.5 & 71 & 0.1671888 & 1.200752\\\\\n",
       "\t 15 & FALSE & 0 & 57 &  706 & 42 & 2 & FALSE & 22.1 & 49 & 0.2002871 & 1.250449\\\\\n",
       "\t 16 &  TRUE & 1 & 15 & 1251 & 96 & 4 & FALSE & 21.8 & 24 & 0.4127257 & 2.422917\\\\\n",
       "\t 17 & FALSE & 0 & 49 &  709 & 66 & 2 & FALSE & 27.0 & 41 & 0.1753550 & 1.212643\\\\\n",
       "\t 18 &  TRUE & 1 & 28 &  892 & 49 & 2 & FALSE & 20.2 & 58 & 0.2750030 & 3.636325\\\\\n",
       "\t 19 &  TRUE & 1 & 18 & 1273 & 94 & 2 & FALSE & 19.9 & 67 & 0.4384524 & 2.280749\\\\\n",
       "\t 20 & FALSE & 0 & 29 & 1166 & 70 & 2 & FALSE & 27.1 & 52 & 0.3359951 & 1.506013\\\\\n",
       "\t 21 & FALSE & 0 & 50 &  818 & 51 & 2 & FALSE & 21.6 & 62 & 0.2391531 & 1.314325\\\\\n",
       "\t 22 &  TRUE & 1 & 17 & 1292 & 63 & 2 & FALSE & 24.8 & 63 & 0.4102860 & 2.437324\\\\\n",
       "\t 23 & FALSE & 0 & 59 &  751 & 35 & 2 & FALSE & 24.4 & 64 & 0.2022533 & 1.253531\\\\\n",
       "\t 24 & FALSE & 0 & 43 &  844 & 29 & 1 & FALSE & 22.4 & 60 & 0.2447129 & 1.324000\\\\\n",
       "\t 25 & FALSE & 0 & 50 &  877 & 57 & 2 & FALSE & 28.6 & 47 & 0.2179581 & 1.278704\\\\\n",
       "\t 26 & FALSE & 0 & 33 & 1006 & 56 & 4 & FALSE & 22.2 & 64 & 0.3057211 & 1.440343\\\\\n",
       "\t 27 & FALSE & 0 & 59 &  666 & 35 & 3 & FALSE & 22.4 & 42 & 0.1871838 & 1.230290\\\\\n",
       "\t 28 &  TRUE & 1 & 22 & 1235 & 70 & 5 & FALSE & 31.0 & 54 & 0.3366580 & 2.970373\\\\\n",
       "\t 29 & FALSE & 0 & 30 &  982 & 66 & 4 & FALSE & 18.3 & 42 & 0.3228762 & 1.476835\\\\\n",
       "\t 30 &  TRUE & 1 & 34 &  798 & 36 & 1 & FALSE & 23.6 & 56 & 0.2215637 & 4.513375\\\\\n",
       "\t ⋮ & ⋮ & ⋮ & ⋮ & ⋮ & ⋮ & ⋮ & ⋮ & ⋮ & ⋮ & ⋮ & ⋮\\\\\n",
       "\t 1723 & FALSE & 0 & 28 &  855 & 57 & 4 & FALSE & 20.8 & 31 & 0.2568658 & 1.345652\\\\\n",
       "\t 1724 & FALSE & 0 & 42 &  908 & 44 & 3 & FALSE & 27.3 & 44 & 0.2366005 & 1.309930\\\\\n",
       "\t 1725 & FALSE & 0 & 76 &  565 & 14 & 2 & FALSE & 27.1 & 62 & 0.1407299 & 1.163778\\\\\n",
       "\t 1726 &  TRUE & 1 & 16 & 1104 & 50 & 2 & FALSE & 26.3 & 45 & 0.3172193 & 3.152393\\\\\n",
       "\t 1727 & FALSE & 0 & 34 &  900 & 44 & 2 & FALSE & 21.2 & 45 & 0.2718036 & 1.373256\\\\\n",
       "\t 1728 &  TRUE & 1 & 43 &  699 & 46 & 3 & FALSE & 22.1 & 56 & 0.1979520 & 5.051731\\\\\n",
       "\t 1729 &  TRUE & 1 & 20 &  875 & 44 & 3 & FALSE & 18.8 & 50 & 0.2780775 & 3.596120\\\\\n",
       "\t 1730 &  TRUE & 1 & 24 &  799 & 27 & 3 & FALSE & 22.8 & 50 & 0.2269918 & 4.405446\\\\\n",
       "\t 1731 &  TRUE & 1 & 27 &  909 & 63 & 4 & FALSE & 18.9 & 46 & 0.2893342 & 3.456211\\\\\n",
       "\t 1732 & FALSE & 0 & 42 &  843 & 27 & 3 & FALSE & 21.0 & 65 & 0.2531086 & 1.338883\\\\\n",
       "\t 1733 & FALSE & 0 & 27 & 1205 & 76 & 3 & FALSE & 27.1 & 48 & 0.3523428 & 1.544027\\\\\n",
       "\t 1734 & FALSE & 0 & 50 &  768 & 30 & 5 & FALSE & 22.6 & 54 & 0.2177426 & 1.278352\\\\\n",
       "\t 1735 & FALSE & 0 & 32 & 1106 & 80 & 3 & FALSE & 26.3 & 57 & 0.3159453 & 1.461871\\\\\n",
       "\t 1736 & FALSE & 0 & 33 & 1024 & 40 & 3 & FALSE & 26.7 & 54 & 0.2831063 & 1.394907\\\\\n",
       "\t 1737 &  TRUE & 1 & 20 & 1117 & 67 & 1 & FALSE & 19.7 & 54 & 0.3706048 & 2.698292\\\\\n",
       "\t 1738 & FALSE & 0 & 43 &  792 & 24 & 4 & FALSE & 24.6 & 34 & 0.2146505 & 1.273318\\\\\n",
       "\t 1739 &  TRUE & 1 & 58 &  631 & 34 & 5 &  TRUE & 23.2 & 82 & 0.1734713 & 5.764641\\\\\n",
       "\t 1740 & FALSE & 0 & 29 & 1254 & 93 & 4 & FALSE & 30.6 & 57 & 0.3460981 & 1.529281\\\\\n",
       "\t 1741 &  TRUE & 1 & 13 & 1094 & 86 & 3 & FALSE & 15.9 & 32 & 0.3883366 & 2.575085\\\\\n",
       "\t 1742 & FALSE & 0 & 48 &  778 & 45 & 2 & FALSE & 16.4 & 73 & 0.2572753 & 1.346394\\\\\n",
       "\t 1743 & FALSE & 0 & 31 &  795 & 36 & 2 & FALSE & 21.1 & 46 & 0.2350791 & 1.307325\\\\\n",
       "\t 1744 &  TRUE & 1 & 25 &  913 & 40 & 2 & FALSE & 26.9 & 71 & 0.2409666 & 4.149953\\\\\n",
       "\t 1745 & FALSE & 0 & 77 &  611 & 12 & 3 & FALSE & 31.1 & 63 & 0.1355462 & 1.156800\\\\\n",
       "\t 1746 & FALSE & 0 & 22 & 1282 & 82 & 5 & FALSE & 23.2 & 45 & 0.4169681 & 1.715172\\\\\n",
       "\t 1747 & FALSE & 0 & 33 &  859 & 49 & 3 & FALSE & 26.2 & 50 & 0.2261472 & 1.292235\\\\\n",
       "\t 1748 & FALSE & 0 & 58 &  677 & 29 & 2 & FALSE & 24.4 & 38 & 0.1807234 & 1.220589\\\\\n",
       "\t 1749 &  TRUE & 1 & 16 & 1010 & 59 & 1 & FALSE & 21.4 & 22 & 0.3127791 & 3.197145\\\\\n",
       "\t 1750 & FALSE & 0 & 20 & 1304 & 72 & 4 & FALSE & 23.7 & 37 & 0.4239615 & 1.735995\\\\\n",
       "\t 1751 & FALSE & 0 & 35 &  924 & 41 & 4 & FALSE & 23.1 & 50 & 0.2686640 & 1.367361\\\\\n",
       "\t 1752 & FALSE & 0 & 65 &  784 & 57 & 3 & FALSE & 31.7 & 44 & 0.1740487 & 1.210725\\\\\n",
       "\\end{tabular}\n"
      ],
      "text/markdown": [
       "\n",
       "A tibble: 1752 × 12\n",
       "\n",
       "| id &lt;int&gt; | net &lt;lgl&gt; | net_num &lt;int&gt; | malaria_risk &lt;dbl&gt; | income &lt;dbl&gt; | health &lt;dbl&gt; | household &lt;dbl&gt; | eligible &lt;lgl&gt; | temperature &lt;dbl&gt; | insecticide_resistance &lt;dbl&gt; | pred &lt;dbl&gt; | wt &lt;dbl&gt; |\n",
       "|---|---|---|---|---|---|---|---|---|---|---|---|\n",
       "|  1 | FALSE | 0 | 38 |  779 | 35 | 1 | FALSE | 18.3 | 38 | 0.2464385 | 1.327032 |\n",
       "|  2 | FALSE | 0 | 48 |  700 | 35 | 3 | FALSE | 18.6 | 40 | 0.2178480 | 1.278524 |\n",
       "|  3 | FALSE | 0 | 32 | 1083 | 58 | 3 | FALSE | 24.2 | 70 | 0.3230129 | 1.477133 |\n",
       "|  4 | FALSE | 0 | 55 |  753 | 68 | 3 | FALSE | 19.1 | 57 | 0.2307043 | 1.299890 |\n",
       "|  5 | FALSE | 0 | 36 |  919 | 46 | 5 | FALSE | 21.2 | 59 | 0.2789042 | 1.386778 |\n",
       "|  6 | FALSE | 0 | 30 |  969 | 37 | 3 | FALSE | 20.2 | 49 | 0.3060484 | 1.441023 |\n",
       "|  7 | FALSE | 0 | 29 | 1012 | 58 | 1 | FALSE | 18.9 | 52 | 0.3316852 | 1.496301 |\n",
       "|  8 | FALSE | 0 | 45 |  708 | 30 | 2 | FALSE | 28.8 | 42 | 0.1682939 | 1.202348 |\n",
       "|  9 | FALSE | 0 | 51 |  733 | 18 | 3 | FALSE | 19.9 | 66 | 0.2222343 | 1.285734 |\n",
       "| 10 | FALSE | 0 | 42 |  862 | 64 | 3 | FALSE | 21.4 | 45 | 0.2552082 | 1.342657 |\n",
       "| 11 | FALSE | 0 | 60 |  681 | 30 | 4 | FALSE | 18.1 | 78 | 0.2147749 | 1.273520 |\n",
       "| 12 | FALSE | 0 | 50 |  683 | 20 | 3 | FALSE | 17.3 | 58 | 0.2204668 | 1.282819 |\n",
       "| 13 | FALSE | 0 | 61 |  642 | 24 | 2 | FALSE | 19.6 | 64 | 0.1949306 | 1.242129 |\n",
       "| 14 | FALSE | 0 | 71 |  522 |  8 | 5 |  TRUE | 18.5 | 71 | 0.1671888 | 1.200752 |\n",
       "| 15 | FALSE | 0 | 57 |  706 | 42 | 2 | FALSE | 22.1 | 49 | 0.2002871 | 1.250449 |\n",
       "| 16 |  TRUE | 1 | 15 | 1251 | 96 | 4 | FALSE | 21.8 | 24 | 0.4127257 | 2.422917 |\n",
       "| 17 | FALSE | 0 | 49 |  709 | 66 | 2 | FALSE | 27.0 | 41 | 0.1753550 | 1.212643 |\n",
       "| 18 |  TRUE | 1 | 28 |  892 | 49 | 2 | FALSE | 20.2 | 58 | 0.2750030 | 3.636325 |\n",
       "| 19 |  TRUE | 1 | 18 | 1273 | 94 | 2 | FALSE | 19.9 | 67 | 0.4384524 | 2.280749 |\n",
       "| 20 | FALSE | 0 | 29 | 1166 | 70 | 2 | FALSE | 27.1 | 52 | 0.3359951 | 1.506013 |\n",
       "| 21 | FALSE | 0 | 50 |  818 | 51 | 2 | FALSE | 21.6 | 62 | 0.2391531 | 1.314325 |\n",
       "| 22 |  TRUE | 1 | 17 | 1292 | 63 | 2 | FALSE | 24.8 | 63 | 0.4102860 | 2.437324 |\n",
       "| 23 | FALSE | 0 | 59 |  751 | 35 | 2 | FALSE | 24.4 | 64 | 0.2022533 | 1.253531 |\n",
       "| 24 | FALSE | 0 | 43 |  844 | 29 | 1 | FALSE | 22.4 | 60 | 0.2447129 | 1.324000 |\n",
       "| 25 | FALSE | 0 | 50 |  877 | 57 | 2 | FALSE | 28.6 | 47 | 0.2179581 | 1.278704 |\n",
       "| 26 | FALSE | 0 | 33 | 1006 | 56 | 4 | FALSE | 22.2 | 64 | 0.3057211 | 1.440343 |\n",
       "| 27 | FALSE | 0 | 59 |  666 | 35 | 3 | FALSE | 22.4 | 42 | 0.1871838 | 1.230290 |\n",
       "| 28 |  TRUE | 1 | 22 | 1235 | 70 | 5 | FALSE | 31.0 | 54 | 0.3366580 | 2.970373 |\n",
       "| 29 | FALSE | 0 | 30 |  982 | 66 | 4 | FALSE | 18.3 | 42 | 0.3228762 | 1.476835 |\n",
       "| 30 |  TRUE | 1 | 34 |  798 | 36 | 1 | FALSE | 23.6 | 56 | 0.2215637 | 4.513375 |\n",
       "| ⋮ | ⋮ | ⋮ | ⋮ | ⋮ | ⋮ | ⋮ | ⋮ | ⋮ | ⋮ | ⋮ | ⋮ |\n",
       "| 1723 | FALSE | 0 | 28 |  855 | 57 | 4 | FALSE | 20.8 | 31 | 0.2568658 | 1.345652 |\n",
       "| 1724 | FALSE | 0 | 42 |  908 | 44 | 3 | FALSE | 27.3 | 44 | 0.2366005 | 1.309930 |\n",
       "| 1725 | FALSE | 0 | 76 |  565 | 14 | 2 | FALSE | 27.1 | 62 | 0.1407299 | 1.163778 |\n",
       "| 1726 |  TRUE | 1 | 16 | 1104 | 50 | 2 | FALSE | 26.3 | 45 | 0.3172193 | 3.152393 |\n",
       "| 1727 | FALSE | 0 | 34 |  900 | 44 | 2 | FALSE | 21.2 | 45 | 0.2718036 | 1.373256 |\n",
       "| 1728 |  TRUE | 1 | 43 |  699 | 46 | 3 | FALSE | 22.1 | 56 | 0.1979520 | 5.051731 |\n",
       "| 1729 |  TRUE | 1 | 20 |  875 | 44 | 3 | FALSE | 18.8 | 50 | 0.2780775 | 3.596120 |\n",
       "| 1730 |  TRUE | 1 | 24 |  799 | 27 | 3 | FALSE | 22.8 | 50 | 0.2269918 | 4.405446 |\n",
       "| 1731 |  TRUE | 1 | 27 |  909 | 63 | 4 | FALSE | 18.9 | 46 | 0.2893342 | 3.456211 |\n",
       "| 1732 | FALSE | 0 | 42 |  843 | 27 | 3 | FALSE | 21.0 | 65 | 0.2531086 | 1.338883 |\n",
       "| 1733 | FALSE | 0 | 27 | 1205 | 76 | 3 | FALSE | 27.1 | 48 | 0.3523428 | 1.544027 |\n",
       "| 1734 | FALSE | 0 | 50 |  768 | 30 | 5 | FALSE | 22.6 | 54 | 0.2177426 | 1.278352 |\n",
       "| 1735 | FALSE | 0 | 32 | 1106 | 80 | 3 | FALSE | 26.3 | 57 | 0.3159453 | 1.461871 |\n",
       "| 1736 | FALSE | 0 | 33 | 1024 | 40 | 3 | FALSE | 26.7 | 54 | 0.2831063 | 1.394907 |\n",
       "| 1737 |  TRUE | 1 | 20 | 1117 | 67 | 1 | FALSE | 19.7 | 54 | 0.3706048 | 2.698292 |\n",
       "| 1738 | FALSE | 0 | 43 |  792 | 24 | 4 | FALSE | 24.6 | 34 | 0.2146505 | 1.273318 |\n",
       "| 1739 |  TRUE | 1 | 58 |  631 | 34 | 5 |  TRUE | 23.2 | 82 | 0.1734713 | 5.764641 |\n",
       "| 1740 | FALSE | 0 | 29 | 1254 | 93 | 4 | FALSE | 30.6 | 57 | 0.3460981 | 1.529281 |\n",
       "| 1741 |  TRUE | 1 | 13 | 1094 | 86 | 3 | FALSE | 15.9 | 32 | 0.3883366 | 2.575085 |\n",
       "| 1742 | FALSE | 0 | 48 |  778 | 45 | 2 | FALSE | 16.4 | 73 | 0.2572753 | 1.346394 |\n",
       "| 1743 | FALSE | 0 | 31 |  795 | 36 | 2 | FALSE | 21.1 | 46 | 0.2350791 | 1.307325 |\n",
       "| 1744 |  TRUE | 1 | 25 |  913 | 40 | 2 | FALSE | 26.9 | 71 | 0.2409666 | 4.149953 |\n",
       "| 1745 | FALSE | 0 | 77 |  611 | 12 | 3 | FALSE | 31.1 | 63 | 0.1355462 | 1.156800 |\n",
       "| 1746 | FALSE | 0 | 22 | 1282 | 82 | 5 | FALSE | 23.2 | 45 | 0.4169681 | 1.715172 |\n",
       "| 1747 | FALSE | 0 | 33 |  859 | 49 | 3 | FALSE | 26.2 | 50 | 0.2261472 | 1.292235 |\n",
       "| 1748 | FALSE | 0 | 58 |  677 | 29 | 2 | FALSE | 24.4 | 38 | 0.1807234 | 1.220589 |\n",
       "| 1749 |  TRUE | 1 | 16 | 1010 | 59 | 1 | FALSE | 21.4 | 22 | 0.3127791 | 3.197145 |\n",
       "| 1750 | FALSE | 0 | 20 | 1304 | 72 | 4 | FALSE | 23.7 | 37 | 0.4239615 | 1.735995 |\n",
       "| 1751 | FALSE | 0 | 35 |  924 | 41 | 4 | FALSE | 23.1 | 50 | 0.2686640 | 1.367361 |\n",
       "| 1752 | FALSE | 0 | 65 |  784 | 57 | 3 | FALSE | 31.7 | 44 | 0.1740487 | 1.210725 |\n",
       "\n"
      ],
      "text/plain": [
       "     id   net   net_num malaria_risk income health household eligible\n",
       "1     1   FALSE 0       38            779   35     1         FALSE   \n",
       "2     2   FALSE 0       48            700   35     3         FALSE   \n",
       "3     3   FALSE 0       32           1083   58     3         FALSE   \n",
       "4     4   FALSE 0       55            753   68     3         FALSE   \n",
       "5     5   FALSE 0       36            919   46     5         FALSE   \n",
       "6     6   FALSE 0       30            969   37     3         FALSE   \n",
       "7     7   FALSE 0       29           1012   58     1         FALSE   \n",
       "8     8   FALSE 0       45            708   30     2         FALSE   \n",
       "9     9   FALSE 0       51            733   18     3         FALSE   \n",
       "10   10   FALSE 0       42            862   64     3         FALSE   \n",
       "11   11   FALSE 0       60            681   30     4         FALSE   \n",
       "12   12   FALSE 0       50            683   20     3         FALSE   \n",
       "13   13   FALSE 0       61            642   24     2         FALSE   \n",
       "14   14   FALSE 0       71            522    8     5          TRUE   \n",
       "15   15   FALSE 0       57            706   42     2         FALSE   \n",
       "16   16    TRUE 1       15           1251   96     4         FALSE   \n",
       "17   17   FALSE 0       49            709   66     2         FALSE   \n",
       "18   18    TRUE 1       28            892   49     2         FALSE   \n",
       "19   19    TRUE 1       18           1273   94     2         FALSE   \n",
       "20   20   FALSE 0       29           1166   70     2         FALSE   \n",
       "21   21   FALSE 0       50            818   51     2         FALSE   \n",
       "22   22    TRUE 1       17           1292   63     2         FALSE   \n",
       "23   23   FALSE 0       59            751   35     2         FALSE   \n",
       "24   24   FALSE 0       43            844   29     1         FALSE   \n",
       "25   25   FALSE 0       50            877   57     2         FALSE   \n",
       "26   26   FALSE 0       33           1006   56     4         FALSE   \n",
       "27   27   FALSE 0       59            666   35     3         FALSE   \n",
       "28   28    TRUE 1       22           1235   70     5         FALSE   \n",
       "29   29   FALSE 0       30            982   66     4         FALSE   \n",
       "30   30    TRUE 1       34            798   36     1         FALSE   \n",
       "⋮    ⋮    ⋮     ⋮       ⋮            ⋮      ⋮      ⋮         ⋮       \n",
       "1723 1723 FALSE 0       28            855   57     4         FALSE   \n",
       "1724 1724 FALSE 0       42            908   44     3         FALSE   \n",
       "1725 1725 FALSE 0       76            565   14     2         FALSE   \n",
       "1726 1726  TRUE 1       16           1104   50     2         FALSE   \n",
       "1727 1727 FALSE 0       34            900   44     2         FALSE   \n",
       "1728 1728  TRUE 1       43            699   46     3         FALSE   \n",
       "1729 1729  TRUE 1       20            875   44     3         FALSE   \n",
       "1730 1730  TRUE 1       24            799   27     3         FALSE   \n",
       "1731 1731  TRUE 1       27            909   63     4         FALSE   \n",
       "1732 1732 FALSE 0       42            843   27     3         FALSE   \n",
       "1733 1733 FALSE 0       27           1205   76     3         FALSE   \n",
       "1734 1734 FALSE 0       50            768   30     5         FALSE   \n",
       "1735 1735 FALSE 0       32           1106   80     3         FALSE   \n",
       "1736 1736 FALSE 0       33           1024   40     3         FALSE   \n",
       "1737 1737  TRUE 1       20           1117   67     1         FALSE   \n",
       "1738 1738 FALSE 0       43            792   24     4         FALSE   \n",
       "1739 1739  TRUE 1       58            631   34     5          TRUE   \n",
       "1740 1740 FALSE 0       29           1254   93     4         FALSE   \n",
       "1741 1741  TRUE 1       13           1094   86     3         FALSE   \n",
       "1742 1742 FALSE 0       48            778   45     2         FALSE   \n",
       "1743 1743 FALSE 0       31            795   36     2         FALSE   \n",
       "1744 1744  TRUE 1       25            913   40     2         FALSE   \n",
       "1745 1745 FALSE 0       77            611   12     3         FALSE   \n",
       "1746 1746 FALSE 0       22           1282   82     5         FALSE   \n",
       "1747 1747 FALSE 0       33            859   49     3         FALSE   \n",
       "1748 1748 FALSE 0       58            677   29     2         FALSE   \n",
       "1749 1749  TRUE 1       16           1010   59     1         FALSE   \n",
       "1750 1750 FALSE 0       20           1304   72     4         FALSE   \n",
       "1751 1751 FALSE 0       35            924   41     4         FALSE   \n",
       "1752 1752 FALSE 0       65            784   57     3         FALSE   \n",
       "     temperature insecticide_resistance pred      wt      \n",
       "1    18.3        38                     0.2464385 1.327032\n",
       "2    18.6        40                     0.2178480 1.278524\n",
       "3    24.2        70                     0.3230129 1.477133\n",
       "4    19.1        57                     0.2307043 1.299890\n",
       "5    21.2        59                     0.2789042 1.386778\n",
       "6    20.2        49                     0.3060484 1.441023\n",
       "7    18.9        52                     0.3316852 1.496301\n",
       "8    28.8        42                     0.1682939 1.202348\n",
       "9    19.9        66                     0.2222343 1.285734\n",
       "10   21.4        45                     0.2552082 1.342657\n",
       "11   18.1        78                     0.2147749 1.273520\n",
       "12   17.3        58                     0.2204668 1.282819\n",
       "13   19.6        64                     0.1949306 1.242129\n",
       "14   18.5        71                     0.1671888 1.200752\n",
       "15   22.1        49                     0.2002871 1.250449\n",
       "16   21.8        24                     0.4127257 2.422917\n",
       "17   27.0        41                     0.1753550 1.212643\n",
       "18   20.2        58                     0.2750030 3.636325\n",
       "19   19.9        67                     0.4384524 2.280749\n",
       "20   27.1        52                     0.3359951 1.506013\n",
       "21   21.6        62                     0.2391531 1.314325\n",
       "22   24.8        63                     0.4102860 2.437324\n",
       "23   24.4        64                     0.2022533 1.253531\n",
       "24   22.4        60                     0.2447129 1.324000\n",
       "25   28.6        47                     0.2179581 1.278704\n",
       "26   22.2        64                     0.3057211 1.440343\n",
       "27   22.4        42                     0.1871838 1.230290\n",
       "28   31.0        54                     0.3366580 2.970373\n",
       "29   18.3        42                     0.3228762 1.476835\n",
       "30   23.6        56                     0.2215637 4.513375\n",
       "⋮    ⋮           ⋮                      ⋮         ⋮       \n",
       "1723 20.8        31                     0.2568658 1.345652\n",
       "1724 27.3        44                     0.2366005 1.309930\n",
       "1725 27.1        62                     0.1407299 1.163778\n",
       "1726 26.3        45                     0.3172193 3.152393\n",
       "1727 21.2        45                     0.2718036 1.373256\n",
       "1728 22.1        56                     0.1979520 5.051731\n",
       "1729 18.8        50                     0.2780775 3.596120\n",
       "1730 22.8        50                     0.2269918 4.405446\n",
       "1731 18.9        46                     0.2893342 3.456211\n",
       "1732 21.0        65                     0.2531086 1.338883\n",
       "1733 27.1        48                     0.3523428 1.544027\n",
       "1734 22.6        54                     0.2177426 1.278352\n",
       "1735 26.3        57                     0.3159453 1.461871\n",
       "1736 26.7        54                     0.2831063 1.394907\n",
       "1737 19.7        54                     0.3706048 2.698292\n",
       "1738 24.6        34                     0.2146505 1.273318\n",
       "1739 23.2        82                     0.1734713 5.764641\n",
       "1740 30.6        57                     0.3460981 1.529281\n",
       "1741 15.9        32                     0.3883366 2.575085\n",
       "1742 16.4        73                     0.2572753 1.346394\n",
       "1743 21.1        46                     0.2350791 1.307325\n",
       "1744 26.9        71                     0.2409666 4.149953\n",
       "1745 31.1        63                     0.1355462 1.156800\n",
       "1746 23.2        45                     0.4169681 1.715172\n",
       "1747 26.2        50                     0.2261472 1.292235\n",
       "1748 24.4        38                     0.1807234 1.220589\n",
       "1749 21.4        22                     0.3127791 3.197145\n",
       "1750 23.7        37                     0.4239615 1.735995\n",
       "1751 23.1        50                     0.2686640 1.367361\n",
       "1752 31.7        44                     0.1740487 1.210725"
      ]
     },
     "metadata": {},
     "output_type": "display_data"
    }
   ],
   "source": [
    "library(modelr)\n",
    "\n",
    "net_data %>% add_predictions(propensity_model, type=\"response\") %>% \n",
    "    mutate(wt = 1 / (net * pred + (1 - net) * (1 - pred))) ->\n",
    "    net_data_wts\n",
    "\n",
    "net_data_wts"
   ]
  },
  {
   "cell_type": "markdown",
   "id": "54632901",
   "metadata": {
    "slideshow": {
     "slide_type": "slide"
    }
   },
   "source": [
    "## Diagnostics\n",
    "- The idea of propensity scoring is to weight the observations such that the distribution of confounders is equal between the two groups.\n",
    "- We can (sort of) check this by visualizing the weighted and unweighted covariates."
   ]
  },
  {
   "cell_type": "code",
   "execution_count": 26,
   "id": "f1663d01",
   "metadata": {
    "slideshow": {
     "slide_type": "slide"
    }
   },
   "outputs": [
    {
     "name": "stderr",
     "output_type": "stream",
     "text": [
      "\u001b[1m\u001b[22m`stat_bin()` using `bins = 30`. Pick better value with `binwidth`.\n"
     ]
    },
    {
     "data": {
      "image/png": "[encoded data removed]",
      "text/plain": [
       "plot without title"
      ]
     },
     "metadata": {
      "image/png": {
       "height": 360,
       "width": 600
      }
     },
     "output_type": "display_data"
    }
   ],
   "source": [
    "net_data_wts %>% ggplot + geom_histogram(aes(x = pred, y = ..density.., weight=wt, fill=net))"
   ]
  },
  {
   "cell_type": "code",
   "execution_count": 27,
   "id": "d5b4d7b0",
   "metadata": {
    "slideshow": {
     "slide_type": "slide"
    }
   },
   "outputs": [
    {
     "name": "stderr",
     "output_type": "stream",
     "text": [
      "\u001b[1m\u001b[22m`stat_mirror_count()` using `bins = 30`. Pick better value with `binwidth`.\n"
     ]
    },
    {
     "data": {
      "image/png": "[encoded data removed]",
      "text/plain": [
       "plot without title"
      ]
     },
     "metadata": {
      "image/png": {
       "height": 360,
       "width": 600
      }
     },
     "output_type": "display_data"
    }
   ],
   "source": [
    "library(halfmoon)\n",
    "net_data_wts %>% ggplot + geom_mirror_histogram(aes(x = pred, fill = net, weight = wt))"
   ]
  },
  {
   "cell_type": "markdown",
   "id": "f2ce25b3",
   "metadata": {
    "slideshow": {
     "slide_type": "slide"
    }
   },
   "source": [
    "## Covariate balance\n",
    "\n",
    "- The standardized (mean) difference measures distance between two group means:\n",
    "\n",
    "$$ \\text{SMD} = \\frac{\\bar{X}_1 - \\bar{X}_2}{\\sigma_\\text{pooled}} $$\n",
    "- Can be used to measure of covariate balance before and after propensity score matching.\n",
    "- (After matching, you need to use weighted means and variances of course.)"
   ]
  },
  {
   "cell_type": "code",
   "execution_count": 28,
   "id": "9a0447ea",
   "metadata": {
    "slideshow": {
     "slide_type": "slide"
    }
   },
   "outputs": [],
   "source": [
    "smd <- function(x1, x2, w1 = NULL, w2 = NULL) {\n",
    "    n1 <- length(x1)\n",
    "    n2 <- length(x2)\n",
    "    mu1 <- Hmisc::wtd.mean(x1, w1)\n",
    "    mu2 <- Hmisc::wtd.mean(x2, w2)\n",
    "    v1 <- Hmisc::wtd.var(x1, w1)\n",
    "    v2 <- Hmisc::wtd.var(x2, w2)\n",
    "    sd_pooled <- sqrt(((n1 - 1) * v1 + (n2 - 1) * v2) / (n1 + n2 - 2))\n",
    "    abs(mu1 - mu2) / sd_pooled\n",
    "}"
   ]
  },
  {
   "cell_type": "code",
   "execution_count": 29,
   "id": "714f9567",
   "metadata": {
    "scrolled": true,
    "slideshow": {
     "slide_type": "slide"
    }
   },
   "outputs": [
    {
     "data": {
      "text/html": [
       "0.0141339773434336"
      ],
      "text/latex": [
       "0.0141339773434336"
      ],
      "text/markdown": [
       "0.0141339773434336"
      ],
      "text/plain": [
       "[1] 0.01413398"
      ]
     },
     "metadata": {},
     "output_type": "display_data"
    }
   ],
   "source": [
    "e <- net_data_wts$net\n",
    "w <- net_data_wts$wt\n",
    "\n",
    "smd(net_data_wts$health[e], net_data_wts$health[!e], w[e], w[!e])"
   ]
  },
  {
   "cell_type": "code",
   "execution_count": 30,
   "id": "85ea802e",
   "metadata": {
    "slideshow": {
     "slide_type": "notes"
    }
   },
   "outputs": [],
   "source": [
    "plot_df <- tidy_smd(\n",
    "  net_data_wts,\n",
    "  c(income, health, temperature),\n",
    "  .group = net,\n",
    "  .wts = wt\n",
    ")"
   ]
  },
  {
   "cell_type": "code",
   "execution_count": 31,
   "id": "9253382c",
   "metadata": {
    "slideshow": {
     "slide_type": "slide"
    }
   },
   "outputs": [
    {
     "data": {
      "image/png": "[encoded data removed]",
      "text/plain": [
       "plot without title"
      ]
     },
     "metadata": {
      "image/png": {
       "height": 360,
       "width": 600
      }
     },
     "output_type": "display_data"
    }
   ],
   "source": [
    "ggplot(plot_df, aes(x=abs(smd), y=variable, group=method, color=method)) + geom_love()"
   ]
  },
  {
   "cell_type": "markdown",
   "id": "5dd21834",
   "metadata": {
    "slideshow": {
     "slide_type": "slide"
    }
   },
   "source": [
    "## Estimating the causal effect\n",
    "\n",
    "Now we can use weighted least squares to estimate the average treatment effect:"
   ]
  },
  {
   "cell_type": "code",
   "execution_count": 32,
   "id": "1e6c4f32",
   "metadata": {
    "slideshow": {
     "slide_type": "-"
    }
   },
   "outputs": [
    {
     "data": {
      "text/html": [
       "<table class=\"dataframe\">\n",
       "<caption>A tibble: 2 × 7</caption>\n",
       "<thead>\n",
       "\t<tr><th scope=col>term</th><th scope=col>estimate</th><th scope=col>std.error</th><th scope=col>statistic</th><th scope=col>p.value</th><th scope=col>conf.low</th><th scope=col>conf.high</th></tr>\n",
       "\t<tr><th scope=col>&lt;chr&gt;</th><th scope=col>&lt;dbl&gt;</th><th scope=col>&lt;dbl&gt;</th><th scope=col>&lt;dbl&gt;</th><th scope=col>&lt;dbl&gt;</th><th scope=col>&lt;dbl&gt;</th><th scope=col>&lt;dbl&gt;</th></tr>\n",
       "</thead>\n",
       "<tbody>\n",
       "\t<tr><td>(Intercept)</td><td> 42.73968</td><td>0.4420108</td><td> 96.69376</td><td>0.00000e+00</td><td> 41.87276</td><td> 43.60661</td></tr>\n",
       "\t<tr><td>netTRUE    </td><td>-12.54476</td><td>0.6242525</td><td>-20.09565</td><td>5.49782e-81</td><td>-13.76912</td><td>-11.32040</td></tr>\n",
       "</tbody>\n",
       "</table>\n"
      ],
      "text/latex": [
       "A tibble: 2 × 7\n",
       "\\begin{tabular}{lllllll}\n",
       " term & estimate & std.error & statistic & p.value & conf.low & conf.high\\\\\n",
       " <chr> & <dbl> & <dbl> & <dbl> & <dbl> & <dbl> & <dbl>\\\\\n",
       "\\hline\n",
       "\t (Intercept) &  42.73968 & 0.4420108 &  96.69376 & 0.00000e+00 &  41.87276 &  43.60661\\\\\n",
       "\t netTRUE     & -12.54476 & 0.6242525 & -20.09565 & 5.49782e-81 & -13.76912 & -11.32040\\\\\n",
       "\\end{tabular}\n"
      ],
      "text/markdown": [
       "\n",
       "A tibble: 2 × 7\n",
       "\n",
       "| term &lt;chr&gt; | estimate &lt;dbl&gt; | std.error &lt;dbl&gt; | statistic &lt;dbl&gt; | p.value &lt;dbl&gt; | conf.low &lt;dbl&gt; | conf.high &lt;dbl&gt; |\n",
       "|---|---|---|---|---|---|---|\n",
       "| (Intercept) |  42.73968 | 0.4420108 |  96.69376 | 0.00000e+00 |  41.87276 |  43.60661 |\n",
       "| netTRUE     | -12.54476 | 0.6242525 | -20.09565 | 5.49782e-81 | -13.76912 | -11.32040 |\n",
       "\n"
      ],
      "text/plain": [
       "  term        estimate  std.error statistic p.value     conf.low  conf.high\n",
       "1 (Intercept)  42.73968 0.4420108  96.69376 0.00000e+00  41.87276  43.60661\n",
       "2 netTRUE     -12.54476 0.6242525 -20.09565 5.49782e-81 -13.76912 -11.32040"
      ]
     },
     "metadata": {},
     "output_type": "display_data"
    }
   ],
   "source": [
    "library(broom)\n",
    "net_data_wts %>% \n",
    "  lm(malaria_risk ~ net, data = ., weights = wt) %>% \n",
    "  tidy(conf.int = T)"
   ]
  },
  {
   "cell_type": "markdown",
   "id": "909f9670",
   "metadata": {
    "slideshow": {
     "slide_type": "notes"
    }
   },
   "source": [
    "Are there any potential issues with this regression?\n",
    "- We've used the data twice (how?).\n",
    "- The weights themselves are random variables and they are not independent.\n",
    "- The confidence intervals will therefore be to narrow (overconfident)."
   ]
  },
  {
   "cell_type": "markdown",
   "id": "a939c4ae",
   "metadata": {
    "slideshow": {
     "slide_type": "slide"
    }
   },
   "source": [
    "## Bootstrapping standard errors\n",
    "- Getting a formula for the correct confidence intervals is difficult (though possible in this case).\n",
    "- A better solution is to use the bootstrap."
   ]
  },
  {
   "cell_type": "code",
   "execution_count": 33,
   "id": "1619bb66",
   "metadata": {
    "slideshow": {
     "slide_type": "slide"
    }
   },
   "outputs": [],
   "source": [
    "library(rsample)\n",
    "\n",
    "fit_ipw_1 <- function(split, ...) {\n",
    "  # get bootstrapped data sample with `rsample::analysis()`\n",
    "  .df <- analysis(split)\n",
    "\n",
    "  # fit ipw model\n",
    "  lm(malaria_risk ~ net, data = .df, weights = wt) %>% \n",
    "    tidy()\n",
    "}"
   ]
  },
  {
   "cell_type": "code",
   "execution_count": 34,
   "id": "c44d6342",
   "metadata": {
    "slideshow": {
     "slide_type": "slide"
    }
   },
   "outputs": [],
   "source": [
    "bootstrapped_net_data <- bootstraps(\n",
    "  net_data_wts,\n",
    "  times = 1000,\n",
    "  # required to calculate CIs later\n",
    "  apparent=T,\n",
    ")"
   ]
  },
  {
   "cell_type": "code",
   "execution_count": 23,
   "id": "d775ab5a",
   "metadata": {
    "slideshow": {
     "slide_type": "slide"
    }
   },
   "outputs": [],
   "source": [
    "ipw_results <- bootstrapped_net_data %>% mutate(boot_fits = map(splits, fit_ipw_1))\n",
    "\n"
   ]
  },
  {
   "cell_type": "code",
   "execution_count": null,
   "id": "35fbfb96",
   "metadata": {},
   "outputs": [],
   "source": [
    "ipw_results %>% mutate(estimate = map_dbl(\n",
    "    boot_fits,\n",
    "    \\(fit) fit %>% filter(term == 'netTRUE') %>% \n",
    "    pull(estimate))) %>% \n",
    "    ggplot + geom_histogram(aes(x=estimate))"
   ]
  },
  {
   "cell_type": "code",
   "execution_count": 22,
   "id": "23deadd6",
   "metadata": {
    "scrolled": true,
    "slideshow": {
     "slide_type": "slide"
    }
   },
   "outputs": [
    {
     "ename": "ERROR",
     "evalue": "Error in int_pctl(., boot_fits): object 'ipw_results' not found\n",
     "output_type": "error",
     "traceback": [
      "Error in int_pctl(., boot_fits): object 'ipw_results' not found\nTraceback:\n",
      "1. ipw_results %>% int_pctl(boot_fits) %>% filter(term == \"netTRUE\")",
      "2. filter(., term == \"netTRUE\")",
      "3. int_pctl(., boot_fits)"
     ]
    }
   ],
   "source": [
    "boot_estimates <- ipw_results %>% int_pctl(boot_fits) %>% filter(term == \"netTRUE\")\n",
    "boot_estimates"
   ]
  },
  {
   "cell_type": "code",
   "execution_count": 30,
   "id": "dda9089c",
   "metadata": {
    "slideshow": {
     "slide_type": "slide"
    }
   },
   "outputs": [],
   "source": [
    "fit_ipw_2 <- function(split, ...) {\n",
    "  # get bootstrapped data sample with `rsample::analysis()`\n",
    "  .df <- analysis(split)\n",
    "    \n",
    "  # fit propensity model\n",
    "  propensity_model <- glm(\n",
    "    net ~ income + health + temperature,\n",
    "    data = net_data,\n",
    "    family = binomial()\n",
    "  )\n",
    "\n",
    "  .df <- add_predictions(.df, propensity_model, type = \"response\") %>% \n",
    "         mutate(wt = 1 / (net * pred + (1 - net) * (1 - pred)))\n",
    "    \n",
    "  # fit ipw model\n",
    "   lm(malaria_risk ~ net, data = .df, weights = wt) %>% \n",
    "    tidy()\n",
    "}"
   ]
  },
  {
   "cell_type": "code",
   "execution_count": null,
   "id": "76c1833b",
   "metadata": {},
   "outputs": [],
   "source": []
  },
  {
   "cell_type": "markdown",
   "id": "58ad03de",
   "metadata": {
    "slideshow": {
     "slide_type": "slide"
    }
   },
   "source": [
    "## Sensitivity analysis\n",
    "- The above analysis is correct as far is the assumptions we made going in hold.\n",
    "- What were those assumptions?"
   ]
  },
  {
   "cell_type": "markdown",
   "id": "867e898c",
   "metadata": {
    "slideshow": {
     "slide_type": "slide"
    }
   },
   "source": [
    "Let's suppose we indeed have an unmeasured confounder. We will ask the question:\n",
    "    \n",
    "> How much would the confounder have to affect malaria risk before we fail to reject the null?"
   ]
  },
  {
   "cell_type": "code",
   "execution_count": 44,
   "id": "d348e55d",
   "metadata": {},
   "outputs": [
    {
     "name": "stderr",
     "output_type": "stream",
     "text": [
      "\u001b[1m\u001b[22m\u001b[36mℹ\u001b[39m The observed effect (-11.09, -11.09, -11.09, -11.09, and -11.09) WOULD be tipped by 1, 1, 1, 1, and 1 unmeasured confounder,\n",
      "  , , , and with the following specifications:\n",
      "\u001b[36m•\u001b[39m estimated difference in scaled means between the unmeasured confounder in the exposed population and unexposed population: 1,\n",
      "  2, 3, 4, and 5\n",
      "\u001b[36m•\u001b[39m estimated relationship between the unmeasured confounder and the outcome: -11.09, -5.55, -3.7, -2.77, and -2.22\n"
     ]
    },
    {
     "data": {
      "text/html": [
       "<table class=\"dataframe\">\n",
       "<caption>A tibble: 5 × 4</caption>\n",
       "<thead>\n",
       "\t<tr><th scope=col>effect_observed</th><th scope=col>exposure_confounder_effect</th><th scope=col>confounder_outcome_effect</th><th scope=col>n_unmeasured_confounders</th></tr>\n",
       "\t<tr><th scope=col>&lt;dbl&gt;</th><th scope=col>&lt;int&gt;</th><th scope=col>&lt;dbl&gt;</th><th scope=col>&lt;dbl&gt;</th></tr>\n",
       "</thead>\n",
       "<tbody>\n",
       "\t<tr><td>-11.09166</td><td>1</td><td>-11.091663</td><td>1</td></tr>\n",
       "\t<tr><td>-11.09166</td><td>2</td><td> -5.545832</td><td>1</td></tr>\n",
       "\t<tr><td>-11.09166</td><td>3</td><td> -3.697221</td><td>1</td></tr>\n",
       "\t<tr><td>-11.09166</td><td>4</td><td> -2.772916</td><td>1</td></tr>\n",
       "\t<tr><td>-11.09166</td><td>5</td><td> -2.218333</td><td>1</td></tr>\n",
       "</tbody>\n",
       "</table>\n"
      ],
      "text/latex": [
       "A tibble: 5 × 4\n",
       "\\begin{tabular}{llll}\n",
       " effect\\_observed & exposure\\_confounder\\_effect & confounder\\_outcome\\_effect & n\\_unmeasured\\_confounders\\\\\n",
       " <dbl> & <int> & <dbl> & <dbl>\\\\\n",
       "\\hline\n",
       "\t -11.09166 & 1 & -11.091663 & 1\\\\\n",
       "\t -11.09166 & 2 &  -5.545832 & 1\\\\\n",
       "\t -11.09166 & 3 &  -3.697221 & 1\\\\\n",
       "\t -11.09166 & 4 &  -2.772916 & 1\\\\\n",
       "\t -11.09166 & 5 &  -2.218333 & 1\\\\\n",
       "\\end{tabular}\n"
      ],
      "text/markdown": [
       "\n",
       "A tibble: 5 × 4\n",
       "\n",
       "| effect_observed &lt;dbl&gt; | exposure_confounder_effect &lt;int&gt; | confounder_outcome_effect &lt;dbl&gt; | n_unmeasured_confounders &lt;dbl&gt; |\n",
       "|---|---|---|---|\n",
       "| -11.09166 | 1 | -11.091663 | 1 |\n",
       "| -11.09166 | 2 |  -5.545832 | 1 |\n",
       "| -11.09166 | 3 |  -3.697221 | 1 |\n",
       "| -11.09166 | 4 |  -2.772916 | 1 |\n",
       "| -11.09166 | 5 |  -2.218333 | 1 |\n",
       "\n"
      ],
      "text/plain": [
       "  effect_observed exposure_confounder_effect confounder_outcome_effect\n",
       "1 -11.09166       1                          -11.091663               \n",
       "2 -11.09166       2                           -5.545832               \n",
       "3 -11.09166       3                           -3.697221               \n",
       "4 -11.09166       4                           -2.772916               \n",
       "5 -11.09166       5                           -2.218333               \n",
       "  n_unmeasured_confounders\n",
       "1 1                       \n",
       "2 1                       \n",
       "3 1                       \n",
       "4 1                       \n",
       "5 1                       "
      ]
     },
     "metadata": {},
     "output_type": "display_data"
    }
   ],
   "source": [
    "library(tipr)\n",
    "tipping_points <- tip_coef(boot_estimates$.upper, exposure_confounder_effect = 1:5)\n",
    "tipping_points"
   ]
  },
  {
   "cell_type": "code",
   "execution_count": 47,
   "id": "41259d5a",
   "metadata": {
    "slideshow": {
     "slide_type": "slide"
    }
   },
   "outputs": [
    {
     "data": {
      "image/png": "[encoded data removed]",
      "text/plain": [
       "plot without title"
      ]
     },
     "metadata": {
      "image/png": {
       "height": 360,
       "width": 600
      }
     },
     "output_type": "display_data"
    }
   ],
   "source": [
    "tipping_points %>% \n",
    "  ggplot(aes(confounder_outcome_effect, exposure_confounder_effect)) +\n",
    "  geom_line(color = \"#009E73\", linewidth = 1.1) +\n",
    "  geom_point(fill = \"#009E73\", color = \"white\", size = 2.5, shape = 21) +\n",
    "  labs(\n",
    "    x = \"Confounder-Outcome Effect\",\n",
    "    y = \"Scaled mean differences in\\n confounder between exposure groups\"\n",
    "  )"
   ]
  },
  {
   "cell_type": "markdown",
   "id": "07059fca",
   "metadata": {
    "slideshow": {
     "slide_type": "slide"
    }
   },
   "source": [
    "## Malaria resistance\n",
    "- Some ethnic group have a genetic resistance to malaria.\n",
    "- Let’s say that in our simulated data,\n",
    "  - People with this genetic resistance have, on average, a lower malaria risk by about 10 points.\n",
    "  - About 26% of people who use nets in our study have this genetic resistance.\n",
    "  - About 5% of people who don’t use nets have this genetic resistance."
   ]
  },
  {
   "cell_type": "code",
   "execution_count": 48,
   "id": "bdb43bd8",
   "metadata": {
    "slideshow": {
     "slide_type": "slide"
    }
   },
   "outputs": [
    {
     "name": "stderr",
     "output_type": "stream",
     "text": [
      "\u001b[1m\u001b[22m\u001b[36mℹ\u001b[39m The observed effect (-12.54, -14.02, and -11.09) is updated to -10.44, -11.92, and -8.99 by a confounder with the following\n",
      "  specifications:\n",
      "\u001b[36m•\u001b[39m estimated prevalence of the unmeasured confounder in the exposed population: 0.26\n",
      "\u001b[36m•\u001b[39m estimated prevalence of the unmeasured confounder in the unexposed population: 0.05\n",
      "\u001b[36m•\u001b[39m estimated relationship between the unmeasured confounder and the outcome: -10\n"
     ]
    },
    {
     "data": {
      "text/html": [
       "<table class=\"dataframe\">\n",
       "<caption>A tibble: 3 × 4</caption>\n",
       "<thead>\n",
       "\t<tr><th scope=col>effect_adjusted</th><th scope=col>effect_observed</th><th scope=col>exposure_confounder_effect</th><th scope=col>confounder_outcome_effect</th></tr>\n",
       "\t<tr><th scope=col>&lt;dbl&gt;</th><th scope=col>&lt;dbl&gt;</th><th scope=col>&lt;dbl&gt;</th><th scope=col>&lt;dbl&gt;</th></tr>\n",
       "</thead>\n",
       "<tbody>\n",
       "\t<tr><td>-10.438454</td><td>-12.53845</td><td>0.21</td><td>-10</td></tr>\n",
       "\t<tr><td>-11.920533</td><td>-14.02053</td><td>0.21</td><td>-10</td></tr>\n",
       "\t<tr><td> -8.991663</td><td>-11.09166</td><td>0.21</td><td>-10</td></tr>\n",
       "</tbody>\n",
       "</table>\n"
      ],
      "text/latex": [
       "A tibble: 3 × 4\n",
       "\\begin{tabular}{llll}\n",
       " effect\\_adjusted & effect\\_observed & exposure\\_confounder\\_effect & confounder\\_outcome\\_effect\\\\\n",
       " <dbl> & <dbl> & <dbl> & <dbl>\\\\\n",
       "\\hline\n",
       "\t -10.438454 & -12.53845 & 0.21 & -10\\\\\n",
       "\t -11.920533 & -14.02053 & 0.21 & -10\\\\\n",
       "\t  -8.991663 & -11.09166 & 0.21 & -10\\\\\n",
       "\\end{tabular}\n"
      ],
      "text/markdown": [
       "\n",
       "A tibble: 3 × 4\n",
       "\n",
       "| effect_adjusted &lt;dbl&gt; | effect_observed &lt;dbl&gt; | exposure_confounder_effect &lt;dbl&gt; | confounder_outcome_effect &lt;dbl&gt; |\n",
       "|---|---|---|---|\n",
       "| -10.438454 | -12.53845 | 0.21 | -10 |\n",
       "| -11.920533 | -14.02053 | 0.21 | -10 |\n",
       "|  -8.991663 | -11.09166 | 0.21 | -10 |\n",
       "\n"
      ],
      "text/plain": [
       "  effect_adjusted effect_observed exposure_confounder_effect\n",
       "1 -10.438454      -12.53845       0.21                      \n",
       "2 -11.920533      -14.02053       0.21                      \n",
       "3  -8.991663      -11.09166       0.21                      \n",
       "  confounder_outcome_effect\n",
       "1 -10                      \n",
       "2 -10                      \n",
       "3 -10                      "
      ]
     },
     "metadata": {},
     "output_type": "display_data"
    }
   ],
   "source": [
    "adjusted_estimates <- boot_estimates |>\n",
    "  select(.estimate, .lower, .upper) |>\n",
    "  unlist() |>\n",
    "  adjust_coef_with_binary(\n",
    "    exposed_confounder_prev = 0.26,\n",
    "    unexposed_confounder_prev = 0.05,\n",
    "    confounder_outcome_effect = -10\n",
    "  )\n",
    "\n",
    "adjusted_estimates"
   ]
  },
  {
   "cell_type": "markdown",
   "id": "6cf054a8",
   "metadata": {
    "slideshow": {
     "slide_type": "slide"
    }
   },
   "source": [
    "![true causal](https://www.r-causal.org/chapters/02-whole-game_files/figure-html/fig-net-data-true-dag-1.png)"
   ]
  }
 ],
 "metadata": {
  "celltoolbar": "Slideshow",
  "jupytext": {
   "formats": "ipynb,md:myst",
   "notebook_metadata_filter": "all"
  },
  "kernelspec": {
   "display_name": "R",
   "language": "R",
   "name": "ir"
  },
  "language_info": {
   "codemirror_mode": "r",
   "file_extension": ".r",
   "mimetype": "text/x-r-source",
   "name": "R",
   "pygments_lexer": "r",
   "version": "4.2.1"
  },
  "rise": {
   "auto_select": "none",
   "autolaunch": true,
   "center": false,
   "controls": false,
   "enable_chalkboard": true,
   "progress": false,
   "scroll": true,
   "slideNumber": false,
   "theme": "simple",
   "transition": "none"
  },
  "toc-showtags": true
 },
 "nbformat": 4,
 "nbformat_minor": 5
}
