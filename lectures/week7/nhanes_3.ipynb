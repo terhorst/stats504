{
 "cells": [
  {
   "cell_type": "code",
   "execution_count": 43,
   "id": "b946f82a",
   "metadata": {},
   "outputs": [],
   "source": [
    "library(tidyverse)\n",
    "theme_set(theme_classic())\n",
    "options(repr.plot.width=10, repr.plot.height=5, repr.plot.dpi=300)"
   ]
  },
  {
   "cell_type": "markdown",
   "id": "c98ea908",
   "metadata": {
    "slideshow": {
     "slide_type": "slide"
    }
   },
   "source": [
    "# STATS 504\n",
    "## Week 7: NHANES and CVD"
   ]
  },
  {
   "cell_type": "code",
   "execution_count": 55,
   "id": "095c1107",
   "metadata": {
    "slideshow": {
     "slide_type": "slide"
    }
   },
   "outputs": [
    {
     "data": {
      "text/html": [
       "<table class=\"dataframe\">\n",
       "<caption>A data.frame: 46 × 2</caption>\n",
       "<thead>\n",
       "\t<tr><th></th><th scope=col>Variable.Name</th><th scope=col>Variable.Description</th></tr>\n",
       "\t<tr><th></th><th scope=col>&lt;chr&gt;</th><th scope=col>&lt;chr&gt;</th></tr>\n",
       "</thead>\n",
       "<tbody>\n",
       "\t<tr><th scope=row>1</th><td>AIALANGA</td><td>Language of the MEC ACASI Interview Instrument                                                                                  </td></tr>\n",
       "\t<tr><th scope=row>2</th><td>DMDBORN4</td><td>In what country {were you/was SP} born?                                                                                         </td></tr>\n",
       "\t<tr><th scope=row>3</th><td>DMDCITZN</td><td>{Are you/Is SP} a citizen of the United States? [Information about citizenship is being collected by the U.S. Public Health Serv</td></tr>\n",
       "\t<tr><th scope=row>4</th><td>DMDEDUC2</td><td>What is the highest grade or level of school {you have/SP has} completed or the highest degree {you have/s/he has} received?    </td></tr>\n",
       "\t<tr><th scope=row>5</th><td>DMDEDUC3</td><td>What is the highest grade or level of school {you have/SP has} completed or the highest degree {you have/s/he has} received?    </td></tr>\n",
       "\t<tr><th scope=row>6</th><td>DMDFMSIZ</td><td>Total number of people in the Family                                                                                            </td></tr>\n",
       "\t<tr><th scope=row>7</th><td>DMDHHSIZ</td><td>Total number of people in the Household                                                                                         </td></tr>\n",
       "\t<tr><th scope=row>8</th><td>DMDHHSZA</td><td>Number of children aged 5 years or younger in the household                                                                     </td></tr>\n",
       "\t<tr><th scope=row>9</th><td>DMDHHSZB</td><td>Number of children aged 6-17 years old in the household                                                                         </td></tr>\n",
       "\t<tr><th scope=row>10</th><td>DMDHHSZE</td><td>Number of adults aged 60 years or older in the household                                                                        </td></tr>\n",
       "\t<tr><th scope=row>11</th><td>DMDHRAGZ</td><td>HH reference person's age in years                                                                                              </td></tr>\n",
       "\t<tr><th scope=row>12</th><td>DMDHREDZ</td><td>HH reference person's education level                                                                                           </td></tr>\n",
       "\t<tr><th scope=row>13</th><td>DMDHRGND</td><td>HH reference person's gender                                                                                                    </td></tr>\n",
       "\t<tr><th scope=row>14</th><td>DMDHRMAZ</td><td>HH reference person's marital status                                                                                            </td></tr>\n",
       "\t<tr><th scope=row>15</th><td>DMDHSEDZ</td><td>HH reference person's spouse's education level                                                                                  </td></tr>\n",
       "\t<tr><th scope=row>16</th><td>DMDMARTL</td><td>Marital status                                                                                                                  </td></tr>\n",
       "\t<tr><th scope=row>17</th><td>DMDYRSUS</td><td>Length of time the participant has been in the US.                                                                              </td></tr>\n",
       "\t<tr><th scope=row>18</th><td>DMQADFC </td><td>Did {you/SP} ever serve in a foreign country during a time of armed conflict or on a humanitarian or peace-keeping mission? (Thi</td></tr>\n",
       "\t<tr><th scope=row>19</th><td>DMQMILIZ</td><td>{Have you/Has SP} ever served on active duty in the U.S. Armed Forces, military Reserves, or National Guard? (Active duty does n</td></tr>\n",
       "\t<tr><th scope=row>20</th><td>FIAINTRP</td><td>Was an interpreter used to conduct the Family interview?                                                                        </td></tr>\n",
       "\t<tr><th scope=row>21</th><td>FIALANG </td><td>Language of the Family Interview Instrument                                                                                     </td></tr>\n",
       "\t<tr><th scope=row>22</th><td>FIAPROXY</td><td>Was a Proxy respondent used in conducting the Family Interview?                                                                 </td></tr>\n",
       "\t<tr><th scope=row>23</th><td>INDFMIN2</td><td>Total family income (reported as a range value in dollars)                                                                      </td></tr>\n",
       "\t<tr><th scope=row>24</th><td>INDFMPIR</td><td>A ratio of family income to poverty guidelines.                                                                                 </td></tr>\n",
       "\t<tr><th scope=row>25</th><td>INDHHIN2</td><td>Total household income (reported as a range value in dollars)                                                                   </td></tr>\n",
       "\t<tr><th scope=row>26</th><td>MIAINTRP</td><td>Was an interpreter used to conduct the MEC CAPI interview?                                                                      </td></tr>\n",
       "\t<tr><th scope=row>27</th><td>MIALANG </td><td>Language of the MEC CAPI Interview Instrument                                                                                   </td></tr>\n",
       "\t<tr><th scope=row>28</th><td>MIAPROXY</td><td>Was a Proxy respondent used in conducting the MEC CAPI Interview?                                                               </td></tr>\n",
       "\t<tr><th scope=row>29</th><td>RIAGENDR</td><td>Gender of the participant.                                                                                                      </td></tr>\n",
       "\t<tr><th scope=row>30</th><td>RIDAGEMN</td><td>Age in months of the participant at the time of screening. Reported for persons aged 24 months or younger at the time of exam (o</td></tr>\n",
       "\t<tr><th scope=row>31</th><td>RIDAGEYR</td><td>Age in years of the participant at the time of screening. Individuals 80 and over are topcoded at 80 years of age.              </td></tr>\n",
       "\t<tr><th scope=row>32</th><td>RIDEXAGM</td><td>Age in months of the participant at the time of examination. Reported for persons aged 19 years or younger at the time of examin</td></tr>\n",
       "\t<tr><th scope=row>33</th><td>RIDEXMON</td><td>Six month time period when the examination was performed - two categories: November 1 through April 30, May 1 through October 31</td></tr>\n",
       "\t<tr><th scope=row>34</th><td>RIDEXPRG</td><td>Pregnancy status for females between 20 and 44 years of age at the time of MEC exam.                                            </td></tr>\n",
       "\t<tr><th scope=row>35</th><td>RIDRETH1</td><td>Recode of reported race and Hispanic origin information                                                                         </td></tr>\n",
       "\t<tr><th scope=row>36</th><td>RIDRETH3</td><td>Recode of reported race and Hispanic origin information, with Non-Hispanic Asian Category                                       </td></tr>\n",
       "\t<tr><th scope=row>37</th><td>RIDSTATR</td><td>Interview and examination status of the participant.                                                                            </td></tr>\n",
       "\t<tr><th scope=row>38</th><td>SDDSRVYR</td><td>Data release cycle                                                                                                              </td></tr>\n",
       "\t<tr><th scope=row>39</th><td>SDMVPSU </td><td>Masked variance unit pseudo-PSU variable for variance estimation                                                                </td></tr>\n",
       "\t<tr><th scope=row>40</th><td>SDMVSTRA</td><td>Masked variance unit pseudo-stratum variable for variance estimation                                                            </td></tr>\n",
       "\t<tr><th scope=row>41</th><td>SEQN    </td><td>Respondent sequence number.                                                                                                     </td></tr>\n",
       "\t<tr><th scope=row>42</th><td>SIAINTRP</td><td>Was an interpreter used to conduct the Sample Person (SP) interview?                                                            </td></tr>\n",
       "\t<tr><th scope=row>43</th><td>SIALANG </td><td>Language of the Sample Person Interview Instrument                                                                              </td></tr>\n",
       "\t<tr><th scope=row>44</th><td>SIAPROXY</td><td>Was a Proxy respondent used in conducting the Sample Person (SP) interview?                                                     </td></tr>\n",
       "\t<tr><th scope=row>45</th><td>WTINT2YR</td><td>Full sample 2 year interview weight.                                                                                            </td></tr>\n",
       "\t<tr><th scope=row>46</th><td>WTMEC2YR</td><td>Full sample 2 year MEC exam weight.                                                                                             </td></tr>\n",
       "</tbody>\n",
       "</table>\n"
      ],
      "text/latex": [
       "A data.frame: 46 × 2\n",
       "\\begin{tabular}{r|ll}\n",
       "  & Variable.Name & Variable.Description\\\\\n",
       "  & <chr> & <chr>\\\\\n",
       "\\hline\n",
       "\t1 & AIALANGA & Language of the MEC ACASI Interview Instrument                                                                                  \\\\\n",
       "\t2 & DMDBORN4 & In what country \\{were you/was SP\\} born?                                                                                         \\\\\n",
       "\t3 & DMDCITZN & \\{Are you/Is SP\\} a citizen of the United States? {[}Information about citizenship is being collected by the U.S. Public Health Serv\\\\\n",
       "\t4 & DMDEDUC2 & What is the highest grade or level of school \\{you have/SP has\\} completed or the highest degree \\{you have/s/he has\\} received?    \\\\\n",
       "\t5 & DMDEDUC3 & What is the highest grade or level of school \\{you have/SP has\\} completed or the highest degree \\{you have/s/he has\\} received?    \\\\\n",
       "\t6 & DMDFMSIZ & Total number of people in the Family                                                                                            \\\\\n",
       "\t7 & DMDHHSIZ & Total number of people in the Household                                                                                         \\\\\n",
       "\t8 & DMDHHSZA & Number of children aged 5 years or younger in the household                                                                     \\\\\n",
       "\t9 & DMDHHSZB & Number of children aged 6-17 years old in the household                                                                         \\\\\n",
       "\t10 & DMDHHSZE & Number of adults aged 60 years or older in the household                                                                        \\\\\n",
       "\t11 & DMDHRAGZ & HH reference person's age in years                                                                                              \\\\\n",
       "\t12 & DMDHREDZ & HH reference person's education level                                                                                           \\\\\n",
       "\t13 & DMDHRGND & HH reference person's gender                                                                                                    \\\\\n",
       "\t14 & DMDHRMAZ & HH reference person's marital status                                                                                            \\\\\n",
       "\t15 & DMDHSEDZ & HH reference person's spouse's education level                                                                                  \\\\\n",
       "\t16 & DMDMARTL & Marital status                                                                                                                  \\\\\n",
       "\t17 & DMDYRSUS & Length of time the participant has been in the US.                                                                              \\\\\n",
       "\t18 & DMQADFC  & Did \\{you/SP\\} ever serve in a foreign country during a time of armed conflict or on a humanitarian or peace-keeping mission? (Thi\\\\\n",
       "\t19 & DMQMILIZ & \\{Have you/Has SP\\} ever served on active duty in the U.S. Armed Forces, military Reserves, or National Guard? (Active duty does n\\\\\n",
       "\t20 & FIAINTRP & Was an interpreter used to conduct the Family interview?                                                                        \\\\\n",
       "\t21 & FIALANG  & Language of the Family Interview Instrument                                                                                     \\\\\n",
       "\t22 & FIAPROXY & Was a Proxy respondent used in conducting the Family Interview?                                                                 \\\\\n",
       "\t23 & INDFMIN2 & Total family income (reported as a range value in dollars)                                                                      \\\\\n",
       "\t24 & INDFMPIR & A ratio of family income to poverty guidelines.                                                                                 \\\\\n",
       "\t25 & INDHHIN2 & Total household income (reported as a range value in dollars)                                                                   \\\\\n",
       "\t26 & MIAINTRP & Was an interpreter used to conduct the MEC CAPI interview?                                                                      \\\\\n",
       "\t27 & MIALANG  & Language of the MEC CAPI Interview Instrument                                                                                   \\\\\n",
       "\t28 & MIAPROXY & Was a Proxy respondent used in conducting the MEC CAPI Interview?                                                               \\\\\n",
       "\t29 & RIAGENDR & Gender of the participant.                                                                                                      \\\\\n",
       "\t30 & RIDAGEMN & Age in months of the participant at the time of screening. Reported for persons aged 24 months or younger at the time of exam (o\\\\\n",
       "\t31 & RIDAGEYR & Age in years of the participant at the time of screening. Individuals 80 and over are topcoded at 80 years of age.              \\\\\n",
       "\t32 & RIDEXAGM & Age in months of the participant at the time of examination. Reported for persons aged 19 years or younger at the time of examin\\\\\n",
       "\t33 & RIDEXMON & Six month time period when the examination was performed - two categories: November 1 through April 30, May 1 through October 31\\\\\n",
       "\t34 & RIDEXPRG & Pregnancy status for females between 20 and 44 years of age at the time of MEC exam.                                            \\\\\n",
       "\t35 & RIDRETH1 & Recode of reported race and Hispanic origin information                                                                         \\\\\n",
       "\t36 & RIDRETH3 & Recode of reported race and Hispanic origin information, with Non-Hispanic Asian Category                                       \\\\\n",
       "\t37 & RIDSTATR & Interview and examination status of the participant.                                                                            \\\\\n",
       "\t38 & SDDSRVYR & Data release cycle                                                                                                              \\\\\n",
       "\t39 & SDMVPSU  & Masked variance unit pseudo-PSU variable for variance estimation                                                                \\\\\n",
       "\t40 & SDMVSTRA & Masked variance unit pseudo-stratum variable for variance estimation                                                            \\\\\n",
       "\t41 & SEQN     & Respondent sequence number.                                                                                                     \\\\\n",
       "\t42 & SIAINTRP & Was an interpreter used to conduct the Sample Person (SP) interview?                                                            \\\\\n",
       "\t43 & SIALANG  & Language of the Sample Person Interview Instrument                                                                              \\\\\n",
       "\t44 & SIAPROXY & Was a Proxy respondent used in conducting the Sample Person (SP) interview?                                                     \\\\\n",
       "\t45 & WTINT2YR & Full sample 2 year interview weight.                                                                                            \\\\\n",
       "\t46 & WTMEC2YR & Full sample 2 year MEC exam weight.                                                                                             \\\\\n",
       "\\end{tabular}\n"
      ],
      "text/markdown": [
       "\n",
       "A data.frame: 46 × 2\n",
       "\n",
       "| <!--/--> | Variable.Name &lt;chr&gt; | Variable.Description &lt;chr&gt; |\n",
       "|---|---|---|\n",
       "| 1 | AIALANGA | Language of the MEC ACASI Interview Instrument                                                                                   |\n",
       "| 2 | DMDBORN4 | In what country {were you/was SP} born?                                                                                          |\n",
       "| 3 | DMDCITZN | {Are you/Is SP} a citizen of the United States? [Information about citizenship is being collected by the U.S. Public Health Serv |\n",
       "| 4 | DMDEDUC2 | What is the highest grade or level of school {you have/SP has} completed or the highest degree {you have/s/he has} received?     |\n",
       "| 5 | DMDEDUC3 | What is the highest grade or level of school {you have/SP has} completed or the highest degree {you have/s/he has} received?     |\n",
       "| 6 | DMDFMSIZ | Total number of people in the Family                                                                                             |\n",
       "| 7 | DMDHHSIZ | Total number of people in the Household                                                                                          |\n",
       "| 8 | DMDHHSZA | Number of children aged 5 years or younger in the household                                                                      |\n",
       "| 9 | DMDHHSZB | Number of children aged 6-17 years old in the household                                                                          |\n",
       "| 10 | DMDHHSZE | Number of adults aged 60 years or older in the household                                                                         |\n",
       "| 11 | DMDHRAGZ | HH reference person's age in years                                                                                               |\n",
       "| 12 | DMDHREDZ | HH reference person's education level                                                                                            |\n",
       "| 13 | DMDHRGND | HH reference person's gender                                                                                                     |\n",
       "| 14 | DMDHRMAZ | HH reference person's marital status                                                                                             |\n",
       "| 15 | DMDHSEDZ | HH reference person's spouse's education level                                                                                   |\n",
       "| 16 | DMDMARTL | Marital status                                                                                                                   |\n",
       "| 17 | DMDYRSUS | Length of time the participant has been in the US.                                                                               |\n",
       "| 18 | DMQADFC  | Did {you/SP} ever serve in a foreign country during a time of armed conflict or on a humanitarian or peace-keeping mission? (Thi |\n",
       "| 19 | DMQMILIZ | {Have you/Has SP} ever served on active duty in the U.S. Armed Forces, military Reserves, or National Guard? (Active duty does n |\n",
       "| 20 | FIAINTRP | Was an interpreter used to conduct the Family interview?                                                                         |\n",
       "| 21 | FIALANG  | Language of the Family Interview Instrument                                                                                      |\n",
       "| 22 | FIAPROXY | Was a Proxy respondent used in conducting the Family Interview?                                                                  |\n",
       "| 23 | INDFMIN2 | Total family income (reported as a range value in dollars)                                                                       |\n",
       "| 24 | INDFMPIR | A ratio of family income to poverty guidelines.                                                                                  |\n",
       "| 25 | INDHHIN2 | Total household income (reported as a range value in dollars)                                                                    |\n",
       "| 26 | MIAINTRP | Was an interpreter used to conduct the MEC CAPI interview?                                                                       |\n",
       "| 27 | MIALANG  | Language of the MEC CAPI Interview Instrument                                                                                    |\n",
       "| 28 | MIAPROXY | Was a Proxy respondent used in conducting the MEC CAPI Interview?                                                                |\n",
       "| 29 | RIAGENDR | Gender of the participant.                                                                                                       |\n",
       "| 30 | RIDAGEMN | Age in months of the participant at the time of screening. Reported for persons aged 24 months or younger at the time of exam (o |\n",
       "| 31 | RIDAGEYR | Age in years of the participant at the time of screening. Individuals 80 and over are topcoded at 80 years of age.               |\n",
       "| 32 | RIDEXAGM | Age in months of the participant at the time of examination. Reported for persons aged 19 years or younger at the time of examin |\n",
       "| 33 | RIDEXMON | Six month time period when the examination was performed - two categories: November 1 through April 30, May 1 through October 31 |\n",
       "| 34 | RIDEXPRG | Pregnancy status for females between 20 and 44 years of age at the time of MEC exam.                                             |\n",
       "| 35 | RIDRETH1 | Recode of reported race and Hispanic origin information                                                                          |\n",
       "| 36 | RIDRETH3 | Recode of reported race and Hispanic origin information, with Non-Hispanic Asian Category                                        |\n",
       "| 37 | RIDSTATR | Interview and examination status of the participant.                                                                             |\n",
       "| 38 | SDDSRVYR | Data release cycle                                                                                                               |\n",
       "| 39 | SDMVPSU  | Masked variance unit pseudo-PSU variable for variance estimation                                                                 |\n",
       "| 40 | SDMVSTRA | Masked variance unit pseudo-stratum variable for variance estimation                                                             |\n",
       "| 41 | SEQN     | Respondent sequence number.                                                                                                      |\n",
       "| 42 | SIAINTRP | Was an interpreter used to conduct the Sample Person (SP) interview?                                                             |\n",
       "| 43 | SIALANG  | Language of the Sample Person Interview Instrument                                                                               |\n",
       "| 44 | SIAPROXY | Was a Proxy respondent used in conducting the Sample Person (SP) interview?                                                      |\n",
       "| 45 | WTINT2YR | Full sample 2 year interview weight.                                                                                             |\n",
       "| 46 | WTMEC2YR | Full sample 2 year MEC exam weight.                                                                                              |\n",
       "\n"
      ],
      "text/plain": [
       "   Variable.Name\n",
       "1  AIALANGA     \n",
       "2  DMDBORN4     \n",
       "3  DMDCITZN     \n",
       "4  DMDEDUC2     \n",
       "5  DMDEDUC3     \n",
       "6  DMDFMSIZ     \n",
       "7  DMDHHSIZ     \n",
       "8  DMDHHSZA     \n",
       "9  DMDHHSZB     \n",
       "10 DMDHHSZE     \n",
       "11 DMDHRAGZ     \n",
       "12 DMDHREDZ     \n",
       "13 DMDHRGND     \n",
       "14 DMDHRMAZ     \n",
       "15 DMDHSEDZ     \n",
       "16 DMDMARTL     \n",
       "17 DMDYRSUS     \n",
       "18 DMQADFC      \n",
       "19 DMQMILIZ     \n",
       "20 FIAINTRP     \n",
       "21 FIALANG      \n",
       "22 FIAPROXY     \n",
       "23 INDFMIN2     \n",
       "24 INDFMPIR     \n",
       "25 INDHHIN2     \n",
       "26 MIAINTRP     \n",
       "27 MIALANG      \n",
       "28 MIAPROXY     \n",
       "29 RIAGENDR     \n",
       "30 RIDAGEMN     \n",
       "31 RIDAGEYR     \n",
       "32 RIDEXAGM     \n",
       "33 RIDEXMON     \n",
       "34 RIDEXPRG     \n",
       "35 RIDRETH1     \n",
       "36 RIDRETH3     \n",
       "37 RIDSTATR     \n",
       "38 SDDSRVYR     \n",
       "39 SDMVPSU      \n",
       "40 SDMVSTRA     \n",
       "41 SEQN         \n",
       "42 SIAINTRP     \n",
       "43 SIALANG      \n",
       "44 SIAPROXY     \n",
       "45 WTINT2YR     \n",
       "46 WTMEC2YR     \n",
       "   Variable.Description                                                                                                            \n",
       "1  Language of the MEC ACASI Interview Instrument                                                                                  \n",
       "2  In what country {were you/was SP} born?                                                                                         \n",
       "3  {Are you/Is SP} a citizen of the United States? [Information about citizenship is being collected by the U.S. Public Health Serv\n",
       "4  What is the highest grade or level of school {you have/SP has} completed or the highest degree {you have/s/he has} received?    \n",
       "5  What is the highest grade or level of school {you have/SP has} completed or the highest degree {you have/s/he has} received?    \n",
       "6  Total number of people in the Family                                                                                            \n",
       "7  Total number of people in the Household                                                                                         \n",
       "8  Number of children aged 5 years or younger in the household                                                                     \n",
       "9  Number of children aged 6-17 years old in the household                                                                         \n",
       "10 Number of adults aged 60 years or older in the household                                                                        \n",
       "11 HH reference person's age in years                                                                                              \n",
       "12 HH reference person's education level                                                                                           \n",
       "13 HH reference person's gender                                                                                                    \n",
       "14 HH reference person's marital status                                                                                            \n",
       "15 HH reference person's spouse's education level                                                                                  \n",
       "16 Marital status                                                                                                                  \n",
       "17 Length of time the participant has been in the US.                                                                              \n",
       "18 Did {you/SP} ever serve in a foreign country during a time of armed conflict or on a humanitarian or peace-keeping mission? (Thi\n",
       "19 {Have you/Has SP} ever served on active duty in the U.S. Armed Forces, military Reserves, or National Guard? (Active duty does n\n",
       "20 Was an interpreter used to conduct the Family interview?                                                                        \n",
       "21 Language of the Family Interview Instrument                                                                                     \n",
       "22 Was a Proxy respondent used in conducting the Family Interview?                                                                 \n",
       "23 Total family income (reported as a range value in dollars)                                                                      \n",
       "24 A ratio of family income to poverty guidelines.                                                                                 \n",
       "25 Total household income (reported as a range value in dollars)                                                                   \n",
       "26 Was an interpreter used to conduct the MEC CAPI interview?                                                                      \n",
       "27 Language of the MEC CAPI Interview Instrument                                                                                   \n",
       "28 Was a Proxy respondent used in conducting the MEC CAPI Interview?                                                               \n",
       "29 Gender of the participant.                                                                                                      \n",
       "30 Age in months of the participant at the time of screening. Reported for persons aged 24 months or younger at the time of exam (o\n",
       "31 Age in years of the participant at the time of screening. Individuals 80 and over are topcoded at 80 years of age.              \n",
       "32 Age in months of the participant at the time of examination. Reported for persons aged 19 years or younger at the time of examin\n",
       "33 Six month time period when the examination was performed - two categories: November 1 through April 30, May 1 through October 31\n",
       "34 Pregnancy status for females between 20 and 44 years of age at the time of MEC exam.                                            \n",
       "35 Recode of reported race and Hispanic origin information                                                                         \n",
       "36 Recode of reported race and Hispanic origin information, with Non-Hispanic Asian Category                                       \n",
       "37 Interview and examination status of the participant.                                                                            \n",
       "38 Data release cycle                                                                                                              \n",
       "39 Masked variance unit pseudo-PSU variable for variance estimation                                                                \n",
       "40 Masked variance unit pseudo-stratum variable for variance estimation                                                            \n",
       "41 Respondent sequence number.                                                                                                     \n",
       "42 Was an interpreter used to conduct the Sample Person (SP) interview?                                                            \n",
       "43 Language of the Sample Person Interview Instrument                                                                              \n",
       "44 Was a Proxy respondent used in conducting the Sample Person (SP) interview?                                                     \n",
       "45 Full sample 2 year interview weight.                                                                                            \n",
       "46 Full sample 2 year MEC exam weight.                                                                                             "
      ]
     },
     "metadata": {},
     "output_type": "display_data"
    }
   ],
   "source": [
    "library(nhanesA)\n",
    "# demo_df <- nhanes('DEMO_J')\n",
    "# head(demo_df)\n",
    "nhanesTableVars('DEMO', 'DEMO_J')"
   ]
  },
  {
   "cell_type": "markdown",
   "id": "b6d56033",
   "metadata": {
    "slideshow": {
     "slide_type": "slide"
    }
   },
   "source": [
    "## Assessing CVD in NHANES\n",
    "- The report asks you to use NHANES to study cardiovascular disease (CVD).\n",
    "- CVD is an umbrella term for several different conditions, including: coronary artery disease, peripheral artery disease, heart failure, hypertension.\n",
    "- Diagnosis: Involves a combination of clinical assessment, laboratory tests, and imaging:\n",
    "  - Clinical assessment: patient history, physical examination\n",
    "  - Lab tests: Blood tests to measure cholesterol, glucose, and other markers\n",
    "  - Imaging: Echocardiogram, angiogram, CT scans, and MRIs to visualize heart and vascular system\n",
    "- **Not all of these are measured in NHANES, but many things that are correlated with them are**."
   ]
  },
  {
   "cell_type": "code",
   "execution_count": 57,
   "id": "df8c1497",
   "metadata": {
    "slideshow": {
     "slide_type": "slide"
    }
   },
   "outputs": [
    {
     "data": {
      "text/html": [
       "<table class=\"dataframe\">\n",
       "<caption>A data.frame: 10 × 8</caption>\n",
       "<thead>\n",
       "\t<tr><th scope=col>Variable.Name</th><th scope=col>Variable.Description</th><th scope=col>Data.File.Name</th><th scope=col>Data.File.Description</th><th scope=col>Begin.Year</th><th scope=col>EndYear</th><th scope=col>Component</th><th scope=col>Use.Constraints</th></tr>\n",
       "\t<tr><th scope=col>&lt;chr&gt;</th><th scope=col>&lt;chr&gt;</th><th scope=col>&lt;chr&gt;</th><th scope=col>&lt;chr&gt;</th><th scope=col>&lt;chr&gt;</th><th scope=col>&lt;chr&gt;</th><th scope=col>&lt;chr&gt;</th><th scope=col>&lt;chr&gt;</th></tr>\n",
       "</thead>\n",
       "<tbody>\n",
       "\t<tr><td>BPD035 </td><td>How old {were you/was SP} when {you were/he/she wa</td><td>BPQ_E</td><td>Blood Pressure &amp; Cholesterol</td><td>2007</td><td>2008</td><td>Questionnaire</td><td>None</td></tr>\n",
       "\t<tr><td>BPQ020 </td><td>{Have you/Has SP} ever been told by a doctor or ot</td><td>BPQ_E</td><td>Blood Pressure &amp; Cholesterol</td><td>2007</td><td>2008</td><td>Questionnaire</td><td>None</td></tr>\n",
       "\t<tr><td>BPQ030 </td><td>{Were you/Was SP} told on 2 or more different visi</td><td>BPQ_E</td><td>Blood Pressure &amp; Cholesterol</td><td>2007</td><td>2008</td><td>Questionnaire</td><td>None</td></tr>\n",
       "\t<tr><td>BPQ040A</td><td>Because of {your/SP's} (high blood pressure/hypert</td><td>BPQ_E</td><td>Blood Pressure &amp; Cholesterol</td><td>2007</td><td>2008</td><td>Questionnaire</td><td>None</td></tr>\n",
       "\t<tr><td>BPQ057 </td><td>{Have you/Has SP} ever been told by a doctor or ot</td><td>BPQ_E</td><td>Blood Pressure &amp; Cholesterol</td><td>2007</td><td>2008</td><td>Questionnaire</td><td>None</td></tr>\n",
       "\t<tr><td>PFD069J</td><td>How long (have/has) (you/SP) had hypertension or h</td><td>PFQ_E</td><td>Physical Functioning        </td><td>2007</td><td>2008</td><td>Questionnaire</td><td>None</td></tr>\n",
       "\t<tr><td>DID310D</td><td>What does {your/SP's} doctor or other health profe</td><td>DIQ_E</td><td>Diabetes                    </td><td>2007</td><td>2008</td><td>Questionnaire</td><td>None</td></tr>\n",
       "\t<tr><td>DID310S</td><td>What does {your/SP's} doctor or other health profe</td><td>DIQ_E</td><td>Diabetes                    </td><td>2007</td><td>2008</td><td>Questionnaire</td><td>None</td></tr>\n",
       "\t<tr><td>DIQ300D</td><td>Blood pressure is usually given as one number over</td><td>DIQ_E</td><td>Diabetes                    </td><td>2007</td><td>2008</td><td>Questionnaire</td><td>None</td></tr>\n",
       "\t<tr><td>DIQ300S</td><td>Blood pressure is usually given as one number over</td><td>DIQ_E</td><td>Diabetes                    </td><td>2007</td><td>2008</td><td>Questionnaire</td><td>None</td></tr>\n",
       "</tbody>\n",
       "</table>\n"
      ],
      "text/latex": [
       "A data.frame: 10 × 8\n",
       "\\begin{tabular}{llllllll}\n",
       " Variable.Name & Variable.Description & Data.File.Name & Data.File.Description & Begin.Year & EndYear & Component & Use.Constraints\\\\\n",
       " <chr> & <chr> & <chr> & <chr> & <chr> & <chr> & <chr> & <chr>\\\\\n",
       "\\hline\n",
       "\t BPD035  & How old \\{were you/was SP\\} when \\{you were/he/she wa & BPQ\\_E & Blood Pressure \\& Cholesterol & 2007 & 2008 & Questionnaire & None\\\\\n",
       "\t BPQ020  & \\{Have you/Has SP\\} ever been told by a doctor or ot & BPQ\\_E & Blood Pressure \\& Cholesterol & 2007 & 2008 & Questionnaire & None\\\\\n",
       "\t BPQ030  & \\{Were you/Was SP\\} told on 2 or more different visi & BPQ\\_E & Blood Pressure \\& Cholesterol & 2007 & 2008 & Questionnaire & None\\\\\n",
       "\t BPQ040A & Because of \\{your/SP's\\} (high blood pressure/hypert & BPQ\\_E & Blood Pressure \\& Cholesterol & 2007 & 2008 & Questionnaire & None\\\\\n",
       "\t BPQ057  & \\{Have you/Has SP\\} ever been told by a doctor or ot & BPQ\\_E & Blood Pressure \\& Cholesterol & 2007 & 2008 & Questionnaire & None\\\\\n",
       "\t PFD069J & How long (have/has) (you/SP) had hypertension or h & PFQ\\_E & Physical Functioning         & 2007 & 2008 & Questionnaire & None\\\\\n",
       "\t DID310D & What does \\{your/SP's\\} doctor or other health profe & DIQ\\_E & Diabetes                     & 2007 & 2008 & Questionnaire & None\\\\\n",
       "\t DID310S & What does \\{your/SP's\\} doctor or other health profe & DIQ\\_E & Diabetes                     & 2007 & 2008 & Questionnaire & None\\\\\n",
       "\t DIQ300D & Blood pressure is usually given as one number over & DIQ\\_E & Diabetes                     & 2007 & 2008 & Questionnaire & None\\\\\n",
       "\t DIQ300S & Blood pressure is usually given as one number over & DIQ\\_E & Diabetes                     & 2007 & 2008 & Questionnaire & None\\\\\n",
       "\\end{tabular}\n"
      ],
      "text/markdown": [
       "\n",
       "A data.frame: 10 × 8\n",
       "\n",
       "| Variable.Name &lt;chr&gt; | Variable.Description &lt;chr&gt; | Data.File.Name &lt;chr&gt; | Data.File.Description &lt;chr&gt; | Begin.Year &lt;chr&gt; | EndYear &lt;chr&gt; | Component &lt;chr&gt; | Use.Constraints &lt;chr&gt; |\n",
       "|---|---|---|---|---|---|---|---|\n",
       "| BPD035  | How old {were you/was SP} when {you were/he/she wa | BPQ_E | Blood Pressure &amp; Cholesterol | 2007 | 2008 | Questionnaire | None |\n",
       "| BPQ020  | {Have you/Has SP} ever been told by a doctor or ot | BPQ_E | Blood Pressure &amp; Cholesterol | 2007 | 2008 | Questionnaire | None |\n",
       "| BPQ030  | {Were you/Was SP} told on 2 or more different visi | BPQ_E | Blood Pressure &amp; Cholesterol | 2007 | 2008 | Questionnaire | None |\n",
       "| BPQ040A | Because of {your/SP's} (high blood pressure/hypert | BPQ_E | Blood Pressure &amp; Cholesterol | 2007 | 2008 | Questionnaire | None |\n",
       "| BPQ057  | {Have you/Has SP} ever been told by a doctor or ot | BPQ_E | Blood Pressure &amp; Cholesterol | 2007 | 2008 | Questionnaire | None |\n",
       "| PFD069J | How long (have/has) (you/SP) had hypertension or h | PFQ_E | Physical Functioning         | 2007 | 2008 | Questionnaire | None |\n",
       "| DID310D | What does {your/SP's} doctor or other health profe | DIQ_E | Diabetes                     | 2007 | 2008 | Questionnaire | None |\n",
       "| DID310S | What does {your/SP's} doctor or other health profe | DIQ_E | Diabetes                     | 2007 | 2008 | Questionnaire | None |\n",
       "| DIQ300D | Blood pressure is usually given as one number over | DIQ_E | Diabetes                     | 2007 | 2008 | Questionnaire | None |\n",
       "| DIQ300S | Blood pressure is usually given as one number over | DIQ_E | Diabetes                     | 2007 | 2008 | Questionnaire | None |\n",
       "\n"
      ],
      "text/plain": [
       "   Variable.Name Variable.Description                              \n",
       "1  BPD035        How old {were you/was SP} when {you were/he/she wa\n",
       "2  BPQ020        {Have you/Has SP} ever been told by a doctor or ot\n",
       "3  BPQ030        {Were you/Was SP} told on 2 or more different visi\n",
       "4  BPQ040A       Because of {your/SP's} (high blood pressure/hypert\n",
       "5  BPQ057        {Have you/Has SP} ever been told by a doctor or ot\n",
       "6  PFD069J       How long (have/has) (you/SP) had hypertension or h\n",
       "7  DID310D       What does {your/SP's} doctor or other health profe\n",
       "8  DID310S       What does {your/SP's} doctor or other health profe\n",
       "9  DIQ300D       Blood pressure is usually given as one number over\n",
       "10 DIQ300S       Blood pressure is usually given as one number over\n",
       "   Data.File.Name Data.File.Description        Begin.Year EndYear Component    \n",
       "1  BPQ_E          Blood Pressure & Cholesterol 2007       2008    Questionnaire\n",
       "2  BPQ_E          Blood Pressure & Cholesterol 2007       2008    Questionnaire\n",
       "3  BPQ_E          Blood Pressure & Cholesterol 2007       2008    Questionnaire\n",
       "4  BPQ_E          Blood Pressure & Cholesterol 2007       2008    Questionnaire\n",
       "5  BPQ_E          Blood Pressure & Cholesterol 2007       2008    Questionnaire\n",
       "6  PFQ_E          Physical Functioning         2007       2008    Questionnaire\n",
       "7  DIQ_E          Diabetes                     2007       2008    Questionnaire\n",
       "8  DIQ_E          Diabetes                     2007       2008    Questionnaire\n",
       "9  DIQ_E          Diabetes                     2007       2008    Questionnaire\n",
       "10 DIQ_E          Diabetes                     2007       2008    Questionnaire\n",
       "   Use.Constraints\n",
       "1  None           \n",
       "2  None           \n",
       "3  None           \n",
       "4  None           \n",
       "5  None           \n",
       "6  None           \n",
       "7  None           \n",
       "8  None           \n",
       "9  None           \n",
       "10 None           "
      ]
     },
     "metadata": {},
     "output_type": "display_data"
    }
   ],
   "source": [
    "nhanesSearch(\"blood pressure\", ystart=2007, ystop=2008, nchar=50)"
   ]
  },
  {
   "cell_type": "markdown",
   "id": "374c9a28",
   "metadata": {
    "slideshow": {
     "slide_type": "slide"
    }
   },
   "source": [
    "## Determining CVD risk from NHANES\n",
    "- A number of studies have used NHANES data to study CVD in the U.S..\n",
    "- Example: [Status of Cardiovascular Health in US Adults and Children Using the American Heart Association’s New “Life’s Essential 8” Metrics: Prevalence Estimates From the National Health and Nutrition Examination Survey (NHANES), 2013 Through 2018](https://www.ahajournals.org/doi/epub/10.1161/CIRCULATIONAHA.122.060911)"
   ]
  },
  {
   "cell_type": "markdown",
   "id": "fc5f52f4",
   "metadata": {
    "slideshow": {
     "slide_type": "slide"
    }
   },
   "source": [
    "## Life's essential 8\n",
    "\n",
    "- 4 health factors: body mass index (BMI), blood glucose levels, blood lipid levels, and blood pressure;\n",
    "- 4 health behaviors: smoking status, physical activity, diet, and sleep\n",
    "\n",
    "- Source: [Life’s Essential 8: Updating and Enhancing the American Heart Association’s Construct of Cardiovascular Health: A Presidential Advisory From the American Heart Association](https://www.ahajournals.org/doi/10.1161/CIR.0000000000001078)"
   ]
  },
  {
   "cell_type": "markdown",
   "id": "23342419",
   "metadata": {
    "slideshow": {
     "slide_type": "slide"
    }
   },
   "source": [
    "- Can we define an LE8 score using NHANES data?\n",
    "- A number of studies have done this using somewhat complicated methodologies ([example](https://www.ahajournals.org/action/downloadSupplement?doi=10.1161%2FCIRCULATIONAHA.122.060911&file=CIRC_CIRCULATIONAHA-2022-060911_supp1.pdf))\n",
    "- In the time we have during lecture, I'm going to focus on calculating a simplified LE8 score."
   ]
  },
  {
   "cell_type": "markdown",
   "id": "8eab663e",
   "metadata": {
    "slideshow": {
     "slide_type": "slide"
    }
   },
   "source": [
    "## Health factors\n",
    "- The four health factors *are* directly measured, so they are somewhat easier to calculate."
   ]
  },
  {
   "cell_type": "code",
   "execution_count": 63,
   "id": "c59401f3",
   "metadata": {
    "slideshow": {
     "slide_type": "slide"
    }
   },
   "outputs": [
    {
     "name": "stderr",
     "output_type": "stream",
     "text": [
      "Warning message:\n",
      "“\u001b[1m\u001b[22mRemoved 699 rows containing non-finite values (`stat_bin()`).”\n"
     ]
    },
    {
     "data": {
      "image/png": "[encoded data removed]",
      "text/plain": [
       "plot without title"
      ]
     },
     "metadata": {
      "image/png": {
       "height": 300,
       "width": 600
      }
     },
     "output_type": "display_data"
    }
   ],
   "source": [
    "# body mass index\n",
    "# bmx_df = nhanes('BMX_J')\n",
    "# nhanesCodebook('BMX_J', 'BMXBMI')\n",
    "\n",
    "ggplot(bmx_df) + geom_histogram(aes(BMXBMI), bins=100)"
   ]
  },
  {
   "cell_type": "code",
   "execution_count": 64,
   "id": "d2b69c69",
   "metadata": {
    "slideshow": {
     "slide_type": "slide"
    }
   },
   "outputs": [
    {
     "name": "stderr",
     "output_type": "stream",
     "text": [
      "\u001b[1m\u001b[22mJoining with `by = join_by(SEQN)`\n",
      "Warning message:\n",
      "“\u001b[1m\u001b[22mRemoved 1249 rows containing non-finite values (`stat_bin()`).”\n"
     ]
    },
    {
     "data": {
      "image/png": "[encoded data removed]",
      "text/plain": [
       "plot without title"
      ]
     },
     "metadata": {
      "image/png": {
       "height": 300,
       "width": 600
      }
     },
     "output_type": "display_data"
    }
   ],
   "source": [
    "demo_df %>% left_join(bmx_df) %>% mutate(child = RIDAGEYR < 18) %>% \n",
    "    ggplot() + geom_histogram(aes(x = BMXBMI), bins=100) + facet_grid(~ child)"
   ]
  },
  {
   "cell_type": "code",
   "execution_count": 67,
   "id": "95e86ccc",
   "metadata": {
    "slideshow": {
     "slide_type": "slide"
    }
   },
   "outputs": [
    {
     "data": {
      "text/html": [
       "<table class=\"dataframe\">\n",
       "<caption>A data.frame: 43 × 8</caption>\n",
       "<thead>\n",
       "\t<tr><th scope=col>Variable.Name</th><th scope=col>Variable.Description</th><th scope=col>Data.File.Name</th><th scope=col>Data.File.Description</th><th scope=col>Begin.Year</th><th scope=col>EndYear</th><th scope=col>Component</th><th scope=col>Use.Constraints</th></tr>\n",
       "\t<tr><th scope=col>&lt;chr&gt;</th><th scope=col>&lt;chr&gt;</th><th scope=col>&lt;chr&gt;</th><th scope=col>&lt;chr&gt;</th><th scope=col>&lt;chr&gt;</th><th scope=col>&lt;chr&gt;</th><th scope=col>&lt;chr&gt;</th><th scope=col>&lt;chr&gt;</th></tr>\n",
       "</thead>\n",
       "<tbody>\n",
       "\t<tr><td>LBXMC   </td><td>Mean cell hemoglobin concentration (g/dL)                                                                                       </td><td>CBC_E  </td><td>Complete Blood Count with 5-part Differential - Whole Blood             </td><td>2007</td><td>2008</td><td>Laboratory   </td><td>None</td></tr>\n",
       "\t<tr><td>LBXMCHSI</td><td>Mean cell hemoglobin (pg)                                                                                                       </td><td>CBC_E  </td><td>Complete Blood Count with 5-part Differential - Whole Blood             </td><td>2007</td><td>2008</td><td>Laboratory   </td><td>None</td></tr>\n",
       "\t<tr><td>LBXGH   </td><td>Glycohemoglobin (%)                                                                                                             </td><td>GHB_E  </td><td>Glycohemoglobin                                                         </td><td>2007</td><td>2008</td><td>Laboratory   </td><td>None</td></tr>\n",
       "\t<tr><td>LBXMC   </td><td>Mean cell hemoglobin concentration (g/dL)                                                                                       </td><td>LAB25  </td><td>Complete Blood Count with 5-part Differential - Whole Blood             </td><td>1999</td><td>2000</td><td>Laboratory   </td><td>None</td></tr>\n",
       "\t<tr><td>LBXMCHSI</td><td>Mean cell hemoglobin (pg)                                                                                                       </td><td>LAB25  </td><td>Complete Blood Count with 5-part Differential - Whole Blood             </td><td>1999</td><td>2000</td><td>Laboratory   </td><td>None</td></tr>\n",
       "\t<tr><td>LB2MCHSI</td><td>Mean cell hemoglobin (pg)                                                                                                       </td><td>l25_2_b</td><td>Complete Blood Count with 5-part Differential - Whole Blood, Second Exam</td><td>2001</td><td>2002</td><td>Laboratory   </td><td>None</td></tr>\n",
       "\t<tr><td>LBXMC   </td><td>Mean cell hemoglobin concentration (g/dL)                                                                                       </td><td>CBC_D  </td><td>Complete Blood Count with 5-Part Differential - Whole Blood             </td><td>2005</td><td>2006</td><td>Laboratory   </td><td>None</td></tr>\n",
       "\t<tr><td>LBXMCHSI</td><td>Mean cell hemoglobin (pg)                                                                                                       </td><td>CBC_D  </td><td>Complete Blood Count with 5-Part Differential - Whole Blood             </td><td>2005</td><td>2006</td><td>Laboratory   </td><td>None</td></tr>\n",
       "\t<tr><td>LBXGH   </td><td>Glycohemoglobin (%)                                                                                                             </td><td>GHB_D  </td><td>Glycohemoglobin                                                         </td><td>2005</td><td>2006</td><td>Laboratory   </td><td>None</td></tr>\n",
       "\t<tr><td>LBXGH   </td><td>Glycohemoglobin (%)                                                                                                             </td><td>L10_C  </td><td>Glycohemoglobin                                                         </td><td>2003</td><td>2004</td><td>Laboratory   </td><td>None</td></tr>\n",
       "\t<tr><td>LBXMC   </td><td>Mean cell hemoglobin concentration (g/dL)                                                                                       </td><td>L25_C  </td><td>Complete Blood Count with 5-part Differential - Whole Blood             </td><td>2003</td><td>2004</td><td>Laboratory   </td><td>None</td></tr>\n",
       "\t<tr><td>LBXMCHSI</td><td>Mean cell hemoglobin (pg)                                                                                                       </td><td>L25_C  </td><td>Complete Blood Count with 5-part Differential - Whole Blood             </td><td>2003</td><td>2004</td><td>Laboratory   </td><td>None</td></tr>\n",
       "\t<tr><td>LBXGH   </td><td>Glycohemoglobin (%)                                                                                                             </td><td>L10_B  </td><td>Glycohemoglobin                                                         </td><td>2001</td><td>2002</td><td>Laboratory   </td><td>None</td></tr>\n",
       "\t<tr><td>LBXMC   </td><td>Mean cell hemoglobin concentration (g/dL)                                                                                       </td><td>L25_B  </td><td>Complete Blood Count with 5-part Differential - Whole Blood             </td><td>2001</td><td>2002</td><td>Laboratory   </td><td>None</td></tr>\n",
       "\t<tr><td>LBXMCHSI</td><td>Mean cell hemoglobin (pg)                                                                                                       </td><td>L25_B  </td><td>Complete Blood Count with 5-part Differential - Whole Blood             </td><td>2001</td><td>2002</td><td>Laboratory   </td><td>None</td></tr>\n",
       "\t<tr><td><span style=white-space:pre-wrap>LB2GH   </span></td><td><span style=white-space:pre-wrap>Glycohemoglobin (%)                                                                                                             </span></td><td>L10_2_B</td><td>Glycohemoglobin, Plasma Glucose, Serum C-peptide, &amp; Insulin, Second Exam</td><td>2001</td><td>2002</td><td><span style=white-space:pre-wrap>Laboratory   </span></td><td>None</td></tr>\n",
       "\t<tr><td>LBXMC   </td><td>Mean cell hemoglobin concentration (g/dL)                                                                                       </td><td>CBC_F  </td><td>Complete Blood Count with 5-part Differential - Whole Blood             </td><td>2009</td><td>2010</td><td>Laboratory   </td><td>None</td></tr>\n",
       "\t<tr><td>LBXMCHSI</td><td>Mean cell hemoglobin (pg)                                                                                                       </td><td>CBC_F  </td><td>Complete Blood Count with 5-part Differential - Whole Blood             </td><td>2009</td><td>2010</td><td>Laboratory   </td><td>None</td></tr>\n",
       "\t<tr><td>LBXGH   </td><td>Glycohemoglobin (%)                                                                                                             </td><td>GHB_F  </td><td>Glycohemoglobin                                                         </td><td>2009</td><td>2010</td><td>Laboratory   </td><td>None</td></tr>\n",
       "\t<tr><td>LBXMC   </td><td>Mean cell hemoglobin concentration (g/dL)                                                                                       </td><td>CBC_G  </td><td>Complete Blood Count with 5-part Differential - Whole Blood             </td><td>2011</td><td>2012</td><td>Laboratory   </td><td>None</td></tr>\n",
       "\t<tr><td>LBXMCHSI</td><td>Mean cell hemoglobin (pg)                                                                                                       </td><td>CBC_G  </td><td>Complete Blood Count with 5-part Differential - Whole Blood             </td><td>2011</td><td>2012</td><td>Laboratory   </td><td>None</td></tr>\n",
       "\t<tr><td>LBXGH   </td><td>Glycohemoglobin (%)                                                                                                             </td><td>GHB_G  </td><td>Glycohemoglobin                                                         </td><td>2011</td><td>2012</td><td>Laboratory   </td><td>None</td></tr>\n",
       "\t<tr><td>LBXMC   </td><td>Mean cell hemoglobin concentration (g/dL)                                                                                       </td><td>CBC_H  </td><td>Complete Blood Count with 5-part Differential - Whole Blood             </td><td>2013</td><td>2014</td><td>Laboratory   </td><td>None</td></tr>\n",
       "\t<tr><td>LBXMCHSI</td><td>Mean cell hemoglobin (pg)                                                                                                       </td><td>CBC_H  </td><td>Complete Blood Count with 5-part Differential - Whole Blood             </td><td>2013</td><td>2014</td><td>Laboratory   </td><td>None</td></tr>\n",
       "\t<tr><td>LBXGH   </td><td>Glycohemoglobin (%)                                                                                                             </td><td>GHB_H  </td><td>Glycohemoglobin                                                         </td><td>2013</td><td>2014</td><td>Laboratory   </td><td>None</td></tr>\n",
       "\t<tr><td>LBXGH   </td><td>Glycohemoglobin (%)                                                                                                             </td><td>GHB_I  </td><td>Glycohemoglobin                                                         </td><td>2015</td><td>2016</td><td>Laboratory   </td><td>None</td></tr>\n",
       "\t<tr><td>LBXMCHSI</td><td>Mean cell hemoglobin (pg)                                                                                                       </td><td>CBC_I  </td><td>Complete Blood Count with 5-Part Differential - Whole Blood             </td><td>2015</td><td>2016</td><td>Laboratory   </td><td>None</td></tr>\n",
       "\t<tr><td>LBXGH   </td><td>Glycohemoglobin (%)                                                                                                             </td><td>GHB_J  </td><td>Glycohemoglobin                                                         </td><td>2017</td><td>2018</td><td>Laboratory   </td><td>None</td></tr>\n",
       "\t<tr><td>LBXMC   </td><td>Mean cell hemoglobin concentration (g/dL)                                                                                       </td><td>CBC_J  </td><td>Complete Blood Count with 5-Part Differential                           </td><td>2017</td><td>2018</td><td>Laboratory   </td><td>None</td></tr>\n",
       "\t<tr><td>LBXMCHSI</td><td>Mean cell hemoglobin (pg)                                                                                                       </td><td>CBC_J  </td><td>Complete Blood Count with 5-Part Differential                           </td><td>2017</td><td>2018</td><td>Laboratory   </td><td>None</td></tr>\n",
       "\t<tr><td>LBXGH   </td><td>Glycohemoglobin (%)                                                                                                             </td><td>P_GHB  </td><td>Glycohemoglobin                                                         </td><td>2017</td><td>2020</td><td>Laboratory   </td><td>None</td></tr>\n",
       "\t<tr><td>LBXMC   </td><td>Mean cell hemoglobin concentration (g/dL)                                                                                       </td><td>P_CBC  </td><td>Complete Blood Count with 5-Part Differential in Whole Blood            </td><td>2017</td><td>2020</td><td>Laboratory   </td><td>None</td></tr>\n",
       "\t<tr><td>LBXMCHSI</td><td>Mean cell hemoglobin (pg)                                                                                                       </td><td>P_CBC  </td><td>Complete Blood Count with 5-Part Differential in Whole Blood            </td><td>2017</td><td>2020</td><td>Laboratory   </td><td>None</td></tr>\n",
       "\t<tr><td>LBXMC   </td><td>Mean cell hemoglobin concentration (g/dL)                                                                                       </td><td>CBC_L  </td><td>Complete Blood Count with 5-Part Differential in Whole Blood            </td><td>2021</td><td>2023</td><td>Laboratory   </td><td>None</td></tr>\n",
       "\t<tr><td>LBXMCHSI</td><td>Mean cell hemoglobin (pg)                                                                                                       </td><td>CBC_L  </td><td>Complete Blood Count with 5-Part Differential in Whole Blood            </td><td>2021</td><td>2023</td><td>Laboratory   </td><td>None</td></tr>\n",
       "\t<tr><td>LBXGH   </td><td>Glycohemoglobin (%)                                                                                                             </td><td>GHB_L  </td><td>Glycohemoglobin                                                         </td><td>2021</td><td>2023</td><td>Laboratory   </td><td>None</td></tr>\n",
       "\t<tr><td>DID270  </td><td>Glycosylated (GLY-CO-SYL-AT-ED) hemoglobin or the \"A one C\" test measures the average level of blood sugar over the past 3 month</td><td>DIQ_E  </td><td>Diabetes                                                                </td><td>2007</td><td>2008</td><td>Questionnaire</td><td>None</td></tr>\n",
       "\t<tr><td>DID270  </td><td>Glycosylated (GLY-CO-SYL-AT-ED) hemoglobin or the \"A one C\" test measures the average level of blood sugar over the past 3 month</td><td>DIQ_D  </td><td>Diabetes                                                                </td><td>2005</td><td>2006</td><td>Questionnaire</td><td>None</td></tr>\n",
       "\t<tr><td>DIQ275  </td><td>Glycosylated (GLY-CO-SYL-AT-ED) hemoglobin or the \"A one C\" test measures your average level of blood sugar for the past 3 month</td><td>DIQ_G  </td><td>Diabetes                                                                </td><td>2011</td><td>2012</td><td>Questionnaire</td><td>None</td></tr>\n",
       "\t<tr><td>DIQ275  </td><td>Glycosylated (GLY-KOH-SIH-LAY-TED) hemoglobin or the \"A one C\" test measures your average level of blood sugar for the past 3 mo</td><td>DIQ_H  </td><td>Diabetes                                                                </td><td>2013</td><td>2014</td><td>Questionnaire</td><td>None</td></tr>\n",
       "\t<tr><td>DIQ275  </td><td>Glycosylated (GLY-KOH-SIH-LAY-TED) hemoglobin or the \"A one C\" test measures your average level of blood sugar for the past 3 mo</td><td>DIQ_I  </td><td>Diabetes                                                                </td><td>2015</td><td>2016</td><td>Questionnaire</td><td>None</td></tr>\n",
       "\t<tr><td>DIQ275  </td><td>Glycosylated (GLY-KOH-SIH-LAY-TED) hemoglobin or the \"A one C\" test measures your average level of blood sugar for the past 3 mo</td><td>DIQ_J  </td><td>Diabetes                                                                </td><td>2017</td><td>2018</td><td>Questionnaire</td><td>None</td></tr>\n",
       "\t<tr><td>DIQ275  </td><td>Glycosylated (GLY-KOH-SIH-LAY-TED) hemoglobin or the \"A one C\" test measures your average level of blood sugar for the past 3 mo</td><td>P_DIQ  </td><td>Diabetes                                                                </td><td>2017</td><td>2020</td><td>Questionnaire</td><td>None</td></tr>\n",
       "</tbody>\n",
       "</table>\n"
      ],
      "text/latex": [
       "A data.frame: 43 × 8\n",
       "\\begin{tabular}{llllllll}\n",
       " Variable.Name & Variable.Description & Data.File.Name & Data.File.Description & Begin.Year & EndYear & Component & Use.Constraints\\\\\n",
       " <chr> & <chr> & <chr> & <chr> & <chr> & <chr> & <chr> & <chr>\\\\\n",
       "\\hline\n",
       "\t LBXMC    & Mean cell hemoglobin concentration (g/dL)                                                                                        & CBC\\_E   & Complete Blood Count with 5-part Differential - Whole Blood              & 2007 & 2008 & Laboratory    & None\\\\\n",
       "\t LBXMCHSI & Mean cell hemoglobin (pg)                                                                                                        & CBC\\_E   & Complete Blood Count with 5-part Differential - Whole Blood              & 2007 & 2008 & Laboratory    & None\\\\\n",
       "\t LBXGH    & Glycohemoglobin (\\%)                                                                                                              & GHB\\_E   & Glycohemoglobin                                                          & 2007 & 2008 & Laboratory    & None\\\\\n",
       "\t LBXMC    & Mean cell hemoglobin concentration (g/dL)                                                                                        & LAB25   & Complete Blood Count with 5-part Differential - Whole Blood              & 1999 & 2000 & Laboratory    & None\\\\\n",
       "\t LBXMCHSI & Mean cell hemoglobin (pg)                                                                                                        & LAB25   & Complete Blood Count with 5-part Differential - Whole Blood              & 1999 & 2000 & Laboratory    & None\\\\\n",
       "\t LB2MCHSI & Mean cell hemoglobin (pg)                                                                                                        & l25\\_2\\_b & Complete Blood Count with 5-part Differential - Whole Blood, Second Exam & 2001 & 2002 & Laboratory    & None\\\\\n",
       "\t LBXMC    & Mean cell hemoglobin concentration (g/dL)                                                                                        & CBC\\_D   & Complete Blood Count with 5-Part Differential - Whole Blood              & 2005 & 2006 & Laboratory    & None\\\\\n",
       "\t LBXMCHSI & Mean cell hemoglobin (pg)                                                                                                        & CBC\\_D   & Complete Blood Count with 5-Part Differential - Whole Blood              & 2005 & 2006 & Laboratory    & None\\\\\n",
       "\t LBXGH    & Glycohemoglobin (\\%)                                                                                                              & GHB\\_D   & Glycohemoglobin                                                          & 2005 & 2006 & Laboratory    & None\\\\\n",
       "\t LBXGH    & Glycohemoglobin (\\%)                                                                                                              & L10\\_C   & Glycohemoglobin                                                          & 2003 & 2004 & Laboratory    & None\\\\\n",
       "\t LBXMC    & Mean cell hemoglobin concentration (g/dL)                                                                                        & L25\\_C   & Complete Blood Count with 5-part Differential - Whole Blood              & 2003 & 2004 & Laboratory    & None\\\\\n",
       "\t LBXMCHSI & Mean cell hemoglobin (pg)                                                                                                        & L25\\_C   & Complete Blood Count with 5-part Differential - Whole Blood              & 2003 & 2004 & Laboratory    & None\\\\\n",
       "\t LBXGH    & Glycohemoglobin (\\%)                                                                                                              & L10\\_B   & Glycohemoglobin                                                          & 2001 & 2002 & Laboratory    & None\\\\\n",
       "\t LBXMC    & Mean cell hemoglobin concentration (g/dL)                                                                                        & L25\\_B   & Complete Blood Count with 5-part Differential - Whole Blood              & 2001 & 2002 & Laboratory    & None\\\\\n",
       "\t LBXMCHSI & Mean cell hemoglobin (pg)                                                                                                        & L25\\_B   & Complete Blood Count with 5-part Differential - Whole Blood              & 2001 & 2002 & Laboratory    & None\\\\\n",
       "\t LB2GH    & Glycohemoglobin (\\%)                                                                                                              & L10\\_2\\_B & Glycohemoglobin, Plasma Glucose, Serum C-peptide, \\& Insulin, Second Exam & 2001 & 2002 & Laboratory    & None\\\\\n",
       "\t LBXMC    & Mean cell hemoglobin concentration (g/dL)                                                                                        & CBC\\_F   & Complete Blood Count with 5-part Differential - Whole Blood              & 2009 & 2010 & Laboratory    & None\\\\\n",
       "\t LBXMCHSI & Mean cell hemoglobin (pg)                                                                                                        & CBC\\_F   & Complete Blood Count with 5-part Differential - Whole Blood              & 2009 & 2010 & Laboratory    & None\\\\\n",
       "\t LBXGH    & Glycohemoglobin (\\%)                                                                                                              & GHB\\_F   & Glycohemoglobin                                                          & 2009 & 2010 & Laboratory    & None\\\\\n",
       "\t LBXMC    & Mean cell hemoglobin concentration (g/dL)                                                                                        & CBC\\_G   & Complete Blood Count with 5-part Differential - Whole Blood              & 2011 & 2012 & Laboratory    & None\\\\\n",
       "\t LBXMCHSI & Mean cell hemoglobin (pg)                                                                                                        & CBC\\_G   & Complete Blood Count with 5-part Differential - Whole Blood              & 2011 & 2012 & Laboratory    & None\\\\\n",
       "\t LBXGH    & Glycohemoglobin (\\%)                                                                                                              & GHB\\_G   & Glycohemoglobin                                                          & 2011 & 2012 & Laboratory    & None\\\\\n",
       "\t LBXMC    & Mean cell hemoglobin concentration (g/dL)                                                                                        & CBC\\_H   & Complete Blood Count with 5-part Differential - Whole Blood              & 2013 & 2014 & Laboratory    & None\\\\\n",
       "\t LBXMCHSI & Mean cell hemoglobin (pg)                                                                                                        & CBC\\_H   & Complete Blood Count with 5-part Differential - Whole Blood              & 2013 & 2014 & Laboratory    & None\\\\\n",
       "\t LBXGH    & Glycohemoglobin (\\%)                                                                                                              & GHB\\_H   & Glycohemoglobin                                                          & 2013 & 2014 & Laboratory    & None\\\\\n",
       "\t LBXGH    & Glycohemoglobin (\\%)                                                                                                              & GHB\\_I   & Glycohemoglobin                                                          & 2015 & 2016 & Laboratory    & None\\\\\n",
       "\t LBXMCHSI & Mean cell hemoglobin (pg)                                                                                                        & CBC\\_I   & Complete Blood Count with 5-Part Differential - Whole Blood              & 2015 & 2016 & Laboratory    & None\\\\\n",
       "\t LBXGH    & Glycohemoglobin (\\%)                                                                                                              & GHB\\_J   & Glycohemoglobin                                                          & 2017 & 2018 & Laboratory    & None\\\\\n",
       "\t LBXMC    & Mean cell hemoglobin concentration (g/dL)                                                                                        & CBC\\_J   & Complete Blood Count with 5-Part Differential                            & 2017 & 2018 & Laboratory    & None\\\\\n",
       "\t LBXMCHSI & Mean cell hemoglobin (pg)                                                                                                        & CBC\\_J   & Complete Blood Count with 5-Part Differential                            & 2017 & 2018 & Laboratory    & None\\\\\n",
       "\t LBXGH    & Glycohemoglobin (\\%)                                                                                                              & P\\_GHB   & Glycohemoglobin                                                          & 2017 & 2020 & Laboratory    & None\\\\\n",
       "\t LBXMC    & Mean cell hemoglobin concentration (g/dL)                                                                                        & P\\_CBC   & Complete Blood Count with 5-Part Differential in Whole Blood             & 2017 & 2020 & Laboratory    & None\\\\\n",
       "\t LBXMCHSI & Mean cell hemoglobin (pg)                                                                                                        & P\\_CBC   & Complete Blood Count with 5-Part Differential in Whole Blood             & 2017 & 2020 & Laboratory    & None\\\\\n",
       "\t LBXMC    & Mean cell hemoglobin concentration (g/dL)                                                                                        & CBC\\_L   & Complete Blood Count with 5-Part Differential in Whole Blood             & 2021 & 2023 & Laboratory    & None\\\\\n",
       "\t LBXMCHSI & Mean cell hemoglobin (pg)                                                                                                        & CBC\\_L   & Complete Blood Count with 5-Part Differential in Whole Blood             & 2021 & 2023 & Laboratory    & None\\\\\n",
       "\t LBXGH    & Glycohemoglobin (\\%)                                                                                                              & GHB\\_L   & Glycohemoglobin                                                          & 2021 & 2023 & Laboratory    & None\\\\\n",
       "\t DID270   & Glycosylated (GLY-CO-SYL-AT-ED) hemoglobin or the \"A one C\" test measures the average level of blood sugar over the past 3 month & DIQ\\_E   & Diabetes                                                                 & 2007 & 2008 & Questionnaire & None\\\\\n",
       "\t DID270   & Glycosylated (GLY-CO-SYL-AT-ED) hemoglobin or the \"A one C\" test measures the average level of blood sugar over the past 3 month & DIQ\\_D   & Diabetes                                                                 & 2005 & 2006 & Questionnaire & None\\\\\n",
       "\t DIQ275   & Glycosylated (GLY-CO-SYL-AT-ED) hemoglobin or the \"A one C\" test measures your average level of blood sugar for the past 3 month & DIQ\\_G   & Diabetes                                                                 & 2011 & 2012 & Questionnaire & None\\\\\n",
       "\t DIQ275   & Glycosylated (GLY-KOH-SIH-LAY-TED) hemoglobin or the \"A one C\" test measures your average level of blood sugar for the past 3 mo & DIQ\\_H   & Diabetes                                                                 & 2013 & 2014 & Questionnaire & None\\\\\n",
       "\t DIQ275   & Glycosylated (GLY-KOH-SIH-LAY-TED) hemoglobin or the \"A one C\" test measures your average level of blood sugar for the past 3 mo & DIQ\\_I   & Diabetes                                                                 & 2015 & 2016 & Questionnaire & None\\\\\n",
       "\t DIQ275   & Glycosylated (GLY-KOH-SIH-LAY-TED) hemoglobin or the \"A one C\" test measures your average level of blood sugar for the past 3 mo & DIQ\\_J   & Diabetes                                                                 & 2017 & 2018 & Questionnaire & None\\\\\n",
       "\t DIQ275   & Glycosylated (GLY-KOH-SIH-LAY-TED) hemoglobin or the \"A one C\" test measures your average level of blood sugar for the past 3 mo & P\\_DIQ   & Diabetes                                                                 & 2017 & 2020 & Questionnaire & None\\\\\n",
       "\\end{tabular}\n"
      ],
      "text/markdown": [
       "\n",
       "A data.frame: 43 × 8\n",
       "\n",
       "| Variable.Name &lt;chr&gt; | Variable.Description &lt;chr&gt; | Data.File.Name &lt;chr&gt; | Data.File.Description &lt;chr&gt; | Begin.Year &lt;chr&gt; | EndYear &lt;chr&gt; | Component &lt;chr&gt; | Use.Constraints &lt;chr&gt; |\n",
       "|---|---|---|---|---|---|---|---|\n",
       "| LBXMC    | Mean cell hemoglobin concentration (g/dL)                                                                                        | CBC_E   | Complete Blood Count with 5-part Differential - Whole Blood              | 2007 | 2008 | Laboratory    | None |\n",
       "| LBXMCHSI | Mean cell hemoglobin (pg)                                                                                                        | CBC_E   | Complete Blood Count with 5-part Differential - Whole Blood              | 2007 | 2008 | Laboratory    | None |\n",
       "| LBXGH    | Glycohemoglobin (%)                                                                                                              | GHB_E   | Glycohemoglobin                                                          | 2007 | 2008 | Laboratory    | None |\n",
       "| LBXMC    | Mean cell hemoglobin concentration (g/dL)                                                                                        | LAB25   | Complete Blood Count with 5-part Differential - Whole Blood              | 1999 | 2000 | Laboratory    | None |\n",
       "| LBXMCHSI | Mean cell hemoglobin (pg)                                                                                                        | LAB25   | Complete Blood Count with 5-part Differential - Whole Blood              | 1999 | 2000 | Laboratory    | None |\n",
       "| LB2MCHSI | Mean cell hemoglobin (pg)                                                                                                        | l25_2_b | Complete Blood Count with 5-part Differential - Whole Blood, Second Exam | 2001 | 2002 | Laboratory    | None |\n",
       "| LBXMC    | Mean cell hemoglobin concentration (g/dL)                                                                                        | CBC_D   | Complete Blood Count with 5-Part Differential - Whole Blood              | 2005 | 2006 | Laboratory    | None |\n",
       "| LBXMCHSI | Mean cell hemoglobin (pg)                                                                                                        | CBC_D   | Complete Blood Count with 5-Part Differential - Whole Blood              | 2005 | 2006 | Laboratory    | None |\n",
       "| LBXGH    | Glycohemoglobin (%)                                                                                                              | GHB_D   | Glycohemoglobin                                                          | 2005 | 2006 | Laboratory    | None |\n",
       "| LBXGH    | Glycohemoglobin (%)                                                                                                              | L10_C   | Glycohemoglobin                                                          | 2003 | 2004 | Laboratory    | None |\n",
       "| LBXMC    | Mean cell hemoglobin concentration (g/dL)                                                                                        | L25_C   | Complete Blood Count with 5-part Differential - Whole Blood              | 2003 | 2004 | Laboratory    | None |\n",
       "| LBXMCHSI | Mean cell hemoglobin (pg)                                                                                                        | L25_C   | Complete Blood Count with 5-part Differential - Whole Blood              | 2003 | 2004 | Laboratory    | None |\n",
       "| LBXGH    | Glycohemoglobin (%)                                                                                                              | L10_B   | Glycohemoglobin                                                          | 2001 | 2002 | Laboratory    | None |\n",
       "| LBXMC    | Mean cell hemoglobin concentration (g/dL)                                                                                        | L25_B   | Complete Blood Count with 5-part Differential - Whole Blood              | 2001 | 2002 | Laboratory    | None |\n",
       "| LBXMCHSI | Mean cell hemoglobin (pg)                                                                                                        | L25_B   | Complete Blood Count with 5-part Differential - Whole Blood              | 2001 | 2002 | Laboratory    | None |\n",
       "| LB2GH    | Glycohemoglobin (%)                                                                                                              | L10_2_B | Glycohemoglobin, Plasma Glucose, Serum C-peptide, &amp; Insulin, Second Exam | 2001 | 2002 | Laboratory    | None |\n",
       "| LBXMC    | Mean cell hemoglobin concentration (g/dL)                                                                                        | CBC_F   | Complete Blood Count with 5-part Differential - Whole Blood              | 2009 | 2010 | Laboratory    | None |\n",
       "| LBXMCHSI | Mean cell hemoglobin (pg)                                                                                                        | CBC_F   | Complete Blood Count with 5-part Differential - Whole Blood              | 2009 | 2010 | Laboratory    | None |\n",
       "| LBXGH    | Glycohemoglobin (%)                                                                                                              | GHB_F   | Glycohemoglobin                                                          | 2009 | 2010 | Laboratory    | None |\n",
       "| LBXMC    | Mean cell hemoglobin concentration (g/dL)                                                                                        | CBC_G   | Complete Blood Count with 5-part Differential - Whole Blood              | 2011 | 2012 | Laboratory    | None |\n",
       "| LBXMCHSI | Mean cell hemoglobin (pg)                                                                                                        | CBC_G   | Complete Blood Count with 5-part Differential - Whole Blood              | 2011 | 2012 | Laboratory    | None |\n",
       "| LBXGH    | Glycohemoglobin (%)                                                                                                              | GHB_G   | Glycohemoglobin                                                          | 2011 | 2012 | Laboratory    | None |\n",
       "| LBXMC    | Mean cell hemoglobin concentration (g/dL)                                                                                        | CBC_H   | Complete Blood Count with 5-part Differential - Whole Blood              | 2013 | 2014 | Laboratory    | None |\n",
       "| LBXMCHSI | Mean cell hemoglobin (pg)                                                                                                        | CBC_H   | Complete Blood Count with 5-part Differential - Whole Blood              | 2013 | 2014 | Laboratory    | None |\n",
       "| LBXGH    | Glycohemoglobin (%)                                                                                                              | GHB_H   | Glycohemoglobin                                                          | 2013 | 2014 | Laboratory    | None |\n",
       "| LBXGH    | Glycohemoglobin (%)                                                                                                              | GHB_I   | Glycohemoglobin                                                          | 2015 | 2016 | Laboratory    | None |\n",
       "| LBXMCHSI | Mean cell hemoglobin (pg)                                                                                                        | CBC_I   | Complete Blood Count with 5-Part Differential - Whole Blood              | 2015 | 2016 | Laboratory    | None |\n",
       "| LBXGH    | Glycohemoglobin (%)                                                                                                              | GHB_J   | Glycohemoglobin                                                          | 2017 | 2018 | Laboratory    | None |\n",
       "| LBXMC    | Mean cell hemoglobin concentration (g/dL)                                                                                        | CBC_J   | Complete Blood Count with 5-Part Differential                            | 2017 | 2018 | Laboratory    | None |\n",
       "| LBXMCHSI | Mean cell hemoglobin (pg)                                                                                                        | CBC_J   | Complete Blood Count with 5-Part Differential                            | 2017 | 2018 | Laboratory    | None |\n",
       "| LBXGH    | Glycohemoglobin (%)                                                                                                              | P_GHB   | Glycohemoglobin                                                          | 2017 | 2020 | Laboratory    | None |\n",
       "| LBXMC    | Mean cell hemoglobin concentration (g/dL)                                                                                        | P_CBC   | Complete Blood Count with 5-Part Differential in Whole Blood             | 2017 | 2020 | Laboratory    | None |\n",
       "| LBXMCHSI | Mean cell hemoglobin (pg)                                                                                                        | P_CBC   | Complete Blood Count with 5-Part Differential in Whole Blood             | 2017 | 2020 | Laboratory    | None |\n",
       "| LBXMC    | Mean cell hemoglobin concentration (g/dL)                                                                                        | CBC_L   | Complete Blood Count with 5-Part Differential in Whole Blood             | 2021 | 2023 | Laboratory    | None |\n",
       "| LBXMCHSI | Mean cell hemoglobin (pg)                                                                                                        | CBC_L   | Complete Blood Count with 5-Part Differential in Whole Blood             | 2021 | 2023 | Laboratory    | None |\n",
       "| LBXGH    | Glycohemoglobin (%)                                                                                                              | GHB_L   | Glycohemoglobin                                                          | 2021 | 2023 | Laboratory    | None |\n",
       "| DID270   | Glycosylated (GLY-CO-SYL-AT-ED) hemoglobin or the \"A one C\" test measures the average level of blood sugar over the past 3 month | DIQ_E   | Diabetes                                                                 | 2007 | 2008 | Questionnaire | None |\n",
       "| DID270   | Glycosylated (GLY-CO-SYL-AT-ED) hemoglobin or the \"A one C\" test measures the average level of blood sugar over the past 3 month | DIQ_D   | Diabetes                                                                 | 2005 | 2006 | Questionnaire | None |\n",
       "| DIQ275   | Glycosylated (GLY-CO-SYL-AT-ED) hemoglobin or the \"A one C\" test measures your average level of blood sugar for the past 3 month | DIQ_G   | Diabetes                                                                 | 2011 | 2012 | Questionnaire | None |\n",
       "| DIQ275   | Glycosylated (GLY-KOH-SIH-LAY-TED) hemoglobin or the \"A one C\" test measures your average level of blood sugar for the past 3 mo | DIQ_H   | Diabetes                                                                 | 2013 | 2014 | Questionnaire | None |\n",
       "| DIQ275   | Glycosylated (GLY-KOH-SIH-LAY-TED) hemoglobin or the \"A one C\" test measures your average level of blood sugar for the past 3 mo | DIQ_I   | Diabetes                                                                 | 2015 | 2016 | Questionnaire | None |\n",
       "| DIQ275   | Glycosylated (GLY-KOH-SIH-LAY-TED) hemoglobin or the \"A one C\" test measures your average level of blood sugar for the past 3 mo | DIQ_J   | Diabetes                                                                 | 2017 | 2018 | Questionnaire | None |\n",
       "| DIQ275   | Glycosylated (GLY-KOH-SIH-LAY-TED) hemoglobin or the \"A one C\" test measures your average level of blood sugar for the past 3 mo | P_DIQ   | Diabetes                                                                 | 2017 | 2020 | Questionnaire | None |\n",
       "\n"
      ],
      "text/plain": [
       "   Variable.Name\n",
       "1  LBXMC        \n",
       "2  LBXMCHSI     \n",
       "3  LBXGH        \n",
       "4  LBXMC        \n",
       "5  LBXMCHSI     \n",
       "6  LB2MCHSI     \n",
       "7  LBXMC        \n",
       "8  LBXMCHSI     \n",
       "9  LBXGH        \n",
       "10 LBXGH        \n",
       "11 LBXMC        \n",
       "12 LBXMCHSI     \n",
       "13 LBXGH        \n",
       "14 LBXMC        \n",
       "15 LBXMCHSI     \n",
       "16 LB2GH        \n",
       "17 LBXMC        \n",
       "18 LBXMCHSI     \n",
       "19 LBXGH        \n",
       "20 LBXMC        \n",
       "21 LBXMCHSI     \n",
       "22 LBXGH        \n",
       "23 LBXMC        \n",
       "24 LBXMCHSI     \n",
       "25 LBXGH        \n",
       "26 LBXGH        \n",
       "27 LBXMCHSI     \n",
       "28 LBXGH        \n",
       "29 LBXMC        \n",
       "30 LBXMCHSI     \n",
       "31 LBXGH        \n",
       "32 LBXMC        \n",
       "33 LBXMCHSI     \n",
       "34 LBXMC        \n",
       "35 LBXMCHSI     \n",
       "36 LBXGH        \n",
       "37 DID270       \n",
       "38 DID270       \n",
       "39 DIQ275       \n",
       "40 DIQ275       \n",
       "41 DIQ275       \n",
       "42 DIQ275       \n",
       "43 DIQ275       \n",
       "   Variable.Description                                                                                                            \n",
       "1  Mean cell hemoglobin concentration (g/dL)                                                                                       \n",
       "2  Mean cell hemoglobin (pg)                                                                                                       \n",
       "3  Glycohemoglobin (%)                                                                                                             \n",
       "4  Mean cell hemoglobin concentration (g/dL)                                                                                       \n",
       "5  Mean cell hemoglobin (pg)                                                                                                       \n",
       "6  Mean cell hemoglobin (pg)                                                                                                       \n",
       "7  Mean cell hemoglobin concentration (g/dL)                                                                                       \n",
       "8  Mean cell hemoglobin (pg)                                                                                                       \n",
       "9  Glycohemoglobin (%)                                                                                                             \n",
       "10 Glycohemoglobin (%)                                                                                                             \n",
       "11 Mean cell hemoglobin concentration (g/dL)                                                                                       \n",
       "12 Mean cell hemoglobin (pg)                                                                                                       \n",
       "13 Glycohemoglobin (%)                                                                                                             \n",
       "14 Mean cell hemoglobin concentration (g/dL)                                                                                       \n",
       "15 Mean cell hemoglobin (pg)                                                                                                       \n",
       "16 Glycohemoglobin (%)                                                                                                             \n",
       "17 Mean cell hemoglobin concentration (g/dL)                                                                                       \n",
       "18 Mean cell hemoglobin (pg)                                                                                                       \n",
       "19 Glycohemoglobin (%)                                                                                                             \n",
       "20 Mean cell hemoglobin concentration (g/dL)                                                                                       \n",
       "21 Mean cell hemoglobin (pg)                                                                                                       \n",
       "22 Glycohemoglobin (%)                                                                                                             \n",
       "23 Mean cell hemoglobin concentration (g/dL)                                                                                       \n",
       "24 Mean cell hemoglobin (pg)                                                                                                       \n",
       "25 Glycohemoglobin (%)                                                                                                             \n",
       "26 Glycohemoglobin (%)                                                                                                             \n",
       "27 Mean cell hemoglobin (pg)                                                                                                       \n",
       "28 Glycohemoglobin (%)                                                                                                             \n",
       "29 Mean cell hemoglobin concentration (g/dL)                                                                                       \n",
       "30 Mean cell hemoglobin (pg)                                                                                                       \n",
       "31 Glycohemoglobin (%)                                                                                                             \n",
       "32 Mean cell hemoglobin concentration (g/dL)                                                                                       \n",
       "33 Mean cell hemoglobin (pg)                                                                                                       \n",
       "34 Mean cell hemoglobin concentration (g/dL)                                                                                       \n",
       "35 Mean cell hemoglobin (pg)                                                                                                       \n",
       "36 Glycohemoglobin (%)                                                                                                             \n",
       "37 Glycosylated (GLY-CO-SYL-AT-ED) hemoglobin or the \"A one C\" test measures the average level of blood sugar over the past 3 month\n",
       "38 Glycosylated (GLY-CO-SYL-AT-ED) hemoglobin or the \"A one C\" test measures the average level of blood sugar over the past 3 month\n",
       "39 Glycosylated (GLY-CO-SYL-AT-ED) hemoglobin or the \"A one C\" test measures your average level of blood sugar for the past 3 month\n",
       "40 Glycosylated (GLY-KOH-SIH-LAY-TED) hemoglobin or the \"A one C\" test measures your average level of blood sugar for the past 3 mo\n",
       "41 Glycosylated (GLY-KOH-SIH-LAY-TED) hemoglobin or the \"A one C\" test measures your average level of blood sugar for the past 3 mo\n",
       "42 Glycosylated (GLY-KOH-SIH-LAY-TED) hemoglobin or the \"A one C\" test measures your average level of blood sugar for the past 3 mo\n",
       "43 Glycosylated (GLY-KOH-SIH-LAY-TED) hemoglobin or the \"A one C\" test measures your average level of blood sugar for the past 3 mo\n",
       "   Data.File.Name\n",
       "1  CBC_E         \n",
       "2  CBC_E         \n",
       "3  GHB_E         \n",
       "4  LAB25         \n",
       "5  LAB25         \n",
       "6  l25_2_b       \n",
       "7  CBC_D         \n",
       "8  CBC_D         \n",
       "9  GHB_D         \n",
       "10 L10_C         \n",
       "11 L25_C         \n",
       "12 L25_C         \n",
       "13 L10_B         \n",
       "14 L25_B         \n",
       "15 L25_B         \n",
       "16 L10_2_B       \n",
       "17 CBC_F         \n",
       "18 CBC_F         \n",
       "19 GHB_F         \n",
       "20 CBC_G         \n",
       "21 CBC_G         \n",
       "22 GHB_G         \n",
       "23 CBC_H         \n",
       "24 CBC_H         \n",
       "25 GHB_H         \n",
       "26 GHB_I         \n",
       "27 CBC_I         \n",
       "28 GHB_J         \n",
       "29 CBC_J         \n",
       "30 CBC_J         \n",
       "31 P_GHB         \n",
       "32 P_CBC         \n",
       "33 P_CBC         \n",
       "34 CBC_L         \n",
       "35 CBC_L         \n",
       "36 GHB_L         \n",
       "37 DIQ_E         \n",
       "38 DIQ_D         \n",
       "39 DIQ_G         \n",
       "40 DIQ_H         \n",
       "41 DIQ_I         \n",
       "42 DIQ_J         \n",
       "43 P_DIQ         \n",
       "   Data.File.Description                                                   \n",
       "1  Complete Blood Count with 5-part Differential - Whole Blood             \n",
       "2  Complete Blood Count with 5-part Differential - Whole Blood             \n",
       "3  Glycohemoglobin                                                         \n",
       "4  Complete Blood Count with 5-part Differential - Whole Blood             \n",
       "5  Complete Blood Count with 5-part Differential - Whole Blood             \n",
       "6  Complete Blood Count with 5-part Differential - Whole Blood, Second Exam\n",
       "7  Complete Blood Count with 5-Part Differential - Whole Blood             \n",
       "8  Complete Blood Count with 5-Part Differential - Whole Blood             \n",
       "9  Glycohemoglobin                                                         \n",
       "10 Glycohemoglobin                                                         \n",
       "11 Complete Blood Count with 5-part Differential - Whole Blood             \n",
       "12 Complete Blood Count with 5-part Differential - Whole Blood             \n",
       "13 Glycohemoglobin                                                         \n",
       "14 Complete Blood Count with 5-part Differential - Whole Blood             \n",
       "15 Complete Blood Count with 5-part Differential - Whole Blood             \n",
       "16 Glycohemoglobin, Plasma Glucose, Serum C-peptide, & Insulin, Second Exam\n",
       "17 Complete Blood Count with 5-part Differential - Whole Blood             \n",
       "18 Complete Blood Count with 5-part Differential - Whole Blood             \n",
       "19 Glycohemoglobin                                                         \n",
       "20 Complete Blood Count with 5-part Differential - Whole Blood             \n",
       "21 Complete Blood Count with 5-part Differential - Whole Blood             \n",
       "22 Glycohemoglobin                                                         \n",
       "23 Complete Blood Count with 5-part Differential - Whole Blood             \n",
       "24 Complete Blood Count with 5-part Differential - Whole Blood             \n",
       "25 Glycohemoglobin                                                         \n",
       "26 Glycohemoglobin                                                         \n",
       "27 Complete Blood Count with 5-Part Differential - Whole Blood             \n",
       "28 Glycohemoglobin                                                         \n",
       "29 Complete Blood Count with 5-Part Differential                           \n",
       "30 Complete Blood Count with 5-Part Differential                           \n",
       "31 Glycohemoglobin                                                         \n",
       "32 Complete Blood Count with 5-Part Differential in Whole Blood            \n",
       "33 Complete Blood Count with 5-Part Differential in Whole Blood            \n",
       "34 Complete Blood Count with 5-Part Differential in Whole Blood            \n",
       "35 Complete Blood Count with 5-Part Differential in Whole Blood            \n",
       "36 Glycohemoglobin                                                         \n",
       "37 Diabetes                                                                \n",
       "38 Diabetes                                                                \n",
       "39 Diabetes                                                                \n",
       "40 Diabetes                                                                \n",
       "41 Diabetes                                                                \n",
       "42 Diabetes                                                                \n",
       "43 Diabetes                                                                \n",
       "   Begin.Year EndYear Component     Use.Constraints\n",
       "1  2007       2008    Laboratory    None           \n",
       "2  2007       2008    Laboratory    None           \n",
       "3  2007       2008    Laboratory    None           \n",
       "4  1999       2000    Laboratory    None           \n",
       "5  1999       2000    Laboratory    None           \n",
       "6  2001       2002    Laboratory    None           \n",
       "7  2005       2006    Laboratory    None           \n",
       "8  2005       2006    Laboratory    None           \n",
       "9  2005       2006    Laboratory    None           \n",
       "10 2003       2004    Laboratory    None           \n",
       "11 2003       2004    Laboratory    None           \n",
       "12 2003       2004    Laboratory    None           \n",
       "13 2001       2002    Laboratory    None           \n",
       "14 2001       2002    Laboratory    None           \n",
       "15 2001       2002    Laboratory    None           \n",
       "16 2001       2002    Laboratory    None           \n",
       "17 2009       2010    Laboratory    None           \n",
       "18 2009       2010    Laboratory    None           \n",
       "19 2009       2010    Laboratory    None           \n",
       "20 2011       2012    Laboratory    None           \n",
       "21 2011       2012    Laboratory    None           \n",
       "22 2011       2012    Laboratory    None           \n",
       "23 2013       2014    Laboratory    None           \n",
       "24 2013       2014    Laboratory    None           \n",
       "25 2013       2014    Laboratory    None           \n",
       "26 2015       2016    Laboratory    None           \n",
       "27 2015       2016    Laboratory    None           \n",
       "28 2017       2018    Laboratory    None           \n",
       "29 2017       2018    Laboratory    None           \n",
       "30 2017       2018    Laboratory    None           \n",
       "31 2017       2020    Laboratory    None           \n",
       "32 2017       2020    Laboratory    None           \n",
       "33 2017       2020    Laboratory    None           \n",
       "34 2021       2023    Laboratory    None           \n",
       "35 2021       2023    Laboratory    None           \n",
       "36 2021       2023    Laboratory    None           \n",
       "37 2007       2008    Questionnaire None           \n",
       "38 2005       2006    Questionnaire None           \n",
       "39 2011       2012    Questionnaire None           \n",
       "40 2013       2014    Questionnaire None           \n",
       "41 2015       2016    Questionnaire None           \n",
       "42 2017       2018    Questionnaire None           \n",
       "43 2017       2020    Questionnaire None           "
      ]
     },
     "metadata": {},
     "output_type": "display_data"
    }
   ],
   "source": [
    "# blood glucose levels?\n",
    "nhanesSearch(\"hemoglobin\")"
   ]
  },
  {
   "cell_type": "code",
   "execution_count": 68,
   "id": "a99bf5fa",
   "metadata": {
    "slideshow": {
     "slide_type": "slide"
    }
   },
   "outputs": [
    {
     "name": "stderr",
     "output_type": "stream",
     "text": [
      "Warning message in .codeBookHelper(colname[i], hurl):\n",
      "“Column \"LBXGH\" not found”\n"
     ]
    },
    {
     "data": {
      "text/html": [
       "<dl>\n",
       "</dl>\n"
      ],
      "text/latex": [
       "\\begin{description}\n",
       "\\end{description}\n"
      ],
      "text/markdown": [
       "\n",
       "\n"
      ],
      "text/plain": [
       "named list()"
      ]
     },
     "metadata": {},
     "output_type": "display_data"
    }
   ],
   "source": [
    "nhanesCodebook('GLU_J', 'LBXGH')"
   ]
  },
  {
   "cell_type": "code",
   "execution_count": 66,
   "id": "8b255361",
   "metadata": {
    "slideshow": {
     "slide_type": "slide"
    }
   },
   "outputs": [
    {
     "name": "stderr",
     "output_type": "stream",
     "text": [
      "Warning message:\n",
      "“\u001b[1m\u001b[22mRemoved 145 rows containing non-finite values (`stat_bin()`).”\n"
     ]
    },
    {
     "data": {
      "image/png": "[encoded data removed]",
      "text/plain": [
       "plot without title"
      ]
     },
     "metadata": {
      "image/png": {
       "height": 300,
       "width": 600
      }
     },
     "output_type": "display_data"
    }
   ],
   "source": [
    "glu_df <- nhanes(\"GLU_J\")\n",
    "glu_df %>% ggplot + geom_histogram(aes(x=LBXGLU), bins=100)"
   ]
  },
  {
   "cell_type": "code",
   "execution_count": 10,
   "id": "a0a339ac",
   "metadata": {
    "slideshow": {
     "slide_type": "slide"
    }
   },
   "outputs": [
    {
     "data": {
      "text/html": [
       "<dl>\n",
       "\t<dt>$`Variable Name:`</dt>\n",
       "\t\t<dd>'LBXGLU'</dd>\n",
       "\t<dt>$`SAS Label:`</dt>\n",
       "\t\t<dd>'Fasting Glucose (mg/dL)'</dd>\n",
       "\t<dt>$`English Text:`</dt>\n",
       "\t\t<dd>'Fasting Glucose (mg/dL)'</dd>\n",
       "\t<dt>$`Target:`</dt>\n",
       "\t\t<dd>'Both males and females 12 YEARS -\\r 150 YEARS'</dd>\n",
       "\t<dt>$LBXGLU</dt>\n",
       "\t\t<dd><table class=\"dataframe\">\n",
       "<caption>A tibble: 2 × 5</caption>\n",
       "<thead>\n",
       "\t<tr><th scope=col>Code or Value</th><th scope=col>Value Description</th><th scope=col>Count</th><th scope=col>Cumulative</th><th scope=col>Skip to Item</th></tr>\n",
       "\t<tr><th scope=col>&lt;chr&gt;</th><th scope=col>&lt;chr&gt;</th><th scope=col>&lt;int&gt;</th><th scope=col>&lt;int&gt;</th><th scope=col>&lt;lgl&gt;</th></tr>\n",
       "</thead>\n",
       "<tbody>\n",
       "\t<tr><td>47 to 451</td><td>Range of Values</td><td>2891</td><td>2891</td><td>NA</td></tr>\n",
       "\t<tr><td>.        </td><td>Missing        </td><td> 145</td><td>3036</td><td>NA</td></tr>\n",
       "</tbody>\n",
       "</table>\n",
       "</dd>\n",
       "</dl>\n"
      ],
      "text/latex": [
       "\\begin{description}\n",
       "\\item[\\$`Variable Name:`] 'LBXGLU'\n",
       "\\item[\\$`SAS Label:`] 'Fasting Glucose (mg/dL)'\n",
       "\\item[\\$`English Text:`] 'Fasting Glucose (mg/dL)'\n",
       "\\item[\\$`Target:`] 'Both males and females 12 YEARS -\\textbackslash{}r 150 YEARS'\n",
       "\\item[\\$LBXGLU] A tibble: 2 × 5\n",
       "\\begin{tabular}{lllll}\n",
       " Code or Value & Value Description & Count & Cumulative & Skip to Item\\\\\n",
       " <chr> & <chr> & <int> & <int> & <lgl>\\\\\n",
       "\\hline\n",
       "\t 47 to 451 & Range of Values & 2891 & 2891 & NA\\\\\n",
       "\t .         & Missing         &  145 & 3036 & NA\\\\\n",
       "\\end{tabular}\n",
       "\n",
       "\\end{description}\n"
      ],
      "text/markdown": [
       "$`Variable Name:`\n",
       ":   'LBXGLU'\n",
       "$`SAS Label:`\n",
       ":   'Fasting Glucose (mg/dL)'\n",
       "$`English Text:`\n",
       ":   'Fasting Glucose (mg/dL)'\n",
       "$`Target:`\n",
       ":   'Both males and females 12 YEARS -\\r 150 YEARS'\n",
       "$LBXGLU\n",
       ":   \n",
       "A tibble: 2 × 5\n",
       "\n",
       "| Code or Value &lt;chr&gt; | Value Description &lt;chr&gt; | Count &lt;int&gt; | Cumulative &lt;int&gt; | Skip to Item &lt;lgl&gt; |\n",
       "|---|---|---|---|---|\n",
       "| 47 to 451 | Range of Values | 2891 | 2891 | NA |\n",
       "| .         | Missing         |  145 | 3036 | NA |\n",
       "\n",
       "\n",
       "\n",
       "\n"
      ],
      "text/plain": [
       "$`Variable Name:`\n",
       "[1] \"LBXGLU\"\n",
       "\n",
       "$`SAS Label:`\n",
       "[1] \"Fasting Glucose (mg/dL)\"\n",
       "\n",
       "$`English Text:`\n",
       "[1] \"Fasting Glucose (mg/dL)\"\n",
       "\n",
       "$`Target:`\n",
       "[1] \"Both males and females 12 YEARS -\\r 150 YEARS\"\n",
       "\n",
       "$LBXGLU\n",
       "\u001b[90m# A tibble: 2 × 5\u001b[39m\n",
       "  `Code or Value` `Value Description` Count Cumulative `Skip to Item`\n",
       "  \u001b[3m\u001b[90m<chr>\u001b[39m\u001b[23m           \u001b[3m\u001b[90m<chr>\u001b[39m\u001b[23m               \u001b[3m\u001b[90m<int>\u001b[39m\u001b[23m      \u001b[3m\u001b[90m<int>\u001b[39m\u001b[23m \u001b[3m\u001b[90m<lgl>\u001b[39m\u001b[23m         \n",
       "\u001b[90m1\u001b[39m 47 to 451       Range of Values      \u001b[4m2\u001b[24m891       \u001b[4m2\u001b[24m891 \u001b[31mNA\u001b[39m            \n",
       "\u001b[90m2\u001b[39m .               Missing               145       \u001b[4m3\u001b[24m036 \u001b[31mNA\u001b[39m            \n"
      ]
     },
     "metadata": {},
     "output_type": "display_data"
    }
   ],
   "source": [
    "nhanesCodebook('GLU_J', 'LBXGLU')"
   ]
  },
  {
   "cell_type": "code",
   "execution_count": 11,
   "id": "99ddbec7",
   "metadata": {
    "slideshow": {
     "slide_type": "slide"
    }
   },
   "outputs": [
    {
     "data": {
      "text/html": [
       "<table class=\"dataframe\">\n",
       "<caption>A data.frame: 46 × 8</caption>\n",
       "<thead>\n",
       "\t<tr><th scope=col>Variable.Name</th><th scope=col>Variable.Description</th><th scope=col>Data.File.Name</th><th scope=col>Data.File.Description</th><th scope=col>Begin.Year</th><th scope=col>EndYear</th><th scope=col>Component</th><th scope=col>Use.Constraints</th></tr>\n",
       "\t<tr><th scope=col>&lt;chr&gt;</th><th scope=col>&lt;chr&gt;</th><th scope=col>&lt;chr&gt;</th><th scope=col>&lt;chr&gt;</th><th scope=col>&lt;chr&gt;</th><th scope=col>&lt;chr&gt;</th><th scope=col>&lt;chr&gt;</th><th scope=col>&lt;chr&gt;</th></tr>\n",
       "</thead>\n",
       "<tbody>\n",
       "\t<tr><td><span style=white-space:pre-wrap>LBDLDL  </span></td><td><span style=white-space:pre-wrap>LDL-cholesterol (mg/dL)                                                                                                             </span></td><td>TRIGLY_E</td><td><span style=white-space:pre-wrap>Cholesterol - LDL &amp; Triglycerides                            </span></td><td>2007</td><td>2008</td><td><span style=white-space:pre-wrap>Laboratory   </span></td><td>None</td></tr>\n",
       "\t<tr><td>LBDLDLSI</td><td><span style=white-space:pre-wrap>LDL-cholesterol (mmol/L)                                                                                                            </span></td><td>TRIGLY_E</td><td><span style=white-space:pre-wrap>Cholesterol - LDL &amp; Triglycerides                            </span></td><td>2007</td><td>2008</td><td><span style=white-space:pre-wrap>Laboratory   </span></td><td>None</td></tr>\n",
       "\t<tr><td><span style=white-space:pre-wrap>LBDLDL  </span></td><td><span style=white-space:pre-wrap>LDL-cholesterol (mg/dL)                                                                                                             </span></td><td>LAB13AM </td><td><span style=white-space:pre-wrap>Cholesterol - LDL &amp; Triglycerides                            </span></td><td>1999</td><td>2000</td><td><span style=white-space:pre-wrap>Laboratory   </span></td><td>None</td></tr>\n",
       "\t<tr><td>LBDLDLSI</td><td><span style=white-space:pre-wrap>LDL-cholesterol (mmol/L)                                                                                                            </span></td><td>LAB13AM </td><td><span style=white-space:pre-wrap>Cholesterol - LDL &amp; Triglycerides                            </span></td><td>1999</td><td>2000</td><td><span style=white-space:pre-wrap>Laboratory   </span></td><td>None</td></tr>\n",
       "\t<tr><td><span style=white-space:pre-wrap>LB2LDL  </span></td><td><span style=white-space:pre-wrap>LDL-cholesterol (mg/dL)                                                                                                             </span></td><td>l13_2_b </td><td><span style=white-space:pre-wrap>Cholesterol - Total, HDL, LDL  &amp; Triglycerides, Second Exam  </span></td><td>2001</td><td>2002</td><td><span style=white-space:pre-wrap>Laboratory   </span></td><td>None</td></tr>\n",
       "\t<tr><td>LB2LDLSI</td><td><span style=white-space:pre-wrap>LDL-cholesterol (mmol/L)                                                                                                            </span></td><td>l13_2_b </td><td><span style=white-space:pre-wrap>Cholesterol - Total, HDL, LDL  &amp; Triglycerides, Second Exam  </span></td><td>2001</td><td>2002</td><td><span style=white-space:pre-wrap>Laboratory   </span></td><td>None</td></tr>\n",
       "\t<tr><td><span style=white-space:pre-wrap>LBDLDL  </span></td><td><span style=white-space:pre-wrap>LDL-cholesterol (mg/dL)                                                                                                             </span></td><td>TRIGLY_D</td><td><span style=white-space:pre-wrap>Cholesterol - LDL, Triglyceride &amp; Apoliprotein (ApoB)        </span></td><td>2005</td><td>2006</td><td><span style=white-space:pre-wrap>Laboratory   </span></td><td>None</td></tr>\n",
       "\t<tr><td>LBDLDLSI</td><td><span style=white-space:pre-wrap>LDL-cholesterol (mmol/L)                                                                                                            </span></td><td>TRIGLY_D</td><td><span style=white-space:pre-wrap>Cholesterol - LDL, Triglyceride &amp; Apoliprotein (ApoB)        </span></td><td>2005</td><td>2006</td><td><span style=white-space:pre-wrap>Laboratory   </span></td><td>None</td></tr>\n",
       "\t<tr><td><span style=white-space:pre-wrap>LBDLDL  </span></td><td><span style=white-space:pre-wrap>LDL-cholesterol (mg/dL)                                                                                                             </span></td><td>L13AM_C </td><td><span style=white-space:pre-wrap>Cholesterol - LDL &amp; Triglycerides                            </span></td><td>2003</td><td>2004</td><td><span style=white-space:pre-wrap>Laboratory   </span></td><td>None</td></tr>\n",
       "\t<tr><td>LBDLDLSI</td><td><span style=white-space:pre-wrap>LDL-cholesterol (mmol/L)                                                                                                            </span></td><td>L13AM_C </td><td><span style=white-space:pre-wrap>Cholesterol - LDL &amp; Triglycerides                            </span></td><td>2003</td><td>2004</td><td><span style=white-space:pre-wrap>Laboratory   </span></td><td>None</td></tr>\n",
       "\t<tr><td><span style=white-space:pre-wrap>LBDLDL  </span></td><td><span style=white-space:pre-wrap>LDL-cholesterol (mg/dL)                                                                                                             </span></td><td>L13AM_B </td><td><span style=white-space:pre-wrap>Cholesterol - LDL &amp; Triglycerides                            </span></td><td>2001</td><td>2002</td><td><span style=white-space:pre-wrap>Laboratory   </span></td><td>None</td></tr>\n",
       "\t<tr><td>LBDLDLSI</td><td><span style=white-space:pre-wrap>LDL-cholesterol (mmol/L)                                                                                                            </span></td><td>L13AM_B </td><td><span style=white-space:pre-wrap>Cholesterol - LDL &amp; Triglycerides                            </span></td><td>2001</td><td>2002</td><td><span style=white-space:pre-wrap>Laboratory   </span></td><td>None</td></tr>\n",
       "\t<tr><td><span style=white-space:pre-wrap>LBDLDL  </span></td><td><span style=white-space:pre-wrap>LDL-cholesterol (mg/dL)                                                                                                             </span></td><td>TRIGLY_F</td><td><span style=white-space:pre-wrap>Cholesterol - LDL &amp; Triglycerides                            </span></td><td>2009</td><td>2010</td><td><span style=white-space:pre-wrap>Laboratory   </span></td><td>None</td></tr>\n",
       "\t<tr><td>LBDLDLSI</td><td><span style=white-space:pre-wrap>LDL-cholesterol (mmol/L)                                                                                                            </span></td><td>TRIGLY_F</td><td><span style=white-space:pre-wrap>Cholesterol - LDL &amp; Triglycerides                            </span></td><td>2009</td><td>2010</td><td><span style=white-space:pre-wrap>Laboratory   </span></td><td>None</td></tr>\n",
       "\t<tr><td><span style=white-space:pre-wrap>LBDLDL  </span></td><td><span style=white-space:pre-wrap>LDL-cholesterol (mg/dL)                                                                                                             </span></td><td>TRIGLY_G</td><td><span style=white-space:pre-wrap>Cholesterol - LDL &amp; Triglycerides                            </span></td><td>2011</td><td>2012</td><td><span style=white-space:pre-wrap>Laboratory   </span></td><td>None</td></tr>\n",
       "\t<tr><td>LBDLDLSI</td><td><span style=white-space:pre-wrap>LDL-cholesterol (mmol/L)                                                                                                            </span></td><td>TRIGLY_G</td><td><span style=white-space:pre-wrap>Cholesterol - LDL &amp; Triglycerides                            </span></td><td>2011</td><td>2012</td><td><span style=white-space:pre-wrap>Laboratory   </span></td><td>None</td></tr>\n",
       "\t<tr><td><span style=white-space:pre-wrap>LBDLDL  </span></td><td><span style=white-space:pre-wrap>LDL-cholesterol (mg/dL)                                                                                                             </span></td><td>TRIGLY_H</td><td><span style=white-space:pre-wrap>Cholesterol - LDL &amp; Triglycerides                            </span></td><td>2013</td><td>2014</td><td><span style=white-space:pre-wrap>Laboratory   </span></td><td>None</td></tr>\n",
       "\t<tr><td>LBDLDLSI</td><td><span style=white-space:pre-wrap>LDL-cholesterol (mmol/L)                                                                                                            </span></td><td>TRIGLY_H</td><td><span style=white-space:pre-wrap>Cholesterol - LDL &amp; Triglycerides                            </span></td><td>2013</td><td>2014</td><td><span style=white-space:pre-wrap>Laboratory   </span></td><td>None</td></tr>\n",
       "\t<tr><td><span style=white-space:pre-wrap>LBDLDL  </span></td><td><span style=white-space:pre-wrap>LDL-cholesterol (mg/dL)                                                                                                             </span></td><td>TRIGLY_I</td><td>Cholesterol - Low - Density Lipoprotein (LDL) &amp; Triglycerides</td><td>2015</td><td>2016</td><td><span style=white-space:pre-wrap>Laboratory   </span></td><td>None</td></tr>\n",
       "\t<tr><td>LBDLDLSI</td><td><span style=white-space:pre-wrap>LDL-cholesterol (mmol/L)                                                                                                            </span></td><td>TRIGLY_I</td><td>Cholesterol - Low - Density Lipoprotein (LDL) &amp; Triglycerides</td><td>2015</td><td>2016</td><td><span style=white-space:pre-wrap>Laboratory   </span></td><td>None</td></tr>\n",
       "\t<tr><td><span style=white-space:pre-wrap>LBDLDL  </span></td><td>LDL-Cholesterol, Friedewald equation (mg/dL).\r\n",
       "\r\n",
       "LBDLDL = (LBXTC-(LBDHDD + LBXTR/5), round to 0 decimal places) for LBXTR less t</td><td>TRIGLY_J</td><td>Cholesterol - Low-Density Lipoproteins (LDL) &amp; Triglycerides </td><td>2017</td><td>2018</td><td><span style=white-space:pre-wrap>Laboratory   </span></td><td>None</td></tr>\n",
       "\t<tr><td>LBDLDLM </td><td>LDL-Cholesterol, Martin-Hopkins equation (mg/dL).\r\n",
       "\r\n",
       "LBDLDLM = (LBXTC-(LBDHDD + LBXTR/Adjustable Factor), round to 0 decimal pla</td><td>TRIGLY_J</td><td>Cholesterol - Low-Density Lipoproteins (LDL) &amp; Triglycerides </td><td>2017</td><td>2018</td><td><span style=white-space:pre-wrap>Laboratory   </span></td><td>None</td></tr>\n",
       "\t<tr><td>LBDLDLN </td><td><span style=white-space:pre-wrap>LBDLDLN = \r\n",
       " (LBXTC/0.948  – LBDHDD/0.971 – (LBXTR/8.56 + (LBXTR * (LBXTC – LBDHDD))/2140 – LBXTR^2/16100) – 9.44), round 0 deci  </span></td><td>TRIGLY_J</td><td>Cholesterol - Low-Density Lipoproteins (LDL) &amp; Triglycerides </td><td>2017</td><td>2018</td><td><span style=white-space:pre-wrap>Laboratory   </span></td><td>None</td></tr>\n",
       "\t<tr><td>LBDLDLSI</td><td><span style=white-space:pre-wrap>LDL-Cholesterol, Friedewald equation (mmol/L)                                                                                       </span></td><td>TRIGLY_J</td><td>Cholesterol - Low-Density Lipoproteins (LDL) &amp; Triglycerides </td><td>2017</td><td>2018</td><td><span style=white-space:pre-wrap>Laboratory   </span></td><td>None</td></tr>\n",
       "\t<tr><td>LBDLDMSI</td><td><span style=white-space:pre-wrap>LDL-Cholesterol, Martin-Hopkins equation (mmol/L)                                                                                   </span></td><td>TRIGLY_J</td><td>Cholesterol - Low-Density Lipoproteins (LDL) &amp; Triglycerides </td><td>2017</td><td>2018</td><td><span style=white-space:pre-wrap>Laboratory   </span></td><td>None</td></tr>\n",
       "\t<tr><td>LBDLDNSI</td><td><span style=white-space:pre-wrap>LDL-Cholesterol, NIH equation 2 (mmol/L)                                                                                            </span></td><td>TRIGLY_J</td><td>Cholesterol - Low-Density Lipoproteins (LDL) &amp; Triglycerides </td><td>2017</td><td>2018</td><td><span style=white-space:pre-wrap>Laboratory   </span></td><td>None</td></tr>\n",
       "\t<tr><td><span style=white-space:pre-wrap>LBDLDL  </span></td><td><span style=white-space:pre-wrap>LDL-Cholesterol, Friedewald equation (mg/dL).\n",
       "\n",
       "LBDLDL = (LBXTC-(LBDHDD + LBXTR/5), round to 0 decimal places) for LBXTR less tha  </span></td><td>P_TRIGLY</td><td>Cholesterol - Low-Density Lipoproteins (LDL) &amp; Triglycerides </td><td>2017</td><td>2020</td><td><span style=white-space:pre-wrap>Laboratory   </span></td><td>None</td></tr>\n",
       "\t<tr><td>LBDLDLM </td><td><span style=white-space:pre-wrap>LDL-Cholesterol, Martin-Hopkins equation (mg/dL).\n",
       "\n",
       "LBDLDLM = (LBXTC-(LBDHDD + LBXTR/Adjustable Factor), round to 0 decimal place  </span></td><td>P_TRIGLY</td><td>Cholesterol - Low-Density Lipoproteins (LDL) &amp; Triglycerides </td><td>2017</td><td>2020</td><td><span style=white-space:pre-wrap>Laboratory   </span></td><td>None</td></tr>\n",
       "\t<tr><td>LBDLDLN </td><td><span style=white-space:pre-wrap>LBDLDLN = \n",
       " (LBXTC/0.948  – LBDHDD/0.971 – (LBXTR/8.56 + (LBXTR * (LBXTC – LBDHDD))/2140 – LBXTR^2/16100) – 9.44), round 0 decim   </span></td><td>P_TRIGLY</td><td>Cholesterol - Low-Density Lipoproteins (LDL) &amp; Triglycerides </td><td>2017</td><td>2020</td><td><span style=white-space:pre-wrap>Laboratory   </span></td><td>None</td></tr>\n",
       "\t<tr><td>LBDLDLSI</td><td><span style=white-space:pre-wrap>LDL-Cholesterol, Friedewald equation (mmol/L)                                                                                       </span></td><td>P_TRIGLY</td><td>Cholesterol - Low-Density Lipoproteins (LDL) &amp; Triglycerides </td><td>2017</td><td>2020</td><td><span style=white-space:pre-wrap>Laboratory   </span></td><td>None</td></tr>\n",
       "\t<tr><td>LBDLDMSI</td><td><span style=white-space:pre-wrap>LDL-Cholesterol, Martin-Hopkins equation (mmol/L)                                                                                   </span></td><td>P_TRIGLY</td><td>Cholesterol - Low-Density Lipoproteins (LDL) &amp; Triglycerides </td><td>2017</td><td>2020</td><td><span style=white-space:pre-wrap>Laboratory   </span></td><td>None</td></tr>\n",
       "\t<tr><td>LBDLDNSI</td><td><span style=white-space:pre-wrap>LDL-Cholesterol, NIH equation 2 (mmol/L)                                                                                            </span></td><td>P_TRIGLY</td><td>Cholesterol - Low-Density Lipoproteins (LDL) &amp; Triglycerides </td><td>2017</td><td>2020</td><td><span style=white-space:pre-wrap>Laboratory   </span></td><td>None</td></tr>\n",
       "\t<tr><td>DID320  </td><td>One part of total serum cholesterol in {your/SP's} blood is a bad cholesterol, called LDL, which builds up and clogs {your/his/h    </td><td>DIQ_E   </td><td>Diabetes                                                     </td><td>2007</td><td>2008</td><td>Questionnaire</td><td>None</td></tr>\n",
       "\t<tr><td>DID330  </td><td>What does {your/SP's} doctor or other health professional say {your/his/her} LDL cholesterol should be?                             </td><td>DIQ_E   </td><td>Diabetes                                                     </td><td>2007</td><td>2008</td><td>Questionnaire</td><td>None</td></tr>\n",
       "\t<tr><td>DID320  </td><td>One part of total serum cholesterol in {your/SP's} blood is a bad cholesterol, called LDL, which builds up and clogs {your/his/h    </td><td>DIQ_D   </td><td>Diabetes                                                     </td><td>2005</td><td>2006</td><td>Questionnaire</td><td>None</td></tr>\n",
       "\t<tr><td>DID330  </td><td>What does {your/SP's} doctor or other health professional say {your/his/her} LDL cholesterol should be?                             </td><td>DIQ_D   </td><td>Diabetes                                                     </td><td>2005</td><td>2006</td><td>Questionnaire</td><td>None</td></tr>\n",
       "\t<tr><td>DID320  </td><td>One part of total serum cholesterol in {your/SP's} blood is a bad cholesterol, \r\n",
       "\r\n",
       "called LDL, which builds up and clogs {your/h</td><td>DIQ_G   </td><td>Diabetes                                                     </td><td>2011</td><td>2012</td><td>Questionnaire</td><td>None</td></tr>\n",
       "\t<tr><td>DID330  </td><td>What does {your/SP's} doctor or other health professional say {your/his/her} \r\n",
       "\r\n",
       "LDL cholesterol should be?                     </td><td>DIQ_G   </td><td>Diabetes                                                     </td><td>2011</td><td>2012</td><td>Questionnaire</td><td>None</td></tr>\n",
       "\t<tr><td>DID320  </td><td>One part of total serum cholesterol in {your/SP's} blood is a bad cholesterol, \r\n",
       "\r\n",
       "called LDL, which builds up and clogs {your/h</td><td>DIQ_H   </td><td>Diabetes                                                     </td><td>2013</td><td>2014</td><td>Questionnaire</td><td>None</td></tr>\n",
       "\t<tr><td>DID330  </td><td>What does {your/SP's} doctor or other health professional say {your/his/her} \r\n",
       "\r\n",
       "LDL cholesterol should be?                     </td><td>DIQ_H   </td><td>Diabetes                                                     </td><td>2013</td><td>2014</td><td>Questionnaire</td><td>None</td></tr>\n",
       "\t<tr><td>DID320  </td><td>One part of total serum cholesterol in {your/SP's} blood is a bad cholesterol, \r\n",
       "\r\n",
       "called LDL, which builds up and clogs {your/h</td><td>DIQ_I   </td><td>Diabetes                                                     </td><td>2015</td><td>2016</td><td>Questionnaire</td><td>None</td></tr>\n",
       "\t<tr><td>DID330  </td><td>What does {your/SP's} doctor or other health professional say {your/his/her} \r\n",
       "\r\n",
       "LDL cholesterol should be?                     </td><td>DIQ_I   </td><td>Diabetes                                                     </td><td>2015</td><td>2016</td><td>Questionnaire</td><td>None</td></tr>\n",
       "\t<tr><td>DID320  </td><td>One part of total serum cholesterol in {your/SP's} blood is a bad cholesterol, \r\n",
       "\r\n",
       "called LDL, which builds up and clogs {your/h</td><td>DIQ_J   </td><td>Diabetes                                                     </td><td>2017</td><td>2018</td><td>Questionnaire</td><td>None</td></tr>\n",
       "\t<tr><td>DID330  </td><td>What does {your/SP's} doctor or other health professional say {your/his/her} \r\n",
       "\r\n",
       "LDL cholesterol should be?                     </td><td>DIQ_J   </td><td>Diabetes                                                     </td><td>2017</td><td>2018</td><td>Questionnaire</td><td>None</td></tr>\n",
       "\t<tr><td>DID320  </td><td>One part of total serum cholesterol in {your/SP's} blood is a bad cholesterol, \r\n",
       "\r\n",
       "called LDL, which builds up and clogs {your/h</td><td>P_DIQ   </td><td>Diabetes                                                     </td><td>2017</td><td>2020</td><td>Questionnaire</td><td>None</td></tr>\n",
       "\t<tr><td>DID330  </td><td>What does {your/SP's} doctor or other health professional say {your/his/her} \r\n",
       "\r\n",
       "LDL cholesterol should be?                     </td><td>P_DIQ   </td><td>Diabetes                                                     </td><td>2017</td><td>2020</td><td>Questionnaire</td><td>None</td></tr>\n",
       "</tbody>\n",
       "</table>\n"
      ],
      "text/latex": [
       "A data.frame: 46 × 8\n",
       "\\begin{tabular}{llllllll}\n",
       " Variable.Name & Variable.Description & Data.File.Name & Data.File.Description & Begin.Year & EndYear & Component & Use.Constraints\\\\\n",
       " <chr> & <chr> & <chr> & <chr> & <chr> & <chr> & <chr> & <chr>\\\\\n",
       "\\hline\n",
       "\t LBDLDL   & LDL-cholesterol (mg/dL)                                                                                                              & TRIGLY\\_E & Cholesterol - LDL \\& Triglycerides                             & 2007 & 2008 & Laboratory    & None\\\\\n",
       "\t LBDLDLSI & LDL-cholesterol (mmol/L)                                                                                                             & TRIGLY\\_E & Cholesterol - LDL \\& Triglycerides                             & 2007 & 2008 & Laboratory    & None\\\\\n",
       "\t LBDLDL   & LDL-cholesterol (mg/dL)                                                                                                              & LAB13AM  & Cholesterol - LDL \\& Triglycerides                             & 1999 & 2000 & Laboratory    & None\\\\\n",
       "\t LBDLDLSI & LDL-cholesterol (mmol/L)                                                                                                             & LAB13AM  & Cholesterol - LDL \\& Triglycerides                             & 1999 & 2000 & Laboratory    & None\\\\\n",
       "\t LB2LDL   & LDL-cholesterol (mg/dL)                                                                                                              & l13\\_2\\_b  & Cholesterol - Total, HDL, LDL  \\& Triglycerides, Second Exam   & 2001 & 2002 & Laboratory    & None\\\\\n",
       "\t LB2LDLSI & LDL-cholesterol (mmol/L)                                                                                                             & l13\\_2\\_b  & Cholesterol - Total, HDL, LDL  \\& Triglycerides, Second Exam   & 2001 & 2002 & Laboratory    & None\\\\\n",
       "\t LBDLDL   & LDL-cholesterol (mg/dL)                                                                                                              & TRIGLY\\_D & Cholesterol - LDL, Triglyceride \\& Apoliprotein (ApoB)         & 2005 & 2006 & Laboratory    & None\\\\\n",
       "\t LBDLDLSI & LDL-cholesterol (mmol/L)                                                                                                             & TRIGLY\\_D & Cholesterol - LDL, Triglyceride \\& Apoliprotein (ApoB)         & 2005 & 2006 & Laboratory    & None\\\\\n",
       "\t LBDLDL   & LDL-cholesterol (mg/dL)                                                                                                              & L13AM\\_C  & Cholesterol - LDL \\& Triglycerides                             & 2003 & 2004 & Laboratory    & None\\\\\n",
       "\t LBDLDLSI & LDL-cholesterol (mmol/L)                                                                                                             & L13AM\\_C  & Cholesterol - LDL \\& Triglycerides                             & 2003 & 2004 & Laboratory    & None\\\\\n",
       "\t LBDLDL   & LDL-cholesterol (mg/dL)                                                                                                              & L13AM\\_B  & Cholesterol - LDL \\& Triglycerides                             & 2001 & 2002 & Laboratory    & None\\\\\n",
       "\t LBDLDLSI & LDL-cholesterol (mmol/L)                                                                                                             & L13AM\\_B  & Cholesterol - LDL \\& Triglycerides                             & 2001 & 2002 & Laboratory    & None\\\\\n",
       "\t LBDLDL   & LDL-cholesterol (mg/dL)                                                                                                              & TRIGLY\\_F & Cholesterol - LDL \\& Triglycerides                             & 2009 & 2010 & Laboratory    & None\\\\\n",
       "\t LBDLDLSI & LDL-cholesterol (mmol/L)                                                                                                             & TRIGLY\\_F & Cholesterol - LDL \\& Triglycerides                             & 2009 & 2010 & Laboratory    & None\\\\\n",
       "\t LBDLDL   & LDL-cholesterol (mg/dL)                                                                                                              & TRIGLY\\_G & Cholesterol - LDL \\& Triglycerides                             & 2011 & 2012 & Laboratory    & None\\\\\n",
       "\t LBDLDLSI & LDL-cholesterol (mmol/L)                                                                                                             & TRIGLY\\_G & Cholesterol - LDL \\& Triglycerides                             & 2011 & 2012 & Laboratory    & None\\\\\n",
       "\t LBDLDL   & LDL-cholesterol (mg/dL)                                                                                                              & TRIGLY\\_H & Cholesterol - LDL \\& Triglycerides                             & 2013 & 2014 & Laboratory    & None\\\\\n",
       "\t LBDLDLSI & LDL-cholesterol (mmol/L)                                                                                                             & TRIGLY\\_H & Cholesterol - LDL \\& Triglycerides                             & 2013 & 2014 & Laboratory    & None\\\\\n",
       "\t LBDLDL   & LDL-cholesterol (mg/dL)                                                                                                              & TRIGLY\\_I & Cholesterol - Low - Density Lipoprotein (LDL) \\& Triglycerides & 2015 & 2016 & Laboratory    & None\\\\\n",
       "\t LBDLDLSI & LDL-cholesterol (mmol/L)                                                                                                             & TRIGLY\\_I & Cholesterol - Low - Density Lipoprotein (LDL) \\& Triglycerides & 2015 & 2016 & Laboratory    & None\\\\\n",
       "\t LBDLDL   & LDL-Cholesterol, Friedewald equation (mg/dL).\r\n",
       "\r\n",
       "LBDLDL = (LBXTC-(LBDHDD + LBXTR/5), round to 0 decimal places) for LBXTR less t & TRIGLY\\_J & Cholesterol - Low-Density Lipoproteins (LDL) \\& Triglycerides  & 2017 & 2018 & Laboratory    & None\\\\\n",
       "\t LBDLDLM  & LDL-Cholesterol, Martin-Hopkins equation (mg/dL).\r\n",
       "\r\n",
       "LBDLDLM = (LBXTC-(LBDHDD + LBXTR/Adjustable Factor), round to 0 decimal pla & TRIGLY\\_J & Cholesterol - Low-Density Lipoproteins (LDL) \\& Triglycerides  & 2017 & 2018 & Laboratory    & None\\\\\n",
       "\t LBDLDLN  & LBDLDLN = \r\n",
       " (LBXTC/0.948  – LBDHDD/0.971 – (LBXTR/8.56 + (LBXTR * (LBXTC – LBDHDD))/2140 – LBXTR\\textasciicircum{}2/16100) – 9.44), round 0 deci   & TRIGLY\\_J & Cholesterol - Low-Density Lipoproteins (LDL) \\& Triglycerides  & 2017 & 2018 & Laboratory    & None\\\\\n",
       "\t LBDLDLSI & LDL-Cholesterol, Friedewald equation (mmol/L)                                                                                        & TRIGLY\\_J & Cholesterol - Low-Density Lipoproteins (LDL) \\& Triglycerides  & 2017 & 2018 & Laboratory    & None\\\\\n",
       "\t LBDLDMSI & LDL-Cholesterol, Martin-Hopkins equation (mmol/L)                                                                                    & TRIGLY\\_J & Cholesterol - Low-Density Lipoproteins (LDL) \\& Triglycerides  & 2017 & 2018 & Laboratory    & None\\\\\n",
       "\t LBDLDNSI & LDL-Cholesterol, NIH equation 2 (mmol/L)                                                                                             & TRIGLY\\_J & Cholesterol - Low-Density Lipoproteins (LDL) \\& Triglycerides  & 2017 & 2018 & Laboratory    & None\\\\\n",
       "\t LBDLDL   & LDL-Cholesterol, Friedewald equation (mg/dL).\n",
       "\n",
       "LBDLDL = (LBXTC-(LBDHDD + LBXTR/5), round to 0 decimal places) for LBXTR less tha   & P\\_TRIGLY & Cholesterol - Low-Density Lipoproteins (LDL) \\& Triglycerides  & 2017 & 2020 & Laboratory    & None\\\\\n",
       "\t LBDLDLM  & LDL-Cholesterol, Martin-Hopkins equation (mg/dL).\n",
       "\n",
       "LBDLDLM = (LBXTC-(LBDHDD + LBXTR/Adjustable Factor), round to 0 decimal place   & P\\_TRIGLY & Cholesterol - Low-Density Lipoproteins (LDL) \\& Triglycerides  & 2017 & 2020 & Laboratory    & None\\\\\n",
       "\t LBDLDLN  & LBDLDLN = \n",
       " (LBXTC/0.948  – LBDHDD/0.971 – (LBXTR/8.56 + (LBXTR * (LBXTC – LBDHDD))/2140 – LBXTR\\textasciicircum{}2/16100) – 9.44), round 0 decim    & P\\_TRIGLY & Cholesterol - Low-Density Lipoproteins (LDL) \\& Triglycerides  & 2017 & 2020 & Laboratory    & None\\\\\n",
       "\t LBDLDLSI & LDL-Cholesterol, Friedewald equation (mmol/L)                                                                                        & P\\_TRIGLY & Cholesterol - Low-Density Lipoproteins (LDL) \\& Triglycerides  & 2017 & 2020 & Laboratory    & None\\\\\n",
       "\t LBDLDMSI & LDL-Cholesterol, Martin-Hopkins equation (mmol/L)                                                                                    & P\\_TRIGLY & Cholesterol - Low-Density Lipoproteins (LDL) \\& Triglycerides  & 2017 & 2020 & Laboratory    & None\\\\\n",
       "\t LBDLDNSI & LDL-Cholesterol, NIH equation 2 (mmol/L)                                                                                             & P\\_TRIGLY & Cholesterol - Low-Density Lipoproteins (LDL) \\& Triglycerides  & 2017 & 2020 & Laboratory    & None\\\\\n",
       "\t DID320   & One part of total serum cholesterol in \\{your/SP's\\} blood is a bad cholesterol, called LDL, which builds up and clogs \\{your/his/h     & DIQ\\_E    & Diabetes                                                      & 2007 & 2008 & Questionnaire & None\\\\\n",
       "\t DID330   & What does \\{your/SP's\\} doctor or other health professional say \\{your/his/her\\} LDL cholesterol should be?                              & DIQ\\_E    & Diabetes                                                      & 2007 & 2008 & Questionnaire & None\\\\\n",
       "\t DID320   & One part of total serum cholesterol in \\{your/SP's\\} blood is a bad cholesterol, called LDL, which builds up and clogs \\{your/his/h     & DIQ\\_D    & Diabetes                                                      & 2005 & 2006 & Questionnaire & None\\\\\n",
       "\t DID330   & What does \\{your/SP's\\} doctor or other health professional say \\{your/his/her\\} LDL cholesterol should be?                              & DIQ\\_D    & Diabetes                                                      & 2005 & 2006 & Questionnaire & None\\\\\n",
       "\t DID320   & One part of total serum cholesterol in \\{your/SP's\\} blood is a bad cholesterol, \r\n",
       "\r\n",
       "called LDL, which builds up and clogs \\{your/h & DIQ\\_G    & Diabetes                                                      & 2011 & 2012 & Questionnaire & None\\\\\n",
       "\t DID330   & What does \\{your/SP's\\} doctor or other health professional say \\{your/his/her\\} \r\n",
       "\r\n",
       "LDL cholesterol should be?                      & DIQ\\_G    & Diabetes                                                      & 2011 & 2012 & Questionnaire & None\\\\\n",
       "\t DID320   & One part of total serum cholesterol in \\{your/SP's\\} blood is a bad cholesterol, \r\n",
       "\r\n",
       "called LDL, which builds up and clogs \\{your/h & DIQ\\_H    & Diabetes                                                      & 2013 & 2014 & Questionnaire & None\\\\\n",
       "\t DID330   & What does \\{your/SP's\\} doctor or other health professional say \\{your/his/her\\} \r\n",
       "\r\n",
       "LDL cholesterol should be?                      & DIQ\\_H    & Diabetes                                                      & 2013 & 2014 & Questionnaire & None\\\\\n",
       "\t DID320   & One part of total serum cholesterol in \\{your/SP's\\} blood is a bad cholesterol, \r\n",
       "\r\n",
       "called LDL, which builds up and clogs \\{your/h & DIQ\\_I    & Diabetes                                                      & 2015 & 2016 & Questionnaire & None\\\\\n",
       "\t DID330   & What does \\{your/SP's\\} doctor or other health professional say \\{your/his/her\\} \r\n",
       "\r\n",
       "LDL cholesterol should be?                      & DIQ\\_I    & Diabetes                                                      & 2015 & 2016 & Questionnaire & None\\\\\n",
       "\t DID320   & One part of total serum cholesterol in \\{your/SP's\\} blood is a bad cholesterol, \r\n",
       "\r\n",
       "called LDL, which builds up and clogs \\{your/h & DIQ\\_J    & Diabetes                                                      & 2017 & 2018 & Questionnaire & None\\\\\n",
       "\t DID330   & What does \\{your/SP's\\} doctor or other health professional say \\{your/his/her\\} \r\n",
       "\r\n",
       "LDL cholesterol should be?                      & DIQ\\_J    & Diabetes                                                      & 2017 & 2018 & Questionnaire & None\\\\\n",
       "\t DID320   & One part of total serum cholesterol in \\{your/SP's\\} blood is a bad cholesterol, \r\n",
       "\r\n",
       "called LDL, which builds up and clogs \\{your/h & P\\_DIQ    & Diabetes                                                      & 2017 & 2020 & Questionnaire & None\\\\\n",
       "\t DID330   & What does \\{your/SP's\\} doctor or other health professional say \\{your/his/her\\} \r\n",
       "\r\n",
       "LDL cholesterol should be?                      & P\\_DIQ    & Diabetes                                                      & 2017 & 2020 & Questionnaire & None\\\\\n",
       "\\end{tabular}\n"
      ],
      "text/markdown": [
       "\n",
       "A data.frame: 46 × 8\n",
       "\n",
       "| Variable.Name &lt;chr&gt; | Variable.Description &lt;chr&gt; | Data.File.Name &lt;chr&gt; | Data.File.Description &lt;chr&gt; | Begin.Year &lt;chr&gt; | EndYear &lt;chr&gt; | Component &lt;chr&gt; | Use.Constraints &lt;chr&gt; |\n",
       "|---|---|---|---|---|---|---|---|\n",
       "| LBDLDL   | LDL-cholesterol (mg/dL)                                                                                                              | TRIGLY_E | Cholesterol - LDL &amp; Triglycerides                             | 2007 | 2008 | Laboratory    | None |\n",
       "| LBDLDLSI | LDL-cholesterol (mmol/L)                                                                                                             | TRIGLY_E | Cholesterol - LDL &amp; Triglycerides                             | 2007 | 2008 | Laboratory    | None |\n",
       "| LBDLDL   | LDL-cholesterol (mg/dL)                                                                                                              | LAB13AM  | Cholesterol - LDL &amp; Triglycerides                             | 1999 | 2000 | Laboratory    | None |\n",
       "| LBDLDLSI | LDL-cholesterol (mmol/L)                                                                                                             | LAB13AM  | Cholesterol - LDL &amp; Triglycerides                             | 1999 | 2000 | Laboratory    | None |\n",
       "| LB2LDL   | LDL-cholesterol (mg/dL)                                                                                                              | l13_2_b  | Cholesterol - Total, HDL, LDL  &amp; Triglycerides, Second Exam   | 2001 | 2002 | Laboratory    | None |\n",
       "| LB2LDLSI | LDL-cholesterol (mmol/L)                                                                                                             | l13_2_b  | Cholesterol - Total, HDL, LDL  &amp; Triglycerides, Second Exam   | 2001 | 2002 | Laboratory    | None |\n",
       "| LBDLDL   | LDL-cholesterol (mg/dL)                                                                                                              | TRIGLY_D | Cholesterol - LDL, Triglyceride &amp; Apoliprotein (ApoB)         | 2005 | 2006 | Laboratory    | None |\n",
       "| LBDLDLSI | LDL-cholesterol (mmol/L)                                                                                                             | TRIGLY_D | Cholesterol - LDL, Triglyceride &amp; Apoliprotein (ApoB)         | 2005 | 2006 | Laboratory    | None |\n",
       "| LBDLDL   | LDL-cholesterol (mg/dL)                                                                                                              | L13AM_C  | Cholesterol - LDL &amp; Triglycerides                             | 2003 | 2004 | Laboratory    | None |\n",
       "| LBDLDLSI | LDL-cholesterol (mmol/L)                                                                                                             | L13AM_C  | Cholesterol - LDL &amp; Triglycerides                             | 2003 | 2004 | Laboratory    | None |\n",
       "| LBDLDL   | LDL-cholesterol (mg/dL)                                                                                                              | L13AM_B  | Cholesterol - LDL &amp; Triglycerides                             | 2001 | 2002 | Laboratory    | None |\n",
       "| LBDLDLSI | LDL-cholesterol (mmol/L)                                                                                                             | L13AM_B  | Cholesterol - LDL &amp; Triglycerides                             | 2001 | 2002 | Laboratory    | None |\n",
       "| LBDLDL   | LDL-cholesterol (mg/dL)                                                                                                              | TRIGLY_F | Cholesterol - LDL &amp; Triglycerides                             | 2009 | 2010 | Laboratory    | None |\n",
       "| LBDLDLSI | LDL-cholesterol (mmol/L)                                                                                                             | TRIGLY_F | Cholesterol - LDL &amp; Triglycerides                             | 2009 | 2010 | Laboratory    | None |\n",
       "| LBDLDL   | LDL-cholesterol (mg/dL)                                                                                                              | TRIGLY_G | Cholesterol - LDL &amp; Triglycerides                             | 2011 | 2012 | Laboratory    | None |\n",
       "| LBDLDLSI | LDL-cholesterol (mmol/L)                                                                                                             | TRIGLY_G | Cholesterol - LDL &amp; Triglycerides                             | 2011 | 2012 | Laboratory    | None |\n",
       "| LBDLDL   | LDL-cholesterol (mg/dL)                                                                                                              | TRIGLY_H | Cholesterol - LDL &amp; Triglycerides                             | 2013 | 2014 | Laboratory    | None |\n",
       "| LBDLDLSI | LDL-cholesterol (mmol/L)                                                                                                             | TRIGLY_H | Cholesterol - LDL &amp; Triglycerides                             | 2013 | 2014 | Laboratory    | None |\n",
       "| LBDLDL   | LDL-cholesterol (mg/dL)                                                                                                              | TRIGLY_I | Cholesterol - Low - Density Lipoprotein (LDL) &amp; Triglycerides | 2015 | 2016 | Laboratory    | None |\n",
       "| LBDLDLSI | LDL-cholesterol (mmol/L)                                                                                                             | TRIGLY_I | Cholesterol - Low - Density Lipoprotein (LDL) &amp; Triglycerides | 2015 | 2016 | Laboratory    | None |\n",
       "| LBDLDL   | LDL-Cholesterol, Friedewald equation (mg/dL).\r\n",
       "\r\n",
       "LBDLDL = (LBXTC-(LBDHDD + LBXTR/5), round to 0 decimal places) for LBXTR less t | TRIGLY_J | Cholesterol - Low-Density Lipoproteins (LDL) &amp; Triglycerides  | 2017 | 2018 | Laboratory    | None |\n",
       "| LBDLDLM  | LDL-Cholesterol, Martin-Hopkins equation (mg/dL).\r\n",
       "\r\n",
       "LBDLDLM = (LBXTC-(LBDHDD + LBXTR/Adjustable Factor), round to 0 decimal pla | TRIGLY_J | Cholesterol - Low-Density Lipoproteins (LDL) &amp; Triglycerides  | 2017 | 2018 | Laboratory    | None |\n",
       "| LBDLDLN  | LBDLDLN = \r\n",
       " (LBXTC/0.948  – LBDHDD/0.971 – (LBXTR/8.56 + (LBXTR * (LBXTC – LBDHDD))/2140 – LBXTR^2/16100) – 9.44), round 0 deci   | TRIGLY_J | Cholesterol - Low-Density Lipoproteins (LDL) &amp; Triglycerides  | 2017 | 2018 | Laboratory    | None |\n",
       "| LBDLDLSI | LDL-Cholesterol, Friedewald equation (mmol/L)                                                                                        | TRIGLY_J | Cholesterol - Low-Density Lipoproteins (LDL) &amp; Triglycerides  | 2017 | 2018 | Laboratory    | None |\n",
       "| LBDLDMSI | LDL-Cholesterol, Martin-Hopkins equation (mmol/L)                                                                                    | TRIGLY_J | Cholesterol - Low-Density Lipoproteins (LDL) &amp; Triglycerides  | 2017 | 2018 | Laboratory    | None |\n",
       "| LBDLDNSI | LDL-Cholesterol, NIH equation 2 (mmol/L)                                                                                             | TRIGLY_J | Cholesterol - Low-Density Lipoproteins (LDL) &amp; Triglycerides  | 2017 | 2018 | Laboratory    | None |\n",
       "| LBDLDL   | LDL-Cholesterol, Friedewald equation (mg/dL).\n",
       "\n",
       "LBDLDL = (LBXTC-(LBDHDD + LBXTR/5), round to 0 decimal places) for LBXTR less tha   | P_TRIGLY | Cholesterol - Low-Density Lipoproteins (LDL) &amp; Triglycerides  | 2017 | 2020 | Laboratory    | None |\n",
       "| LBDLDLM  | LDL-Cholesterol, Martin-Hopkins equation (mg/dL).\n",
       "\n",
       "LBDLDLM = (LBXTC-(LBDHDD + LBXTR/Adjustable Factor), round to 0 decimal place   | P_TRIGLY | Cholesterol - Low-Density Lipoproteins (LDL) &amp; Triglycerides  | 2017 | 2020 | Laboratory    | None |\n",
       "| LBDLDLN  | LBDLDLN = \n",
       " (LBXTC/0.948  – LBDHDD/0.971 – (LBXTR/8.56 + (LBXTR * (LBXTC – LBDHDD))/2140 – LBXTR^2/16100) – 9.44), round 0 decim    | P_TRIGLY | Cholesterol - Low-Density Lipoproteins (LDL) &amp; Triglycerides  | 2017 | 2020 | Laboratory    | None |\n",
       "| LBDLDLSI | LDL-Cholesterol, Friedewald equation (mmol/L)                                                                                        | P_TRIGLY | Cholesterol - Low-Density Lipoproteins (LDL) &amp; Triglycerides  | 2017 | 2020 | Laboratory    | None |\n",
       "| LBDLDMSI | LDL-Cholesterol, Martin-Hopkins equation (mmol/L)                                                                                    | P_TRIGLY | Cholesterol - Low-Density Lipoproteins (LDL) &amp; Triglycerides  | 2017 | 2020 | Laboratory    | None |\n",
       "| LBDLDNSI | LDL-Cholesterol, NIH equation 2 (mmol/L)                                                                                             | P_TRIGLY | Cholesterol - Low-Density Lipoproteins (LDL) &amp; Triglycerides  | 2017 | 2020 | Laboratory    | None |\n",
       "| DID320   | One part of total serum cholesterol in {your/SP's} blood is a bad cholesterol, called LDL, which builds up and clogs {your/his/h     | DIQ_E    | Diabetes                                                      | 2007 | 2008 | Questionnaire | None |\n",
       "| DID330   | What does {your/SP's} doctor or other health professional say {your/his/her} LDL cholesterol should be?                              | DIQ_E    | Diabetes                                                      | 2007 | 2008 | Questionnaire | None |\n",
       "| DID320   | One part of total serum cholesterol in {your/SP's} blood is a bad cholesterol, called LDL, which builds up and clogs {your/his/h     | DIQ_D    | Diabetes                                                      | 2005 | 2006 | Questionnaire | None |\n",
       "| DID330   | What does {your/SP's} doctor or other health professional say {your/his/her} LDL cholesterol should be?                              | DIQ_D    | Diabetes                                                      | 2005 | 2006 | Questionnaire | None |\n",
       "| DID320   | One part of total serum cholesterol in {your/SP's} blood is a bad cholesterol, \r\n",
       "\r\n",
       "called LDL, which builds up and clogs {your/h | DIQ_G    | Diabetes                                                      | 2011 | 2012 | Questionnaire | None |\n",
       "| DID330   | What does {your/SP's} doctor or other health professional say {your/his/her} \r\n",
       "\r\n",
       "LDL cholesterol should be?                      | DIQ_G    | Diabetes                                                      | 2011 | 2012 | Questionnaire | None |\n",
       "| DID320   | One part of total serum cholesterol in {your/SP's} blood is a bad cholesterol, \r\n",
       "\r\n",
       "called LDL, which builds up and clogs {your/h | DIQ_H    | Diabetes                                                      | 2013 | 2014 | Questionnaire | None |\n",
       "| DID330   | What does {your/SP's} doctor or other health professional say {your/his/her} \r\n",
       "\r\n",
       "LDL cholesterol should be?                      | DIQ_H    | Diabetes                                                      | 2013 | 2014 | Questionnaire | None |\n",
       "| DID320   | One part of total serum cholesterol in {your/SP's} blood is a bad cholesterol, \r\n",
       "\r\n",
       "called LDL, which builds up and clogs {your/h | DIQ_I    | Diabetes                                                      | 2015 | 2016 | Questionnaire | None |\n",
       "| DID330   | What does {your/SP's} doctor or other health professional say {your/his/her} \r\n",
       "\r\n",
       "LDL cholesterol should be?                      | DIQ_I    | Diabetes                                                      | 2015 | 2016 | Questionnaire | None |\n",
       "| DID320   | One part of total serum cholesterol in {your/SP's} blood is a bad cholesterol, \r\n",
       "\r\n",
       "called LDL, which builds up and clogs {your/h | DIQ_J    | Diabetes                                                      | 2017 | 2018 | Questionnaire | None |\n",
       "| DID330   | What does {your/SP's} doctor or other health professional say {your/his/her} \r\n",
       "\r\n",
       "LDL cholesterol should be?                      | DIQ_J    | Diabetes                                                      | 2017 | 2018 | Questionnaire | None |\n",
       "| DID320   | One part of total serum cholesterol in {your/SP's} blood is a bad cholesterol, \r\n",
       "\r\n",
       "called LDL, which builds up and clogs {your/h | P_DIQ    | Diabetes                                                      | 2017 | 2020 | Questionnaire | None |\n",
       "| DID330   | What does {your/SP's} doctor or other health professional say {your/his/her} \r\n",
       "\r\n",
       "LDL cholesterol should be?                      | P_DIQ    | Diabetes                                                      | 2017 | 2020 | Questionnaire | None |\n",
       "\n"
      ],
      "text/plain": [
       "   Variable.Name\n",
       "1  LBDLDL       \n",
       "2  LBDLDLSI     \n",
       "3  LBDLDL       \n",
       "4  LBDLDLSI     \n",
       "5  LB2LDL       \n",
       "6  LB2LDLSI     \n",
       "7  LBDLDL       \n",
       "8  LBDLDLSI     \n",
       "9  LBDLDL       \n",
       "10 LBDLDLSI     \n",
       "11 LBDLDL       \n",
       "12 LBDLDLSI     \n",
       "13 LBDLDL       \n",
       "14 LBDLDLSI     \n",
       "15 LBDLDL       \n",
       "16 LBDLDLSI     \n",
       "17 LBDLDL       \n",
       "18 LBDLDLSI     \n",
       "19 LBDLDL       \n",
       "20 LBDLDLSI     \n",
       "21 LBDLDL       \n",
       "22 LBDLDLM      \n",
       "23 LBDLDLN      \n",
       "24 LBDLDLSI     \n",
       "25 LBDLDMSI     \n",
       "26 LBDLDNSI     \n",
       "27 LBDLDL       \n",
       "28 LBDLDLM      \n",
       "29 LBDLDLN      \n",
       "30 LBDLDLSI     \n",
       "31 LBDLDMSI     \n",
       "32 LBDLDNSI     \n",
       "33 DID320       \n",
       "34 DID330       \n",
       "35 DID320       \n",
       "36 DID330       \n",
       "37 DID320       \n",
       "38 DID330       \n",
       "39 DID320       \n",
       "40 DID330       \n",
       "41 DID320       \n",
       "42 DID330       \n",
       "43 DID320       \n",
       "44 DID330       \n",
       "45 DID320       \n",
       "46 DID330       \n",
       "   Variable.Description                                                                                                                \n",
       "1  LDL-cholesterol (mg/dL)                                                                                                             \n",
       "2  LDL-cholesterol (mmol/L)                                                                                                            \n",
       "3  LDL-cholesterol (mg/dL)                                                                                                             \n",
       "4  LDL-cholesterol (mmol/L)                                                                                                            \n",
       "5  LDL-cholesterol (mg/dL)                                                                                                             \n",
       "6  LDL-cholesterol (mmol/L)                                                                                                            \n",
       "7  LDL-cholesterol (mg/dL)                                                                                                             \n",
       "8  LDL-cholesterol (mmol/L)                                                                                                            \n",
       "9  LDL-cholesterol (mg/dL)                                                                                                             \n",
       "10 LDL-cholesterol (mmol/L)                                                                                                            \n",
       "11 LDL-cholesterol (mg/dL)                                                                                                             \n",
       "12 LDL-cholesterol (mmol/L)                                                                                                            \n",
       "13 LDL-cholesterol (mg/dL)                                                                                                             \n",
       "14 LDL-cholesterol (mmol/L)                                                                                                            \n",
       "15 LDL-cholesterol (mg/dL)                                                                                                             \n",
       "16 LDL-cholesterol (mmol/L)                                                                                                            \n",
       "17 LDL-cholesterol (mg/dL)                                                                                                             \n",
       "18 LDL-cholesterol (mmol/L)                                                                                                            \n",
       "19 LDL-cholesterol (mg/dL)                                                                                                             \n",
       "20 LDL-cholesterol (mmol/L)                                                                                                            \n",
       "21 LDL-Cholesterol, Friedewald equation (mg/dL).\\r\\n\\r\\nLBDLDL = (LBXTC-(LBDHDD + LBXTR/5), round to 0 decimal places) for LBXTR less t\n",
       "22 LDL-Cholesterol, Martin-Hopkins equation (mg/dL).\\r\\n\\r\\nLBDLDLM = (LBXTC-(LBDHDD + LBXTR/Adjustable Factor), round to 0 decimal pla\n",
       "23 LBDLDLN = \\r\\n (LBXTC/0.948  – LBDHDD/0.971 – (LBXTR/8.56 + (LBXTR * (LBXTC – LBDHDD))/2140 – LBXTR^2/16100) – 9.44), round 0 deci  \n",
       "24 LDL-Cholesterol, Friedewald equation (mmol/L)                                                                                       \n",
       "25 LDL-Cholesterol, Martin-Hopkins equation (mmol/L)                                                                                   \n",
       "26 LDL-Cholesterol, NIH equation 2 (mmol/L)                                                                                            \n",
       "27 LDL-Cholesterol, Friedewald equation (mg/dL).\\n\\nLBDLDL = (LBXTC-(LBDHDD + LBXTR/5), round to 0 decimal places) for LBXTR less tha  \n",
       "28 LDL-Cholesterol, Martin-Hopkins equation (mg/dL).\\n\\nLBDLDLM = (LBXTC-(LBDHDD + LBXTR/Adjustable Factor), round to 0 decimal place  \n",
       "29 LBDLDLN = \\n (LBXTC/0.948  – LBDHDD/0.971 – (LBXTR/8.56 + (LBXTR * (LBXTC – LBDHDD))/2140 – LBXTR^2/16100) – 9.44), round 0 decim   \n",
       "30 LDL-Cholesterol, Friedewald equation (mmol/L)                                                                                       \n",
       "31 LDL-Cholesterol, Martin-Hopkins equation (mmol/L)                                                                                   \n",
       "32 LDL-Cholesterol, NIH equation 2 (mmol/L)                                                                                            \n",
       "33 One part of total serum cholesterol in {your/SP's} blood is a bad cholesterol, called LDL, which builds up and clogs {your/his/h    \n",
       "34 What does {your/SP's} doctor or other health professional say {your/his/her} LDL cholesterol should be?                             \n",
       "35 One part of total serum cholesterol in {your/SP's} blood is a bad cholesterol, called LDL, which builds up and clogs {your/his/h    \n",
       "36 What does {your/SP's} doctor or other health professional say {your/his/her} LDL cholesterol should be?                             \n",
       "37 One part of total serum cholesterol in {your/SP's} blood is a bad cholesterol, \\r\\n\\r\\ncalled LDL, which builds up and clogs {your/h\n",
       "38 What does {your/SP's} doctor or other health professional say {your/his/her} \\r\\n\\r\\nLDL cholesterol should be?                     \n",
       "39 One part of total serum cholesterol in {your/SP's} blood is a bad cholesterol, \\r\\n\\r\\ncalled LDL, which builds up and clogs {your/h\n",
       "40 What does {your/SP's} doctor or other health professional say {your/his/her} \\r\\n\\r\\nLDL cholesterol should be?                     \n",
       "41 One part of total serum cholesterol in {your/SP's} blood is a bad cholesterol, \\r\\n\\r\\ncalled LDL, which builds up and clogs {your/h\n",
       "42 What does {your/SP's} doctor or other health professional say {your/his/her} \\r\\n\\r\\nLDL cholesterol should be?                     \n",
       "43 One part of total serum cholesterol in {your/SP's} blood is a bad cholesterol, \\r\\n\\r\\ncalled LDL, which builds up and clogs {your/h\n",
       "44 What does {your/SP's} doctor or other health professional say {your/his/her} \\r\\n\\r\\nLDL cholesterol should be?                     \n",
       "45 One part of total serum cholesterol in {your/SP's} blood is a bad cholesterol, \\r\\n\\r\\ncalled LDL, which builds up and clogs {your/h\n",
       "46 What does {your/SP's} doctor or other health professional say {your/his/her} \\r\\n\\r\\nLDL cholesterol should be?                     \n",
       "   Data.File.Name Data.File.Description                                        \n",
       "1  TRIGLY_E       Cholesterol - LDL & Triglycerides                            \n",
       "2  TRIGLY_E       Cholesterol - LDL & Triglycerides                            \n",
       "3  LAB13AM        Cholesterol - LDL & Triglycerides                            \n",
       "4  LAB13AM        Cholesterol - LDL & Triglycerides                            \n",
       "5  l13_2_b        Cholesterol - Total, HDL, LDL  & Triglycerides, Second Exam  \n",
       "6  l13_2_b        Cholesterol - Total, HDL, LDL  & Triglycerides, Second Exam  \n",
       "7  TRIGLY_D       Cholesterol - LDL, Triglyceride & Apoliprotein (ApoB)        \n",
       "8  TRIGLY_D       Cholesterol - LDL, Triglyceride & Apoliprotein (ApoB)        \n",
       "9  L13AM_C        Cholesterol - LDL & Triglycerides                            \n",
       "10 L13AM_C        Cholesterol - LDL & Triglycerides                            \n",
       "11 L13AM_B        Cholesterol - LDL & Triglycerides                            \n",
       "12 L13AM_B        Cholesterol - LDL & Triglycerides                            \n",
       "13 TRIGLY_F       Cholesterol - LDL & Triglycerides                            \n",
       "14 TRIGLY_F       Cholesterol - LDL & Triglycerides                            \n",
       "15 TRIGLY_G       Cholesterol - LDL & Triglycerides                            \n",
       "16 TRIGLY_G       Cholesterol - LDL & Triglycerides                            \n",
       "17 TRIGLY_H       Cholesterol - LDL & Triglycerides                            \n",
       "18 TRIGLY_H       Cholesterol - LDL & Triglycerides                            \n",
       "19 TRIGLY_I       Cholesterol - Low - Density Lipoprotein (LDL) & Triglycerides\n",
       "20 TRIGLY_I       Cholesterol - Low - Density Lipoprotein (LDL) & Triglycerides\n",
       "21 TRIGLY_J       Cholesterol - Low-Density Lipoproteins (LDL) & Triglycerides \n",
       "22 TRIGLY_J       Cholesterol - Low-Density Lipoproteins (LDL) & Triglycerides \n",
       "23 TRIGLY_J       Cholesterol - Low-Density Lipoproteins (LDL) & Triglycerides \n",
       "24 TRIGLY_J       Cholesterol - Low-Density Lipoproteins (LDL) & Triglycerides \n",
       "25 TRIGLY_J       Cholesterol - Low-Density Lipoproteins (LDL) & Triglycerides \n",
       "26 TRIGLY_J       Cholesterol - Low-Density Lipoproteins (LDL) & Triglycerides \n",
       "27 P_TRIGLY       Cholesterol - Low-Density Lipoproteins (LDL) & Triglycerides \n",
       "28 P_TRIGLY       Cholesterol - Low-Density Lipoproteins (LDL) & Triglycerides \n",
       "29 P_TRIGLY       Cholesterol - Low-Density Lipoproteins (LDL) & Triglycerides \n",
       "30 P_TRIGLY       Cholesterol - Low-Density Lipoproteins (LDL) & Triglycerides \n",
       "31 P_TRIGLY       Cholesterol - Low-Density Lipoproteins (LDL) & Triglycerides \n",
       "32 P_TRIGLY       Cholesterol - Low-Density Lipoproteins (LDL) & Triglycerides \n",
       "33 DIQ_E          Diabetes                                                     \n",
       "34 DIQ_E          Diabetes                                                     \n",
       "35 DIQ_D          Diabetes                                                     \n",
       "36 DIQ_D          Diabetes                                                     \n",
       "37 DIQ_G          Diabetes                                                     \n",
       "38 DIQ_G          Diabetes                                                     \n",
       "39 DIQ_H          Diabetes                                                     \n",
       "40 DIQ_H          Diabetes                                                     \n",
       "41 DIQ_I          Diabetes                                                     \n",
       "42 DIQ_I          Diabetes                                                     \n",
       "43 DIQ_J          Diabetes                                                     \n",
       "44 DIQ_J          Diabetes                                                     \n",
       "45 P_DIQ          Diabetes                                                     \n",
       "46 P_DIQ          Diabetes                                                     \n",
       "   Begin.Year EndYear Component     Use.Constraints\n",
       "1  2007       2008    Laboratory    None           \n",
       "2  2007       2008    Laboratory    None           \n",
       "3  1999       2000    Laboratory    None           \n",
       "4  1999       2000    Laboratory    None           \n",
       "5  2001       2002    Laboratory    None           \n",
       "6  2001       2002    Laboratory    None           \n",
       "7  2005       2006    Laboratory    None           \n",
       "8  2005       2006    Laboratory    None           \n",
       "9  2003       2004    Laboratory    None           \n",
       "10 2003       2004    Laboratory    None           \n",
       "11 2001       2002    Laboratory    None           \n",
       "12 2001       2002    Laboratory    None           \n",
       "13 2009       2010    Laboratory    None           \n",
       "14 2009       2010    Laboratory    None           \n",
       "15 2011       2012    Laboratory    None           \n",
       "16 2011       2012    Laboratory    None           \n",
       "17 2013       2014    Laboratory    None           \n",
       "18 2013       2014    Laboratory    None           \n",
       "19 2015       2016    Laboratory    None           \n",
       "20 2015       2016    Laboratory    None           \n",
       "21 2017       2018    Laboratory    None           \n",
       "22 2017       2018    Laboratory    None           \n",
       "23 2017       2018    Laboratory    None           \n",
       "24 2017       2018    Laboratory    None           \n",
       "25 2017       2018    Laboratory    None           \n",
       "26 2017       2018    Laboratory    None           \n",
       "27 2017       2020    Laboratory    None           \n",
       "28 2017       2020    Laboratory    None           \n",
       "29 2017       2020    Laboratory    None           \n",
       "30 2017       2020    Laboratory    None           \n",
       "31 2017       2020    Laboratory    None           \n",
       "32 2017       2020    Laboratory    None           \n",
       "33 2007       2008    Questionnaire None           \n",
       "34 2007       2008    Questionnaire None           \n",
       "35 2005       2006    Questionnaire None           \n",
       "36 2005       2006    Questionnaire None           \n",
       "37 2011       2012    Questionnaire None           \n",
       "38 2011       2012    Questionnaire None           \n",
       "39 2013       2014    Questionnaire None           \n",
       "40 2013       2014    Questionnaire None           \n",
       "41 2015       2016    Questionnaire None           \n",
       "42 2015       2016    Questionnaire None           \n",
       "43 2017       2018    Questionnaire None           \n",
       "44 2017       2018    Questionnaire None           \n",
       "45 2017       2020    Questionnaire None           \n",
       "46 2017       2020    Questionnaire None           "
      ]
     },
     "metadata": {},
     "output_type": "display_data"
    }
   ],
   "source": [
    "## lipid levels\n",
    "nhanesSearch(\"LDL\")"
   ]
  },
  {
   "cell_type": "code",
   "execution_count": 69,
   "id": "30a61fb0",
   "metadata": {
    "slideshow": {
     "slide_type": "slide"
    }
   },
   "outputs": [],
   "source": [
    "chol_df <- nhanes(\"TRIGLY_J\")\n",
    "# head(chol_df)\n",
    "\n",
    "# ntile(chol_df$LBDLDL, 100) %>% head\n",
    "# ntile(log(chol_df$LBDLDLSI), 100) %>% head\n"
   ]
  },
  {
   "cell_type": "code",
   "execution_count": 71,
   "id": "3303d54b",
   "metadata": {
    "slideshow": {
     "slide_type": "slide"
    }
   },
   "outputs": [
    {
     "name": "stderr",
     "output_type": "stream",
     "text": [
      "Warning message:\n",
      "“\u001b[1m\u001b[22mRemoved 228 rows containing non-finite values (`stat_bin()`).”\n"
     ]
    },
    {
     "data": {
      "image/png": "[encoded data removed]",
      "text/plain": [
       "plot without title"
      ]
     },
     "metadata": {
      "image/png": {
       "height": 300,
       "width": 600
      }
     },
     "output_type": "display_data"
    }
   ],
   "source": [
    "chol_df %>% ggplot + geom_histogram(aes(x=LBDLDL), bins=100)"
   ]
  },
  {
   "cell_type": "code",
   "execution_count": 14,
   "id": "34460fcc",
   "metadata": {
    "slideshow": {
     "slide_type": "slide"
    }
   },
   "outputs": [],
   "source": [
    "# blood pressure\n",
    "bpx_df = nhanes('BPX_J')"
   ]
  },
  {
   "cell_type": "code",
   "execution_count": 72,
   "id": "3edf78d7",
   "metadata": {
    "slideshow": {
     "slide_type": "slide"
    }
   },
   "outputs": [
    {
     "name": "stderr",
     "output_type": "stream",
     "text": [
      "Warning message:\n",
      "“\u001b[1m\u001b[22mRemoved 2402 rows containing non-finite values (`stat_bin()`).”\n",
      "Warning message:\n",
      "“\u001b[1m\u001b[22mRemoved 2402 rows containing non-finite values (`stat_bin()`).”\n"
     ]
    },
    {
     "data": {
      "image/png": "[encoded data removed]",
      "text/plain": [
       "plot without title"
      ]
     },
     "metadata": {
      "image/png": {
       "height": 300,
       "width": 600
      }
     },
     "output_type": "display_data"
    }
   ],
   "source": [
    "bpx_df %>% ggplot +\n",
    "    geom_histogram(aes(x=BPXSY1), alpha=0.5, bins=100) + \n",
    "    geom_histogram(aes(x=BPXDI1), alpha=0.5, bins=100)"
   ]
  },
  {
   "cell_type": "markdown",
   "id": "3759145d",
   "metadata": {
    "slideshow": {
     "slide_type": "slide"
    }
   },
   "source": [
    "Let's merge everything together to form the overall health factor score:"
   ]
  },
  {
   "cell_type": "code",
   "execution_count": 79,
   "id": "f01c5eb9",
   "metadata": {
    "slideshow": {
     "slide_type": "slide"
    }
   },
   "outputs": [
    {
     "data": {
      "text/html": [
       "<table class=\"dataframe\">\n",
       "<caption>A data.frame: 9254 × 2</caption>\n",
       "<thead>\n",
       "\t<tr><th scope=col>BMXBMI</th><th scope=col>p</th></tr>\n",
       "\t<tr><th scope=col>&lt;dbl&gt;</th><th scope=col>&lt;int&gt;</th></tr>\n",
       "</thead>\n",
       "<tbody>\n",
       "\t<tr><td>17.5</td><td>15</td></tr>\n",
       "\t<tr><td>15.7</td><td> 7</td></tr>\n",
       "\t<tr><td>31.7</td><td>77</td></tr>\n",
       "\t<tr><td>21.5</td><td>30</td></tr>\n",
       "\t<tr><td>18.1</td><td>17</td></tr>\n",
       "\t<tr><td>23.7</td><td>39</td></tr>\n",
       "\t<tr><td>38.9</td><td>93</td></tr>\n",
       "\t<tr><td>  NA</td><td>NA</td></tr>\n",
       "\t<tr><td>21.3</td><td>29</td></tr>\n",
       "\t<tr><td>19.7</td><td>23</td></tr>\n",
       "\t<tr><td>23.5</td><td>38</td></tr>\n",
       "\t<tr><td>39.9</td><td>94</td></tr>\n",
       "\t<tr><td>22.5</td><td>34</td></tr>\n",
       "\t<tr><td>30.7</td><td>73</td></tr>\n",
       "\t<tr><td>24.5</td><td>43</td></tr>\n",
       "\t<tr><td>22.0</td><td>32</td></tr>\n",
       "\t<tr><td>26.0</td><td>51</td></tr>\n",
       "\t<tr><td>  NA</td><td>NA</td></tr>\n",
       "\t<tr><td>35.9</td><td>88</td></tr>\n",
       "\t<tr><td>23.8</td><td>40</td></tr>\n",
       "\t<tr><td>22.4</td><td>34</td></tr>\n",
       "\t<tr><td>14.7</td><td> 3</td></tr>\n",
       "\t<tr><td>16.1</td><td> 9</td></tr>\n",
       "\t<tr><td>31.1</td><td>75</td></tr>\n",
       "\t<tr><td>23.9</td><td>40</td></tr>\n",
       "\t<tr><td>33.4</td><td>82</td></tr>\n",
       "\t<tr><td>27.6</td><td>59</td></tr>\n",
       "\t<tr><td>28.6</td><td>64</td></tr>\n",
       "\t<tr><td>27.6</td><td>59</td></tr>\n",
       "\t<tr><td>21.3</td><td>29</td></tr>\n",
       "\t<tr><td>⋮</td><td>⋮</td></tr>\n",
       "\t<tr><td>  NA</td><td>NA</td></tr>\n",
       "\t<tr><td>  NA</td><td>NA</td></tr>\n",
       "\t<tr><td>34.8</td><td>86</td></tr>\n",
       "\t<tr><td>17.7</td><td>16</td></tr>\n",
       "\t<tr><td>  NA</td><td>NA</td></tr>\n",
       "\t<tr><td>17.4</td><td>15</td></tr>\n",
       "\t<tr><td>18.0</td><td>17</td></tr>\n",
       "\t<tr><td>26.3</td><td>53</td></tr>\n",
       "\t<tr><td>23.6</td><td>39</td></tr>\n",
       "\t<tr><td>  NA</td><td>NA</td></tr>\n",
       "\t<tr><td>15.3</td><td> 5</td></tr>\n",
       "\t<tr><td>16.6</td><td>12</td></tr>\n",
       "\t<tr><td>16.5</td><td>11</td></tr>\n",
       "\t<tr><td>  NA</td><td>NA</td></tr>\n",
       "\t<tr><td>20.1</td><td>24</td></tr>\n",
       "\t<tr><td>  NA</td><td>NA</td></tr>\n",
       "\t<tr><td>37.4</td><td>91</td></tr>\n",
       "\t<tr><td>29.6</td><td>69</td></tr>\n",
       "\t<tr><td>22.1</td><td>33</td></tr>\n",
       "\t<tr><td>30.4</td><td>72</td></tr>\n",
       "\t<tr><td>25.2</td><td>47</td></tr>\n",
       "\t<tr><td>20.2</td><td>25</td></tr>\n",
       "\t<tr><td>23.7</td><td>40</td></tr>\n",
       "\t<tr><td>  NA</td><td>NA</td></tr>\n",
       "\t<tr><td>20.1</td><td>24</td></tr>\n",
       "\t<tr><td>20.0</td><td>24</td></tr>\n",
       "\t<tr><td>35.8</td><td>88</td></tr>\n",
       "\t<tr><td>26.1</td><td>52</td></tr>\n",
       "\t<tr><td>45.6</td><td>98</td></tr>\n",
       "\t<tr><td>36.1</td><td>89</td></tr>\n",
       "</tbody>\n",
       "</table>\n"
      ],
      "text/latex": [
       "A data.frame: 9254 × 2\n",
       "\\begin{tabular}{ll}\n",
       " BMXBMI & p\\\\\n",
       " <dbl> & <int>\\\\\n",
       "\\hline\n",
       "\t 17.5 & 15\\\\\n",
       "\t 15.7 &  7\\\\\n",
       "\t 31.7 & 77\\\\\n",
       "\t 21.5 & 30\\\\\n",
       "\t 18.1 & 17\\\\\n",
       "\t 23.7 & 39\\\\\n",
       "\t 38.9 & 93\\\\\n",
       "\t   NA & NA\\\\\n",
       "\t 21.3 & 29\\\\\n",
       "\t 19.7 & 23\\\\\n",
       "\t 23.5 & 38\\\\\n",
       "\t 39.9 & 94\\\\\n",
       "\t 22.5 & 34\\\\\n",
       "\t 30.7 & 73\\\\\n",
       "\t 24.5 & 43\\\\\n",
       "\t 22.0 & 32\\\\\n",
       "\t 26.0 & 51\\\\\n",
       "\t   NA & NA\\\\\n",
       "\t 35.9 & 88\\\\\n",
       "\t 23.8 & 40\\\\\n",
       "\t 22.4 & 34\\\\\n",
       "\t 14.7 &  3\\\\\n",
       "\t 16.1 &  9\\\\\n",
       "\t 31.1 & 75\\\\\n",
       "\t 23.9 & 40\\\\\n",
       "\t 33.4 & 82\\\\\n",
       "\t 27.6 & 59\\\\\n",
       "\t 28.6 & 64\\\\\n",
       "\t 27.6 & 59\\\\\n",
       "\t 21.3 & 29\\\\\n",
       "\t ⋮ & ⋮\\\\\n",
       "\t   NA & NA\\\\\n",
       "\t   NA & NA\\\\\n",
       "\t 34.8 & 86\\\\\n",
       "\t 17.7 & 16\\\\\n",
       "\t   NA & NA\\\\\n",
       "\t 17.4 & 15\\\\\n",
       "\t 18.0 & 17\\\\\n",
       "\t 26.3 & 53\\\\\n",
       "\t 23.6 & 39\\\\\n",
       "\t   NA & NA\\\\\n",
       "\t 15.3 &  5\\\\\n",
       "\t 16.6 & 12\\\\\n",
       "\t 16.5 & 11\\\\\n",
       "\t   NA & NA\\\\\n",
       "\t 20.1 & 24\\\\\n",
       "\t   NA & NA\\\\\n",
       "\t 37.4 & 91\\\\\n",
       "\t 29.6 & 69\\\\\n",
       "\t 22.1 & 33\\\\\n",
       "\t 30.4 & 72\\\\\n",
       "\t 25.2 & 47\\\\\n",
       "\t 20.2 & 25\\\\\n",
       "\t 23.7 & 40\\\\\n",
       "\t   NA & NA\\\\\n",
       "\t 20.1 & 24\\\\\n",
       "\t 20.0 & 24\\\\\n",
       "\t 35.8 & 88\\\\\n",
       "\t 26.1 & 52\\\\\n",
       "\t 45.6 & 98\\\\\n",
       "\t 36.1 & 89\\\\\n",
       "\\end{tabular}\n"
      ],
      "text/markdown": [
       "\n",
       "A data.frame: 9254 × 2\n",
       "\n",
       "| BMXBMI &lt;dbl&gt; | p &lt;int&gt; |\n",
       "|---|---|\n",
       "| 17.5 | 15 |\n",
       "| 15.7 |  7 |\n",
       "| 31.7 | 77 |\n",
       "| 21.5 | 30 |\n",
       "| 18.1 | 17 |\n",
       "| 23.7 | 39 |\n",
       "| 38.9 | 93 |\n",
       "|   NA | NA |\n",
       "| 21.3 | 29 |\n",
       "| 19.7 | 23 |\n",
       "| 23.5 | 38 |\n",
       "| 39.9 | 94 |\n",
       "| 22.5 | 34 |\n",
       "| 30.7 | 73 |\n",
       "| 24.5 | 43 |\n",
       "| 22.0 | 32 |\n",
       "| 26.0 | 51 |\n",
       "|   NA | NA |\n",
       "| 35.9 | 88 |\n",
       "| 23.8 | 40 |\n",
       "| 22.4 | 34 |\n",
       "| 14.7 |  3 |\n",
       "| 16.1 |  9 |\n",
       "| 31.1 | 75 |\n",
       "| 23.9 | 40 |\n",
       "| 33.4 | 82 |\n",
       "| 27.6 | 59 |\n",
       "| 28.6 | 64 |\n",
       "| 27.6 | 59 |\n",
       "| 21.3 | 29 |\n",
       "| ⋮ | ⋮ |\n",
       "|   NA | NA |\n",
       "|   NA | NA |\n",
       "| 34.8 | 86 |\n",
       "| 17.7 | 16 |\n",
       "|   NA | NA |\n",
       "| 17.4 | 15 |\n",
       "| 18.0 | 17 |\n",
       "| 26.3 | 53 |\n",
       "| 23.6 | 39 |\n",
       "|   NA | NA |\n",
       "| 15.3 |  5 |\n",
       "| 16.6 | 12 |\n",
       "| 16.5 | 11 |\n",
       "|   NA | NA |\n",
       "| 20.1 | 24 |\n",
       "|   NA | NA |\n",
       "| 37.4 | 91 |\n",
       "| 29.6 | 69 |\n",
       "| 22.1 | 33 |\n",
       "| 30.4 | 72 |\n",
       "| 25.2 | 47 |\n",
       "| 20.2 | 25 |\n",
       "| 23.7 | 40 |\n",
       "|   NA | NA |\n",
       "| 20.1 | 24 |\n",
       "| 20.0 | 24 |\n",
       "| 35.8 | 88 |\n",
       "| 26.1 | 52 |\n",
       "| 45.6 | 98 |\n",
       "| 36.1 | 89 |\n",
       "\n"
      ],
      "text/plain": [
       "     BMXBMI p \n",
       "1    17.5   15\n",
       "2    15.7    7\n",
       "3    31.7   77\n",
       "4    21.5   30\n",
       "5    18.1   17\n",
       "6    23.7   39\n",
       "7    38.9   93\n",
       "8      NA   NA\n",
       "9    21.3   29\n",
       "10   19.7   23\n",
       "11   23.5   38\n",
       "12   39.9   94\n",
       "13   22.5   34\n",
       "14   30.7   73\n",
       "15   24.5   43\n",
       "16   22.0   32\n",
       "17   26.0   51\n",
       "18     NA   NA\n",
       "19   35.9   88\n",
       "20   23.8   40\n",
       "21   22.4   34\n",
       "22   14.7    3\n",
       "23   16.1    9\n",
       "24   31.1   75\n",
       "25   23.9   40\n",
       "26   33.4   82\n",
       "27   27.6   59\n",
       "28   28.6   64\n",
       "29   27.6   59\n",
       "30   21.3   29\n",
       "⋮    ⋮      ⋮ \n",
       "9225   NA   NA\n",
       "9226   NA   NA\n",
       "9227 34.8   86\n",
       "9228 17.7   16\n",
       "9229   NA   NA\n",
       "9230 17.4   15\n",
       "9231 18.0   17\n",
       "9232 26.3   53\n",
       "9233 23.6   39\n",
       "9234   NA   NA\n",
       "9235 15.3    5\n",
       "9236 16.6   12\n",
       "9237 16.5   11\n",
       "9238   NA   NA\n",
       "9239 20.1   24\n",
       "9240   NA   NA\n",
       "9241 37.4   91\n",
       "9242 29.6   69\n",
       "9243 22.1   33\n",
       "9244 30.4   72\n",
       "9245 25.2   47\n",
       "9246 20.2   25\n",
       "9247 23.7   40\n",
       "9248   NA   NA\n",
       "9249 20.1   24\n",
       "9250 20.0   24\n",
       "9251 35.8   88\n",
       "9252 26.1   52\n",
       "9253 45.6   98\n",
       "9254 36.1   89"
      ]
     },
     "metadata": {},
     "output_type": "display_data"
    }
   ],
   "source": [
    "hf_df <- reduce(list(demo_df, bmx_df, glu_df, chol_df, bpx_df), left_join, by = \"SEQN\")\n",
    "\n",
    "hf_df %>% mutate(p=ntile(BMXBMI, 100)) %>% select(BMXBMI, p)\n"
   ]
  },
  {
   "cell_type": "code",
   "execution_count": 80,
   "id": "b12719a4",
   "metadata": {
    "slideshow": {
     "slide_type": "slide"
    }
   },
   "outputs": [],
   "source": [
    "health_df <- hf_df %>% mutate(\n",
    "    health_score = (\n",
    "        ntile(BMXBMI, 100) +\n",
    "        ntile(LBXGLU, 100) +\n",
    "        ntile(LBDLDL, 100) +\n",
    "        (ntile(BPXSY1, 100) + ntile(BPXDI1, 100)) / 2\n",
    "    )\n",
    ")"
   ]
  },
  {
   "cell_type": "code",
   "execution_count": 81,
   "id": "e5257b18",
   "metadata": {
    "slideshow": {
     "slide_type": "slide"
    }
   },
   "outputs": [
    {
     "name": "stderr",
     "output_type": "stream",
     "text": [
      "Warning message:\n",
      "“\u001b[1m\u001b[22mRemoved 6795 rows containing non-finite values (`stat_bin()`).”\n"
     ]
    },
    {
     "data": {
      "image/png": "[encoded data removed]",
      "text/plain": [
       "plot without title"
      ]
     },
     "metadata": {
      "image/png": {
       "height": 300,
       "width": 600
      }
     },
     "output_type": "display_data"
    }
   ],
   "source": [
    "ggplot(health_df) + geom_histogram(aes(x = health_score), bins=100)"
   ]
  },
  {
   "cell_type": "markdown",
   "id": "f11b6fae",
   "metadata": {
    "slideshow": {
     "slide_type": "slide"
    }
   },
   "source": [
    "## Behavior factors\n",
    "- Recall the four behavior factors we want to measure:\n",
    "    - smoking status\n",
    "    - physical activity\n",
    "    - diet\n",
    "    - sleep\n",
    "- AFAICT, the AHA does not endorse any particular way to score these. It's up to us to decide how!"
   ]
  },
  {
   "cell_type": "code",
   "execution_count": 85,
   "id": "a5af37ea",
   "metadata": {
    "slideshow": {
     "slide_type": "slide"
    }
   },
   "outputs": [
    {
     "data": {
      "text/html": [
       "<dl>\n",
       "\t<dt>$`Variable Name:`</dt>\n",
       "\t\t<dd>'SMD641'</dd>\n",
       "\t<dt>$`SAS Label:`</dt>\n",
       "\t\t<dd>'# days smoked cigs during past 30 days'</dd>\n",
       "\t<dt>$`English Text:`</dt>\n",
       "\t\t<dd>'On how many of the past 30 days did {you/SP} smoke a cigarette?'</dd>\n",
       "\t<dt>$`English Instructions:`</dt>\n",
       "\t\t<dd>'ENTER NUMBER (OF DAYS)'</dd>\n",
       "\t<dt>$`Target:`</dt>\n",
       "\t\t<dd>'Both males and females 12 YEARS -\\r 150 YEARS'</dd>\n",
       "\t<dt>$`Hard Edits:`</dt>\n",
       "\t\t<dd>'0 to 30'</dd>\n",
       "\t<dt>$SMD641</dt>\n",
       "\t\t<dd><table class=\"dataframe\">\n",
       "<caption>A tibble: 4 × 5</caption>\n",
       "<thead>\n",
       "\t<tr><th scope=col>Code or Value</th><th scope=col>Value Description</th><th scope=col>Count</th><th scope=col>Cumulative</th><th scope=col>Skip to Item</th></tr>\n",
       "\t<tr><th scope=col>&lt;chr&gt;</th><th scope=col>&lt;chr&gt;</th><th scope=col>&lt;int&gt;</th><th scope=col>&lt;int&gt;</th><th scope=col>&lt;lgl&gt;</th></tr>\n",
       "</thead>\n",
       "<tbody>\n",
       "\t<tr><td>0 to 30</td><td>Range of Values</td><td>1060</td><td>1060</td><td>NA</td></tr>\n",
       "\t<tr><td>77     </td><td>Refused        </td><td>   0</td><td>1060</td><td>NA</td></tr>\n",
       "\t<tr><td>99     </td><td>Don't know     </td><td>   3</td><td>1063</td><td>NA</td></tr>\n",
       "\t<tr><td>.      </td><td>Missing        </td><td>5661</td><td>6724</td><td>NA</td></tr>\n",
       "</tbody>\n",
       "</table>\n",
       "</dd>\n",
       "</dl>\n"
      ],
      "text/latex": [
       "\\begin{description}\n",
       "\\item[\\$`Variable Name:`] 'SMD641'\n",
       "\\item[\\$`SAS Label:`] '\\# days smoked cigs during past 30 days'\n",
       "\\item[\\$`English Text:`] 'On how many of the past 30 days did \\{you/SP\\} smoke a cigarette?'\n",
       "\\item[\\$`English Instructions:`] 'ENTER NUMBER (OF DAYS)'\n",
       "\\item[\\$`Target:`] 'Both males and females 12 YEARS -\\textbackslash{}r 150 YEARS'\n",
       "\\item[\\$`Hard Edits:`] '0 to 30'\n",
       "\\item[\\$SMD641] A tibble: 4 × 5\n",
       "\\begin{tabular}{lllll}\n",
       " Code or Value & Value Description & Count & Cumulative & Skip to Item\\\\\n",
       " <chr> & <chr> & <int> & <int> & <lgl>\\\\\n",
       "\\hline\n",
       "\t 0 to 30 & Range of Values & 1060 & 1060 & NA\\\\\n",
       "\t 77      & Refused         &    0 & 1060 & NA\\\\\n",
       "\t 99      & Don't know      &    3 & 1063 & NA\\\\\n",
       "\t .       & Missing         & 5661 & 6724 & NA\\\\\n",
       "\\end{tabular}\n",
       "\n",
       "\\end{description}\n"
      ],
      "text/markdown": [
       "$`Variable Name:`\n",
       ":   'SMD641'\n",
       "$`SAS Label:`\n",
       ":   '# days smoked cigs during past 30 days'\n",
       "$`English Text:`\n",
       ":   'On how many of the past 30 days did {you/SP} smoke a cigarette?'\n",
       "$`English Instructions:`\n",
       ":   'ENTER NUMBER (OF DAYS)'\n",
       "$`Target:`\n",
       ":   'Both males and females 12 YEARS -\\r 150 YEARS'\n",
       "$`Hard Edits:`\n",
       ":   '0 to 30'\n",
       "$SMD641\n",
       ":   \n",
       "A tibble: 4 × 5\n",
       "\n",
       "| Code or Value &lt;chr&gt; | Value Description &lt;chr&gt; | Count &lt;int&gt; | Cumulative &lt;int&gt; | Skip to Item &lt;lgl&gt; |\n",
       "|---|---|---|---|---|\n",
       "| 0 to 30 | Range of Values | 1060 | 1060 | NA |\n",
       "| 77      | Refused         |    0 | 1060 | NA |\n",
       "| 99      | Don't know      |    3 | 1063 | NA |\n",
       "| .       | Missing         | 5661 | 6724 | NA |\n",
       "\n",
       "\n",
       "\n",
       "\n"
      ],
      "text/plain": [
       "$`Variable Name:`\n",
       "[1] \"SMD641\"\n",
       "\n",
       "$`SAS Label:`\n",
       "[1] \"# days smoked cigs during past 30 days\"\n",
       "\n",
       "$`English Text:`\n",
       "[1] \"On how many of the past 30 days did {you/SP} smoke a cigarette?\"\n",
       "\n",
       "$`English Instructions:`\n",
       "[1] \"ENTER NUMBER (OF DAYS)\"\n",
       "\n",
       "$`Target:`\n",
       "[1] \"Both males and females 12 YEARS -\\r 150 YEARS\"\n",
       "\n",
       "$`Hard Edits:`\n",
       "[1] \"0 to 30\"\n",
       "\n",
       "$SMD641\n",
       "\u001b[90m# A tibble: 4 × 5\u001b[39m\n",
       "  `Code or Value` `Value Description` Count Cumulative `Skip to Item`\n",
       "  \u001b[3m\u001b[90m<chr>\u001b[39m\u001b[23m           \u001b[3m\u001b[90m<chr>\u001b[39m\u001b[23m               \u001b[3m\u001b[90m<int>\u001b[39m\u001b[23m      \u001b[3m\u001b[90m<int>\u001b[39m\u001b[23m \u001b[3m\u001b[90m<lgl>\u001b[39m\u001b[23m         \n",
       "\u001b[90m1\u001b[39m 0 to 30         Range of Values      \u001b[4m1\u001b[24m060       \u001b[4m1\u001b[24m060 \u001b[31mNA\u001b[39m            \n",
       "\u001b[90m2\u001b[39m 77              Refused                 0       \u001b[4m1\u001b[24m060 \u001b[31mNA\u001b[39m            \n",
       "\u001b[90m3\u001b[39m 99              Don't know              3       \u001b[4m1\u001b[24m063 \u001b[31mNA\u001b[39m            \n",
       "\u001b[90m4\u001b[39m .               Missing              \u001b[4m5\u001b[24m661       \u001b[4m6\u001b[24m724 \u001b[31mNA\u001b[39m            \n"
      ]
     },
     "metadata": {},
     "output_type": "display_data"
    }
   ],
   "source": [
    "# smoking status\n",
    "# smq_df = nhanes('SMQ_J')\n",
    "nhanesCodebook('SMQ_J', 'SMD641')"
   ]
  },
  {
   "cell_type": "markdown",
   "id": "a91c7bcb",
   "metadata": {
    "slideshow": {
     "slide_type": "notes"
    }
   },
   "source": [
    "What do all these variables represent?"
   ]
  },
  {
   "cell_type": "code",
   "execution_count": 20,
   "id": "d13dd6c4",
   "metadata": {
    "slideshow": {
     "slide_type": "slide"
    }
   },
   "outputs": [
    {
     "data": {
      "text/html": [
       "<table class=\"dataframe\">\n",
       "<caption>A data.frame: 37 × 2</caption>\n",
       "<thead>\n",
       "\t<tr><th></th><th scope=col>Variable.Name</th><th scope=col>Variable.Description</th></tr>\n",
       "\t<tr><th></th><th scope=col>&lt;chr&gt;</th><th scope=col>&lt;chr&gt;</th></tr>\n",
       "</thead>\n",
       "<tbody>\n",
       "\t<tr><th scope=row>1</th><td>SEQN    </td><td>Respondent sequence number.                                                                                                     </td></tr>\n",
       "\t<tr><th scope=row>2</th><td>SMAQUEX2</td><td>Questionnaire Mode Flag                                                                                                         </td></tr>\n",
       "\t<tr><th scope=row>3</th><td>SMD030  </td><td>How old {were you/was SP} when {you/s/he} first started to smoke cigarettes fairly regularly?                                   </td></tr>\n",
       "\t<tr><th scope=row>4</th><td>SMD057  </td><td>At that time, about how many cigarettes did {you/SP} usually smoke per day?                                                     </td></tr>\n",
       "\t<tr><th scope=row>5</th><td>SMD093  </td><td>May I please see the pack for the brand of cigarettes {you usually smoke/SP usually smokes}.                                    </td></tr>\n",
       "\t<tr><th scope=row>6</th><td>SMD100BR</td><td>BRAND OF CIGARETTES SMOKED BY SP (SUB-BRAND INCLUDED IF APPLICABLE AND AVAILABLE)                                               </td></tr>\n",
       "\t<tr><th scope=row>7</th><td>SMD100CO</td><td>CIGARETTE CARBON MONOXIDE CONTENT                                                                                               </td></tr>\n",
       "\t<tr><th scope=row>8</th><td>SMD100FL</td><td>CIGARETTE PRODUCT FILTERED OR NON-FILTERED                                                                                      </td></tr>\n",
       "\t<tr><th scope=row>9</th><td>SMD100LN</td><td>CIGARETTE PRODUCT LENGTH                                                                                                        </td></tr>\n",
       "\t<tr><th scope=row>10</th><td>SMD100MN</td><td>CIGARETTE PRODUCT MENTHOLATED OR NON-MENTHOLATED                                                                                </td></tr>\n",
       "\t<tr><th scope=row>11</th><td>SMD100NI</td><td>CIGARETTE NICOTINE CONTENT                                                                                                      </td></tr>\n",
       "\t<tr><th scope=row>12</th><td>SMD100TR</td><td>CIGARETTE TAR CONTENT                                                                                                           </td></tr>\n",
       "\t<tr><th scope=row>13</th><td>SMD630  </td><td>How old were you when you smoked a whole cigarette for the first time?                                                          </td></tr>\n",
       "\t<tr><th scope=row>14</th><td>SMD641  </td><td>On how many of the past 30 days did {you/SP} smoke a cigarette?                                                                 </td></tr>\n",
       "\t<tr><th scope=row>15</th><td>SMD650  </td><td>During the past 30 days, on the days that {you/SP} smoked, about how many cigarettes did {you/s/he} smoke per day?              </td></tr>\n",
       "\t<tr><th scope=row>16</th><td>SMDUPCA </td><td>Cigarette 12-digit Universal Product Code (UPC)                                                                                 </td></tr>\n",
       "\t<tr><th scope=row>17</th><td>SMQ020  </td><td>These next questions are about cigarette smoking and other tobacco use. {Have you/Has SP} smoked at least 100 cigarettes in {you</td></tr>\n",
       "\t<tr><th scope=row>18</th><td>SMQ040  </td><td>{Do you/Does SP} now smoke cigarettes?                                                                                          </td></tr>\n",
       "\t<tr><th scope=row>19</th><td>SMQ050Q </td><td>How long has it been since {you/SP} quit smoking cigarettes?                                                                    </td></tr>\n",
       "\t<tr><th scope=row>20</th><td>SMQ050U </td><td>UNIT OF MEASURE                                                                                                                 </td></tr>\n",
       "\t<tr><th scope=row>21</th><td>SMQ078  </td><td>How soon after you wake up do you smoke?  Would you say . . .                                                                   </td></tr>\n",
       "\t<tr><th scope=row>22</th><td>SMQ621  </td><td>The following questions are about cigarette smoking and other tobacco use.  Do not include cigars or marijuana.  About how many </td></tr>\n",
       "\t<tr><th scope=row>23</th><td>SMQ661  </td><td>During the past 30 days, on the days that you smoked, which brand of cigarettes did you usually smoke?                          </td></tr>\n",
       "\t<tr><th scope=row>24</th><td>SMQ665A </td><td>Please select the Marlboro pack that looks most like the brand that you smoke. If the pack you smoke is not shown, select 'other</td></tr>\n",
       "\t<tr><th scope=row>25</th><td>SMQ665B </td><td>Please select the Camel pack that looks most like the brand that you smoke. If the pack you smoke is not shown, select 'other Ca</td></tr>\n",
       "\t<tr><th scope=row>26</th><td>SMQ665C </td><td>Please select the Newport pack that looks most like the brand that you smoke. If the pack you smoke is not shown, select 'other </td></tr>\n",
       "\t<tr><th scope=row>27</th><td>SMQ665D </td><td>Please select the pack that looks most like the brand that you smoke. If the pack you smoke is not shown, select 'other brand of</td></tr>\n",
       "\t<tr><th scope=row>28</th><td>SMQ670  </td><td>During the past 12 months, have you stopped smoking for one day or longer because you were trying to quit smoking?              </td></tr>\n",
       "\t<tr><th scope=row>29</th><td>SMQ848  </td><td>During the past 12 months, how many times {have you/has SP} stopped smoking cigarettes because {you were/he was/she was} trying </td></tr>\n",
       "\t<tr><th scope=row>30</th><td>SMQ852Q </td><td>The last time {you/SP} tried to quit, how long {were you/was he/was she} able to stop smoking?                                  </td></tr>\n",
       "\t<tr><th scope=row>31</th><td>SMQ852U </td><td>The last time {you/SP} tried to quit, how long {were you/was he/was she} able to stop smoking?                                  </td></tr>\n",
       "\t<tr><th scope=row>32</th><td>SMQ890  </td><td>{Have you/Has SP} ever smoked a regular cigar, cigarillo or little filtered cigar even one time? This hand card shows examples o</td></tr>\n",
       "\t<tr><th scope=row>33</th><td>SMQ895  </td><td>During the past 30 days, on how many days did {you/SP} smoke a regular cigar, cigarillo or little filtered cigar?               </td></tr>\n",
       "\t<tr><th scope=row>34</th><td>SMQ900  </td><td>The next question is about e-cigarettes. These are battery-powered devices that usually contain liquid nicotine, and don't produ</td></tr>\n",
       "\t<tr><th scope=row>35</th><td>SMQ905  </td><td>During the past 30 days, on how many days did {you/SP} use e-cigarettes?                                                        </td></tr>\n",
       "\t<tr><th scope=row>36</th><td>SMQ910  </td><td>Smokeless tobacco products are placed in the mouth and nose and include chewing tobacco, snuff, dip, snus (pronounced as \"snoose</td></tr>\n",
       "\t<tr><th scope=row>37</th><td>SMQ915  </td><td>During the past 30 days, on how many days did {you/SP} use smokeless tobacco?                                                   </td></tr>\n",
       "</tbody>\n",
       "</table>\n"
      ],
      "text/latex": [
       "A data.frame: 37 × 2\n",
       "\\begin{tabular}{r|ll}\n",
       "  & Variable.Name & Variable.Description\\\\\n",
       "  & <chr> & <chr>\\\\\n",
       "\\hline\n",
       "\t1 & SEQN     & Respondent sequence number.                                                                                                     \\\\\n",
       "\t2 & SMAQUEX2 & Questionnaire Mode Flag                                                                                                         \\\\\n",
       "\t3 & SMD030   & How old \\{were you/was SP\\} when \\{you/s/he\\} first started to smoke cigarettes fairly regularly?                                   \\\\\n",
       "\t4 & SMD057   & At that time, about how many cigarettes did \\{you/SP\\} usually smoke per day?                                                     \\\\\n",
       "\t5 & SMD093   & May I please see the pack for the brand of cigarettes \\{you usually smoke/SP usually smokes\\}.                                    \\\\\n",
       "\t6 & SMD100BR & BRAND OF CIGARETTES SMOKED BY SP (SUB-BRAND INCLUDED IF APPLICABLE AND AVAILABLE)                                               \\\\\n",
       "\t7 & SMD100CO & CIGARETTE CARBON MONOXIDE CONTENT                                                                                               \\\\\n",
       "\t8 & SMD100FL & CIGARETTE PRODUCT FILTERED OR NON-FILTERED                                                                                      \\\\\n",
       "\t9 & SMD100LN & CIGARETTE PRODUCT LENGTH                                                                                                        \\\\\n",
       "\t10 & SMD100MN & CIGARETTE PRODUCT MENTHOLATED OR NON-MENTHOLATED                                                                                \\\\\n",
       "\t11 & SMD100NI & CIGARETTE NICOTINE CONTENT                                                                                                      \\\\\n",
       "\t12 & SMD100TR & CIGARETTE TAR CONTENT                                                                                                           \\\\\n",
       "\t13 & SMD630   & How old were you when you smoked a whole cigarette for the first time?                                                          \\\\\n",
       "\t14 & SMD641   & On how many of the past 30 days did \\{you/SP\\} smoke a cigarette?                                                                 \\\\\n",
       "\t15 & SMD650   & During the past 30 days, on the days that \\{you/SP\\} smoked, about how many cigarettes did \\{you/s/he\\} smoke per day?              \\\\\n",
       "\t16 & SMDUPCA  & Cigarette 12-digit Universal Product Code (UPC)                                                                                 \\\\\n",
       "\t17 & SMQ020   & These next questions are about cigarette smoking and other tobacco use. \\{Have you/Has SP\\} smoked at least 100 cigarettes in \\{you\\\\\n",
       "\t18 & SMQ040   & \\{Do you/Does SP\\} now smoke cigarettes?                                                                                          \\\\\n",
       "\t19 & SMQ050Q  & How long has it been since \\{you/SP\\} quit smoking cigarettes?                                                                    \\\\\n",
       "\t20 & SMQ050U  & UNIT OF MEASURE                                                                                                                 \\\\\n",
       "\t21 & SMQ078   & How soon after you wake up do you smoke?  Would you say . . .                                                                   \\\\\n",
       "\t22 & SMQ621   & The following questions are about cigarette smoking and other tobacco use.  Do not include cigars or marijuana.  About how many \\\\\n",
       "\t23 & SMQ661   & During the past 30 days, on the days that you smoked, which brand of cigarettes did you usually smoke?                          \\\\\n",
       "\t24 & SMQ665A  & Please select the Marlboro pack that looks most like the brand that you smoke. If the pack you smoke is not shown, select 'other\\\\\n",
       "\t25 & SMQ665B  & Please select the Camel pack that looks most like the brand that you smoke. If the pack you smoke is not shown, select 'other Ca\\\\\n",
       "\t26 & SMQ665C  & Please select the Newport pack that looks most like the brand that you smoke. If the pack you smoke is not shown, select 'other \\\\\n",
       "\t27 & SMQ665D  & Please select the pack that looks most like the brand that you smoke. If the pack you smoke is not shown, select 'other brand of\\\\\n",
       "\t28 & SMQ670   & During the past 12 months, have you stopped smoking for one day or longer because you were trying to quit smoking?              \\\\\n",
       "\t29 & SMQ848   & During the past 12 months, how many times \\{have you/has SP\\} stopped smoking cigarettes because \\{you were/he was/she was\\} trying \\\\\n",
       "\t30 & SMQ852Q  & The last time \\{you/SP\\} tried to quit, how long \\{were you/was he/was she\\} able to stop smoking?                                  \\\\\n",
       "\t31 & SMQ852U  & The last time \\{you/SP\\} tried to quit, how long \\{were you/was he/was she\\} able to stop smoking?                                  \\\\\n",
       "\t32 & SMQ890   & \\{Have you/Has SP\\} ever smoked a regular cigar, cigarillo or little filtered cigar even one time? This hand card shows examples o\\\\\n",
       "\t33 & SMQ895   & During the past 30 days, on how many days did \\{you/SP\\} smoke a regular cigar, cigarillo or little filtered cigar?               \\\\\n",
       "\t34 & SMQ900   & The next question is about e-cigarettes. These are battery-powered devices that usually contain liquid nicotine, and don't produ\\\\\n",
       "\t35 & SMQ905   & During the past 30 days, on how many days did \\{you/SP\\} use e-cigarettes?                                                        \\\\\n",
       "\t36 & SMQ910   & Smokeless tobacco products are placed in the mouth and nose and include chewing tobacco, snuff, dip, snus (pronounced as \"snoose\\\\\n",
       "\t37 & SMQ915   & During the past 30 days, on how many days did \\{you/SP\\} use smokeless tobacco?                                                   \\\\\n",
       "\\end{tabular}\n"
      ],
      "text/markdown": [
       "\n",
       "A data.frame: 37 × 2\n",
       "\n",
       "| <!--/--> | Variable.Name &lt;chr&gt; | Variable.Description &lt;chr&gt; |\n",
       "|---|---|---|\n",
       "| 1 | SEQN     | Respondent sequence number.                                                                                                      |\n",
       "| 2 | SMAQUEX2 | Questionnaire Mode Flag                                                                                                          |\n",
       "| 3 | SMD030   | How old {were you/was SP} when {you/s/he} first started to smoke cigarettes fairly regularly?                                    |\n",
       "| 4 | SMD057   | At that time, about how many cigarettes did {you/SP} usually smoke per day?                                                      |\n",
       "| 5 | SMD093   | May I please see the pack for the brand of cigarettes {you usually smoke/SP usually smokes}.                                     |\n",
       "| 6 | SMD100BR | BRAND OF CIGARETTES SMOKED BY SP (SUB-BRAND INCLUDED IF APPLICABLE AND AVAILABLE)                                                |\n",
       "| 7 | SMD100CO | CIGARETTE CARBON MONOXIDE CONTENT                                                                                                |\n",
       "| 8 | SMD100FL | CIGARETTE PRODUCT FILTERED OR NON-FILTERED                                                                                       |\n",
       "| 9 | SMD100LN | CIGARETTE PRODUCT LENGTH                                                                                                         |\n",
       "| 10 | SMD100MN | CIGARETTE PRODUCT MENTHOLATED OR NON-MENTHOLATED                                                                                 |\n",
       "| 11 | SMD100NI | CIGARETTE NICOTINE CONTENT                                                                                                       |\n",
       "| 12 | SMD100TR | CIGARETTE TAR CONTENT                                                                                                            |\n",
       "| 13 | SMD630   | How old were you when you smoked a whole cigarette for the first time?                                                           |\n",
       "| 14 | SMD641   | On how many of the past 30 days did {you/SP} smoke a cigarette?                                                                  |\n",
       "| 15 | SMD650   | During the past 30 days, on the days that {you/SP} smoked, about how many cigarettes did {you/s/he} smoke per day?               |\n",
       "| 16 | SMDUPCA  | Cigarette 12-digit Universal Product Code (UPC)                                                                                  |\n",
       "| 17 | SMQ020   | These next questions are about cigarette smoking and other tobacco use. {Have you/Has SP} smoked at least 100 cigarettes in {you |\n",
       "| 18 | SMQ040   | {Do you/Does SP} now smoke cigarettes?                                                                                           |\n",
       "| 19 | SMQ050Q  | How long has it been since {you/SP} quit smoking cigarettes?                                                                     |\n",
       "| 20 | SMQ050U  | UNIT OF MEASURE                                                                                                                  |\n",
       "| 21 | SMQ078   | How soon after you wake up do you smoke?  Would you say . . .                                                                    |\n",
       "| 22 | SMQ621   | The following questions are about cigarette smoking and other tobacco use.  Do not include cigars or marijuana.  About how many  |\n",
       "| 23 | SMQ661   | During the past 30 days, on the days that you smoked, which brand of cigarettes did you usually smoke?                           |\n",
       "| 24 | SMQ665A  | Please select the Marlboro pack that looks most like the brand that you smoke. If the pack you smoke is not shown, select 'other |\n",
       "| 25 | SMQ665B  | Please select the Camel pack that looks most like the brand that you smoke. If the pack you smoke is not shown, select 'other Ca |\n",
       "| 26 | SMQ665C  | Please select the Newport pack that looks most like the brand that you smoke. If the pack you smoke is not shown, select 'other  |\n",
       "| 27 | SMQ665D  | Please select the pack that looks most like the brand that you smoke. If the pack you smoke is not shown, select 'other brand of |\n",
       "| 28 | SMQ670   | During the past 12 months, have you stopped smoking for one day or longer because you were trying to quit smoking?               |\n",
       "| 29 | SMQ848   | During the past 12 months, how many times {have you/has SP} stopped smoking cigarettes because {you were/he was/she was} trying  |\n",
       "| 30 | SMQ852Q  | The last time {you/SP} tried to quit, how long {were you/was he/was she} able to stop smoking?                                   |\n",
       "| 31 | SMQ852U  | The last time {you/SP} tried to quit, how long {were you/was he/was she} able to stop smoking?                                   |\n",
       "| 32 | SMQ890   | {Have you/Has SP} ever smoked a regular cigar, cigarillo or little filtered cigar even one time? This hand card shows examples o |\n",
       "| 33 | SMQ895   | During the past 30 days, on how many days did {you/SP} smoke a regular cigar, cigarillo or little filtered cigar?                |\n",
       "| 34 | SMQ900   | The next question is about e-cigarettes. These are battery-powered devices that usually contain liquid nicotine, and don't produ |\n",
       "| 35 | SMQ905   | During the past 30 days, on how many days did {you/SP} use e-cigarettes?                                                         |\n",
       "| 36 | SMQ910   | Smokeless tobacco products are placed in the mouth and nose and include chewing tobacco, snuff, dip, snus (pronounced as \"snoose |\n",
       "| 37 | SMQ915   | During the past 30 days, on how many days did {you/SP} use smokeless tobacco?                                                    |\n",
       "\n"
      ],
      "text/plain": [
       "   Variable.Name\n",
       "1  SEQN         \n",
       "2  SMAQUEX2     \n",
       "3  SMD030       \n",
       "4  SMD057       \n",
       "5  SMD093       \n",
       "6  SMD100BR     \n",
       "7  SMD100CO     \n",
       "8  SMD100FL     \n",
       "9  SMD100LN     \n",
       "10 SMD100MN     \n",
       "11 SMD100NI     \n",
       "12 SMD100TR     \n",
       "13 SMD630       \n",
       "14 SMD641       \n",
       "15 SMD650       \n",
       "16 SMDUPCA      \n",
       "17 SMQ020       \n",
       "18 SMQ040       \n",
       "19 SMQ050Q      \n",
       "20 SMQ050U      \n",
       "21 SMQ078       \n",
       "22 SMQ621       \n",
       "23 SMQ661       \n",
       "24 SMQ665A      \n",
       "25 SMQ665B      \n",
       "26 SMQ665C      \n",
       "27 SMQ665D      \n",
       "28 SMQ670       \n",
       "29 SMQ848       \n",
       "30 SMQ852Q      \n",
       "31 SMQ852U      \n",
       "32 SMQ890       \n",
       "33 SMQ895       \n",
       "34 SMQ900       \n",
       "35 SMQ905       \n",
       "36 SMQ910       \n",
       "37 SMQ915       \n",
       "   Variable.Description                                                                                                            \n",
       "1  Respondent sequence number.                                                                                                     \n",
       "2  Questionnaire Mode Flag                                                                                                         \n",
       "3  How old {were you/was SP} when {you/s/he} first started to smoke cigarettes fairly regularly?                                   \n",
       "4  At that time, about how many cigarettes did {you/SP} usually smoke per day?                                                     \n",
       "5  May I please see the pack for the brand of cigarettes {you usually smoke/SP usually smokes}.                                    \n",
       "6  BRAND OF CIGARETTES SMOKED BY SP (SUB-BRAND INCLUDED IF APPLICABLE AND AVAILABLE)                                               \n",
       "7  CIGARETTE CARBON MONOXIDE CONTENT                                                                                               \n",
       "8  CIGARETTE PRODUCT FILTERED OR NON-FILTERED                                                                                      \n",
       "9  CIGARETTE PRODUCT LENGTH                                                                                                        \n",
       "10 CIGARETTE PRODUCT MENTHOLATED OR NON-MENTHOLATED                                                                                \n",
       "11 CIGARETTE NICOTINE CONTENT                                                                                                      \n",
       "12 CIGARETTE TAR CONTENT                                                                                                           \n",
       "13 How old were you when you smoked a whole cigarette for the first time?                                                          \n",
       "14 On how many of the past 30 days did {you/SP} smoke a cigarette?                                                                 \n",
       "15 During the past 30 days, on the days that {you/SP} smoked, about how many cigarettes did {you/s/he} smoke per day?              \n",
       "16 Cigarette 12-digit Universal Product Code (UPC)                                                                                 \n",
       "17 These next questions are about cigarette smoking and other tobacco use. {Have you/Has SP} smoked at least 100 cigarettes in {you\n",
       "18 {Do you/Does SP} now smoke cigarettes?                                                                                          \n",
       "19 How long has it been since {you/SP} quit smoking cigarettes?                                                                    \n",
       "20 UNIT OF MEASURE                                                                                                                 \n",
       "21 How soon after you wake up do you smoke?  Would you say . . .                                                                   \n",
       "22 The following questions are about cigarette smoking and other tobacco use.  Do not include cigars or marijuana.  About how many \n",
       "23 During the past 30 days, on the days that you smoked, which brand of cigarettes did you usually smoke?                          \n",
       "24 Please select the Marlboro pack that looks most like the brand that you smoke. If the pack you smoke is not shown, select 'other\n",
       "25 Please select the Camel pack that looks most like the brand that you smoke. If the pack you smoke is not shown, select 'other Ca\n",
       "26 Please select the Newport pack that looks most like the brand that you smoke. If the pack you smoke is not shown, select 'other \n",
       "27 Please select the pack that looks most like the brand that you smoke. If the pack you smoke is not shown, select 'other brand of\n",
       "28 During the past 12 months, have you stopped smoking for one day or longer because you were trying to quit smoking?              \n",
       "29 During the past 12 months, how many times {have you/has SP} stopped smoking cigarettes because {you were/he was/she was} trying \n",
       "30 The last time {you/SP} tried to quit, how long {were you/was he/was she} able to stop smoking?                                  \n",
       "31 The last time {you/SP} tried to quit, how long {were you/was he/was she} able to stop smoking?                                  \n",
       "32 {Have you/Has SP} ever smoked a regular cigar, cigarillo or little filtered cigar even one time? This hand card shows examples o\n",
       "33 During the past 30 days, on how many days did {you/SP} smoke a regular cigar, cigarillo or little filtered cigar?               \n",
       "34 The next question is about e-cigarettes. These are battery-powered devices that usually contain liquid nicotine, and don't produ\n",
       "35 During the past 30 days, on how many days did {you/SP} use e-cigarettes?                                                        \n",
       "36 Smokeless tobacco products are placed in the mouth and nose and include chewing tobacco, snuff, dip, snus (pronounced as \"snoose\n",
       "37 During the past 30 days, on how many days did {you/SP} use smokeless tobacco?                                                   "
      ]
     },
     "metadata": {},
     "output_type": "display_data"
    }
   ],
   "source": [
    "nhanesTableVars('Q', 'SMQ_J')"
   ]
  },
  {
   "cell_type": "code",
   "execution_count": 90,
   "id": "374a5680",
   "metadata": {
    "slideshow": {
     "slide_type": "slide"
    }
   },
   "outputs": [
    {
     "name": "stderr",
     "output_type": "stream",
     "text": [
      "Warning message:\n",
      "“\u001b[1m\u001b[22mRemoved 5661 rows containing non-finite values (`stat_count()`).”\n"
     ]
    },
    {
     "data": {
      "text/plain": [
       ".\n",
       "  0   1   2   3   4   5   6   7   8   9  10  12  14  15  16  17  19  20  22  23 \n",
       " 38  12  12  16  12  17   3   6   6   3  35   4   6  42   1   2   1  51   3   1 \n",
       " 24  25  26  27  28  29  30  99 \n",
       "  1  18   1   4  10   4 751   3 "
      ]
     },
     "metadata": {},
     "output_type": "display_data"
    },
    {
     "data": {
      "image/png": "[encoded data removed]",
      "text/plain": [
       "plot without title"
      ]
     },
     "metadata": {
      "image/png": {
       "height": 300,
       "width": 600
      }
     },
     "output_type": "display_data"
    }
   ],
   "source": [
    "smq_df %>% ggplot + geom_bar(aes(x=SMD641))\n",
    "\n",
    "smq_df$SMD641 %>% table"
   ]
  },
  {
   "cell_type": "markdown",
   "id": "d5a767fd",
   "metadata": {
    "slideshow": {
     "slide_type": "notes"
    }
   },
   "source": [
    "(There is a weird outlier here at x=99. What does it represent?)"
   ]
  },
  {
   "cell_type": "code",
   "execution_count": 80,
   "id": "fe5e765f",
   "metadata": {
    "slideshow": {
     "slide_type": "slide"
    }
   },
   "outputs": [
    {
     "data": {
      "text/html": [
       "<dl>\n",
       "\t<dt>$`Variable Name:`</dt>\n",
       "\t\t<dd>'SMD641'</dd>\n",
       "\t<dt>$`SAS Label:`</dt>\n",
       "\t\t<dd>'# days smoked cigs during past 30 days'</dd>\n",
       "\t<dt>$`English Text:`</dt>\n",
       "\t\t<dd>'On how many of the past 30 days did {you/SP} smoke a cigarette?'</dd>\n",
       "\t<dt>$`English Instructions:`</dt>\n",
       "\t\t<dd>'ENTER NUMBER (OF DAYS)'</dd>\n",
       "\t<dt>$`Target:`</dt>\n",
       "\t\t<dd>'Both males and females 12 YEARS -\\r 150 YEARS'</dd>\n",
       "\t<dt>$`Hard Edits:`</dt>\n",
       "\t\t<dd>'0 to 30'</dd>\n",
       "\t<dt>$SMD641</dt>\n",
       "\t\t<dd><table class=\"dataframe\">\n",
       "<caption>A tibble: 4 × 5</caption>\n",
       "<thead>\n",
       "\t<tr><th scope=col>Code or Value</th><th scope=col>Value Description</th><th scope=col>Count</th><th scope=col>Cumulative</th><th scope=col>Skip to Item</th></tr>\n",
       "\t<tr><th scope=col>&lt;chr&gt;</th><th scope=col>&lt;chr&gt;</th><th scope=col>&lt;int&gt;</th><th scope=col>&lt;int&gt;</th><th scope=col>&lt;lgl&gt;</th></tr>\n",
       "</thead>\n",
       "<tbody>\n",
       "\t<tr><td>0 to 30</td><td>Range of Values</td><td>1060</td><td>1060</td><td>NA</td></tr>\n",
       "\t<tr><td>77     </td><td>Refused        </td><td>   0</td><td>1060</td><td>NA</td></tr>\n",
       "\t<tr><td>99     </td><td>Don't know     </td><td>   3</td><td>1063</td><td>NA</td></tr>\n",
       "\t<tr><td>.      </td><td>Missing        </td><td>5661</td><td>6724</td><td>NA</td></tr>\n",
       "</tbody>\n",
       "</table>\n",
       "</dd>\n",
       "</dl>\n"
      ],
      "text/latex": [
       "\\begin{description}\n",
       "\\item[\\$`Variable Name:`] 'SMD641'\n",
       "\\item[\\$`SAS Label:`] '\\# days smoked cigs during past 30 days'\n",
       "\\item[\\$`English Text:`] 'On how many of the past 30 days did \\{you/SP\\} smoke a cigarette?'\n",
       "\\item[\\$`English Instructions:`] 'ENTER NUMBER (OF DAYS)'\n",
       "\\item[\\$`Target:`] 'Both males and females 12 YEARS -\\textbackslash{}r 150 YEARS'\n",
       "\\item[\\$`Hard Edits:`] '0 to 30'\n",
       "\\item[\\$SMD641] A tibble: 4 × 5\n",
       "\\begin{tabular}{lllll}\n",
       " Code or Value & Value Description & Count & Cumulative & Skip to Item\\\\\n",
       " <chr> & <chr> & <int> & <int> & <lgl>\\\\\n",
       "\\hline\n",
       "\t 0 to 30 & Range of Values & 1060 & 1060 & NA\\\\\n",
       "\t 77      & Refused         &    0 & 1060 & NA\\\\\n",
       "\t 99      & Don't know      &    3 & 1063 & NA\\\\\n",
       "\t .       & Missing         & 5661 & 6724 & NA\\\\\n",
       "\\end{tabular}\n",
       "\n",
       "\\end{description}\n"
      ],
      "text/markdown": [
       "$`Variable Name:`\n",
       ":   'SMD641'\n",
       "$`SAS Label:`\n",
       ":   '# days smoked cigs during past 30 days'\n",
       "$`English Text:`\n",
       ":   'On how many of the past 30 days did {you/SP} smoke a cigarette?'\n",
       "$`English Instructions:`\n",
       ":   'ENTER NUMBER (OF DAYS)'\n",
       "$`Target:`\n",
       ":   'Both males and females 12 YEARS -\\r 150 YEARS'\n",
       "$`Hard Edits:`\n",
       ":   '0 to 30'\n",
       "$SMD641\n",
       ":   \n",
       "A tibble: 4 × 5\n",
       "\n",
       "| Code or Value &lt;chr&gt; | Value Description &lt;chr&gt; | Count &lt;int&gt; | Cumulative &lt;int&gt; | Skip to Item &lt;lgl&gt; |\n",
       "|---|---|---|---|---|\n",
       "| 0 to 30 | Range of Values | 1060 | 1060 | NA |\n",
       "| 77      | Refused         |    0 | 1060 | NA |\n",
       "| 99      | Don't know      |    3 | 1063 | NA |\n",
       "| .       | Missing         | 5661 | 6724 | NA |\n",
       "\n",
       "\n",
       "\n",
       "\n"
      ],
      "text/plain": [
       "$`Variable Name:`\n",
       "[1] \"SMD641\"\n",
       "\n",
       "$`SAS Label:`\n",
       "[1] \"# days smoked cigs during past 30 days\"\n",
       "\n",
       "$`English Text:`\n",
       "[1] \"On how many of the past 30 days did {you/SP} smoke a cigarette?\"\n",
       "\n",
       "$`English Instructions:`\n",
       "[1] \"ENTER NUMBER (OF DAYS)\"\n",
       "\n",
       "$`Target:`\n",
       "[1] \"Both males and females 12 YEARS -\\r 150 YEARS\"\n",
       "\n",
       "$`Hard Edits:`\n",
       "[1] \"0 to 30\"\n",
       "\n",
       "$SMD641\n",
       "\u001b[90m# A tibble: 4 × 5\u001b[39m\n",
       "  `Code or Value` `Value Description` Count Cumulative `Skip to Item`\n",
       "  \u001b[3m\u001b[90m<chr>\u001b[39m\u001b[23m           \u001b[3m\u001b[90m<chr>\u001b[39m\u001b[23m               \u001b[3m\u001b[90m<int>\u001b[39m\u001b[23m      \u001b[3m\u001b[90m<int>\u001b[39m\u001b[23m \u001b[3m\u001b[90m<lgl>\u001b[39m\u001b[23m         \n",
       "\u001b[90m1\u001b[39m 0 to 30         Range of Values      \u001b[4m1\u001b[24m060       \u001b[4m1\u001b[24m060 \u001b[31mNA\u001b[39m            \n",
       "\u001b[90m2\u001b[39m 77              Refused                 0       \u001b[4m1\u001b[24m060 \u001b[31mNA\u001b[39m            \n",
       "\u001b[90m3\u001b[39m 99              Don't know              3       \u001b[4m1\u001b[24m063 \u001b[31mNA\u001b[39m            \n",
       "\u001b[90m4\u001b[39m .               Missing              \u001b[4m5\u001b[24m661       \u001b[4m6\u001b[24m724 \u001b[31mNA\u001b[39m            \n"
      ]
     },
     "metadata": {},
     "output_type": "display_data"
    }
   ],
   "source": [
    "nhanesCodebook('SMQ_J', 'SMD641')"
   ]
  },
  {
   "cell_type": "code",
   "execution_count": 22,
   "id": "057b4d31",
   "metadata": {
    "slideshow": {
     "slide_type": "slide"
    }
   },
   "outputs": [
    {
     "data": {
      "text/html": [
       "<dl>\n",
       "\t<dt>$`Variable Name:`</dt>\n",
       "\t\t<dd>'SMQ020'</dd>\n",
       "\t<dt>$`SAS Label:`</dt>\n",
       "\t\t<dd>'Smoked at least 100 cigarettes in life'</dd>\n",
       "\t<dt>$`English Text:`</dt>\n",
       "\t\t<dd>'These next questions are about cigarette smoking and other tobacco use. {Have you/Has SP} smoked at least 100 cigarettes in {your/his/her} entire life?'</dd>\n",
       "\t<dt>$`Target:`</dt>\n",
       "\t\t<dd>'Both males and females 18 YEARS -\\r 150 YEARS'</dd>\n",
       "\t<dt>$SMQ020</dt>\n",
       "\t\t<dd><table class=\"dataframe\">\n",
       "<caption>A tibble: 5 × 5</caption>\n",
       "<thead>\n",
       "\t<tr><th scope=col>Code or Value</th><th scope=col>Value Description</th><th scope=col>Count</th><th scope=col>Cumulative</th><th scope=col>Skip to Item</th></tr>\n",
       "\t<tr><th scope=col>&lt;chr&gt;</th><th scope=col>&lt;chr&gt;</th><th scope=col>&lt;int&gt;</th><th scope=col>&lt;int&gt;</th><th scope=col>&lt;chr&gt;</th></tr>\n",
       "</thead>\n",
       "<tbody>\n",
       "\t<tr><td>1</td><td>Yes       </td><td>2359</td><td>2359</td><td>      </td></tr>\n",
       "\t<tr><td>2</td><td>No        </td><td>3497</td><td>5856</td><td>SMQ890</td></tr>\n",
       "\t<tr><td>7</td><td>Refused   </td><td>   0</td><td>5856</td><td>SMQ890</td></tr>\n",
       "\t<tr><td>9</td><td>Don't know</td><td>   0</td><td>5856</td><td>SMQ890</td></tr>\n",
       "\t<tr><td>.</td><td>Missing   </td><td> 868</td><td>6724</td><td>      </td></tr>\n",
       "</tbody>\n",
       "</table>\n",
       "</dd>\n",
       "</dl>\n"
      ],
      "text/latex": [
       "\\begin{description}\n",
       "\\item[\\$`Variable Name:`] 'SMQ020'\n",
       "\\item[\\$`SAS Label:`] 'Smoked at least 100 cigarettes in life'\n",
       "\\item[\\$`English Text:`] 'These next questions are about cigarette smoking and other tobacco use. \\{Have you/Has SP\\} smoked at least 100 cigarettes in \\{your/his/her\\} entire life?'\n",
       "\\item[\\$`Target:`] 'Both males and females 18 YEARS -\\textbackslash{}r 150 YEARS'\n",
       "\\item[\\$SMQ020] A tibble: 5 × 5\n",
       "\\begin{tabular}{lllll}\n",
       " Code or Value & Value Description & Count & Cumulative & Skip to Item\\\\\n",
       " <chr> & <chr> & <int> & <int> & <chr>\\\\\n",
       "\\hline\n",
       "\t 1 & Yes        & 2359 & 2359 &       \\\\\n",
       "\t 2 & No         & 3497 & 5856 & SMQ890\\\\\n",
       "\t 7 & Refused    &    0 & 5856 & SMQ890\\\\\n",
       "\t 9 & Don't know &    0 & 5856 & SMQ890\\\\\n",
       "\t . & Missing    &  868 & 6724 &       \\\\\n",
       "\\end{tabular}\n",
       "\n",
       "\\end{description}\n"
      ],
      "text/markdown": [
       "$`Variable Name:`\n",
       ":   'SMQ020'\n",
       "$`SAS Label:`\n",
       ":   'Smoked at least 100 cigarettes in life'\n",
       "$`English Text:`\n",
       ":   'These next questions are about cigarette smoking and other tobacco use. {Have you/Has SP} smoked at least 100 cigarettes in {your/his/her} entire life?'\n",
       "$`Target:`\n",
       ":   'Both males and females 18 YEARS -\\r 150 YEARS'\n",
       "$SMQ020\n",
       ":   \n",
       "A tibble: 5 × 5\n",
       "\n",
       "| Code or Value &lt;chr&gt; | Value Description &lt;chr&gt; | Count &lt;int&gt; | Cumulative &lt;int&gt; | Skip to Item &lt;chr&gt; |\n",
       "|---|---|---|---|---|\n",
       "| 1 | Yes        | 2359 | 2359 | <!----> |\n",
       "| 2 | No         | 3497 | 5856 | SMQ890 |\n",
       "| 7 | Refused    |    0 | 5856 | SMQ890 |\n",
       "| 9 | Don't know |    0 | 5856 | SMQ890 |\n",
       "| . | Missing    |  868 | 6724 | <!----> |\n",
       "\n",
       "\n",
       "\n",
       "\n"
      ],
      "text/plain": [
       "$`Variable Name:`\n",
       "[1] \"SMQ020\"\n",
       "\n",
       "$`SAS Label:`\n",
       "[1] \"Smoked at least 100 cigarettes in life\"\n",
       "\n",
       "$`English Text:`\n",
       "[1] \"These next questions are about cigarette smoking and other tobacco use. {Have you/Has SP} smoked at least 100 cigarettes in {your/his/her} entire life?\"\n",
       "\n",
       "$`Target:`\n",
       "[1] \"Both males and females 18 YEARS -\\r 150 YEARS\"\n",
       "\n",
       "$SMQ020\n",
       "\u001b[90m# A tibble: 5 × 5\u001b[39m\n",
       "  `Code or Value` `Value Description` Count Cumulative `Skip to Item`\n",
       "  \u001b[3m\u001b[90m<chr>\u001b[39m\u001b[23m           \u001b[3m\u001b[90m<chr>\u001b[39m\u001b[23m               \u001b[3m\u001b[90m<int>\u001b[39m\u001b[23m      \u001b[3m\u001b[90m<int>\u001b[39m\u001b[23m \u001b[3m\u001b[90m<chr>\u001b[39m\u001b[23m         \n",
       "\u001b[90m1\u001b[39m 1               Yes                  \u001b[4m2\u001b[24m359       \u001b[4m2\u001b[24m359 \u001b[90m\"\u001b[39m\u001b[90m\"\u001b[39m            \n",
       "\u001b[90m2\u001b[39m 2               No                   \u001b[4m3\u001b[24m497       \u001b[4m5\u001b[24m856 \u001b[90m\"\u001b[39mSMQ890\u001b[90m\"\u001b[39m      \n",
       "\u001b[90m3\u001b[39m 7               Refused                 0       \u001b[4m5\u001b[24m856 \u001b[90m\"\u001b[39mSMQ890\u001b[90m\"\u001b[39m      \n",
       "\u001b[90m4\u001b[39m 9               Don't know              0       \u001b[4m5\u001b[24m856 \u001b[90m\"\u001b[39mSMQ890\u001b[90m\"\u001b[39m      \n",
       "\u001b[90m5\u001b[39m .               Missing               868       \u001b[4m6\u001b[24m724 \u001b[90m\"\u001b[39m\u001b[90m\"\u001b[39m            \n"
      ]
     },
     "metadata": {},
     "output_type": "display_data"
    },
    {
     "data": {
      "text/plain": [
       ".\n",
       " Yes   No \n",
       "2359 3497 "
      ]
     },
     "metadata": {},
     "output_type": "display_data"
    }
   ],
   "source": [
    "nhanesCodebook('SMQ_J', 'SMQ020')\n",
    "smq_df %>% pluck(\"SMQ020\") %>% table"
   ]
  },
  {
   "cell_type": "code",
   "execution_count": 93,
   "id": "67da494b",
   "metadata": {
    "slideshow": {
     "slide_type": "slide"
    }
   },
   "outputs": [
    {
     "data": {
      "text/html": [
       "<table class=\"dataframe\">\n",
       "<caption>A data.frame: 6724 × 2</caption>\n",
       "<thead>\n",
       "\t<tr><th scope=col>SMQ020</th><th scope=col>smoking_score</th></tr>\n",
       "\t<tr><th scope=col>&lt;fct&gt;</th><th scope=col>&lt;dbl&gt;</th></tr>\n",
       "</thead>\n",
       "<tbody>\n",
       "\t<tr><td>Yes</td><td>100</td></tr>\n",
       "\t<tr><td>No </td><td>  0</td></tr>\n",
       "\t<tr><td>NA </td><td> NA</td></tr>\n",
       "\t<tr><td>No </td><td>  0</td></tr>\n",
       "\t<tr><td>Yes</td><td>100</td></tr>\n",
       "\t<tr><td>No </td><td>  0</td></tr>\n",
       "\t<tr><td>Yes</td><td>100</td></tr>\n",
       "\t<tr><td>Yes</td><td>100</td></tr>\n",
       "\t<tr><td>Yes</td><td>100</td></tr>\n",
       "\t<tr><td>Yes</td><td>100</td></tr>\n",
       "\t<tr><td>Yes</td><td>100</td></tr>\n",
       "\t<tr><td>Yes</td><td>100</td></tr>\n",
       "\t<tr><td>No </td><td>  0</td></tr>\n",
       "\t<tr><td>NA </td><td> NA</td></tr>\n",
       "\t<tr><td>No </td><td>  0</td></tr>\n",
       "\t<tr><td>No </td><td>  0</td></tr>\n",
       "\t<tr><td>No </td><td>  0</td></tr>\n",
       "\t<tr><td>Yes</td><td>100</td></tr>\n",
       "\t<tr><td>Yes</td><td>100</td></tr>\n",
       "\t<tr><td>No </td><td>  0</td></tr>\n",
       "\t<tr><td>Yes</td><td>100</td></tr>\n",
       "\t<tr><td>No </td><td>  0</td></tr>\n",
       "\t<tr><td>No </td><td>  0</td></tr>\n",
       "\t<tr><td>Yes</td><td>100</td></tr>\n",
       "\t<tr><td>No </td><td>  0</td></tr>\n",
       "\t<tr><td>Yes</td><td>100</td></tr>\n",
       "\t<tr><td>Yes</td><td>100</td></tr>\n",
       "\t<tr><td>Yes</td><td>100</td></tr>\n",
       "\t<tr><td>Yes</td><td>100</td></tr>\n",
       "\t<tr><td>No </td><td>  0</td></tr>\n",
       "\t<tr><td>⋮</td><td>⋮</td></tr>\n",
       "\t<tr><td>No </td><td>  0</td></tr>\n",
       "\t<tr><td>NA </td><td> NA</td></tr>\n",
       "\t<tr><td>Yes</td><td>100</td></tr>\n",
       "\t<tr><td>No </td><td>  0</td></tr>\n",
       "\t<tr><td>Yes</td><td>100</td></tr>\n",
       "\t<tr><td>Yes</td><td>100</td></tr>\n",
       "\t<tr><td>Yes</td><td>100</td></tr>\n",
       "\t<tr><td>Yes</td><td>100</td></tr>\n",
       "\t<tr><td>Yes</td><td>100</td></tr>\n",
       "\t<tr><td>Yes</td><td>100</td></tr>\n",
       "\t<tr><td>NA </td><td> NA</td></tr>\n",
       "\t<tr><td>No </td><td>  0</td></tr>\n",
       "\t<tr><td>No </td><td>  0</td></tr>\n",
       "\t<tr><td>Yes</td><td>100</td></tr>\n",
       "\t<tr><td>No </td><td>  0</td></tr>\n",
       "\t<tr><td>No </td><td>  0</td></tr>\n",
       "\t<tr><td>NA </td><td> NA</td></tr>\n",
       "\t<tr><td>No </td><td>  0</td></tr>\n",
       "\t<tr><td>No </td><td>  0</td></tr>\n",
       "\t<tr><td>NA </td><td> NA</td></tr>\n",
       "\t<tr><td>No </td><td>  0</td></tr>\n",
       "\t<tr><td>Yes</td><td>100</td></tr>\n",
       "\t<tr><td>Yes</td><td>100</td></tr>\n",
       "\t<tr><td>Yes</td><td>100</td></tr>\n",
       "\t<tr><td>Yes</td><td>100</td></tr>\n",
       "\t<tr><td>No </td><td>  0</td></tr>\n",
       "\t<tr><td>Yes</td><td>100</td></tr>\n",
       "\t<tr><td>No </td><td>  0</td></tr>\n",
       "\t<tr><td>NA </td><td> NA</td></tr>\n",
       "\t<tr><td>Yes</td><td>100</td></tr>\n",
       "</tbody>\n",
       "</table>\n"
      ],
      "text/latex": [
       "A data.frame: 6724 × 2\n",
       "\\begin{tabular}{ll}\n",
       " SMQ020 & smoking\\_score\\\\\n",
       " <fct> & <dbl>\\\\\n",
       "\\hline\n",
       "\t Yes & 100\\\\\n",
       "\t No  &   0\\\\\n",
       "\t NA  &  NA\\\\\n",
       "\t No  &   0\\\\\n",
       "\t Yes & 100\\\\\n",
       "\t No  &   0\\\\\n",
       "\t Yes & 100\\\\\n",
       "\t Yes & 100\\\\\n",
       "\t Yes & 100\\\\\n",
       "\t Yes & 100\\\\\n",
       "\t Yes & 100\\\\\n",
       "\t Yes & 100\\\\\n",
       "\t No  &   0\\\\\n",
       "\t NA  &  NA\\\\\n",
       "\t No  &   0\\\\\n",
       "\t No  &   0\\\\\n",
       "\t No  &   0\\\\\n",
       "\t Yes & 100\\\\\n",
       "\t Yes & 100\\\\\n",
       "\t No  &   0\\\\\n",
       "\t Yes & 100\\\\\n",
       "\t No  &   0\\\\\n",
       "\t No  &   0\\\\\n",
       "\t Yes & 100\\\\\n",
       "\t No  &   0\\\\\n",
       "\t Yes & 100\\\\\n",
       "\t Yes & 100\\\\\n",
       "\t Yes & 100\\\\\n",
       "\t Yes & 100\\\\\n",
       "\t No  &   0\\\\\n",
       "\t ⋮ & ⋮\\\\\n",
       "\t No  &   0\\\\\n",
       "\t NA  &  NA\\\\\n",
       "\t Yes & 100\\\\\n",
       "\t No  &   0\\\\\n",
       "\t Yes & 100\\\\\n",
       "\t Yes & 100\\\\\n",
       "\t Yes & 100\\\\\n",
       "\t Yes & 100\\\\\n",
       "\t Yes & 100\\\\\n",
       "\t Yes & 100\\\\\n",
       "\t NA  &  NA\\\\\n",
       "\t No  &   0\\\\\n",
       "\t No  &   0\\\\\n",
       "\t Yes & 100\\\\\n",
       "\t No  &   0\\\\\n",
       "\t No  &   0\\\\\n",
       "\t NA  &  NA\\\\\n",
       "\t No  &   0\\\\\n",
       "\t No  &   0\\\\\n",
       "\t NA  &  NA\\\\\n",
       "\t No  &   0\\\\\n",
       "\t Yes & 100\\\\\n",
       "\t Yes & 100\\\\\n",
       "\t Yes & 100\\\\\n",
       "\t Yes & 100\\\\\n",
       "\t No  &   0\\\\\n",
       "\t Yes & 100\\\\\n",
       "\t No  &   0\\\\\n",
       "\t NA  &  NA\\\\\n",
       "\t Yes & 100\\\\\n",
       "\\end{tabular}\n"
      ],
      "text/markdown": [
       "\n",
       "A data.frame: 6724 × 2\n",
       "\n",
       "| SMQ020 &lt;fct&gt; | smoking_score &lt;dbl&gt; |\n",
       "|---|---|\n",
       "| Yes | 100 |\n",
       "| No  |   0 |\n",
       "| NA  |  NA |\n",
       "| No  |   0 |\n",
       "| Yes | 100 |\n",
       "| No  |   0 |\n",
       "| Yes | 100 |\n",
       "| Yes | 100 |\n",
       "| Yes | 100 |\n",
       "| Yes | 100 |\n",
       "| Yes | 100 |\n",
       "| Yes | 100 |\n",
       "| No  |   0 |\n",
       "| NA  |  NA |\n",
       "| No  |   0 |\n",
       "| No  |   0 |\n",
       "| No  |   0 |\n",
       "| Yes | 100 |\n",
       "| Yes | 100 |\n",
       "| No  |   0 |\n",
       "| Yes | 100 |\n",
       "| No  |   0 |\n",
       "| No  |   0 |\n",
       "| Yes | 100 |\n",
       "| No  |   0 |\n",
       "| Yes | 100 |\n",
       "| Yes | 100 |\n",
       "| Yes | 100 |\n",
       "| Yes | 100 |\n",
       "| No  |   0 |\n",
       "| ⋮ | ⋮ |\n",
       "| No  |   0 |\n",
       "| NA  |  NA |\n",
       "| Yes | 100 |\n",
       "| No  |   0 |\n",
       "| Yes | 100 |\n",
       "| Yes | 100 |\n",
       "| Yes | 100 |\n",
       "| Yes | 100 |\n",
       "| Yes | 100 |\n",
       "| Yes | 100 |\n",
       "| NA  |  NA |\n",
       "| No  |   0 |\n",
       "| No  |   0 |\n",
       "| Yes | 100 |\n",
       "| No  |   0 |\n",
       "| No  |   0 |\n",
       "| NA  |  NA |\n",
       "| No  |   0 |\n",
       "| No  |   0 |\n",
       "| NA  |  NA |\n",
       "| No  |   0 |\n",
       "| Yes | 100 |\n",
       "| Yes | 100 |\n",
       "| Yes | 100 |\n",
       "| Yes | 100 |\n",
       "| No  |   0 |\n",
       "| Yes | 100 |\n",
       "| No  |   0 |\n",
       "| NA  |  NA |\n",
       "| Yes | 100 |\n",
       "\n"
      ],
      "text/plain": [
       "     SMQ020 smoking_score\n",
       "1    Yes    100          \n",
       "2    No       0          \n",
       "3    NA      NA          \n",
       "4    No       0          \n",
       "5    Yes    100          \n",
       "6    No       0          \n",
       "7    Yes    100          \n",
       "8    Yes    100          \n",
       "9    Yes    100          \n",
       "10   Yes    100          \n",
       "11   Yes    100          \n",
       "12   Yes    100          \n",
       "13   No       0          \n",
       "14   NA      NA          \n",
       "15   No       0          \n",
       "16   No       0          \n",
       "17   No       0          \n",
       "18   Yes    100          \n",
       "19   Yes    100          \n",
       "20   No       0          \n",
       "21   Yes    100          \n",
       "22   No       0          \n",
       "23   No       0          \n",
       "24   Yes    100          \n",
       "25   No       0          \n",
       "26   Yes    100          \n",
       "27   Yes    100          \n",
       "28   Yes    100          \n",
       "29   Yes    100          \n",
       "30   No       0          \n",
       "⋮    ⋮      ⋮            \n",
       "6695 No       0          \n",
       "6696 NA      NA          \n",
       "6697 Yes    100          \n",
       "6698 No       0          \n",
       "6699 Yes    100          \n",
       "6700 Yes    100          \n",
       "6701 Yes    100          \n",
       "6702 Yes    100          \n",
       "6703 Yes    100          \n",
       "6704 Yes    100          \n",
       "6705 NA      NA          \n",
       "6706 No       0          \n",
       "6707 No       0          \n",
       "6708 Yes    100          \n",
       "6709 No       0          \n",
       "6710 No       0          \n",
       "6711 NA      NA          \n",
       "6712 No       0          \n",
       "6713 No       0          \n",
       "6714 NA      NA          \n",
       "6715 No       0          \n",
       "6716 Yes    100          \n",
       "6717 Yes    100          \n",
       "6718 Yes    100          \n",
       "6719 Yes    100          \n",
       "6720 No       0          \n",
       "6721 Yes    100          \n",
       "6722 No       0          \n",
       "6723 NA      NA          \n",
       "6724 Yes    100          "
      ]
     },
     "metadata": {},
     "output_type": "display_data"
    }
   ],
   "source": [
    "smq_df <- mutate(smq_df, smoking_score = ifelse(SMQ020 == \"Yes\", 100, 0))\n",
    "\n",
    "smq_df %>% select(SMQ020, smoking_score)"
   ]
  },
  {
   "cell_type": "markdown",
   "id": "d81dadbc",
   "metadata": {
    "slideshow": {
     "slide_type": "slide"
    }
   },
   "source": [
    "### Physical activity"
   ]
  },
  {
   "cell_type": "code",
   "execution_count": 24,
   "id": "bba07d7c",
   "metadata": {
    "scrolled": true
   },
   "outputs": [
    {
     "data": {
      "text/html": [
       "<table class=\"dataframe\">\n",
       "<caption>A data.frame: 17 × 2</caption>\n",
       "<thead>\n",
       "\t<tr><th></th><th scope=col>Variable.Name</th><th scope=col>Variable.Description</th></tr>\n",
       "\t<tr><th></th><th scope=col>&lt;chr&gt;</th><th scope=col>&lt;chr&gt;</th></tr>\n",
       "</thead>\n",
       "<tbody>\n",
       "\t<tr><th scope=row>1</th><td>PAD615</td><td>How much time {do you/does SP} spend doing vigorous-intensity activities at work on a typical day?                              </td></tr>\n",
       "\t<tr><th scope=row>2</th><td>PAD630</td><td>How much time {do you/does SP} spend doing moderate-intensity activities at work on a typical day?                              </td></tr>\n",
       "\t<tr><th scope=row>3</th><td>PAD645</td><td>How much time {do you/does SP} spend walking or bicycling for travel on a typical day?                                          </td></tr>\n",
       "\t<tr><th scope=row>4</th><td>PAD660</td><td>How much time {do you/does SP} spend doing vigorous-intensity sports, fitness or recreational activities on a typical day?      </td></tr>\n",
       "\t<tr><th scope=row>5</th><td>PAD675</td><td>How much time {do you/does SP} spend doing moderate-intensity sports, fitness or recreational activities on a typical day?      </td></tr>\n",
       "\t<tr><th scope=row>6</th><td>PAD680</td><td>The following question is about sitting at school, at home, getting to and from places, or with friends including time spent sit</td></tr>\n",
       "\t<tr><th scope=row>7</th><td>PAQ605</td><td>Next I am going to ask you about the time {you spend/SP spends} doing different types of physical activity in a typical week. Th</td></tr>\n",
       "\t<tr><th scope=row>8</th><td>PAQ610</td><td>In a typical week, on how many days {do you/does SP} do vigorous-intensity activities as part of {your/his/her} work?           </td></tr>\n",
       "\t<tr><th scope=row>9</th><td>PAQ620</td><td>Does {your/SP's} work involve moderate-intensity activity that causes small increases in breathing or heart rate such as brisk w</td></tr>\n",
       "\t<tr><th scope=row>10</th><td>PAQ625</td><td>In a typical week, on how many days {do you/does SP} do moderate-intensity activities as part of {your/his/her} work?           </td></tr>\n",
       "\t<tr><th scope=row>11</th><td>PAQ635</td><td>The next questions exclude the physical activity at work that you have already mentioned.  Now I would like to ask you about the</td></tr>\n",
       "\t<tr><th scope=row>12</th><td>PAQ640</td><td>In a typical week, on how many days {do you/does SP} walk or bicycle for at least 10 minutes continuously to get to and from pla</td></tr>\n",
       "\t<tr><th scope=row>13</th><td>PAQ650</td><td>The next questions exclude the work and transport activities that you have already mentioned.  Now I would like to ask you about</td></tr>\n",
       "\t<tr><th scope=row>14</th><td>PAQ655</td><td>In a typical week, on how many days {do you/does SP} do vigorous-intensity sports, fitness or recreational activities?          </td></tr>\n",
       "\t<tr><th scope=row>15</th><td>PAQ665</td><td>In a typical week {do you/does SP} do any moderate-intensity sports, fitness, or recreational activities that cause a small incr</td></tr>\n",
       "\t<tr><th scope=row>16</th><td>PAQ670</td><td>In a typical week, on how many days {do you/does SP} do moderate-intensity sports, fitness or recreational activities?          </td></tr>\n",
       "\t<tr><th scope=row>17</th><td>SEQN  </td><td>Respondent sequence number.                                                                                                     </td></tr>\n",
       "</tbody>\n",
       "</table>\n"
      ],
      "text/latex": [
       "A data.frame: 17 × 2\n",
       "\\begin{tabular}{r|ll}\n",
       "  & Variable.Name & Variable.Description\\\\\n",
       "  & <chr> & <chr>\\\\\n",
       "\\hline\n",
       "\t1 & PAD615 & How much time \\{do you/does SP\\} spend doing vigorous-intensity activities at work on a typical day?                              \\\\\n",
       "\t2 & PAD630 & How much time \\{do you/does SP\\} spend doing moderate-intensity activities at work on a typical day?                              \\\\\n",
       "\t3 & PAD645 & How much time \\{do you/does SP\\} spend walking or bicycling for travel on a typical day?                                          \\\\\n",
       "\t4 & PAD660 & How much time \\{do you/does SP\\} spend doing vigorous-intensity sports, fitness or recreational activities on a typical day?      \\\\\n",
       "\t5 & PAD675 & How much time \\{do you/does SP\\} spend doing moderate-intensity sports, fitness or recreational activities on a typical day?      \\\\\n",
       "\t6 & PAD680 & The following question is about sitting at school, at home, getting to and from places, or with friends including time spent sit\\\\\n",
       "\t7 & PAQ605 & Next I am going to ask you about the time \\{you spend/SP spends\\} doing different types of physical activity in a typical week. Th\\\\\n",
       "\t8 & PAQ610 & In a typical week, on how many days \\{do you/does SP\\} do vigorous-intensity activities as part of \\{your/his/her\\} work?           \\\\\n",
       "\t9 & PAQ620 & Does \\{your/SP's\\} work involve moderate-intensity activity that causes small increases in breathing or heart rate such as brisk w\\\\\n",
       "\t10 & PAQ625 & In a typical week, on how many days \\{do you/does SP\\} do moderate-intensity activities as part of \\{your/his/her\\} work?           \\\\\n",
       "\t11 & PAQ635 & The next questions exclude the physical activity at work that you have already mentioned.  Now I would like to ask you about the\\\\\n",
       "\t12 & PAQ640 & In a typical week, on how many days \\{do you/does SP\\} walk or bicycle for at least 10 minutes continuously to get to and from pla\\\\\n",
       "\t13 & PAQ650 & The next questions exclude the work and transport activities that you have already mentioned.  Now I would like to ask you about\\\\\n",
       "\t14 & PAQ655 & In a typical week, on how many days \\{do you/does SP\\} do vigorous-intensity sports, fitness or recreational activities?          \\\\\n",
       "\t15 & PAQ665 & In a typical week \\{do you/does SP\\} do any moderate-intensity sports, fitness, or recreational activities that cause a small incr\\\\\n",
       "\t16 & PAQ670 & In a typical week, on how many days \\{do you/does SP\\} do moderate-intensity sports, fitness or recreational activities?          \\\\\n",
       "\t17 & SEQN   & Respondent sequence number.                                                                                                     \\\\\n",
       "\\end{tabular}\n"
      ],
      "text/markdown": [
       "\n",
       "A data.frame: 17 × 2\n",
       "\n",
       "| <!--/--> | Variable.Name &lt;chr&gt; | Variable.Description &lt;chr&gt; |\n",
       "|---|---|---|\n",
       "| 1 | PAD615 | How much time {do you/does SP} spend doing vigorous-intensity activities at work on a typical day?                               |\n",
       "| 2 | PAD630 | How much time {do you/does SP} spend doing moderate-intensity activities at work on a typical day?                               |\n",
       "| 3 | PAD645 | How much time {do you/does SP} spend walking or bicycling for travel on a typical day?                                           |\n",
       "| 4 | PAD660 | How much time {do you/does SP} spend doing vigorous-intensity sports, fitness or recreational activities on a typical day?       |\n",
       "| 5 | PAD675 | How much time {do you/does SP} spend doing moderate-intensity sports, fitness or recreational activities on a typical day?       |\n",
       "| 6 | PAD680 | The following question is about sitting at school, at home, getting to and from places, or with friends including time spent sit |\n",
       "| 7 | PAQ605 | Next I am going to ask you about the time {you spend/SP spends} doing different types of physical activity in a typical week. Th |\n",
       "| 8 | PAQ610 | In a typical week, on how many days {do you/does SP} do vigorous-intensity activities as part of {your/his/her} work?            |\n",
       "| 9 | PAQ620 | Does {your/SP's} work involve moderate-intensity activity that causes small increases in breathing or heart rate such as brisk w |\n",
       "| 10 | PAQ625 | In a typical week, on how many days {do you/does SP} do moderate-intensity activities as part of {your/his/her} work?            |\n",
       "| 11 | PAQ635 | The next questions exclude the physical activity at work that you have already mentioned.  Now I would like to ask you about the |\n",
       "| 12 | PAQ640 | In a typical week, on how many days {do you/does SP} walk or bicycle for at least 10 minutes continuously to get to and from pla |\n",
       "| 13 | PAQ650 | The next questions exclude the work and transport activities that you have already mentioned.  Now I would like to ask you about |\n",
       "| 14 | PAQ655 | In a typical week, on how many days {do you/does SP} do vigorous-intensity sports, fitness or recreational activities?           |\n",
       "| 15 | PAQ665 | In a typical week {do you/does SP} do any moderate-intensity sports, fitness, or recreational activities that cause a small incr |\n",
       "| 16 | PAQ670 | In a typical week, on how many days {do you/does SP} do moderate-intensity sports, fitness or recreational activities?           |\n",
       "| 17 | SEQN   | Respondent sequence number.                                                                                                      |\n",
       "\n"
      ],
      "text/plain": [
       "   Variable.Name\n",
       "1  PAD615       \n",
       "2  PAD630       \n",
       "3  PAD645       \n",
       "4  PAD660       \n",
       "5  PAD675       \n",
       "6  PAD680       \n",
       "7  PAQ605       \n",
       "8  PAQ610       \n",
       "9  PAQ620       \n",
       "10 PAQ625       \n",
       "11 PAQ635       \n",
       "12 PAQ640       \n",
       "13 PAQ650       \n",
       "14 PAQ655       \n",
       "15 PAQ665       \n",
       "16 PAQ670       \n",
       "17 SEQN         \n",
       "   Variable.Description                                                                                                            \n",
       "1  How much time {do you/does SP} spend doing vigorous-intensity activities at work on a typical day?                              \n",
       "2  How much time {do you/does SP} spend doing moderate-intensity activities at work on a typical day?                              \n",
       "3  How much time {do you/does SP} spend walking or bicycling for travel on a typical day?                                          \n",
       "4  How much time {do you/does SP} spend doing vigorous-intensity sports, fitness or recreational activities on a typical day?      \n",
       "5  How much time {do you/does SP} spend doing moderate-intensity sports, fitness or recreational activities on a typical day?      \n",
       "6  The following question is about sitting at school, at home, getting to and from places, or with friends including time spent sit\n",
       "7  Next I am going to ask you about the time {you spend/SP spends} doing different types of physical activity in a typical week. Th\n",
       "8  In a typical week, on how many days {do you/does SP} do vigorous-intensity activities as part of {your/his/her} work?           \n",
       "9  Does {your/SP's} work involve moderate-intensity activity that causes small increases in breathing or heart rate such as brisk w\n",
       "10 In a typical week, on how many days {do you/does SP} do moderate-intensity activities as part of {your/his/her} work?           \n",
       "11 The next questions exclude the physical activity at work that you have already mentioned.  Now I would like to ask you about the\n",
       "12 In a typical week, on how many days {do you/does SP} walk or bicycle for at least 10 minutes continuously to get to and from pla\n",
       "13 The next questions exclude the work and transport activities that you have already mentioned.  Now I would like to ask you about\n",
       "14 In a typical week, on how many days {do you/does SP} do vigorous-intensity sports, fitness or recreational activities?          \n",
       "15 In a typical week {do you/does SP} do any moderate-intensity sports, fitness, or recreational activities that cause a small incr\n",
       "16 In a typical week, on how many days {do you/does SP} do moderate-intensity sports, fitness or recreational activities?          \n",
       "17 Respondent sequence number.                                                                                                     "
      ]
     },
     "metadata": {},
     "output_type": "display_data"
    }
   ],
   "source": [
    "paq_df <- nhanes('PAQ_J')\n",
    "nhanesTableVars('Q', 'PAQ_J')"
   ]
  },
  {
   "cell_type": "code",
   "execution_count": 25,
   "id": "0b9b06a3",
   "metadata": {
    "slideshow": {
     "slide_type": "slide"
    }
   },
   "outputs": [
    {
     "data": {
      "text/html": [
       "<dl>\n",
       "\t<dt>$`Variable Name:`</dt>\n",
       "\t\t<dd>'PAD680'</dd>\n",
       "\t<dt>$`SAS Label:`</dt>\n",
       "\t\t<dd>'Minutes sedentary activity'</dd>\n",
       "\t<dt>$`English Text:`</dt>\n",
       "\t\t<dd>'The following question is about sitting at school, at home, getting to and from places, or with friends including time spent sitting at a desk, traveling in a car or bus, reading, playing cards, watching television, or using a computer. Do not include time spent sleeping. How much time {do you/does SP} usually spend sitting on a typical day?'</dd>\n",
       "\t<dt>$`English Instructions:`</dt>\n",
       "\t\t<dd>'SOFT EDIT: 18 HOURS OR MORE. ERROR MESSAGE: PLEASE VERIFY TIMES OF 18 HOURS OR MORE. HARD EDIT: 24 HOURS OR MORE. ERROR MESSAGE: THE TIME SHOULD BE LESS THAN 24 HOURS. ENTER NUMBER OF MINUTES OR HOURS'</dd>\n",
       "\t<dt>$`Target:`</dt>\n",
       "\t\t<dd>'Both males and females 18 YEARS -\\r 150 YEARS'</dd>\n",
       "\t<dt>$PAD680</dt>\n",
       "\t\t<dd><table class=\"dataframe\">\n",
       "<caption>A tibble: 4 × 5</caption>\n",
       "<thead>\n",
       "\t<tr><th scope=col>Code or Value</th><th scope=col>Value Description</th><th scope=col>Count</th><th scope=col>Cumulative</th><th scope=col>Skip to Item</th></tr>\n",
       "\t<tr><th scope=col>&lt;chr&gt;</th><th scope=col>&lt;chr&gt;</th><th scope=col>&lt;int&gt;</th><th scope=col>&lt;int&gt;</th><th scope=col>&lt;lgl&gt;</th></tr>\n",
       "</thead>\n",
       "<tbody>\n",
       "\t<tr><td>0 to 1320</td><td>Range of Values</td><td>5811</td><td>5811</td><td>NA</td></tr>\n",
       "\t<tr><td>7777     </td><td>Refused        </td><td>   0</td><td>5811</td><td>NA</td></tr>\n",
       "\t<tr><td>9999     </td><td>Don't know     </td><td>  35</td><td>5846</td><td>NA</td></tr>\n",
       "\t<tr><td>.        </td><td>Missing        </td><td>  10</td><td>5856</td><td>NA</td></tr>\n",
       "</tbody>\n",
       "</table>\n",
       "</dd>\n",
       "</dl>\n"
      ],
      "text/latex": [
       "\\begin{description}\n",
       "\\item[\\$`Variable Name:`] 'PAD680'\n",
       "\\item[\\$`SAS Label:`] 'Minutes sedentary activity'\n",
       "\\item[\\$`English Text:`] 'The following question is about sitting at school, at home, getting to and from places, or with friends including time spent sitting at a desk, traveling in a car or bus, reading, playing cards, watching television, or using a computer. Do not include time spent sleeping. How much time \\{do you/does SP\\} usually spend sitting on a typical day?'\n",
       "\\item[\\$`English Instructions:`] 'SOFT EDIT: 18 HOURS OR MORE. ERROR MESSAGE: PLEASE VERIFY TIMES OF 18 HOURS OR MORE. HARD EDIT: 24 HOURS OR MORE. ERROR MESSAGE: THE TIME SHOULD BE LESS THAN 24 HOURS. ENTER NUMBER OF MINUTES OR HOURS'\n",
       "\\item[\\$`Target:`] 'Both males and females 18 YEARS -\\textbackslash{}r 150 YEARS'\n",
       "\\item[\\$PAD680] A tibble: 4 × 5\n",
       "\\begin{tabular}{lllll}\n",
       " Code or Value & Value Description & Count & Cumulative & Skip to Item\\\\\n",
       " <chr> & <chr> & <int> & <int> & <lgl>\\\\\n",
       "\\hline\n",
       "\t 0 to 1320 & Range of Values & 5811 & 5811 & NA\\\\\n",
       "\t 7777      & Refused         &    0 & 5811 & NA\\\\\n",
       "\t 9999      & Don't know      &   35 & 5846 & NA\\\\\n",
       "\t .         & Missing         &   10 & 5856 & NA\\\\\n",
       "\\end{tabular}\n",
       "\n",
       "\\end{description}\n"
      ],
      "text/markdown": [
       "$`Variable Name:`\n",
       ":   'PAD680'\n",
       "$`SAS Label:`\n",
       ":   'Minutes sedentary activity'\n",
       "$`English Text:`\n",
       ":   'The following question is about sitting at school, at home, getting to and from places, or with friends including time spent sitting at a desk, traveling in a car or bus, reading, playing cards, watching television, or using a computer. Do not include time spent sleeping. How much time {do you/does SP} usually spend sitting on a typical day?'\n",
       "$`English Instructions:`\n",
       ":   'SOFT EDIT: 18 HOURS OR MORE. ERROR MESSAGE: PLEASE VERIFY TIMES OF 18 HOURS OR MORE. HARD EDIT: 24 HOURS OR MORE. ERROR MESSAGE: THE TIME SHOULD BE LESS THAN 24 HOURS. ENTER NUMBER OF MINUTES OR HOURS'\n",
       "$`Target:`\n",
       ":   'Both males and females 18 YEARS -\\r 150 YEARS'\n",
       "$PAD680\n",
       ":   \n",
       "A tibble: 4 × 5\n",
       "\n",
       "| Code or Value &lt;chr&gt; | Value Description &lt;chr&gt; | Count &lt;int&gt; | Cumulative &lt;int&gt; | Skip to Item &lt;lgl&gt; |\n",
       "|---|---|---|---|---|\n",
       "| 0 to 1320 | Range of Values | 5811 | 5811 | NA |\n",
       "| 7777      | Refused         |    0 | 5811 | NA |\n",
       "| 9999      | Don't know      |   35 | 5846 | NA |\n",
       "| .         | Missing         |   10 | 5856 | NA |\n",
       "\n",
       "\n",
       "\n",
       "\n"
      ],
      "text/plain": [
       "$`Variable Name:`\n",
       "[1] \"PAD680\"\n",
       "\n",
       "$`SAS Label:`\n",
       "[1] \"Minutes sedentary activity\"\n",
       "\n",
       "$`English Text:`\n",
       "[1] \"The following question is about sitting at school, at home, getting to and from places, or with friends including time spent sitting at a desk, traveling in a car or bus, reading, playing cards, watching television, or using a computer. Do not include time spent sleeping. How much time {do you/does SP} usually spend sitting on a typical day?\"\n",
       "\n",
       "$`English Instructions:`\n",
       "[1] \"SOFT EDIT: 18 HOURS OR MORE. ERROR MESSAGE: PLEASE VERIFY TIMES OF 18 HOURS OR MORE. HARD EDIT: 24 HOURS OR MORE. ERROR MESSAGE: THE TIME SHOULD BE LESS THAN 24 HOURS. ENTER NUMBER OF MINUTES OR HOURS\"\n",
       "\n",
       "$`Target:`\n",
       "[1] \"Both males and females 18 YEARS -\\r 150 YEARS\"\n",
       "\n",
       "$PAD680\n",
       "\u001b[90m# A tibble: 4 × 5\u001b[39m\n",
       "  `Code or Value` `Value Description` Count Cumulative `Skip to Item`\n",
       "  \u001b[3m\u001b[90m<chr>\u001b[39m\u001b[23m           \u001b[3m\u001b[90m<chr>\u001b[39m\u001b[23m               \u001b[3m\u001b[90m<int>\u001b[39m\u001b[23m      \u001b[3m\u001b[90m<int>\u001b[39m\u001b[23m \u001b[3m\u001b[90m<lgl>\u001b[39m\u001b[23m         \n",
       "\u001b[90m1\u001b[39m 0 to 1320       Range of Values      \u001b[4m5\u001b[24m811       \u001b[4m5\u001b[24m811 \u001b[31mNA\u001b[39m            \n",
       "\u001b[90m2\u001b[39m 7777            Refused                 0       \u001b[4m5\u001b[24m811 \u001b[31mNA\u001b[39m            \n",
       "\u001b[90m3\u001b[39m 9999            Don't know             35       \u001b[4m5\u001b[24m846 \u001b[31mNA\u001b[39m            \n",
       "\u001b[90m4\u001b[39m .               Missing                10       \u001b[4m5\u001b[24m856 \u001b[31mNA\u001b[39m            \n"
      ]
     },
     "metadata": {},
     "output_type": "display_data"
    }
   ],
   "source": [
    "nhanesCodebook('PAQ_J', 'PAD680')"
   ]
  },
  {
   "cell_type": "code",
   "execution_count": 26,
   "id": "8b17517e",
   "metadata": {
    "slideshow": {
     "slide_type": "slide"
    }
   },
   "outputs": [],
   "source": [
    "paq_df <- paq_df %>% filter(PAD680 < 1400) %>% mutate(activity_score = ntile(PAD680, 100))"
   ]
  },
  {
   "attachments": {
    "image.png": {
     "image/png": "[encoded data removed]"
    }
   },
   "cell_type": "markdown",
   "id": "8851a4f6",
   "metadata": {
    "slideshow": {
     "slide_type": "slide"
    }
   },
   "source": [
    "## Diet\n",
    "- In my research this one was the most complicated to define.\n",
    "- Several studies ([example](https://www.ncbi.nlm.nih.gov/pmc/articles/PMC7284419/#:~:text=The%20DASH%20score%20is%20divided,were%20reported%20per%201000%20kcal.)) use the DASH scoring system. \n",
    "- It was hard to figure out what the DASH equation actually is.\n",
    "\n",
    "![image.png](attachment:image.png)"
   ]
  },
  {
   "cell_type": "code",
   "execution_count": 27,
   "id": "812b1f83",
   "metadata": {
    "scrolled": true,
    "slideshow": {
     "slide_type": "slide"
    }
   },
   "outputs": [
    {
     "data": {
      "text/html": [
       "<table class=\"dataframe\">\n",
       "<caption>A data.frame: 168 × 2</caption>\n",
       "<thead>\n",
       "\t<tr><th></th><th scope=col>Variable.Name</th><th scope=col>Variable.Description</th></tr>\n",
       "\t<tr><th></th><th scope=col>&lt;chr&gt;</th><th scope=col>&lt;chr&gt;</th></tr>\n",
       "</thead>\n",
       "<tbody>\n",
       "\t<tr><th scope=row>1</th><td>DBD100  </td><td>How often {do you/does SP} add this salt to {your/his/her/SP's} food at the table?  Would you say . . .                         </td></tr>\n",
       "\t<tr><th scope=row>2</th><td>DBQ095Z </td><td>What type of salt {do you/does SP} usually add to {your/his/her/SP's} food at the table?  Would you say . . .                   </td></tr>\n",
       "\t<tr><th scope=row>3</th><td>DR1_300 </td><td>Was the amount of food that {you/NAME} ate yesterday much more than usual, usual, or much less than usual?                      </td></tr>\n",
       "\t<tr><th scope=row>4</th><td>DR1_320Z</td><td>Total plain water drank yesterday - including plain tap water, water from a drinking fountain, water from a water cooler, bottle</td></tr>\n",
       "\t<tr><th scope=row>5</th><td>DR1_330Z</td><td>Total tap water drank yesterday - including filtered tap water and water from a drinking fountain.                              </td></tr>\n",
       "\t<tr><th scope=row>6</th><td>DR1BWATZ</td><td>Total bottled water drank yesterday (gm)                                                                                        </td></tr>\n",
       "\t<tr><th scope=row>7</th><td>DR1DAY  </td><td>Intake day of the week                                                                                                          </td></tr>\n",
       "\t<tr><th scope=row>8</th><td>DR1DBIH </td><td>Number of days between intake day and the day of family questionnaire administered in the household.                            </td></tr>\n",
       "\t<tr><th scope=row>9</th><td>DR1DRSTZ</td><td>Dietary recall status                                                                                                           </td></tr>\n",
       "\t<tr><th scope=row>10</th><td>DR1EXMER</td><td>Interviewer ID code                                                                                                             </td></tr>\n",
       "\t<tr><th scope=row>11</th><td>DR1HELP </td><td>Who helped in responding for this interview                                                                                     </td></tr>\n",
       "\t<tr><th scope=row>12</th><td>DR1LANG </td><td>The respondent spoke mostly:                                                                                                    </td></tr>\n",
       "\t<tr><th scope=row>13</th><td>DR1MRESP</td><td>Who was the main respondent for this interview?                                                                                 </td></tr>\n",
       "\t<tr><th scope=row>14</th><td>DR1SKY  </td><td>What type of salt was it? (Was it ordinary or sea salt, lite salt, or a salt substitute?)                                       </td></tr>\n",
       "\t<tr><th scope=row>15</th><td>DR1STY  </td><td>Did {you/SP} add any salt to {your/her/his} food at the table yesterday? Salt includes ordinary or sea salt, lite salt, or a sal</td></tr>\n",
       "\t<tr><th scope=row>16</th><td>DR1TACAR</td><td>Alpha-carotene (mcg)                                                                                                            </td></tr>\n",
       "\t<tr><th scope=row>17</th><td>DR1TALCO</td><td>Alcohol (gm)                                                                                                                    </td></tr>\n",
       "\t<tr><th scope=row>18</th><td>DR1TATOA</td><td>Added alpha-tocopherol (Vitamin E) (mg)                                                                                         </td></tr>\n",
       "\t<tr><th scope=row>19</th><td>DR1TATOC</td><td>Vitamin E as alpha-tocopherol (mg)                                                                                              </td></tr>\n",
       "\t<tr><th scope=row>20</th><td>DR1TB12A</td><td>Added vitamin B12 (mcg)                                                                                                         </td></tr>\n",
       "\t<tr><th scope=row>21</th><td>DR1TBCAR</td><td>Beta-carotene (mcg)                                                                                                             </td></tr>\n",
       "\t<tr><th scope=row>22</th><td>DR1TCAFF</td><td>Caffeine (mg)                                                                                                                   </td></tr>\n",
       "\t<tr><th scope=row>23</th><td>DR1TCALC</td><td>Calcium (mg)                                                                                                                    </td></tr>\n",
       "\t<tr><th scope=row>24</th><td>DR1TCARB</td><td>Carbohydrate (gm)                                                                                                               </td></tr>\n",
       "\t<tr><th scope=row>25</th><td>DR1TCHL </td><td>Total choline (mg)                                                                                                              </td></tr>\n",
       "\t<tr><th scope=row>26</th><td>DR1TCHOL</td><td>Cholesterol (mg)                                                                                                                </td></tr>\n",
       "\t<tr><th scope=row>27</th><td>DR1TCOPP</td><td>Copper (mg)                                                                                                                     </td></tr>\n",
       "\t<tr><th scope=row>28</th><td>DR1TCRYP</td><td>Beta-cryptoxanthin (mcg)                                                                                                        </td></tr>\n",
       "\t<tr><th scope=row>29</th><td>DR1TFA  </td><td>Folic acid (mcg)                                                                                                                </td></tr>\n",
       "\t<tr><th scope=row>30</th><td>DR1TFDFE</td><td>Folate as dietary folate equivalents (mcg)                                                                                      </td></tr>\n",
       "\t<tr><th scope=row>⋮</th><td>⋮</td><td>⋮</td></tr>\n",
       "\t<tr><th scope=row>139</th><td>DRD370Q </td><td>Swordfish eaten during past 30 days                                                                                             </td></tr>\n",
       "\t<tr><th scope=row>140</th><td>DRD370QQ</td><td>Number of times swordfish was eaten in the past 30 days                                                                         </td></tr>\n",
       "\t<tr><th scope=row>141</th><td>DRD370R </td><td>Trout eaten during past 30 days                                                                                                 </td></tr>\n",
       "\t<tr><th scope=row>142</th><td>DRD370RQ</td><td>Number of times trout was eaten in the past 30 days                                                                             </td></tr>\n",
       "\t<tr><th scope=row>143</th><td>DRD370S </td><td>Walleye eaten during the past 30 days                                                                                           </td></tr>\n",
       "\t<tr><th scope=row>144</th><td>DRD370SQ</td><td>Number of times walleye was eaten in the past 30 days                                                                           </td></tr>\n",
       "\t<tr><th scope=row>145</th><td>DRD370T </td><td>Other type of fish eaten during past 30 days                                                                                    </td></tr>\n",
       "\t<tr><th scope=row>146</th><td>DRD370TQ</td><td>Number of times other type of fish was eaten in the past 30 days                                                                </td></tr>\n",
       "\t<tr><th scope=row>147</th><td>DRD370U </td><td>Other unknown type eaten during past 30 days                                                                                    </td></tr>\n",
       "\t<tr><th scope=row>148</th><td>DRD370UQ</td><td>Number of times other unknown type of fish was eaten in the past 30 days                                                        </td></tr>\n",
       "\t<tr><th scope=row>149</th><td>DRD370V </td><td>Refused to give detailed information on fish eaten during past 30 days                                                          </td></tr>\n",
       "\t<tr><th scope=row>150</th><td>DRDINT  </td><td>Indicates whether the sample person has intake data for one or two days.                                                        </td></tr>\n",
       "\t<tr><th scope=row>151</th><td>DRQSDIET</td><td>Are you currently on any kind of diet, either to lose weight or for some other health-related reason?                           </td></tr>\n",
       "\t<tr><th scope=row>152</th><td>DRQSDT1 </td><td>What kind of diet are you on? (Is it a weight loss or low calorie diet: low fat or cholesterol diet; low salt or sodium diet; su</td></tr>\n",
       "\t<tr><th scope=row>153</th><td>DRQSDT10</td><td>What kind of diet are you on? (Is it a weight loss or low calorie diet: low fat or cholesterol diet; low salt or sodium diet; su</td></tr>\n",
       "\t<tr><th scope=row>154</th><td>DRQSDT11</td><td>What kind of diet are you on? (Is it a weight loss or low calorie diet: low fat or cholesterol diet; low salt or sodium diet; su</td></tr>\n",
       "\t<tr><th scope=row>155</th><td>DRQSDT12</td><td>What kind of diet are you on? (Is it a weight loss or low calorie diet: low fat or cholesterol diet; low salt or sodium diet; su</td></tr>\n",
       "\t<tr><th scope=row>156</th><td>DRQSDT2 </td><td>What kind of diet are you on? (Is it a weight loss or low calorie diet: low fat or cholesterol diet; low salt or sodium diet; su</td></tr>\n",
       "\t<tr><th scope=row>157</th><td>DRQSDT3 </td><td>What kind of diet are you on? (Is it a weight loss or low calorie diet: low fat or cholesterol diet; low salt or sodium diet; su</td></tr>\n",
       "\t<tr><th scope=row>158</th><td>DRQSDT4 </td><td>What kind of diet are you on? (Is it a weight loss or low calorie diet: low fat or cholesterol diet; low salt or sodium diet; su</td></tr>\n",
       "\t<tr><th scope=row>159</th><td>DRQSDT5 </td><td>What kind of diet are you on? (Is it a weight loss or low calorie diet: low fat or cholesterol diet; low salt or sodium diet; su</td></tr>\n",
       "\t<tr><th scope=row>160</th><td>DRQSDT6 </td><td>What kind of diet are you on? (Is it a weight loss or low calorie diet: low fat or cholesterol diet; low salt or sodium diet; su</td></tr>\n",
       "\t<tr><th scope=row>161</th><td>DRQSDT7 </td><td>What kind of diet are you on? (Is it a weight loss or low calorie diet: low fat or cholesterol diet; low salt or sodium diet; su</td></tr>\n",
       "\t<tr><th scope=row>162</th><td>DRQSDT8 </td><td>What kind of diet are you on? (Is it a weight loss or low calorie diet: low fat or cholesterol diet; low salt or sodium diet; su</td></tr>\n",
       "\t<tr><th scope=row>163</th><td>DRQSDT9 </td><td>What kind of diet are you on? (Is it a weight loss or low calorie diet: low fat or cholesterol diet; low salt or sodium diet; su</td></tr>\n",
       "\t<tr><th scope=row>164</th><td>DRQSDT91</td><td>What kind of diet are you on? (Is it a weight loss or low calorie diet: low fat or cholesterol diet; low salt or sodium diet; su</td></tr>\n",
       "\t<tr><th scope=row>165</th><td>DRQSPREP</td><td>How often is ordinary salt or seasoned salt added in cooking or preparing foods in your household?  Is it never, rarely, occasio</td></tr>\n",
       "\t<tr><th scope=row>166</th><td>SEQN    </td><td>Respondent sequence number.                                                                                                     </td></tr>\n",
       "\t<tr><th scope=row>167</th><td>WTDR2D  </td><td>Dietary two-day sample weight                                                                                                   </td></tr>\n",
       "\t<tr><th scope=row>168</th><td>WTDRD1  </td><td>Dietary day one sample weight                                                                                                   </td></tr>\n",
       "</tbody>\n",
       "</table>\n"
      ],
      "text/latex": [
       "A data.frame: 168 × 2\n",
       "\\begin{tabular}{r|ll}\n",
       "  & Variable.Name & Variable.Description\\\\\n",
       "  & <chr> & <chr>\\\\\n",
       "\\hline\n",
       "\t1 & DBD100   & How often \\{do you/does SP\\} add this salt to \\{your/his/her/SP's\\} food at the table?  Would you say . . .                         \\\\\n",
       "\t2 & DBQ095Z  & What type of salt \\{do you/does SP\\} usually add to \\{your/his/her/SP's\\} food at the table?  Would you say . . .                   \\\\\n",
       "\t3 & DR1\\_300  & Was the amount of food that \\{you/NAME\\} ate yesterday much more than usual, usual, or much less than usual?                      \\\\\n",
       "\t4 & DR1\\_320Z & Total plain water drank yesterday - including plain tap water, water from a drinking fountain, water from a water cooler, bottle\\\\\n",
       "\t5 & DR1\\_330Z & Total tap water drank yesterday - including filtered tap water and water from a drinking fountain.                              \\\\\n",
       "\t6 & DR1BWATZ & Total bottled water drank yesterday (gm)                                                                                        \\\\\n",
       "\t7 & DR1DAY   & Intake day of the week                                                                                                          \\\\\n",
       "\t8 & DR1DBIH  & Number of days between intake day and the day of family questionnaire administered in the household.                            \\\\\n",
       "\t9 & DR1DRSTZ & Dietary recall status                                                                                                           \\\\\n",
       "\t10 & DR1EXMER & Interviewer ID code                                                                                                             \\\\\n",
       "\t11 & DR1HELP  & Who helped in responding for this interview                                                                                     \\\\\n",
       "\t12 & DR1LANG  & The respondent spoke mostly:                                                                                                    \\\\\n",
       "\t13 & DR1MRESP & Who was the main respondent for this interview?                                                                                 \\\\\n",
       "\t14 & DR1SKY   & What type of salt was it? (Was it ordinary or sea salt, lite salt, or a salt substitute?)                                       \\\\\n",
       "\t15 & DR1STY   & Did \\{you/SP\\} add any salt to \\{your/her/his\\} food at the table yesterday? Salt includes ordinary or sea salt, lite salt, or a sal\\\\\n",
       "\t16 & DR1TACAR & Alpha-carotene (mcg)                                                                                                            \\\\\n",
       "\t17 & DR1TALCO & Alcohol (gm)                                                                                                                    \\\\\n",
       "\t18 & DR1TATOA & Added alpha-tocopherol (Vitamin E) (mg)                                                                                         \\\\\n",
       "\t19 & DR1TATOC & Vitamin E as alpha-tocopherol (mg)                                                                                              \\\\\n",
       "\t20 & DR1TB12A & Added vitamin B12 (mcg)                                                                                                         \\\\\n",
       "\t21 & DR1TBCAR & Beta-carotene (mcg)                                                                                                             \\\\\n",
       "\t22 & DR1TCAFF & Caffeine (mg)                                                                                                                   \\\\\n",
       "\t23 & DR1TCALC & Calcium (mg)                                                                                                                    \\\\\n",
       "\t24 & DR1TCARB & Carbohydrate (gm)                                                                                                               \\\\\n",
       "\t25 & DR1TCHL  & Total choline (mg)                                                                                                              \\\\\n",
       "\t26 & DR1TCHOL & Cholesterol (mg)                                                                                                                \\\\\n",
       "\t27 & DR1TCOPP & Copper (mg)                                                                                                                     \\\\\n",
       "\t28 & DR1TCRYP & Beta-cryptoxanthin (mcg)                                                                                                        \\\\\n",
       "\t29 & DR1TFA   & Folic acid (mcg)                                                                                                                \\\\\n",
       "\t30 & DR1TFDFE & Folate as dietary folate equivalents (mcg)                                                                                      \\\\\n",
       "\t⋮ & ⋮ & ⋮\\\\\n",
       "\t139 & DRD370Q  & Swordfish eaten during past 30 days                                                                                             \\\\\n",
       "\t140 & DRD370QQ & Number of times swordfish was eaten in the past 30 days                                                                         \\\\\n",
       "\t141 & DRD370R  & Trout eaten during past 30 days                                                                                                 \\\\\n",
       "\t142 & DRD370RQ & Number of times trout was eaten in the past 30 days                                                                             \\\\\n",
       "\t143 & DRD370S  & Walleye eaten during the past 30 days                                                                                           \\\\\n",
       "\t144 & DRD370SQ & Number of times walleye was eaten in the past 30 days                                                                           \\\\\n",
       "\t145 & DRD370T  & Other type of fish eaten during past 30 days                                                                                    \\\\\n",
       "\t146 & DRD370TQ & Number of times other type of fish was eaten in the past 30 days                                                                \\\\\n",
       "\t147 & DRD370U  & Other unknown type eaten during past 30 days                                                                                    \\\\\n",
       "\t148 & DRD370UQ & Number of times other unknown type of fish was eaten in the past 30 days                                                        \\\\\n",
       "\t149 & DRD370V  & Refused to give detailed information on fish eaten during past 30 days                                                          \\\\\n",
       "\t150 & DRDINT   & Indicates whether the sample person has intake data for one or two days.                                                        \\\\\n",
       "\t151 & DRQSDIET & Are you currently on any kind of diet, either to lose weight or for some other health-related reason?                           \\\\\n",
       "\t152 & DRQSDT1  & What kind of diet are you on? (Is it a weight loss or low calorie diet: low fat or cholesterol diet; low salt or sodium diet; su\\\\\n",
       "\t153 & DRQSDT10 & What kind of diet are you on? (Is it a weight loss or low calorie diet: low fat or cholesterol diet; low salt or sodium diet; su\\\\\n",
       "\t154 & DRQSDT11 & What kind of diet are you on? (Is it a weight loss or low calorie diet: low fat or cholesterol diet; low salt or sodium diet; su\\\\\n",
       "\t155 & DRQSDT12 & What kind of diet are you on? (Is it a weight loss or low calorie diet: low fat or cholesterol diet; low salt or sodium diet; su\\\\\n",
       "\t156 & DRQSDT2  & What kind of diet are you on? (Is it a weight loss or low calorie diet: low fat or cholesterol diet; low salt or sodium diet; su\\\\\n",
       "\t157 & DRQSDT3  & What kind of diet are you on? (Is it a weight loss or low calorie diet: low fat or cholesterol diet; low salt or sodium diet; su\\\\\n",
       "\t158 & DRQSDT4  & What kind of diet are you on? (Is it a weight loss or low calorie diet: low fat or cholesterol diet; low salt or sodium diet; su\\\\\n",
       "\t159 & DRQSDT5  & What kind of diet are you on? (Is it a weight loss or low calorie diet: low fat or cholesterol diet; low salt or sodium diet; su\\\\\n",
       "\t160 & DRQSDT6  & What kind of diet are you on? (Is it a weight loss or low calorie diet: low fat or cholesterol diet; low salt or sodium diet; su\\\\\n",
       "\t161 & DRQSDT7  & What kind of diet are you on? (Is it a weight loss or low calorie diet: low fat or cholesterol diet; low salt or sodium diet; su\\\\\n",
       "\t162 & DRQSDT8  & What kind of diet are you on? (Is it a weight loss or low calorie diet: low fat or cholesterol diet; low salt or sodium diet; su\\\\\n",
       "\t163 & DRQSDT9  & What kind of diet are you on? (Is it a weight loss or low calorie diet: low fat or cholesterol diet; low salt or sodium diet; su\\\\\n",
       "\t164 & DRQSDT91 & What kind of diet are you on? (Is it a weight loss or low calorie diet: low fat or cholesterol diet; low salt or sodium diet; su\\\\\n",
       "\t165 & DRQSPREP & How often is ordinary salt or seasoned salt added in cooking or preparing foods in your household?  Is it never, rarely, occasio\\\\\n",
       "\t166 & SEQN     & Respondent sequence number.                                                                                                     \\\\\n",
       "\t167 & WTDR2D   & Dietary two-day sample weight                                                                                                   \\\\\n",
       "\t168 & WTDRD1   & Dietary day one sample weight                                                                                                   \\\\\n",
       "\\end{tabular}\n"
      ],
      "text/markdown": [
       "\n",
       "A data.frame: 168 × 2\n",
       "\n",
       "| <!--/--> | Variable.Name &lt;chr&gt; | Variable.Description &lt;chr&gt; |\n",
       "|---|---|---|\n",
       "| 1 | DBD100   | How often {do you/does SP} add this salt to {your/his/her/SP's} food at the table?  Would you say . . .                          |\n",
       "| 2 | DBQ095Z  | What type of salt {do you/does SP} usually add to {your/his/her/SP's} food at the table?  Would you say . . .                    |\n",
       "| 3 | DR1_300  | Was the amount of food that {you/NAME} ate yesterday much more than usual, usual, or much less than usual?                       |\n",
       "| 4 | DR1_320Z | Total plain water drank yesterday - including plain tap water, water from a drinking fountain, water from a water cooler, bottle |\n",
       "| 5 | DR1_330Z | Total tap water drank yesterday - including filtered tap water and water from a drinking fountain.                               |\n",
       "| 6 | DR1BWATZ | Total bottled water drank yesterday (gm)                                                                                         |\n",
       "| 7 | DR1DAY   | Intake day of the week                                                                                                           |\n",
       "| 8 | DR1DBIH  | Number of days between intake day and the day of family questionnaire administered in the household.                             |\n",
       "| 9 | DR1DRSTZ | Dietary recall status                                                                                                            |\n",
       "| 10 | DR1EXMER | Interviewer ID code                                                                                                              |\n",
       "| 11 | DR1HELP  | Who helped in responding for this interview                                                                                      |\n",
       "| 12 | DR1LANG  | The respondent spoke mostly:                                                                                                     |\n",
       "| 13 | DR1MRESP | Who was the main respondent for this interview?                                                                                  |\n",
       "| 14 | DR1SKY   | What type of salt was it? (Was it ordinary or sea salt, lite salt, or a salt substitute?)                                        |\n",
       "| 15 | DR1STY   | Did {you/SP} add any salt to {your/her/his} food at the table yesterday? Salt includes ordinary or sea salt, lite salt, or a sal |\n",
       "| 16 | DR1TACAR | Alpha-carotene (mcg)                                                                                                             |\n",
       "| 17 | DR1TALCO | Alcohol (gm)                                                                                                                     |\n",
       "| 18 | DR1TATOA | Added alpha-tocopherol (Vitamin E) (mg)                                                                                          |\n",
       "| 19 | DR1TATOC | Vitamin E as alpha-tocopherol (mg)                                                                                               |\n",
       "| 20 | DR1TB12A | Added vitamin B12 (mcg)                                                                                                          |\n",
       "| 21 | DR1TBCAR | Beta-carotene (mcg)                                                                                                              |\n",
       "| 22 | DR1TCAFF | Caffeine (mg)                                                                                                                    |\n",
       "| 23 | DR1TCALC | Calcium (mg)                                                                                                                     |\n",
       "| 24 | DR1TCARB | Carbohydrate (gm)                                                                                                                |\n",
       "| 25 | DR1TCHL  | Total choline (mg)                                                                                                               |\n",
       "| 26 | DR1TCHOL | Cholesterol (mg)                                                                                                                 |\n",
       "| 27 | DR1TCOPP | Copper (mg)                                                                                                                      |\n",
       "| 28 | DR1TCRYP | Beta-cryptoxanthin (mcg)                                                                                                         |\n",
       "| 29 | DR1TFA   | Folic acid (mcg)                                                                                                                 |\n",
       "| 30 | DR1TFDFE | Folate as dietary folate equivalents (mcg)                                                                                       |\n",
       "| ⋮ | ⋮ | ⋮ |\n",
       "| 139 | DRD370Q  | Swordfish eaten during past 30 days                                                                                              |\n",
       "| 140 | DRD370QQ | Number of times swordfish was eaten in the past 30 days                                                                          |\n",
       "| 141 | DRD370R  | Trout eaten during past 30 days                                                                                                  |\n",
       "| 142 | DRD370RQ | Number of times trout was eaten in the past 30 days                                                                              |\n",
       "| 143 | DRD370S  | Walleye eaten during the past 30 days                                                                                            |\n",
       "| 144 | DRD370SQ | Number of times walleye was eaten in the past 30 days                                                                            |\n",
       "| 145 | DRD370T  | Other type of fish eaten during past 30 days                                                                                     |\n",
       "| 146 | DRD370TQ | Number of times other type of fish was eaten in the past 30 days                                                                 |\n",
       "| 147 | DRD370U  | Other unknown type eaten during past 30 days                                                                                     |\n",
       "| 148 | DRD370UQ | Number of times other unknown type of fish was eaten in the past 30 days                                                         |\n",
       "| 149 | DRD370V  | Refused to give detailed information on fish eaten during past 30 days                                                           |\n",
       "| 150 | DRDINT   | Indicates whether the sample person has intake data for one or two days.                                                         |\n",
       "| 151 | DRQSDIET | Are you currently on any kind of diet, either to lose weight or for some other health-related reason?                            |\n",
       "| 152 | DRQSDT1  | What kind of diet are you on? (Is it a weight loss or low calorie diet: low fat or cholesterol diet; low salt or sodium diet; su |\n",
       "| 153 | DRQSDT10 | What kind of diet are you on? (Is it a weight loss or low calorie diet: low fat or cholesterol diet; low salt or sodium diet; su |\n",
       "| 154 | DRQSDT11 | What kind of diet are you on? (Is it a weight loss or low calorie diet: low fat or cholesterol diet; low salt or sodium diet; su |\n",
       "| 155 | DRQSDT12 | What kind of diet are you on? (Is it a weight loss or low calorie diet: low fat or cholesterol diet; low salt or sodium diet; su |\n",
       "| 156 | DRQSDT2  | What kind of diet are you on? (Is it a weight loss or low calorie diet: low fat or cholesterol diet; low salt or sodium diet; su |\n",
       "| 157 | DRQSDT3  | What kind of diet are you on? (Is it a weight loss or low calorie diet: low fat or cholesterol diet; low salt or sodium diet; su |\n",
       "| 158 | DRQSDT4  | What kind of diet are you on? (Is it a weight loss or low calorie diet: low fat or cholesterol diet; low salt or sodium diet; su |\n",
       "| 159 | DRQSDT5  | What kind of diet are you on? (Is it a weight loss or low calorie diet: low fat or cholesterol diet; low salt or sodium diet; su |\n",
       "| 160 | DRQSDT6  | What kind of diet are you on? (Is it a weight loss or low calorie diet: low fat or cholesterol diet; low salt or sodium diet; su |\n",
       "| 161 | DRQSDT7  | What kind of diet are you on? (Is it a weight loss or low calorie diet: low fat or cholesterol diet; low salt or sodium diet; su |\n",
       "| 162 | DRQSDT8  | What kind of diet are you on? (Is it a weight loss or low calorie diet: low fat or cholesterol diet; low salt or sodium diet; su |\n",
       "| 163 | DRQSDT9  | What kind of diet are you on? (Is it a weight loss or low calorie diet: low fat or cholesterol diet; low salt or sodium diet; su |\n",
       "| 164 | DRQSDT91 | What kind of diet are you on? (Is it a weight loss or low calorie diet: low fat or cholesterol diet; low salt or sodium diet; su |\n",
       "| 165 | DRQSPREP | How often is ordinary salt or seasoned salt added in cooking or preparing foods in your household?  Is it never, rarely, occasio |\n",
       "| 166 | SEQN     | Respondent sequence number.                                                                                                      |\n",
       "| 167 | WTDR2D   | Dietary two-day sample weight                                                                                                    |\n",
       "| 168 | WTDRD1   | Dietary day one sample weight                                                                                                    |\n",
       "\n"
      ],
      "text/plain": [
       "    Variable.Name\n",
       "1   DBD100       \n",
       "2   DBQ095Z      \n",
       "3   DR1_300      \n",
       "4   DR1_320Z     \n",
       "5   DR1_330Z     \n",
       "6   DR1BWATZ     \n",
       "7   DR1DAY       \n",
       "8   DR1DBIH      \n",
       "9   DR1DRSTZ     \n",
       "10  DR1EXMER     \n",
       "11  DR1HELP      \n",
       "12  DR1LANG      \n",
       "13  DR1MRESP     \n",
       "14  DR1SKY       \n",
       "15  DR1STY       \n",
       "16  DR1TACAR     \n",
       "17  DR1TALCO     \n",
       "18  DR1TATOA     \n",
       "19  DR1TATOC     \n",
       "20  DR1TB12A     \n",
       "21  DR1TBCAR     \n",
       "22  DR1TCAFF     \n",
       "23  DR1TCALC     \n",
       "24  DR1TCARB     \n",
       "25  DR1TCHL      \n",
       "26  DR1TCHOL     \n",
       "27  DR1TCOPP     \n",
       "28  DR1TCRYP     \n",
       "29  DR1TFA       \n",
       "30  DR1TFDFE     \n",
       "⋮   ⋮            \n",
       "139 DRD370Q      \n",
       "140 DRD370QQ     \n",
       "141 DRD370R      \n",
       "142 DRD370RQ     \n",
       "143 DRD370S      \n",
       "144 DRD370SQ     \n",
       "145 DRD370T      \n",
       "146 DRD370TQ     \n",
       "147 DRD370U      \n",
       "148 DRD370UQ     \n",
       "149 DRD370V      \n",
       "150 DRDINT       \n",
       "151 DRQSDIET     \n",
       "152 DRQSDT1      \n",
       "153 DRQSDT10     \n",
       "154 DRQSDT11     \n",
       "155 DRQSDT12     \n",
       "156 DRQSDT2      \n",
       "157 DRQSDT3      \n",
       "158 DRQSDT4      \n",
       "159 DRQSDT5      \n",
       "160 DRQSDT6      \n",
       "161 DRQSDT7      \n",
       "162 DRQSDT8      \n",
       "163 DRQSDT9      \n",
       "164 DRQSDT91     \n",
       "165 DRQSPREP     \n",
       "166 SEQN         \n",
       "167 WTDR2D       \n",
       "168 WTDRD1       \n",
       "    Variable.Description                                                                                                            \n",
       "1   How often {do you/does SP} add this salt to {your/his/her/SP's} food at the table?  Would you say . . .                         \n",
       "2   What type of salt {do you/does SP} usually add to {your/his/her/SP's} food at the table?  Would you say . . .                   \n",
       "3   Was the amount of food that {you/NAME} ate yesterday much more than usual, usual, or much less than usual?                      \n",
       "4   Total plain water drank yesterday - including plain tap water, water from a drinking fountain, water from a water cooler, bottle\n",
       "5   Total tap water drank yesterday - including filtered tap water and water from a drinking fountain.                              \n",
       "6   Total bottled water drank yesterday (gm)                                                                                        \n",
       "7   Intake day of the week                                                                                                          \n",
       "8   Number of days between intake day and the day of family questionnaire administered in the household.                            \n",
       "9   Dietary recall status                                                                                                           \n",
       "10  Interviewer ID code                                                                                                             \n",
       "11  Who helped in responding for this interview                                                                                     \n",
       "12  The respondent spoke mostly:                                                                                                    \n",
       "13  Who was the main respondent for this interview?                                                                                 \n",
       "14  What type of salt was it? (Was it ordinary or sea salt, lite salt, or a salt substitute?)                                       \n",
       "15  Did {you/SP} add any salt to {your/her/his} food at the table yesterday? Salt includes ordinary or sea salt, lite salt, or a sal\n",
       "16  Alpha-carotene (mcg)                                                                                                            \n",
       "17  Alcohol (gm)                                                                                                                    \n",
       "18  Added alpha-tocopherol (Vitamin E) (mg)                                                                                         \n",
       "19  Vitamin E as alpha-tocopherol (mg)                                                                                              \n",
       "20  Added vitamin B12 (mcg)                                                                                                         \n",
       "21  Beta-carotene (mcg)                                                                                                             \n",
       "22  Caffeine (mg)                                                                                                                   \n",
       "23  Calcium (mg)                                                                                                                    \n",
       "24  Carbohydrate (gm)                                                                                                               \n",
       "25  Total choline (mg)                                                                                                              \n",
       "26  Cholesterol (mg)                                                                                                                \n",
       "27  Copper (mg)                                                                                                                     \n",
       "28  Beta-cryptoxanthin (mcg)                                                                                                        \n",
       "29  Folic acid (mcg)                                                                                                                \n",
       "30  Folate as dietary folate equivalents (mcg)                                                                                      \n",
       "⋮   ⋮                                                                                                                               \n",
       "139 Swordfish eaten during past 30 days                                                                                             \n",
       "140 Number of times swordfish was eaten in the past 30 days                                                                         \n",
       "141 Trout eaten during past 30 days                                                                                                 \n",
       "142 Number of times trout was eaten in the past 30 days                                                                             \n",
       "143 Walleye eaten during the past 30 days                                                                                           \n",
       "144 Number of times walleye was eaten in the past 30 days                                                                           \n",
       "145 Other type of fish eaten during past 30 days                                                                                    \n",
       "146 Number of times other type of fish was eaten in the past 30 days                                                                \n",
       "147 Other unknown type eaten during past 30 days                                                                                    \n",
       "148 Number of times other unknown type of fish was eaten in the past 30 days                                                        \n",
       "149 Refused to give detailed information on fish eaten during past 30 days                                                          \n",
       "150 Indicates whether the sample person has intake data for one or two days.                                                        \n",
       "151 Are you currently on any kind of diet, either to lose weight or for some other health-related reason?                           \n",
       "152 What kind of diet are you on? (Is it a weight loss or low calorie diet: low fat or cholesterol diet; low salt or sodium diet; su\n",
       "153 What kind of diet are you on? (Is it a weight loss or low calorie diet: low fat or cholesterol diet; low salt or sodium diet; su\n",
       "154 What kind of diet are you on? (Is it a weight loss or low calorie diet: low fat or cholesterol diet; low salt or sodium diet; su\n",
       "155 What kind of diet are you on? (Is it a weight loss or low calorie diet: low fat or cholesterol diet; low salt or sodium diet; su\n",
       "156 What kind of diet are you on? (Is it a weight loss or low calorie diet: low fat or cholesterol diet; low salt or sodium diet; su\n",
       "157 What kind of diet are you on? (Is it a weight loss or low calorie diet: low fat or cholesterol diet; low salt or sodium diet; su\n",
       "158 What kind of diet are you on? (Is it a weight loss or low calorie diet: low fat or cholesterol diet; low salt or sodium diet; su\n",
       "159 What kind of diet are you on? (Is it a weight loss or low calorie diet: low fat or cholesterol diet; low salt or sodium diet; su\n",
       "160 What kind of diet are you on? (Is it a weight loss or low calorie diet: low fat or cholesterol diet; low salt or sodium diet; su\n",
       "161 What kind of diet are you on? (Is it a weight loss or low calorie diet: low fat or cholesterol diet; low salt or sodium diet; su\n",
       "162 What kind of diet are you on? (Is it a weight loss or low calorie diet: low fat or cholesterol diet; low salt or sodium diet; su\n",
       "163 What kind of diet are you on? (Is it a weight loss or low calorie diet: low fat or cholesterol diet; low salt or sodium diet; su\n",
       "164 What kind of diet are you on? (Is it a weight loss or low calorie diet: low fat or cholesterol diet; low salt or sodium diet; su\n",
       "165 How often is ordinary salt or seasoned salt added in cooking or preparing foods in your household?  Is it never, rarely, occasio\n",
       "166 Respondent sequence number.                                                                                                     \n",
       "167 Dietary two-day sample weight                                                                                                   \n",
       "168 Dietary day one sample weight                                                                                                   "
      ]
     },
     "metadata": {},
     "output_type": "display_data"
    }
   ],
   "source": [
    "diet_df <- nhanes('DR1TOT_J')\n",
    "nhanesTableVars('DIET', 'DR1TOT_J')"
   ]
  },
  {
   "cell_type": "code",
   "execution_count": 28,
   "id": "7b162429",
   "metadata": {
    "slideshow": {
     "slide_type": "slide"
    }
   },
   "outputs": [
    {
     "name": "stderr",
     "output_type": "stream",
     "text": [
      "\u001b[1m\u001b[22m`stat_bin()` using `bins = 30`. Pick better value with `binwidth`.\n",
      "Warning message:\n",
      "“\u001b[1m\u001b[22mRemoved 1220 rows containing non-finite values (`stat_bin()`).”\n"
     ]
    },
    {
     "data": {
      "image/png": "[encoded data removed]",
      "text/plain": [
       "plot without title"
      ]
     },
     "metadata": {
      "image/png": {
       "height": 300,
       "width": 600
      }
     },
     "output_type": "display_data"
    }
   ],
   "source": [
    "diet_df <- diet_df %>% mutate(\n",
    "    diet_score = (\n",
    "        ntile(DR1TSODI, 100) +\n",
    "        ntile(DR1TSFAT, 100) +\n",
    "        ntile(DR1TCHOL, 100) + \n",
    "        ntile(DR1TSUGR, 100)\n",
    "    ) / 4\n",
    ")\n",
    "\n",
    "ggplot(diet_df) + geom_histogram(aes(x = diet_score))"
   ]
  },
  {
   "cell_type": "markdown",
   "id": "bcb14d74",
   "metadata": {
    "slideshow": {
     "slide_type": "slide"
    }
   },
   "source": [
    "## Sleep"
   ]
  },
  {
   "cell_type": "code",
   "execution_count": 29,
   "id": "51ed3a4e",
   "metadata": {},
   "outputs": [
    {
     "data": {
      "text/html": [
       "<table class=\"dataframe\">\n",
       "<caption>A data.frame: 156 × 8</caption>\n",
       "<thead>\n",
       "\t<tr><th scope=col>Variable.Name</th><th scope=col>Variable.Description</th><th scope=col>Data.File.Name</th><th scope=col>Data.File.Description</th><th scope=col>Begin.Year</th><th scope=col>EndYear</th><th scope=col>Component</th><th scope=col>Use.Constraints</th></tr>\n",
       "\t<tr><th scope=col>&lt;chr&gt;</th><th scope=col>&lt;chr&gt;</th><th scope=col>&lt;chr&gt;</th><th scope=col>&lt;chr&gt;</th><th scope=col>&lt;chr&gt;</th><th scope=col>&lt;chr&gt;</th><th scope=col>&lt;chr&gt;</th><th scope=col>&lt;chr&gt;</th></tr>\n",
       "</thead>\n",
       "<tbody>\n",
       "\t<tr><td>ENQ010  </td><td>{Do you/Does SP} currently have a breathing problem that requires {you/him/her} to use supplemental oxygen during the day? [This</td><td>SPX_E   </td><td>Spirometry - Pre and Post-Bronchodilator                  </td><td>2007</td><td>2008</td><td>Examination  </td><td>None</td></tr>\n",
       "\t<tr><td>ENQ010  </td><td>{Do you/Does SP} currently have a breathing problem that requires {you/him/her} to use supplemental oxygen during the day? [This</td><td>SPX_F   </td><td>Spirometry - Pre and Post-Bronchodilator                  </td><td>2009</td><td>2010</td><td>Examination  </td><td>None</td></tr>\n",
       "\t<tr><td>ENQ010  </td><td>{Do you/Does SP} currently have a breathing problem that requires {you/him/her} to use supplemental oxygen during the day? [This</td><td>SPX_G   </td><td>Spirometry - Pre and Post-Bronchodilator                  </td><td>2011</td><td>2012</td><td>Examination  </td><td>None</td></tr>\n",
       "\t<tr><td>PAXAISMD</td><td>Day count: 80hz data in idle sleep mode                                                                                         </td><td>PAXDAY_G</td><td>Physical Activity Monitor - Day                           </td><td>2011</td><td>2012</td><td>Examination  </td><td>None</td></tr>\n",
       "\t<tr><td>PAXSWMD </td><td>Day sum: valid sleep wear minutes                                                                                               </td><td>PAXDAY_G</td><td>Physical Activity Monitor - Day                           </td><td>2011</td><td>2012</td><td>Examination  </td><td>None</td></tr>\n",
       "\t<tr><td>PAXAISMH</td><td>Hour count: 80hz data in idle sleep mode                                                                                        </td><td>PAXHR_G </td><td>Physical Activity Monitor - Hour                          </td><td>2011</td><td>2012</td><td>Examination  </td><td>None</td></tr>\n",
       "\t<tr><td>PAXSWMH </td><td>Hour sum: valid sleep wear minutes                                                                                              </td><td>PAXHR_G </td><td>Physical Activity Monitor - Hour                          </td><td>2011</td><td>2012</td><td>Examination  </td><td>None</td></tr>\n",
       "\t<tr><td>PAXAISMM</td><td>Minute count: 80hz data in idle sleep mode                                                                                      </td><td>PAXMIN_G</td><td>Physical Activity Monitor - Minute                        </td><td>2011</td><td>2012</td><td>Examination  </td><td>None</td></tr>\n",
       "\t<tr><td>PAXPREDM</td><td>Estimated wake/sleep/wear status during the minute                                                                              </td><td>PAXMIN_G</td><td>Physical Activity Monitor - Minute                        </td><td>2011</td><td>2012</td><td>Examination  </td><td>None</td></tr>\n",
       "\t<tr><td>PAXTRANM</td><td>Transition flag for wake/sleep/non-wear                                                                                         </td><td>PAXMIN_G</td><td>Physical Activity Monitor - Minute                        </td><td>2011</td><td>2012</td><td>Examination  </td><td>None</td></tr>\n",
       "\t<tr><td>PAXAISMD</td><td>Day count: 80hz data in idle sleep mode                                                                                         </td><td>PAXDAY_H</td><td>Physical Activity Monitor - Day                           </td><td>2013</td><td>2014</td><td>Examination  </td><td>None</td></tr>\n",
       "\t<tr><td>PAXSWMD </td><td>Day sum: valid sleep wear minutes                                                                                               </td><td>PAXDAY_H</td><td>Physical Activity Monitor - Day                           </td><td>2013</td><td>2014</td><td>Examination  </td><td>None</td></tr>\n",
       "\t<tr><td>PAXAISMH</td><td>Hour count: 80hz data in idle sleep mode                                                                                        </td><td>PAXHR_H </td><td>Physical Activity Monitor - Hour                          </td><td>2013</td><td>2014</td><td>Examination  </td><td>None</td></tr>\n",
       "\t<tr><td>PAXSWMH </td><td>Hour sum: valid sleep wear minutes                                                                                              </td><td>PAXHR_H </td><td>Physical Activity Monitor - Hour                          </td><td>2013</td><td>2014</td><td>Examination  </td><td>None</td></tr>\n",
       "\t<tr><td>PAXAISMM</td><td>Minute count: 80hz data in idle sleep mode                                                                                      </td><td>PAXMIN_H</td><td>Physical Activity Monitor - Minute                        </td><td>2013</td><td>2014</td><td>Examination  </td><td>None</td></tr>\n",
       "\t<tr><td>PAXPREDM</td><td>Estimated wake/sleep/wear status during the minute                                                                              </td><td>PAXMIN_H</td><td>Physical Activity Monitor - Minute                        </td><td>2013</td><td>2014</td><td>Examination  </td><td>None</td></tr>\n",
       "\t<tr><td>PAXTRANM</td><td>Transition flag for wake/sleep/non-wear                                                                                         </td><td>PAXMIN_H</td><td>Physical Activity Monitor - Minute                        </td><td>2013</td><td>2014</td><td>Examination  </td><td>None</td></tr>\n",
       "\t<tr><td>VTQ090  </td><td>During the time you used your exposure badge, about how many hours did you spend indoors at home? Include time spent sleeping.  </td><td>LAB21   </td><td>Volatile Organic Compounds (VOC) - Personal Exposure Badge</td><td>1999</td><td>2000</td><td>Laboratory   </td><td>None</td></tr>\n",
       "\t<tr><td>DPQ030  </td><td>[Over the last 2 weeks, how often have you been bothered by the following problems:] trouble falling or staying asleep, or sleep</td><td>DPQ_D   </td><td>Mental Health - Depression Screener                       </td><td>2005</td><td>2006</td><td>Questionnaire</td><td>None</td></tr>\n",
       "\t<tr><td>PAD680  </td><td>The following question is about sitting or reclining at work, at home, or at school.  Include time spent sitting at a desk, sitt</td><td>PAQ_E   </td><td>Physical Activity                                         </td><td>2007</td><td>2008</td><td>Questionnaire</td><td>None</td></tr>\n",
       "\t<tr><td>AUQ270  </td><td>{Are you/Is SP} bothered by ringing, roaring, or buzzing in {your/his/her} ears or head when going to sleep?                    </td><td>AUQ_E   </td><td>Audiometry                                                </td><td>2007</td><td>2008</td><td>Questionnaire</td><td>None</td></tr>\n",
       "\t<tr><td>RDQ090  </td><td>[In the past 12 months], how often, on average, has {your/SP's} sleep been disturbed because of wheezing?  Would you say this ha</td><td>RDQ_E   </td><td>Respiratory Health                                        </td><td>2007</td><td>2008</td><td>Questionnaire</td><td>None</td></tr>\n",
       "\t<tr><td>SLD010H </td><td>The next set of questions is about your sleeping habits.  How much sleep {do you/does SP} usually get at night on weekdays or wo</td><td>SLQ_E   </td><td>Sleep Disorders                                           </td><td>2007</td><td>2008</td><td>Questionnaire</td><td>None</td></tr>\n",
       "\t<tr><td>SLD020M </td><td>How long does it usually take {you/SP} to fall asleep at bedtime?                                                               </td><td>SLQ_E   </td><td>Sleep Disorders                                           </td><td>2007</td><td>2008</td><td>Questionnaire</td><td>None</td></tr>\n",
       "\t<tr><td>SLQ030  </td><td>In the past 12 months, how often did {you/SP} snore while {you were/s/he was} sleeping?                                         </td><td>SLQ_E   </td><td>Sleep Disorders                                           </td><td>2007</td><td>2008</td><td>Questionnaire</td><td>None</td></tr>\n",
       "\t<tr><td>SLQ040  </td><td>In the past 12 months, how often did {you/SP} snort, gasp, or stop breathing while {you were/s/he was} asleep?                  </td><td>SLQ_E   </td><td>Sleep Disorders                                           </td><td>2007</td><td>2008</td><td>Questionnaire</td><td>None</td></tr>\n",
       "\t<tr><td>SLQ050  </td><td>{Have you/Has SP} ever told a doctor or other health professional that {you have/s/he has} trouble sleeping?                    </td><td>SLQ_E   </td><td>Sleep Disorders                                           </td><td>2007</td><td>2008</td><td>Questionnaire</td><td>None</td></tr>\n",
       "\t<tr><td>SLQ060  </td><td>{Have you/Has SP} ever been told by a doctor or other health professional that {you have/s/he has} a sleep disorder?            </td><td>SLQ_E   </td><td>Sleep Disorders                                           </td><td>2007</td><td>2008</td><td>Questionnaire</td><td>None</td></tr>\n",
       "\t<tr><td>SLQ070A </td><td>What was the sleep disorder?                                                                                                    </td><td>SLQ_E   </td><td>Sleep Disorders                                           </td><td>2007</td><td>2008</td><td>Questionnaire</td><td>None</td></tr>\n",
       "\t<tr><td>SLQ070B </td><td>What was the sleep disorder?                                                                                                    </td><td>SLQ_E   </td><td>Sleep Disorders                                           </td><td>2007</td><td>2008</td><td>Questionnaire</td><td>None</td></tr>\n",
       "\t<tr><td>⋮</td><td>⋮</td><td>⋮</td><td>⋮</td><td>⋮</td><td>⋮</td><td>⋮</td><td>⋮</td></tr>\n",
       "\t<tr><td>SLQ300</td><td>The next set of questions is about {your/SP's} sleeping habits. The first two questions refer to the times {you get/SP gets} in </td><td>SLQ_I</td><td>Sleep Disorders                    </td><td>2015</td><td>2016</td><td>Questionnaire</td><td>None</td></tr>\n",
       "\t<tr><td>AUQ270</td><td>{Are you/Is SP} bothered by ringing, roaring, or buzzing in {your/his/her} ears or head when going to sleep?                    </td><td>AUQ_I</td><td>Audiometry                         </td><td>2015</td><td>2016</td><td>Questionnaire</td><td>None</td></tr>\n",
       "\t<tr><td>PAD680</td><td>The following question is about sitting at school, at home, getting to and from places, or with friends including time spent sit</td><td>PAQ_J</td><td>Physical Activity                  </td><td>2017</td><td>2018</td><td>Questionnaire</td><td>None</td></tr>\n",
       "\t<tr><td>SLD012</td><td>Number of hours usually sleep on weekdays or workdays.                                                                          </td><td>SLQ_J</td><td>Sleep Disorders                    </td><td>2017</td><td>2018</td><td>Questionnaire</td><td>None</td></tr>\n",
       "\t<tr><td>SLD013</td><td>Number of hours usually sleep on weekends or non-workdays.                                                                      </td><td>SLQ_J</td><td>Sleep Disorders                    </td><td>2017</td><td>2018</td><td>Questionnaire</td><td>None</td></tr>\n",
       "\t<tr><td>SLQ030</td><td>In the past 12 months, how often did {you/SP} snore while {you were/s/he was} sleeping?                                         </td><td>SLQ_J</td><td>Sleep Disorders                    </td><td>2017</td><td>2018</td><td>Questionnaire</td><td>None</td></tr>\n",
       "\t<tr><td>SLQ040</td><td>In the past 12 months, how often did {you/SP} snort, gasp, or stop breathing while {you were/s/he was} asleep?                  </td><td>SLQ_J</td><td>Sleep Disorders                    </td><td>2017</td><td>2018</td><td>Questionnaire</td><td>None</td></tr>\n",
       "\t<tr><td>SLQ050</td><td>{Have you/Has SP} ever told a doctor or other health professional that {you have/s/he has} trouble sleeping?                    </td><td>SLQ_J</td><td>Sleep Disorders                    </td><td>2017</td><td>2018</td><td>Questionnaire</td><td>None</td></tr>\n",
       "\t<tr><td>SLQ120</td><td>In the past month, how often did {you/SP} feel excessively or overly sleepy during the day?                                     </td><td>SLQ_J</td><td>Sleep Disorders                    </td><td>2017</td><td>2018</td><td>Questionnaire</td><td>None</td></tr>\n",
       "\t<tr><td>SLQ300</td><td>What time {do you/does SP} usually fall asleep on weekdays or workdays?                                                         </td><td>SLQ_J</td><td>Sleep Disorders                    </td><td>2017</td><td>2018</td><td>Questionnaire</td><td>None</td></tr>\n",
       "\t<tr><td>SLQ320</td><td>What time {do you/does SP} usually fall asleep on weekends or non-workdays?                                                     </td><td>SLQ_J</td><td>Sleep Disorders                    </td><td>2017</td><td>2018</td><td>Questionnaire</td><td>None</td></tr>\n",
       "\t<tr><td>DPQ030</td><td>[Over the last 2 weeks, how often have you been bothered by the following problems:] trouble falling or staying asleep, or sleep</td><td>DPQ_J</td><td>Mental Health - Depression Screener</td><td>2017</td><td>2018</td><td>Questionnaire</td><td>None</td></tr>\n",
       "\t<tr><td>AUQ270</td><td>{Are you/Is SP} bothered by ringing, roaring, or buzzing in {your/his/her} ears or head when going to sleep?                    </td><td>AUQ_J</td><td>Audiometry                         </td><td>2017</td><td>2018</td><td>Questionnaire</td><td>None</td></tr>\n",
       "\t<tr><td>DPQ030</td><td>[Over the last 2 weeks, how often have you been bothered by the following problems:] trouble falling or staying asleep, or sleep</td><td>P_DPQ</td><td>Mental Health - Depression Screener</td><td>2017</td><td>2020</td><td>Questionnaire</td><td>None</td></tr>\n",
       "\t<tr><td>SLD012</td><td>Number of hours usually sleep on weekdays or workdays.                                                                          </td><td>P_SLQ</td><td>Sleep Disorders                    </td><td>2017</td><td>2020</td><td>Questionnaire</td><td>None</td></tr>\n",
       "\t<tr><td>SLD013</td><td>Number of hours usually sleep on weekends or non-workdays.                                                                      </td><td>P_SLQ</td><td>Sleep Disorders                    </td><td>2017</td><td>2020</td><td>Questionnaire</td><td>None</td></tr>\n",
       "\t<tr><td>SLQ030</td><td>In the past 12 months, how often did {you/SP} snore while {you were/s/he was} sleeping?                                         </td><td>P_SLQ</td><td>Sleep Disorders                    </td><td>2017</td><td>2020</td><td>Questionnaire</td><td>None</td></tr>\n",
       "\t<tr><td>SLQ040</td><td>In the past 12 months, how often did {you/SP} snort, gasp, or stop breathing while {you were/s/he was} asleep?                  </td><td>P_SLQ</td><td>Sleep Disorders                    </td><td>2017</td><td>2020</td><td>Questionnaire</td><td>None</td></tr>\n",
       "\t<tr><td>SLQ050</td><td>{Have you/Has SP} ever told a doctor or other health professional that {you have/s/he has} trouble sleeping?                    </td><td>P_SLQ</td><td>Sleep Disorders                    </td><td>2017</td><td>2020</td><td>Questionnaire</td><td>None</td></tr>\n",
       "\t<tr><td>SLQ120</td><td>In the past month, how often did {you/SP} feel excessively or overly sleepy during the day?                                     </td><td>P_SLQ</td><td>Sleep Disorders                    </td><td>2017</td><td>2020</td><td>Questionnaire</td><td>None</td></tr>\n",
       "\t<tr><td>SLQ300</td><td>What time {do you/does SP} usually fall asleep on weekdays or workdays?                                                         </td><td>P_SLQ</td><td>Sleep Disorders                    </td><td>2017</td><td>2020</td><td>Questionnaire</td><td>None</td></tr>\n",
       "\t<tr><td>SLQ320</td><td>What time {do you/does SP} usually fall asleep on weekends or non-workdays?                                                     </td><td>P_SLQ</td><td>Sleep Disorders                    </td><td>2017</td><td>2020</td><td>Questionnaire</td><td>None</td></tr>\n",
       "\t<tr><td>AUQ270</td><td>{Are you/Is SP} bothered by ringing, roaring, or buzzing in {your/his/her} ears or head when going to sleep?                    </td><td>P_AUQ</td><td>Audiometry                         </td><td>2017</td><td>2020</td><td>Questionnaire</td><td>None</td></tr>\n",
       "\t<tr><td>PAD680</td><td>The following question is about sitting at school, at home, getting to and from places, or with friends including time spent sit</td><td>P_PAQ</td><td>Physical Activity                  </td><td>2017</td><td>2020</td><td>Questionnaire</td><td>None</td></tr>\n",
       "\t<tr><td>PAD680</td><td>The following question is about sitting at school, at home, getting to and from places, or with friends including time spent sit</td><td>PAQ_L</td><td>Physical Activity                  </td><td>2021</td><td>2023</td><td>Questionnaire</td><td>None</td></tr>\n",
       "\t<tr><td>DPQ030</td><td>[Over the last 2 weeks, how often have you been bothered by the following problems:] trouble falling or staying asleep, or sleep</td><td>DPQ_L</td><td>Mental Health - Depression Screener</td><td>2021</td><td>2023</td><td>Questionnaire</td><td>None</td></tr>\n",
       "\t<tr><td>SLD012</td><td>Number of hours usually sleep on weekdays or workdays.                                                                          </td><td>SLQ_L</td><td>Sleep Disorders                    </td><td>2021</td><td>2023</td><td>Questionnaire</td><td>None</td></tr>\n",
       "\t<tr><td>SLD013</td><td>Number of hours usually sleep on weekends or non-workdays.                                                                      </td><td>SLQ_L</td><td>Sleep Disorders                    </td><td>2021</td><td>2023</td><td>Questionnaire</td><td>None</td></tr>\n",
       "\t<tr><td>SLQ300</td><td>What time {do you/does SP} usually fall asleep on weekdays or workdays?                                                         </td><td>SLQ_L</td><td>Sleep Disorders                    </td><td>2021</td><td>2023</td><td>Questionnaire</td><td>None</td></tr>\n",
       "\t<tr><td>SLQ320</td><td>What time {do you/does SP} usually fall asleep on weekends or non-workdays?                                                     </td><td>SLQ_L</td><td>Sleep Disorders                    </td><td>2021</td><td>2023</td><td>Questionnaire</td><td>None</td></tr>\n",
       "</tbody>\n",
       "</table>\n"
      ],
      "text/latex": [
       "A data.frame: 156 × 8\n",
       "\\begin{tabular}{llllllll}\n",
       " Variable.Name & Variable.Description & Data.File.Name & Data.File.Description & Begin.Year & EndYear & Component & Use.Constraints\\\\\n",
       " <chr> & <chr> & <chr> & <chr> & <chr> & <chr> & <chr> & <chr>\\\\\n",
       "\\hline\n",
       "\t ENQ010   & \\{Do you/Does SP\\} currently have a breathing problem that requires \\{you/him/her\\} to use supplemental oxygen during the day? {[}This & SPX\\_E    & Spirometry - Pre and Post-Bronchodilator                   & 2007 & 2008 & Examination   & None\\\\\n",
       "\t ENQ010   & \\{Do you/Does SP\\} currently have a breathing problem that requires \\{you/him/her\\} to use supplemental oxygen during the day? {[}This & SPX\\_F    & Spirometry - Pre and Post-Bronchodilator                   & 2009 & 2010 & Examination   & None\\\\\n",
       "\t ENQ010   & \\{Do you/Does SP\\} currently have a breathing problem that requires \\{you/him/her\\} to use supplemental oxygen during the day? {[}This & SPX\\_G    & Spirometry - Pre and Post-Bronchodilator                   & 2011 & 2012 & Examination   & None\\\\\n",
       "\t PAXAISMD & Day count: 80hz data in idle sleep mode                                                                                          & PAXDAY\\_G & Physical Activity Monitor - Day                            & 2011 & 2012 & Examination   & None\\\\\n",
       "\t PAXSWMD  & Day sum: valid sleep wear minutes                                                                                                & PAXDAY\\_G & Physical Activity Monitor - Day                            & 2011 & 2012 & Examination   & None\\\\\n",
       "\t PAXAISMH & Hour count: 80hz data in idle sleep mode                                                                                         & PAXHR\\_G  & Physical Activity Monitor - Hour                           & 2011 & 2012 & Examination   & None\\\\\n",
       "\t PAXSWMH  & Hour sum: valid sleep wear minutes                                                                                               & PAXHR\\_G  & Physical Activity Monitor - Hour                           & 2011 & 2012 & Examination   & None\\\\\n",
       "\t PAXAISMM & Minute count: 80hz data in idle sleep mode                                                                                       & PAXMIN\\_G & Physical Activity Monitor - Minute                         & 2011 & 2012 & Examination   & None\\\\\n",
       "\t PAXPREDM & Estimated wake/sleep/wear status during the minute                                                                               & PAXMIN\\_G & Physical Activity Monitor - Minute                         & 2011 & 2012 & Examination   & None\\\\\n",
       "\t PAXTRANM & Transition flag for wake/sleep/non-wear                                                                                          & PAXMIN\\_G & Physical Activity Monitor - Minute                         & 2011 & 2012 & Examination   & None\\\\\n",
       "\t PAXAISMD & Day count: 80hz data in idle sleep mode                                                                                          & PAXDAY\\_H & Physical Activity Monitor - Day                            & 2013 & 2014 & Examination   & None\\\\\n",
       "\t PAXSWMD  & Day sum: valid sleep wear minutes                                                                                                & PAXDAY\\_H & Physical Activity Monitor - Day                            & 2013 & 2014 & Examination   & None\\\\\n",
       "\t PAXAISMH & Hour count: 80hz data in idle sleep mode                                                                                         & PAXHR\\_H  & Physical Activity Monitor - Hour                           & 2013 & 2014 & Examination   & None\\\\\n",
       "\t PAXSWMH  & Hour sum: valid sleep wear minutes                                                                                               & PAXHR\\_H  & Physical Activity Monitor - Hour                           & 2013 & 2014 & Examination   & None\\\\\n",
       "\t PAXAISMM & Minute count: 80hz data in idle sleep mode                                                                                       & PAXMIN\\_H & Physical Activity Monitor - Minute                         & 2013 & 2014 & Examination   & None\\\\\n",
       "\t PAXPREDM & Estimated wake/sleep/wear status during the minute                                                                               & PAXMIN\\_H & Physical Activity Monitor - Minute                         & 2013 & 2014 & Examination   & None\\\\\n",
       "\t PAXTRANM & Transition flag for wake/sleep/non-wear                                                                                          & PAXMIN\\_H & Physical Activity Monitor - Minute                         & 2013 & 2014 & Examination   & None\\\\\n",
       "\t VTQ090   & During the time you used your exposure badge, about how many hours did you spend indoors at home? Include time spent sleeping.   & LAB21    & Volatile Organic Compounds (VOC) - Personal Exposure Badge & 1999 & 2000 & Laboratory    & None\\\\\n",
       "\t DPQ030   & {[}Over the last 2 weeks, how often have you been bothered by the following problems:{]} trouble falling or staying asleep, or sleep & DPQ\\_D    & Mental Health - Depression Screener                        & 2005 & 2006 & Questionnaire & None\\\\\n",
       "\t PAD680   & The following question is about sitting or reclining at work, at home, or at school.  Include time spent sitting at a desk, sitt & PAQ\\_E    & Physical Activity                                          & 2007 & 2008 & Questionnaire & None\\\\\n",
       "\t AUQ270   & \\{Are you/Is SP\\} bothered by ringing, roaring, or buzzing in \\{your/his/her\\} ears or head when going to sleep?                     & AUQ\\_E    & Audiometry                                                 & 2007 & 2008 & Questionnaire & None\\\\\n",
       "\t RDQ090   & {[}In the past 12 months{]}, how often, on average, has \\{your/SP's\\} sleep been disturbed because of wheezing?  Would you say this ha & RDQ\\_E    & Respiratory Health                                         & 2007 & 2008 & Questionnaire & None\\\\\n",
       "\t SLD010H  & The next set of questions is about your sleeping habits.  How much sleep \\{do you/does SP\\} usually get at night on weekdays or wo & SLQ\\_E    & Sleep Disorders                                            & 2007 & 2008 & Questionnaire & None\\\\\n",
       "\t SLD020M  & How long does it usually take \\{you/SP\\} to fall asleep at bedtime?                                                                & SLQ\\_E    & Sleep Disorders                                            & 2007 & 2008 & Questionnaire & None\\\\\n",
       "\t SLQ030   & In the past 12 months, how often did \\{you/SP\\} snore while \\{you were/s/he was\\} sleeping?                                          & SLQ\\_E    & Sleep Disorders                                            & 2007 & 2008 & Questionnaire & None\\\\\n",
       "\t SLQ040   & In the past 12 months, how often did \\{you/SP\\} snort, gasp, or stop breathing while \\{you were/s/he was\\} asleep?                   & SLQ\\_E    & Sleep Disorders                                            & 2007 & 2008 & Questionnaire & None\\\\\n",
       "\t SLQ050   & \\{Have you/Has SP\\} ever told a doctor or other health professional that \\{you have/s/he has\\} trouble sleeping?                     & SLQ\\_E    & Sleep Disorders                                            & 2007 & 2008 & Questionnaire & None\\\\\n",
       "\t SLQ060   & \\{Have you/Has SP\\} ever been told by a doctor or other health professional that \\{you have/s/he has\\} a sleep disorder?             & SLQ\\_E    & Sleep Disorders                                            & 2007 & 2008 & Questionnaire & None\\\\\n",
       "\t SLQ070A  & What was the sleep disorder?                                                                                                     & SLQ\\_E    & Sleep Disorders                                            & 2007 & 2008 & Questionnaire & None\\\\\n",
       "\t SLQ070B  & What was the sleep disorder?                                                                                                     & SLQ\\_E    & Sleep Disorders                                            & 2007 & 2008 & Questionnaire & None\\\\\n",
       "\t ⋮ & ⋮ & ⋮ & ⋮ & ⋮ & ⋮ & ⋮ & ⋮\\\\\n",
       "\t SLQ300 & The next set of questions is about \\{your/SP's\\} sleeping habits. The first two questions refer to the times \\{you get/SP gets\\} in  & SLQ\\_I & Sleep Disorders                     & 2015 & 2016 & Questionnaire & None\\\\\n",
       "\t AUQ270 & \\{Are you/Is SP\\} bothered by ringing, roaring, or buzzing in \\{your/his/her\\} ears or head when going to sleep?                     & AUQ\\_I & Audiometry                          & 2015 & 2016 & Questionnaire & None\\\\\n",
       "\t PAD680 & The following question is about sitting at school, at home, getting to and from places, or with friends including time spent sit & PAQ\\_J & Physical Activity                   & 2017 & 2018 & Questionnaire & None\\\\\n",
       "\t SLD012 & Number of hours usually sleep on weekdays or workdays.                                                                           & SLQ\\_J & Sleep Disorders                     & 2017 & 2018 & Questionnaire & None\\\\\n",
       "\t SLD013 & Number of hours usually sleep on weekends or non-workdays.                                                                       & SLQ\\_J & Sleep Disorders                     & 2017 & 2018 & Questionnaire & None\\\\\n",
       "\t SLQ030 & In the past 12 months, how often did \\{you/SP\\} snore while \\{you were/s/he was\\} sleeping?                                          & SLQ\\_J & Sleep Disorders                     & 2017 & 2018 & Questionnaire & None\\\\\n",
       "\t SLQ040 & In the past 12 months, how often did \\{you/SP\\} snort, gasp, or stop breathing while \\{you were/s/he was\\} asleep?                   & SLQ\\_J & Sleep Disorders                     & 2017 & 2018 & Questionnaire & None\\\\\n",
       "\t SLQ050 & \\{Have you/Has SP\\} ever told a doctor or other health professional that \\{you have/s/he has\\} trouble sleeping?                     & SLQ\\_J & Sleep Disorders                     & 2017 & 2018 & Questionnaire & None\\\\\n",
       "\t SLQ120 & In the past month, how often did \\{you/SP\\} feel excessively or overly sleepy during the day?                                      & SLQ\\_J & Sleep Disorders                     & 2017 & 2018 & Questionnaire & None\\\\\n",
       "\t SLQ300 & What time \\{do you/does SP\\} usually fall asleep on weekdays or workdays?                                                          & SLQ\\_J & Sleep Disorders                     & 2017 & 2018 & Questionnaire & None\\\\\n",
       "\t SLQ320 & What time \\{do you/does SP\\} usually fall asleep on weekends or non-workdays?                                                      & SLQ\\_J & Sleep Disorders                     & 2017 & 2018 & Questionnaire & None\\\\\n",
       "\t DPQ030 & {[}Over the last 2 weeks, how often have you been bothered by the following problems:{]} trouble falling or staying asleep, or sleep & DPQ\\_J & Mental Health - Depression Screener & 2017 & 2018 & Questionnaire & None\\\\\n",
       "\t AUQ270 & \\{Are you/Is SP\\} bothered by ringing, roaring, or buzzing in \\{your/his/her\\} ears or head when going to sleep?                     & AUQ\\_J & Audiometry                          & 2017 & 2018 & Questionnaire & None\\\\\n",
       "\t DPQ030 & {[}Over the last 2 weeks, how often have you been bothered by the following problems:{]} trouble falling or staying asleep, or sleep & P\\_DPQ & Mental Health - Depression Screener & 2017 & 2020 & Questionnaire & None\\\\\n",
       "\t SLD012 & Number of hours usually sleep on weekdays or workdays.                                                                           & P\\_SLQ & Sleep Disorders                     & 2017 & 2020 & Questionnaire & None\\\\\n",
       "\t SLD013 & Number of hours usually sleep on weekends or non-workdays.                                                                       & P\\_SLQ & Sleep Disorders                     & 2017 & 2020 & Questionnaire & None\\\\\n",
       "\t SLQ030 & In the past 12 months, how often did \\{you/SP\\} snore while \\{you were/s/he was\\} sleeping?                                          & P\\_SLQ & Sleep Disorders                     & 2017 & 2020 & Questionnaire & None\\\\\n",
       "\t SLQ040 & In the past 12 months, how often did \\{you/SP\\} snort, gasp, or stop breathing while \\{you were/s/he was\\} asleep?                   & P\\_SLQ & Sleep Disorders                     & 2017 & 2020 & Questionnaire & None\\\\\n",
       "\t SLQ050 & \\{Have you/Has SP\\} ever told a doctor or other health professional that \\{you have/s/he has\\} trouble sleeping?                     & P\\_SLQ & Sleep Disorders                     & 2017 & 2020 & Questionnaire & None\\\\\n",
       "\t SLQ120 & In the past month, how often did \\{you/SP\\} feel excessively or overly sleepy during the day?                                      & P\\_SLQ & Sleep Disorders                     & 2017 & 2020 & Questionnaire & None\\\\\n",
       "\t SLQ300 & What time \\{do you/does SP\\} usually fall asleep on weekdays or workdays?                                                          & P\\_SLQ & Sleep Disorders                     & 2017 & 2020 & Questionnaire & None\\\\\n",
       "\t SLQ320 & What time \\{do you/does SP\\} usually fall asleep on weekends or non-workdays?                                                      & P\\_SLQ & Sleep Disorders                     & 2017 & 2020 & Questionnaire & None\\\\\n",
       "\t AUQ270 & \\{Are you/Is SP\\} bothered by ringing, roaring, or buzzing in \\{your/his/her\\} ears or head when going to sleep?                     & P\\_AUQ & Audiometry                          & 2017 & 2020 & Questionnaire & None\\\\\n",
       "\t PAD680 & The following question is about sitting at school, at home, getting to and from places, or with friends including time spent sit & P\\_PAQ & Physical Activity                   & 2017 & 2020 & Questionnaire & None\\\\\n",
       "\t PAD680 & The following question is about sitting at school, at home, getting to and from places, or with friends including time spent sit & PAQ\\_L & Physical Activity                   & 2021 & 2023 & Questionnaire & None\\\\\n",
       "\t DPQ030 & {[}Over the last 2 weeks, how often have you been bothered by the following problems:{]} trouble falling or staying asleep, or sleep & DPQ\\_L & Mental Health - Depression Screener & 2021 & 2023 & Questionnaire & None\\\\\n",
       "\t SLD012 & Number of hours usually sleep on weekdays or workdays.                                                                           & SLQ\\_L & Sleep Disorders                     & 2021 & 2023 & Questionnaire & None\\\\\n",
       "\t SLD013 & Number of hours usually sleep on weekends or non-workdays.                                                                       & SLQ\\_L & Sleep Disorders                     & 2021 & 2023 & Questionnaire & None\\\\\n",
       "\t SLQ300 & What time \\{do you/does SP\\} usually fall asleep on weekdays or workdays?                                                          & SLQ\\_L & Sleep Disorders                     & 2021 & 2023 & Questionnaire & None\\\\\n",
       "\t SLQ320 & What time \\{do you/does SP\\} usually fall asleep on weekends or non-workdays?                                                      & SLQ\\_L & Sleep Disorders                     & 2021 & 2023 & Questionnaire & None\\\\\n",
       "\\end{tabular}\n"
      ],
      "text/markdown": [
       "\n",
       "A data.frame: 156 × 8\n",
       "\n",
       "| Variable.Name &lt;chr&gt; | Variable.Description &lt;chr&gt; | Data.File.Name &lt;chr&gt; | Data.File.Description &lt;chr&gt; | Begin.Year &lt;chr&gt; | EndYear &lt;chr&gt; | Component &lt;chr&gt; | Use.Constraints &lt;chr&gt; |\n",
       "|---|---|---|---|---|---|---|---|\n",
       "| ENQ010   | {Do you/Does SP} currently have a breathing problem that requires {you/him/her} to use supplemental oxygen during the day? [This | SPX_E    | Spirometry - Pre and Post-Bronchodilator                   | 2007 | 2008 | Examination   | None |\n",
       "| ENQ010   | {Do you/Does SP} currently have a breathing problem that requires {you/him/her} to use supplemental oxygen during the day? [This | SPX_F    | Spirometry - Pre and Post-Bronchodilator                   | 2009 | 2010 | Examination   | None |\n",
       "| ENQ010   | {Do you/Does SP} currently have a breathing problem that requires {you/him/her} to use supplemental oxygen during the day? [This | SPX_G    | Spirometry - Pre and Post-Bronchodilator                   | 2011 | 2012 | Examination   | None |\n",
       "| PAXAISMD | Day count: 80hz data in idle sleep mode                                                                                          | PAXDAY_G | Physical Activity Monitor - Day                            | 2011 | 2012 | Examination   | None |\n",
       "| PAXSWMD  | Day sum: valid sleep wear minutes                                                                                                | PAXDAY_G | Physical Activity Monitor - Day                            | 2011 | 2012 | Examination   | None |\n",
       "| PAXAISMH | Hour count: 80hz data in idle sleep mode                                                                                         | PAXHR_G  | Physical Activity Monitor - Hour                           | 2011 | 2012 | Examination   | None |\n",
       "| PAXSWMH  | Hour sum: valid sleep wear minutes                                                                                               | PAXHR_G  | Physical Activity Monitor - Hour                           | 2011 | 2012 | Examination   | None |\n",
       "| PAXAISMM | Minute count: 80hz data in idle sleep mode                                                                                       | PAXMIN_G | Physical Activity Monitor - Minute                         | 2011 | 2012 | Examination   | None |\n",
       "| PAXPREDM | Estimated wake/sleep/wear status during the minute                                                                               | PAXMIN_G | Physical Activity Monitor - Minute                         | 2011 | 2012 | Examination   | None |\n",
       "| PAXTRANM | Transition flag for wake/sleep/non-wear                                                                                          | PAXMIN_G | Physical Activity Monitor - Minute                         | 2011 | 2012 | Examination   | None |\n",
       "| PAXAISMD | Day count: 80hz data in idle sleep mode                                                                                          | PAXDAY_H | Physical Activity Monitor - Day                            | 2013 | 2014 | Examination   | None |\n",
       "| PAXSWMD  | Day sum: valid sleep wear minutes                                                                                                | PAXDAY_H | Physical Activity Monitor - Day                            | 2013 | 2014 | Examination   | None |\n",
       "| PAXAISMH | Hour count: 80hz data in idle sleep mode                                                                                         | PAXHR_H  | Physical Activity Monitor - Hour                           | 2013 | 2014 | Examination   | None |\n",
       "| PAXSWMH  | Hour sum: valid sleep wear minutes                                                                                               | PAXHR_H  | Physical Activity Monitor - Hour                           | 2013 | 2014 | Examination   | None |\n",
       "| PAXAISMM | Minute count: 80hz data in idle sleep mode                                                                                       | PAXMIN_H | Physical Activity Monitor - Minute                         | 2013 | 2014 | Examination   | None |\n",
       "| PAXPREDM | Estimated wake/sleep/wear status during the minute                                                                               | PAXMIN_H | Physical Activity Monitor - Minute                         | 2013 | 2014 | Examination   | None |\n",
       "| PAXTRANM | Transition flag for wake/sleep/non-wear                                                                                          | PAXMIN_H | Physical Activity Monitor - Minute                         | 2013 | 2014 | Examination   | None |\n",
       "| VTQ090   | During the time you used your exposure badge, about how many hours did you spend indoors at home? Include time spent sleeping.   | LAB21    | Volatile Organic Compounds (VOC) - Personal Exposure Badge | 1999 | 2000 | Laboratory    | None |\n",
       "| DPQ030   | [Over the last 2 weeks, how often have you been bothered by the following problems:] trouble falling or staying asleep, or sleep | DPQ_D    | Mental Health - Depression Screener                        | 2005 | 2006 | Questionnaire | None |\n",
       "| PAD680   | The following question is about sitting or reclining at work, at home, or at school.  Include time spent sitting at a desk, sitt | PAQ_E    | Physical Activity                                          | 2007 | 2008 | Questionnaire | None |\n",
       "| AUQ270   | {Are you/Is SP} bothered by ringing, roaring, or buzzing in {your/his/her} ears or head when going to sleep?                     | AUQ_E    | Audiometry                                                 | 2007 | 2008 | Questionnaire | None |\n",
       "| RDQ090   | [In the past 12 months], how often, on average, has {your/SP's} sleep been disturbed because of wheezing?  Would you say this ha | RDQ_E    | Respiratory Health                                         | 2007 | 2008 | Questionnaire | None |\n",
       "| SLD010H  | The next set of questions is about your sleeping habits.  How much sleep {do you/does SP} usually get at night on weekdays or wo | SLQ_E    | Sleep Disorders                                            | 2007 | 2008 | Questionnaire | None |\n",
       "| SLD020M  | How long does it usually take {you/SP} to fall asleep at bedtime?                                                                | SLQ_E    | Sleep Disorders                                            | 2007 | 2008 | Questionnaire | None |\n",
       "| SLQ030   | In the past 12 months, how often did {you/SP} snore while {you were/s/he was} sleeping?                                          | SLQ_E    | Sleep Disorders                                            | 2007 | 2008 | Questionnaire | None |\n",
       "| SLQ040   | In the past 12 months, how often did {you/SP} snort, gasp, or stop breathing while {you were/s/he was} asleep?                   | SLQ_E    | Sleep Disorders                                            | 2007 | 2008 | Questionnaire | None |\n",
       "| SLQ050   | {Have you/Has SP} ever told a doctor or other health professional that {you have/s/he has} trouble sleeping?                     | SLQ_E    | Sleep Disorders                                            | 2007 | 2008 | Questionnaire | None |\n",
       "| SLQ060   | {Have you/Has SP} ever been told by a doctor or other health professional that {you have/s/he has} a sleep disorder?             | SLQ_E    | Sleep Disorders                                            | 2007 | 2008 | Questionnaire | None |\n",
       "| SLQ070A  | What was the sleep disorder?                                                                                                     | SLQ_E    | Sleep Disorders                                            | 2007 | 2008 | Questionnaire | None |\n",
       "| SLQ070B  | What was the sleep disorder?                                                                                                     | SLQ_E    | Sleep Disorders                                            | 2007 | 2008 | Questionnaire | None |\n",
       "| ⋮ | ⋮ | ⋮ | ⋮ | ⋮ | ⋮ | ⋮ | ⋮ |\n",
       "| SLQ300 | The next set of questions is about {your/SP's} sleeping habits. The first two questions refer to the times {you get/SP gets} in  | SLQ_I | Sleep Disorders                     | 2015 | 2016 | Questionnaire | None |\n",
       "| AUQ270 | {Are you/Is SP} bothered by ringing, roaring, or buzzing in {your/his/her} ears or head when going to sleep?                     | AUQ_I | Audiometry                          | 2015 | 2016 | Questionnaire | None |\n",
       "| PAD680 | The following question is about sitting at school, at home, getting to and from places, or with friends including time spent sit | PAQ_J | Physical Activity                   | 2017 | 2018 | Questionnaire | None |\n",
       "| SLD012 | Number of hours usually sleep on weekdays or workdays.                                                                           | SLQ_J | Sleep Disorders                     | 2017 | 2018 | Questionnaire | None |\n",
       "| SLD013 | Number of hours usually sleep on weekends or non-workdays.                                                                       | SLQ_J | Sleep Disorders                     | 2017 | 2018 | Questionnaire | None |\n",
       "| SLQ030 | In the past 12 months, how often did {you/SP} snore while {you were/s/he was} sleeping?                                          | SLQ_J | Sleep Disorders                     | 2017 | 2018 | Questionnaire | None |\n",
       "| SLQ040 | In the past 12 months, how often did {you/SP} snort, gasp, or stop breathing while {you were/s/he was} asleep?                   | SLQ_J | Sleep Disorders                     | 2017 | 2018 | Questionnaire | None |\n",
       "| SLQ050 | {Have you/Has SP} ever told a doctor or other health professional that {you have/s/he has} trouble sleeping?                     | SLQ_J | Sleep Disorders                     | 2017 | 2018 | Questionnaire | None |\n",
       "| SLQ120 | In the past month, how often did {you/SP} feel excessively or overly sleepy during the day?                                      | SLQ_J | Sleep Disorders                     | 2017 | 2018 | Questionnaire | None |\n",
       "| SLQ300 | What time {do you/does SP} usually fall asleep on weekdays or workdays?                                                          | SLQ_J | Sleep Disorders                     | 2017 | 2018 | Questionnaire | None |\n",
       "| SLQ320 | What time {do you/does SP} usually fall asleep on weekends or non-workdays?                                                      | SLQ_J | Sleep Disorders                     | 2017 | 2018 | Questionnaire | None |\n",
       "| DPQ030 | [Over the last 2 weeks, how often have you been bothered by the following problems:] trouble falling or staying asleep, or sleep | DPQ_J | Mental Health - Depression Screener | 2017 | 2018 | Questionnaire | None |\n",
       "| AUQ270 | {Are you/Is SP} bothered by ringing, roaring, or buzzing in {your/his/her} ears or head when going to sleep?                     | AUQ_J | Audiometry                          | 2017 | 2018 | Questionnaire | None |\n",
       "| DPQ030 | [Over the last 2 weeks, how often have you been bothered by the following problems:] trouble falling or staying asleep, or sleep | P_DPQ | Mental Health - Depression Screener | 2017 | 2020 | Questionnaire | None |\n",
       "| SLD012 | Number of hours usually sleep on weekdays or workdays.                                                                           | P_SLQ | Sleep Disorders                     | 2017 | 2020 | Questionnaire | None |\n",
       "| SLD013 | Number of hours usually sleep on weekends or non-workdays.                                                                       | P_SLQ | Sleep Disorders                     | 2017 | 2020 | Questionnaire | None |\n",
       "| SLQ030 | In the past 12 months, how often did {you/SP} snore while {you were/s/he was} sleeping?                                          | P_SLQ | Sleep Disorders                     | 2017 | 2020 | Questionnaire | None |\n",
       "| SLQ040 | In the past 12 months, how often did {you/SP} snort, gasp, or stop breathing while {you were/s/he was} asleep?                   | P_SLQ | Sleep Disorders                     | 2017 | 2020 | Questionnaire | None |\n",
       "| SLQ050 | {Have you/Has SP} ever told a doctor or other health professional that {you have/s/he has} trouble sleeping?                     | P_SLQ | Sleep Disorders                     | 2017 | 2020 | Questionnaire | None |\n",
       "| SLQ120 | In the past month, how often did {you/SP} feel excessively or overly sleepy during the day?                                      | P_SLQ | Sleep Disorders                     | 2017 | 2020 | Questionnaire | None |\n",
       "| SLQ300 | What time {do you/does SP} usually fall asleep on weekdays or workdays?                                                          | P_SLQ | Sleep Disorders                     | 2017 | 2020 | Questionnaire | None |\n",
       "| SLQ320 | What time {do you/does SP} usually fall asleep on weekends or non-workdays?                                                      | P_SLQ | Sleep Disorders                     | 2017 | 2020 | Questionnaire | None |\n",
       "| AUQ270 | {Are you/Is SP} bothered by ringing, roaring, or buzzing in {your/his/her} ears or head when going to sleep?                     | P_AUQ | Audiometry                          | 2017 | 2020 | Questionnaire | None |\n",
       "| PAD680 | The following question is about sitting at school, at home, getting to and from places, or with friends including time spent sit | P_PAQ | Physical Activity                   | 2017 | 2020 | Questionnaire | None |\n",
       "| PAD680 | The following question is about sitting at school, at home, getting to and from places, or with friends including time spent sit | PAQ_L | Physical Activity                   | 2021 | 2023 | Questionnaire | None |\n",
       "| DPQ030 | [Over the last 2 weeks, how often have you been bothered by the following problems:] trouble falling or staying asleep, or sleep | DPQ_L | Mental Health - Depression Screener | 2021 | 2023 | Questionnaire | None |\n",
       "| SLD012 | Number of hours usually sleep on weekdays or workdays.                                                                           | SLQ_L | Sleep Disorders                     | 2021 | 2023 | Questionnaire | None |\n",
       "| SLD013 | Number of hours usually sleep on weekends or non-workdays.                                                                       | SLQ_L | Sleep Disorders                     | 2021 | 2023 | Questionnaire | None |\n",
       "| SLQ300 | What time {do you/does SP} usually fall asleep on weekdays or workdays?                                                          | SLQ_L | Sleep Disorders                     | 2021 | 2023 | Questionnaire | None |\n",
       "| SLQ320 | What time {do you/does SP} usually fall asleep on weekends or non-workdays?                                                      | SLQ_L | Sleep Disorders                     | 2021 | 2023 | Questionnaire | None |\n",
       "\n"
      ],
      "text/plain": [
       "    Variable.Name\n",
       "1   ENQ010       \n",
       "2   ENQ010       \n",
       "3   ENQ010       \n",
       "4   PAXAISMD     \n",
       "5   PAXSWMD      \n",
       "6   PAXAISMH     \n",
       "7   PAXSWMH      \n",
       "8   PAXAISMM     \n",
       "9   PAXPREDM     \n",
       "10  PAXTRANM     \n",
       "11  PAXAISMD     \n",
       "12  PAXSWMD      \n",
       "13  PAXAISMH     \n",
       "14  PAXSWMH      \n",
       "15  PAXAISMM     \n",
       "16  PAXPREDM     \n",
       "17  PAXTRANM     \n",
       "18  VTQ090       \n",
       "19  DPQ030       \n",
       "20  PAD680       \n",
       "21  AUQ270       \n",
       "22  RDQ090       \n",
       "23  SLD010H      \n",
       "24  SLD020M      \n",
       "25  SLQ030       \n",
       "26  SLQ040       \n",
       "27  SLQ050       \n",
       "28  SLQ060       \n",
       "29  SLQ070A      \n",
       "30  SLQ070B      \n",
       "⋮   ⋮            \n",
       "127 SLQ300       \n",
       "128 AUQ270       \n",
       "129 PAD680       \n",
       "130 SLD012       \n",
       "131 SLD013       \n",
       "132 SLQ030       \n",
       "133 SLQ040       \n",
       "134 SLQ050       \n",
       "135 SLQ120       \n",
       "136 SLQ300       \n",
       "137 SLQ320       \n",
       "138 DPQ030       \n",
       "139 AUQ270       \n",
       "140 DPQ030       \n",
       "141 SLD012       \n",
       "142 SLD013       \n",
       "143 SLQ030       \n",
       "144 SLQ040       \n",
       "145 SLQ050       \n",
       "146 SLQ120       \n",
       "147 SLQ300       \n",
       "148 SLQ320       \n",
       "149 AUQ270       \n",
       "150 PAD680       \n",
       "151 PAD680       \n",
       "152 DPQ030       \n",
       "153 SLD012       \n",
       "154 SLD013       \n",
       "155 SLQ300       \n",
       "156 SLQ320       \n",
       "    Variable.Description                                                                                                            \n",
       "1   {Do you/Does SP} currently have a breathing problem that requires {you/him/her} to use supplemental oxygen during the day? [This\n",
       "2   {Do you/Does SP} currently have a breathing problem that requires {you/him/her} to use supplemental oxygen during the day? [This\n",
       "3   {Do you/Does SP} currently have a breathing problem that requires {you/him/her} to use supplemental oxygen during the day? [This\n",
       "4   Day count: 80hz data in idle sleep mode                                                                                         \n",
       "5   Day sum: valid sleep wear minutes                                                                                               \n",
       "6   Hour count: 80hz data in idle sleep mode                                                                                        \n",
       "7   Hour sum: valid sleep wear minutes                                                                                              \n",
       "8   Minute count: 80hz data in idle sleep mode                                                                                      \n",
       "9   Estimated wake/sleep/wear status during the minute                                                                              \n",
       "10  Transition flag for wake/sleep/non-wear                                                                                         \n",
       "11  Day count: 80hz data in idle sleep mode                                                                                         \n",
       "12  Day sum: valid sleep wear minutes                                                                                               \n",
       "13  Hour count: 80hz data in idle sleep mode                                                                                        \n",
       "14  Hour sum: valid sleep wear minutes                                                                                              \n",
       "15  Minute count: 80hz data in idle sleep mode                                                                                      \n",
       "16  Estimated wake/sleep/wear status during the minute                                                                              \n",
       "17  Transition flag for wake/sleep/non-wear                                                                                         \n",
       "18  During the time you used your exposure badge, about how many hours did you spend indoors at home? Include time spent sleeping.  \n",
       "19  [Over the last 2 weeks, how often have you been bothered by the following problems:] trouble falling or staying asleep, or sleep\n",
       "20  The following question is about sitting or reclining at work, at home, or at school.  Include time spent sitting at a desk, sitt\n",
       "21  {Are you/Is SP} bothered by ringing, roaring, or buzzing in {your/his/her} ears or head when going to sleep?                    \n",
       "22  [In the past 12 months], how often, on average, has {your/SP's} sleep been disturbed because of wheezing?  Would you say this ha\n",
       "23  The next set of questions is about your sleeping habits.  How much sleep {do you/does SP} usually get at night on weekdays or wo\n",
       "24  How long does it usually take {you/SP} to fall asleep at bedtime?                                                               \n",
       "25  In the past 12 months, how often did {you/SP} snore while {you were/s/he was} sleeping?                                         \n",
       "26  In the past 12 months, how often did {you/SP} snort, gasp, or stop breathing while {you were/s/he was} asleep?                  \n",
       "27  {Have you/Has SP} ever told a doctor or other health professional that {you have/s/he has} trouble sleeping?                    \n",
       "28  {Have you/Has SP} ever been told by a doctor or other health professional that {you have/s/he has} a sleep disorder?            \n",
       "29  What was the sleep disorder?                                                                                                    \n",
       "30  What was the sleep disorder?                                                                                                    \n",
       "⋮   ⋮                                                                                                                               \n",
       "127 The next set of questions is about {your/SP's} sleeping habits. The first two questions refer to the times {you get/SP gets} in \n",
       "128 {Are you/Is SP} bothered by ringing, roaring, or buzzing in {your/his/her} ears or head when going to sleep?                    \n",
       "129 The following question is about sitting at school, at home, getting to and from places, or with friends including time spent sit\n",
       "130 Number of hours usually sleep on weekdays or workdays.                                                                          \n",
       "131 Number of hours usually sleep on weekends or non-workdays.                                                                      \n",
       "132 In the past 12 months, how often did {you/SP} snore while {you were/s/he was} sleeping?                                         \n",
       "133 In the past 12 months, how often did {you/SP} snort, gasp, or stop breathing while {you were/s/he was} asleep?                  \n",
       "134 {Have you/Has SP} ever told a doctor or other health professional that {you have/s/he has} trouble sleeping?                    \n",
       "135 In the past month, how often did {you/SP} feel excessively or overly sleepy during the day?                                     \n",
       "136 What time {do you/does SP} usually fall asleep on weekdays or workdays?                                                         \n",
       "137 What time {do you/does SP} usually fall asleep on weekends or non-workdays?                                                     \n",
       "138 [Over the last 2 weeks, how often have you been bothered by the following problems:] trouble falling or staying asleep, or sleep\n",
       "139 {Are you/Is SP} bothered by ringing, roaring, or buzzing in {your/his/her} ears or head when going to sleep?                    \n",
       "140 [Over the last 2 weeks, how often have you been bothered by the following problems:] trouble falling or staying asleep, or sleep\n",
       "141 Number of hours usually sleep on weekdays or workdays.                                                                          \n",
       "142 Number of hours usually sleep on weekends or non-workdays.                                                                      \n",
       "143 In the past 12 months, how often did {you/SP} snore while {you were/s/he was} sleeping?                                         \n",
       "144 In the past 12 months, how often did {you/SP} snort, gasp, or stop breathing while {you were/s/he was} asleep?                  \n",
       "145 {Have you/Has SP} ever told a doctor or other health professional that {you have/s/he has} trouble sleeping?                    \n",
       "146 In the past month, how often did {you/SP} feel excessively or overly sleepy during the day?                                     \n",
       "147 What time {do you/does SP} usually fall asleep on weekdays or workdays?                                                         \n",
       "148 What time {do you/does SP} usually fall asleep on weekends or non-workdays?                                                     \n",
       "149 {Are you/Is SP} bothered by ringing, roaring, or buzzing in {your/his/her} ears or head when going to sleep?                    \n",
       "150 The following question is about sitting at school, at home, getting to and from places, or with friends including time spent sit\n",
       "151 The following question is about sitting at school, at home, getting to and from places, or with friends including time spent sit\n",
       "152 [Over the last 2 weeks, how often have you been bothered by the following problems:] trouble falling or staying asleep, or sleep\n",
       "153 Number of hours usually sleep on weekdays or workdays.                                                                          \n",
       "154 Number of hours usually sleep on weekends or non-workdays.                                                                      \n",
       "155 What time {do you/does SP} usually fall asleep on weekdays or workdays?                                                         \n",
       "156 What time {do you/does SP} usually fall asleep on weekends or non-workdays?                                                     \n",
       "    Data.File.Name Data.File.Description                                     \n",
       "1   SPX_E          Spirometry - Pre and Post-Bronchodilator                  \n",
       "2   SPX_F          Spirometry - Pre and Post-Bronchodilator                  \n",
       "3   SPX_G          Spirometry - Pre and Post-Bronchodilator                  \n",
       "4   PAXDAY_G       Physical Activity Monitor - Day                           \n",
       "5   PAXDAY_G       Physical Activity Monitor - Day                           \n",
       "6   PAXHR_G        Physical Activity Monitor - Hour                          \n",
       "7   PAXHR_G        Physical Activity Monitor - Hour                          \n",
       "8   PAXMIN_G       Physical Activity Monitor - Minute                        \n",
       "9   PAXMIN_G       Physical Activity Monitor - Minute                        \n",
       "10  PAXMIN_G       Physical Activity Monitor - Minute                        \n",
       "11  PAXDAY_H       Physical Activity Monitor - Day                           \n",
       "12  PAXDAY_H       Physical Activity Monitor - Day                           \n",
       "13  PAXHR_H        Physical Activity Monitor - Hour                          \n",
       "14  PAXHR_H        Physical Activity Monitor - Hour                          \n",
       "15  PAXMIN_H       Physical Activity Monitor - Minute                        \n",
       "16  PAXMIN_H       Physical Activity Monitor - Minute                        \n",
       "17  PAXMIN_H       Physical Activity Monitor - Minute                        \n",
       "18  LAB21          Volatile Organic Compounds (VOC) - Personal Exposure Badge\n",
       "19  DPQ_D          Mental Health - Depression Screener                       \n",
       "20  PAQ_E          Physical Activity                                         \n",
       "21  AUQ_E          Audiometry                                                \n",
       "22  RDQ_E          Respiratory Health                                        \n",
       "23  SLQ_E          Sleep Disorders                                           \n",
       "24  SLQ_E          Sleep Disorders                                           \n",
       "25  SLQ_E          Sleep Disorders                                           \n",
       "26  SLQ_E          Sleep Disorders                                           \n",
       "27  SLQ_E          Sleep Disorders                                           \n",
       "28  SLQ_E          Sleep Disorders                                           \n",
       "29  SLQ_E          Sleep Disorders                                           \n",
       "30  SLQ_E          Sleep Disorders                                           \n",
       "⋮   ⋮              ⋮                                                         \n",
       "127 SLQ_I          Sleep Disorders                                           \n",
       "128 AUQ_I          Audiometry                                                \n",
       "129 PAQ_J          Physical Activity                                         \n",
       "130 SLQ_J          Sleep Disorders                                           \n",
       "131 SLQ_J          Sleep Disorders                                           \n",
       "132 SLQ_J          Sleep Disorders                                           \n",
       "133 SLQ_J          Sleep Disorders                                           \n",
       "134 SLQ_J          Sleep Disorders                                           \n",
       "135 SLQ_J          Sleep Disorders                                           \n",
       "136 SLQ_J          Sleep Disorders                                           \n",
       "137 SLQ_J          Sleep Disorders                                           \n",
       "138 DPQ_J          Mental Health - Depression Screener                       \n",
       "139 AUQ_J          Audiometry                                                \n",
       "140 P_DPQ          Mental Health - Depression Screener                       \n",
       "141 P_SLQ          Sleep Disorders                                           \n",
       "142 P_SLQ          Sleep Disorders                                           \n",
       "143 P_SLQ          Sleep Disorders                                           \n",
       "144 P_SLQ          Sleep Disorders                                           \n",
       "145 P_SLQ          Sleep Disorders                                           \n",
       "146 P_SLQ          Sleep Disorders                                           \n",
       "147 P_SLQ          Sleep Disorders                                           \n",
       "148 P_SLQ          Sleep Disorders                                           \n",
       "149 P_AUQ          Audiometry                                                \n",
       "150 P_PAQ          Physical Activity                                         \n",
       "151 PAQ_L          Physical Activity                                         \n",
       "152 DPQ_L          Mental Health - Depression Screener                       \n",
       "153 SLQ_L          Sleep Disorders                                           \n",
       "154 SLQ_L          Sleep Disorders                                           \n",
       "155 SLQ_L          Sleep Disorders                                           \n",
       "156 SLQ_L          Sleep Disorders                                           \n",
       "    Begin.Year EndYear Component     Use.Constraints\n",
       "1   2007       2008    Examination   None           \n",
       "2   2009       2010    Examination   None           \n",
       "3   2011       2012    Examination   None           \n",
       "4   2011       2012    Examination   None           \n",
       "5   2011       2012    Examination   None           \n",
       "6   2011       2012    Examination   None           \n",
       "7   2011       2012    Examination   None           \n",
       "8   2011       2012    Examination   None           \n",
       "9   2011       2012    Examination   None           \n",
       "10  2011       2012    Examination   None           \n",
       "11  2013       2014    Examination   None           \n",
       "12  2013       2014    Examination   None           \n",
       "13  2013       2014    Examination   None           \n",
       "14  2013       2014    Examination   None           \n",
       "15  2013       2014    Examination   None           \n",
       "16  2013       2014    Examination   None           \n",
       "17  2013       2014    Examination   None           \n",
       "18  1999       2000    Laboratory    None           \n",
       "19  2005       2006    Questionnaire None           \n",
       "20  2007       2008    Questionnaire None           \n",
       "21  2007       2008    Questionnaire None           \n",
       "22  2007       2008    Questionnaire None           \n",
       "23  2007       2008    Questionnaire None           \n",
       "24  2007       2008    Questionnaire None           \n",
       "25  2007       2008    Questionnaire None           \n",
       "26  2007       2008    Questionnaire None           \n",
       "27  2007       2008    Questionnaire None           \n",
       "28  2007       2008    Questionnaire None           \n",
       "29  2007       2008    Questionnaire None           \n",
       "30  2007       2008    Questionnaire None           \n",
       "⋮   ⋮          ⋮       ⋮             ⋮              \n",
       "127 2015       2016    Questionnaire None           \n",
       "128 2015       2016    Questionnaire None           \n",
       "129 2017       2018    Questionnaire None           \n",
       "130 2017       2018    Questionnaire None           \n",
       "131 2017       2018    Questionnaire None           \n",
       "132 2017       2018    Questionnaire None           \n",
       "133 2017       2018    Questionnaire None           \n",
       "134 2017       2018    Questionnaire None           \n",
       "135 2017       2018    Questionnaire None           \n",
       "136 2017       2018    Questionnaire None           \n",
       "137 2017       2018    Questionnaire None           \n",
       "138 2017       2018    Questionnaire None           \n",
       "139 2017       2018    Questionnaire None           \n",
       "140 2017       2020    Questionnaire None           \n",
       "141 2017       2020    Questionnaire None           \n",
       "142 2017       2020    Questionnaire None           \n",
       "143 2017       2020    Questionnaire None           \n",
       "144 2017       2020    Questionnaire None           \n",
       "145 2017       2020    Questionnaire None           \n",
       "146 2017       2020    Questionnaire None           \n",
       "147 2017       2020    Questionnaire None           \n",
       "148 2017       2020    Questionnaire None           \n",
       "149 2017       2020    Questionnaire None           \n",
       "150 2017       2020    Questionnaire None           \n",
       "151 2021       2023    Questionnaire None           \n",
       "152 2021       2023    Questionnaire None           \n",
       "153 2021       2023    Questionnaire None           \n",
       "154 2021       2023    Questionnaire None           \n",
       "155 2021       2023    Questionnaire None           \n",
       "156 2021       2023    Questionnaire None           "
      ]
     },
     "metadata": {},
     "output_type": "display_data"
    }
   ],
   "source": [
    "nhanesSearch('sleep')"
   ]
  },
  {
   "cell_type": "code",
   "execution_count": 30,
   "id": "d55b62b1",
   "metadata": {
    "slideshow": {
     "slide_type": "slide"
    }
   },
   "outputs": [
    {
     "data": {
      "text/html": [
       "<table class=\"dataframe\">\n",
       "<caption>A data.frame: 11 × 2</caption>\n",
       "<thead>\n",
       "\t<tr><th></th><th scope=col>Variable.Name</th><th scope=col>Variable.Description</th></tr>\n",
       "\t<tr><th></th><th scope=col>&lt;chr&gt;</th><th scope=col>&lt;chr&gt;</th></tr>\n",
       "</thead>\n",
       "<tbody>\n",
       "\t<tr><th scope=row>1</th><td>SEQN  </td><td>Respondent sequence number.                                                                                   </td></tr>\n",
       "\t<tr><th scope=row>2</th><td>SLD012</td><td>Number of hours usually sleep on weekdays or workdays.                                                        </td></tr>\n",
       "\t<tr><th scope=row>3</th><td>SLD013</td><td>Number of hours usually sleep on weekends or non-workdays.                                                    </td></tr>\n",
       "\t<tr><th scope=row>4</th><td>SLQ030</td><td>In the past 12 months, how often did {you/SP} snore while {you were/s/he was} sleeping?                       </td></tr>\n",
       "\t<tr><th scope=row>5</th><td>SLQ040</td><td>In the past 12 months, how often did {you/SP} snort, gasp, or stop breathing while {you were/s/he was} asleep?</td></tr>\n",
       "\t<tr><th scope=row>6</th><td>SLQ050</td><td>{Have you/Has SP} ever told a doctor or other health professional that {you have/s/he has} trouble sleeping?  </td></tr>\n",
       "\t<tr><th scope=row>7</th><td>SLQ120</td><td>In the past month, how often did {you/SP} feel excessively or overly sleepy during the day?                   </td></tr>\n",
       "\t<tr><th scope=row>8</th><td>SLQ300</td><td>What time {do you/does SP} usually fall asleep on weekdays or workdays?                                       </td></tr>\n",
       "\t<tr><th scope=row>9</th><td>SLQ310</td><td>What time {do you/does SP} usually wake up on weekdays or workdays?                                           </td></tr>\n",
       "\t<tr><th scope=row>10</th><td>SLQ320</td><td>What time {do you/does SP} usually fall asleep on weekends or non-workdays?                                   </td></tr>\n",
       "\t<tr><th scope=row>11</th><td>SLQ330</td><td>What time {do you/does SP} usually wake up on weekends or non-workdays?                                       </td></tr>\n",
       "</tbody>\n",
       "</table>\n"
      ],
      "text/latex": [
       "A data.frame: 11 × 2\n",
       "\\begin{tabular}{r|ll}\n",
       "  & Variable.Name & Variable.Description\\\\\n",
       "  & <chr> & <chr>\\\\\n",
       "\\hline\n",
       "\t1 & SEQN   & Respondent sequence number.                                                                                   \\\\\n",
       "\t2 & SLD012 & Number of hours usually sleep on weekdays or workdays.                                                        \\\\\n",
       "\t3 & SLD013 & Number of hours usually sleep on weekends or non-workdays.                                                    \\\\\n",
       "\t4 & SLQ030 & In the past 12 months, how often did \\{you/SP\\} snore while \\{you were/s/he was\\} sleeping?                       \\\\\n",
       "\t5 & SLQ040 & In the past 12 months, how often did \\{you/SP\\} snort, gasp, or stop breathing while \\{you were/s/he was\\} asleep?\\\\\n",
       "\t6 & SLQ050 & \\{Have you/Has SP\\} ever told a doctor or other health professional that \\{you have/s/he has\\} trouble sleeping?  \\\\\n",
       "\t7 & SLQ120 & In the past month, how often did \\{you/SP\\} feel excessively or overly sleepy during the day?                   \\\\\n",
       "\t8 & SLQ300 & What time \\{do you/does SP\\} usually fall asleep on weekdays or workdays?                                       \\\\\n",
       "\t9 & SLQ310 & What time \\{do you/does SP\\} usually wake up on weekdays or workdays?                                           \\\\\n",
       "\t10 & SLQ320 & What time \\{do you/does SP\\} usually fall asleep on weekends or non-workdays?                                   \\\\\n",
       "\t11 & SLQ330 & What time \\{do you/does SP\\} usually wake up on weekends or non-workdays?                                       \\\\\n",
       "\\end{tabular}\n"
      ],
      "text/markdown": [
       "\n",
       "A data.frame: 11 × 2\n",
       "\n",
       "| <!--/--> | Variable.Name &lt;chr&gt; | Variable.Description &lt;chr&gt; |\n",
       "|---|---|---|\n",
       "| 1 | SEQN   | Respondent sequence number.                                                                                    |\n",
       "| 2 | SLD012 | Number of hours usually sleep on weekdays or workdays.                                                         |\n",
       "| 3 | SLD013 | Number of hours usually sleep on weekends or non-workdays.                                                     |\n",
       "| 4 | SLQ030 | In the past 12 months, how often did {you/SP} snore while {you were/s/he was} sleeping?                        |\n",
       "| 5 | SLQ040 | In the past 12 months, how often did {you/SP} snort, gasp, or stop breathing while {you were/s/he was} asleep? |\n",
       "| 6 | SLQ050 | {Have you/Has SP} ever told a doctor or other health professional that {you have/s/he has} trouble sleeping?   |\n",
       "| 7 | SLQ120 | In the past month, how often did {you/SP} feel excessively or overly sleepy during the day?                    |\n",
       "| 8 | SLQ300 | What time {do you/does SP} usually fall asleep on weekdays or workdays?                                        |\n",
       "| 9 | SLQ310 | What time {do you/does SP} usually wake up on weekdays or workdays?                                            |\n",
       "| 10 | SLQ320 | What time {do you/does SP} usually fall asleep on weekends or non-workdays?                                    |\n",
       "| 11 | SLQ330 | What time {do you/does SP} usually wake up on weekends or non-workdays?                                        |\n",
       "\n"
      ],
      "text/plain": [
       "   Variable.Name\n",
       "1  SEQN         \n",
       "2  SLD012       \n",
       "3  SLD013       \n",
       "4  SLQ030       \n",
       "5  SLQ040       \n",
       "6  SLQ050       \n",
       "7  SLQ120       \n",
       "8  SLQ300       \n",
       "9  SLQ310       \n",
       "10 SLQ320       \n",
       "11 SLQ330       \n",
       "   Variable.Description                                                                                          \n",
       "1  Respondent sequence number.                                                                                   \n",
       "2  Number of hours usually sleep on weekdays or workdays.                                                        \n",
       "3  Number of hours usually sleep on weekends or non-workdays.                                                    \n",
       "4  In the past 12 months, how often did {you/SP} snore while {you were/s/he was} sleeping?                       \n",
       "5  In the past 12 months, how often did {you/SP} snort, gasp, or stop breathing while {you were/s/he was} asleep?\n",
       "6  {Have you/Has SP} ever told a doctor or other health professional that {you have/s/he has} trouble sleeping?  \n",
       "7  In the past month, how often did {you/SP} feel excessively or overly sleepy during the day?                   \n",
       "8  What time {do you/does SP} usually fall asleep on weekdays or workdays?                                       \n",
       "9  What time {do you/does SP} usually wake up on weekdays or workdays?                                           \n",
       "10 What time {do you/does SP} usually fall asleep on weekends or non-workdays?                                   \n",
       "11 What time {do you/does SP} usually wake up on weekends or non-workdays?                                       "
      ]
     },
     "metadata": {},
     "output_type": "display_data"
    }
   ],
   "source": [
    "nhanesTableVars('Q', 'SLQ_J')"
   ]
  },
  {
   "cell_type": "code",
   "execution_count": 31,
   "id": "515778d8",
   "metadata": {
    "slideshow": {
     "slide_type": "slide"
    }
   },
   "outputs": [
    {
     "name": "stderr",
     "output_type": "stream",
     "text": [
      "Warning message:\n",
      "“\u001b[1m\u001b[22mRemoved 71 rows containing non-finite values (`stat_bin()`).”\n"
     ]
    },
    {
     "data": {
      "image/png": "[encoded data removed]",
      "text/plain": [
       "plot without title"
      ]
     },
     "metadata": {
      "image/png": {
       "height": 300,
       "width": 600
      }
     },
     "output_type": "display_data"
    }
   ],
   "source": [
    "sl_df <- nhanes(\"SLQ_J\")\n",
    "ggplot(sl_df) + geom_histogram(aes(x = (5 * SLD012 + 2 * SLD013) / 7), bins=24)"
   ]
  },
  {
   "cell_type": "code",
   "execution_count": 32,
   "id": "fae60ec0",
   "metadata": {
    "slideshow": {
     "slide_type": "slide"
    }
   },
   "outputs": [],
   "source": [
    "sl_df <- mutate(sl_df, sleep_score = 100 - ntile(5 * SLD012 + 2 * SLD013, 100))"
   ]
  },
  {
   "cell_type": "code",
   "execution_count": 94,
   "id": "c6f1af06",
   "metadata": {
    "slideshow": {
     "slide_type": "slide"
    }
   },
   "outputs": [],
   "source": [
    "behav_df <- reduce(list(smq_df, diet_df, paq_df, sl_df), left_join, by=\"SEQN\") %>% \n",
    "    mutate(behavior_score = (smoking_score + diet_score + activity_score + sleep_score))"
   ]
  },
  {
   "cell_type": "code",
   "execution_count": 95,
   "id": "4911dbe9",
   "metadata": {},
   "outputs": [
    {
     "name": "stderr",
     "output_type": "stream",
     "text": [
      "\u001b[1m\u001b[22m`stat_bin()` using `bins = 30`. Pick better value with `binwidth`.\n",
      "Warning message:\n",
      "“\u001b[1m\u001b[22mRemoved 1823 rows containing non-finite values (`stat_bin()`).”\n"
     ]
    },
    {
     "data": {
      "image/png": "[encoded data removed]",
      "text/plain": [
       "plot without title"
      ]
     },
     "metadata": {
      "image/png": {
       "height": 300,
       "width": 600
      }
     },
     "output_type": "display_data"
    }
   ],
   "source": [
    "ggplot(behav_df) + geom_histogram(aes(x=behavior_score))"
   ]
  },
  {
   "cell_type": "code",
   "execution_count": null,
   "id": "36ecf125",
   "metadata": {
    "slideshow": {
     "slide_type": "slide"
    }
   },
   "outputs": [],
   "source": []
  },
  {
   "cell_type": "code",
   "execution_count": 102,
   "id": "93d4e63b",
   "metadata": {},
   "outputs": [
    {
     "name": "stderr",
     "output_type": "stream",
     "text": [
      "Warning message:\n",
      "“\u001b[1m\u001b[22mRemoved 7285 rows containing non-finite values (`stat_bin()`).”\n"
     ]
    },
    {
     "data": {
      "image/png": "[encoded data removed]",
      "text/plain": [
       "plot without title"
      ]
     },
     "metadata": {
      "image/png": {
       "height": 300,
       "width": 600
      }
     },
     "output_type": "display_data"
    }
   ],
   "source": [
    "ggplot(combined_df) + geom_histogram(aes(x=lh8_score), bins=50)"
   ]
  },
  {
   "cell_type": "markdown",
   "id": "1e04b963",
   "metadata": {
    "slideshow": {
     "slide_type": "slide"
    }
   },
   "source": [
    "## Correctly accounting for survey weights\n",
    "- Remember that the NHANES data have a complicated weighting procedure. \n",
    "- ([Tutorial](https://wwwn.cdc.gov/nchs/nhanes/tutorials/weighting.aspx))\n",
    "- We will use the built-in survey package to handle survey weights."
   ]
  },
  {
   "cell_type": "code",
   "execution_count": 96,
   "id": "5e44263f",
   "metadata": {
    "slideshow": {
     "slide_type": "slide"
    }
   },
   "outputs": [],
   "source": [
    "library(survey)\n",
    "\n",
    "nhanesDesign <- svydesign(id = ~SDMVPSU,  # Primary Sampling Units (PSU)\n",
    "                          strata  = ~SDMVSTRA, # Stratification used in the survey\n",
    "                          weights = ~WTMEC2YR,   # Survey weights\n",
    "                          nest    = TRUE,      # Whether PSUs are nested within strata\n",
    "                          data    = combined_df)"
   ]
  },
  {
   "cell_type": "code",
   "execution_count": 98,
   "id": "6b13aac4",
   "metadata": {
    "slideshow": {
     "slide_type": "slide"
    }
   },
   "outputs": [],
   "source": [
    "# subset survey design object\n",
    "dfsub = base::subset(nhanesDesign, combined_df$RIDAGEYR>=40)\n",
    "\n",
    "# subset the original dataset\n",
    "filtsub = filter(combined_df, RIDAGEYR>=40)"
   ]
  },
  {
   "cell_type": "markdown",
   "id": "b7222911",
   "metadata": {
    "slideshow": {
     "slide_type": "notes"
    }
   },
   "source": [
    "Let's see what this package does by comparing the adjusted and unadjusted means:"
   ]
  },
  {
   "cell_type": "code",
   "execution_count": 100,
   "id": "a99039b6",
   "metadata": {},
   "outputs": [
    {
     "data": {
      "text/html": [
       "<table class=\"dataframe\">\n",
       "<caption>A data.frame: 1 × 1</caption>\n",
       "<thead>\n",
       "\t<tr><th scope=col>mean(RIDAGEYR, na.rm = T)</th></tr>\n",
       "\t<tr><th scope=col>&lt;dbl&gt;</th></tr>\n",
       "</thead>\n",
       "<tbody>\n",
       "\t<tr><td>61.00515</td></tr>\n",
       "</tbody>\n",
       "</table>\n"
      ],
      "text/latex": [
       "A data.frame: 1 × 1\n",
       "\\begin{tabular}{l}\n",
       " mean(RIDAGEYR, na.rm = T)\\\\\n",
       " <dbl>\\\\\n",
       "\\hline\n",
       "\t 61.00515\\\\\n",
       "\\end{tabular}\n"
      ],
      "text/markdown": [
       "\n",
       "A data.frame: 1 × 1\n",
       "\n",
       "| mean(RIDAGEYR, na.rm = T) &lt;dbl&gt; |\n",
       "|---|\n",
       "| 61.00515 |\n",
       "\n"
      ],
      "text/plain": [
       "  mean(RIDAGEYR, na.rm = T)\n",
       "1 61.00515                 "
      ]
     },
     "metadata": {},
     "output_type": "display_data"
    },
    {
     "data": {
      "text/plain": [
       "           mean     SE\n",
       "RIDAGEYR 58.989 0.4128"
      ]
     },
     "metadata": {},
     "output_type": "display_data"
    }
   ],
   "source": [
    "filtsub %>% summarize(mean(RIDAGEYR, na.rm=T))\n",
    "\n",
    "svymean(~ RIDAGEYR, dfsub, na.rm=TRUE) # adjusted means"
   ]
  },
  {
   "cell_type": "markdown",
   "id": "fedede47",
   "metadata": {
    "slideshow": {
     "slide_type": "notes"
    }
   },
   "source": [
    "big difference!"
   ]
  },
  {
   "cell_type": "markdown",
   "id": "3c980896",
   "metadata": {
    "slideshow": {
     "slide_type": "slide"
    }
   },
   "source": [
    "### Quantiles\n",
    "Similar to means, you get a (slightly) different answer depending on whether you account for weights or not:"
   ]
  },
  {
   "cell_type": "code",
   "execution_count": 103,
   "id": "b11a723a",
   "metadata": {},
   "outputs": [
    {
     "data": {
      "text/html": [
       "<style>\n",
       ".dl-inline {width: auto; margin:0; padding: 0}\n",
       ".dl-inline>dt, .dl-inline>dd {float: none; width: auto; display: inline-block}\n",
       ".dl-inline>dt::after {content: \":\\0020\"; padding-right: .5ex}\n",
       ".dl-inline>dt:not(:first-of-type) {padding-left: .5ex}\n",
       "</style><dl class=dl-inline><dt>25%</dt><dd>43.96875</dd><dt>50%</dt><dd>53.1875</dd><dt>75%</dt><dd>61.5</dd></dl>\n"
      ],
      "text/latex": [
       "\\begin{description*}\n",
       "\\item[25\\textbackslash{}\\%] 43.96875\n",
       "\\item[50\\textbackslash{}\\%] 53.1875\n",
       "\\item[75\\textbackslash{}\\%] 61.5\n",
       "\\end{description*}\n"
      ],
      "text/markdown": [
       "25%\n",
       ":   43.9687550%\n",
       ":   53.187575%\n",
       ":   61.5\n",
       "\n"
      ],
      "text/plain": [
       "     25%      50%      75% \n",
       "43.96875 53.18750 61.50000 "
      ]
     },
     "metadata": {},
     "output_type": "display_data"
    },
    {
     "data": {
      "text/plain": [
       "$lh8_score\n",
       "     quantile   ci.2.5  ci.97.5        se\n",
       "0.25 40.21875 39.12500 41.96875 0.6670930\n",
       "0.5  48.03125 46.84375 49.21875 0.5571326\n",
       "0.75 54.93750 54.06250 55.96875 0.4471722\n",
       "\n",
       "attr(,\"hasci\")\n",
       "[1] TRUE\n",
       "attr(,\"class\")\n",
       "[1] \"newsvyquantile\""
      ]
     },
     "metadata": {},
     "output_type": "display_data"
    }
   ],
   "source": [
    "quantile(combined_df$lh8_score, c(0.25, 0.5, .75), na.rm = TRUE)\n",
    "\n",
    "svyquantile(~ lh8_score, nhanesDesign, quantiles = c(0.25, 0.5, 0.75), na.rm=TRUE)"
   ]
  },
  {
   "cell_type": "markdown",
   "id": "905bb642",
   "metadata": {
    "slideshow": {
     "slide_type": "slide"
    }
   },
   "source": [
    "### Survey regression\n",
    "There is a special type of GLM that we can use to do regression with survey data. Compare:"
   ]
  },
  {
   "cell_type": "code",
   "execution_count": 115,
   "id": "7b3ddb5d",
   "metadata": {
    "slideshow": {
     "slide_type": "-"
    }
   },
   "outputs": [
    {
     "data": {
      "text/plain": [
       "\n",
       "Call:\n",
       "lm(formula = lh8_score ~ RIDAGEYR, data = combined_df)\n",
       "\n",
       "Residuals:\n",
       "    Min      1Q  Median      3Q     Max \n",
       "-33.351  -8.268  -0.050   7.971  38.512 \n",
       "\n",
       "Coefficients:\n",
       "            Estimate Std. Error t value Pr(>|t|)    \n",
       "(Intercept) 42.38475    0.76464   55.43   <2e-16 ***\n",
       "RIDAGEYR     0.20866    0.01452   14.37   <2e-16 ***\n",
       "---\n",
       "Signif. codes:  0 ‘***’ 0.001 ‘**’ 0.01 ‘*’ 0.05 ‘.’ 0.1 ‘ ’ 1\n",
       "\n",
       "Residual standard error: 11.8 on 1967 degrees of freedom\n",
       "  (7285 observations deleted due to missingness)\n",
       "Multiple R-squared:  0.09502,\tAdjusted R-squared:  0.09456 \n",
       "F-statistic: 206.5 on 1 and 1967 DF,  p-value: < 2.2e-16\n"
      ]
     },
     "metadata": {},
     "output_type": "display_data"
    }
   ],
   "source": [
    "lm(lh8_score ~ RIDAGEYR, data = combined_df) %>% summary"
   ]
  },
  {
   "cell_type": "code",
   "execution_count": 114,
   "id": "05ba7ade",
   "metadata": {
    "slideshow": {
     "slide_type": "slide"
    }
   },
   "outputs": [
    {
     "data": {
      "text/plain": [
       "\n",
       "Call:\n",
       "svyglm(formula = lh8_score ~ RIDAGEYR, design = nhanesDesign, \n",
       "    data = combined_df)\n",
       "\n",
       "Survey design:\n",
       "svydesign(id = ~SDMVPSU, strata = ~SDMVSTRA, weights = ~WTMEC2YR, \n",
       "    nest = TRUE, data = combined_df)\n",
       "\n",
       "Coefficients:\n",
       "            Estimate Std. Error t value Pr(>|t|)    \n",
       "(Intercept) 39.17031    0.86075   45.51  < 2e-16 ***\n",
       "RIDAGEYR     0.18077    0.01358   13.31 2.45e-09 ***\n",
       "---\n",
       "Signif. codes:  0 ‘***’ 0.001 ‘**’ 0.01 ‘*’ 0.05 ‘.’ 0.1 ‘ ’ 1\n",
       "\n",
       "(Dispersion parameter for gaussian family taken to be 130.1361)\n",
       "\n",
       "Number of Fisher Scoring iterations: 2\n"
      ]
     },
     "metadata": {},
     "output_type": "display_data"
    }
   ],
   "source": [
    "svyglm(lh8_score ~ RIDAGEYR, design = nhanesDesign, data = combined_df) %>% summary\n",
    "\n",
    "# combined_df %>% colnames"
   ]
  },
  {
   "cell_type": "markdown",
   "id": "2fa28169",
   "metadata": {
    "slideshow": {
     "slide_type": "slide"
    }
   },
   "source": [
    "### Interesting questions we can ask using these scores?"
   ]
  },
  {
   "cell_type": "code",
   "execution_count": 118,
   "id": "f9c18f86",
   "metadata": {},
   "outputs": [
    {
     "name": "stderr",
     "output_type": "stream",
     "text": [
      "Warning message:\n",
      "“\u001b[1m\u001b[22mRemoved 3938 rows containing missing values (`geom_point()`).”\n"
     ]
    },
    {
     "data": {
      "image/png": "[encoded data removed]",
      "text/plain": [
       "plot without title"
      ]
     },
     "metadata": {
      "image/png": {
       "height": 300,
       "width": 600
      }
     },
     "output_type": "display_data"
    }
   ],
   "source": [
    "sdf <- sample_n(combined_df, replace=T, 5000, weights=WTMEC2YR) \n",
    "sdf %>% ggplot + geom_point(aes(x=health_score, y=behavior_score))"
   ]
  },
  {
   "cell_type": "code",
   "execution_count": 119,
   "id": "1486812a",
   "metadata": {
    "slideshow": {
     "slide_type": "slide"
    }
   },
   "outputs": [
    {
     "data": {
      "text/plain": [
       "\n",
       "Call:\n",
       "lm(formula = health_score ~ behavior_score, data = sdf)\n",
       "\n",
       "Residuals:\n",
       "     Min       1Q   Median       3Q      Max \n",
       "-190.302  -45.916    5.005   49.151  143.055 \n",
       "\n",
       "Coefficients:\n",
       "                Estimate Std. Error t value Pr(>|t|)    \n",
       "(Intercept)    217.07707    5.98309  36.282   <2e-16 ***\n",
       "behavior_score   0.04396    0.02844   1.546    0.122    \n",
       "---\n",
       "Signif. codes:  0 ‘***’ 0.001 ‘**’ 0.01 ‘*’ 0.05 ‘.’ 0.1 ‘ ’ 1\n",
       "\n",
       "Residual standard error: 64.63 on 1060 degrees of freedom\n",
       "  (3938 observations deleted due to missingness)\n",
       "Multiple R-squared:  0.002249,\tAdjusted R-squared:  0.001308 \n",
       "F-statistic: 2.389 on 1 and 1060 DF,  p-value: 0.1225\n"
      ]
     },
     "metadata": {},
     "output_type": "display_data"
    }
   ],
   "source": [
    "# how correlated are health_score and behavior_score?\n",
    "lm(health_score ~ behavior_score, sdf) %>% summary"
   ]
  },
  {
   "cell_type": "code",
   "execution_count": 120,
   "id": "c3e21ef5",
   "metadata": {
    "slideshow": {
     "slide_type": "slide"
    }
   },
   "outputs": [
    {
     "name": "stderr",
     "output_type": "stream",
     "text": [
      "Warning message:\n",
      "“\u001b[1m\u001b[22mRemoved 3938 rows containing non-finite values (`stat_boxplot()`).”\n"
     ]
    },
    {
     "data": {
      "image/png": "[encoded data removed]",
      "text/plain": [
       "plot without title"
      ]
     },
     "metadata": {
      "image/png": {
       "height": 300,
       "width": 600
      }
     },
     "output_type": "display_data"
    }
   ],
   "source": [
    "# health scores by age range\n",
    "sdf  %>% mutate(age_q = factor(ntile(RIDAGEYR, 10))) %>% \n",
    "    ggplot + geom_boxplot(aes(x=age_q, y=lh8_score))"
   ]
  },
  {
   "cell_type": "code",
   "execution_count": 271,
   "id": "44334f20",
   "metadata": {
    "slideshow": {
     "slide_type": "slide"
    }
   },
   "outputs": [
    {
     "name": "stderr",
     "output_type": "stream",
     "text": [
      "Warning message:\n",
      "“\u001b[1m\u001b[22mRemoved 3890 rows containing non-finite values (`stat_boxplot()`).”\n"
     ]
    },
    {
     "data": {
      "image/png": "[encoded data removed]",
      "text/plain": [
       "plot without title"
      ]
     },
     "metadata": {
      "image/png": {
       "height": 300,
       "width": 600
      }
     },
     "output_type": "display_data"
    }
   ],
   "source": [
    "# health scores by age range\n",
    "sdf %>% mutate(age_q = cut(RIDAGEYR, seq(10, 100, 10))) %>% \n",
    "    ggplot + geom_boxplot(aes(x=age_q, y=lh8_score))"
   ]
  },
  {
   "cell_type": "code",
   "execution_count": 272,
   "id": "6cafd074",
   "metadata": {
    "slideshow": {
     "slide_type": "slide"
    }
   },
   "outputs": [
    {
     "name": "stderr",
     "output_type": "stream",
     "text": [
      "Warning message:\n",
      "“\u001b[1m\u001b[22mRemoved 3890 rows containing non-finite values (`stat_boxplot()`).”\n"
     ]
    },
    {
     "data": {
      "image/png": "[encoded data removed]",
      "text/plain": [
       "plot without title"
      ]
     },
     "metadata": {
      "image/png": {
       "height": 300,
       "width": 600
      }
     },
     "output_type": "display_data"
    }
   ],
   "source": [
    "# health scores by age range\n",
    "sdf %>% \n",
    "    ggplot + geom_boxplot(aes(x=RIDRETH3, y=lh8_score))"
   ]
  },
  {
   "cell_type": "code",
   "execution_count": 273,
   "id": "17805802",
   "metadata": {
    "slideshow": {
     "slide_type": "slide"
    }
   },
   "outputs": [
    {
     "name": "stderr",
     "output_type": "stream",
     "text": [
      "Warning message:\n",
      "“\u001b[1m\u001b[22mRemoved 3890 rows containing non-finite values (`stat_boxplot()`).”\n"
     ]
    },
    {
     "data": {
      "image/png": "[encoded data removed]",
      "text/plain": [
       "plot without title"
      ]
     },
     "metadata": {
      "image/png": {
       "height": 300,
       "width": 600
      }
     },
     "output_type": "display_data"
    }
   ],
   "source": [
    "# health scores by age range\n",
    "sdf %>% \n",
    "    ggplot + geom_boxplot(aes(x=RIAGENDR, y=lh8_score))"
   ]
  }
 ],
 "metadata": {
  "celltoolbar": "Slideshow",
  "jupytext": {
   "formats": "ipynb,md"
  },
  "kernelspec": {
   "display_name": "R",
   "language": "R",
   "name": "ir"
  },
  "language_info": {
   "codemirror_mode": "r",
   "file_extension": ".r",
   "mimetype": "text/x-r-source",
   "name": "R",
   "pygments_lexer": "r",
   "version": "4.2.1"
  }
 },
 "nbformat": 4,
 "nbformat_minor": 5
}
