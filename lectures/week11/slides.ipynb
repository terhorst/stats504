{
 "cells": [
  {
   "cell_type": "code",
   "execution_count": 1,
   "id": "dfe33910",
   "metadata": {},
   "outputs": [
    {
     "name": "stderr",
     "output_type": "stream",
     "text": [
      "── \u001b[1mAttaching core tidyverse packages\u001b[22m ──────────────────────────────────────────────────────────────────────────────────────── tidyverse 2.0.0 ──\n",
      "\u001b[32m✔\u001b[39m \u001b[34mdplyr    \u001b[39m 1.1.4     \u001b[32m✔\u001b[39m \u001b[34mreadr    \u001b[39m 2.1.5\n",
      "\u001b[32m✔\u001b[39m \u001b[34mforcats  \u001b[39m 1.0.0     \u001b[32m✔\u001b[39m \u001b[34mstringr  \u001b[39m 1.5.1\n",
      "\u001b[32m✔\u001b[39m \u001b[34mggplot2  \u001b[39m 3.5.0     \u001b[32m✔\u001b[39m \u001b[34mtibble   \u001b[39m 3.2.1\n",
      "\u001b[32m✔\u001b[39m \u001b[34mlubridate\u001b[39m 1.9.3     \u001b[32m✔\u001b[39m \u001b[34mtidyr    \u001b[39m 1.3.1\n",
      "\u001b[32m✔\u001b[39m \u001b[34mpurrr    \u001b[39m 1.0.2     \n",
      "── \u001b[1mConflicts\u001b[22m ────────────────────────────────────────────────────────────────────────────────────────────────────────── tidyverse_conflicts() ──\n",
      "\u001b[31m✖\u001b[39m \u001b[34mdplyr\u001b[39m::\u001b[32mfilter()\u001b[39m  masks \u001b[34mstats\u001b[39m::filter()\n",
      "\u001b[31m✖\u001b[39m \u001b[34mpurrr\u001b[39m::\u001b[32mflatten()\u001b[39m masks \u001b[34mjsonlite\u001b[39m::flatten()\n",
      "\u001b[31m✖\u001b[39m \u001b[34mdplyr\u001b[39m::\u001b[32mlag()\u001b[39m     masks \u001b[34mstats\u001b[39m::lag()\n",
      "\u001b[36mℹ\u001b[39m Use the conflicted package (\u001b[3m\u001b[34m<http://conflicted.r-lib.org/>\u001b[39m\u001b[23m) to force all conflicts to become errors\n"
     ]
    }
   ],
   "source": [
    "library(tidyverse)\n",
    "options(repr.plot.width=10, repr.plot.height=6)\n",
    "theme_set(theme_classic())"
   ]
  },
  {
   "cell_type": "markdown",
   "id": "169a3521",
   "metadata": {
    "slideshow": {
     "slide_type": "slide"
    }
   },
   "source": [
    "# STATS 504\n",
    "## Week 11: Power, effect size, reproducibility"
   ]
  },
  {
   "cell_type": "markdown",
   "id": "858b5dea",
   "metadata": {
    "slideshow": {
     "slide_type": "slide"
    }
   },
   "source": [
    "## False positive psychology"
   ]
  },
  {
   "cell_type": "code",
   "execution_count": 17,
   "id": "11429b9b",
   "metadata": {},
   "outputs": [
    {
     "data": {
      "text/plain": [
       "\n",
       "Call:\n",
       "lm(formula = feelold ~ dad + potato, data = .)\n",
       "\n",
       "Residuals:\n",
       "     Min       1Q   Median       3Q      Max \n",
       "-1.07856 -0.45790 -0.05732  0.46778  1.40938 \n",
       "\n",
       "Coefficients:\n",
       "            Estimate Std. Error t value Pr(>|t|)  \n",
       "(Intercept)  0.93189    1.51637   0.615   0.5440  \n",
       "dad          0.02123    0.02796   0.759   0.4542  \n",
       "potato       0.49083    0.21825   2.249   0.0329 *\n",
       "---\n",
       "Signif. codes:  0 ‘***’ 0.001 ‘**’ 0.01 ‘*’ 0.05 ‘.’ 0.1 ‘ ’ 1\n",
       "\n",
       "Residual standard error: 0.5763 on 27 degrees of freedom\n",
       "Multiple R-squared:  0.1594,\tAdjusted R-squared:  0.09709 \n",
       "F-statistic: 2.559 on 2 and 27 DF,  p-value: 0.096\n"
      ]
     },
     "metadata": {},
     "output_type": "display_data"
    }
   ],
   "source": [
    "# fppsy <- readr::read_csv(file = \"http://rpository.com/ds4psy/data/falsePosPsy_all.csv\")\n",
    "filter(fppsy, study == 1, !when64) %>% lm(feelold ~ dad + potato, data = .) %>% summary"
   ]
  },
  {
   "cell_type": "code",
   "execution_count": 164,
   "id": "9bb48859",
   "metadata": {
    "slideshow": {
     "slide_type": "slide"
    }
   },
   "outputs": [
    {
     "data": {
      "text/plain": [
       "            Df Sum Sq Mean Sq F value Pr(>F)  \n",
       "dad          1  0.020  0.0201   0.060 0.8077  \n",
       "cond         1  1.680  1.6797   5.058 0.0329 *\n",
       "Residuals   27  8.967  0.3321                 \n",
       "---\n",
       "Signif. codes:  0 ‘***’ 0.001 ‘**’ 0.01 ‘*’ 0.05 ‘.’ 0.1 ‘ ’ 1"
      ]
     },
     "metadata": {},
     "output_type": "display_data"
    }
   ],
   "source": [
    "# study 1"
   ]
  },
  {
   "cell_type": "code",
   "execution_count": 23,
   "id": "fbb979b4",
   "metadata": {
    "slideshow": {
     "slide_type": "slide"
    }
   },
   "outputs": [
    {
     "data": {
      "text/plain": [
       "\n",
       "Call:\n",
       "lm(formula = aged365 ~ dad + potato, data = .)\n",
       "\n",
       "Residuals:\n",
       "    Min      1Q  Median      3Q     Max \n",
       "-3.0015 -1.1558 -0.2234  0.7194  5.6619 \n",
       "\n",
       "Coefficients:\n",
       "            Estimate Std. Error t value Pr(>|t|)   \n",
       "(Intercept)  9.63921    3.77390   2.554  0.01891 * \n",
       "dad          0.23116    0.07451   3.103  0.00561 **\n",
       "potato      -1.79827    0.92094  -1.953  0.06500 . \n",
       "---\n",
       "Signif. codes:  0 ‘***’ 0.001 ‘**’ 0.01 ‘*’ 0.05 ‘.’ 0.1 ‘ ’ 1\n",
       "\n",
       "Residual standard error: 1.957 on 20 degrees of freedom\n",
       "Multiple R-squared:  0.3365,\tAdjusted R-squared:  0.2701 \n",
       "F-statistic: 5.071 on 2 and 20 DF,  p-value: 0.01655\n"
      ]
     },
     "metadata": {},
     "output_type": "display_data"
    }
   ],
   "source": [
    "# study 2\n",
    "fppsy %>% filter(study == 2, !when64) %>% \n",
    "    lm(aged365 ~ dad + potato, data = .) %>% summary"
   ]
  },
  {
   "cell_type": "markdown",
   "id": "08aa82dd",
   "metadata": {
    "slideshow": {
     "slide_type": "slide"
    }
   },
   "source": [
    "## Researcher DOF\n",
    "\n",
    "How likely is a false positive if I can choose among several dependent variables to report?"
   ]
  },
  {
   "cell_type": "code",
   "execution_count": 44,
   "id": "916622b5",
   "metadata": {
    "slideshow": {
     "slide_type": "slide"
    }
   },
   "outputs": [
    {
     "data": {
      "text/html": [
       "0.1036"
      ],
      "text/latex": [
       "0.1036"
      ],
      "text/markdown": [
       "0.1036"
      ],
      "text/plain": [
       "[1] 0.1036"
      ]
     },
     "metadata": {},
     "output_type": "display_data"
    }
   ],
   "source": [
    "sim.A <- function() {\n",
    "    X <- rnorm(n = 20)\n",
    "    Y <- .5 * X + sqrt(1 - .5^2) * rnorm(n = 20)\n",
    "    p.values <- list(X, Y, (X + Y) / 2) %>% map_dbl(\\(v) t.test(v)$p.value)\n",
    "    min(p.values) < 0.05\n",
    "}\n",
    "\n",
    "replicate(sim.A(), n = 10000) %>% mean"
   ]
  },
  {
   "cell_type": "markdown",
   "id": "fa94d7cd",
   "metadata": {
    "slideshow": {
     "slide_type": "slide"
    }
   },
   "source": [
    "What if I can collect additional data?"
   ]
  },
  {
   "cell_type": "code",
   "execution_count": 59,
   "id": "b7ee08a1",
   "metadata": {},
   "outputs": [
    {
     "data": {
      "text/html": [
       "0.07843"
      ],
      "text/latex": [
       "0.07843"
      ],
      "text/markdown": [
       "0.07843"
      ],
      "text/plain": [
       "[1] 0.07843"
      ]
     },
     "metadata": {},
     "output_type": "display_data"
    }
   ],
   "source": [
    "sim.B <- function() {\n",
    "    X <- rnorm(n = 20)\n",
    "    p.values <- list(X, c(X, rnorm(n = 10))) %>% map_dbl(\\(v) t.test(v)$p.value)\n",
    "    min(p.values) < 0.05\n",
    "}\n",
    "\n",
    "replicate(sim.B(), n = 100000) %>% mean"
   ]
  },
  {
   "cell_type": "markdown",
   "id": "1ca73943",
   "metadata": {
    "slideshow": {
     "slide_type": "slide"
    }
   },
   "source": [
    "## Beauty and sex ratio at birth"
   ]
  },
  {
   "cell_type": "code",
   "execution_count": 62,
   "id": "d6b44645",
   "metadata": {
    "slideshow": {
     "slide_type": "-"
    }
   },
   "outputs": [
    {
     "data": {
      "text/plain": [
       "\n",
       "Call:\n",
       "lm(formula = y ~ x, data = df)\n",
       "\n",
       "Residuals:\n",
       "     1      2      3      4      5 \n",
       "-0.036  0.039 -0.006  0.039 -0.036 \n",
       "\n",
       "Coefficients:\n",
       "            Estimate Std. Error t value Pr(>|t|)   \n",
       "(Intercept)  0.55100    0.04560  12.084  0.00122 **\n",
       "x           -0.01500    0.01375  -1.091  0.35502   \n",
       "---\n",
       "Signif. codes:  0 ‘***’ 0.001 ‘**’ 0.01 ‘*’ 0.05 ‘.’ 0.1 ‘ ’ 1\n",
       "\n",
       "Residual standard error: 0.04347 on 3 degrees of freedom\n",
       "Multiple R-squared:  0.2841,\tAdjusted R-squared:  0.04545 \n",
       "F-statistic:  1.19 on 1 and 3 DF,  p-value: 0.355\n"
      ]
     },
     "metadata": {},
     "output_type": "display_data"
    }
   ],
   "source": [
    "y <- c(0.5, 0.56, 0.5, 0.53, 0.44)\n",
    "x <- 1:5\n",
    "df <- tibble(y = y, x = x)\n",
    "lm(y ~ x, data = df) %>% summary"
   ]
  },
  {
   "cell_type": "code",
   "execution_count": 66,
   "id": "4ef4d896",
   "metadata": {
    "slideshow": {
     "slide_type": "slide"
    }
   },
   "outputs": [
    {
     "name": "stderr",
     "output_type": "stream",
     "text": [
      "\u001b[1m\u001b[22m`geom_smooth()` using formula = 'y ~ x'\n"
     ]
    },
    {
     "data": {
      "image/png": "[encoded data removed]",
      "text/plain": [
       "plot without title"
      ]
     },
     "metadata": {
      "image/png": {
       "height": 360,
       "width": 600
      }
     },
     "output_type": "display_data"
    }
   ],
   "source": [
    "ggplot(df, aes(x=x, y=y)) + geom_col() + geom_smooth(method=\"lm\")"
   ]
  },
  {
   "cell_type": "code",
   "execution_count": 67,
   "id": "b695a69d",
   "metadata": {
    "slideshow": {
     "slide_type": "slide"
    }
   },
   "outputs": [
    {
     "ename": "ERROR",
     "evalue": "Error in library(rstanarm): there is no package called ‘rstanarm’\n",
     "output_type": "error",
     "traceback": [
      "Error in library(rstanarm): there is no package called ‘rstanarm’\nTraceback:\n",
      "1. library(rstanarm)"
     ]
    }
   ],
   "source": [
    "library(rstanarm)\n",
    "\n",
    "fit <- stan_glm(y ~ x,\n",
    "                data = df,\n",
    "                prior = normal(0, .01 / 3), # |beta| <= 0.01 with high prob\n",
    "                family = gaussian())\n",
    "\n",
    "# summary(fit)"
   ]
  },
  {
   "cell_type": "code",
   "execution_count": 68,
   "id": "8b91b9df",
   "metadata": {
    "slideshow": {
     "slide_type": "slide"
    }
   },
   "outputs": [
    {
     "name": "stderr",
     "output_type": "stream",
     "text": [
      "\u001b[1m\u001b[22mNew names:\n",
      "\u001b[36m•\u001b[39m `` -> `...5`\n",
      "\u001b[36m•\u001b[39m `` -> `...6`\n",
      "\u001b[1mRows: \u001b[22m\u001b[34m300\u001b[39m \u001b[1mColumns: \u001b[22m\u001b[34m6\u001b[39m\n",
      "\u001b[36m──\u001b[39m \u001b[1mColumn specification\u001b[22m \u001b[36m───────────────────────────────────────────────────────────────────────────────────────────────────────────────────────────────────────────────────\u001b[39m\n",
      "\u001b[1mDelimiter:\u001b[22m \",\"\n",
      "\u001b[31mchr\u001b[39m (1): Person\n",
      "\u001b[32mdbl\u001b[39m (3): sons, daughters, year\n",
      "\u001b[33mlgl\u001b[39m (2): ...5, ...6\n",
      "\n",
      "\u001b[36mℹ\u001b[39m Use `spec()` to retrieve the full column specification for this data.\n",
      "\u001b[36mℹ\u001b[39m Specify the column types or set `show_col_types = FALSE` to quiet this message.\n"
     ]
    },
    {
     "name": "stdout",
     "output_type": "stream",
     "text": [
      "\u001b[90m# A tibble: 300 × 6\u001b[39m\n",
      "   Person              sons daughters  year ...5  ...6 \n",
      "   \u001b[3m\u001b[90m<chr>\u001b[39m\u001b[23m              \u001b[3m\u001b[90m<dbl>\u001b[39m\u001b[23m     \u001b[3m\u001b[90m<dbl>\u001b[39m\u001b[23m \u001b[3m\u001b[90m<dbl>\u001b[39m\u001b[23m \u001b[3m\u001b[90m<lgl>\u001b[39m\u001b[23m \u001b[3m\u001b[90m<lgl>\u001b[39m\u001b[23m\n",
      "\u001b[90m 1\u001b[39m Amy Brenneman          1         1  \u001b[4m1\u001b[24m995 \u001b[31mNA\u001b[39m    \u001b[31mNA\u001b[39m   \n",
      "\u001b[90m 2\u001b[39m Babyface               2         0  \u001b[4m1\u001b[24m995 \u001b[31mNA\u001b[39m    \u001b[31mNA\u001b[39m   \n",
      "\u001b[90m 3\u001b[39m Brad Pitt              0         1  \u001b[4m1\u001b[24m995 \u001b[31mNA\u001b[39m    \u001b[31mNA\u001b[39m   \n",
      "\u001b[90m 4\u001b[39m Cara Oculato          \u001b[31mNA\u001b[39m        \u001b[31mNA\u001b[39m  \u001b[4m1\u001b[24m995 \u001b[31mNA\u001b[39m    \u001b[31mNA\u001b[39m   \n",
      "\u001b[90m 5\u001b[39m Carlos Betancourt      0         0  \u001b[4m1\u001b[24m995 \u001b[31mNA\u001b[39m    \u001b[31mNA\u001b[39m   \n",
      "\u001b[90m 6\u001b[39m Chiara Mastroianni     1         1  \u001b[4m1\u001b[24m995 \u001b[31mNA\u001b[39m    \u001b[31mNA\u001b[39m   \n",
      "\u001b[90m 7\u001b[39m Claudia Schiffer       1         1  \u001b[4m1\u001b[24m995 \u001b[31mNA\u001b[39m    \u001b[31mNA\u001b[39m   \n",
      "\u001b[90m 8\u001b[39m Courteney Cox          0         1  \u001b[4m1\u001b[24m995 \u001b[31mNA\u001b[39m    \u001b[31mNA\u001b[39m   \n",
      "\u001b[90m 9\u001b[39m Debrah Farentino       0         2  \u001b[4m1\u001b[24m995 \u001b[31mNA\u001b[39m    \u001b[31mNA\u001b[39m   \n",
      "\u001b[90m10\u001b[39m Demi Moore             0         3  \u001b[4m1\u001b[24m995 \u001b[31mNA\u001b[39m    \u001b[31mNA\u001b[39m   \n",
      "\u001b[90m# ℹ 290 more rows\u001b[39m\n"
     ]
    }
   ],
   "source": [
    "# library(readxl)\n",
    "# download.file('http://stat.columbia.edu/~gelman/research/beautiful/beautiful%20people%20kids2.xls', 'bp.xls')\n",
    "# read_excel('bp.xls')\n",
    "bp <- read_csv(\"bp.csv\") %>% print"
   ]
  },
  {
   "cell_type": "code",
   "execution_count": 83,
   "id": "670ebb25",
   "metadata": {
    "slideshow": {
     "slide_type": "slide"
    }
   },
   "outputs": [
    {
     "name": "stderr",
     "output_type": "stream",
     "text": [
      "Warning message in X_sig/mu:\n",
      "“longer object length is not a multiple of shorter object length”\n"
     ]
    },
    {
     "data": {
      "text/html": [
       "Inf"
      ],
      "text/latex": [
       "Inf"
      ],
      "text/markdown": [
       "Inf"
      ],
      "text/plain": [
       "[1] Inf"
      ]
     },
     "metadata": {},
     "output_type": "display_data"
    }
   ],
   "source": [
    "E.type.M <- function(mu) {\n",
    "    X <- rnorm(n = 100000, mean = mu)\n",
    "    sig <- abs(X) > 1.96\n",
    "    X_sig <- X[sig]\n",
    "    mean(abs(X_sig / mu))\n",
    "}\n",
    "\n",
    "x <- seq(0, 1, by=0.001)\n",
    "E.type.M(x)"
   ]
  },
  {
   "cell_type": "code",
   "execution_count": 76,
   "id": "8438395c",
   "metadata": {
    "slideshow": {
     "slide_type": "slide"
    }
   },
   "outputs": [
    {
     "data": {
      "image/png": "[encoded data removed]",
      "text/plain": [
       "plot without title"
      ]
     },
     "metadata": {
      "image/png": {
       "height": 360,
       "width": 600
      }
     },
     "output_type": "display_data"
    }
   ],
   "source": [
    "library(ggplot2)\n",
    "library(dplyr)\n",
    "\n",
    "# Generate data for normal PDFs\n",
    "x_values <- seq(-4, 6, by = 0.01)\n",
    "normal_data <- expand.grid(x = x_values, mean = c(0, .5)) %>%\n",
    "  mutate(density = dnorm(x, mean = mean, sd = 1),\n",
    "         color = if_else(mean == 0, \"blue\", \"red\"))\n",
    "\n",
    "# Plot\n",
    "ggplot(normal_data, aes(x = x, y = density, group = factor(mean), fill = factor(mean))) +\n",
    "  geom_line(alpha = 0.5, aes(color = factor(mean))) +\n",
    "  geom_vline(xintercept = c(-2, 2)) +\n",
    "  scale_fill_manual(values = c(\"0\" = \"blue\", \"2\" = \"red\")) +\n",
    "  scale_color_manual(values = c(\"0\" = \"blue\", \"2\" = \"red\")) +\n",
    "  labs(title = \"Overlapping Normal PDFs\", x = \"X\", y = \"Density\") +\n",
    "  theme_classic() +\n",
    "  guides(fill = FALSE, color = FALSE) # Remove legend"
   ]
  },
  {
   "cell_type": "code",
   "execution_count": 2,
   "id": "0de352d3",
   "metadata": {
    "slideshow": {
     "slide_type": "notes"
    }
   },
   "outputs": [
    {
     "name": "stderr",
     "output_type": "stream",
     "text": [
      "── \u001b[1mAttaching core tidyverse packages\u001b[22m ────────────────────────────────────────────────────────────────────────── tidyverse 2.0.0 ──\n",
      "\u001b[32m✔\u001b[39m \u001b[34mdplyr    \u001b[39m 1.1.4     \u001b[32m✔\u001b[39m \u001b[34mreadr    \u001b[39m 2.1.5\n",
      "\u001b[32m✔\u001b[39m \u001b[34mforcats  \u001b[39m 1.0.0     \u001b[32m✔\u001b[39m \u001b[34mstringr  \u001b[39m 1.5.1\n",
      "\u001b[32m✔\u001b[39m \u001b[34mggplot2  \u001b[39m 3.5.0     \u001b[32m✔\u001b[39m \u001b[34mtibble   \u001b[39m 3.2.1\n",
      "\u001b[32m✔\u001b[39m \u001b[34mlubridate\u001b[39m 1.9.3     \u001b[32m✔\u001b[39m \u001b[34mtidyr    \u001b[39m 1.3.1\n",
      "\u001b[32m✔\u001b[39m \u001b[34mpurrr    \u001b[39m 1.0.2     \n",
      "── \u001b[1mConflicts\u001b[22m ──────────────────────────────────────────────────────────────────────────────────────────── tidyverse_conflicts() ──\n",
      "\u001b[31m✖\u001b[39m \u001b[34mdplyr\u001b[39m::\u001b[32mfilter()\u001b[39m  masks \u001b[34mstats\u001b[39m::filter()\n",
      "\u001b[31m✖\u001b[39m \u001b[34mpurrr\u001b[39m::\u001b[32mflatten()\u001b[39m masks \u001b[34mjsonlite\u001b[39m::flatten()\n",
      "\u001b[31m✖\u001b[39m \u001b[34mdplyr\u001b[39m::\u001b[32mlag()\u001b[39m     masks \u001b[34mstats\u001b[39m::lag()\n",
      "\u001b[36mℹ\u001b[39m Use the conflicted package (\u001b[3m\u001b[34m<http://conflicted.r-lib.org/>\u001b[39m\u001b[23m) to force all conflicts to become errors\n"
     ]
    }
   ],
   "source": [
    "library(tidyverse)"
   ]
  },
  {
   "cell_type": "markdown",
   "id": "a62fbe36",
   "metadata": {
    "slideshow": {
     "slide_type": "slide"
    }
   },
   "source": [
    "## Are female hurricanes more dangerous than male hurricanes?"
   ]
  },
  {
   "cell_type": "code",
   "execution_count": 3,
   "id": "1dce9c13",
   "metadata": {
    "slideshow": {
     "slide_type": "-"
    }
   },
   "outputs": [
    {
     "name": "stderr",
     "output_type": "stream",
     "text": [
      "\u001b[1mRows: \u001b[22m\u001b[34m98\u001b[39m \u001b[1mColumns: \u001b[22m\u001b[34m14\u001b[39m\n",
      "\u001b[36m──\u001b[39m \u001b[1mColumn specification\u001b[22m \u001b[36m──────────────────────────────────────────────────────────────────────────────────────────────────────────\u001b[39m\n",
      "\u001b[1mDelimiter:\u001b[22m \",\"\n",
      "\u001b[31mchr\u001b[39m  (3): Year, Name, Source\n",
      "\u001b[32mdbl\u001b[39m (11): MasFem, MinPressure_before, Minpressure_Updated 2014, Gender_MF, C...\n",
      "\n",
      "\u001b[36mℹ\u001b[39m Use `spec()` to retrieve the full column specification for this data.\n",
      "\u001b[36mℹ\u001b[39m Specify the column types or set `show_col_types = FALSE` to quiet this message.\n"
     ]
    }
   ],
   "source": [
    "# hur.data <- \"https://www.pnas.org/action/downloadSupplement?doi=10.1073%2Fpnas.1402786111&file=pnas.1402786111.sd01.xlsx\"\n",
    "# download.file(hur.data, \"pnas.1402786111.sd01.xlsx\")\n",
    "# hurricane <- readxl::read_excel('pnas.1402786111.sd01.xlsx')\n",
    "# write_csv(hurricane, \"hurricane.csv\")\n",
    "hurricane <- read_csv(\"https://raw.githubusercontent.com/terhorst/stats504/main/lectures/week11/hurricane.csv\")"
   ]
  },
  {
   "cell_type": "code",
   "execution_count": 4,
   "id": "4a7cf402",
   "metadata": {
    "slideshow": {
     "slide_type": "slide"
    }
   },
   "outputs": [
    {
     "data": {
      "text/html": [
       "<style>\n",
       ".list-inline {list-style: none; margin:0; padding: 0}\n",
       ".list-inline>li {display: inline-block}\n",
       ".list-inline>li:not(:last-child)::after {content: \"\\00b7\"; padding: 0 .5ex}\n",
       "</style>\n",
       "<ol class=list-inline><li>'Year'</li><li>'Name'</li><li>'MasFem'</li><li>'MinPressure_before'</li><li>'Minpressure_Updated 2014'</li><li>'Gender_MF'</li><li>'Category'</li><li>'alldeaths'</li><li>'NDAM'</li><li>'Elapsed Yrs'</li><li>'Source'</li><li>'ZMasFem'</li><li>'ZMinPressure_A'</li><li>'ZNDAM'</li></ol>\n"
      ],
      "text/latex": [
       "\\begin{enumerate*}\n",
       "\\item 'Year'\n",
       "\\item 'Name'\n",
       "\\item 'MasFem'\n",
       "\\item 'MinPressure\\_before'\n",
       "\\item 'Minpressure\\_Updated 2014'\n",
       "\\item 'Gender\\_MF'\n",
       "\\item 'Category'\n",
       "\\item 'alldeaths'\n",
       "\\item 'NDAM'\n",
       "\\item 'Elapsed Yrs'\n",
       "\\item 'Source'\n",
       "\\item 'ZMasFem'\n",
       "\\item 'ZMinPressure\\_A'\n",
       "\\item 'ZNDAM'\n",
       "\\end{enumerate*}\n"
      ],
      "text/markdown": [
       "1. 'Year'\n",
       "2. 'Name'\n",
       "3. 'MasFem'\n",
       "4. 'MinPressure_before'\n",
       "5. 'Minpressure_Updated 2014'\n",
       "6. 'Gender_MF'\n",
       "7. 'Category'\n",
       "8. 'alldeaths'\n",
       "9. 'NDAM'\n",
       "10. 'Elapsed Yrs'\n",
       "11. 'Source'\n",
       "12. 'ZMasFem'\n",
       "13. 'ZMinPressure_A'\n",
       "14. 'ZNDAM'\n",
       "\n",
       "\n"
      ],
      "text/plain": [
       " [1] \"Year\"                     \"Name\"                    \n",
       " [3] \"MasFem\"                   \"MinPressure_before\"      \n",
       " [5] \"Minpressure_Updated 2014\" \"Gender_MF\"               \n",
       " [7] \"Category\"                 \"alldeaths\"               \n",
       " [9] \"NDAM\"                     \"Elapsed Yrs\"             \n",
       "[11] \"Source\"                   \"ZMasFem\"                 \n",
       "[13] \"ZMinPressure_A\"           \"ZNDAM\"                   "
      ]
     },
     "metadata": {},
     "output_type": "display_data"
    }
   ],
   "source": [
    "hurricane %>% colnames "
   ]
  },
  {
   "cell_type": "code",
   "execution_count": 5,
   "id": "7b68de92",
   "metadata": {
    "slideshow": {
     "slide_type": "slide"
    }
   },
   "outputs": [],
   "source": [
    "hurricane_data <- hurricane %>%\n",
    "    # rename some variables\n",
    "    rename(\n",
    "        year = Year,\n",
    "        name = Name,\n",
    "        dam = NDAM,\n",
    "        death = alldeaths,\n",
    "        female = Gender_MF,\n",
    "        masfem = MasFem,\n",
    "        category = Category,\n",
    "        pressure = `Minpressure_Updated 2014`,\n",
    "    ) %>%\n",
    "    # create new variables\n",
    "    # which are relevant later on\n",
    "    mutate(\n",
    "        post = ifelse(year>1979, 1, 0),\n",
    "        zcat = as.numeric(scale(category)),\n",
    "        zpressure = -scale(pressure),\n",
    "    )"
   ]
  },
  {
   "cell_type": "markdown",
   "id": "9e39d9ba",
   "metadata": {
    "slideshow": {
     "slide_type": "slide"
    }
   },
   "source": [
    "### Reproducing the main result"
   ]
  },
  {
   "cell_type": "code",
   "execution_count": 6,
   "id": "aa07058c",
   "metadata": {
    "slideshow": {
     "slide_type": "slide"
    }
   },
   "outputs": [],
   "source": [
    "df.filtered = hurricane_data %>% \n",
    "  filter(name != \"Katrina\" & name != \"Audrey\")"
   ]
  },
  {
   "cell_type": "code",
   "execution_count": 7,
   "id": "10fbb3fc",
   "metadata": {
    "slideshow": {
     "slide_type": "slide"
    }
   },
   "outputs": [
    {
     "data": {
      "text/html": [
       "<table class=\"dataframe\">\n",
       "<caption>A tibble: 1 × 10</caption>\n",
       "<thead>\n",
       "\t<tr><th scope=col>masfem_mean</th><th scope=col>masfem_sd</th><th scope=col>death_mean</th><th scope=col>death_sd</th><th scope=col>pressure_mean</th><th scope=col>pressure_sd</th><th scope=col>category_mean</th><th scope=col>category_sd</th><th scope=col>dam_mean</th><th scope=col>dam_sd</th></tr>\n",
       "\t<tr><th scope=col>&lt;dbl&gt;</th><th scope=col>&lt;dbl&gt;</th><th scope=col>&lt;dbl&gt;</th><th scope=col>&lt;dbl&gt;</th><th scope=col>&lt;dbl&gt;</th><th scope=col>&lt;dbl&gt;</th><th scope=col>&lt;dbl&gt;</th><th scope=col>&lt;dbl&gt;</th><th scope=col>&lt;dbl&gt;</th><th scope=col>&lt;dbl&gt;</th></tr>\n",
       "</thead>\n",
       "<tbody>\n",
       "\t<tr><td>6.780797</td><td>3.227222</td><td>20.65217</td><td>40.90419</td><td>964.913</td><td>19.06533</td><td>2.086957</td><td>1.055099</td><td>7269.783</td><td>12934.09</td></tr>\n",
       "</tbody>\n",
       "</table>\n"
      ],
      "text/latex": [
       "A tibble: 1 × 10\n",
       "\\begin{tabular}{llllllllll}\n",
       " masfem\\_mean & masfem\\_sd & death\\_mean & death\\_sd & pressure\\_mean & pressure\\_sd & category\\_mean & category\\_sd & dam\\_mean & dam\\_sd\\\\\n",
       " <dbl> & <dbl> & <dbl> & <dbl> & <dbl> & <dbl> & <dbl> & <dbl> & <dbl> & <dbl>\\\\\n",
       "\\hline\n",
       "\t 6.780797 & 3.227222 & 20.65217 & 40.90419 & 964.913 & 19.06533 & 2.086957 & 1.055099 & 7269.783 & 12934.09\\\\\n",
       "\\end{tabular}\n"
      ],
      "text/markdown": [
       "\n",
       "A tibble: 1 × 10\n",
       "\n",
       "| masfem_mean &lt;dbl&gt; | masfem_sd &lt;dbl&gt; | death_mean &lt;dbl&gt; | death_sd &lt;dbl&gt; | pressure_mean &lt;dbl&gt; | pressure_sd &lt;dbl&gt; | category_mean &lt;dbl&gt; | category_sd &lt;dbl&gt; | dam_mean &lt;dbl&gt; | dam_sd &lt;dbl&gt; |\n",
       "|---|---|---|---|---|---|---|---|---|---|\n",
       "| 6.780797 | 3.227222 | 20.65217 | 40.90419 | 964.913 | 19.06533 | 2.086957 | 1.055099 | 7269.783 | 12934.09 |\n",
       "\n"
      ],
      "text/plain": [
       "  masfem_mean masfem_sd death_mean death_sd pressure_mean pressure_sd\n",
       "1 6.780797    3.227222  20.65217   40.90419 964.913       19.06533   \n",
       "  category_mean category_sd dam_mean dam_sd  \n",
       "1 2.086957      1.055099    7269.783 12934.09"
      ]
     },
     "metadata": {},
     "output_type": "display_data"
    }
   ],
   "source": [
    "df.filtered %>% summarize(across(c(masfem, death, pressure, category, dam), list(mean=mean, sd=sd)))"
   ]
  },
  {
   "cell_type": "code",
   "execution_count": 8,
   "id": "b5224414",
   "metadata": {
    "slideshow": {
     "slide_type": "slide"
    }
   },
   "outputs": [
    {
     "name": "stderr",
     "output_type": "stream",
     "text": [
      "\n",
      "Attaching package: ‘MASS’\n",
      "\n",
      "\n",
      "The following object is masked from ‘package:dplyr’:\n",
      "\n",
      "    select\n",
      "\n",
      "\n"
     ]
    },
    {
     "data": {
      "text/plain": [
       "\n",
       "Call:\n",
       "glm.nb(formula = death ~ masfem * dam + masfem * pressure, data = df.filtered, \n",
       "    init.theta = 0.7867893292, link = log)\n",
       "\n",
       "Deviance Residuals: \n",
       "    Min       1Q   Median       3Q      Max  \n",
       "-2.4961  -1.0440  -0.4778   0.2650   2.6012  \n",
       "\n",
       "Coefficients:\n",
       "                  Estimate Std. Error z value Pr(>|z|)    \n",
       "(Intercept)      6.994e+01  1.945e+01   3.596 0.000323 ***\n",
       "masfem          -5.970e+00  2.455e+00  -2.432 0.014999 *  \n",
       "dam             -3.820e-05  2.852e-05  -1.339 0.180442    \n",
       "pressure        -6.987e-02  2.000e-02  -3.493 0.000478 ***\n",
       "masfem:dam       1.588e-05  3.636e-06   4.368 1.25e-05 ***\n",
       "masfem:pressure  6.108e-03  2.527e-03   2.417 0.015643 *  \n",
       "---\n",
       "Signif. codes:  0 ‘***’ 0.001 ‘**’ 0.01 ‘*’ 0.05 ‘.’ 0.1 ‘ ’ 1\n",
       "\n",
       "(Dispersion parameter for Negative Binomial(0.7868) family taken to be 1)\n",
       "\n",
       "    Null deviance: 180.03  on 91  degrees of freedom\n",
       "Residual deviance: 102.90  on 86  degrees of freedom\n",
       "AIC: 660.74\n",
       "\n",
       "Number of Fisher Scoring iterations: 1\n",
       "\n",
       "\n",
       "              Theta:  0.787 \n",
       "          Std. Err.:  0.120 \n",
       "\n",
       " 2 x log-likelihood:  -646.736 "
      ]
     },
     "metadata": {},
     "output_type": "display_data"
    }
   ],
   "source": [
    "library(MASS)\n",
    "\n",
    "fit = glm.nb(\n",
    "  death ~ masfem * dam + masfem * pressure,\n",
    "  data = df.filtered,\n",
    ")\n",
    "\n",
    "summary(fit)"
   ]
  },
  {
   "cell_type": "code",
   "execution_count": 9,
   "id": "26d6e724",
   "metadata": {},
   "outputs": [
    {
     "name": "stderr",
     "output_type": "stream",
     "text": [
      "Loading required package: nlme\n",
      "\n",
      "\n",
      "Attaching package: ‘nlme’\n",
      "\n",
      "\n",
      "The following object is masked from ‘package:dplyr’:\n",
      "\n",
      "    collapse\n",
      "\n",
      "\n",
      "This is mgcv 1.8-40. For overview type 'help(\"mgcv-package\")'.\n",
      "\n"
     ]
    },
    {
     "data": {
      "text/html": [
       "<table class=\"dataframe\">\n",
       "<caption>A tibble: 6 × 5</caption>\n",
       "<thead>\n",
       "\t<tr><th scope=col>term</th><th scope=col>estimate</th><th scope=col>std.error</th><th scope=col>statistic</th><th scope=col>p.value</th></tr>\n",
       "\t<tr><th scope=col>&lt;chr&gt;</th><th scope=col>&lt;dbl&gt;</th><th scope=col>&lt;dbl&gt;</th><th scope=col>&lt;dbl&gt;</th><th scope=col>&lt;dbl&gt;</th></tr>\n",
       "</thead>\n",
       "<tbody>\n",
       "\t<tr><td>(Intercept)    </td><td> 7.014482e+01</td><td>2.002977e+01</td><td> 3.502028</td><td>4.617313e-04</td></tr>\n",
       "\t<tr><td>masfem         </td><td>-5.986416e+00</td><td>2.528981e+00</td><td>-2.367126</td><td>1.792683e-02</td></tr>\n",
       "\t<tr><td>dam            </td><td>-3.845306e-05</td><td>2.945549e-05</td><td>-1.305463</td><td>1.917351e-01</td></tr>\n",
       "\t<tr><td>pressure       </td><td>-7.008065e-02</td><td>2.060045e-02</td><td>-3.401899</td><td>6.691936e-04</td></tr>\n",
       "\t<tr><td>masfem:dam     </td><td> 1.593219e-05</td><td>3.755669e-06</td><td> 4.242169</td><td>2.213695e-05</td></tr>\n",
       "\t<tr><td>masfem:pressure</td><td> 6.123656e-03</td><td>2.603217e-03</td><td> 2.352342</td><td>1.865563e-02</td></tr>\n",
       "</tbody>\n",
       "</table>\n"
      ],
      "text/latex": [
       "A tibble: 6 × 5\n",
       "\\begin{tabular}{lllll}\n",
       " term & estimate & std.error & statistic & p.value\\\\\n",
       " <chr> & <dbl> & <dbl> & <dbl> & <dbl>\\\\\n",
       "\\hline\n",
       "\t (Intercept)     &  7.014482e+01 & 2.002977e+01 &  3.502028 & 4.617313e-04\\\\\n",
       "\t masfem          & -5.986416e+00 & 2.528981e+00 & -2.367126 & 1.792683e-02\\\\\n",
       "\t dam             & -3.845306e-05 & 2.945549e-05 & -1.305463 & 1.917351e-01\\\\\n",
       "\t pressure        & -7.008065e-02 & 2.060045e-02 & -3.401899 & 6.691936e-04\\\\\n",
       "\t masfem:dam      &  1.593219e-05 & 3.755669e-06 &  4.242169 & 2.213695e-05\\\\\n",
       "\t masfem:pressure &  6.123656e-03 & 2.603217e-03 &  2.352342 & 1.865563e-02\\\\\n",
       "\\end{tabular}\n"
      ],
      "text/markdown": [
       "\n",
       "A tibble: 6 × 5\n",
       "\n",
       "| term &lt;chr&gt; | estimate &lt;dbl&gt; | std.error &lt;dbl&gt; | statistic &lt;dbl&gt; | p.value &lt;dbl&gt; |\n",
       "|---|---|---|---|---|\n",
       "| (Intercept)     |  7.014482e+01 | 2.002977e+01 |  3.502028 | 4.617313e-04 |\n",
       "| masfem          | -5.986416e+00 | 2.528981e+00 | -2.367126 | 1.792683e-02 |\n",
       "| dam             | -3.845306e-05 | 2.945549e-05 | -1.305463 | 1.917351e-01 |\n",
       "| pressure        | -7.008065e-02 | 2.060045e-02 | -3.401899 | 6.691936e-04 |\n",
       "| masfem:dam      |  1.593219e-05 | 3.755669e-06 |  4.242169 | 2.213695e-05 |\n",
       "| masfem:pressure |  6.123656e-03 | 2.603217e-03 |  2.352342 | 1.865563e-02 |\n",
       "\n"
      ],
      "text/plain": [
       "  term            estimate      std.error    statistic p.value     \n",
       "1 (Intercept)      7.014482e+01 2.002977e+01  3.502028 4.617313e-04\n",
       "2 masfem          -5.986416e+00 2.528981e+00 -2.367126 1.792683e-02\n",
       "3 dam             -3.845306e-05 2.945549e-05 -1.305463 1.917351e-01\n",
       "4 pressure        -7.008065e-02 2.060045e-02 -3.401899 6.691936e-04\n",
       "5 masfem:dam       1.593219e-05 3.755669e-06  4.242169 2.213695e-05\n",
       "6 masfem:pressure  6.123656e-03 2.603217e-03  2.352342 1.865563e-02"
      ]
     },
     "metadata": {},
     "output_type": "display_data"
    }
   ],
   "source": [
    "library(mgcv)\n",
    "\n",
    "fit = gam(\n",
    "  death ~ masfem * dam + masfem * pressure,\n",
    "  data = df.filtered,\n",
    "  family = \"nb\"\n",
    ")\n",
    "\n",
    "broom::tidy(fit, TRUE)"
   ]
  },
  {
   "cell_type": "markdown",
   "id": "36f64b2b",
   "metadata": {
    "slideshow": {
     "slide_type": "slide"
    }
   },
   "source": [
    "### What decisions did we make when fitting this model?\n",
    "- Filtering: exclude female hurricanes that caused a lot of deaths.\n",
    "- Choice of regression model\n",
    "- Specification of regression model\n",
    "- How is everything measured?"
   ]
  },
  {
   "cell_type": "code",
   "execution_count": 10,
   "id": "ffb3db6f",
   "metadata": {
    "slideshow": {
     "slide_type": "slide"
    }
   },
   "outputs": [
    {
     "data": {
      "text/html": [
       "<table class=\"dataframe\">\n",
       "<caption>A tibble: 0 × 1</caption>\n",
       "<thead>\n",
       "\t<tr><th scope=col>term</th></tr>\n",
       "\t<tr><th scope=col>&lt;chr&gt;</th></tr>\n",
       "</thead>\n",
       "<tbody>\n",
       "</tbody>\n",
       "</table>\n"
      ],
      "text/latex": [
       "A tibble: 0 × 1\n",
       "\\begin{tabular}{l}\n",
       " term\\\\\n",
       " <chr>\\\\\n",
       "\\hline\n",
       "\\end{tabular}\n"
      ],
      "text/markdown": [
       "\n",
       "A tibble: 0 × 1\n",
       "\n",
       "| term &lt;chr&gt; |\n",
       "|---|\n",
       "\n"
      ],
      "text/plain": [
       "     term"
      ]
     },
     "metadata": {},
     "output_type": "display_data"
    }
   ],
   "source": [
    "library(mgcv)\n",
    "fit = mgcv::gam(\n",
    "  death ~ pressure * masfem + pressure * dam,\n",
    "  data = df.filtered,\n",
    ")\n",
    "\n",
    "broom::tidy(fit)"
   ]
  },
  {
   "cell_type": "code",
   "execution_count": 11,
   "id": "1209fc22",
   "metadata": {},
   "outputs": [
    {
     "data": {
      "text/html": [
       "<table class=\"dataframe\">\n",
       "<caption>A tibble: 6 × 5</caption>\n",
       "<thead>\n",
       "\t<tr><th scope=col>term</th><th scope=col>estimate</th><th scope=col>std.error</th><th scope=col>statistic</th><th scope=col>p.value</th></tr>\n",
       "\t<tr><th scope=col>&lt;chr&gt;</th><th scope=col>&lt;dbl&gt;</th><th scope=col>&lt;dbl&gt;</th><th scope=col>&lt;dbl&gt;</th><th scope=col>&lt;dbl&gt;</th></tr>\n",
       "</thead>\n",
       "<tbody>\n",
       "\t<tr><td>(Intercept)    </td><td> 5.608494e+01</td><td>4.588775e+00</td><td> 12.222204</td><td>2.365829e-34</td></tr>\n",
       "\t<tr><td>pressure       </td><td>-5.633584e-02</td><td>4.823911e-03</td><td>-11.678458</td><td>1.642479e-31</td></tr>\n",
       "\t<tr><td>masfem         </td><td>-1.496886e+00</td><td>4.899877e-01</td><td> -3.054947</td><td>2.251002e-03</td></tr>\n",
       "\t<tr><td>dam            </td><td>-1.568298e-03</td><td>9.384560e-05</td><td>-16.711473</td><td>1.081310e-62</td></tr>\n",
       "\t<tr><td>pressure:masfem</td><td> 1.632394e-03</td><td>5.156723e-04</td><td>  3.165564</td><td>1.547827e-03</td></tr>\n",
       "\t<tr><td>pressure:dam   </td><td> 1.693970e-06</td><td>9.960861e-08</td><td> 17.006262</td><td>7.379859e-65</td></tr>\n",
       "</tbody>\n",
       "</table>\n"
      ],
      "text/latex": [
       "A tibble: 6 × 5\n",
       "\\begin{tabular}{lllll}\n",
       " term & estimate & std.error & statistic & p.value\\\\\n",
       " <chr> & <dbl> & <dbl> & <dbl> & <dbl>\\\\\n",
       "\\hline\n",
       "\t (Intercept)     &  5.608494e+01 & 4.588775e+00 &  12.222204 & 2.365829e-34\\\\\n",
       "\t pressure        & -5.633584e-02 & 4.823911e-03 & -11.678458 & 1.642479e-31\\\\\n",
       "\t masfem          & -1.496886e+00 & 4.899877e-01 &  -3.054947 & 2.251002e-03\\\\\n",
       "\t dam             & -1.568298e-03 & 9.384560e-05 & -16.711473 & 1.081310e-62\\\\\n",
       "\t pressure:masfem &  1.632394e-03 & 5.156723e-04 &   3.165564 & 1.547827e-03\\\\\n",
       "\t pressure:dam    &  1.693970e-06 & 9.960861e-08 &  17.006262 & 7.379859e-65\\\\\n",
       "\\end{tabular}\n"
      ],
      "text/markdown": [
       "\n",
       "A tibble: 6 × 5\n",
       "\n",
       "| term &lt;chr&gt; | estimate &lt;dbl&gt; | std.error &lt;dbl&gt; | statistic &lt;dbl&gt; | p.value &lt;dbl&gt; |\n",
       "|---|---|---|---|---|\n",
       "| (Intercept)     |  5.608494e+01 | 4.588775e+00 |  12.222204 | 2.365829e-34 |\n",
       "| pressure        | -5.633584e-02 | 4.823911e-03 | -11.678458 | 1.642479e-31 |\n",
       "| masfem          | -1.496886e+00 | 4.899877e-01 |  -3.054947 | 2.251002e-03 |\n",
       "| dam             | -1.568298e-03 | 9.384560e-05 | -16.711473 | 1.081310e-62 |\n",
       "| pressure:masfem |  1.632394e-03 | 5.156723e-04 |   3.165564 | 1.547827e-03 |\n",
       "| pressure:dam    |  1.693970e-06 | 9.960861e-08 |  17.006262 | 7.379859e-65 |\n",
       "\n"
      ],
      "text/plain": [
       "  term            estimate      std.error    statistic  p.value     \n",
       "1 (Intercept)      5.608494e+01 4.588775e+00  12.222204 2.365829e-34\n",
       "2 pressure        -5.633584e-02 4.823911e-03 -11.678458 1.642479e-31\n",
       "3 masfem          -1.496886e+00 4.899877e-01  -3.054947 2.251002e-03\n",
       "4 dam             -1.568298e-03 9.384560e-05 -16.711473 1.081310e-62\n",
       "5 pressure:masfem  1.632394e-03 5.156723e-04   3.165564 1.547827e-03\n",
       "6 pressure:dam     1.693970e-06 9.960861e-08  17.006262 7.379859e-65"
      ]
     },
     "metadata": {},
     "output_type": "display_data"
    }
   ],
   "source": [
    "fit = glm(\n",
    "  death ~ pressure * masfem + pressure * dam,\n",
    "  data = df.filtered,\n",
    "  family = \"poisson\"\n",
    ")\n",
    "\n",
    "broom::tidy(fit)"
   ]
  },
  {
   "cell_type": "markdown",
   "id": "8ec669ea",
   "metadata": {
    "slideshow": {
     "slide_type": "slide"
    }
   },
   "source": [
    "## A multiverse analysis\n",
    "The `multiverse` package lets us systematically keep track of all the different decisions we made during the analysis."
   ]
  },
  {
   "cell_type": "code",
   "execution_count": 50,
   "id": "337e6889",
   "metadata": {},
   "outputs": [
    {
     "data": {
      "text/plain": [
       "Multiverse\n",
       "\n",
       "  Multiverse consists of 1 different analyses\n",
       "\n",
       "   Parameters: \n",
       "   No parameters have been defined yet\n",
       "\n",
       "\n",
       "   Conditions: \n",
       "     No conditions have been defined yet"
      ]
     },
     "metadata": {},
     "output_type": "display_data"
    }
   ],
   "source": [
    "library(multiverse)\n",
    "M <- multiverse()\n",
    "M"
   ]
  },
  {
   "cell_type": "code",
   "execution_count": 51,
   "id": "0a3a9a2f",
   "metadata": {
    "slideshow": {
     "slide_type": "slide"
    }
   },
   "outputs": [],
   "source": [
    "inside(M, df <- hurricane_data)"
   ]
  },
  {
   "cell_type": "code",
   "execution_count": 52,
   "id": "6ffee0ba",
   "metadata": {
    "slideshow": {
     "slide_type": "slide"
    }
   },
   "outputs": [
    {
     "data": {
      "text/plain": [
       "Multiverse\n",
       "\n",
       "  Multiverse consists of 3 different analyses\n",
       "\n",
       "   Parameters: \n",
       "     Parameter name: death_outliers \n",
       "        options: no_exclusion most_extreme two_most_extreme \n",
       "\n",
       "   Conditions: \n",
       "     No conditions have been defined yet"
      ]
     },
     "metadata": {},
     "output_type": "display_data"
    }
   ],
   "source": [
    "inside(M, {\n",
    "    df.filtered <- df %>% \n",
    "        filter(branch(death_outliers,\n",
    "                     \"no_exclusion\" ~ TRUE,\n",
    "                     \"most_extreme\" ~ name != \"Katrina\",\n",
    "                      \"two_most_extreme\" ~ (name != \"Katrina\") & (name != \"Audrey\")\n",
    "                     ))\n",
    "})\n",
    "M"
   ]
  },
  {
   "cell_type": "code",
   "execution_count": 53,
   "id": "9fb0cb7c",
   "metadata": {
    "slideshow": {
     "slide_type": "slide"
    }
   },
   "outputs": [
    {
     "data": {
      "text/html": [
       "<strong>$death_outliers</strong> = <ol>\n",
       "\t<li>'no_exclusion'</li>\n",
       "\t<li>'most_extreme'</li>\n",
       "\t<li>'two_most_extreme'</li>\n",
       "</ol>\n"
      ],
      "text/latex": [
       "\\textbf{\\$death\\_outliers} = \\begin{enumerate}\n",
       "\\item 'no\\_exclusion'\n",
       "\\item 'most\\_extreme'\n",
       "\\item 'two\\_most\\_extreme'\n",
       "\\end{enumerate}\n"
      ],
      "text/markdown": [
       "**$death_outliers** = 1. 'no_exclusion'\n",
       "2. 'most_extreme'\n",
       "3. 'two_most_extreme'\n",
       "\n",
       "\n"
      ],
      "text/plain": [
       "$death_outliers\n",
       "$death_outliers[[1]]\n",
       "[1] \"no_exclusion\"\n",
       "\n",
       "$death_outliers[[2]]\n",
       "[1] \"most_extreme\"\n",
       "\n",
       "$death_outliers[[3]]\n",
       "[1] \"two_most_extreme\"\n",
       "\n"
      ]
     },
     "metadata": {},
     "output_type": "display_data"
    }
   ],
   "source": [
    "parameters(M)"
   ]
  },
  {
   "cell_type": "code",
   "execution_count": 54,
   "id": "cf8980a5",
   "metadata": {},
   "outputs": [
    {
     "data": {
      "text/html": [
       "<table class=\"dataframe\">\n",
       "<caption>A tibble: 3 × 6</caption>\n",
       "<thead>\n",
       "\t<tr><th scope=col>.universe</th><th scope=col>death_outliers</th><th scope=col>.parameter_assignment</th><th scope=col>.code</th><th scope=col>.results</th><th scope=col>.errors</th></tr>\n",
       "\t<tr><th scope=col>&lt;int&gt;</th><th scope=col>&lt;chr&gt;</th><th scope=col>&lt;list&gt;</th><th scope=col>&lt;list&gt;</th><th scope=col>&lt;list&gt;</th><th scope=col>&lt;list&gt;</th></tr>\n",
       "</thead>\n",
       "<tbody>\n",
       "\t<tr><td>1</td><td><span style=white-space:pre-wrap>no_exclusion    </span></td><td>no_exclusion</td><td><span style=white-space:pre-wrap>{,     df &lt;- hurricane_data, }, {,     df.filtered &lt;- df %&gt;% filter(TRUE), }</span></td><td>&lt;environment: 0x5609a14aac28&gt;</td><td>NA, NA</td></tr>\n",
       "\t<tr><td>2</td><td><span style=white-space:pre-wrap>most_extreme    </span></td><td>most_extreme</td><td><span style=white-space:pre-wrap>{,     df &lt;- hurricane_data, }, {,     df.filtered &lt;- df %&gt;% filter(name != \"Katrina\"), }</span></td><td>&lt;environment: 0x5609a14983d8&gt;</td><td>NA, NA</td></tr>\n",
       "\t<tr><td>3</td><td>two_most_extreme</td><td>two_most_extreme</td><td><span style=white-space:pre-wrap>{,     df &lt;- hurricane_data, }, {,     df.filtered &lt;- df %&gt;% filter((name != \"Katrina\") &amp; (name != ,         \"Audrey\")), }</span></td><td>&lt;environment: 0x5609a1487fa0&gt;</td><td>NA, NA</td></tr>\n",
       "</tbody>\n",
       "</table>\n"
      ],
      "text/latex": [
       "A tibble: 3 × 6\n",
       "\\begin{tabular}{llllll}\n",
       " .universe & death\\_outliers & .parameter\\_assignment & .code & .results & .errors\\\\\n",
       " <int> & <chr> & <list> & <list> & <list> & <list>\\\\\n",
       "\\hline\n",
       "\t 1 & no\\_exclusion     & no\\_exclusion & \\{,     df <- hurricane\\_data, \\}, \\{,     df.filtered <- df \\%>\\% filter(TRUE), \\} & <environment: 0x5609a14aac28> & NA, NA\\\\\n",
       "\t 2 & most\\_extreme     & most\\_extreme & \\{,     df <- hurricane\\_data, \\}, \\{,     df.filtered <- df \\%>\\% filter(name != \"Katrina\"), \\} & <environment: 0x5609a14983d8> & NA, NA\\\\\n",
       "\t 3 & two\\_most\\_extreme & two\\_most\\_extreme & \\{,     df <- hurricane\\_data, \\}, \\{,     df.filtered <- df \\%>\\% filter((name != \"Katrina\") \\& (name != ,         \"Audrey\")), \\} & <environment: 0x5609a1487fa0> & NA, NA\\\\\n",
       "\\end{tabular}\n"
      ],
      "text/markdown": [
       "\n",
       "A tibble: 3 × 6\n",
       "\n",
       "| .universe &lt;int&gt; | death_outliers &lt;chr&gt; | .parameter_assignment &lt;list&gt; | .code &lt;list&gt; | .results &lt;list&gt; | .errors &lt;list&gt; |\n",
       "|---|---|---|---|---|---|\n",
       "| 1 | no_exclusion     | no_exclusion | {,     df &lt;- hurricane_data, }, {,     df.filtered &lt;- df %&gt;% filter(TRUE), } | &lt;environment: 0x5609a14aac28&gt; | NA, NA |\n",
       "| 2 | most_extreme     | most_extreme | {,     df &lt;- hurricane_data, }, {,     df.filtered &lt;- df %&gt;% filter(name != \"Katrina\"), } | &lt;environment: 0x5609a14983d8&gt; | NA, NA |\n",
       "| 3 | two_most_extreme | two_most_extreme | {,     df &lt;- hurricane_data, }, {,     df.filtered &lt;- df %&gt;% filter((name != \"Katrina\") &amp; (name != ,         \"Audrey\")), } | &lt;environment: 0x5609a1487fa0&gt; | NA, NA |\n",
       "\n"
      ],
      "text/plain": [
       "  .universe death_outliers   .parameter_assignment\n",
       "1 1         no_exclusion     no_exclusion         \n",
       "2 2         most_extreme     most_extreme         \n",
       "3 3         two_most_extreme two_most_extreme     \n",
       "  .code                                                                                                                     \n",
       "1 {,     df <- hurricane_data, }, {,     df.filtered <- df %>% filter(TRUE), }                                              \n",
       "2 {,     df <- hurricane_data, }, {,     df.filtered <- df %>% filter(name != \"Katrina\"), }                                 \n",
       "3 {,     df <- hurricane_data, }, {,     df.filtered <- df %>% filter((name != \"Katrina\") & (name != ,         \"Audrey\")), }\n",
       "  .results                      .errors\n",
       "1 <environment: 0x5609a14aac28> NA, NA \n",
       "2 <environment: 0x5609a14983d8> NA, NA \n",
       "3 <environment: 0x5609a1487fa0> NA, NA "
      ]
     },
     "metadata": {},
     "output_type": "display_data"
    }
   ],
   "source": [
    "expand(M)"
   ]
  },
  {
   "cell_type": "code",
   "execution_count": 55,
   "id": "979ba41c",
   "metadata": {
    "slideshow": {
     "slide_type": "slide"
    }
   },
   "outputs": [
    {
     "data": {
      "text/plain": [
       "$`1`\n",
       "{\n",
       "    df <- hurricane_data\n",
       "}\n",
       "\n",
       "$`2`\n",
       "{\n",
       "    df.filtered <- df %>% filter(branch(death_outliers, \"no_exclusion\" ~ \n",
       "        TRUE, \"most_extreme\" ~ name != \"Katrina\", \"two_most_extreme\" ~ \n",
       "        (name != \"Katrina\") & (name != \"Audrey\")))\n",
       "}\n"
      ]
     },
     "metadata": {},
     "output_type": "display_data"
    }
   ],
   "source": [
    "code(M)"
   ]
  },
  {
   "cell_type": "code",
   "execution_count": 56,
   "id": "fe0c9782",
   "metadata": {
    "slideshow": {
     "slide_type": "slide"
    }
   },
   "outputs": [],
   "source": [
    "inside(M, {\n",
    "    fit_fun <- branch(family, \n",
    "                      \"gaussian\" ~ glm,\n",
    "                      \"poisson\" ~ glm,\n",
    "                      \"nb\" ~ mgcv::gam\n",
    "                     )\n",
    "    fam <- branch(family,\n",
    "        \"gaussian\" ~ \"gaussian\",\n",
    "        \"poisson\" ~ \"poisson\",\n",
    "        \"nb\" ~ \"nb\"\n",
    "    )\n",
    "    df.filtered$outcome <- branch(family,\n",
    "        \"gaussian\" ~ log1p(df.filtered$death),\n",
    "        \"poisson\" ~ df.filtered$death,\n",
    "        \"nb\" ~ df.filtered$death\n",
    "    )\n",
    "    fit <- fit_fun(outcome ~ branch(formula,\n",
    "        \"marginal\" ~ masfem + pressure + dam,\n",
    "        \"2int1\" ~ pressure * masfem + pressure * dam,\n",
    "        \"3int\" ~ pressure * masfem * dam\n",
    "        ),\n",
    "        family = fam, data = df.filtered)\n",
    "})"
   ]
  },
  {
   "cell_type": "code",
   "execution_count": 60,
   "id": "e96d49f6",
   "metadata": {},
   "outputs": [
    {
     "data": {
      "text/plain": [
       "Multiverse\n",
       "\n",
       "  Multiverse consists of 27 different analyses\n",
       "\n",
       "   Parameters: \n",
       "     Parameter name: death_outliers \n",
       "        options: no_exclusion most_extreme two_most_extreme \n",
       "     Parameter name: family \n",
       "        options: gaussian poisson nb \n",
       "     Parameter name: formula \n",
       "        options: marginal 2int1 3int \n",
       "\n",
       "   Conditions: \n",
       "     No conditions have been defined yet"
      ]
     },
     "metadata": {},
     "output_type": "display_data"
    }
   ],
   "source": [
    "M"
   ]
  },
  {
   "cell_type": "code",
   "execution_count": 61,
   "id": "f916a42a",
   "metadata": {},
   "outputs": [],
   "source": [
    "inside(M, {\n",
    "    sf <- summary(fit)\n",
    "    effect <- branch(family,\n",
    "        \"gaussian\" ~ coefficients(sf),\n",
    "        \"poisson\" ~ coefficients(sf),\n",
    "        \"nb\" ~ sf$p.table\n",
    "    )[\"masfem\", 4]\n",
    "})"
   ]
  },
  {
   "cell_type": "code",
   "execution_count": 62,
   "id": "2cd54980",
   "metadata": {
    "slideshow": {
     "slide_type": "slide"
    }
   },
   "outputs": [
    {
     "data": {
      "text/html": [
       "<table class=\"dataframe\">\n",
       "<caption>A tibble: 27 × 9</caption>\n",
       "<thead>\n",
       "\t<tr><th scope=col>.universe</th><th scope=col>death_outliers</th><th scope=col>family</th><th scope=col>formula</th><th scope=col>.parameter_assignment</th><th scope=col>.code</th><th scope=col>.results</th><th scope=col>.errors</th><th scope=col>effect</th></tr>\n",
       "\t<tr><th scope=col>&lt;int&gt;</th><th scope=col>&lt;chr&gt;</th><th scope=col>&lt;chr&gt;</th><th scope=col>&lt;chr&gt;</th><th scope=col>&lt;list&gt;</th><th scope=col>&lt;list&gt;</th><th scope=col>&lt;list&gt;</th><th scope=col>&lt;list&gt;</th><th scope=col>&lt;dbl&gt;</th></tr>\n",
       "</thead>\n",
       "<tbody>\n",
       "\t<tr><td> 1</td><td><span style=white-space:pre-wrap>no_exclusion    </span></td><td>gaussian</td><td>marginal</td><td><span style=white-space:pre-wrap>no_exclusion, gaussian    , marginal    </span></td><td><span style=white-space:pre-wrap>{,     df &lt;- hurricane_data, }, {,     df.filtered &lt;- df %&gt;% filter(TRUE), }, {,     fit_fun &lt;- glm,     fam &lt;- \"gaussian\",     df.filtered$outcome &lt;- log1p(df.filtered$death),     fit &lt;- fit_fun(outcome ~ masfem + pressure + dam, family = fam, ,         data = df.filtered), }, {,     sf &lt;- summary(fit),     effect &lt;- coefficients(sf)[\"masfem\", 4], }, {,     sf &lt;- summary(fit),     effect &lt;- coefficients(sf)[\"masfem\", 4], }</span></td><td>&lt;environment: 0x5609a971edb0&gt;</td><td>NA, NA, NA, NA, NA</td><td>6.991712e-01</td></tr>\n",
       "\t<tr><td> 2</td><td><span style=white-space:pre-wrap>no_exclusion    </span></td><td>gaussian</td><td><span style=white-space:pre-wrap>2int1   </span></td><td><span style=white-space:pre-wrap>no_exclusion, gaussian    , 2int1       </span></td><td><span style=white-space:pre-wrap>{,     df &lt;- hurricane_data, }, {,     df.filtered &lt;- df %&gt;% filter(TRUE), }, {,     fit_fun &lt;- glm,     fam &lt;- \"gaussian\",     df.filtered$outcome &lt;- log1p(df.filtered$death),     fit &lt;- fit_fun(outcome ~ pressure * masfem + pressure * dam, ,         family = fam, data = df.filtered), }, {,     sf &lt;- summary(fit),     effect &lt;- coefficients(sf)[\"masfem\", 4], }, {,     sf &lt;- summary(fit),     effect &lt;- coefficients(sf)[\"masfem\", 4], }</span></td><td>&lt;environment: 0x5609a6a07518&gt;</td><td>NA, NA, NA, NA, NA</td><td>4.973535e-01</td></tr>\n",
       "\t<tr><td> 3</td><td><span style=white-space:pre-wrap>no_exclusion    </span></td><td>gaussian</td><td><span style=white-space:pre-wrap>3int    </span></td><td><span style=white-space:pre-wrap>no_exclusion, gaussian    , 3int        </span></td><td><span style=white-space:pre-wrap>{,     df &lt;- hurricane_data, }, {,     df.filtered &lt;- df %&gt;% filter(TRUE), }, {,     fit_fun &lt;- glm,     fam &lt;- \"gaussian\",     df.filtered$outcome &lt;- log1p(df.filtered$death),     fit &lt;- fit_fun(outcome ~ pressure * masfem * dam, family = fam, ,         data = df.filtered), }, {,     sf &lt;- summary(fit),     effect &lt;- coefficients(sf)[\"masfem\", 4], }, {,     sf &lt;- summary(fit),     effect &lt;- coefficients(sf)[\"masfem\", 4], }</span></td><td>&lt;environment: 0x5609a473e5f8&gt;</td><td>NA, NA, NA, NA, NA</td><td>5.896454e-01</td></tr>\n",
       "\t<tr><td> 4</td><td><span style=white-space:pre-wrap>no_exclusion    </span></td><td>poisson </td><td>marginal</td><td><span style=white-space:pre-wrap>no_exclusion, poisson     , marginal    </span></td><td><span style=white-space:pre-wrap>{,     df &lt;- hurricane_data, }, {,     df.filtered &lt;- df %&gt;% filter(TRUE), }, {,     fit_fun &lt;- glm,     fam &lt;- \"poisson\",     df.filtered$outcome &lt;- df.filtered$death,     fit &lt;- fit_fun(outcome ~ masfem + pressure + dam, family = fam, ,         data = df.filtered), }, {,     sf &lt;- summary(fit),     effect &lt;- coefficients(sf)[\"masfem\", 4], }, {,     sf &lt;- summary(fit),     effect &lt;- coefficients(sf)[\"masfem\", 4], }</span></td><td>&lt;environment: 0x5609a30646e0&gt;</td><td>NA, NA, NA, NA, NA</td><td>3.660634e-25</td></tr>\n",
       "\t<tr><td> 5</td><td><span style=white-space:pre-wrap>no_exclusion    </span></td><td>poisson </td><td><span style=white-space:pre-wrap>2int1   </span></td><td><span style=white-space:pre-wrap>no_exclusion, poisson     , 2int1       </span></td><td><span style=white-space:pre-wrap>{,     df &lt;- hurricane_data, }, {,     df.filtered &lt;- df %&gt;% filter(TRUE), }, {,     fit_fun &lt;- glm,     fam &lt;- \"poisson\",     df.filtered$outcome &lt;- df.filtered$death,     fit &lt;- fit_fun(outcome ~ pressure * masfem + pressure * dam, ,         family = fam, data = df.filtered), }, {,     sf &lt;- summary(fit),     effect &lt;- coefficients(sf)[\"masfem\", 4], }, {,     sf &lt;- summary(fit),     effect &lt;- coefficients(sf)[\"masfem\", 4], }</span></td><td>&lt;environment: 0x5609a4a8fd18&gt;</td><td>NA, NA, NA, NA, NA</td><td>2.251002e-03</td></tr>\n",
       "\t<tr><td> 6</td><td><span style=white-space:pre-wrap>no_exclusion    </span></td><td>poisson </td><td><span style=white-space:pre-wrap>3int    </span></td><td><span style=white-space:pre-wrap>no_exclusion, poisson     , 3int        </span></td><td><span style=white-space:pre-wrap>{,     df &lt;- hurricane_data, }, {,     df.filtered &lt;- df %&gt;% filter(TRUE), }, {,     fit_fun &lt;- glm,     fam &lt;- \"poisson\",     df.filtered$outcome &lt;- df.filtered$death,     fit &lt;- fit_fun(outcome ~ pressure * masfem * dam, family = fam, ,         data = df.filtered), }, {,     sf &lt;- summary(fit),     effect &lt;- coefficients(sf)[\"masfem\", 4], }, {,     sf &lt;- summary(fit),     effect &lt;- coefficients(sf)[\"masfem\", 4], }</span></td><td>&lt;environment: 0x5609a5ab7a00&gt;</td><td>NA, NA, NA, NA, NA</td><td>4.709140e-02</td></tr>\n",
       "\t<tr><td> 7</td><td><span style=white-space:pre-wrap>no_exclusion    </span></td><td><span style=white-space:pre-wrap>nb      </span></td><td>marginal</td><td><span style=white-space:pre-wrap>no_exclusion, nb          , marginal    </span></td><td><span style=white-space:pre-wrap>{,     df &lt;- hurricane_data, }, {,     df.filtered &lt;- df %&gt;% filter(TRUE), }, {,     fit_fun &lt;- mgcv::gam,     fam &lt;- \"nb\",     df.filtered$outcome &lt;- df.filtered$death,     fit &lt;- fit_fun(outcome ~ masfem + pressure + dam, family = fam, ,         data = df.filtered), }, {,     sf &lt;- summary(fit),     effect &lt;- sf$p.table[\"masfem\", 4], }, {,     sf &lt;- summary(fit),     effect &lt;- sf$p.table[\"masfem\", 4], }</span></td><td>&lt;environment: 0x5609a6a74218&gt;</td><td>NA, NA, NA, NA, NA</td><td>3.969918e-01</td></tr>\n",
       "\t<tr><td> 8</td><td><span style=white-space:pre-wrap>no_exclusion    </span></td><td><span style=white-space:pre-wrap>nb      </span></td><td><span style=white-space:pre-wrap>2int1   </span></td><td><span style=white-space:pre-wrap>no_exclusion, nb          , 2int1       </span></td><td><span style=white-space:pre-wrap>{,     df &lt;- hurricane_data, }, {,     df.filtered &lt;- df %&gt;% filter(TRUE), }, {,     fit_fun &lt;- mgcv::gam,     fam &lt;- \"nb\",     df.filtered$outcome &lt;- df.filtered$death,     fit &lt;- fit_fun(outcome ~ pressure * masfem + pressure * dam, ,         family = fam, data = df.filtered), }, {,     sf &lt;- summary(fit),     effect &lt;- sf$p.table[\"masfem\", 4], }, {,     sf &lt;- summary(fit),     effect &lt;- sf$p.table[\"masfem\", 4], }</span></td><td>&lt;environment: 0x5609a1d856d0&gt;</td><td>NA, NA, NA, NA, NA</td><td>4.682403e-01</td></tr>\n",
       "\t<tr><td> 9</td><td><span style=white-space:pre-wrap>no_exclusion    </span></td><td><span style=white-space:pre-wrap>nb      </span></td><td><span style=white-space:pre-wrap>3int    </span></td><td><span style=white-space:pre-wrap>no_exclusion, nb          , 3int        </span></td><td><span style=white-space:pre-wrap>{,     df &lt;- hurricane_data, }, {,     df.filtered &lt;- df %&gt;% filter(TRUE), }, {,     fit_fun &lt;- mgcv::gam,     fam &lt;- \"nb\",     df.filtered$outcome &lt;- df.filtered$death,     fit &lt;- fit_fun(outcome ~ pressure * masfem * dam, family = fam, ,         data = df.filtered), }, {,     sf &lt;- summary(fit),     effect &lt;- sf$p.table[\"masfem\", 4], }, {,     sf &lt;- summary(fit),     effect &lt;- sf$p.table[\"masfem\", 4], }</span></td><td>&lt;environment: 0x5609a2752168&gt;</td><td>NA, NA, NA, NA, NA</td><td>8.128563e-01</td></tr>\n",
       "\t<tr><td>10</td><td><span style=white-space:pre-wrap>most_extreme    </span></td><td>gaussian</td><td>marginal</td><td><span style=white-space:pre-wrap>most_extreme, gaussian    , marginal    </span></td><td><span style=white-space:pre-wrap>{,     df &lt;- hurricane_data, }, {,     df.filtered &lt;- df %&gt;% filter(name != \"Katrina\"), }, {,     fit_fun &lt;- glm,     fam &lt;- \"gaussian\",     df.filtered$outcome &lt;- log1p(df.filtered$death),     fit &lt;- fit_fun(outcome ~ masfem + pressure + dam, family = fam, ,         data = df.filtered), }, {,     sf &lt;- summary(fit),     effect &lt;- coefficients(sf)[\"masfem\", 4], }, {,     sf &lt;- summary(fit),     effect &lt;- coefficients(sf)[\"masfem\", 4], }</span></td><td>&lt;environment: 0x5609a289a170&gt;</td><td>NA, NA, NA, NA, NA</td><td>6.991712e-01</td></tr>\n",
       "\t<tr><td>11</td><td><span style=white-space:pre-wrap>most_extreme    </span></td><td>gaussian</td><td><span style=white-space:pre-wrap>2int1   </span></td><td><span style=white-space:pre-wrap>most_extreme, gaussian    , 2int1       </span></td><td><span style=white-space:pre-wrap>{,     df &lt;- hurricane_data, }, {,     df.filtered &lt;- df %&gt;% filter(name != \"Katrina\"), }, {,     fit_fun &lt;- glm,     fam &lt;- \"gaussian\",     df.filtered$outcome &lt;- log1p(df.filtered$death),     fit &lt;- fit_fun(outcome ~ pressure * masfem + pressure * dam, ,         family = fam, data = df.filtered), }, {,     sf &lt;- summary(fit),     effect &lt;- coefficients(sf)[\"masfem\", 4], }, {,     sf &lt;- summary(fit),     effect &lt;- coefficients(sf)[\"masfem\", 4], }</span></td><td>&lt;environment: 0x5609a2baab28&gt;</td><td>NA, NA, NA, NA, NA</td><td>4.973535e-01</td></tr>\n",
       "\t<tr><td>12</td><td><span style=white-space:pre-wrap>most_extreme    </span></td><td>gaussian</td><td><span style=white-space:pre-wrap>3int    </span></td><td><span style=white-space:pre-wrap>most_extreme, gaussian    , 3int        </span></td><td><span style=white-space:pre-wrap>{,     df &lt;- hurricane_data, }, {,     df.filtered &lt;- df %&gt;% filter(name != \"Katrina\"), }, {,     fit_fun &lt;- glm,     fam &lt;- \"gaussian\",     df.filtered$outcome &lt;- log1p(df.filtered$death),     fit &lt;- fit_fun(outcome ~ pressure * masfem * dam, family = fam, ,         data = df.filtered), }, {,     sf &lt;- summary(fit),     effect &lt;- coefficients(sf)[\"masfem\", 4], }, {,     sf &lt;- summary(fit),     effect &lt;- coefficients(sf)[\"masfem\", 4], }</span></td><td>&lt;environment: 0x5609a2de62b0&gt;</td><td>NA, NA, NA, NA, NA</td><td>5.896454e-01</td></tr>\n",
       "\t<tr><td>13</td><td><span style=white-space:pre-wrap>most_extreme    </span></td><td>poisson </td><td>marginal</td><td><span style=white-space:pre-wrap>most_extreme, poisson     , marginal    </span></td><td><span style=white-space:pre-wrap>{,     df &lt;- hurricane_data, }, {,     df.filtered &lt;- df %&gt;% filter(name != \"Katrina\"), }, {,     fit_fun &lt;- glm,     fam &lt;- \"poisson\",     df.filtered$outcome &lt;- df.filtered$death,     fit &lt;- fit_fun(outcome ~ masfem + pressure + dam, family = fam, ,         data = df.filtered), }, {,     sf &lt;- summary(fit),     effect &lt;- coefficients(sf)[\"masfem\", 4], }, {,     sf &lt;- summary(fit),     effect &lt;- coefficients(sf)[\"masfem\", 4], }</span></td><td>&lt;environment: 0x5609a2f586b8&gt;</td><td>NA, NA, NA, NA, NA</td><td>3.660634e-25</td></tr>\n",
       "\t<tr><td>14</td><td><span style=white-space:pre-wrap>most_extreme    </span></td><td>poisson </td><td><span style=white-space:pre-wrap>2int1   </span></td><td><span style=white-space:pre-wrap>most_extreme, poisson     , 2int1       </span></td><td><span style=white-space:pre-wrap>{,     df &lt;- hurricane_data, }, {,     df.filtered &lt;- df %&gt;% filter(name != \"Katrina\"), }, {,     fit_fun &lt;- glm,     fam &lt;- \"poisson\",     df.filtered$outcome &lt;- df.filtered$death,     fit &lt;- fit_fun(outcome ~ pressure * masfem + pressure * dam, ,         family = fam, data = df.filtered), }, {,     sf &lt;- summary(fit),     effect &lt;- coefficients(sf)[\"masfem\", 4], }, {,     sf &lt;- summary(fit),     effect &lt;- coefficients(sf)[\"masfem\", 4], }</span></td><td>&lt;environment: 0x5609a319d000&gt;</td><td>NA, NA, NA, NA, NA</td><td>2.251002e-03</td></tr>\n",
       "\t<tr><td>15</td><td><span style=white-space:pre-wrap>most_extreme    </span></td><td>poisson </td><td><span style=white-space:pre-wrap>3int    </span></td><td><span style=white-space:pre-wrap>most_extreme, poisson     , 3int        </span></td><td><span style=white-space:pre-wrap>{,     df &lt;- hurricane_data, }, {,     df.filtered &lt;- df %&gt;% filter(name != \"Katrina\"), }, {,     fit_fun &lt;- glm,     fam &lt;- \"poisson\",     df.filtered$outcome &lt;- df.filtered$death,     fit &lt;- fit_fun(outcome ~ pressure * masfem * dam, family = fam, ,         data = df.filtered), }, {,     sf &lt;- summary(fit),     effect &lt;- coefficients(sf)[\"masfem\", 4], }, {,     sf &lt;- summary(fit),     effect &lt;- coefficients(sf)[\"masfem\", 4], }</span></td><td>&lt;environment: 0x5609a3429ef8&gt;</td><td>NA, NA, NA, NA, NA</td><td>4.709140e-02</td></tr>\n",
       "\t<tr><td>16</td><td><span style=white-space:pre-wrap>most_extreme    </span></td><td><span style=white-space:pre-wrap>nb      </span></td><td>marginal</td><td><span style=white-space:pre-wrap>most_extreme, nb          , marginal    </span></td><td><span style=white-space:pre-wrap>{,     df &lt;- hurricane_data, }, {,     df.filtered &lt;- df %&gt;% filter(name != \"Katrina\"), }, {,     fit_fun &lt;- mgcv::gam,     fam &lt;- \"nb\",     df.filtered$outcome &lt;- df.filtered$death,     fit &lt;- fit_fun(outcome ~ masfem + pressure + dam, family = fam, ,         data = df.filtered), }, {,     sf &lt;- summary(fit),     effect &lt;- sf$p.table[\"masfem\", 4], }, {,     sf &lt;- summary(fit),     effect &lt;- sf$p.table[\"masfem\", 4], }</span></td><td>&lt;environment: 0x5609a3d50230&gt;</td><td>NA, NA, NA, NA, NA</td><td>3.969918e-01</td></tr>\n",
       "\t<tr><td>17</td><td><span style=white-space:pre-wrap>most_extreme    </span></td><td><span style=white-space:pre-wrap>nb      </span></td><td><span style=white-space:pre-wrap>2int1   </span></td><td><span style=white-space:pre-wrap>most_extreme, nb          , 2int1       </span></td><td><span style=white-space:pre-wrap>{,     df &lt;- hurricane_data, }, {,     df.filtered &lt;- df %&gt;% filter(name != \"Katrina\"), }, {,     fit_fun &lt;- mgcv::gam,     fam &lt;- \"nb\",     df.filtered$outcome &lt;- df.filtered$death,     fit &lt;- fit_fun(outcome ~ pressure * masfem + pressure * dam, ,         family = fam, data = df.filtered), }, {,     sf &lt;- summary(fit),     effect &lt;- sf$p.table[\"masfem\", 4], }, {,     sf &lt;- summary(fit),     effect &lt;- sf$p.table[\"masfem\", 4], }</span></td><td>&lt;environment: 0x5609a45dbdc8&gt;</td><td>NA, NA, NA, NA, NA</td><td>4.682403e-01</td></tr>\n",
       "\t<tr><td>18</td><td><span style=white-space:pre-wrap>most_extreme    </span></td><td><span style=white-space:pre-wrap>nb      </span></td><td><span style=white-space:pre-wrap>3int    </span></td><td><span style=white-space:pre-wrap>most_extreme, nb          , 3int        </span></td><td><span style=white-space:pre-wrap>{,     df &lt;- hurricane_data, }, {,     df.filtered &lt;- df %&gt;% filter(name != \"Katrina\"), }, {,     fit_fun &lt;- mgcv::gam,     fam &lt;- \"nb\",     df.filtered$outcome &lt;- df.filtered$death,     fit &lt;- fit_fun(outcome ~ pressure * masfem * dam, family = fam, ,         data = df.filtered), }, {,     sf &lt;- summary(fit),     effect &lt;- sf$p.table[\"masfem\", 4], }, {,     sf &lt;- summary(fit),     effect &lt;- sf$p.table[\"masfem\", 4], }</span></td><td>&lt;environment: 0x5609a4883f80&gt;</td><td>NA, NA, NA, NA, NA</td><td>8.128563e-01</td></tr>\n",
       "\t<tr><td>19</td><td>two_most_extreme</td><td>gaussian</td><td>marginal</td><td><span style=white-space:pre-wrap>two_most_extreme, gaussian        , marginal        </span></td><td><span style=white-space:pre-wrap>{,     df &lt;- hurricane_data, }, {,     df.filtered &lt;- df %&gt;% filter((name != \"Katrina\") &amp; (name != ,         \"Audrey\")), }, {,     fit_fun &lt;- glm,     fam &lt;- \"gaussian\",     df.filtered$outcome &lt;- log1p(df.filtered$death),     fit &lt;- fit_fun(outcome ~ masfem + pressure + dam, family = fam, ,         data = df.filtered), }, {,     sf &lt;- summary(fit),     effect &lt;- coefficients(sf)[\"masfem\", 4], }, {,     sf &lt;- summary(fit),     effect &lt;- coefficients(sf)[\"masfem\", 4], }</span></td><td>&lt;environment: 0x5609a4b82c78&gt;</td><td>NA, NA, NA, NA, NA</td><td>6.991712e-01</td></tr>\n",
       "\t<tr><td>20</td><td>two_most_extreme</td><td>gaussian</td><td><span style=white-space:pre-wrap>2int1   </span></td><td><span style=white-space:pre-wrap>two_most_extreme, gaussian        , 2int1           </span></td><td><span style=white-space:pre-wrap>{,     df &lt;- hurricane_data, }, {,     df.filtered &lt;- df %&gt;% filter((name != \"Katrina\") &amp; (name != ,         \"Audrey\")), }, {,     fit_fun &lt;- glm,     fam &lt;- \"gaussian\",     df.filtered$outcome &lt;- log1p(df.filtered$death),     fit &lt;- fit_fun(outcome ~ pressure * masfem + pressure * dam, ,         family = fam, data = df.filtered), }, {,     sf &lt;- summary(fit),     effect &lt;- coefficients(sf)[\"masfem\", 4], }, {,     sf &lt;- summary(fit),     effect &lt;- coefficients(sf)[\"masfem\", 4], }</span></td><td>&lt;environment: 0x5609a4e1ac70&gt;</td><td>NA, NA, NA, NA, NA</td><td>4.973535e-01</td></tr>\n",
       "\t<tr><td>21</td><td>two_most_extreme</td><td>gaussian</td><td><span style=white-space:pre-wrap>3int    </span></td><td><span style=white-space:pre-wrap>two_most_extreme, gaussian        , 3int            </span></td><td><span style=white-space:pre-wrap>{,     df &lt;- hurricane_data, }, {,     df.filtered &lt;- df %&gt;% filter((name != \"Katrina\") &amp; (name != ,         \"Audrey\")), }, {,     fit_fun &lt;- glm,     fam &lt;- \"gaussian\",     df.filtered$outcome &lt;- log1p(df.filtered$death),     fit &lt;- fit_fun(outcome ~ pressure * masfem * dam, family = fam, ,         data = df.filtered), }, {,     sf &lt;- summary(fit),     effect &lt;- coefficients(sf)[\"masfem\", 4], }, {,     sf &lt;- summary(fit),     effect &lt;- coefficients(sf)[\"masfem\", 4], }</span></td><td>&lt;environment: 0x5609a52af2f8&gt;</td><td>NA, NA, NA, NA, NA</td><td>5.896454e-01</td></tr>\n",
       "\t<tr><td>22</td><td>two_most_extreme</td><td>poisson </td><td>marginal</td><td><span style=white-space:pre-wrap>two_most_extreme, poisson         , marginal        </span></td><td><span style=white-space:pre-wrap>{,     df &lt;- hurricane_data, }, {,     df.filtered &lt;- df %&gt;% filter((name != \"Katrina\") &amp; (name != ,         \"Audrey\")), }, {,     fit_fun &lt;- glm,     fam &lt;- \"poisson\",     df.filtered$outcome &lt;- df.filtered$death,     fit &lt;- fit_fun(outcome ~ masfem + pressure + dam, family = fam, ,         data = df.filtered), }, {,     sf &lt;- summary(fit),     effect &lt;- coefficients(sf)[\"masfem\", 4], }, {,     sf &lt;- summary(fit),     effect &lt;- coefficients(sf)[\"masfem\", 4], }</span></td><td>&lt;environment: 0x5609a5973df0&gt;</td><td>NA, NA, NA, NA, NA</td><td>3.660634e-25</td></tr>\n",
       "\t<tr><td>23</td><td>two_most_extreme</td><td>poisson </td><td><span style=white-space:pre-wrap>2int1   </span></td><td><span style=white-space:pre-wrap>two_most_extreme, poisson         , 2int1           </span></td><td><span style=white-space:pre-wrap>{,     df &lt;- hurricane_data, }, {,     df.filtered &lt;- df %&gt;% filter((name != \"Katrina\") &amp; (name != ,         \"Audrey\")), }, {,     fit_fun &lt;- glm,     fam &lt;- \"poisson\",     df.filtered$outcome &lt;- df.filtered$death,     fit &lt;- fit_fun(outcome ~ pressure * masfem + pressure * dam, ,         family = fam, data = df.filtered), }, {,     sf &lt;- summary(fit),     effect &lt;- coefficients(sf)[\"masfem\", 4], }, {,     sf &lt;- summary(fit),     effect &lt;- coefficients(sf)[\"masfem\", 4], }</span></td><td>&lt;environment: 0x5609a5af8d08&gt;</td><td>NA, NA, NA, NA, NA</td><td>2.251002e-03</td></tr>\n",
       "\t<tr><td>24</td><td>two_most_extreme</td><td>poisson </td><td><span style=white-space:pre-wrap>3int    </span></td><td><span style=white-space:pre-wrap>two_most_extreme, poisson         , 3int            </span></td><td><span style=white-space:pre-wrap>{,     df &lt;- hurricane_data, }, {,     df.filtered &lt;- df %&gt;% filter((name != \"Katrina\") &amp; (name != ,         \"Audrey\")), }, {,     fit_fun &lt;- glm,     fam &lt;- \"poisson\",     df.filtered$outcome &lt;- df.filtered$death,     fit &lt;- fit_fun(outcome ~ pressure * masfem * dam, family = fam, ,         data = df.filtered), }, {,     sf &lt;- summary(fit),     effect &lt;- coefficients(sf)[\"masfem\", 4], }, {,     sf &lt;- summary(fit),     effect &lt;- coefficients(sf)[\"masfem\", 4], }</span></td><td>&lt;environment: 0x5609a5c90f70&gt;</td><td>NA, NA, NA, NA, NA</td><td>4.709140e-02</td></tr>\n",
       "\t<tr><td>25</td><td>two_most_extreme</td><td><span style=white-space:pre-wrap>nb      </span></td><td>marginal</td><td><span style=white-space:pre-wrap>two_most_extreme, nb              , marginal        </span></td><td><span style=white-space:pre-wrap>{,     df &lt;- hurricane_data, }, {,     df.filtered &lt;- df %&gt;% filter((name != \"Katrina\") &amp; (name != ,         \"Audrey\")), }, {,     fit_fun &lt;- mgcv::gam,     fam &lt;- \"nb\",     df.filtered$outcome &lt;- df.filtered$death,     fit &lt;- fit_fun(outcome ~ masfem + pressure + dam, family = fam, ,         data = df.filtered), }, {,     sf &lt;- summary(fit),     effect &lt;- sf$p.table[\"masfem\", 4], }, {,     sf &lt;- summary(fit),     effect &lt;- sf$p.table[\"masfem\", 4], }</span></td><td>&lt;environment: 0x5609a61ed2b8&gt;</td><td>NA, NA, NA, NA, NA</td><td>3.969918e-01</td></tr>\n",
       "\t<tr><td>26</td><td>two_most_extreme</td><td><span style=white-space:pre-wrap>nb      </span></td><td><span style=white-space:pre-wrap>2int1   </span></td><td><span style=white-space:pre-wrap>two_most_extreme, nb              , 2int1           </span></td><td><span style=white-space:pre-wrap>{,     df &lt;- hurricane_data, }, {,     df.filtered &lt;- df %&gt;% filter((name != \"Katrina\") &amp; (name != ,         \"Audrey\")), }, {,     fit_fun &lt;- mgcv::gam,     fam &lt;- \"nb\",     df.filtered$outcome &lt;- df.filtered$death,     fit &lt;- fit_fun(outcome ~ pressure * masfem + pressure * dam, ,         family = fam, data = df.filtered), }, {,     sf &lt;- summary(fit),     effect &lt;- sf$p.table[\"masfem\", 4], }, {,     sf &lt;- summary(fit),     effect &lt;- sf$p.table[\"masfem\", 4], }</span></td><td>&lt;environment: 0x5609a65d0a60&gt;</td><td>NA, NA, NA, NA, NA</td><td>4.682403e-01</td></tr>\n",
       "\t<tr><td>27</td><td>two_most_extreme</td><td><span style=white-space:pre-wrap>nb      </span></td><td><span style=white-space:pre-wrap>3int    </span></td><td><span style=white-space:pre-wrap>two_most_extreme, nb              , 3int            </span></td><td><span style=white-space:pre-wrap>{,     df &lt;- hurricane_data, }, {,     df.filtered &lt;- df %&gt;% filter((name != \"Katrina\") &amp; (name != ,         \"Audrey\")), }, {,     fit_fun &lt;- mgcv::gam,     fam &lt;- \"nb\",     df.filtered$outcome &lt;- df.filtered$death,     fit &lt;- fit_fun(outcome ~ pressure * masfem * dam, family = fam, ,         data = df.filtered), }, {,     sf &lt;- summary(fit),     effect &lt;- sf$p.table[\"masfem\", 4], }, {,     sf &lt;- summary(fit),     effect &lt;- sf$p.table[\"masfem\", 4], }</span></td><td>&lt;environment: 0x5609a6cdc8b8&gt;</td><td>NA, NA, NA, NA, NA</td><td>8.128563e-01</td></tr>\n",
       "</tbody>\n",
       "</table>\n"
      ],
      "text/latex": [
       "A tibble: 27 × 9\n",
       "\\begin{tabular}{lllllllll}\n",
       " .universe & death\\_outliers & family & formula & .parameter\\_assignment & .code & .results & .errors & effect\\\\\n",
       " <int> & <chr> & <chr> & <chr> & <list> & <list> & <list> & <list> & <dbl>\\\\\n",
       "\\hline\n",
       "\t  1 & no\\_exclusion     & gaussian & marginal & no\\_exclusion, gaussian    , marginal     & \\{,     df <- hurricane\\_data, \\}, \\{,     df.filtered <- df \\%>\\% filter(TRUE), \\}, \\{,     fit\\_fun <- glm,     fam <- \"gaussian\",     df.filtered\\$outcome <- log1p(df.filtered\\$death),     fit <- fit\\_fun(outcome \\textasciitilde{} masfem + pressure + dam, family = fam, ,         data = df.filtered), \\}, \\{,     sf <- summary(fit),     effect <- coefficients(sf){[}\"masfem\", 4{]}, \\}, \\{,     sf <- summary(fit),     effect <- coefficients(sf){[}\"masfem\", 4{]}, \\} & <environment: 0x5609a971edb0> & NA, NA, NA, NA, NA & 6.991712e-01\\\\\n",
       "\t  2 & no\\_exclusion     & gaussian & 2int1    & no\\_exclusion, gaussian    , 2int1        & \\{,     df <- hurricane\\_data, \\}, \\{,     df.filtered <- df \\%>\\% filter(TRUE), \\}, \\{,     fit\\_fun <- glm,     fam <- \"gaussian\",     df.filtered\\$outcome <- log1p(df.filtered\\$death),     fit <- fit\\_fun(outcome \\textasciitilde{} pressure * masfem + pressure * dam, ,         family = fam, data = df.filtered), \\}, \\{,     sf <- summary(fit),     effect <- coefficients(sf){[}\"masfem\", 4{]}, \\}, \\{,     sf <- summary(fit),     effect <- coefficients(sf){[}\"masfem\", 4{]}, \\} & <environment: 0x5609a6a07518> & NA, NA, NA, NA, NA & 4.973535e-01\\\\\n",
       "\t  3 & no\\_exclusion     & gaussian & 3int     & no\\_exclusion, gaussian    , 3int         & \\{,     df <- hurricane\\_data, \\}, \\{,     df.filtered <- df \\%>\\% filter(TRUE), \\}, \\{,     fit\\_fun <- glm,     fam <- \"gaussian\",     df.filtered\\$outcome <- log1p(df.filtered\\$death),     fit <- fit\\_fun(outcome \\textasciitilde{} pressure * masfem * dam, family = fam, ,         data = df.filtered), \\}, \\{,     sf <- summary(fit),     effect <- coefficients(sf){[}\"masfem\", 4{]}, \\}, \\{,     sf <- summary(fit),     effect <- coefficients(sf){[}\"masfem\", 4{]}, \\} & <environment: 0x5609a473e5f8> & NA, NA, NA, NA, NA & 5.896454e-01\\\\\n",
       "\t  4 & no\\_exclusion     & poisson  & marginal & no\\_exclusion, poisson     , marginal     & \\{,     df <- hurricane\\_data, \\}, \\{,     df.filtered <- df \\%>\\% filter(TRUE), \\}, \\{,     fit\\_fun <- glm,     fam <- \"poisson\",     df.filtered\\$outcome <- df.filtered\\$death,     fit <- fit\\_fun(outcome \\textasciitilde{} masfem + pressure + dam, family = fam, ,         data = df.filtered), \\}, \\{,     sf <- summary(fit),     effect <- coefficients(sf){[}\"masfem\", 4{]}, \\}, \\{,     sf <- summary(fit),     effect <- coefficients(sf){[}\"masfem\", 4{]}, \\} & <environment: 0x5609a30646e0> & NA, NA, NA, NA, NA & 3.660634e-25\\\\\n",
       "\t  5 & no\\_exclusion     & poisson  & 2int1    & no\\_exclusion, poisson     , 2int1        & \\{,     df <- hurricane\\_data, \\}, \\{,     df.filtered <- df \\%>\\% filter(TRUE), \\}, \\{,     fit\\_fun <- glm,     fam <- \"poisson\",     df.filtered\\$outcome <- df.filtered\\$death,     fit <- fit\\_fun(outcome \\textasciitilde{} pressure * masfem + pressure * dam, ,         family = fam, data = df.filtered), \\}, \\{,     sf <- summary(fit),     effect <- coefficients(sf){[}\"masfem\", 4{]}, \\}, \\{,     sf <- summary(fit),     effect <- coefficients(sf){[}\"masfem\", 4{]}, \\} & <environment: 0x5609a4a8fd18> & NA, NA, NA, NA, NA & 2.251002e-03\\\\\n",
       "\t  6 & no\\_exclusion     & poisson  & 3int     & no\\_exclusion, poisson     , 3int         & \\{,     df <- hurricane\\_data, \\}, \\{,     df.filtered <- df \\%>\\% filter(TRUE), \\}, \\{,     fit\\_fun <- glm,     fam <- \"poisson\",     df.filtered\\$outcome <- df.filtered\\$death,     fit <- fit\\_fun(outcome \\textasciitilde{} pressure * masfem * dam, family = fam, ,         data = df.filtered), \\}, \\{,     sf <- summary(fit),     effect <- coefficients(sf){[}\"masfem\", 4{]}, \\}, \\{,     sf <- summary(fit),     effect <- coefficients(sf){[}\"masfem\", 4{]}, \\} & <environment: 0x5609a5ab7a00> & NA, NA, NA, NA, NA & 4.709140e-02\\\\\n",
       "\t  7 & no\\_exclusion     & nb       & marginal & no\\_exclusion, nb          , marginal     & \\{,     df <- hurricane\\_data, \\}, \\{,     df.filtered <- df \\%>\\% filter(TRUE), \\}, \\{,     fit\\_fun <- mgcv::gam,     fam <- \"nb\",     df.filtered\\$outcome <- df.filtered\\$death,     fit <- fit\\_fun(outcome \\textasciitilde{} masfem + pressure + dam, family = fam, ,         data = df.filtered), \\}, \\{,     sf <- summary(fit),     effect <- sf\\$p.table{[}\"masfem\", 4{]}, \\}, \\{,     sf <- summary(fit),     effect <- sf\\$p.table{[}\"masfem\", 4{]}, \\} & <environment: 0x5609a6a74218> & NA, NA, NA, NA, NA & 3.969918e-01\\\\\n",
       "\t  8 & no\\_exclusion     & nb       & 2int1    & no\\_exclusion, nb          , 2int1        & \\{,     df <- hurricane\\_data, \\}, \\{,     df.filtered <- df \\%>\\% filter(TRUE), \\}, \\{,     fit\\_fun <- mgcv::gam,     fam <- \"nb\",     df.filtered\\$outcome <- df.filtered\\$death,     fit <- fit\\_fun(outcome \\textasciitilde{} pressure * masfem + pressure * dam, ,         family = fam, data = df.filtered), \\}, \\{,     sf <- summary(fit),     effect <- sf\\$p.table{[}\"masfem\", 4{]}, \\}, \\{,     sf <- summary(fit),     effect <- sf\\$p.table{[}\"masfem\", 4{]}, \\} & <environment: 0x5609a1d856d0> & NA, NA, NA, NA, NA & 4.682403e-01\\\\\n",
       "\t  9 & no\\_exclusion     & nb       & 3int     & no\\_exclusion, nb          , 3int         & \\{,     df <- hurricane\\_data, \\}, \\{,     df.filtered <- df \\%>\\% filter(TRUE), \\}, \\{,     fit\\_fun <- mgcv::gam,     fam <- \"nb\",     df.filtered\\$outcome <- df.filtered\\$death,     fit <- fit\\_fun(outcome \\textasciitilde{} pressure * masfem * dam, family = fam, ,         data = df.filtered), \\}, \\{,     sf <- summary(fit),     effect <- sf\\$p.table{[}\"masfem\", 4{]}, \\}, \\{,     sf <- summary(fit),     effect <- sf\\$p.table{[}\"masfem\", 4{]}, \\} & <environment: 0x5609a2752168> & NA, NA, NA, NA, NA & 8.128563e-01\\\\\n",
       "\t 10 & most\\_extreme     & gaussian & marginal & most\\_extreme, gaussian    , marginal     & \\{,     df <- hurricane\\_data, \\}, \\{,     df.filtered <- df \\%>\\% filter(name != \"Katrina\"), \\}, \\{,     fit\\_fun <- glm,     fam <- \"gaussian\",     df.filtered\\$outcome <- log1p(df.filtered\\$death),     fit <- fit\\_fun(outcome \\textasciitilde{} masfem + pressure + dam, family = fam, ,         data = df.filtered), \\}, \\{,     sf <- summary(fit),     effect <- coefficients(sf){[}\"masfem\", 4{]}, \\}, \\{,     sf <- summary(fit),     effect <- coefficients(sf){[}\"masfem\", 4{]}, \\} & <environment: 0x5609a289a170> & NA, NA, NA, NA, NA & 6.991712e-01\\\\\n",
       "\t 11 & most\\_extreme     & gaussian & 2int1    & most\\_extreme, gaussian    , 2int1        & \\{,     df <- hurricane\\_data, \\}, \\{,     df.filtered <- df \\%>\\% filter(name != \"Katrina\"), \\}, \\{,     fit\\_fun <- glm,     fam <- \"gaussian\",     df.filtered\\$outcome <- log1p(df.filtered\\$death),     fit <- fit\\_fun(outcome \\textasciitilde{} pressure * masfem + pressure * dam, ,         family = fam, data = df.filtered), \\}, \\{,     sf <- summary(fit),     effect <- coefficients(sf){[}\"masfem\", 4{]}, \\}, \\{,     sf <- summary(fit),     effect <- coefficients(sf){[}\"masfem\", 4{]}, \\} & <environment: 0x5609a2baab28> & NA, NA, NA, NA, NA & 4.973535e-01\\\\\n",
       "\t 12 & most\\_extreme     & gaussian & 3int     & most\\_extreme, gaussian    , 3int         & \\{,     df <- hurricane\\_data, \\}, \\{,     df.filtered <- df \\%>\\% filter(name != \"Katrina\"), \\}, \\{,     fit\\_fun <- glm,     fam <- \"gaussian\",     df.filtered\\$outcome <- log1p(df.filtered\\$death),     fit <- fit\\_fun(outcome \\textasciitilde{} pressure * masfem * dam, family = fam, ,         data = df.filtered), \\}, \\{,     sf <- summary(fit),     effect <- coefficients(sf){[}\"masfem\", 4{]}, \\}, \\{,     sf <- summary(fit),     effect <- coefficients(sf){[}\"masfem\", 4{]}, \\} & <environment: 0x5609a2de62b0> & NA, NA, NA, NA, NA & 5.896454e-01\\\\\n",
       "\t 13 & most\\_extreme     & poisson  & marginal & most\\_extreme, poisson     , marginal     & \\{,     df <- hurricane\\_data, \\}, \\{,     df.filtered <- df \\%>\\% filter(name != \"Katrina\"), \\}, \\{,     fit\\_fun <- glm,     fam <- \"poisson\",     df.filtered\\$outcome <- df.filtered\\$death,     fit <- fit\\_fun(outcome \\textasciitilde{} masfem + pressure + dam, family = fam, ,         data = df.filtered), \\}, \\{,     sf <- summary(fit),     effect <- coefficients(sf){[}\"masfem\", 4{]}, \\}, \\{,     sf <- summary(fit),     effect <- coefficients(sf){[}\"masfem\", 4{]}, \\} & <environment: 0x5609a2f586b8> & NA, NA, NA, NA, NA & 3.660634e-25\\\\\n",
       "\t 14 & most\\_extreme     & poisson  & 2int1    & most\\_extreme, poisson     , 2int1        & \\{,     df <- hurricane\\_data, \\}, \\{,     df.filtered <- df \\%>\\% filter(name != \"Katrina\"), \\}, \\{,     fit\\_fun <- glm,     fam <- \"poisson\",     df.filtered\\$outcome <- df.filtered\\$death,     fit <- fit\\_fun(outcome \\textasciitilde{} pressure * masfem + pressure * dam, ,         family = fam, data = df.filtered), \\}, \\{,     sf <- summary(fit),     effect <- coefficients(sf){[}\"masfem\", 4{]}, \\}, \\{,     sf <- summary(fit),     effect <- coefficients(sf){[}\"masfem\", 4{]}, \\} & <environment: 0x5609a319d000> & NA, NA, NA, NA, NA & 2.251002e-03\\\\\n",
       "\t 15 & most\\_extreme     & poisson  & 3int     & most\\_extreme, poisson     , 3int         & \\{,     df <- hurricane\\_data, \\}, \\{,     df.filtered <- df \\%>\\% filter(name != \"Katrina\"), \\}, \\{,     fit\\_fun <- glm,     fam <- \"poisson\",     df.filtered\\$outcome <- df.filtered\\$death,     fit <- fit\\_fun(outcome \\textasciitilde{} pressure * masfem * dam, family = fam, ,         data = df.filtered), \\}, \\{,     sf <- summary(fit),     effect <- coefficients(sf){[}\"masfem\", 4{]}, \\}, \\{,     sf <- summary(fit),     effect <- coefficients(sf){[}\"masfem\", 4{]}, \\} & <environment: 0x5609a3429ef8> & NA, NA, NA, NA, NA & 4.709140e-02\\\\\n",
       "\t 16 & most\\_extreme     & nb       & marginal & most\\_extreme, nb          , marginal     & \\{,     df <- hurricane\\_data, \\}, \\{,     df.filtered <- df \\%>\\% filter(name != \"Katrina\"), \\}, \\{,     fit\\_fun <- mgcv::gam,     fam <- \"nb\",     df.filtered\\$outcome <- df.filtered\\$death,     fit <- fit\\_fun(outcome \\textasciitilde{} masfem + pressure + dam, family = fam, ,         data = df.filtered), \\}, \\{,     sf <- summary(fit),     effect <- sf\\$p.table{[}\"masfem\", 4{]}, \\}, \\{,     sf <- summary(fit),     effect <- sf\\$p.table{[}\"masfem\", 4{]}, \\} & <environment: 0x5609a3d50230> & NA, NA, NA, NA, NA & 3.969918e-01\\\\\n",
       "\t 17 & most\\_extreme     & nb       & 2int1    & most\\_extreme, nb          , 2int1        & \\{,     df <- hurricane\\_data, \\}, \\{,     df.filtered <- df \\%>\\% filter(name != \"Katrina\"), \\}, \\{,     fit\\_fun <- mgcv::gam,     fam <- \"nb\",     df.filtered\\$outcome <- df.filtered\\$death,     fit <- fit\\_fun(outcome \\textasciitilde{} pressure * masfem + pressure * dam, ,         family = fam, data = df.filtered), \\}, \\{,     sf <- summary(fit),     effect <- sf\\$p.table{[}\"masfem\", 4{]}, \\}, \\{,     sf <- summary(fit),     effect <- sf\\$p.table{[}\"masfem\", 4{]}, \\} & <environment: 0x5609a45dbdc8> & NA, NA, NA, NA, NA & 4.682403e-01\\\\\n",
       "\t 18 & most\\_extreme     & nb       & 3int     & most\\_extreme, nb          , 3int         & \\{,     df <- hurricane\\_data, \\}, \\{,     df.filtered <- df \\%>\\% filter(name != \"Katrina\"), \\}, \\{,     fit\\_fun <- mgcv::gam,     fam <- \"nb\",     df.filtered\\$outcome <- df.filtered\\$death,     fit <- fit\\_fun(outcome \\textasciitilde{} pressure * masfem * dam, family = fam, ,         data = df.filtered), \\}, \\{,     sf <- summary(fit),     effect <- sf\\$p.table{[}\"masfem\", 4{]}, \\}, \\{,     sf <- summary(fit),     effect <- sf\\$p.table{[}\"masfem\", 4{]}, \\} & <environment: 0x5609a4883f80> & NA, NA, NA, NA, NA & 8.128563e-01\\\\\n",
       "\t 19 & two\\_most\\_extreme & gaussian & marginal & two\\_most\\_extreme, gaussian        , marginal         & \\{,     df <- hurricane\\_data, \\}, \\{,     df.filtered <- df \\%>\\% filter((name != \"Katrina\") \\& (name != ,         \"Audrey\")), \\}, \\{,     fit\\_fun <- glm,     fam <- \"gaussian\",     df.filtered\\$outcome <- log1p(df.filtered\\$death),     fit <- fit\\_fun(outcome \\textasciitilde{} masfem + pressure + dam, family = fam, ,         data = df.filtered), \\}, \\{,     sf <- summary(fit),     effect <- coefficients(sf){[}\"masfem\", 4{]}, \\}, \\{,     sf <- summary(fit),     effect <- coefficients(sf){[}\"masfem\", 4{]}, \\} & <environment: 0x5609a4b82c78> & NA, NA, NA, NA, NA & 6.991712e-01\\\\\n",
       "\t 20 & two\\_most\\_extreme & gaussian & 2int1    & two\\_most\\_extreme, gaussian        , 2int1            & \\{,     df <- hurricane\\_data, \\}, \\{,     df.filtered <- df \\%>\\% filter((name != \"Katrina\") \\& (name != ,         \"Audrey\")), \\}, \\{,     fit\\_fun <- glm,     fam <- \"gaussian\",     df.filtered\\$outcome <- log1p(df.filtered\\$death),     fit <- fit\\_fun(outcome \\textasciitilde{} pressure * masfem + pressure * dam, ,         family = fam, data = df.filtered), \\}, \\{,     sf <- summary(fit),     effect <- coefficients(sf){[}\"masfem\", 4{]}, \\}, \\{,     sf <- summary(fit),     effect <- coefficients(sf){[}\"masfem\", 4{]}, \\} & <environment: 0x5609a4e1ac70> & NA, NA, NA, NA, NA & 4.973535e-01\\\\\n",
       "\t 21 & two\\_most\\_extreme & gaussian & 3int     & two\\_most\\_extreme, gaussian        , 3int             & \\{,     df <- hurricane\\_data, \\}, \\{,     df.filtered <- df \\%>\\% filter((name != \"Katrina\") \\& (name != ,         \"Audrey\")), \\}, \\{,     fit\\_fun <- glm,     fam <- \"gaussian\",     df.filtered\\$outcome <- log1p(df.filtered\\$death),     fit <- fit\\_fun(outcome \\textasciitilde{} pressure * masfem * dam, family = fam, ,         data = df.filtered), \\}, \\{,     sf <- summary(fit),     effect <- coefficients(sf){[}\"masfem\", 4{]}, \\}, \\{,     sf <- summary(fit),     effect <- coefficients(sf){[}\"masfem\", 4{]}, \\} & <environment: 0x5609a52af2f8> & NA, NA, NA, NA, NA & 5.896454e-01\\\\\n",
       "\t 22 & two\\_most\\_extreme & poisson  & marginal & two\\_most\\_extreme, poisson         , marginal         & \\{,     df <- hurricane\\_data, \\}, \\{,     df.filtered <- df \\%>\\% filter((name != \"Katrina\") \\& (name != ,         \"Audrey\")), \\}, \\{,     fit\\_fun <- glm,     fam <- \"poisson\",     df.filtered\\$outcome <- df.filtered\\$death,     fit <- fit\\_fun(outcome \\textasciitilde{} masfem + pressure + dam, family = fam, ,         data = df.filtered), \\}, \\{,     sf <- summary(fit),     effect <- coefficients(sf){[}\"masfem\", 4{]}, \\}, \\{,     sf <- summary(fit),     effect <- coefficients(sf){[}\"masfem\", 4{]}, \\} & <environment: 0x5609a5973df0> & NA, NA, NA, NA, NA & 3.660634e-25\\\\\n",
       "\t 23 & two\\_most\\_extreme & poisson  & 2int1    & two\\_most\\_extreme, poisson         , 2int1            & \\{,     df <- hurricane\\_data, \\}, \\{,     df.filtered <- df \\%>\\% filter((name != \"Katrina\") \\& (name != ,         \"Audrey\")), \\}, \\{,     fit\\_fun <- glm,     fam <- \"poisson\",     df.filtered\\$outcome <- df.filtered\\$death,     fit <- fit\\_fun(outcome \\textasciitilde{} pressure * masfem + pressure * dam, ,         family = fam, data = df.filtered), \\}, \\{,     sf <- summary(fit),     effect <- coefficients(sf){[}\"masfem\", 4{]}, \\}, \\{,     sf <- summary(fit),     effect <- coefficients(sf){[}\"masfem\", 4{]}, \\} & <environment: 0x5609a5af8d08> & NA, NA, NA, NA, NA & 2.251002e-03\\\\\n",
       "\t 24 & two\\_most\\_extreme & poisson  & 3int     & two\\_most\\_extreme, poisson         , 3int             & \\{,     df <- hurricane\\_data, \\}, \\{,     df.filtered <- df \\%>\\% filter((name != \"Katrina\") \\& (name != ,         \"Audrey\")), \\}, \\{,     fit\\_fun <- glm,     fam <- \"poisson\",     df.filtered\\$outcome <- df.filtered\\$death,     fit <- fit\\_fun(outcome \\textasciitilde{} pressure * masfem * dam, family = fam, ,         data = df.filtered), \\}, \\{,     sf <- summary(fit),     effect <- coefficients(sf){[}\"masfem\", 4{]}, \\}, \\{,     sf <- summary(fit),     effect <- coefficients(sf){[}\"masfem\", 4{]}, \\} & <environment: 0x5609a5c90f70> & NA, NA, NA, NA, NA & 4.709140e-02\\\\\n",
       "\t 25 & two\\_most\\_extreme & nb       & marginal & two\\_most\\_extreme, nb              , marginal         & \\{,     df <- hurricane\\_data, \\}, \\{,     df.filtered <- df \\%>\\% filter((name != \"Katrina\") \\& (name != ,         \"Audrey\")), \\}, \\{,     fit\\_fun <- mgcv::gam,     fam <- \"nb\",     df.filtered\\$outcome <- df.filtered\\$death,     fit <- fit\\_fun(outcome \\textasciitilde{} masfem + pressure + dam, family = fam, ,         data = df.filtered), \\}, \\{,     sf <- summary(fit),     effect <- sf\\$p.table{[}\"masfem\", 4{]}, \\}, \\{,     sf <- summary(fit),     effect <- sf\\$p.table{[}\"masfem\", 4{]}, \\} & <environment: 0x5609a61ed2b8> & NA, NA, NA, NA, NA & 3.969918e-01\\\\\n",
       "\t 26 & two\\_most\\_extreme & nb       & 2int1    & two\\_most\\_extreme, nb              , 2int1            & \\{,     df <- hurricane\\_data, \\}, \\{,     df.filtered <- df \\%>\\% filter((name != \"Katrina\") \\& (name != ,         \"Audrey\")), \\}, \\{,     fit\\_fun <- mgcv::gam,     fam <- \"nb\",     df.filtered\\$outcome <- df.filtered\\$death,     fit <- fit\\_fun(outcome \\textasciitilde{} pressure * masfem + pressure * dam, ,         family = fam, data = df.filtered), \\}, \\{,     sf <- summary(fit),     effect <- sf\\$p.table{[}\"masfem\", 4{]}, \\}, \\{,     sf <- summary(fit),     effect <- sf\\$p.table{[}\"masfem\", 4{]}, \\} & <environment: 0x5609a65d0a60> & NA, NA, NA, NA, NA & 4.682403e-01\\\\\n",
       "\t 27 & two\\_most\\_extreme & nb       & 3int     & two\\_most\\_extreme, nb              , 3int             & \\{,     df <- hurricane\\_data, \\}, \\{,     df.filtered <- df \\%>\\% filter((name != \"Katrina\") \\& (name != ,         \"Audrey\")), \\}, \\{,     fit\\_fun <- mgcv::gam,     fam <- \"nb\",     df.filtered\\$outcome <- df.filtered\\$death,     fit <- fit\\_fun(outcome \\textasciitilde{} pressure * masfem * dam, family = fam, ,         data = df.filtered), \\}, \\{,     sf <- summary(fit),     effect <- sf\\$p.table{[}\"masfem\", 4{]}, \\}, \\{,     sf <- summary(fit),     effect <- sf\\$p.table{[}\"masfem\", 4{]}, \\} & <environment: 0x5609a6cdc8b8> & NA, NA, NA, NA, NA & 8.128563e-01\\\\\n",
       "\\end{tabular}\n"
      ],
      "text/markdown": [
       "\n",
       "A tibble: 27 × 9\n",
       "\n",
       "| .universe &lt;int&gt; | death_outliers &lt;chr&gt; | family &lt;chr&gt; | formula &lt;chr&gt; | .parameter_assignment &lt;list&gt; | .code &lt;list&gt; | .results &lt;list&gt; | .errors &lt;list&gt; | effect &lt;dbl&gt; |\n",
       "|---|---|---|---|---|---|---|---|---|\n",
       "|  1 | no_exclusion     | gaussian | marginal | no_exclusion, gaussian    , marginal     | {,     df &lt;- hurricane_data, }, {,     df.filtered &lt;- df %&gt;% filter(TRUE), }, {,     fit_fun &lt;- glm,     fam &lt;- \"gaussian\",     df.filtered$outcome &lt;- log1p(df.filtered$death),     fit &lt;- fit_fun(outcome ~ masfem + pressure + dam, family = fam, ,         data = df.filtered), }, {,     sf &lt;- summary(fit),     effect &lt;- coefficients(sf)[\"masfem\", 4], }, {,     sf &lt;- summary(fit),     effect &lt;- coefficients(sf)[\"masfem\", 4], } | &lt;environment: 0x5609a971edb0&gt; | NA, NA, NA, NA, NA | 6.991712e-01 |\n",
       "|  2 | no_exclusion     | gaussian | 2int1    | no_exclusion, gaussian    , 2int1        | {,     df &lt;- hurricane_data, }, {,     df.filtered &lt;- df %&gt;% filter(TRUE), }, {,     fit_fun &lt;- glm,     fam &lt;- \"gaussian\",     df.filtered$outcome &lt;- log1p(df.filtered$death),     fit &lt;- fit_fun(outcome ~ pressure * masfem + pressure * dam, ,         family = fam, data = df.filtered), }, {,     sf &lt;- summary(fit),     effect &lt;- coefficients(sf)[\"masfem\", 4], }, {,     sf &lt;- summary(fit),     effect &lt;- coefficients(sf)[\"masfem\", 4], } | &lt;environment: 0x5609a6a07518&gt; | NA, NA, NA, NA, NA | 4.973535e-01 |\n",
       "|  3 | no_exclusion     | gaussian | 3int     | no_exclusion, gaussian    , 3int         | {,     df &lt;- hurricane_data, }, {,     df.filtered &lt;- df %&gt;% filter(TRUE), }, {,     fit_fun &lt;- glm,     fam &lt;- \"gaussian\",     df.filtered$outcome &lt;- log1p(df.filtered$death),     fit &lt;- fit_fun(outcome ~ pressure * masfem * dam, family = fam, ,         data = df.filtered), }, {,     sf &lt;- summary(fit),     effect &lt;- coefficients(sf)[\"masfem\", 4], }, {,     sf &lt;- summary(fit),     effect &lt;- coefficients(sf)[\"masfem\", 4], } | &lt;environment: 0x5609a473e5f8&gt; | NA, NA, NA, NA, NA | 5.896454e-01 |\n",
       "|  4 | no_exclusion     | poisson  | marginal | no_exclusion, poisson     , marginal     | {,     df &lt;- hurricane_data, }, {,     df.filtered &lt;- df %&gt;% filter(TRUE), }, {,     fit_fun &lt;- glm,     fam &lt;- \"poisson\",     df.filtered$outcome &lt;- df.filtered$death,     fit &lt;- fit_fun(outcome ~ masfem + pressure + dam, family = fam, ,         data = df.filtered), }, {,     sf &lt;- summary(fit),     effect &lt;- coefficients(sf)[\"masfem\", 4], }, {,     sf &lt;- summary(fit),     effect &lt;- coefficients(sf)[\"masfem\", 4], } | &lt;environment: 0x5609a30646e0&gt; | NA, NA, NA, NA, NA | 3.660634e-25 |\n",
       "|  5 | no_exclusion     | poisson  | 2int1    | no_exclusion, poisson     , 2int1        | {,     df &lt;- hurricane_data, }, {,     df.filtered &lt;- df %&gt;% filter(TRUE), }, {,     fit_fun &lt;- glm,     fam &lt;- \"poisson\",     df.filtered$outcome &lt;- df.filtered$death,     fit &lt;- fit_fun(outcome ~ pressure * masfem + pressure * dam, ,         family = fam, data = df.filtered), }, {,     sf &lt;- summary(fit),     effect &lt;- coefficients(sf)[\"masfem\", 4], }, {,     sf &lt;- summary(fit),     effect &lt;- coefficients(sf)[\"masfem\", 4], } | &lt;environment: 0x5609a4a8fd18&gt; | NA, NA, NA, NA, NA | 2.251002e-03 |\n",
       "|  6 | no_exclusion     | poisson  | 3int     | no_exclusion, poisson     , 3int         | {,     df &lt;- hurricane_data, }, {,     df.filtered &lt;- df %&gt;% filter(TRUE), }, {,     fit_fun &lt;- glm,     fam &lt;- \"poisson\",     df.filtered$outcome &lt;- df.filtered$death,     fit &lt;- fit_fun(outcome ~ pressure * masfem * dam, family = fam, ,         data = df.filtered), }, {,     sf &lt;- summary(fit),     effect &lt;- coefficients(sf)[\"masfem\", 4], }, {,     sf &lt;- summary(fit),     effect &lt;- coefficients(sf)[\"masfem\", 4], } | &lt;environment: 0x5609a5ab7a00&gt; | NA, NA, NA, NA, NA | 4.709140e-02 |\n",
       "|  7 | no_exclusion     | nb       | marginal | no_exclusion, nb          , marginal     | {,     df &lt;- hurricane_data, }, {,     df.filtered &lt;- df %&gt;% filter(TRUE), }, {,     fit_fun &lt;- mgcv::gam,     fam &lt;- \"nb\",     df.filtered$outcome &lt;- df.filtered$death,     fit &lt;- fit_fun(outcome ~ masfem + pressure + dam, family = fam, ,         data = df.filtered), }, {,     sf &lt;- summary(fit),     effect &lt;- sf$p.table[\"masfem\", 4], }, {,     sf &lt;- summary(fit),     effect &lt;- sf$p.table[\"masfem\", 4], } | &lt;environment: 0x5609a6a74218&gt; | NA, NA, NA, NA, NA | 3.969918e-01 |\n",
       "|  8 | no_exclusion     | nb       | 2int1    | no_exclusion, nb          , 2int1        | {,     df &lt;- hurricane_data, }, {,     df.filtered &lt;- df %&gt;% filter(TRUE), }, {,     fit_fun &lt;- mgcv::gam,     fam &lt;- \"nb\",     df.filtered$outcome &lt;- df.filtered$death,     fit &lt;- fit_fun(outcome ~ pressure * masfem + pressure * dam, ,         family = fam, data = df.filtered), }, {,     sf &lt;- summary(fit),     effect &lt;- sf$p.table[\"masfem\", 4], }, {,     sf &lt;- summary(fit),     effect &lt;- sf$p.table[\"masfem\", 4], } | &lt;environment: 0x5609a1d856d0&gt; | NA, NA, NA, NA, NA | 4.682403e-01 |\n",
       "|  9 | no_exclusion     | nb       | 3int     | no_exclusion, nb          , 3int         | {,     df &lt;- hurricane_data, }, {,     df.filtered &lt;- df %&gt;% filter(TRUE), }, {,     fit_fun &lt;- mgcv::gam,     fam &lt;- \"nb\",     df.filtered$outcome &lt;- df.filtered$death,     fit &lt;- fit_fun(outcome ~ pressure * masfem * dam, family = fam, ,         data = df.filtered), }, {,     sf &lt;- summary(fit),     effect &lt;- sf$p.table[\"masfem\", 4], }, {,     sf &lt;- summary(fit),     effect &lt;- sf$p.table[\"masfem\", 4], } | &lt;environment: 0x5609a2752168&gt; | NA, NA, NA, NA, NA | 8.128563e-01 |\n",
       "| 10 | most_extreme     | gaussian | marginal | most_extreme, gaussian    , marginal     | {,     df &lt;- hurricane_data, }, {,     df.filtered &lt;- df %&gt;% filter(name != \"Katrina\"), }, {,     fit_fun &lt;- glm,     fam &lt;- \"gaussian\",     df.filtered$outcome &lt;- log1p(df.filtered$death),     fit &lt;- fit_fun(outcome ~ masfem + pressure + dam, family = fam, ,         data = df.filtered), }, {,     sf &lt;- summary(fit),     effect &lt;- coefficients(sf)[\"masfem\", 4], }, {,     sf &lt;- summary(fit),     effect &lt;- coefficients(sf)[\"masfem\", 4], } | &lt;environment: 0x5609a289a170&gt; | NA, NA, NA, NA, NA | 6.991712e-01 |\n",
       "| 11 | most_extreme     | gaussian | 2int1    | most_extreme, gaussian    , 2int1        | {,     df &lt;- hurricane_data, }, {,     df.filtered &lt;- df %&gt;% filter(name != \"Katrina\"), }, {,     fit_fun &lt;- glm,     fam &lt;- \"gaussian\",     df.filtered$outcome &lt;- log1p(df.filtered$death),     fit &lt;- fit_fun(outcome ~ pressure * masfem + pressure * dam, ,         family = fam, data = df.filtered), }, {,     sf &lt;- summary(fit),     effect &lt;- coefficients(sf)[\"masfem\", 4], }, {,     sf &lt;- summary(fit),     effect &lt;- coefficients(sf)[\"masfem\", 4], } | &lt;environment: 0x5609a2baab28&gt; | NA, NA, NA, NA, NA | 4.973535e-01 |\n",
       "| 12 | most_extreme     | gaussian | 3int     | most_extreme, gaussian    , 3int         | {,     df &lt;- hurricane_data, }, {,     df.filtered &lt;- df %&gt;% filter(name != \"Katrina\"), }, {,     fit_fun &lt;- glm,     fam &lt;- \"gaussian\",     df.filtered$outcome &lt;- log1p(df.filtered$death),     fit &lt;- fit_fun(outcome ~ pressure * masfem * dam, family = fam, ,         data = df.filtered), }, {,     sf &lt;- summary(fit),     effect &lt;- coefficients(sf)[\"masfem\", 4], }, {,     sf &lt;- summary(fit),     effect &lt;- coefficients(sf)[\"masfem\", 4], } | &lt;environment: 0x5609a2de62b0&gt; | NA, NA, NA, NA, NA | 5.896454e-01 |\n",
       "| 13 | most_extreme     | poisson  | marginal | most_extreme, poisson     , marginal     | {,     df &lt;- hurricane_data, }, {,     df.filtered &lt;- df %&gt;% filter(name != \"Katrina\"), }, {,     fit_fun &lt;- glm,     fam &lt;- \"poisson\",     df.filtered$outcome &lt;- df.filtered$death,     fit &lt;- fit_fun(outcome ~ masfem + pressure + dam, family = fam, ,         data = df.filtered), }, {,     sf &lt;- summary(fit),     effect &lt;- coefficients(sf)[\"masfem\", 4], }, {,     sf &lt;- summary(fit),     effect &lt;- coefficients(sf)[\"masfem\", 4], } | &lt;environment: 0x5609a2f586b8&gt; | NA, NA, NA, NA, NA | 3.660634e-25 |\n",
       "| 14 | most_extreme     | poisson  | 2int1    | most_extreme, poisson     , 2int1        | {,     df &lt;- hurricane_data, }, {,     df.filtered &lt;- df %&gt;% filter(name != \"Katrina\"), }, {,     fit_fun &lt;- glm,     fam &lt;- \"poisson\",     df.filtered$outcome &lt;- df.filtered$death,     fit &lt;- fit_fun(outcome ~ pressure * masfem + pressure * dam, ,         family = fam, data = df.filtered), }, {,     sf &lt;- summary(fit),     effect &lt;- coefficients(sf)[\"masfem\", 4], }, {,     sf &lt;- summary(fit),     effect &lt;- coefficients(sf)[\"masfem\", 4], } | &lt;environment: 0x5609a319d000&gt; | NA, NA, NA, NA, NA | 2.251002e-03 |\n",
       "| 15 | most_extreme     | poisson  | 3int     | most_extreme, poisson     , 3int         | {,     df &lt;- hurricane_data, }, {,     df.filtered &lt;- df %&gt;% filter(name != \"Katrina\"), }, {,     fit_fun &lt;- glm,     fam &lt;- \"poisson\",     df.filtered$outcome &lt;- df.filtered$death,     fit &lt;- fit_fun(outcome ~ pressure * masfem * dam, family = fam, ,         data = df.filtered), }, {,     sf &lt;- summary(fit),     effect &lt;- coefficients(sf)[\"masfem\", 4], }, {,     sf &lt;- summary(fit),     effect &lt;- coefficients(sf)[\"masfem\", 4], } | &lt;environment: 0x5609a3429ef8&gt; | NA, NA, NA, NA, NA | 4.709140e-02 |\n",
       "| 16 | most_extreme     | nb       | marginal | most_extreme, nb          , marginal     | {,     df &lt;- hurricane_data, }, {,     df.filtered &lt;- df %&gt;% filter(name != \"Katrina\"), }, {,     fit_fun &lt;- mgcv::gam,     fam &lt;- \"nb\",     df.filtered$outcome &lt;- df.filtered$death,     fit &lt;- fit_fun(outcome ~ masfem + pressure + dam, family = fam, ,         data = df.filtered), }, {,     sf &lt;- summary(fit),     effect &lt;- sf$p.table[\"masfem\", 4], }, {,     sf &lt;- summary(fit),     effect &lt;- sf$p.table[\"masfem\", 4], } | &lt;environment: 0x5609a3d50230&gt; | NA, NA, NA, NA, NA | 3.969918e-01 |\n",
       "| 17 | most_extreme     | nb       | 2int1    | most_extreme, nb          , 2int1        | {,     df &lt;- hurricane_data, }, {,     df.filtered &lt;- df %&gt;% filter(name != \"Katrina\"), }, {,     fit_fun &lt;- mgcv::gam,     fam &lt;- \"nb\",     df.filtered$outcome &lt;- df.filtered$death,     fit &lt;- fit_fun(outcome ~ pressure * masfem + pressure * dam, ,         family = fam, data = df.filtered), }, {,     sf &lt;- summary(fit),     effect &lt;- sf$p.table[\"masfem\", 4], }, {,     sf &lt;- summary(fit),     effect &lt;- sf$p.table[\"masfem\", 4], } | &lt;environment: 0x5609a45dbdc8&gt; | NA, NA, NA, NA, NA | 4.682403e-01 |\n",
       "| 18 | most_extreme     | nb       | 3int     | most_extreme, nb          , 3int         | {,     df &lt;- hurricane_data, }, {,     df.filtered &lt;- df %&gt;% filter(name != \"Katrina\"), }, {,     fit_fun &lt;- mgcv::gam,     fam &lt;- \"nb\",     df.filtered$outcome &lt;- df.filtered$death,     fit &lt;- fit_fun(outcome ~ pressure * masfem * dam, family = fam, ,         data = df.filtered), }, {,     sf &lt;- summary(fit),     effect &lt;- sf$p.table[\"masfem\", 4], }, {,     sf &lt;- summary(fit),     effect &lt;- sf$p.table[\"masfem\", 4], } | &lt;environment: 0x5609a4883f80&gt; | NA, NA, NA, NA, NA | 8.128563e-01 |\n",
       "| 19 | two_most_extreme | gaussian | marginal | two_most_extreme, gaussian        , marginal         | {,     df &lt;- hurricane_data, }, {,     df.filtered &lt;- df %&gt;% filter((name != \"Katrina\") &amp; (name != ,         \"Audrey\")), }, {,     fit_fun &lt;- glm,     fam &lt;- \"gaussian\",     df.filtered$outcome &lt;- log1p(df.filtered$death),     fit &lt;- fit_fun(outcome ~ masfem + pressure + dam, family = fam, ,         data = df.filtered), }, {,     sf &lt;- summary(fit),     effect &lt;- coefficients(sf)[\"masfem\", 4], }, {,     sf &lt;- summary(fit),     effect &lt;- coefficients(sf)[\"masfem\", 4], } | &lt;environment: 0x5609a4b82c78&gt; | NA, NA, NA, NA, NA | 6.991712e-01 |\n",
       "| 20 | two_most_extreme | gaussian | 2int1    | two_most_extreme, gaussian        , 2int1            | {,     df &lt;- hurricane_data, }, {,     df.filtered &lt;- df %&gt;% filter((name != \"Katrina\") &amp; (name != ,         \"Audrey\")), }, {,     fit_fun &lt;- glm,     fam &lt;- \"gaussian\",     df.filtered$outcome &lt;- log1p(df.filtered$death),     fit &lt;- fit_fun(outcome ~ pressure * masfem + pressure * dam, ,         family = fam, data = df.filtered), }, {,     sf &lt;- summary(fit),     effect &lt;- coefficients(sf)[\"masfem\", 4], }, {,     sf &lt;- summary(fit),     effect &lt;- coefficients(sf)[\"masfem\", 4], } | &lt;environment: 0x5609a4e1ac70&gt; | NA, NA, NA, NA, NA | 4.973535e-01 |\n",
       "| 21 | two_most_extreme | gaussian | 3int     | two_most_extreme, gaussian        , 3int             | {,     df &lt;- hurricane_data, }, {,     df.filtered &lt;- df %&gt;% filter((name != \"Katrina\") &amp; (name != ,         \"Audrey\")), }, {,     fit_fun &lt;- glm,     fam &lt;- \"gaussian\",     df.filtered$outcome &lt;- log1p(df.filtered$death),     fit &lt;- fit_fun(outcome ~ pressure * masfem * dam, family = fam, ,         data = df.filtered), }, {,     sf &lt;- summary(fit),     effect &lt;- coefficients(sf)[\"masfem\", 4], }, {,     sf &lt;- summary(fit),     effect &lt;- coefficients(sf)[\"masfem\", 4], } | &lt;environment: 0x5609a52af2f8&gt; | NA, NA, NA, NA, NA | 5.896454e-01 |\n",
       "| 22 | two_most_extreme | poisson  | marginal | two_most_extreme, poisson         , marginal         | {,     df &lt;- hurricane_data, }, {,     df.filtered &lt;- df %&gt;% filter((name != \"Katrina\") &amp; (name != ,         \"Audrey\")), }, {,     fit_fun &lt;- glm,     fam &lt;- \"poisson\",     df.filtered$outcome &lt;- df.filtered$death,     fit &lt;- fit_fun(outcome ~ masfem + pressure + dam, family = fam, ,         data = df.filtered), }, {,     sf &lt;- summary(fit),     effect &lt;- coefficients(sf)[\"masfem\", 4], }, {,     sf &lt;- summary(fit),     effect &lt;- coefficients(sf)[\"masfem\", 4], } | &lt;environment: 0x5609a5973df0&gt; | NA, NA, NA, NA, NA | 3.660634e-25 |\n",
       "| 23 | two_most_extreme | poisson  | 2int1    | two_most_extreme, poisson         , 2int1            | {,     df &lt;- hurricane_data, }, {,     df.filtered &lt;- df %&gt;% filter((name != \"Katrina\") &amp; (name != ,         \"Audrey\")), }, {,     fit_fun &lt;- glm,     fam &lt;- \"poisson\",     df.filtered$outcome &lt;- df.filtered$death,     fit &lt;- fit_fun(outcome ~ pressure * masfem + pressure * dam, ,         family = fam, data = df.filtered), }, {,     sf &lt;- summary(fit),     effect &lt;- coefficients(sf)[\"masfem\", 4], }, {,     sf &lt;- summary(fit),     effect &lt;- coefficients(sf)[\"masfem\", 4], } | &lt;environment: 0x5609a5af8d08&gt; | NA, NA, NA, NA, NA | 2.251002e-03 |\n",
       "| 24 | two_most_extreme | poisson  | 3int     | two_most_extreme, poisson         , 3int             | {,     df &lt;- hurricane_data, }, {,     df.filtered &lt;- df %&gt;% filter((name != \"Katrina\") &amp; (name != ,         \"Audrey\")), }, {,     fit_fun &lt;- glm,     fam &lt;- \"poisson\",     df.filtered$outcome &lt;- df.filtered$death,     fit &lt;- fit_fun(outcome ~ pressure * masfem * dam, family = fam, ,         data = df.filtered), }, {,     sf &lt;- summary(fit),     effect &lt;- coefficients(sf)[\"masfem\", 4], }, {,     sf &lt;- summary(fit),     effect &lt;- coefficients(sf)[\"masfem\", 4], } | &lt;environment: 0x5609a5c90f70&gt; | NA, NA, NA, NA, NA | 4.709140e-02 |\n",
       "| 25 | two_most_extreme | nb       | marginal | two_most_extreme, nb              , marginal         | {,     df &lt;- hurricane_data, }, {,     df.filtered &lt;- df %&gt;% filter((name != \"Katrina\") &amp; (name != ,         \"Audrey\")), }, {,     fit_fun &lt;- mgcv::gam,     fam &lt;- \"nb\",     df.filtered$outcome &lt;- df.filtered$death,     fit &lt;- fit_fun(outcome ~ masfem + pressure + dam, family = fam, ,         data = df.filtered), }, {,     sf &lt;- summary(fit),     effect &lt;- sf$p.table[\"masfem\", 4], }, {,     sf &lt;- summary(fit),     effect &lt;- sf$p.table[\"masfem\", 4], } | &lt;environment: 0x5609a61ed2b8&gt; | NA, NA, NA, NA, NA | 3.969918e-01 |\n",
       "| 26 | two_most_extreme | nb       | 2int1    | two_most_extreme, nb              , 2int1            | {,     df &lt;- hurricane_data, }, {,     df.filtered &lt;- df %&gt;% filter((name != \"Katrina\") &amp; (name != ,         \"Audrey\")), }, {,     fit_fun &lt;- mgcv::gam,     fam &lt;- \"nb\",     df.filtered$outcome &lt;- df.filtered$death,     fit &lt;- fit_fun(outcome ~ pressure * masfem + pressure * dam, ,         family = fam, data = df.filtered), }, {,     sf &lt;- summary(fit),     effect &lt;- sf$p.table[\"masfem\", 4], }, {,     sf &lt;- summary(fit),     effect &lt;- sf$p.table[\"masfem\", 4], } | &lt;environment: 0x5609a65d0a60&gt; | NA, NA, NA, NA, NA | 4.682403e-01 |\n",
       "| 27 | two_most_extreme | nb       | 3int     | two_most_extreme, nb              , 3int             | {,     df &lt;- hurricane_data, }, {,     df.filtered &lt;- df %&gt;% filter((name != \"Katrina\") &amp; (name != ,         \"Audrey\")), }, {,     fit_fun &lt;- mgcv::gam,     fam &lt;- \"nb\",     df.filtered$outcome &lt;- df.filtered$death,     fit &lt;- fit_fun(outcome ~ pressure * masfem * dam, family = fam, ,         data = df.filtered), }, {,     sf &lt;- summary(fit),     effect &lt;- sf$p.table[\"masfem\", 4], }, {,     sf &lt;- summary(fit),     effect &lt;- sf$p.table[\"masfem\", 4], } | &lt;environment: 0x5609a6cdc8b8&gt; | NA, NA, NA, NA, NA | 8.128563e-01 |\n",
       "\n"
      ],
      "text/plain": [
       "   .universe death_outliers   family   formula \n",
       "1   1        no_exclusion     gaussian marginal\n",
       "2   2        no_exclusion     gaussian 2int1   \n",
       "3   3        no_exclusion     gaussian 3int    \n",
       "4   4        no_exclusion     poisson  marginal\n",
       "5   5        no_exclusion     poisson  2int1   \n",
       "6   6        no_exclusion     poisson  3int    \n",
       "7   7        no_exclusion     nb       marginal\n",
       "8   8        no_exclusion     nb       2int1   \n",
       "9   9        no_exclusion     nb       3int    \n",
       "10 10        most_extreme     gaussian marginal\n",
       "11 11        most_extreme     gaussian 2int1   \n",
       "12 12        most_extreme     gaussian 3int    \n",
       "13 13        most_extreme     poisson  marginal\n",
       "14 14        most_extreme     poisson  2int1   \n",
       "15 15        most_extreme     poisson  3int    \n",
       "16 16        most_extreme     nb       marginal\n",
       "17 17        most_extreme     nb       2int1   \n",
       "18 18        most_extreme     nb       3int    \n",
       "19 19        two_most_extreme gaussian marginal\n",
       "20 20        two_most_extreme gaussian 2int1   \n",
       "21 21        two_most_extreme gaussian 3int    \n",
       "22 22        two_most_extreme poisson  marginal\n",
       "23 23        two_most_extreme poisson  2int1   \n",
       "24 24        two_most_extreme poisson  3int    \n",
       "25 25        two_most_extreme nb       marginal\n",
       "26 26        two_most_extreme nb       2int1   \n",
       "27 27        two_most_extreme nb       3int    \n",
       "   .parameter_assignment                               \n",
       "1  no_exclusion, gaussian    , marginal                \n",
       "2  no_exclusion, gaussian    , 2int1                   \n",
       "3  no_exclusion, gaussian    , 3int                    \n",
       "4  no_exclusion, poisson     , marginal                \n",
       "5  no_exclusion, poisson     , 2int1                   \n",
       "6  no_exclusion, poisson     , 3int                    \n",
       "7  no_exclusion, nb          , marginal                \n",
       "8  no_exclusion, nb          , 2int1                   \n",
       "9  no_exclusion, nb          , 3int                    \n",
       "10 most_extreme, gaussian    , marginal                \n",
       "11 most_extreme, gaussian    , 2int1                   \n",
       "12 most_extreme, gaussian    , 3int                    \n",
       "13 most_extreme, poisson     , marginal                \n",
       "14 most_extreme, poisson     , 2int1                   \n",
       "15 most_extreme, poisson     , 3int                    \n",
       "16 most_extreme, nb          , marginal                \n",
       "17 most_extreme, nb          , 2int1                   \n",
       "18 most_extreme, nb          , 3int                    \n",
       "19 two_most_extreme, gaussian        , marginal        \n",
       "20 two_most_extreme, gaussian        , 2int1           \n",
       "21 two_most_extreme, gaussian        , 3int            \n",
       "22 two_most_extreme, poisson         , marginal        \n",
       "23 two_most_extreme, poisson         , 2int1           \n",
       "24 two_most_extreme, poisson         , 3int            \n",
       "25 two_most_extreme, nb              , marginal        \n",
       "26 two_most_extreme, nb              , 2int1           \n",
       "27 two_most_extreme, nb              , 3int            \n",
       "   .code                                                                                                                                                                                                                                                                                                                                                                                                                                                                                               \n",
       "1  {,     df <- hurricane_data, }, {,     df.filtered <- df %>% filter(TRUE), }, {,     fit_fun <- glm,     fam <- \"gaussian\",     df.filtered$outcome <- log1p(df.filtered$death),     fit <- fit_fun(outcome ~ masfem + pressure + dam, family = fam, ,         data = df.filtered), }, {,     sf <- summary(fit),     effect <- coefficients(sf)[\"masfem\", 4], }, {,     sf <- summary(fit),     effect <- coefficients(sf)[\"masfem\", 4], }                                                         \n",
       "2  {,     df <- hurricane_data, }, {,     df.filtered <- df %>% filter(TRUE), }, {,     fit_fun <- glm,     fam <- \"gaussian\",     df.filtered$outcome <- log1p(df.filtered$death),     fit <- fit_fun(outcome ~ pressure * masfem + pressure * dam, ,         family = fam, data = df.filtered), }, {,     sf <- summary(fit),     effect <- coefficients(sf)[\"masfem\", 4], }, {,     sf <- summary(fit),     effect <- coefficients(sf)[\"masfem\", 4], }                                              \n",
       "3  {,     df <- hurricane_data, }, {,     df.filtered <- df %>% filter(TRUE), }, {,     fit_fun <- glm,     fam <- \"gaussian\",     df.filtered$outcome <- log1p(df.filtered$death),     fit <- fit_fun(outcome ~ pressure * masfem * dam, family = fam, ,         data = df.filtered), }, {,     sf <- summary(fit),     effect <- coefficients(sf)[\"masfem\", 4], }, {,     sf <- summary(fit),     effect <- coefficients(sf)[\"masfem\", 4], }                                                         \n",
       "4  {,     df <- hurricane_data, }, {,     df.filtered <- df %>% filter(TRUE), }, {,     fit_fun <- glm,     fam <- \"poisson\",     df.filtered$outcome <- df.filtered$death,     fit <- fit_fun(outcome ~ masfem + pressure + dam, family = fam, ,         data = df.filtered), }, {,     sf <- summary(fit),     effect <- coefficients(sf)[\"masfem\", 4], }, {,     sf <- summary(fit),     effect <- coefficients(sf)[\"masfem\", 4], }                                                                 \n",
       "5  {,     df <- hurricane_data, }, {,     df.filtered <- df %>% filter(TRUE), }, {,     fit_fun <- glm,     fam <- \"poisson\",     df.filtered$outcome <- df.filtered$death,     fit <- fit_fun(outcome ~ pressure * masfem + pressure * dam, ,         family = fam, data = df.filtered), }, {,     sf <- summary(fit),     effect <- coefficients(sf)[\"masfem\", 4], }, {,     sf <- summary(fit),     effect <- coefficients(sf)[\"masfem\", 4], }                                                      \n",
       "6  {,     df <- hurricane_data, }, {,     df.filtered <- df %>% filter(TRUE), }, {,     fit_fun <- glm,     fam <- \"poisson\",     df.filtered$outcome <- df.filtered$death,     fit <- fit_fun(outcome ~ pressure * masfem * dam, family = fam, ,         data = df.filtered), }, {,     sf <- summary(fit),     effect <- coefficients(sf)[\"masfem\", 4], }, {,     sf <- summary(fit),     effect <- coefficients(sf)[\"masfem\", 4], }                                                                 \n",
       "7  {,     df <- hurricane_data, }, {,     df.filtered <- df %>% filter(TRUE), }, {,     fit_fun <- mgcv::gam,     fam <- \"nb\",     df.filtered$outcome <- df.filtered$death,     fit <- fit_fun(outcome ~ masfem + pressure + dam, family = fam, ,         data = df.filtered), }, {,     sf <- summary(fit),     effect <- sf$p.table[\"masfem\", 4], }, {,     sf <- summary(fit),     effect <- sf$p.table[\"masfem\", 4], }                                                                            \n",
       "8  {,     df <- hurricane_data, }, {,     df.filtered <- df %>% filter(TRUE), }, {,     fit_fun <- mgcv::gam,     fam <- \"nb\",     df.filtered$outcome <- df.filtered$death,     fit <- fit_fun(outcome ~ pressure * masfem + pressure * dam, ,         family = fam, data = df.filtered), }, {,     sf <- summary(fit),     effect <- sf$p.table[\"masfem\", 4], }, {,     sf <- summary(fit),     effect <- sf$p.table[\"masfem\", 4], }                                                                 \n",
       "9  {,     df <- hurricane_data, }, {,     df.filtered <- df %>% filter(TRUE), }, {,     fit_fun <- mgcv::gam,     fam <- \"nb\",     df.filtered$outcome <- df.filtered$death,     fit <- fit_fun(outcome ~ pressure * masfem * dam, family = fam, ,         data = df.filtered), }, {,     sf <- summary(fit),     effect <- sf$p.table[\"masfem\", 4], }, {,     sf <- summary(fit),     effect <- sf$p.table[\"masfem\", 4], }                                                                            \n",
       "10 {,     df <- hurricane_data, }, {,     df.filtered <- df %>% filter(name != \"Katrina\"), }, {,     fit_fun <- glm,     fam <- \"gaussian\",     df.filtered$outcome <- log1p(df.filtered$death),     fit <- fit_fun(outcome ~ masfem + pressure + dam, family = fam, ,         data = df.filtered), }, {,     sf <- summary(fit),     effect <- coefficients(sf)[\"masfem\", 4], }, {,     sf <- summary(fit),     effect <- coefficients(sf)[\"masfem\", 4], }                                            \n",
       "11 {,     df <- hurricane_data, }, {,     df.filtered <- df %>% filter(name != \"Katrina\"), }, {,     fit_fun <- glm,     fam <- \"gaussian\",     df.filtered$outcome <- log1p(df.filtered$death),     fit <- fit_fun(outcome ~ pressure * masfem + pressure * dam, ,         family = fam, data = df.filtered), }, {,     sf <- summary(fit),     effect <- coefficients(sf)[\"masfem\", 4], }, {,     sf <- summary(fit),     effect <- coefficients(sf)[\"masfem\", 4], }                                 \n",
       "12 {,     df <- hurricane_data, }, {,     df.filtered <- df %>% filter(name != \"Katrina\"), }, {,     fit_fun <- glm,     fam <- \"gaussian\",     df.filtered$outcome <- log1p(df.filtered$death),     fit <- fit_fun(outcome ~ pressure * masfem * dam, family = fam, ,         data = df.filtered), }, {,     sf <- summary(fit),     effect <- coefficients(sf)[\"masfem\", 4], }, {,     sf <- summary(fit),     effect <- coefficients(sf)[\"masfem\", 4], }                                            \n",
       "13 {,     df <- hurricane_data, }, {,     df.filtered <- df %>% filter(name != \"Katrina\"), }, {,     fit_fun <- glm,     fam <- \"poisson\",     df.filtered$outcome <- df.filtered$death,     fit <- fit_fun(outcome ~ masfem + pressure + dam, family = fam, ,         data = df.filtered), }, {,     sf <- summary(fit),     effect <- coefficients(sf)[\"masfem\", 4], }, {,     sf <- summary(fit),     effect <- coefficients(sf)[\"masfem\", 4], }                                                    \n",
       "14 {,     df <- hurricane_data, }, {,     df.filtered <- df %>% filter(name != \"Katrina\"), }, {,     fit_fun <- glm,     fam <- \"poisson\",     df.filtered$outcome <- df.filtered$death,     fit <- fit_fun(outcome ~ pressure * masfem + pressure * dam, ,         family = fam, data = df.filtered), }, {,     sf <- summary(fit),     effect <- coefficients(sf)[\"masfem\", 4], }, {,     sf <- summary(fit),     effect <- coefficients(sf)[\"masfem\", 4], }                                         \n",
       "15 {,     df <- hurricane_data, }, {,     df.filtered <- df %>% filter(name != \"Katrina\"), }, {,     fit_fun <- glm,     fam <- \"poisson\",     df.filtered$outcome <- df.filtered$death,     fit <- fit_fun(outcome ~ pressure * masfem * dam, family = fam, ,         data = df.filtered), }, {,     sf <- summary(fit),     effect <- coefficients(sf)[\"masfem\", 4], }, {,     sf <- summary(fit),     effect <- coefficients(sf)[\"masfem\", 4], }                                                    \n",
       "16 {,     df <- hurricane_data, }, {,     df.filtered <- df %>% filter(name != \"Katrina\"), }, {,     fit_fun <- mgcv::gam,     fam <- \"nb\",     df.filtered$outcome <- df.filtered$death,     fit <- fit_fun(outcome ~ masfem + pressure + dam, family = fam, ,         data = df.filtered), }, {,     sf <- summary(fit),     effect <- sf$p.table[\"masfem\", 4], }, {,     sf <- summary(fit),     effect <- sf$p.table[\"masfem\", 4], }                                                               \n",
       "17 {,     df <- hurricane_data, }, {,     df.filtered <- df %>% filter(name != \"Katrina\"), }, {,     fit_fun <- mgcv::gam,     fam <- \"nb\",     df.filtered$outcome <- df.filtered$death,     fit <- fit_fun(outcome ~ pressure * masfem + pressure * dam, ,         family = fam, data = df.filtered), }, {,     sf <- summary(fit),     effect <- sf$p.table[\"masfem\", 4], }, {,     sf <- summary(fit),     effect <- sf$p.table[\"masfem\", 4], }                                                    \n",
       "18 {,     df <- hurricane_data, }, {,     df.filtered <- df %>% filter(name != \"Katrina\"), }, {,     fit_fun <- mgcv::gam,     fam <- \"nb\",     df.filtered$outcome <- df.filtered$death,     fit <- fit_fun(outcome ~ pressure * masfem * dam, family = fam, ,         data = df.filtered), }, {,     sf <- summary(fit),     effect <- sf$p.table[\"masfem\", 4], }, {,     sf <- summary(fit),     effect <- sf$p.table[\"masfem\", 4], }                                                               \n",
       "19 {,     df <- hurricane_data, }, {,     df.filtered <- df %>% filter((name != \"Katrina\") & (name != ,         \"Audrey\")), }, {,     fit_fun <- glm,     fam <- \"gaussian\",     df.filtered$outcome <- log1p(df.filtered$death),     fit <- fit_fun(outcome ~ masfem + pressure + dam, family = fam, ,         data = df.filtered), }, {,     sf <- summary(fit),     effect <- coefficients(sf)[\"masfem\", 4], }, {,     sf <- summary(fit),     effect <- coefficients(sf)[\"masfem\", 4], }           \n",
       "20 {,     df <- hurricane_data, }, {,     df.filtered <- df %>% filter((name != \"Katrina\") & (name != ,         \"Audrey\")), }, {,     fit_fun <- glm,     fam <- \"gaussian\",     df.filtered$outcome <- log1p(df.filtered$death),     fit <- fit_fun(outcome ~ pressure * masfem + pressure * dam, ,         family = fam, data = df.filtered), }, {,     sf <- summary(fit),     effect <- coefficients(sf)[\"masfem\", 4], }, {,     sf <- summary(fit),     effect <- coefficients(sf)[\"masfem\", 4], }\n",
       "21 {,     df <- hurricane_data, }, {,     df.filtered <- df %>% filter((name != \"Katrina\") & (name != ,         \"Audrey\")), }, {,     fit_fun <- glm,     fam <- \"gaussian\",     df.filtered$outcome <- log1p(df.filtered$death),     fit <- fit_fun(outcome ~ pressure * masfem * dam, family = fam, ,         data = df.filtered), }, {,     sf <- summary(fit),     effect <- coefficients(sf)[\"masfem\", 4], }, {,     sf <- summary(fit),     effect <- coefficients(sf)[\"masfem\", 4], }           \n",
       "22 {,     df <- hurricane_data, }, {,     df.filtered <- df %>% filter((name != \"Katrina\") & (name != ,         \"Audrey\")), }, {,     fit_fun <- glm,     fam <- \"poisson\",     df.filtered$outcome <- df.filtered$death,     fit <- fit_fun(outcome ~ masfem + pressure + dam, family = fam, ,         data = df.filtered), }, {,     sf <- summary(fit),     effect <- coefficients(sf)[\"masfem\", 4], }, {,     sf <- summary(fit),     effect <- coefficients(sf)[\"masfem\", 4], }                   \n",
       "23 {,     df <- hurricane_data, }, {,     df.filtered <- df %>% filter((name != \"Katrina\") & (name != ,         \"Audrey\")), }, {,     fit_fun <- glm,     fam <- \"poisson\",     df.filtered$outcome <- df.filtered$death,     fit <- fit_fun(outcome ~ pressure * masfem + pressure * dam, ,         family = fam, data = df.filtered), }, {,     sf <- summary(fit),     effect <- coefficients(sf)[\"masfem\", 4], }, {,     sf <- summary(fit),     effect <- coefficients(sf)[\"masfem\", 4], }        \n",
       "24 {,     df <- hurricane_data, }, {,     df.filtered <- df %>% filter((name != \"Katrina\") & (name != ,         \"Audrey\")), }, {,     fit_fun <- glm,     fam <- \"poisson\",     df.filtered$outcome <- df.filtered$death,     fit <- fit_fun(outcome ~ pressure * masfem * dam, family = fam, ,         data = df.filtered), }, {,     sf <- summary(fit),     effect <- coefficients(sf)[\"masfem\", 4], }, {,     sf <- summary(fit),     effect <- coefficients(sf)[\"masfem\", 4], }                   \n",
       "25 {,     df <- hurricane_data, }, {,     df.filtered <- df %>% filter((name != \"Katrina\") & (name != ,         \"Audrey\")), }, {,     fit_fun <- mgcv::gam,     fam <- \"nb\",     df.filtered$outcome <- df.filtered$death,     fit <- fit_fun(outcome ~ masfem + pressure + dam, family = fam, ,         data = df.filtered), }, {,     sf <- summary(fit),     effect <- sf$p.table[\"masfem\", 4], }, {,     sf <- summary(fit),     effect <- sf$p.table[\"masfem\", 4], }                              \n",
       "26 {,     df <- hurricane_data, }, {,     df.filtered <- df %>% filter((name != \"Katrina\") & (name != ,         \"Audrey\")), }, {,     fit_fun <- mgcv::gam,     fam <- \"nb\",     df.filtered$outcome <- df.filtered$death,     fit <- fit_fun(outcome ~ pressure * masfem + pressure * dam, ,         family = fam, data = df.filtered), }, {,     sf <- summary(fit),     effect <- sf$p.table[\"masfem\", 4], }, {,     sf <- summary(fit),     effect <- sf$p.table[\"masfem\", 4], }                   \n",
       "27 {,     df <- hurricane_data, }, {,     df.filtered <- df %>% filter((name != \"Katrina\") & (name != ,         \"Audrey\")), }, {,     fit_fun <- mgcv::gam,     fam <- \"nb\",     df.filtered$outcome <- df.filtered$death,     fit <- fit_fun(outcome ~ pressure * masfem * dam, family = fam, ,         data = df.filtered), }, {,     sf <- summary(fit),     effect <- sf$p.table[\"masfem\", 4], }, {,     sf <- summary(fit),     effect <- sf$p.table[\"masfem\", 4], }                              \n",
       "   .results                      .errors            effect      \n",
       "1  <environment: 0x5609a971edb0> NA, NA, NA, NA, NA 6.991712e-01\n",
       "2  <environment: 0x5609a6a07518> NA, NA, NA, NA, NA 4.973535e-01\n",
       "3  <environment: 0x5609a473e5f8> NA, NA, NA, NA, NA 5.896454e-01\n",
       "4  <environment: 0x5609a30646e0> NA, NA, NA, NA, NA 3.660634e-25\n",
       "5  <environment: 0x5609a4a8fd18> NA, NA, NA, NA, NA 2.251002e-03\n",
       "6  <environment: 0x5609a5ab7a00> NA, NA, NA, NA, NA 4.709140e-02\n",
       "7  <environment: 0x5609a6a74218> NA, NA, NA, NA, NA 3.969918e-01\n",
       "8  <environment: 0x5609a1d856d0> NA, NA, NA, NA, NA 4.682403e-01\n",
       "9  <environment: 0x5609a2752168> NA, NA, NA, NA, NA 8.128563e-01\n",
       "10 <environment: 0x5609a289a170> NA, NA, NA, NA, NA 6.991712e-01\n",
       "11 <environment: 0x5609a2baab28> NA, NA, NA, NA, NA 4.973535e-01\n",
       "12 <environment: 0x5609a2de62b0> NA, NA, NA, NA, NA 5.896454e-01\n",
       "13 <environment: 0x5609a2f586b8> NA, NA, NA, NA, NA 3.660634e-25\n",
       "14 <environment: 0x5609a319d000> NA, NA, NA, NA, NA 2.251002e-03\n",
       "15 <environment: 0x5609a3429ef8> NA, NA, NA, NA, NA 4.709140e-02\n",
       "16 <environment: 0x5609a3d50230> NA, NA, NA, NA, NA 3.969918e-01\n",
       "17 <environment: 0x5609a45dbdc8> NA, NA, NA, NA, NA 4.682403e-01\n",
       "18 <environment: 0x5609a4883f80> NA, NA, NA, NA, NA 8.128563e-01\n",
       "19 <environment: 0x5609a4b82c78> NA, NA, NA, NA, NA 6.991712e-01\n",
       "20 <environment: 0x5609a4e1ac70> NA, NA, NA, NA, NA 4.973535e-01\n",
       "21 <environment: 0x5609a52af2f8> NA, NA, NA, NA, NA 5.896454e-01\n",
       "22 <environment: 0x5609a5973df0> NA, NA, NA, NA, NA 3.660634e-25\n",
       "23 <environment: 0x5609a5af8d08> NA, NA, NA, NA, NA 2.251002e-03\n",
       "24 <environment: 0x5609a5c90f70> NA, NA, NA, NA, NA 4.709140e-02\n",
       "25 <environment: 0x5609a61ed2b8> NA, NA, NA, NA, NA 3.969918e-01\n",
       "26 <environment: 0x5609a65d0a60> NA, NA, NA, NA, NA 4.682403e-01\n",
       "27 <environment: 0x5609a6cdc8b8> NA, NA, NA, NA, NA 8.128563e-01"
      ]
     },
     "metadata": {},
     "output_type": "display_data"
    }
   ],
   "source": [
    "execute_multiverse(M)\n",
    "multiverse::expand(M) %>% extract_variables(effect)"
   ]
  },
  {
   "cell_type": "markdown",
   "id": "0c3acaa9",
   "metadata": {
    "slideshow": {
     "slide_type": "slide"
    }
   },
   "source": [
    "## The specification curve\n",
    "The [specification curve](https://urisohn.com/sohn_files/wp/wordpress/wp-content/uploads/Paper-Specification-curve-2018-11-02.pdf) is a visualization of all the different types results that could have been obtained from a multiverse analysis."
   ]
  },
  {
   "cell_type": "code",
   "execution_count": 56,
   "id": "7f1a5eb3",
   "metadata": {
    "slideshow": {
     "slide_type": "slide"
    }
   },
   "outputs": [
    {
     "name": "stdout",
     "output_type": "stream",
     "text": [
      "Setup for the Specification Curve Analysis\n",
      "-------------------------------------------\n",
      "Class:                      specr.setup -- version: 1.0.1 \n",
      "Number of specifications:   64 \n",
      "\n",
      "Specifications:\n",
      "\n",
      "  Independent variable:     masfem \n",
      "  Dependent variable:       death \n",
      "  Models:                   lm, pois \n",
      "  Covariates:               no covariates, dam, pressure, dam:pressure, dam + pressure, dam + dam:pressure, pressure + dam:pressure, dam + pressure + dam:pressure \n",
      "  Subsets analyses:         TRUE & TRUE, TRUE, all \n",
      "\n",
      "Function used to extract parameters:\n",
      "\n",
      "  function (x) \n",
      "broom::tidy(x, conf.int = TRUE)\n",
      "<environment: 0x55a5aefffba0>\n",
      "\n",
      "\n",
      "Head of specifications table (first 6 rows):\n",
      "\n"
     ]
    },
    {
     "data": {
      "text/html": [
       "<table class=\"dataframe\">\n",
       "<caption>A tibble: 6 × 8</caption>\n",
       "<thead>\n",
       "\t<tr><th scope=col>x</th><th scope=col>y</th><th scope=col>model</th><th scope=col>controls</th><th scope=col>subsets</th><th scope=col>extreme1</th><th scope=col>extreme2</th><th scope=col>formula</th></tr>\n",
       "\t<tr><th scope=col>&lt;chr&gt;</th><th scope=col>&lt;chr&gt;</th><th scope=col>&lt;chr&gt;</th><th scope=col>&lt;chr&gt;</th><th scope=col>&lt;chr&gt;</th><th scope=col>&lt;fct&gt;</th><th scope=col>&lt;fct&gt;</th><th scope=col>&lt;glue&gt;</th></tr>\n",
       "</thead>\n",
       "<tbody>\n",
       "\t<tr><td>masfem</td><td>death</td><td>lm</td><td>no covariates</td><td>TRUE &amp; TRUE</td><td>TRUE</td><td>TRUE</td><td><span style=white-space:pre-wrap>death ~ masfem + 1  </span></td></tr>\n",
       "\t<tr><td>masfem</td><td>death</td><td>lm</td><td>no covariates</td><td>TRUE       </td><td>NA  </td><td>TRUE</td><td>death ~ masfem + 1  </td></tr>\n",
       "\t<tr><td>masfem</td><td>death</td><td>lm</td><td>no covariates</td><td>TRUE       </td><td>TRUE</td><td>NA  </td><td>death ~ masfem + 1  </td></tr>\n",
       "\t<tr><td>masfem</td><td>death</td><td>lm</td><td>no covariates</td><td>all        </td><td>NA  </td><td>NA  </td><td>death ~ masfem + 1  </td></tr>\n",
       "\t<tr><td>masfem</td><td>death</td><td>lm</td><td><span style=white-space:pre-wrap>dam          </span></td><td>TRUE &amp; TRUE</td><td>TRUE</td><td>TRUE</td><td>death ~ masfem + dam</td></tr>\n",
       "\t<tr><td>masfem</td><td>death</td><td>lm</td><td>dam          </td><td>TRUE       </td><td>NA  </td><td>TRUE</td><td>death ~ masfem + dam</td></tr>\n",
       "</tbody>\n",
       "</table>\n"
      ],
      "text/latex": [
       "A tibble: 6 × 8\n",
       "\\begin{tabular}{llllllll}\n",
       " x & y & model & controls & subsets & extreme1 & extreme2 & formula\\\\\n",
       " <chr> & <chr> & <chr> & <chr> & <chr> & <fct> & <fct> & <glue>\\\\\n",
       "\\hline\n",
       "\t masfem & death & lm & no covariates & TRUE \\& TRUE & TRUE & TRUE & death \\textasciitilde{} masfem + 1  \\\\\n",
       "\t masfem & death & lm & no covariates & TRUE        & NA   & TRUE & death \\textasciitilde{} masfem + 1  \\\\\n",
       "\t masfem & death & lm & no covariates & TRUE        & TRUE & NA   & death \\textasciitilde{} masfem + 1  \\\\\n",
       "\t masfem & death & lm & no covariates & all         & NA   & NA   & death \\textasciitilde{} masfem + 1  \\\\\n",
       "\t masfem & death & lm & dam           & TRUE \\& TRUE & TRUE & TRUE & death \\textasciitilde{} masfem + dam\\\\\n",
       "\t masfem & death & lm & dam           & TRUE        & NA   & TRUE & death \\textasciitilde{} masfem + dam\\\\\n",
       "\\end{tabular}\n"
      ],
      "text/markdown": [
       "\n",
       "A tibble: 6 × 8\n",
       "\n",
       "| x &lt;chr&gt; | y &lt;chr&gt; | model &lt;chr&gt; | controls &lt;chr&gt; | subsets &lt;chr&gt; | extreme1 &lt;fct&gt; | extreme2 &lt;fct&gt; | formula &lt;glue&gt; |\n",
       "|---|---|---|---|---|---|---|---|\n",
       "| masfem | death | lm | no covariates | TRUE &amp; TRUE | TRUE | TRUE | death ~ masfem + 1   |\n",
       "| masfem | death | lm | no covariates | TRUE        | NA   | TRUE | death ~ masfem + 1   |\n",
       "| masfem | death | lm | no covariates | TRUE        | TRUE | NA   | death ~ masfem + 1   |\n",
       "| masfem | death | lm | no covariates | all         | NA   | NA   | death ~ masfem + 1   |\n",
       "| masfem | death | lm | dam           | TRUE &amp; TRUE | TRUE | TRUE | death ~ masfem + dam |\n",
       "| masfem | death | lm | dam           | TRUE        | NA   | TRUE | death ~ masfem + dam |\n",
       "\n"
      ],
      "text/plain": [
       "  x      y     model controls      subsets     extreme1 extreme2\n",
       "1 masfem death lm    no covariates TRUE & TRUE TRUE     TRUE    \n",
       "2 masfem death lm    no covariates TRUE        NA       TRUE    \n",
       "3 masfem death lm    no covariates TRUE        TRUE     NA      \n",
       "4 masfem death lm    no covariates all         NA       NA      \n",
       "5 masfem death lm    dam           TRUE & TRUE TRUE     TRUE    \n",
       "6 masfem death lm    dam           TRUE        NA       TRUE    \n",
       "  formula             \n",
       "1 death ~ masfem + 1  \n",
       "2 death ~ masfem + 1  \n",
       "3 death ~ masfem + 1  \n",
       "4 death ~ masfem + 1  \n",
       "5 death ~ masfem + dam\n",
       "6 death ~ masfem + dam"
      ]
     },
     "metadata": {},
     "output_type": "display_data"
    }
   ],
   "source": [
    "# install.packages(\"specr\")\n",
    "library(specr)\n",
    "\n",
    "pois <- function(formula, data) {\n",
    "  glm(formula, data, family = poisson())\n",
    "}\n",
    "\n",
    "nb <- function(formula, data) {\n",
    "  mgcv::gam(formula, data, family = \"nb\") \n",
    "}\n",
    "\n",
    "hurricane_data <- hurricane_data %>% mutate(\n",
    "    extreme1 = name != \"Katrina\",\n",
    "    extreme2 = !(name %in% c(\"Katrina\", \"Audrey\"))\n",
    ")\n",
    "\n",
    "specs <- setup(data = hurricane_data,\n",
    "               x = c(\"masfem\"),\n",
    "               y = c(\"death\"),\n",
    "               controls = c(\"dam\", \"pressure\", \"dam:pressure\"),\n",
    "               model = c(\"lm\", \"pois\"),\n",
    "               subsets = list(extreme1=c(T), extreme2=c(T))\n",
    ")\n",
    "\n",
    "# Summary of specifications\n",
    "summary(specs)"
   ]
  },
  {
   "cell_type": "code",
   "execution_count": 57,
   "id": "d3425838",
   "metadata": {
    "slideshow": {
     "slide_type": "slide"
    }
   },
   "outputs": [],
   "source": [
    "results <- specr(specs)"
   ]
  },
  {
   "cell_type": "code",
   "execution_count": 58,
   "id": "88850435",
   "metadata": {},
   "outputs": [
    {
     "data": {
      "image/png": "[encoded data removed]",
      "text/plain": [
       "plot without title"
      ]
     },
     "metadata": {
      "image/png": {
       "height": 420,
       "width": 420
      }
     },
     "output_type": "display_data"
    }
   ],
   "source": [
    "plot(results)"
   ]
  },
  {
   "cell_type": "code",
   "execution_count": null,
   "id": "0d254192",
   "metadata": {},
   "outputs": [],
   "source": []
  }
 ],
 "metadata": {
  "celltoolbar": "Slideshow",
  "kernelspec": {
   "display_name": "R",
   "language": "R",
   "name": "ir"
  },
  "language_info": {
   "codemirror_mode": "r",
   "file_extension": ".r",
   "mimetype": "text/x-r-source",
   "name": "R",
   "pygments_lexer": "r",
   "version": "4.2.1"
  }
 },
 "nbformat": 4,
 "nbformat_minor": 5
}
