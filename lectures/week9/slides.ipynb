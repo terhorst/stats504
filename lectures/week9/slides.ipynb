{
 "cells": [
  {
   "cell_type": "code",
   "execution_count": 2,
   "id": "6302783c",
   "metadata": {
    "slideshow": {
     "slide_type": "notes"
    }
   },
   "outputs": [],
   "source": [
    "library(tidyverse)\n",
    "library(nhanesA)"
   ]
  },
  {
   "cell_type": "markdown",
   "id": "9d348d0d",
   "metadata": {
    "slideshow": {
     "slide_type": "slide"
    }
   },
   "source": [
    "# STATS 504\n",
    "## Week 9: Causal inference"
   ]
  },
  {
   "cell_type": "markdown",
   "id": "59ebce2c",
   "metadata": {
    "slideshow": {
     "slide_type": "slide"
    }
   },
   "source": [
    "### Smoking and lung cancer: observational data"
   ]
  },
  {
   "cell_type": "code",
   "execution_count": 12,
   "id": "b55f7bc7",
   "metadata": {
    "slideshow": {
     "slide_type": "slide"
    }
   },
   "outputs": [],
   "source": [
    "demo <- nhanes(\"DEMO_J\")\n",
    "mcq <- nhanes(\"MCQ_J\")\n",
    "smq <- nhanes(\"SMQ_J\")"
   ]
  },
  {
   "cell_type": "code",
   "execution_count": 14,
   "id": "b1382d66",
   "metadata": {
    "slideshow": {
     "slide_type": "slide"
    }
   },
   "outputs": [
    {
     "data": {
      "text/plain": [
       "\n",
       "                    Bladder                       Blood \n",
       "                         12                           1 \n",
       "                       Bone                       Brain \n",
       "                          1                           4 \n",
       "                     Breast           Cervix (cervical) \n",
       "                         89                          26 \n",
       "                      Colon      Esophagus (esophageal) \n",
       "                         46                           6 \n",
       "                Gallbladder                      Kidney \n",
       "                          1                          19 \n",
       "           Larynx/ windpipe                    Leukemia \n",
       "                          1                           6 \n",
       "                      Liver                        Lung \n",
       "                          3                          18 \n",
       "Lymphoma/ Hodgkin's disease                    Melanoma \n",
       "                         15                          35 \n",
       "           Mouth/tongue/lip             Ovary (ovarian) \n",
       "                          4                          11 \n",
       "      Pancreas (pancreatic)                    Prostate \n",
       "                          1                          94 \n",
       "            Rectum (rectal)         Skin (non-melanoma) \n",
       "                          2                          67 \n",
       "Skin (don't know what kind) Soft tissue (muscle or fat) \n",
       "                         33                           1 \n",
       "                    Stomach         Testis (testicular) \n",
       "                          5                           2 \n",
       "                    Thyroid            Uterus (uterine) \n",
       "                         15                          20 \n",
       "                      Other                  Don't know \n",
       "                         37                          13 "
      ]
     },
     "metadata": {},
     "output_type": "display_data"
    }
   ],
   "source": [
    "table(mcq$MCQ230A)"
   ]
  },
  {
   "cell_type": "code",
   "execution_count": 20,
   "id": "c79123dc",
   "metadata": {
    "slideshow": {
     "slide_type": "slide"
    }
   },
   "outputs": [
    {
     "data": {
      "text/html": [
       "<dl>\n",
       "\t<dt>$`Variable Name:`</dt>\n",
       "\t\t<dd>'SMQ020'</dd>\n",
       "\t<dt>$`SAS Label:`</dt>\n",
       "\t\t<dd>'Smoked at least 100 cigarettes in life'</dd>\n",
       "\t<dt>$`English Text:`</dt>\n",
       "\t\t<dd>'These next questions are about cigarette smoking and other tobacco use. {Have you/Has SP} smoked at least 100 cigarettes in {your/his/her} entire life?'</dd>\n",
       "\t<dt>$`Target:`</dt>\n",
       "\t\t<dd>'Both males and females 20 YEARS -\\r 150 YEARS'</dd>\n",
       "\t<dt>$SMQ020</dt>\n",
       "\t\t<dd><table class=\"dataframe\">\n",
       "<caption>A tibble: 5 × 5</caption>\n",
       "<thead>\n",
       "\t<tr><th scope=col>Code or Value</th><th scope=col>Value Description</th><th scope=col>Count</th><th scope=col>Cumulative</th><th scope=col>Skip to Item</th></tr>\n",
       "\t<tr><th scope=col>&lt;chr&gt;</th><th scope=col>&lt;chr&gt;</th><th scope=col>&lt;int&gt;</th><th scope=col>&lt;int&gt;</th><th scope=col>&lt;chr&gt;</th></tr>\n",
       "</thead>\n",
       "<tbody>\n",
       "\t<tr><td>1</td><td>Yes       </td><td>2299</td><td>2299</td><td>      </td></tr>\n",
       "\t<tr><td>2</td><td>No        </td><td>2566</td><td>4865</td><td>SMQ120</td></tr>\n",
       "\t<tr><td>7</td><td>Refused   </td><td>   4</td><td>4869</td><td>SMQ120</td></tr>\n",
       "\t<tr><td>9</td><td>Don't know</td><td>   8</td><td>4877</td><td>SMQ120</td></tr>\n",
       "\t<tr><td>.</td><td>Missing   </td><td>   3</td><td>4880</td><td>      </td></tr>\n",
       "</tbody>\n",
       "</table>\n",
       "</dd>\n",
       "</dl>\n"
      ],
      "text/latex": [
       "\\begin{description}\n",
       "\\item[\\$`Variable Name:`] 'SMQ020'\n",
       "\\item[\\$`SAS Label:`] 'Smoked at least 100 cigarettes in life'\n",
       "\\item[\\$`English Text:`] 'These next questions are about cigarette smoking and other tobacco use. \\{Have you/Has SP\\} smoked at least 100 cigarettes in \\{your/his/her\\} entire life?'\n",
       "\\item[\\$`Target:`] 'Both males and females 20 YEARS -\\textbackslash{}r 150 YEARS'\n",
       "\\item[\\$SMQ020] A tibble: 5 × 5\n",
       "\\begin{tabular}{lllll}\n",
       " Code or Value & Value Description & Count & Cumulative & Skip to Item\\\\\n",
       " <chr> & <chr> & <int> & <int> & <chr>\\\\\n",
       "\\hline\n",
       "\t 1 & Yes        & 2299 & 2299 &       \\\\\n",
       "\t 2 & No         & 2566 & 4865 & SMQ120\\\\\n",
       "\t 7 & Refused    &    4 & 4869 & SMQ120\\\\\n",
       "\t 9 & Don't know &    8 & 4877 & SMQ120\\\\\n",
       "\t . & Missing    &    3 & 4880 &       \\\\\n",
       "\\end{tabular}\n",
       "\n",
       "\\end{description}\n"
      ],
      "text/markdown": [
       "$`Variable Name:`\n",
       ":   'SMQ020'\n",
       "$`SAS Label:`\n",
       ":   'Smoked at least 100 cigarettes in life'\n",
       "$`English Text:`\n",
       ":   'These next questions are about cigarette smoking and other tobacco use. {Have you/Has SP} smoked at least 100 cigarettes in {your/his/her} entire life?'\n",
       "$`Target:`\n",
       ":   'Both males and females 20 YEARS -\\r 150 YEARS'\n",
       "$SMQ020\n",
       ":   \n",
       "A tibble: 5 × 5\n",
       "\n",
       "| Code or Value &lt;chr&gt; | Value Description &lt;chr&gt; | Count &lt;int&gt; | Cumulative &lt;int&gt; | Skip to Item &lt;chr&gt; |\n",
       "|---|---|---|---|---|\n",
       "| 1 | Yes        | 2299 | 2299 | <!----> |\n",
       "| 2 | No         | 2566 | 4865 | SMQ120 |\n",
       "| 7 | Refused    |    4 | 4869 | SMQ120 |\n",
       "| 9 | Don't know |    8 | 4877 | SMQ120 |\n",
       "| . | Missing    |    3 | 4880 | <!----> |\n",
       "\n",
       "\n",
       "\n",
       "\n"
      ],
      "text/plain": [
       "$`Variable Name:`\n",
       "[1] \"SMQ020\"\n",
       "\n",
       "$`SAS Label:`\n",
       "[1] \"Smoked at least 100 cigarettes in life\"\n",
       "\n",
       "$`English Text:`\n",
       "[1] \"These next questions are about cigarette smoking and other tobacco use. {Have you/Has SP} smoked at least 100 cigarettes in {your/his/her} entire life?\"\n",
       "\n",
       "$`Target:`\n",
       "[1] \"Both males and females 20 YEARS -\\r 150 YEARS\"\n",
       "\n",
       "$SMQ020\n",
       "\u001b[90m# A tibble: 5 × 5\u001b[39m\n",
       "  `Code or Value` `Value Description` Count Cumulative `Skip to Item`\n",
       "  \u001b[3m\u001b[90m<chr>\u001b[39m\u001b[23m           \u001b[3m\u001b[90m<chr>\u001b[39m\u001b[23m               \u001b[3m\u001b[90m<int>\u001b[39m\u001b[23m      \u001b[3m\u001b[90m<int>\u001b[39m\u001b[23m \u001b[3m\u001b[90m<chr>\u001b[39m\u001b[23m         \n",
       "\u001b[90m1\u001b[39m 1               Yes                  \u001b[4m2\u001b[24m299       \u001b[4m2\u001b[24m299 \u001b[90m\"\u001b[39m\u001b[90m\"\u001b[39m            \n",
       "\u001b[90m2\u001b[39m 2               No                   \u001b[4m2\u001b[24m566       \u001b[4m4\u001b[24m865 \u001b[90m\"\u001b[39mSMQ120\u001b[90m\"\u001b[39m      \n",
       "\u001b[90m3\u001b[39m 7               Refused                 4       \u001b[4m4\u001b[24m869 \u001b[90m\"\u001b[39mSMQ120\u001b[90m\"\u001b[39m      \n",
       "\u001b[90m4\u001b[39m 9               Don't know              8       \u001b[4m4\u001b[24m877 \u001b[90m\"\u001b[39mSMQ120\u001b[90m\"\u001b[39m      \n",
       "\u001b[90m5\u001b[39m .               Missing                 3       \u001b[4m4\u001b[24m880 \u001b[90m\"\u001b[39m\u001b[90m\"\u001b[39m            \n"
      ]
     },
     "metadata": {},
     "output_type": "display_data"
    }
   ],
   "source": [
    "nhanesCodebook(\"SMQ\", \"SMQ020\")"
   ]
  },
  {
   "cell_type": "code",
   "execution_count": 18,
   "id": "378d7d15",
   "metadata": {
    "slideshow": {
     "slide_type": "slide"
    }
   },
   "outputs": [
    {
     "name": "stderr",
     "output_type": "stream",
     "text": [
      "\u001b[1m\u001b[22mJoining with `by = join_by(SEQN)`\n"
     ]
    },
    {
     "data": {
      "text/plain": [
       "SMQ020\n",
       "Yes  No \n",
       " 17   1 "
      ]
     },
     "metadata": {},
     "output_type": "display_data"
    }
   ],
   "source": [
    "mcq %>% filter(MCQ230A == \"Lung\") %>% left_join(smq) %>% xtabs(~ SMQ020, data = .)"
   ]
  },
  {
   "cell_type": "code",
   "execution_count": 41,
   "id": "6e86047b",
   "metadata": {
    "slideshow": {
     "slide_type": "slide"
    }
   },
   "outputs": [
    {
     "name": "stderr",
     "output_type": "stream",
     "text": [
      "\u001b[1m\u001b[22mJoining with `by = join_by(SEQN)`\n"
     ]
    },
    {
     "data": {
      "text/plain": [
       "                    lung_cancer\n",
       "INDHHIN2                  FALSE       TRUE\n",
       "  $ 0 to $ 4,999     0.03224331 0.00000000\n",
       "  $ 5,000 to $ 9,999 0.02881317 0.00000000\n",
       "  $10,000 to $14,999 0.04539218 0.11764706\n",
       "  $15,000 to $19,999 0.06105648 0.11764706\n",
       "  $20,000 to $24,999 0.06037046 0.05882353\n",
       "  $25,000 to $34,999 0.10919277 0.29411765\n",
       "  $35,000 to $44,999 0.10187514 0.11764706\n",
       "  $45,000 to $54,999 0.06928882 0.05882353\n",
       "  $55,000 to $64,999 0.06551566 0.00000000\n",
       "  $65,000 to $74,999 0.05030871 0.05882353\n",
       "  $20,000 and Over   0.03750286 0.00000000\n",
       "  Under $20,000      0.01349188 0.11764706\n",
       "  $75,000 to $99,999 0.09478619 0.00000000\n",
       "  $100,000 and Over  0.18557055 0.05882353\n",
       "  Refused            0.01943746 0.00000000\n",
       "  Don't know         0.02515436 0.00000000"
      ]
     },
     "metadata": {},
     "output_type": "display_data"
    }
   ],
   "source": [
    "demo %>% left_join(mcq) %>% mutate(lung_cancer = MCQ230A == \"Lung\") %>%\n",
    "    replace_na(list(lung_cancer = F)) %>% \n",
    "    xtabs(~ INDHHIN2 + lung_cancer, data = .) %>% prop.table(2)"
   ]
  },
  {
   "cell_type": "markdown",
   "id": "74cb72e1",
   "metadata": {
    "slideshow": {
     "slide_type": "slide"
    }
   },
   "source": [
    "## Cholera in 19th century England\n",
    "- Cholera first arrived to England in 1831."
   ]
  },
  {
   "cell_type": "markdown",
   "id": "d620fdc2",
   "metadata": {
    "slideshow": {
     "slide_type": "fragment"
    }
   },
   "source": [
    "- 31,000 people died of cholera between 1831-1832."
   ]
  },
  {
   "cell_type": "markdown",
   "id": "6261eb15",
   "metadata": {
    "slideshow": {
     "slide_type": "fragment"
    }
   },
   "source": [
    "- A second outbreak in 1848 killed 62,000."
   ]
  },
  {
   "cell_type": "markdown",
   "id": "1f653466",
   "metadata": {
    "slideshow": {
     "slide_type": "slide"
    }
   },
   "source": [
    "![father thames](https://scpoecon.github.io/ScPoEconometrics/images/father-thames.jpg)\n",
    "\n",
    "Source: Punch (1858), cited in https://scpoecon.github.io/ScPoEconometrics/IV.html."
   ]
  },
  {
   "cell_type": "markdown",
   "id": "43896986",
   "metadata": {
    "slideshow": {
     "slide_type": "slide"
    }
   },
   "source": [
    "![cholera charicature](https://www.sciencemuseum.org.uk/sites/default/files/styles/smg_carousel_zoom/public/2065329612.jpg)\n",
    "\n",
    "Source: https://www.sciencemuseum.org.uk/objects-and-stories/medicine/cholera-victorian-london"
   ]
  },
  {
   "cell_type": "markdown",
   "id": "1ec71ade",
   "metadata": {
    "slideshow": {
     "slide_type": "slide"
    }
   },
   "source": [
    "## What causes Cholera?\n",
    "\n",
    "- Germs had not yet been discovered, and were only one (unpopular) theory."
   ]
  },
  {
   "cell_type": "markdown",
   "id": "2ac1a7ad",
   "metadata": {
    "slideshow": {
     "slide_type": "fragment"
    }
   },
   "source": [
    "* Miasmas (poisonous particles floating in the air):\n",
    "    - Rapid industrialisation created filthy, unsanitary neighborhoods that tended to be the focal points of disease and epidemics.\n",
    "    - By improving sanitation and cleanliness, levels of disease were seen to fall, which seemed to support the miasma theory."
   ]
  },
  {
   "cell_type": "markdown",
   "id": "9c91c412",
   "metadata": {
    "slideshow": {
     "slide_type": "fragment"
    }
   },
   "source": [
    "- Other theories\n",
    "    * Imbalances in the humors of the body (black bile, yellow bile, blood, phlegm)\n",
    "    * Poison in the ground"
   ]
  },
  {
   "cell_type": "markdown",
   "id": "d1e20e81",
   "metadata": {
    "slideshow": {
     "slide_type": "slide"
    }
   },
   "source": [
    "<img src=\"images/advice.jpg\" width=\"80%\">"
   ]
  },
  {
   "cell_type": "markdown",
   "id": "8a16110f",
   "metadata": {
    "cell_style": "split",
    "slideshow": {
     "slide_type": "slide"
    }
   },
   "source": [
    "## John Snow\n",
    "\n",
    "* John Snow was a physician in London who, by watching the course of the disease, came to believe believe that Cholera was caused by a living organism that is ingested (with water or food), multiplies within the body, and is expelled back into the environment.</li>\n",
    "\n",
    "* Snow developed arguments to support his theory, for example:\n",
    "  * Cholera spreads along trading routes\n",
    "  * When sailors went somewhere with Cholera, they wouldn't get sick if no one left the boat.\n",
    "\n",
    "* Nonetheless, there remained considerable skepticism."
   ]
  },
  {
   "cell_type": "markdown",
   "id": "64aa0f0e",
   "metadata": {
    "cell_style": "split",
    "slideshow": {
     "slide_type": "-"
    }
   },
   "source": [
    "<img src=\"https://upload.wikimedia.org/wikipedia/en/3/30/Jon_Snow_Season_8.png\" style=\"float: right\" width=300/>"
   ]
  },
  {
   "cell_type": "markdown",
   "id": "7a9ebfbc",
   "metadata": {
    "cell_style": "split",
    "slideshow": {
     "slide_type": "slide"
    }
   },
   "source": [
    "## John Snow\n",
    "\n",
    "* John Snow was a physician in London who, by watching the course of the disease, came to believe believe that Cholera was caused by a living organism that is ingested (with water or food), multiplies within the body, and is expelled back into the environment.</li>\n",
    "\n",
    "* Snow developed arguments to support his theory, for example:\n",
    "  * Cholera spreads along trading routes\n",
    "  * When sailors went somewhere with Cholera, they wouldn't get sick if no one left the boat.\n",
    "\n",
    "* Nonetheless, there remained considerable skepticism."
   ]
  },
  {
   "cell_type": "markdown",
   "id": "bd3b340a",
   "metadata": {
    "cell_style": "split",
    "slideshow": {
     "slide_type": "-"
    }
   },
   "source": [
    "<img src=\"https://upload.wikimedia.org/wikipedia/commons/thumb/c/cc/John_Snow.jpg/1200px-John_Snow.jpg\" style=\"float: right\" width=300/>"
   ]
  },
  {
   "cell_type": "markdown",
   "id": "12d4bb7f",
   "metadata": {
    "slideshow": {
     "slide_type": "slide"
    }
   },
   "source": [
    "## Epidemic of 1854"
   ]
  },
  {
   "cell_type": "markdown",
   "id": "5fa4530a",
   "metadata": {
    "slideshow": {
     "slide_type": "fragment"
    }
   },
   "source": [
    "<img src=\"images/map.jpg\" width=\"80%\">"
   ]
  },
  {
   "cell_type": "markdown",
   "id": "d7a81d64",
   "metadata": {
    "slideshow": {
     "slide_type": "slide"
    }
   },
   "source": [
    "## Snow's methodology\n",
    "\n",
    "* Snow identified the first case in London: a man named John Harnold"
   ]
  },
  {
   "cell_type": "markdown",
   "id": "de6d371b",
   "metadata": {
    "slideshow": {
     "slide_type": "fragment"
    }
   },
   "source": [
    "* Snow also identified the second case: the man who took Harnold's room after Harnold died."
   ]
  },
  {
   "cell_type": "markdown",
   "id": "159914a5",
   "metadata": {
    "slideshow": {
     "slide_type": "fragment"
    }
   },
   "source": [
    "* John Harnold had newly arrived by the *Elbe* steamer from Hamburg, where there was an outbreak."
   ]
  },
  {
   "cell_type": "markdown",
   "id": "d1530665",
   "metadata": {
    "slideshow": {
     "slide_type": "fragment"
    }
   },
   "source": [
    "* Snow also found several adjacent apartment buildings, with one hit by cholera, one not.  He showed that in each case, the affected building had water contaminated by sewage, but the other building had relatively pure water."
   ]
  },
  {
   "cell_type": "markdown",
   "id": "3112ad7e",
   "metadata": {
    "slideshow": {
     "slide_type": "slide"
    }
   },
   "source": [
    "### Exceptions\n",
    "\n",
    "* There was a brewery near the pump, but none of the workers got sick -- it turned out the brewery had its own private pump on-site."
   ]
  },
  {
   "cell_type": "markdown",
   "id": "24d8a9f1",
   "metadata": {
    "slideshow": {
     "slide_type": "fragment"
    }
   },
   "source": [
    "* A woman in Hampstead got Cholera -- Snow discovered that she had water from the Broad Street pump delivered to her, because she liked the taste."
   ]
  },
  {
   "cell_type": "markdown",
   "id": "9b5b765e",
   "metadata": {
    "slideshow": {
     "slide_type": "slide"
    }
   },
   "source": [
    "According to legend, Snow lobbied the local council to remove the pump handle, at which time the epidemic receded."
   ]
  },
  {
   "cell_type": "markdown",
   "id": "0548ebbb",
   "metadata": {
    "slideshow": {
     "slide_type": "-"
    }
   },
   "source": [
    "![Removal of the Broad Street pump handle](https://scpoecon.github.io/ScPoEconometrics/ScPoEconometrics_files/figure-html/snow-TS-1.png)\n",
    "\n",
    "(Cited in: https://scpoecon.github.io/ScPoEconometrics/IV.html)"
   ]
  },
  {
   "cell_type": "markdown",
   "id": "0a2aa62f",
   "metadata": {
    "slideshow": {
     "slide_type": "slide"
    }
   },
   "source": [
    "![broad street pump](https://i0.wp.com/livinglondonhistory.com/wp-content/uploads/2022/07/Optimized-IMG_2622.jpg?w=800&ssl=1)\n",
    "\n",
    "(Source: https://livinglondonhistory.com/the-story-of-the-john-snow-pump-in-soho/)"
   ]
  },
  {
   "cell_type": "markdown",
   "id": "3342017c",
   "metadata": {
    "slideshow": {
     "slide_type": "slide"
    }
   },
   "source": [
    "## A natural experiment\n",
    "\n",
    "> Although the facts shown in the above table afford very strong evidence of the powerful influence which the drinking of water containing the sewage of a town exerts over the spread of cholera, when that disease is present, **yet the question does not end here**; for the intermixing of the water supply of the Southwark and Vauxhall Company with that of the Lambeth Company, over an extensive part of London, admitted of the subject being sifted in such a way as to yield the most incontrovertible proof on one side or the other.  In the subdistricts enumerated in the above table as being supplied by both Companies, the mixing of the supply is of the most intimate kind.  The pipes of each Company go down all the streets, and into nearly all the courts and alleys.  **A few houses are supplied by one Company and a few by the other**, according to the decision of the owner or occupier at that time when the Water Companies were in active competition.  In many cases a single house has a supply different from that on either side.  **Each company supplies both rich and poor, both large houses and small**; there is no difference either in the condition or occupation of the persons receiving the water of the different Companies."
   ]
  },
  {
   "cell_type": "markdown",
   "id": "72bd1ea5",
   "metadata": {
    "slideshow": {
     "slide_type": "slide"
    }
   },
   "source": [
    "![sno's map of water supply](https://scpoecon.github.io/ScPoEconometrics/images/snow-supply.jpg)\n",
    "\n",
    "\n",
    "(Cited in: https://scpoecon.github.io/ScPoEconometrics/IV.html)"
   ]
  },
  {
   "cell_type": "markdown",
   "id": "779d89d4",
   "metadata": {
    "slideshow": {
     "slide_type": "slide"
    }
   },
   "source": [
    "## Snow's reasoning"
   ]
  },
  {
   "cell_type": "markdown",
   "id": "8574fb26",
   "metadata": {
    "slideshow": {
     "slide_type": "fragment"
    }
   },
   "source": [
    "* There were several water companies in London, and their service areas overlapped."
   ]
  },
  {
   "cell_type": "markdown",
   "id": "3d6cb683",
   "metadata": {
    "slideshow": {
     "slide_type": "fragment"
    }
   },
   "source": [
    "* On a single street, some people would have one company, others another company."
   ]
  },
  {
   "cell_type": "markdown",
   "id": "38a0d692",
   "metadata": {
    "slideshow": {
     "slide_type": "fragment"
    }
   },
   "source": [
    "* The pipes had been laid many years before, when the water companies were still in active competition."
   ]
  },
  {
   "cell_type": "markdown",
   "id": "85ef3b20",
   "metadata": {
    "slideshow": {
     "slide_type": "fragment"
    }
   },
   "source": [
    "* In 1852, one of the companies (Lambeth) moved its intake pipe upstream to get purer water"
   ]
  },
  {
   "cell_type": "markdown",
   "id": "de2e5042",
   "metadata": {
    "slideshow": {
     "slide_type": "fragment"
    }
   },
   "source": [
    "* Snow compared the death rates between those who got water from Lambeth, and those who got water from Southwark and Vauxhall"
   ]
  },
  {
   "cell_type": "markdown",
   "id": "a75d1091",
   "metadata": {
    "slideshow": {
     "slide_type": "slide"
    }
   },
   "source": [
    "## Snow's data\n",
    "<div class=\"xtable\"><table frame=\"hsides\" rules=\"groups\" class=\"rendered small default_table\"><thead><tr><th rowspan=\"1\" colspan=\"1\">Water Supply Company</th><th rowspan=\"1\" colspan=\"1\">Number of Houses</th><th rowspan=\"1\" colspan=\"1\">Deaths From Cholera</th><th rowspan=\"1\" colspan=\"1\">Cholera Deaths per 10,000 Houses</th></tr></thead><tbody><tr><td rowspan=\"1\" colspan=\"1\">Southwark and Vauxhall</td><td rowspan=\"1\" colspan=\"1\">40,046</td><td rowspan=\"1\" colspan=\"1\">1,263</td><td rowspan=\"1\" colspan=\"1\">315</td></tr><tr><td rowspan=\"1\" colspan=\"1\">Lambeth</td><td rowspan=\"1\" colspan=\"1\">26,107</td><td rowspan=\"1\" colspan=\"1\">98</td><td rowspan=\"1\" colspan=\"1\">37</td></tr><tr><td rowspan=\"1\" colspan=\"1\">Rest of London</td><td rowspan=\"1\" colspan=\"1\">256,423</td><td rowspan=\"1\" colspan=\"1\">1,422</td><td rowspan=\"1\" colspan=\"1\">59</td></tr></tbody></table></div>"
   ]
  },
  {
   "cell_type": "code",
   "execution_count": 46,
   "id": "17ce1735",
   "metadata": {
    "slideshow": {
     "slide_type": "-"
    }
   },
   "outputs": [
    {
     "data": {
      "text/html": [
       "<table class=\"dataframe\">\n",
       "<caption>A tibble: 4 × 4</caption>\n",
       "<thead>\n",
       "\t<tr><th scope=col>year</th><th scope=col>supplier</th><th scope=col>treatment</th><th scope=col>deathrate</th></tr>\n",
       "\t<tr><th scope=col>&lt;dbl&gt;</th><th scope=col>&lt;chr&gt;</th><th scope=col>&lt;chr&gt;</th><th scope=col>&lt;dbl&gt;</th></tr>\n",
       "</thead>\n",
       "<tbody>\n",
       "\t<tr><td>1849</td><td>Non-Lambeth Only</td><td>Dirty              </td><td>134.9</td></tr>\n",
       "\t<tr><td>1849</td><td>Lambeth + Others</td><td>Mix Dirty and Clean</td><td>130.1</td></tr>\n",
       "\t<tr><td>1854</td><td>Non-Lambeth Only</td><td>Dirty              </td><td>146.6</td></tr>\n",
       "\t<tr><td>1854</td><td>Lambeth + Others</td><td>Mix Dirty and Clean</td><td> 84.9</td></tr>\n",
       "</tbody>\n",
       "</table>\n"
      ],
      "text/latex": [
       "A tibble: 4 × 4\n",
       "\\begin{tabular}{llll}\n",
       " year & supplier & treatment & deathrate\\\\\n",
       " <dbl> & <chr> & <chr> & <dbl>\\\\\n",
       "\\hline\n",
       "\t 1849 & Non-Lambeth Only & Dirty               & 134.9\\\\\n",
       "\t 1849 & Lambeth + Others & Mix Dirty and Clean & 130.1\\\\\n",
       "\t 1854 & Non-Lambeth Only & Dirty               & 146.6\\\\\n",
       "\t 1854 & Lambeth + Others & Mix Dirty and Clean &  84.9\\\\\n",
       "\\end{tabular}\n"
      ],
      "text/markdown": [
       "\n",
       "A tibble: 4 × 4\n",
       "\n",
       "| year &lt;dbl&gt; | supplier &lt;chr&gt; | treatment &lt;chr&gt; | deathrate &lt;dbl&gt; |\n",
       "|---|---|---|---|\n",
       "| 1849 | Non-Lambeth Only | Dirty               | 134.9 |\n",
       "| 1849 | Lambeth + Others | Mix Dirty and Clean | 130.1 |\n",
       "| 1854 | Non-Lambeth Only | Dirty               | 146.6 |\n",
       "| 1854 | Lambeth + Others | Mix Dirty and Clean |  84.9 |\n",
       "\n"
      ],
      "text/plain": [
       "  year supplier         treatment           deathrate\n",
       "1 1849 Non-Lambeth Only Dirty               134.9    \n",
       "2 1849 Lambeth + Others Mix Dirty and Clean 130.1    \n",
       "3 1854 Non-Lambeth Only Dirty               146.6    \n",
       "4 1854 Lambeth + Others Mix Dirty and Clean  84.9    "
      ]
     },
     "metadata": {},
     "output_type": "display_data"
    }
   ],
   "source": [
    "# test of significance\n",
    "library(causaldata)\n",
    "data(snow)\n",
    "snow"
   ]
  },
  {
   "cell_type": "markdown",
   "id": "6fd9b3ee",
   "metadata": {
    "slideshow": {
     "slide_type": "slide"
    }
   },
   "source": [
    "## Snow's analysis in modern terms\n",
    "\n",
    "- $y_i=1$ if individual $i$ dies of cholera, 0 otherwise."
   ]
  },
  {
   "cell_type": "markdown",
   "id": "6d4199a1",
   "metadata": {
    "slideshow": {
     "slide_type": "fragment"
    }
   },
   "source": [
    "- $w_i=1$ if $i$'s water supply is impure, 0 otherewise."
   ]
  },
  {
   "cell_type": "markdown",
   "id": "a2b6f02a",
   "metadata": {
    "slideshow": {
     "slide_type": "fragment"
    }
   },
   "source": [
    "- Just compute $\\operatorname{cor}(y, w)$?"
   ]
  },
  {
   "cell_type": "markdown",
   "id": "acc53637",
   "metadata": {
    "slideshow": {
     "slide_type": "slide"
    }
   },
   "source": [
    "### As regression\n",
    "- Equivalently, fit the model: $y_i = \\alpha + \\beta w_i + u_i$\n",
    "    - $u_i$ are all the other unobservable factors that influence death (poverty, lifestyle, competing hypotheses like miasma, etc.)\n",
    "    - $\\beta$ is the increase in mortality if $w_i:0\\to 1$.\n",
    "- What could go wrong?"
   ]
  },
  {
   "cell_type": "markdown",
   "id": "7d500a0d",
   "metadata": {
    "slideshow": {
     "slide_type": "slide"
    }
   },
   "source": [
    "$$\\mathbb{E}(y_i \\mid w_i=1) - \\mathbb{E}(y_i \\mid w_i=0) = ?$$"
   ]
  },
  {
   "cell_type": "markdown",
   "id": "9c06de1d",
   "metadata": {
    "slideshow": {
     "slide_type": "slide"
    }
   },
   "source": [
    "### Second attempt\n",
    "\n",
    "- Let $z_i=1$ if the person drank water from Southwark/Vauxhall and $z_i=0$ if they drank water from Lambeth.\n",
    "- Now take expectation with respect to $z_i=1/0$.\n",
    "\n",
    "$$\\mathbb{E}(y_i \\mid z_i=1) - \\mathbb{E}(y_i \\mid z_i=0) = ?$$"
   ]
  },
  {
   "cell_type": "markdown",
   "id": "c2d88ce0",
   "metadata": {
    "slideshow": {
     "slide_type": "slide"
    }
   },
   "source": [
    "### Assumptions\n",
    "\n",
    "What assumptions did we make (implicitily or explicitly) when deriving this estimator? \n",
    "\n",
    "- $\\mathbb{E}(w_i \\mid z_i=1) \\neq \\mathbb{E}(w_i \\mid z_i=0)$\n",
    "- $\\mathbb{E}(u_i \\mid z_i=1) = \\mathbb{E}(u_i \\mid z_i=0)$\n",
    "- Water company only affects mortality through water purity.\n",
    "\n",
    "Concretely, what do these assumptions mean for the data that Snow analyzed?"
   ]
  },
  {
   "cell_type": "markdown",
   "id": "d729daea",
   "metadata": {
    "slideshow": {
     "slide_type": "slide"
    }
   },
   "source": [
    "## Yule on pauperism\n",
    "\n",
    "- Poverty rates in England increased dramatically during the Victorian era."
   ]
  },
  {
   "cell_type": "markdown",
   "id": "249181f2",
   "metadata": {
    "slideshow": {
     "slide_type": "fragment"
    }
   },
   "source": [
    "- Emerging industrial economy lowered wages, increased population growth, and decreased the prospects for stable employment."
   ]
  },
  {
   "cell_type": "markdown",
   "id": "a0cf748a",
   "metadata": {
    "slideshow": {
     "slide_type": "slide"
    }
   },
   "source": [
    "### Victorian poor houses\n",
    "\n",
    "- Poor people/\"paupers\" in England were supported either:\n",
    "    - Inside “poor-houses”;\n",
    "    - Outside poor-houses, according to local policy."
   ]
  },
  {
   "cell_type": "markdown",
   "id": "e8b54d13",
   "metadata": {
    "slideshow": {
     "slide_type": "fragment"
    }
   },
   "source": [
    "- There was a debate about whether poor houses increased or decreased pauperism."
   ]
  },
  {
   "cell_type": "markdown",
   "id": "805aa76a",
   "metadata": {
    "slideshow": {
     "slide_type": "fragment"
    }
   },
   "source": [
    "- Yule studied how these policies affected rates of pauperism."
   ]
  },
  {
   "cell_type": "code",
   "execution_count": 47,
   "id": "849f9f46",
   "metadata": {
    "slideshow": {
     "slide_type": "slide"
    }
   },
   "outputs": [
    {
     "data": {
      "text/plain": [
       "\n",
       "Call:\n",
       "lm(formula = paup ~ outrelief + old + pop, data = yule)\n",
       "\n",
       "Residuals:\n",
       "    Min      1Q  Median      3Q     Max \n",
       "-17.475  -5.311  -1.829   3.132  25.335 \n",
       "\n",
       "Coefficients:\n",
       "            Estimate Std. Error t value Pr(>|t|)    \n",
       "(Intercept) 63.18774   27.14388   2.328   0.0274 *  \n",
       "outrelief    0.75209    0.13499   5.572 5.83e-06 ***\n",
       "old          0.05560    0.22336   0.249   0.8052    \n",
       "pop         -0.31074    0.06685  -4.648 7.25e-05 ***\n",
       "---\n",
       "Signif. codes:  0 ‘***’ 0.001 ‘**’ 0.01 ‘*’ 0.05 ‘.’ 0.1 ‘ ’ 1\n",
       "\n",
       "Residual standard error: 9.547 on 28 degrees of freedom\n",
       "Multiple R-squared:  0.6972,\tAdjusted R-squared:  0.6647 \n",
       "F-statistic: 21.49 on 3 and 28 DF,  p-value: 2.001e-07\n"
      ]
     },
     "metadata": {},
     "output_type": "display_data"
    }
   ],
   "source": [
    "# yule's regression"
   ]
  },
  {
   "cell_type": "markdown",
   "id": "8e9c055c",
   "metadata": {
    "slideshow": {
     "slide_type": "slide"
    }
   },
   "source": [
    "## Discussion 🙋‍♀️\n",
    "- Does Yule establish causation or association?\n",
    "- What sort of factors could confound the causal interpretation?\n",
    "- Can you think of a way to measure the *causal* effect?"
   ]
  }
 ],
 "metadata": {
  "celltoolbar": "Slideshow",
  "jupytext": {
   "formats": "ipynb,md:myst",
   "notebook_metadata_filter": "all"
  },
  "kernelspec": {
   "display_name": "R",
   "language": "R",
   "name": "ir"
  },
  "language_info": {
   "codemirror_mode": "r",
   "file_extension": ".r",
   "mimetype": "text/x-r-source",
   "name": "R",
   "pygments_lexer": "r",
   "version": "4.2.1"
  },
  "rise": {
   "auto_select": "none",
   "autolaunch": true,
   "center": false,
   "controls": false,
   "enable_chalkboard": true,
   "progress": false,
   "scroll": true,
   "slideNumber": false,
   "theme": "simple",
   "transition": "none"
  },
  "toc-showtags": true
 },
 "nbformat": 4,
 "nbformat_minor": 5
}
