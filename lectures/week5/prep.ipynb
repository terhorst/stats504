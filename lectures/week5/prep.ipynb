{
 "cells": [
  {
   "cell_type": "markdown",
   "id": "8f27f7d7",
   "metadata": {
    "slideshow": {
     "slide_type": "slide"
    }
   },
   "source": [
    "To import the raw data in FITS format, I will use the [Astropy](https://www.astropy.org) package."
   ]
  },
  {
   "cell_type": "code",
   "execution_count": 9,
   "id": "0ddd8f5d",
   "metadata": {
    "slideshow": {
     "slide_type": "-"
    }
   },
   "outputs": [],
   "source": [
    "# pip install astropy lxml"
   ]
  },
  {
   "cell_type": "code",
   "execution_count": 10,
   "id": "6703f759",
   "metadata": {},
   "outputs": [],
   "source": [
    "from astropy.io import fits"
   ]
  },
  {
   "cell_type": "code",
   "execution_count": 11,
   "id": "b8d9bd08",
   "metadata": {
    "slideshow": {
     "slide_type": "slide"
    }
   },
   "outputs": [],
   "source": [
    "import os\n",
    "import requests\n",
    "\n",
    "base_url = \"https://umbra.nascom.nasa.gov/goes/fits\""
   ]
  },
  {
   "cell_type": "markdown",
   "id": "d3a025d7",
   "metadata": {
    "slideshow": {
     "slide_type": "slide"
    }
   },
   "source": [
    "- As we will see, importing even one year of data is challenging. \n",
    "- For this example I will focus on the year 2018."
   ]
  },
  {
   "cell_type": "code",
   "execution_count": null,
   "id": "fa0d26b8",
   "metadata": {},
   "outputs": [],
   "source": [
    "Important"
   ]
  },
  {
   "cell_type": "code",
   "execution_count": 12,
   "id": "efaad5d5",
   "metadata": {
    "slideshow": {
     "slide_type": "slide"
    }
   },
   "outputs": [],
   "source": [
    "import pandas as pd\n",
    "import numpy as np\n",
    "year = 2018\n",
    "df = pd.read_html(f\"{base_url}/{year}\")[0][[\"Name\"]].dropna()\n",
    "files = df[\"Name\"][df[\"Name\"].str.endswith(\"fits\")]"
   ]
  },
  {
   "cell_type": "code",
   "execution_count": 3,
   "id": "16489ba6",
   "metadata": {
    "slideshow": {
     "slide_type": "slide"
    }
   },
   "outputs": [],
   "source": [
    "f = fits.open('fits/go1020050101.fits')"
   ]
  },
  {
   "cell_type": "code",
   "execution_count": 18,
   "id": "cfc95222",
   "metadata": {},
   "outputs": [
    {
     "data": {
      "text/plain": [
       "array([[[1.2839962e-07, 5.1667759e-09],\n",
       "        [1.2717541e-07, 5.0859854e-09],\n",
       "        [1.2924733e-07, 5.0656310e-09],\n",
       "        ...,\n",
       "        [1.8686031e-07, 3.8584749e-09],\n",
       "        [1.8686031e-07, 3.4860725e-09],\n",
       "        [1.8685836e-07, 3.4859755e-09]]], dtype='>f4')"
      ]
     },
     "execution_count": 18,
     "metadata": {},
     "output_type": "execute_result"
    }
   ],
   "source": [
    "f[\"FLUXES\"].data[\"FLUX\"]"
   ]
  },
  {
   "cell_type": "code",
   "execution_count": 57,
   "id": "f0683bb2",
   "metadata": {
    "slideshow": {
     "slide_type": "slide"
    }
   },
   "outputs": [],
   "source": [
    "import urllib.request\n",
    "xl = []\n",
    "for file in files:\n",
    "    month = int(file[:-5][-4:-2])\n",
    "    day = int(file[:-5][-2:])\n",
    "    urllib.request.urlretrieve(f\"{base_url}/{year}/{file}\", file)\n",
    "    with fits.open(file) as io:\n",
    "        fld = np.asarray(io[\"FLUXES\"].data)\n",
    "        # The time unit is seconds from midnight UTC, observations\n",
    "        # are approximately once every two seconds\n",
    "        tim = fld[\"Time\"][0,:]\n",
    "        # The flux levels in watts per square meter\n",
    "        flx = fld[\"Flux\"][0,:,:]\n",
    "        x = np.hstack((tim[:, None], flx))\n",
    "        x = pd.DataFrame(x, columns=[\"Time\", \"Flux1\", \"Flux2\"])\n",
    "        x[\"Year\"] = year\n",
    "        x[\"Month\"] = month\n",
    "        x[\"Day\"] = day\n",
    "        x = x[[\"Year\", \"Month\", \"Day\", \"Time\", \"Flux1\", \"Flux2\"]]\n",
    "        xl.append(x)"
   ]
  },
  {
   "cell_type": "code",
   "execution_count": 13,
   "id": "db13c2ae",
   "metadata": {
    "slideshow": {
     "slide_type": "slide"
    }
   },
   "outputs": [
    {
     "ename": "NameError",
     "evalue": "name 'xl' is not defined",
     "output_type": "error",
     "traceback": [
      "\u001b[0;31m---------------------------------------------------------------------------\u001b[0m",
      "\u001b[0;31mNameError\u001b[0m                                 Traceback (most recent call last)",
      "Cell \u001b[0;32mIn[13], line 1\u001b[0m\n\u001b[0;32m----> 1\u001b[0m df \u001b[38;5;241m=\u001b[39m pd\u001b[38;5;241m.\u001b[39mconcat(\u001b[43mxl\u001b[49m, axis\u001b[38;5;241m=\u001b[39m\u001b[38;5;241m0\u001b[39m)\n\u001b[1;32m      2\u001b[0m df\n",
      "\u001b[0;31mNameError\u001b[0m: name 'xl' is not defined"
     ]
    }
   ],
   "source": [
    "df = pd.concat(xl, axis=0)\n",
    "df"
   ]
  },
  {
   "cell_type": "code",
   "execution_count": 74,
   "id": "a7ec6b71",
   "metadata": {
    "slideshow": {
     "slide_type": "slide"
    }
   },
   "outputs": [],
   "source": [
    "df12 = df[df[\"Month\"] == 12]\n",
    "df12.to_csv(\"goes_2018_12.csv.gz\")"
   ]
  }
 ],
 "metadata": {
  "celltoolbar": "Slideshow",
  "kernelspec": {
   "display_name": "Python 3 (ipykernel)",
   "language": "python",
   "name": "python3"
  },
  "language_info": {
   "codemirror_mode": {
    "name": "ipython",
    "version": 3
   },
   "file_extension": ".py",
   "mimetype": "text/x-python",
   "name": "python",
   "nbconvert_exporter": "python",
   "pygments_lexer": "ipython3",
   "version": "3.10.12"
  }
 },
 "nbformat": 4,
 "nbformat_minor": 5
}
