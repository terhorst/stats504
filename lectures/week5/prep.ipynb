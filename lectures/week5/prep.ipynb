{
 "cells": [
  {
   "cell_type": "markdown",
   "id": "8f27f7d7",
   "metadata": {
    "slideshow": {
     "slide_type": "slide"
    }
   },
   "source": [
    "To import the raw data in FITS format, I will use the [Astropy](https://www.astropy.org) package."
   ]
  },
  {
   "cell_type": "code",
   "execution_count": 1,
   "id": "0ddd8f5d",
   "metadata": {
    "slideshow": {
     "slide_type": "-"
    }
   },
   "outputs": [],
   "source": [
    "# pip install astropy\n",
    "from astropy.io import fits"
   ]
  },
  {
   "cell_type": "code",
   "execution_count": 9,
   "id": "b8d9bd08",
   "metadata": {
    "slideshow": {
     "slide_type": "slide"
    }
   },
   "outputs": [],
   "source": [
    "import os\n",
    "import requests\n",
    "\n",
    "base_url = \"https://umbra.nascom.nasa.gov/goes/fits\""
   ]
  },
  {
   "cell_type": "markdown",
   "id": "d3a025d7",
   "metadata": {
    "slideshow": {
     "slide_type": "slide"
    }
   },
   "source": [
    "- As we will see, importing even one year of data is challenging. \n",
    "- For this example I will focus on the year 2018."
   ]
  },
  {
   "cell_type": "code",
   "execution_count": 45,
   "id": "efaad5d5",
   "metadata": {
    "slideshow": {
     "slide_type": "slide"
    }
   },
   "outputs": [],
   "source": [
    "import pandas as pd\n",
    "import numpy as np\n",
    "year = 2018\n",
    "df = pd.read_html(f\"{base_url}/{year}\")[0][[\"Name\"]].dropna()\n",
    "files = df[\"Name\"][df[\"Name\"].str.endswith(\"fits\")]"
   ]
  },
  {
   "cell_type": "code",
   "execution_count": 3,
   "id": "16489ba6",
   "metadata": {
    "slideshow": {
     "slide_type": "slide"
    }
   },
   "outputs": [],
   "source": [
    "f = fits.open('fits/go1020050101.fits')"
   ]
  },
  {
   "cell_type": "code",
   "execution_count": 18,
   "id": "cfc95222",
   "metadata": {},
   "outputs": [
    {
     "data": {
      "text/plain": [
       "array([[[1.2839962e-07, 5.1667759e-09],\n",
       "        [1.2717541e-07, 5.0859854e-09],\n",
       "        [1.2924733e-07, 5.0656310e-09],\n",
       "        ...,\n",
       "        [1.8686031e-07, 3.8584749e-09],\n",
       "        [1.8686031e-07, 3.4860725e-09],\n",
       "        [1.8685836e-07, 3.4859755e-09]]], dtype='>f4')"
      ]
     },
     "execution_count": 18,
     "metadata": {},
     "output_type": "execute_result"
    }
   ],
   "source": [
    "f[\"FLUXES\"].data[\"FLUX\"]"
   ]
  },
  {
   "cell_type": "code",
   "execution_count": 57,
   "id": "f0683bb2",
   "metadata": {
    "slideshow": {
     "slide_type": "slide"
    }
   },
   "outputs": [],
   "source": [
    "import urllib.request\n",
    "xl = []\n",
    "for file in files:\n",
    "    month = int(file[:-5][-4:-2])\n",
    "    day = int(file[:-5][-2:])\n",
    "    urllib.request.urlretrieve(f\"{base_url}/{year}/{file}\", file)\n",
    "    with fits.open(file) as io:\n",
    "        fld = np.asarray(io[\"FLUXES\"].data)\n",
    "        # The time unit is seconds from midnight UTC, observations\n",
    "        # are approximately once every two seconds\n",
    "        tim = fld[\"Time\"][0,:]\n",
    "        # The flux levels in watts per square meter\n",
    "        flx = fld[\"Flux\"][0,:,:]\n",
    "        x = np.hstack((tim[:, None], flx))\n",
    "        x = pd.DataFrame(x, columns=[\"Time\", \"Flux1\", \"Flux2\"])\n",
    "        x[\"Year\"] = year\n",
    "        x[\"Month\"] = month\n",
    "        x[\"Day\"] = day\n",
    "        x = x[[\"Year\", \"Month\", \"Day\", \"Time\", \"Flux1\", \"Flux2\"]]\n",
    "        xl.append(x)"
   ]
  },
  {
   "cell_type": "code",
   "execution_count": 58,
   "id": "db13c2ae",
   "metadata": {
    "slideshow": {
     "slide_type": "slide"
    }
   },
   "outputs": [
    {
     "data": {
      "text/html": [
       "<div>\n",
       "<style scoped>\n",
       "    .dataframe tbody tr th:only-of-type {\n",
       "        vertical-align: middle;\n",
       "    }\n",
       "\n",
       "    .dataframe tbody tr th {\n",
       "        vertical-align: top;\n",
       "    }\n",
       "\n",
       "    .dataframe thead th {\n",
       "        text-align: right;\n",
       "    }\n",
       "</style>\n",
       "<table border=\"1\" class=\"dataframe\">\n",
       "  <thead>\n",
       "    <tr style=\"text-align: right;\">\n",
       "      <th></th>\n",
       "      <th>Year</th>\n",
       "      <th>Month</th>\n",
       "      <th>Day</th>\n",
       "      <th>Time</th>\n",
       "      <th>Flux1</th>\n",
       "      <th>Flux2</th>\n",
       "    </tr>\n",
       "  </thead>\n",
       "  <tbody>\n",
       "    <tr>\n",
       "      <th>0</th>\n",
       "      <td>2018</td>\n",
       "      <td>1</td>\n",
       "      <td>1</td>\n",
       "      <td>-1.021</td>\n",
       "      <td>3.705000e-08</td>\n",
       "      <td>1.178400e-08</td>\n",
       "    </tr>\n",
       "    <tr>\n",
       "      <th>1</th>\n",
       "      <td>2018</td>\n",
       "      <td>1</td>\n",
       "      <td>1</td>\n",
       "      <td>1.025</td>\n",
       "      <td>3.705000e-08</td>\n",
       "      <td>1.120500e-08</td>\n",
       "    </tr>\n",
       "    <tr>\n",
       "      <th>2</th>\n",
       "      <td>2018</td>\n",
       "      <td>1</td>\n",
       "      <td>1</td>\n",
       "      <td>3.072</td>\n",
       "      <td>3.705000e-08</td>\n",
       "      <td>1.294000e-08</td>\n",
       "    </tr>\n",
       "    <tr>\n",
       "      <th>3</th>\n",
       "      <td>2018</td>\n",
       "      <td>1</td>\n",
       "      <td>1</td>\n",
       "      <td>5.122</td>\n",
       "      <td>3.191700e-08</td>\n",
       "      <td>1.351900e-08</td>\n",
       "    </tr>\n",
       "    <tr>\n",
       "      <th>4</th>\n",
       "      <td>2018</td>\n",
       "      <td>1</td>\n",
       "      <td>1</td>\n",
       "      <td>7.169</td>\n",
       "      <td>2.935100e-08</td>\n",
       "      <td>1.351900e-08</td>\n",
       "    </tr>\n",
       "    <tr>\n",
       "      <th>...</th>\n",
       "      <td>...</td>\n",
       "      <td>...</td>\n",
       "      <td>...</td>\n",
       "      <td>...</td>\n",
       "      <td>...</td>\n",
       "      <td>...</td>\n",
       "    </tr>\n",
       "    <tr>\n",
       "      <th>42162</th>\n",
       "      <td>2018</td>\n",
       "      <td>12</td>\n",
       "      <td>31</td>\n",
       "      <td>86388.529</td>\n",
       "      <td>1.032900e-08</td>\n",
       "      <td>1.274700e-08</td>\n",
       "    </tr>\n",
       "    <tr>\n",
       "      <th>42163</th>\n",
       "      <td>2018</td>\n",
       "      <td>12</td>\n",
       "      <td>31</td>\n",
       "      <td>86390.579</td>\n",
       "      <td>7.705800e-09</td>\n",
       "      <td>1.386100e-08</td>\n",
       "    </tr>\n",
       "    <tr>\n",
       "      <th>42164</th>\n",
       "      <td>2018</td>\n",
       "      <td>12</td>\n",
       "      <td>31</td>\n",
       "      <td>86392.625</td>\n",
       "      <td>7.705800e-09</td>\n",
       "      <td>1.386100e-08</td>\n",
       "    </tr>\n",
       "    <tr>\n",
       "      <th>42165</th>\n",
       "      <td>2018</td>\n",
       "      <td>12</td>\n",
       "      <td>31</td>\n",
       "      <td>86394.675</td>\n",
       "      <td>7.705800e-09</td>\n",
       "      <td>1.051800e-08</td>\n",
       "    </tr>\n",
       "    <tr>\n",
       "      <th>42166</th>\n",
       "      <td>2018</td>\n",
       "      <td>12</td>\n",
       "      <td>31</td>\n",
       "      <td>86396.722</td>\n",
       "      <td>7.705800e-09</td>\n",
       "      <td>1.051800e-08</td>\n",
       "    </tr>\n",
       "  </tbody>\n",
       "</table>\n",
       "<p>30234939 rows × 6 columns</p>\n",
       "</div>"
      ],
      "text/plain": [
       "       Year  Month  Day       Time         Flux1         Flux2\n",
       "0      2018      1    1     -1.021  3.705000e-08  1.178400e-08\n",
       "1      2018      1    1      1.025  3.705000e-08  1.120500e-08\n",
       "2      2018      1    1      3.072  3.705000e-08  1.294000e-08\n",
       "3      2018      1    1      5.122  3.191700e-08  1.351900e-08\n",
       "4      2018      1    1      7.169  2.935100e-08  1.351900e-08\n",
       "...     ...    ...  ...        ...           ...           ...\n",
       "42162  2018     12   31  86388.529  1.032900e-08  1.274700e-08\n",
       "42163  2018     12   31  86390.579  7.705800e-09  1.386100e-08\n",
       "42164  2018     12   31  86392.625  7.705800e-09  1.386100e-08\n",
       "42165  2018     12   31  86394.675  7.705800e-09  1.051800e-08\n",
       "42166  2018     12   31  86396.722  7.705800e-09  1.051800e-08\n",
       "\n",
       "[30234939 rows x 6 columns]"
      ]
     },
     "execution_count": 58,
     "metadata": {},
     "output_type": "execute_result"
    }
   ],
   "source": [
    "df = pd.concat(xl, axis=0)\n",
    "df"
   ]
  },
  {
   "cell_type": "code",
   "execution_count": 74,
   "id": "a7ec6b71",
   "metadata": {
    "slideshow": {
     "slide_type": "slide"
    }
   },
   "outputs": [],
   "source": [
    "df12 = df[df[\"Month\"] == 12]\n",
    "df12.to_csv(\"goes_2018_12.csv.gz\")"
   ]
  }
 ],
 "metadata": {
  "celltoolbar": "Slideshow",
  "kernelspec": {
   "display_name": "Python 3 (ipykernel)",
   "language": "python",
   "name": "python3"
  },
  "language_info": {
   "codemirror_mode": {
    "name": "ipython",
    "version": 3
   },
   "file_extension": ".py",
   "mimetype": "text/x-python",
   "name": "python",
   "nbconvert_exporter": "python",
   "pygments_lexer": "ipython3",
   "version": "3.10.12"
  }
 },
 "nbformat": 4,
 "nbformat_minor": 5
}
